{
 "cells": [
  {
   "cell_type": "markdown",
   "metadata": {},
   "source": [
    "# Классификация клиентов телеком-компании"
   ]
  },
  {
   "cell_type": "markdown",
   "metadata": {},
   "source": [
    "**Описание проекта:** Есть данные о поведении клиентов, которые перешли  тарифы «Смарт» и «Ультра». Нужно построить модель  классификации, которая выберет для клиента подходящий тариф. Данные уже предобработаны. \n",
    "\n",
    "**Цель проекта:** провести исследование нескольких моделей классификации с различными гиперпараметрами и определить лучшую модель. Значение доли правильных ответов (`accuracy`) на тестовой выборке должно быть не меньше `0.75`.\n",
    "\n",
    "**Используемые данные:** информация об использовании разных видов трафика (в месяц) клиентами каждого тарифа.\n",
    "* `calls` — количество звонков, совершённых клиентом;\n",
    "* `minutes` — количество минут, потраченных клиентом;\n",
    "* `messages` — количество сообщений, отправленных клиентом;\n",
    "* `mb_used` — количество МБайт интернет-трафика, использованных клиентом;\n",
    "* `is_ultra` — какой тариф использует клиент(`1` —  тариф «Ультра», `0` —  тариф «Смарт»).\n",
    "\n",
    "## Оглавление\n",
    "1. [Изучение данных](#1)\n",
    "2. [Разделение данных на выборки](#2)\n",
    "3. [Исследование моделей](#3)\n",
    "4. [Проверка модели на тестовой выборке](#4)\n",
    "5. [Проверка модели на адекватность](#5)\n",
    "\n",
    "<a id=\"1\"></a>\n",
    "## 1. Изучение данных\n",
    "Импортируем необходимые модули и классы, открываем файл и проверяем, что данные считались успешно."
   ]
  },
  {
   "cell_type": "code",
   "execution_count": 1,
   "metadata": {},
   "outputs": [],
   "source": [
    "from sklearn.dummy import DummyClassifier\n",
    "from sklearn.ensemble import RandomForestClassifier\n",
    "from sklearn.linear_model import LogisticRegression\n",
    "from sklearn.metrics import accuracy_score\n",
    "from sklearn.model_selection import train_test_split, GridSearchCV\n",
    "from sklearn.pipeline import Pipeline\n",
    "from sklearn.preprocessing import StandardScaler\n",
    "import pandas as pd"
   ]
  },
  {
   "cell_type": "code",
   "execution_count": 2,
   "metadata": {},
   "outputs": [
    {
     "data": {
      "text/html": [
       "<div>\n",
       "<style scoped>\n",
       "    .dataframe tbody tr th:only-of-type {\n",
       "        vertical-align: middle;\n",
       "    }\n",
       "\n",
       "    .dataframe tbody tr th {\n",
       "        vertical-align: top;\n",
       "    }\n",
       "\n",
       "    .dataframe thead th {\n",
       "        text-align: right;\n",
       "    }\n",
       "</style>\n",
       "<table border=\"1\" class=\"dataframe\">\n",
       "  <thead>\n",
       "    <tr style=\"text-align: right;\">\n",
       "      <th></th>\n",
       "      <th>calls</th>\n",
       "      <th>minutes</th>\n",
       "      <th>messages</th>\n",
       "      <th>mb_used</th>\n",
       "      <th>is_ultra</th>\n",
       "    </tr>\n",
       "  </thead>\n",
       "  <tbody>\n",
       "    <tr>\n",
       "      <th>0</th>\n",
       "      <td>40.0</td>\n",
       "      <td>311.90</td>\n",
       "      <td>83.0</td>\n",
       "      <td>19915.42</td>\n",
       "      <td>0</td>\n",
       "    </tr>\n",
       "    <tr>\n",
       "      <th>1</th>\n",
       "      <td>85.0</td>\n",
       "      <td>516.75</td>\n",
       "      <td>56.0</td>\n",
       "      <td>22696.96</td>\n",
       "      <td>0</td>\n",
       "    </tr>\n",
       "    <tr>\n",
       "      <th>2</th>\n",
       "      <td>77.0</td>\n",
       "      <td>467.66</td>\n",
       "      <td>86.0</td>\n",
       "      <td>21060.45</td>\n",
       "      <td>0</td>\n",
       "    </tr>\n",
       "    <tr>\n",
       "      <th>3</th>\n",
       "      <td>106.0</td>\n",
       "      <td>745.53</td>\n",
       "      <td>81.0</td>\n",
       "      <td>8437.39</td>\n",
       "      <td>1</td>\n",
       "    </tr>\n",
       "    <tr>\n",
       "      <th>4</th>\n",
       "      <td>66.0</td>\n",
       "      <td>418.74</td>\n",
       "      <td>1.0</td>\n",
       "      <td>14502.75</td>\n",
       "      <td>0</td>\n",
       "    </tr>\n",
       "  </tbody>\n",
       "</table>\n",
       "</div>"
      ],
      "text/plain": [
       "   calls  minutes  messages   mb_used  is_ultra\n",
       "0   40.0   311.90      83.0  19915.42         0\n",
       "1   85.0   516.75      56.0  22696.96         0\n",
       "2   77.0   467.66      86.0  21060.45         0\n",
       "3  106.0   745.53      81.0   8437.39         1\n",
       "4   66.0   418.74       1.0  14502.75         0"
      ]
     },
     "execution_count": 2,
     "metadata": {},
     "output_type": "execute_result"
    }
   ],
   "source": [
    "data = pd.read_csv(\"/datasets/users_behavior.csv\")\n",
    "data.head()"
   ]
  },
  {
   "cell_type": "markdown",
   "metadata": {},
   "source": [
    "Посмотрим на общую информацию о данных."
   ]
  },
  {
   "cell_type": "code",
   "execution_count": 3,
   "metadata": {},
   "outputs": [
    {
     "name": "stdout",
     "output_type": "stream",
     "text": [
      "<class 'pandas.core.frame.DataFrame'>\n",
      "RangeIndex: 3214 entries, 0 to 3213\n",
      "Data columns (total 5 columns):\n",
      " #   Column    Non-Null Count  Dtype  \n",
      "---  ------    --------------  -----  \n",
      " 0   calls     3214 non-null   float64\n",
      " 1   minutes   3214 non-null   float64\n",
      " 2   messages  3214 non-null   float64\n",
      " 3   mb_used   3214 non-null   float64\n",
      " 4   is_ultra  3214 non-null   int64  \n",
      "dtypes: float64(4), int64(1)\n",
      "memory usage: 125.7 KB\n"
     ]
    }
   ],
   "source": [
    "data.info()"
   ]
  },
  {
   "cell_type": "markdown",
   "metadata": {},
   "source": [
    "Пропусков в данных нет, приводить данные к каким-то другим типам нет необходимости. Посмотрим на статистические характеристики данных."
   ]
  },
  {
   "cell_type": "code",
   "execution_count": 4,
   "metadata": {
    "scrolled": true
   },
   "outputs": [
    {
     "data": {
      "text/html": [
       "<div>\n",
       "<style scoped>\n",
       "    .dataframe tbody tr th:only-of-type {\n",
       "        vertical-align: middle;\n",
       "    }\n",
       "\n",
       "    .dataframe tbody tr th {\n",
       "        vertical-align: top;\n",
       "    }\n",
       "\n",
       "    .dataframe thead th {\n",
       "        text-align: right;\n",
       "    }\n",
       "</style>\n",
       "<table border=\"1\" class=\"dataframe\">\n",
       "  <thead>\n",
       "    <tr style=\"text-align: right;\">\n",
       "      <th></th>\n",
       "      <th>count</th>\n",
       "      <th>mean</th>\n",
       "      <th>std</th>\n",
       "      <th>min</th>\n",
       "      <th>25%</th>\n",
       "      <th>50%</th>\n",
       "      <th>75%</th>\n",
       "      <th>max</th>\n",
       "    </tr>\n",
       "  </thead>\n",
       "  <tbody>\n",
       "    <tr>\n",
       "      <th>calls</th>\n",
       "      <td>3214.0</td>\n",
       "      <td>63.038892</td>\n",
       "      <td>33.236368</td>\n",
       "      <td>0.0</td>\n",
       "      <td>40.0000</td>\n",
       "      <td>62.000</td>\n",
       "      <td>82.0000</td>\n",
       "      <td>244.00</td>\n",
       "    </tr>\n",
       "    <tr>\n",
       "      <th>minutes</th>\n",
       "      <td>3214.0</td>\n",
       "      <td>438.208787</td>\n",
       "      <td>234.569872</td>\n",
       "      <td>0.0</td>\n",
       "      <td>274.5750</td>\n",
       "      <td>430.600</td>\n",
       "      <td>571.9275</td>\n",
       "      <td>1632.06</td>\n",
       "    </tr>\n",
       "    <tr>\n",
       "      <th>messages</th>\n",
       "      <td>3214.0</td>\n",
       "      <td>38.281269</td>\n",
       "      <td>36.148326</td>\n",
       "      <td>0.0</td>\n",
       "      <td>9.0000</td>\n",
       "      <td>30.000</td>\n",
       "      <td>57.0000</td>\n",
       "      <td>224.00</td>\n",
       "    </tr>\n",
       "    <tr>\n",
       "      <th>mb_used</th>\n",
       "      <td>3214.0</td>\n",
       "      <td>17207.673836</td>\n",
       "      <td>7570.968246</td>\n",
       "      <td>0.0</td>\n",
       "      <td>12491.9025</td>\n",
       "      <td>16943.235</td>\n",
       "      <td>21424.7000</td>\n",
       "      <td>49745.73</td>\n",
       "    </tr>\n",
       "    <tr>\n",
       "      <th>is_ultra</th>\n",
       "      <td>3214.0</td>\n",
       "      <td>0.306472</td>\n",
       "      <td>0.461100</td>\n",
       "      <td>0.0</td>\n",
       "      <td>0.0000</td>\n",
       "      <td>0.000</td>\n",
       "      <td>1.0000</td>\n",
       "      <td>1.00</td>\n",
       "    </tr>\n",
       "  </tbody>\n",
       "</table>\n",
       "</div>"
      ],
      "text/plain": [
       "           count          mean          std  min         25%        50%  \\\n",
       "calls     3214.0     63.038892    33.236368  0.0     40.0000     62.000   \n",
       "minutes   3214.0    438.208787   234.569872  0.0    274.5750    430.600   \n",
       "messages  3214.0     38.281269    36.148326  0.0      9.0000     30.000   \n",
       "mb_used   3214.0  17207.673836  7570.968246  0.0  12491.9025  16943.235   \n",
       "is_ultra  3214.0      0.306472     0.461100  0.0      0.0000      0.000   \n",
       "\n",
       "                 75%       max  \n",
       "calls        82.0000    244.00  \n",
       "minutes     571.9275   1632.06  \n",
       "messages     57.0000    224.00  \n",
       "mb_used   21424.7000  49745.73  \n",
       "is_ultra      1.0000      1.00  "
      ]
     },
     "execution_count": 4,
     "metadata": {},
     "output_type": "execute_result"
    }
   ],
   "source": [
    "data.describe().T"
   ]
  },
  {
   "cell_type": "markdown",
   "metadata": {},
   "source": [
    "Каких-то аномальных значений в данных не видно. Проверим данные на наличие дубликатов."
   ]
  },
  {
   "cell_type": "code",
   "execution_count": 5,
   "metadata": {},
   "outputs": [
    {
     "name": "stdout",
     "output_type": "stream",
     "text": [
      "Количество дубликатов: 0\n"
     ]
    }
   ],
   "source": [
    "print(f\"Количество дубликатов: {data.duplicated().sum()}\")"
   ]
  },
  {
   "cell_type": "markdown",
   "metadata": {},
   "source": [
    "Данные не требуют предобработки, можно переходить к разделению на выборки.\n",
    "\n",
    "<a id=\"2\"></a>\n",
    "## 2. Разделение данных на выборки\n",
    "Разделим данные на обучающую и тестовую."
   ]
  },
  {
   "cell_type": "code",
   "execution_count": 6,
   "metadata": {},
   "outputs": [],
   "source": [
    "X, y = data.drop(columns=\"is_ultra\"), data[\"is_ultra\"]\n",
    "X_train, X_test, y_train, y_test = train_test_split(X, y, test_size=0.2, random_state=42)"
   ]
  },
  {
   "cell_type": "markdown",
   "metadata": {},
   "source": [
    "Данные разбиты на обучающую и тестовую выборки. Теперь можно перейти к исследованию моделей.\n",
    "\n",
    "<a id=\"3\"></a>\n",
    "## 3. Исследование моделей\n",
    "Для исследования выберем два класса моделей: **случайный лес** (`RandomForestClassifier`) и **логистическую регрессию** (`LogisticRegression`). \n",
    "\n",
    "Будем использовать поиск по решётке с перекрёстной проверкой (`GridSearchCV`). Качество получившихся моделей будем оценивать с помощью доли правильных ответов (`accuracy`). Предварительно применим `StandartScaler`, чтобы отмасштабировать данные."
   ]
  },
  {
   "cell_type": "code",
   "execution_count": 7,
   "metadata": {},
   "outputs": [],
   "source": [
    "rf_clf = RandomForestClassifier(class_weight=\"balanced\",\n",
    "                                random_state=42)\n",
    "\n",
    "logreg_clf = LogisticRegression(class_weight=\"balanced\",\n",
    "                                random_state=42)\n",
    "\n",
    "params_logreg_l1 = {\n",
    "    \"classifier__C\": [1, 0.1, 0.01],\n",
    "    \"classifier__penalty\": [\"l1\"],\n",
    "    \"classifier__solver\": [\"liblinear\"],\n",
    "    \"classifier\": [logreg_clf]\n",
    "}\n",
    "\n",
    "params_logreg_l2 = {\n",
    "    \"classifier__C\": [1, 0.1, 0.01],\n",
    "    \"classifier__penalty\": [\"l2\"],\n",
    "    \"classifier\": [logreg_clf]\n",
    "}\n",
    "\n",
    "params_logreg_el = {\n",
    "    \"classifier__C\": [1, 0.1, 0.01],\n",
    "    \"classifier__penalty\": [\"elasticnet\"],\n",
    "    \"classifier__solver\": [\"saga\"],\n",
    "    \"classifier__l1_ratio\": [0.25, 0.5, 0.75],\n",
    "    \"classifier\": [logreg_clf]\n",
    "}\n",
    "\n",
    "params_rf = {\n",
    "    \"classifier__n_estimators\": [100, 200, 300, 400],\n",
    "    \"classifier__max_depth\": [4, 5, 6, 7],\n",
    "    \"classifier__criterion\": [\"gini\", \"entropy\"],\n",
    "    \"classifier\": [rf_clf]\n",
    "}\n",
    "\n",
    "params = [params_rf, params_logreg_l1, params_logreg_l2, params_logreg_el]\n",
    "\n",
    "pipeline = Pipeline([(\"scaler\", StandardScaler()),\n",
    "                     (\"classifier\", rf_clf)])\n",
    "\n",
    "grid_search = GridSearchCV(pipeline, params, scoring=\"accuracy\", n_jobs=-1).fit(X_train, y_train)"
   ]
  },
  {
   "cell_type": "markdown",
   "metadata": {},
   "source": [
    "Обучение моделей завершилось, выведем наилучшую модель на экран:"
   ]
  },
  {
   "cell_type": "code",
   "execution_count": 8,
   "metadata": {},
   "outputs": [
    {
     "name": "stdout",
     "output_type": "stream",
     "text": [
      "Лучшая модель\n"
     ]
    },
    {
     "data": {
      "text/plain": [
       "{'classifier': RandomForestClassifier(class_weight='balanced', criterion='entropy',\n",
       "                        max_depth=6, n_estimators=200, random_state=42),\n",
       " 'classifier__criterion': 'entropy',\n",
       " 'classifier__max_depth': 6,\n",
       " 'classifier__n_estimators': 200}"
      ]
     },
     "execution_count": 8,
     "metadata": {},
     "output_type": "execute_result"
    }
   ],
   "source": [
    "print(\"Лучшая модель\")\n",
    "grid_search.best_params_"
   ]
  },
  {
   "cell_type": "markdown",
   "metadata": {},
   "source": [
    "Для более наглядного представления результатов напишем функцию и произведём дополнительные действия."
   ]
  },
  {
   "cell_type": "code",
   "execution_count": 9,
   "metadata": {},
   "outputs": [],
   "source": [
    "def add_model_class(classifier):\n",
    "    if \"RandomForest\" in str(type(classifier)):\n",
    "        return \"RandomForestClassifier\"\n",
    "    else:\n",
    "        return \"LogisticRegression\"\n",
    "    \n",
    "\n",
    "results = pd.DataFrame(grid_search.cv_results_)\n",
    "results[\"model_class\"] = results[\"param_classifier\"].apply(add_model_class)\n",
    "\n",
    "results = pd.DataFrame(results.groupby(\"model_class\")\n",
    "                              .max(\"mean_test_score\")[\"mean_test_score\"]\n",
    "                              .sort_values(ascending=False))\n",
    "\n",
    "results.columns = [\"Среднее значение accuracy (CV)\"]\n",
    "results.index.name = \"Тип модели\""
   ]
  },
  {
   "cell_type": "code",
   "execution_count": 10,
   "metadata": {},
   "outputs": [
    {
     "data": {
      "text/html": [
       "<div>\n",
       "<style scoped>\n",
       "    .dataframe tbody tr th:only-of-type {\n",
       "        vertical-align: middle;\n",
       "    }\n",
       "\n",
       "    .dataframe tbody tr th {\n",
       "        vertical-align: top;\n",
       "    }\n",
       "\n",
       "    .dataframe thead th {\n",
       "        text-align: right;\n",
       "    }\n",
       "</style>\n",
       "<table border=\"1\" class=\"dataframe\">\n",
       "  <thead>\n",
       "    <tr style=\"text-align: right;\">\n",
       "      <th></th>\n",
       "      <th>Среднее значение accuracy (CV)</th>\n",
       "    </tr>\n",
       "    <tr>\n",
       "      <th>Тип модели</th>\n",
       "      <th></th>\n",
       "    </tr>\n",
       "  </thead>\n",
       "  <tbody>\n",
       "    <tr>\n",
       "      <th>RandomForestClassifier</th>\n",
       "      <td>0.799297</td>\n",
       "    </tr>\n",
       "    <tr>\n",
       "      <th>LogisticRegression</th>\n",
       "      <td>0.639056</td>\n",
       "    </tr>\n",
       "  </tbody>\n",
       "</table>\n",
       "</div>"
      ],
      "text/plain": [
       "                        Среднее значение accuracy (CV)\n",
       "Тип модели                                            \n",
       "RandomForestClassifier                        0.799297\n",
       "LogisticRegression                            0.639056"
      ]
     },
     "execution_count": 10,
     "metadata": {},
     "output_type": "execute_result"
    }
   ],
   "source": [
    "results.head()"
   ]
  },
  {
   "cell_type": "markdown",
   "metadata": {},
   "source": [
    "Таким образом, лучшей моделью оказался случайный лес. Значение `accuracy` для этой модели получилось равно `0.799297`. Проверим эту модель на тестовой выборке.\n",
    "\n",
    "<a id=\"4\"></a>\n",
    "## 4. Проверка модели на тестовой выборке\n",
    "Используем лучшую модель на тестовой выборке и посчитаем долю правильных ответов."
   ]
  },
  {
   "cell_type": "code",
   "execution_count": 11,
   "metadata": {},
   "outputs": [
    {
     "name": "stdout",
     "output_type": "stream",
     "text": [
      "accuracy на тестовой выборке: 0.807\n"
     ]
    }
   ],
   "source": [
    "print(f\"accuracy на тестовой выборке: {accuracy_score(y_test, grid_search.predict(X_test)):.3f}\")"
   ]
  },
  {
   "cell_type": "markdown",
   "metadata": {},
   "source": [
    "`accuracy` получилась `0.807`. \n",
    "\n",
    "<a id=\"5\"></a>\n",
    "## 5. Проверка модели на адекватность\n",
    "Проверим полученную модель на адекватность. В данном случае имеет смысл сравнить, насколько использованная модель лучше константной. Для этого воспользуемся классом `DummyClassifier` и установим `constant` в качестве стратегии прогноза, \"обучим\" эту модель и посчитаем `accuracy` на тестовой выборке."
   ]
  },
  {
   "cell_type": "code",
   "execution_count": 12,
   "metadata": {},
   "outputs": [
    {
     "name": "stdout",
     "output_type": "stream",
     "text": [
      "accuracy на тестовой выборке (DummyClassifier): 0.708\n"
     ]
    }
   ],
   "source": [
    "dummy_clf = DummyClassifier(strategy=\"constant\", random_state=42, constant=0)\n",
    "dummy_clf.fit(X_train, y_train)\n",
    "print(f\"accuracy на тестовой выборке (DummyClassifier): {accuracy_score(y_test, dummy_clf.predict(X_test)):.3f}\")"
   ]
  },
  {
   "cell_type": "markdown",
   "metadata": {},
   "source": [
    "Получили, что `accuracy` примерно равна 0.7. Качество случайного леса, который обучали в предыдущих пунктах, выше этого значения, но отличие не столь велико. Вероятно, имеет смысл попробовать и другие модели, чтобы улучшить качество предсказаний. "
   ]
  }
 ],
 "metadata": {
  "ExecuteTimeLog": [
   {
    "duration": 1005,
    "start_time": "2022-01-26T12:11:10.121Z"
   },
   {
    "duration": 26,
    "start_time": "2022-01-26T12:11:14.416Z"
   },
   {
    "duration": 9,
    "start_time": "2022-01-26T12:11:22.225Z"
   },
   {
    "duration": 329,
    "start_time": "2022-01-26T12:11:26.193Z"
   },
   {
    "duration": 19,
    "start_time": "2022-01-26T12:11:27.665Z"
   },
   {
    "duration": 238,
    "start_time": "2022-01-26T12:11:38.097Z"
   },
   {
    "duration": 12,
    "start_time": "2022-01-26T12:11:45.233Z"
   },
   {
    "duration": 9,
    "start_time": "2022-01-26T12:11:48.225Z"
   },
   {
    "duration": 16,
    "start_time": "2022-01-26T12:11:50.769Z"
   },
   {
    "duration": 4,
    "start_time": "2022-01-26T12:23:09.572Z"
   },
   {
    "duration": 4,
    "start_time": "2022-01-26T12:23:15.732Z"
   },
   {
    "duration": 6,
    "start_time": "2022-01-26T12:23:17.364Z"
   },
   {
    "duration": 5,
    "start_time": "2022-01-26T12:23:24.404Z"
   },
   {
    "duration": 4,
    "start_time": "2022-01-26T12:23:51.220Z"
   },
   {
    "duration": 4,
    "start_time": "2022-01-26T12:24:11.396Z"
   },
   {
    "duration": 4,
    "start_time": "2022-01-26T12:24:19.812Z"
   },
   {
    "duration": 7,
    "start_time": "2022-01-26T12:24:36.356Z"
   },
   {
    "duration": 28,
    "start_time": "2022-01-26T12:44:56.812Z"
   },
   {
    "duration": 30,
    "start_time": "2022-01-26T12:45:09.324Z"
   },
   {
    "duration": 32,
    "start_time": "2022-01-26T12:45:12.603Z"
   },
   {
    "duration": 10,
    "start_time": "2022-01-26T12:45:23.852Z"
   },
   {
    "duration": 30,
    "start_time": "2022-01-26T12:45:28.732Z"
   },
   {
    "duration": 30,
    "start_time": "2022-01-26T12:45:33.980Z"
   },
   {
    "duration": 12,
    "start_time": "2022-01-26T12:45:44.939Z"
   },
   {
    "duration": 12,
    "start_time": "2022-01-26T12:45:48.411Z"
   },
   {
    "duration": 278,
    "start_time": "2022-01-26T12:55:43.711Z"
   },
   {
    "duration": 3,
    "start_time": "2022-01-26T12:55:47.742Z"
   },
   {
    "duration": 244,
    "start_time": "2022-01-26T12:55:54.557Z"
   },
   {
    "duration": 6,
    "start_time": "2022-01-26T12:55:56.782Z"
   },
   {
    "duration": 4,
    "start_time": "2022-01-26T12:56:53.406Z"
   },
   {
    "duration": 287,
    "start_time": "2022-01-26T13:00:02.048Z"
   },
   {
    "duration": 260,
    "start_time": "2022-01-26T13:01:13.248Z"
   },
   {
    "duration": 278,
    "start_time": "2022-01-26T13:01:18.928Z"
   },
   {
    "duration": 5,
    "start_time": "2022-01-26T13:01:22.544Z"
   },
   {
    "duration": 8,
    "start_time": "2022-01-26T13:01:22.784Z"
   },
   {
    "duration": 16,
    "start_time": "2022-01-26T13:01:27.472Z"
   },
   {
    "duration": 16,
    "start_time": "2022-01-26T13:01:31.864Z"
   },
   {
    "duration": 5,
    "start_time": "2022-01-26T13:01:44.240Z"
   },
   {
    "duration": 6,
    "start_time": "2022-01-26T13:01:57.328Z"
   },
   {
    "duration": 8,
    "start_time": "2022-01-26T13:02:39.249Z"
   },
   {
    "duration": 6,
    "start_time": "2022-01-26T13:02:49.906Z"
   },
   {
    "duration": 16,
    "start_time": "2022-01-26T13:03:01.217Z"
   },
   {
    "duration": 3,
    "start_time": "2022-01-26T13:04:13.297Z"
   },
   {
    "duration": 59,
    "start_time": "2022-01-26T13:08:43.122Z"
   },
   {
    "duration": 263,
    "start_time": "2022-01-26T13:09:03.154Z"
   },
   {
    "duration": 4,
    "start_time": "2022-01-26T13:09:26.851Z"
   },
   {
    "duration": 4,
    "start_time": "2022-01-26T13:09:34.836Z"
   },
   {
    "duration": 21,
    "start_time": "2022-01-26T13:10:07.266Z"
   },
   {
    "duration": 388,
    "start_time": "2022-01-26T13:10:24.002Z"
   },
   {
    "duration": 541,
    "start_time": "2022-01-26T13:10:29.026Z"
   },
   {
    "duration": 1619,
    "start_time": "2022-01-26T13:10:38.147Z"
   },
   {
    "duration": 5353,
    "start_time": "2022-01-26T13:12:24.179Z"
   },
   {
    "duration": 391,
    "start_time": "2022-01-26T13:13:04.531Z"
   },
   {
    "duration": 6834,
    "start_time": "2022-01-26T13:13:12.899Z"
   },
   {
    "duration": 296,
    "start_time": "2022-01-26T13:13:19.736Z"
   },
   {
    "duration": 284,
    "start_time": "2022-01-26T13:14:03.636Z"
   },
   {
    "duration": 270,
    "start_time": "2022-01-26T13:14:10.852Z"
   },
   {
    "duration": 34594,
    "start_time": "2022-01-26T13:14:39.107Z"
   },
   {
    "duration": 416,
    "start_time": "2022-01-26T13:15:13.705Z"
   },
   {
    "duration": 252,
    "start_time": "2022-01-26T13:23:23.566Z"
   },
   {
    "duration": 5,
    "start_time": "2022-01-26T13:23:34.903Z"
   },
   {
    "duration": 44594,
    "start_time": "2022-01-26T13:23:48.742Z"
   },
   {
    "duration": 284,
    "start_time": "2022-01-26T13:24:33.339Z"
   },
   {
    "duration": 18,
    "start_time": "2022-01-26T13:25:48.535Z"
   },
   {
    "duration": 18,
    "start_time": "2022-01-26T13:26:09.608Z"
   },
   {
    "duration": 18,
    "start_time": "2022-01-26T13:26:14.151Z"
   },
   {
    "duration": 17,
    "start_time": "2022-01-26T13:26:17.959Z"
   },
   {
    "duration": 17,
    "start_time": "2022-01-26T13:26:21.543Z"
   },
   {
    "duration": 20,
    "start_time": "2022-01-26T13:26:25.384Z"
   },
   {
    "duration": 29,
    "start_time": "2022-01-26T13:26:44.088Z"
   },
   {
    "duration": 24,
    "start_time": "2022-01-26T13:26:54.152Z"
   },
   {
    "duration": 18,
    "start_time": "2022-01-26T13:26:59.528Z"
   },
   {
    "duration": 21,
    "start_time": "2022-01-26T13:27:35.239Z"
   },
   {
    "duration": 7,
    "start_time": "2022-01-26T13:27:52.264Z"
   },
   {
    "duration": 531,
    "start_time": "2022-01-26T13:28:21.562Z"
   },
   {
    "duration": 583,
    "start_time": "2022-01-26T13:28:31.131Z"
   },
   {
    "duration": 579,
    "start_time": "2022-01-26T13:28:42.626Z"
   },
   {
    "duration": 579,
    "start_time": "2022-01-26T13:28:46.153Z"
   },
   {
    "duration": 584,
    "start_time": "2022-01-26T13:28:48.057Z"
   },
   {
    "duration": 4,
    "start_time": "2022-01-26T13:29:41.306Z"
   },
   {
    "duration": 4,
    "start_time": "2022-01-26T13:30:00.168Z"
   },
   {
    "duration": 7,
    "start_time": "2022-01-26T13:31:50.442Z"
   },
   {
    "duration": 113,
    "start_time": "2022-01-26T13:32:06.250Z"
   },
   {
    "duration": 6,
    "start_time": "2022-01-26T13:32:09.193Z"
   },
   {
    "duration": 8,
    "start_time": "2022-01-26T13:32:18.458Z"
   },
   {
    "duration": 18,
    "start_time": "2022-01-26T13:32:38.730Z"
   },
   {
    "duration": 19,
    "start_time": "2022-01-26T13:32:45.002Z"
   },
   {
    "duration": 14,
    "start_time": "2022-01-26T13:32:47.705Z"
   },
   {
    "duration": 19,
    "start_time": "2022-01-26T13:32:51.544Z"
   },
   {
    "duration": 19,
    "start_time": "2022-01-26T13:32:54.058Z"
   },
   {
    "duration": 18,
    "start_time": "2022-01-26T13:32:56.378Z"
   },
   {
    "duration": 17,
    "start_time": "2022-01-26T13:32:59.370Z"
   },
   {
    "duration": 15,
    "start_time": "2022-01-26T13:33:05.338Z"
   },
   {
    "duration": 14,
    "start_time": "2022-01-26T13:33:08.825Z"
   },
   {
    "duration": 18,
    "start_time": "2022-01-26T13:33:20.106Z"
   },
   {
    "duration": 17,
    "start_time": "2022-01-26T13:33:24.873Z"
   },
   {
    "duration": 255,
    "start_time": "2022-01-26T13:33:45.514Z"
   },
   {
    "duration": 4,
    "start_time": "2022-01-26T13:34:00.682Z"
   },
   {
    "duration": 6,
    "start_time": "2022-01-26T13:34:05.946Z"
   },
   {
    "duration": 6,
    "start_time": "2022-01-26T13:34:11.242Z"
   },
   {
    "duration": 25,
    "start_time": "2022-01-26T13:34:18.090Z"
   },
   {
    "duration": 268,
    "start_time": "2022-01-26T13:34:33.974Z"
   },
   {
    "duration": 17,
    "start_time": "2022-01-26T13:34:59.706Z"
   },
   {
    "duration": 6,
    "start_time": "2022-01-26T13:35:03.194Z"
   },
   {
    "duration": 1413,
    "start_time": "2022-01-26T17:03:50.846Z"
   },
   {
    "duration": 35,
    "start_time": "2022-01-26T17:03:53.263Z"
   },
   {
    "duration": 9,
    "start_time": "2022-01-26T17:03:54.177Z"
   },
   {
    "duration": 34,
    "start_time": "2022-01-26T17:04:07.705Z"
   },
   {
    "duration": 9,
    "start_time": "2022-01-26T17:04:39.317Z"
   },
   {
    "duration": 9,
    "start_time": "2022-01-26T17:04:53.723Z"
   },
   {
    "duration": 6,
    "start_time": "2022-01-26T17:17:16.899Z"
   },
   {
    "duration": 450,
    "start_time": "2022-01-26T17:17:31.976Z"
   },
   {
    "duration": 336,
    "start_time": "2022-01-26T17:18:19.724Z"
   },
   {
    "duration": 305,
    "start_time": "2022-01-26T17:18:40.754Z"
   },
   {
    "duration": 7,
    "start_time": "2022-01-26T17:18:51.974Z"
   },
   {
    "duration": 7,
    "start_time": "2022-01-26T17:19:05.360Z"
   },
   {
    "duration": 3,
    "start_time": "2022-01-26T17:19:31.558Z"
   },
   {
    "duration": 3,
    "start_time": "2022-01-26T17:23:43.773Z"
   },
   {
    "duration": 154,
    "start_time": "2022-01-26T17:24:44.622Z"
   },
   {
    "duration": 144,
    "start_time": "2022-01-26T17:25:09.580Z"
   },
   {
    "duration": 149,
    "start_time": "2022-01-26T17:25:11.824Z"
   },
   {
    "duration": 148,
    "start_time": "2022-01-26T17:25:15.549Z"
   },
   {
    "duration": 155,
    "start_time": "2022-01-26T17:25:18.430Z"
   },
   {
    "duration": 151,
    "start_time": "2022-01-26T17:25:21.106Z"
   },
   {
    "duration": 155,
    "start_time": "2022-01-26T17:25:23.988Z"
   },
   {
    "duration": 169,
    "start_time": "2022-01-26T17:25:26.821Z"
   },
   {
    "duration": 164,
    "start_time": "2022-01-26T17:25:30.775Z"
   },
   {
    "duration": 174,
    "start_time": "2022-01-26T17:25:38.861Z"
   },
   {
    "duration": 154,
    "start_time": "2022-01-26T17:25:41.922Z"
   },
   {
    "duration": 132,
    "start_time": "2022-01-26T17:25:45.472Z"
   },
   {
    "duration": 147,
    "start_time": "2022-01-26T17:25:49.200Z"
   },
   {
    "duration": 139,
    "start_time": "2022-01-26T17:25:52.573Z"
   },
   {
    "duration": 118,
    "start_time": "2022-01-26T17:25:56.137Z"
   },
   {
    "duration": 28,
    "start_time": "2022-01-26T17:25:59.222Z"
   },
   {
    "duration": 94,
    "start_time": "2022-01-26T17:26:01.780Z"
   },
   {
    "duration": 157,
    "start_time": "2022-01-26T17:26:05.597Z"
   },
   {
    "duration": 175,
    "start_time": "2022-01-26T17:26:08.742Z"
   },
   {
    "duration": 213,
    "start_time": "2022-01-26T17:26:24.900Z"
   },
   {
    "duration": 339,
    "start_time": "2022-01-26T17:26:29.159Z"
   },
   {
    "duration": 172,
    "start_time": "2022-01-26T17:26:32.252Z"
   },
   {
    "duration": 299,
    "start_time": "2022-01-26T17:26:36.219Z"
   },
   {
    "duration": 10,
    "start_time": "2022-01-26T18:10:33.956Z"
   },
   {
    "duration": 9,
    "start_time": "2022-01-26T18:13:13.163Z"
   },
   {
    "duration": 3,
    "start_time": "2022-01-26T18:13:15.940Z"
   },
   {
    "duration": 3,
    "start_time": "2022-01-26T18:17:14.232Z"
   },
   {
    "duration": 17233,
    "start_time": "2022-01-26T18:19:25.393Z"
   },
   {
    "duration": 16,
    "start_time": "2022-01-26T18:19:42.628Z"
   },
   {
    "duration": 26,
    "start_time": "2022-01-26T18:20:13.831Z"
   },
   {
    "duration": 19,
    "start_time": "2022-01-26T18:21:32.549Z"
   },
   {
    "duration": 3,
    "start_time": "2022-01-26T18:22:02.927Z"
   },
   {
    "duration": 17504,
    "start_time": "2022-01-26T18:22:03.202Z"
   },
   {
    "duration": 26,
    "start_time": "2022-01-26T18:22:20.708Z"
   },
   {
    "duration": 31,
    "start_time": "2022-01-26T18:22:34.861Z"
   },
   {
    "duration": 26,
    "start_time": "2022-01-26T18:22:45.817Z"
   },
   {
    "duration": 10,
    "start_time": "2022-01-26T18:23:40.418Z"
   },
   {
    "duration": 17,
    "start_time": "2022-01-26T18:23:55.188Z"
   },
   {
    "duration": 8,
    "start_time": "2022-01-26T18:24:17.392Z"
   },
   {
    "duration": 17408,
    "start_time": "2022-01-26T18:24:17.402Z"
   },
   {
    "duration": 23,
    "start_time": "2022-01-26T18:24:34.812Z"
   },
   {
    "duration": 3,
    "start_time": "2022-01-26T18:25:44.039Z"
   },
   {
    "duration": 309,
    "start_time": "2022-01-26T18:26:46.624Z"
   },
   {
    "duration": 313,
    "start_time": "2022-01-26T18:27:04.794Z"
   },
   {
    "duration": 38,
    "start_time": "2022-01-26T18:27:12.208Z"
   },
   {
    "duration": 10,
    "start_time": "2022-01-26T18:27:13.491Z"
   },
   {
    "duration": 5,
    "start_time": "2022-01-26T18:40:29.584Z"
   },
   {
    "duration": 296,
    "start_time": "2022-01-26T18:43:42.575Z"
   },
   {
    "duration": 45,
    "start_time": "2022-01-26T18:44:03.027Z"
   },
   {
    "duration": 43,
    "start_time": "2022-01-26T18:44:07.350Z"
   },
   {
    "duration": 7,
    "start_time": "2022-01-26T18:44:30.152Z"
   },
   {
    "duration": 305,
    "start_time": "2022-01-26T18:44:53.502Z"
   },
   {
    "duration": 7,
    "start_time": "2022-01-26T18:45:08.720Z"
   },
   {
    "duration": 439,
    "start_time": "2022-01-26T18:45:13.995Z"
   },
   {
    "duration": 7,
    "start_time": "2022-01-26T18:45:28.558Z"
   },
   {
    "duration": 8,
    "start_time": "2022-01-26T18:45:33.263Z"
   },
   {
    "duration": 313,
    "start_time": "2022-01-26T18:48:03.473Z"
   },
   {
    "duration": 9,
    "start_time": "2022-01-26T18:48:08.544Z"
   },
   {
    "duration": 407,
    "start_time": "2022-01-26T18:54:55.871Z"
   },
   {
    "duration": 3,
    "start_time": "2022-01-26T18:54:59.985Z"
   },
   {
    "duration": 408,
    "start_time": "2022-01-26T18:55:06.890Z"
   },
   {
    "duration": 492,
    "start_time": "2022-01-26T18:55:24.476Z"
   },
   {
    "duration": 58,
    "start_time": "2022-01-26T18:56:37.558Z"
   },
   {
    "duration": 11,
    "start_time": "2022-01-26T18:57:14.408Z"
   },
   {
    "duration": 14,
    "start_time": "2022-01-26T18:57:35.057Z"
   },
   {
    "duration": 3,
    "start_time": "2022-01-26T18:57:52.747Z"
   },
   {
    "duration": 52,
    "start_time": "2022-01-26T18:57:52.984Z"
   },
   {
    "duration": 12,
    "start_time": "2022-01-26T18:57:54.064Z"
   },
   {
    "duration": 15,
    "start_time": "2022-01-26T18:59:41.424Z"
   },
   {
    "duration": 14,
    "start_time": "2022-01-26T18:59:50.395Z"
   },
   {
    "duration": 16,
    "start_time": "2022-01-26T18:59:53.902Z"
   },
   {
    "duration": 16,
    "start_time": "2022-01-26T18:59:56.721Z"
   },
   {
    "duration": 14,
    "start_time": "2022-01-26T19:00:00.584Z"
   },
   {
    "duration": 16,
    "start_time": "2022-01-26T19:00:07.629Z"
   },
   {
    "duration": 14,
    "start_time": "2022-01-26T19:00:11.423Z"
   },
   {
    "duration": 15,
    "start_time": "2022-01-26T19:00:19.643Z"
   },
   {
    "duration": 16,
    "start_time": "2022-01-26T19:00:28.560Z"
   },
   {
    "duration": 20,
    "start_time": "2022-01-26T19:00:57.293Z"
   },
   {
    "duration": 16,
    "start_time": "2022-01-26T19:01:07.144Z"
   },
   {
    "duration": 13,
    "start_time": "2022-01-26T19:01:31.769Z"
   },
   {
    "duration": 7,
    "start_time": "2022-01-26T19:01:48.924Z"
   },
   {
    "duration": 14,
    "start_time": "2022-01-26T19:02:55.860Z"
   },
   {
    "duration": 14,
    "start_time": "2022-01-26T19:03:09.107Z"
   },
   {
    "duration": 7,
    "start_time": "2022-01-26T19:03:29.032Z"
   },
   {
    "duration": 7,
    "start_time": "2022-01-26T19:03:32.213Z"
   },
   {
    "duration": 51,
    "start_time": "2022-01-26T19:03:34.315Z"
   },
   {
    "duration": 12,
    "start_time": "2022-01-26T19:03:36.015Z"
   },
   {
    "duration": 3,
    "start_time": "2022-01-26T19:03:40.311Z"
   },
   {
    "duration": 54,
    "start_time": "2022-01-26T19:03:40.600Z"
   },
   {
    "duration": 13,
    "start_time": "2022-01-26T19:03:41.258Z"
   },
   {
    "duration": 7,
    "start_time": "2022-01-26T19:04:01.025Z"
   },
   {
    "duration": 7,
    "start_time": "2022-01-26T19:07:12.941Z"
   },
   {
    "duration": 9,
    "start_time": "2022-01-26T19:07:42.927Z"
   },
   {
    "duration": 1341,
    "start_time": "2022-01-26T19:08:06.611Z"
   },
   {
    "duration": 40,
    "start_time": "2022-01-26T19:08:07.954Z"
   },
   {
    "duration": 28,
    "start_time": "2022-01-26T19:08:07.998Z"
   },
   {
    "duration": 35,
    "start_time": "2022-01-26T19:08:08.030Z"
   },
   {
    "duration": 9,
    "start_time": "2022-01-26T19:08:08.068Z"
   },
   {
    "duration": 47,
    "start_time": "2022-01-26T19:08:08.079Z"
   },
   {
    "duration": 269,
    "start_time": "2022-01-26T19:08:08.129Z"
   },
   {
    "duration": 5,
    "start_time": "2022-01-26T19:08:08.403Z"
   },
   {
    "duration": 16628,
    "start_time": "2022-01-26T19:08:08.411Z"
   },
   {
    "duration": 17,
    "start_time": "2022-01-26T19:08:25.042Z"
   },
   {
    "duration": 65,
    "start_time": "2022-01-26T19:08:25.062Z"
   },
   {
    "duration": 10,
    "start_time": "2022-01-26T19:08:25.129Z"
   },
   {
    "duration": 12,
    "start_time": "2022-01-26T19:08:25.141Z"
   },
   {
    "duration": 4,
    "start_time": "2022-01-26T19:08:25.155Z"
   },
   {
    "duration": 80,
    "start_time": "2022-01-26T19:08:25.161Z"
   },
   {
    "duration": 12,
    "start_time": "2022-01-26T19:08:25.244Z"
   },
   {
    "duration": 7,
    "start_time": "2022-01-26T19:08:25.259Z"
   },
   {
    "duration": 9,
    "start_time": "2022-01-26T19:08:25.268Z"
   },
   {
    "duration": 494,
    "start_time": "2022-01-26T19:08:30.543Z"
   },
   {
    "duration": 15,
    "start_time": "2022-01-26T19:08:58.984Z"
   },
   {
    "duration": 36,
    "start_time": "2022-01-26T19:09:13.636Z"
   },
   {
    "duration": 15,
    "start_time": "2022-01-26T19:09:15.436Z"
   },
   {
    "duration": 8,
    "start_time": "2022-01-26T19:09:19.071Z"
   },
   {
    "duration": 3,
    "start_time": "2022-01-26T19:09:20.553Z"
   },
   {
    "duration": 32,
    "start_time": "2022-01-26T19:09:22.595Z"
   },
   {
    "duration": 13,
    "start_time": "2022-01-26T19:09:24.092Z"
   },
   {
    "duration": 96,
    "start_time": "2022-01-26T19:09:57.057Z"
   },
   {
    "duration": 15,
    "start_time": "2022-01-26T19:10:00.082Z"
   },
   {
    "duration": 15,
    "start_time": "2022-01-26T19:10:15.709Z"
   },
   {
    "duration": 188,
    "start_time": "2022-01-26T19:10:39.657Z"
   },
   {
    "duration": 12,
    "start_time": "2022-01-26T19:10:41.746Z"
   },
   {
    "duration": 416,
    "start_time": "2022-01-27T08:16:14.001Z"
   },
   {
    "duration": 1303,
    "start_time": "2022-01-27T08:16:16.617Z"
   },
   {
    "duration": 38,
    "start_time": "2022-01-27T08:16:17.923Z"
   },
   {
    "duration": 9,
    "start_time": "2022-01-27T08:16:20.345Z"
   },
   {
    "duration": 36,
    "start_time": "2022-01-27T08:16:21.513Z"
   },
   {
    "duration": 8,
    "start_time": "2022-01-27T08:16:22.233Z"
   },
   {
    "duration": 12,
    "start_time": "2022-01-27T08:20:58.346Z"
   },
   {
    "duration": 3,
    "start_time": "2022-01-27T08:44:30.521Z"
   },
   {
    "duration": 18214,
    "start_time": "2022-01-27T08:44:31.793Z"
   },
   {
    "duration": 21,
    "start_time": "2022-01-27T08:44:50.010Z"
   },
   {
    "duration": 9,
    "start_time": "2022-01-27T09:01:58.062Z"
   },
   {
    "duration": 4,
    "start_time": "2022-01-27T09:01:59.495Z"
   },
   {
    "duration": 34,
    "start_time": "2022-01-27T09:02:00.503Z"
   },
   {
    "duration": 14,
    "start_time": "2022-01-27T09:02:04.055Z"
   },
   {
    "duration": 571,
    "start_time": "2022-01-27T10:25:50.535Z"
   },
   {
    "duration": 49,
    "start_time": "2022-01-27T10:25:56.470Z"
   },
   {
    "duration": 11,
    "start_time": "2022-01-27T10:26:00.432Z"
   },
   {
    "duration": 1097,
    "start_time": "2022-01-27T13:06:27.833Z"
   },
   {
    "duration": 30,
    "start_time": "2022-01-27T13:06:28.931Z"
   },
   {
    "duration": 3,
    "start_time": "2022-01-27T13:07:44.653Z"
   },
   {
    "duration": 24,
    "start_time": "2022-01-27T13:07:45.688Z"
   },
   {
    "duration": 7,
    "start_time": "2022-01-27T13:07:46.904Z"
   },
   {
    "duration": 20,
    "start_time": "2022-01-27T13:07:47.802Z"
   },
   {
    "duration": 6,
    "start_time": "2022-01-27T13:07:48.461Z"
   },
   {
    "duration": 8,
    "start_time": "2022-01-27T13:07:56.367Z"
   },
   {
    "duration": 3,
    "start_time": "2022-01-27T13:08:14.408Z"
   },
   {
    "duration": 11246,
    "start_time": "2022-01-27T13:08:15.682Z"
   },
   {
    "duration": 12,
    "start_time": "2022-01-27T13:08:26.930Z"
   },
   {
    "duration": 6,
    "start_time": "2022-01-27T13:08:39.176Z"
   },
   {
    "duration": 2,
    "start_time": "2022-01-27T13:08:39.663Z"
   },
   {
    "duration": 21,
    "start_time": "2022-01-27T13:08:40.645Z"
   },
   {
    "duration": 10,
    "start_time": "2022-01-27T13:08:41.558Z"
   },
   {
    "duration": 1122,
    "start_time": "2022-01-27T13:21:16.650Z"
   },
   {
    "duration": 29,
    "start_time": "2022-01-27T13:21:17.774Z"
   },
   {
    "duration": 6,
    "start_time": "2022-01-27T13:21:17.804Z"
   },
   {
    "duration": 19,
    "start_time": "2022-01-27T13:21:17.812Z"
   },
   {
    "duration": 5,
    "start_time": "2022-01-27T13:21:17.833Z"
   },
   {
    "duration": 7,
    "start_time": "2022-01-27T13:21:17.839Z"
   },
   {
    "duration": 24,
    "start_time": "2022-01-27T13:21:17.847Z"
   },
   {
    "duration": 11335,
    "start_time": "2022-01-27T13:21:17.874Z"
   },
   {
    "duration": 10,
    "start_time": "2022-01-27T13:21:29.211Z"
   },
   {
    "duration": 7,
    "start_time": "2022-01-27T13:21:29.223Z"
   },
   {
    "duration": 3,
    "start_time": "2022-01-27T13:21:29.231Z"
   },
   {
    "duration": 44,
    "start_time": "2022-01-27T13:21:29.235Z"
   },
   {
    "duration": 9,
    "start_time": "2022-01-27T13:21:29.280Z"
   },
   {
    "duration": 30,
    "start_time": "2022-01-27T13:21:29.290Z"
   },
   {
    "duration": 5,
    "start_time": "2022-01-27T13:21:29.322Z"
   },
   {
    "duration": 1348,
    "start_time": "2022-02-02T08:52:41.877Z"
   },
   {
    "duration": 43,
    "start_time": "2022-02-02T08:52:43.228Z"
   },
   {
    "duration": 11,
    "start_time": "2022-02-02T08:52:43.275Z"
   },
   {
    "duration": 48,
    "start_time": "2022-02-02T08:52:43.289Z"
   },
   {
    "duration": 9,
    "start_time": "2022-02-02T08:52:43.340Z"
   },
   {
    "duration": 13,
    "start_time": "2022-02-02T08:52:43.352Z"
   },
   {
    "duration": 4,
    "start_time": "2022-02-02T08:52:43.367Z"
   },
   {
    "duration": 18388,
    "start_time": "2022-02-02T08:52:43.375Z"
   },
   {
    "duration": 19,
    "start_time": "2022-02-02T08:53:01.766Z"
   },
   {
    "duration": 20,
    "start_time": "2022-02-02T08:53:01.787Z"
   },
   {
    "duration": 22,
    "start_time": "2022-02-02T08:53:01.810Z"
   },
   {
    "duration": 56,
    "start_time": "2022-02-02T08:53:01.840Z"
   },
   {
    "duration": 18,
    "start_time": "2022-02-02T08:53:01.898Z"
   },
   {
    "duration": 87,
    "start_time": "2022-02-02T08:53:01.918Z"
   },
   {
    "duration": 8,
    "start_time": "2022-02-02T08:53:02.008Z"
   },
   {
    "duration": 15,
    "start_time": "2022-02-02T08:53:32.228Z"
   },
   {
    "duration": 12,
    "start_time": "2022-02-02T08:53:52.788Z"
   },
   {
    "duration": 7,
    "start_time": "2022-02-02T08:54:08.349Z"
   },
   {
    "duration": 19,
    "start_time": "2022-02-02T08:54:57.709Z"
   },
   {
    "duration": 835,
    "start_time": "2022-02-02T08:55:04.477Z"
   },
   {
    "duration": 5,
    "start_time": "2022-02-02T08:55:26.545Z"
   },
   {
    "duration": 19,
    "start_time": "2022-02-02T08:55:29.820Z"
   },
   {
    "duration": 7,
    "start_time": "2022-02-02T08:55:32.813Z"
   },
   {
    "duration": 7,
    "start_time": "2022-02-02T08:55:37.501Z"
   },
   {
    "duration": 14,
    "start_time": "2022-02-02T08:55:51.021Z"
   },
   {
    "duration": 10,
    "start_time": "2022-02-02T08:56:03.204Z"
   },
   {
    "duration": 8,
    "start_time": "2022-02-02T08:56:41.998Z"
   },
   {
    "duration": 8,
    "start_time": "2022-02-02T08:56:47.565Z"
   },
   {
    "duration": 5,
    "start_time": "2022-02-02T08:57:01.846Z"
   },
   {
    "duration": 8,
    "start_time": "2022-02-02T08:57:02.749Z"
   },
   {
    "duration": 8,
    "start_time": "2022-02-02T08:57:15.789Z"
   },
   {
    "duration": 8,
    "start_time": "2022-02-02T08:57:19.885Z"
   },
   {
    "duration": 7,
    "start_time": "2022-02-02T08:57:23.565Z"
   },
   {
    "duration": 8,
    "start_time": "2022-02-02T08:57:28.269Z"
   },
   {
    "duration": 7,
    "start_time": "2022-02-02T08:57:30.894Z"
   },
   {
    "duration": 7,
    "start_time": "2022-02-02T08:57:33.445Z"
   },
   {
    "duration": 9,
    "start_time": "2022-02-02T08:57:35.661Z"
   },
   {
    "duration": 8,
    "start_time": "2022-02-02T08:57:38.078Z"
   },
   {
    "duration": 8,
    "start_time": "2022-02-02T08:57:40.365Z"
   },
   {
    "duration": 8,
    "start_time": "2022-02-02T08:57:45.917Z"
   },
   {
    "duration": 8,
    "start_time": "2022-02-02T08:57:47.662Z"
   },
   {
    "duration": 8,
    "start_time": "2022-02-02T08:57:52.717Z"
   },
   {
    "duration": 8,
    "start_time": "2022-02-02T08:57:56.797Z"
   },
   {
    "duration": 7,
    "start_time": "2022-02-02T08:58:00.318Z"
   },
   {
    "duration": 8,
    "start_time": "2022-02-02T08:58:02.957Z"
   },
   {
    "duration": 8,
    "start_time": "2022-02-02T08:58:05.854Z"
   },
   {
    "duration": 7,
    "start_time": "2022-02-02T08:58:09.597Z"
   },
   {
    "duration": 8,
    "start_time": "2022-02-02T08:58:14.157Z"
   },
   {
    "duration": 8,
    "start_time": "2022-02-02T08:58:17.459Z"
   },
   {
    "duration": 8,
    "start_time": "2022-02-02T08:58:21.345Z"
   },
   {
    "duration": 9,
    "start_time": "2022-02-02T08:58:23.789Z"
   },
   {
    "duration": 1100,
    "start_time": "2022-07-06T09:43:24.307Z"
   },
   {
    "duration": 25,
    "start_time": "2022-07-06T09:43:29.807Z"
   },
   {
    "duration": 11,
    "start_time": "2022-07-06T09:43:37.059Z"
   },
   {
    "duration": 6,
    "start_time": "2022-07-06T09:43:40.395Z"
   },
   {
    "duration": 24,
    "start_time": "2022-07-06T09:43:42.736Z"
   },
   {
    "duration": 6,
    "start_time": "2022-07-06T09:44:07.859Z"
   },
   {
    "duration": 7,
    "start_time": "2022-07-06T09:44:09.411Z"
   },
   {
    "duration": 4,
    "start_time": "2022-07-06T09:44:11.741Z"
   },
   {
    "duration": 12318,
    "start_time": "2022-07-06T09:44:12.630Z"
   },
   {
    "duration": 18,
    "start_time": "2022-07-06T09:44:24.949Z"
   },
   {
    "duration": 9,
    "start_time": "2022-07-06T09:44:34.062Z"
   },
   {
    "duration": 2,
    "start_time": "2022-07-06T09:44:34.206Z"
   },
   {
    "duration": 106,
    "start_time": "2022-07-06T09:44:34.862Z"
   },
   {
    "duration": 286,
    "start_time": "2022-07-07T07:33:39.992Z"
   },
   {
    "duration": 54,
    "start_time": "2022-07-07T07:33:42.324Z"
   },
   {
    "duration": 12,
    "start_time": "2022-07-07T07:33:45.669Z"
   },
   {
    "duration": 24,
    "start_time": "2022-07-07T07:33:46.037Z"
   },
   {
    "duration": 6,
    "start_time": "2022-07-07T07:33:47.257Z"
   },
   {
    "duration": 8,
    "start_time": "2022-07-07T07:33:48.565Z"
   },
   {
    "duration": 6,
    "start_time": "2022-07-07T07:34:04.969Z"
   },
   {
    "duration": 6,
    "start_time": "2022-07-07T07:39:53.585Z"
   },
   {
    "duration": 4,
    "start_time": "2022-07-07T07:39:58.215Z"
   },
   {
    "duration": 106,
    "start_time": "2022-07-07T07:48:40.550Z"
   },
   {
    "duration": 50,
    "start_time": "2022-07-07T07:49:22.957Z"
   },
   {
    "duration": 8,
    "start_time": "2022-07-07T07:51:00.621Z"
   },
   {
    "duration": 4,
    "start_time": "2022-07-07T07:51:06.204Z"
   },
   {
    "duration": 27,
    "start_time": "2022-07-07T07:51:20.029Z"
   },
   {
    "duration": 65355,
    "start_time": "2022-07-07T07:52:08.318Z"
   },
   {
    "duration": 44,
    "start_time": "2022-07-07T07:54:23.663Z"
   },
   {
    "duration": 41,
    "start_time": "2022-07-07T07:55:09.829Z"
   },
   {
    "duration": 48,
    "start_time": "2022-07-07T07:55:27.267Z"
   },
   {
    "duration": 103623,
    "start_time": "2022-07-07T07:56:40.857Z"
   },
   {
    "duration": 4,
    "start_time": "2022-07-07T07:58:24.481Z"
   },
   {
    "duration": 99,
    "start_time": "2022-07-07T07:58:24.488Z"
   },
   {
    "duration": 12,
    "start_time": "2022-07-07T07:58:51.268Z"
   },
   {
    "duration": 8,
    "start_time": "2022-07-07T07:59:08.960Z"
   },
   {
    "duration": 7,
    "start_time": "2022-07-07T07:59:19.065Z"
   },
   {
    "duration": 9,
    "start_time": "2022-07-07T07:59:32.320Z"
   },
   {
    "duration": 590,
    "start_time": "2022-07-07T08:06:24.114Z"
   },
   {
    "duration": 29,
    "start_time": "2022-07-07T08:06:50.458Z"
   },
   {
    "duration": 104564,
    "start_time": "2022-07-07T08:11:38.062Z"
   },
   {
    "duration": 8,
    "start_time": "2022-07-07T08:13:22.628Z"
   },
   {
    "duration": 113,
    "start_time": "2022-07-07T08:13:22.638Z"
   },
   {
    "duration": 53,
    "start_time": "2022-07-07T08:16:37.796Z"
   },
   {
    "duration": 8,
    "start_time": "2022-07-07T08:17:15.588Z"
   },
   {
    "duration": 4,
    "start_time": "2022-07-07T08:17:58.645Z"
   },
   {
    "duration": 4,
    "start_time": "2022-07-07T08:20:18.309Z"
   },
   {
    "duration": 6,
    "start_time": "2022-07-07T08:22:10.214Z"
   },
   {
    "duration": 3,
    "start_time": "2022-07-07T08:42:54.580Z"
   },
   {
    "duration": 5,
    "start_time": "2022-07-07T08:43:09.075Z"
   },
   {
    "duration": 7,
    "start_time": "2022-07-07T10:11:12.008Z"
   },
   {
    "duration": 8,
    "start_time": "2022-07-07T10:11:16.657Z"
   },
   {
    "duration": 5,
    "start_time": "2022-07-07T10:11:23.081Z"
   },
   {
    "duration": 135,
    "start_time": "2022-07-07T10:11:24.337Z"
   },
   {
    "duration": 8,
    "start_time": "2022-07-07T10:11:49.007Z"
   },
   {
    "duration": 116,
    "start_time": "2022-07-07T10:11:50.124Z"
   },
   {
    "duration": 3,
    "start_time": "2022-07-07T10:13:40.979Z"
   },
   {
    "duration": 1515,
    "start_time": "2022-07-07T10:15:54.288Z"
   },
   {
    "duration": 128,
    "start_time": "2022-07-07T10:16:02.682Z"
   },
   {
    "duration": 8,
    "start_time": "2022-07-07T10:16:12.123Z"
   },
   {
    "duration": 7,
    "start_time": "2022-07-07T10:17:07.500Z"
   },
   {
    "duration": 127,
    "start_time": "2022-07-07T10:17:17.467Z"
   },
   {
    "duration": 17,
    "start_time": "2022-07-07T10:18:09.982Z"
   },
   {
    "duration": 11,
    "start_time": "2022-07-07T10:18:25.195Z"
   },
   {
    "duration": 108,
    "start_time": "2022-07-07T10:18:28.814Z"
   },
   {
    "duration": 12,
    "start_time": "2022-07-07T10:19:51.217Z"
   },
   {
    "duration": 8,
    "start_time": "2022-07-07T10:20:00.757Z"
   },
   {
    "duration": 7,
    "start_time": "2022-07-07T10:20:04.796Z"
   },
   {
    "duration": 5,
    "start_time": "2022-07-07T10:20:19.154Z"
   },
   {
    "duration": 932,
    "start_time": "2022-07-07T10:20:28.684Z"
   },
   {
    "duration": 7,
    "start_time": "2022-07-07T10:20:43.043Z"
   },
   {
    "duration": 11,
    "start_time": "2022-07-07T10:20:45.359Z"
   },
   {
    "duration": 9,
    "start_time": "2022-07-07T10:20:51.552Z"
   },
   {
    "duration": 15,
    "start_time": "2022-07-07T10:20:55.293Z"
   },
   {
    "duration": 887,
    "start_time": "2022-07-07T10:21:45.677Z"
   },
   {
    "duration": 7,
    "start_time": "2022-07-07T10:21:48.958Z"
   },
   {
    "duration": 131,
    "start_time": "2022-07-07T10:21:49.108Z"
   },
   {
    "duration": 3,
    "start_time": "2022-07-07T10:21:50.125Z"
   },
   {
    "duration": 18,
    "start_time": "2022-07-07T10:21:50.669Z"
   },
   {
    "duration": 1176,
    "start_time": "2022-07-07T10:21:54.818Z"
   },
   {
    "duration": 5,
    "start_time": "2022-07-07T10:21:58.451Z"
   },
   {
    "duration": 117,
    "start_time": "2022-07-07T10:21:58.590Z"
   },
   {
    "duration": 3,
    "start_time": "2022-07-07T10:21:59.645Z"
   },
   {
    "duration": 10,
    "start_time": "2022-07-07T10:22:00.148Z"
   },
   {
    "duration": 10,
    "start_time": "2022-07-07T10:22:03.182Z"
   },
   {
    "duration": 11,
    "start_time": "2022-07-07T10:22:25.646Z"
   },
   {
    "duration": 7,
    "start_time": "2022-07-07T10:22:26.092Z"
   },
   {
    "duration": 10,
    "start_time": "2022-07-07T10:22:32.818Z"
   },
   {
    "duration": 9,
    "start_time": "2022-07-07T10:22:35.597Z"
   },
   {
    "duration": 17,
    "start_time": "2022-07-07T10:22:49.949Z"
   },
   {
    "duration": 10,
    "start_time": "2022-07-07T10:22:50.589Z"
   },
   {
    "duration": 24,
    "start_time": "2022-07-07T10:23:47.454Z"
   },
   {
    "duration": 8,
    "start_time": "2022-07-07T10:24:15.754Z"
   },
   {
    "duration": 135,
    "start_time": "2022-07-07T10:24:17.390Z"
   },
   {
    "duration": 21,
    "start_time": "2022-07-07T10:24:41.382Z"
   },
   {
    "duration": 22,
    "start_time": "2022-07-07T10:25:08.960Z"
   },
   {
    "duration": 22,
    "start_time": "2022-07-07T10:25:15.372Z"
   },
   {
    "duration": 20,
    "start_time": "2022-07-07T10:25:44.251Z"
   },
   {
    "duration": 23,
    "start_time": "2022-07-07T10:26:24.495Z"
   },
   {
    "duration": 12,
    "start_time": "2022-07-07T10:26:50.817Z"
   },
   {
    "duration": 8,
    "start_time": "2022-07-07T10:26:52.357Z"
   },
   {
    "duration": 7,
    "start_time": "2022-07-07T10:26:58.287Z"
   },
   {
    "duration": 136,
    "start_time": "2022-07-07T10:26:59.107Z"
   },
   {
    "duration": 21,
    "start_time": "2022-07-07T10:27:09.321Z"
   },
   {
    "duration": 20,
    "start_time": "2022-07-07T10:27:38.951Z"
   },
   {
    "duration": 299,
    "start_time": "2022-07-07T10:29:59.825Z"
   },
   {
    "duration": 12,
    "start_time": "2022-07-07T10:30:06.481Z"
   },
   {
    "duration": 14,
    "start_time": "2022-07-07T10:30:07.746Z"
   },
   {
    "duration": 10,
    "start_time": "2022-07-07T10:31:03.525Z"
   },
   {
    "duration": 21,
    "start_time": "2022-07-07T10:31:04.400Z"
   },
   {
    "duration": 511,
    "start_time": "2022-07-07T10:31:16.672Z"
   },
   {
    "duration": 6,
    "start_time": "2022-07-07T10:31:17.251Z"
   },
   {
    "duration": 12,
    "start_time": "2022-07-07T10:32:05.440Z"
   },
   {
    "duration": 7,
    "start_time": "2022-07-07T10:32:06.321Z"
   },
   {
    "duration": 7,
    "start_time": "2022-07-07T10:35:30.407Z"
   },
   {
    "duration": 15,
    "start_time": "2022-07-07T10:35:58.098Z"
   },
   {
    "duration": 27,
    "start_time": "2022-07-07T10:36:13.250Z"
   },
   {
    "duration": 7,
    "start_time": "2022-07-07T10:46:40.774Z"
   },
   {
    "duration": 115303,
    "start_time": "2022-07-07T10:46:43.574Z"
   },
   {
    "duration": 36,
    "start_time": "2022-07-07T10:48:38.880Z"
   },
   {
    "duration": 38,
    "start_time": "2022-07-07T10:48:38.922Z"
   },
   {
    "duration": 22,
    "start_time": "2022-07-07T10:48:38.962Z"
   },
   {
    "duration": 52,
    "start_time": "2022-07-07T10:48:38.986Z"
   },
   {
    "duration": 12,
    "start_time": "2022-07-07T10:48:48.999Z"
   },
   {
    "duration": 5,
    "start_time": "2022-07-07T11:03:55.079Z"
   },
   {
    "duration": 36,
    "start_time": "2022-07-07T11:05:57.768Z"
   },
   {
    "duration": 43,
    "start_time": "2022-07-07T11:06:33.187Z"
   },
   {
    "duration": 5,
    "start_time": "2022-07-07T11:07:24.527Z"
   },
   {
    "duration": 4,
    "start_time": "2022-07-07T11:08:40.165Z"
   },
   {
    "duration": 1232,
    "start_time": "2022-07-07T11:09:15.297Z"
   },
   {
    "duration": 32,
    "start_time": "2022-07-07T11:09:16.531Z"
   },
   {
    "duration": 11,
    "start_time": "2022-07-07T11:09:16.564Z"
   },
   {
    "duration": 45,
    "start_time": "2022-07-07T11:09:16.577Z"
   },
   {
    "duration": 8,
    "start_time": "2022-07-07T11:09:16.628Z"
   },
   {
    "duration": 13,
    "start_time": "2022-07-07T11:09:16.638Z"
   },
   {
    "duration": 116595,
    "start_time": "2022-07-07T11:09:16.653Z"
   },
   {
    "duration": 8,
    "start_time": "2022-07-07T11:11:13.250Z"
   },
   {
    "duration": 20,
    "start_time": "2022-07-07T11:11:13.260Z"
   },
   {
    "duration": 27,
    "start_time": "2022-07-07T11:11:13.282Z"
   },
   {
    "duration": 67,
    "start_time": "2022-07-07T11:11:13.311Z"
   },
   {
    "duration": 5,
    "start_time": "2022-07-07T11:11:13.380Z"
   }
  ],
  "kernelspec": {
   "display_name": "Python 3 (ipykernel)",
   "language": "python",
   "name": "python3"
  },
  "language_info": {
   "codemirror_mode": {
    "name": "ipython",
    "version": 3
   },
   "file_extension": ".py",
   "mimetype": "text/x-python",
   "name": "python",
   "nbconvert_exporter": "python",
   "pygments_lexer": "ipython3",
   "version": "3.9.5"
  },
  "toc": {
   "base_numbering": 1,
   "nav_menu": {
    "height": "180px",
    "width": "402px"
   },
   "number_sections": false,
   "sideBar": true,
   "skip_h1_title": true,
   "title_cell": "Table of Contents",
   "title_sidebar": "Contents",
   "toc_cell": false,
   "toc_position": {},
   "toc_section_display": true,
   "toc_window_display": true
  }
 },
 "nbformat": 4,
 "nbformat_minor": 2
}
