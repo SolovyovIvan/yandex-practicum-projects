{
 "cells": [
  {
   "cell_type": "markdown",
   "metadata": {},
   "source": [
    "# Исследование надёжности заёмщиков"
   ]
  },
  {
   "cell_type": "markdown",
   "metadata": {},
   "source": [
    "**Цель исследования:** определить влияние семейного положения и количества детей клиента на факт погашения кредита в срок.\n",
    "\n",
    "**Используемые данные**: статистика банка о платёжеспособности клиентов."
   ]
  },
  {
   "cell_type": "markdown",
   "metadata": {},
   "source": [
    "**Описание данных**\n",
    "\n",
    "* `children` — количество детей в семье\n",
    "* `days_employed` — общий трудовой стаж в днях\n",
    "* `dob_years` — возраст клиента в годах\n",
    "* `education` — уровень образования клиента\n",
    "* `education_id` — идентификатор уровня образования\n",
    "* `family_status` — семейное положение\n",
    "* `family_status_id` — идентификатор семейного положения\n",
    "* `gender` — пол клиента\n",
    "* `income_type` — тип занятости\n",
    "* `debt` — имел ли задолженность по возврату кредитов\n",
    "* `total_income` — ежемесячный доход\n",
    "* `purpose` — цель получения кредита"
   ]
  },
  {
   "cell_type": "markdown",
   "metadata": {},
   "source": [
    "## Оглавление\n",
    "\n",
    "1. [Общая информация о данных](#1)  \n",
    "2. [Предобработка данных](#2)\n",
    "<br> 2.1. [Обработка пропусков](#2.1)\n",
    "<br> 2.2. [Замена типов данных](#2.2)\n",
    "<br> 2.3. [Обработка дубликатов](#2.3)\n",
    "<br> 2.4. [Лемматизация](#2.4)\n",
    "<br> 2.5. [Категоризация данных](#2.5)\n",
    "3. [Ответы на вопросы](#3)\n",
    "4. [Заключение](#4)"
   ]
  },
  {
   "cell_type": "markdown",
   "metadata": {},
   "source": [
    "<a id=\"1\"></a>\n",
    "## 1. Общая информация о данных"
   ]
  },
  {
   "cell_type": "markdown",
   "metadata": {},
   "source": [
    "Импортируем библиотеку `pandas` и открываем файл с данными. Посмотрим на общую информацию о наборе данных:"
   ]
  },
  {
   "cell_type": "code",
   "execution_count": 1,
   "metadata": {},
   "outputs": [
    {
     "data": {
      "text/html": [
       "<div>\n",
       "<style scoped>\n",
       "    .dataframe tbody tr th:only-of-type {\n",
       "        vertical-align: middle;\n",
       "    }\n",
       "\n",
       "    .dataframe tbody tr th {\n",
       "        vertical-align: top;\n",
       "    }\n",
       "\n",
       "    .dataframe thead th {\n",
       "        text-align: right;\n",
       "    }\n",
       "</style>\n",
       "<table border=\"1\" class=\"dataframe\">\n",
       "  <thead>\n",
       "    <tr style=\"text-align: right;\">\n",
       "      <th></th>\n",
       "      <th>children</th>\n",
       "      <th>days_employed</th>\n",
       "      <th>dob_years</th>\n",
       "      <th>education</th>\n",
       "      <th>education_id</th>\n",
       "      <th>family_status</th>\n",
       "      <th>family_status_id</th>\n",
       "      <th>gender</th>\n",
       "      <th>income_type</th>\n",
       "      <th>debt</th>\n",
       "      <th>total_income</th>\n",
       "      <th>purpose</th>\n",
       "    </tr>\n",
       "  </thead>\n",
       "  <tbody>\n",
       "    <tr>\n",
       "      <td>0</td>\n",
       "      <td>1</td>\n",
       "      <td>-8437.673028</td>\n",
       "      <td>42</td>\n",
       "      <td>высшее</td>\n",
       "      <td>0</td>\n",
       "      <td>женат / замужем</td>\n",
       "      <td>0</td>\n",
       "      <td>F</td>\n",
       "      <td>сотрудник</td>\n",
       "      <td>0</td>\n",
       "      <td>253875.639453</td>\n",
       "      <td>покупка жилья</td>\n",
       "    </tr>\n",
       "    <tr>\n",
       "      <td>1</td>\n",
       "      <td>1</td>\n",
       "      <td>-4024.803754</td>\n",
       "      <td>36</td>\n",
       "      <td>среднее</td>\n",
       "      <td>1</td>\n",
       "      <td>женат / замужем</td>\n",
       "      <td>0</td>\n",
       "      <td>F</td>\n",
       "      <td>сотрудник</td>\n",
       "      <td>0</td>\n",
       "      <td>112080.014102</td>\n",
       "      <td>приобретение автомобиля</td>\n",
       "    </tr>\n",
       "    <tr>\n",
       "      <td>2</td>\n",
       "      <td>0</td>\n",
       "      <td>-5623.422610</td>\n",
       "      <td>33</td>\n",
       "      <td>Среднее</td>\n",
       "      <td>1</td>\n",
       "      <td>женат / замужем</td>\n",
       "      <td>0</td>\n",
       "      <td>M</td>\n",
       "      <td>сотрудник</td>\n",
       "      <td>0</td>\n",
       "      <td>145885.952297</td>\n",
       "      <td>покупка жилья</td>\n",
       "    </tr>\n",
       "    <tr>\n",
       "      <td>3</td>\n",
       "      <td>3</td>\n",
       "      <td>-4124.747207</td>\n",
       "      <td>32</td>\n",
       "      <td>среднее</td>\n",
       "      <td>1</td>\n",
       "      <td>женат / замужем</td>\n",
       "      <td>0</td>\n",
       "      <td>M</td>\n",
       "      <td>сотрудник</td>\n",
       "      <td>0</td>\n",
       "      <td>267628.550329</td>\n",
       "      <td>дополнительное образование</td>\n",
       "    </tr>\n",
       "    <tr>\n",
       "      <td>4</td>\n",
       "      <td>0</td>\n",
       "      <td>340266.072047</td>\n",
       "      <td>53</td>\n",
       "      <td>среднее</td>\n",
       "      <td>1</td>\n",
       "      <td>гражданский брак</td>\n",
       "      <td>1</td>\n",
       "      <td>F</td>\n",
       "      <td>пенсионер</td>\n",
       "      <td>0</td>\n",
       "      <td>158616.077870</td>\n",
       "      <td>сыграть свадьбу</td>\n",
       "    </tr>\n",
       "  </tbody>\n",
       "</table>\n",
       "</div>"
      ],
      "text/plain": [
       "   children  days_employed  dob_years education  education_id  \\\n",
       "0         1   -8437.673028         42    высшее             0   \n",
       "1         1   -4024.803754         36   среднее             1   \n",
       "2         0   -5623.422610         33   Среднее             1   \n",
       "3         3   -4124.747207         32   среднее             1   \n",
       "4         0  340266.072047         53   среднее             1   \n",
       "\n",
       "      family_status  family_status_id gender income_type  debt   total_income  \\\n",
       "0   женат / замужем                 0      F   сотрудник     0  253875.639453   \n",
       "1   женат / замужем                 0      F   сотрудник     0  112080.014102   \n",
       "2   женат / замужем                 0      M   сотрудник     0  145885.952297   \n",
       "3   женат / замужем                 0      M   сотрудник     0  267628.550329   \n",
       "4  гражданский брак                 1      F   пенсионер     0  158616.077870   \n",
       "\n",
       "                      purpose  \n",
       "0               покупка жилья  \n",
       "1     приобретение автомобиля  \n",
       "2               покупка жилья  \n",
       "3  дополнительное образование  \n",
       "4             сыграть свадьбу  "
      ]
     },
     "execution_count": 1,
     "metadata": {},
     "output_type": "execute_result"
    }
   ],
   "source": [
    "from pymystem3 import Mystem\n",
    "import pandas as pd\n",
    "\n",
    "data = pd.read_csv(\"/datasets/data.csv\")\n",
    "data.head()"
   ]
  },
  {
   "cell_type": "code",
   "execution_count": 2,
   "metadata": {},
   "outputs": [
    {
     "name": "stdout",
     "output_type": "stream",
     "text": [
      "<class 'pandas.core.frame.DataFrame'>\n",
      "RangeIndex: 21525 entries, 0 to 21524\n",
      "Data columns (total 12 columns):\n",
      "children            21525 non-null int64\n",
      "days_employed       19351 non-null float64\n",
      "dob_years           21525 non-null int64\n",
      "education           21525 non-null object\n",
      "education_id        21525 non-null int64\n",
      "family_status       21525 non-null object\n",
      "family_status_id    21525 non-null int64\n",
      "gender              21525 non-null object\n",
      "income_type         21525 non-null object\n",
      "debt                21525 non-null int64\n",
      "total_income        19351 non-null float64\n",
      "purpose             21525 non-null object\n",
      "dtypes: float64(2), int64(5), object(5)\n",
      "memory usage: 2.0+ MB\n"
     ]
    }
   ],
   "source": [
    "data.info()"
   ]
  },
  {
   "cell_type": "markdown",
   "metadata": {},
   "source": [
    "Посмотрим на строки с пропущенными значениями:"
   ]
  },
  {
   "cell_type": "code",
   "execution_count": 3,
   "metadata": {},
   "outputs": [
    {
     "data": {
      "text/html": [
       "<div>\n",
       "<style scoped>\n",
       "    .dataframe tbody tr th:only-of-type {\n",
       "        vertical-align: middle;\n",
       "    }\n",
       "\n",
       "    .dataframe tbody tr th {\n",
       "        vertical-align: top;\n",
       "    }\n",
       "\n",
       "    .dataframe thead th {\n",
       "        text-align: right;\n",
       "    }\n",
       "</style>\n",
       "<table border=\"1\" class=\"dataframe\">\n",
       "  <thead>\n",
       "    <tr style=\"text-align: right;\">\n",
       "      <th></th>\n",
       "      <th>children</th>\n",
       "      <th>days_employed</th>\n",
       "      <th>dob_years</th>\n",
       "      <th>education</th>\n",
       "      <th>education_id</th>\n",
       "      <th>family_status</th>\n",
       "      <th>family_status_id</th>\n",
       "      <th>gender</th>\n",
       "      <th>income_type</th>\n",
       "      <th>debt</th>\n",
       "      <th>total_income</th>\n",
       "      <th>purpose</th>\n",
       "    </tr>\n",
       "  </thead>\n",
       "  <tbody>\n",
       "    <tr>\n",
       "      <td>12</td>\n",
       "      <td>0</td>\n",
       "      <td>NaN</td>\n",
       "      <td>65</td>\n",
       "      <td>среднее</td>\n",
       "      <td>1</td>\n",
       "      <td>гражданский брак</td>\n",
       "      <td>1</td>\n",
       "      <td>M</td>\n",
       "      <td>пенсионер</td>\n",
       "      <td>0</td>\n",
       "      <td>NaN</td>\n",
       "      <td>сыграть свадьбу</td>\n",
       "    </tr>\n",
       "    <tr>\n",
       "      <td>26</td>\n",
       "      <td>0</td>\n",
       "      <td>NaN</td>\n",
       "      <td>41</td>\n",
       "      <td>среднее</td>\n",
       "      <td>1</td>\n",
       "      <td>женат / замужем</td>\n",
       "      <td>0</td>\n",
       "      <td>M</td>\n",
       "      <td>госслужащий</td>\n",
       "      <td>0</td>\n",
       "      <td>NaN</td>\n",
       "      <td>образование</td>\n",
       "    </tr>\n",
       "    <tr>\n",
       "      <td>29</td>\n",
       "      <td>0</td>\n",
       "      <td>NaN</td>\n",
       "      <td>63</td>\n",
       "      <td>среднее</td>\n",
       "      <td>1</td>\n",
       "      <td>Не женат / не замужем</td>\n",
       "      <td>4</td>\n",
       "      <td>F</td>\n",
       "      <td>пенсионер</td>\n",
       "      <td>0</td>\n",
       "      <td>NaN</td>\n",
       "      <td>строительство жилой недвижимости</td>\n",
       "    </tr>\n",
       "    <tr>\n",
       "      <td>41</td>\n",
       "      <td>0</td>\n",
       "      <td>NaN</td>\n",
       "      <td>50</td>\n",
       "      <td>среднее</td>\n",
       "      <td>1</td>\n",
       "      <td>женат / замужем</td>\n",
       "      <td>0</td>\n",
       "      <td>F</td>\n",
       "      <td>госслужащий</td>\n",
       "      <td>0</td>\n",
       "      <td>NaN</td>\n",
       "      <td>сделка с подержанным автомобилем</td>\n",
       "    </tr>\n",
       "    <tr>\n",
       "      <td>55</td>\n",
       "      <td>0</td>\n",
       "      <td>NaN</td>\n",
       "      <td>54</td>\n",
       "      <td>среднее</td>\n",
       "      <td>1</td>\n",
       "      <td>гражданский брак</td>\n",
       "      <td>1</td>\n",
       "      <td>F</td>\n",
       "      <td>пенсионер</td>\n",
       "      <td>1</td>\n",
       "      <td>NaN</td>\n",
       "      <td>сыграть свадьбу</td>\n",
       "    </tr>\n",
       "  </tbody>\n",
       "</table>\n",
       "</div>"
      ],
      "text/plain": [
       "    children  days_employed  dob_years education  education_id  \\\n",
       "12         0            NaN         65   среднее             1   \n",
       "26         0            NaN         41   среднее             1   \n",
       "29         0            NaN         63   среднее             1   \n",
       "41         0            NaN         50   среднее             1   \n",
       "55         0            NaN         54   среднее             1   \n",
       "\n",
       "            family_status  family_status_id gender  income_type  debt  \\\n",
       "12       гражданский брак                 1      M    пенсионер     0   \n",
       "26        женат / замужем                 0      M  госслужащий     0   \n",
       "29  Не женат / не замужем                 4      F    пенсионер     0   \n",
       "41        женат / замужем                 0      F  госслужащий     0   \n",
       "55       гражданский брак                 1      F    пенсионер     1   \n",
       "\n",
       "    total_income                           purpose  \n",
       "12           NaN                   сыграть свадьбу  \n",
       "26           NaN                       образование  \n",
       "29           NaN  строительство жилой недвижимости  \n",
       "41           NaN  сделка с подержанным автомобилем  \n",
       "55           NaN                   сыграть свадьбу  "
      ]
     },
     "execution_count": 3,
     "metadata": {},
     "output_type": "execute_result"
    }
   ],
   "source": [
    "data[data[\"total_income\"].isna()].head()"
   ]
  },
  {
   "cell_type": "markdown",
   "metadata": {},
   "source": [
    "Похоже, что пропуски в разных столбцах взаимосвязаны: если пропущено значение в `days_employed`, то будет пропущено и значение в `total_income`. Можно проверить это предположение, воспользовавшись логической индексацией:"
   ]
  },
  {
   "cell_type": "code",
   "execution_count": 4,
   "metadata": {},
   "outputs": [
    {
     "data": {
      "text/plain": [
       "0"
      ]
     },
     "execution_count": 4,
     "metadata": {},
     "output_type": "execute_result"
    }
   ],
   "source": [
    "mask = (data[\"days_employed\"].isna()) & (~data[\"total_income\"].isna())\n",
    "data[mask].shape[0]"
   ]
  },
  {
   "cell_type": "markdown",
   "metadata": {},
   "source": [
    "Получили пустой dataframe. Вероятно, пропуски действительно связаны."
   ]
  },
  {
   "cell_type": "markdown",
   "metadata": {},
   "source": [
    "**Вывод**"
   ]
  },
  {
   "cell_type": "markdown",
   "metadata": {},
   "source": [
    "Пропуски есть в двух столбцах: `days_employed` и `total_income`. Причём пропуски в `days_employed` связаны с пропусками в `total_income`, то есть у тех, кто не указал общий трудовой стаж, не указан и ежемесячный доход. "
   ]
  },
  {
   "cell_type": "markdown",
   "metadata": {},
   "source": [
    "<a id=\"2\"></a>\n",
    "## 2. Предобработка данных"
   ]
  },
  {
   "cell_type": "markdown",
   "metadata": {},
   "source": [
    "<a id=\"2.1\"></a>\n",
    "### 2.1. Обработка пропусков"
   ]
  },
  {
   "cell_type": "markdown",
   "metadata": {},
   "source": [
    "Можно предположить, что ежемесячный доход человека связан с его типом занятости. Будем заполнять пропуски в столбце `total_income` медианным значением для указанного типа занятости человека. Сначала посмотрим, какие есть типы занятости:"
   ]
  },
  {
   "cell_type": "code",
   "execution_count": 5,
   "metadata": {},
   "outputs": [
    {
     "data": {
      "text/plain": [
       "сотрудник          11119\n",
       "компаньон           5085\n",
       "пенсионер           3856\n",
       "госслужащий         1459\n",
       "безработный            2\n",
       "предприниматель        2\n",
       "в декрете              1\n",
       "студент                1\n",
       "Name: income_type, dtype: int64"
      ]
     },
     "execution_count": 5,
     "metadata": {},
     "output_type": "execute_result"
    }
   ],
   "source": [
    "data[\"income_type\"].value_counts()"
   ]
  },
  {
   "cell_type": "markdown",
   "metadata": {},
   "source": [
    "И типы занятости у тех людей, чей ежемесячный доход не указан:"
   ]
  },
  {
   "cell_type": "code",
   "execution_count": 6,
   "metadata": {},
   "outputs": [
    {
     "data": {
      "text/plain": [
       "сотрудник          1105\n",
       "компаньон           508\n",
       "пенсионер           413\n",
       "госслужащий         147\n",
       "предприниматель       1\n",
       "Name: income_type, dtype: int64"
      ]
     },
     "execution_count": 6,
     "metadata": {},
     "output_type": "execute_result"
    }
   ],
   "source": [
    "income_types_with_nan = data[data[\"total_income\"].isna()][\"income_type\"].value_counts()\n",
    "income_types_with_nan"
   ]
  },
  {
   "cell_type": "markdown",
   "metadata": {},
   "source": [
    "Убедимся, что в столбце `total_income` нет аномалий:"
   ]
  },
  {
   "cell_type": "code",
   "execution_count": 7,
   "metadata": {},
   "outputs": [
    {
     "name": "stdout",
     "output_type": "stream",
     "text": [
      "Минимальный ежемесячный доход равен:  20667.26379327158\n",
      "Максимальный ежемесячный доход равен: 2265604.028722744\n",
      "Средний ежемесячный доход равен:      167422.30220817294\n",
      "Медианный ежемесячный доход равен:    145017.93753253992\n"
     ]
    }
   ],
   "source": [
    "print(\"Минимальный ежемесячный доход равен: \", data[\"total_income\"].min())\n",
    "print(\"Максимальный ежемесячный доход равен:\", data[\"total_income\"].max())\n",
    "print(\"Средний ежемесячный доход равен:     \", data[\"total_income\"].mean())\n",
    "print(\"Медианный ежемесячный доход равен:   \", data[\"total_income\"].median())"
   ]
  },
  {
   "cell_type": "markdown",
   "metadata": {},
   "source": [
    "Значения не выглядят необычно, будем считать, что аномалий нет. Рассчитаем медианное значение ежемесячного дохода для каждой из этих категорий и заменим пропуски этими медианами:"
   ]
  },
  {
   "cell_type": "code",
   "execution_count": 8,
   "metadata": {},
   "outputs": [],
   "source": [
    "medians = data.groupby(\"income_type\")[\"total_income\"].median()\n",
    "\n",
    "for income_type in income_types_with_nan.index:\n",
    "    mask = data[\"income_type\"] == income_type\n",
    "    data.loc[mask, \"total_income\"] = data.loc[mask, \"total_income\"].fillna(medians[income_type])"
   ]
  },
  {
   "cell_type": "code",
   "execution_count": 9,
   "metadata": {},
   "outputs": [
    {
     "name": "stdout",
     "output_type": "stream",
     "text": [
      "<class 'pandas.core.frame.DataFrame'>\n",
      "RangeIndex: 21525 entries, 0 to 21524\n",
      "Data columns (total 12 columns):\n",
      "children            21525 non-null int64\n",
      "days_employed       19351 non-null float64\n",
      "dob_years           21525 non-null int64\n",
      "education           21525 non-null object\n",
      "education_id        21525 non-null int64\n",
      "family_status       21525 non-null object\n",
      "family_status_id    21525 non-null int64\n",
      "gender              21525 non-null object\n",
      "income_type         21525 non-null object\n",
      "debt                21525 non-null int64\n",
      "total_income        21525 non-null float64\n",
      "purpose             21525 non-null object\n",
      "dtypes: float64(2), int64(5), object(5)\n",
      "memory usage: 2.0+ MB\n"
     ]
    }
   ],
   "source": [
    "data.info()"
   ]
  },
  {
   "cell_type": "markdown",
   "metadata": {},
   "source": [
    "Пропущенных значений в `total_income` больше нет. \n",
    "\n",
    "Если обратить внимание на `days_employed`, то можно заметить, что значения выглядят странно: у многих клиентов стаж принимает отрицательное значение, а у некоторых принимает очень большое положительное значение:"
   ]
  },
  {
   "cell_type": "code",
   "execution_count": 10,
   "metadata": {},
   "outputs": [
    {
     "data": {
      "text/plain": [
       "6954     401755.400475\n",
       "10006    401715.811749\n",
       "7664     401675.093434\n",
       "2156     401674.466633\n",
       "7794     401663.850046\n",
       "Name: days_employed, dtype: float64"
      ]
     },
     "execution_count": 10,
     "metadata": {},
     "output_type": "execute_result"
    }
   ],
   "source": [
    "data[\"days_employed\"].sort_values(ascending=False)[:5]"
   ]
  },
  {
   "cell_type": "code",
   "execution_count": 11,
   "metadata": {},
   "outputs": [
    {
     "data": {
      "text/plain": [
       "20444    328728.720605\n",
       "9328     328734.923996\n",
       "17782    328771.341387\n",
       "14783    328795.726728\n",
       "7229     328827.345667\n",
       "Name: days_employed, dtype: float64"
      ]
     },
     "execution_count": 11,
     "metadata": {},
     "output_type": "execute_result"
    }
   ],
   "source": [
    "data[data[\"days_employed\"] > 0][\"days_employed\"].sort_values(ascending=True)[:5]"
   ]
  },
  {
   "cell_type": "markdown",
   "metadata": {},
   "source": [
    "В таком виде использовать эти данные для замены пропущенных значений нельзя. Вероятно, стаж клиентов записан не в днях, а в часах. Поделим значение на 24 часа:"
   ]
  },
  {
   "cell_type": "code",
   "execution_count": 12,
   "metadata": {},
   "outputs": [],
   "source": [
    "mask = data[\"days_employed\"] > 0\n",
    "data.loc[mask, \"days_employed\"] = data.loc[mask, \"days_employed\"]/24"
   ]
  },
  {
   "cell_type": "code",
   "execution_count": 13,
   "metadata": {},
   "outputs": [
    {
     "data": {
      "text/plain": [
       "20444    13697.030025\n",
       "9328     13697.288500\n",
       "17782    13698.805891\n",
       "14783    13699.821947\n",
       "7229     13701.139403\n",
       "Name: days_employed, dtype: float64"
      ]
     },
     "execution_count": 13,
     "metadata": {},
     "output_type": "execute_result"
    }
   ],
   "source": [
    "data[data[\"days_employed\"] > 0][\"days_employed\"].sort_values(ascending=True)[:5]"
   ]
  },
  {
   "cell_type": "markdown",
   "metadata": {},
   "source": [
    "Значения стали похожи на остальные в этом столбце во абсолтюной величине, но отличаются знаком. Возьмём модуль:"
   ]
  },
  {
   "cell_type": "code",
   "execution_count": 14,
   "metadata": {},
   "outputs": [
    {
     "data": {
      "text/plain": [
       "17437    24.141633\n",
       "8336     24.240695\n",
       "6157     30.195337\n",
       "9683     33.520665\n",
       "2127     34.701045\n",
       "Name: days_employed, dtype: float64"
      ]
     },
     "execution_count": 14,
     "metadata": {},
     "output_type": "execute_result"
    }
   ],
   "source": [
    "data[\"days_employed\"] = data[\"days_employed\"].apply(abs)\n",
    "data[\"days_employed\"].sort_values()[:5]"
   ]
  },
  {
   "cell_type": "markdown",
   "metadata": {},
   "source": [
    "Всё готово для замены пропущенных значений в `days_employed`. Опять будем использовать медианные значения для каждого типа клиентов."
   ]
  },
  {
   "cell_type": "code",
   "execution_count": 15,
   "metadata": {},
   "outputs": [
    {
     "data": {
      "text/plain": [
       "income_type\n",
       "безработный        15267.235531\n",
       "в декрете           3296.759962\n",
       "госслужащий         2689.368353\n",
       "компаньон           1547.382223\n",
       "пенсионер          15217.221094\n",
       "предприниматель      520.848083\n",
       "сотрудник           1574.202821\n",
       "студент              578.751554\n",
       "Name: days_employed, dtype: float64"
      ]
     },
     "execution_count": 15,
     "metadata": {},
     "output_type": "execute_result"
    }
   ],
   "source": [
    "medians = data.groupby(\"income_type\")[\"days_employed\"].median()\n",
    "medians"
   ]
  },
  {
   "cell_type": "markdown",
   "metadata": {},
   "source": [
    "_(Любопытная особенность: у безработных очень большой стаж работы. Если посмотреть на эти записи, то их окажется ровно две. При этом стаж клиентов будет больше их возраста! Очевидно, что это артефакты, однако в задании эти данные использовать не предполагается, поэтому можно их не обрабатывать.)_"
   ]
  },
  {
   "cell_type": "code",
   "execution_count": 16,
   "metadata": {},
   "outputs": [],
   "source": [
    "for income_type in income_types_with_nan.index:\n",
    "    mask = data[\"income_type\"] == income_type\n",
    "    data.loc[mask, \"days_employed\"] = data.loc[mask, \"days_employed\"].fillna(medians[income_type])"
   ]
  },
  {
   "cell_type": "code",
   "execution_count": 17,
   "metadata": {},
   "outputs": [
    {
     "name": "stdout",
     "output_type": "stream",
     "text": [
      "<class 'pandas.core.frame.DataFrame'>\n",
      "RangeIndex: 21525 entries, 0 to 21524\n",
      "Data columns (total 12 columns):\n",
      "children            21525 non-null int64\n",
      "days_employed       21525 non-null float64\n",
      "dob_years           21525 non-null int64\n",
      "education           21525 non-null object\n",
      "education_id        21525 non-null int64\n",
      "family_status       21525 non-null object\n",
      "family_status_id    21525 non-null int64\n",
      "gender              21525 non-null object\n",
      "income_type         21525 non-null object\n",
      "debt                21525 non-null int64\n",
      "total_income        21525 non-null float64\n",
      "purpose             21525 non-null object\n",
      "dtypes: float64(2), int64(5), object(5)\n",
      "memory usage: 2.0+ MB\n"
     ]
    }
   ],
   "source": [
    "data.info()"
   ]
  },
  {
   "cell_type": "markdown",
   "metadata": {},
   "source": [
    "Убедились, что пропущенных значений больше нет, переходим к замене типов данных в столбцах."
   ]
  },
  {
   "cell_type": "markdown",
   "metadata": {},
   "source": [
    "**Вывод**"
   ]
  },
  {
   "cell_type": "markdown",
   "metadata": {},
   "source": [
    "Заменили пропущенные значения на медианные для соответствующих типов занятости. Обнаружили артефакты в данных и поправили некоторые из них. "
   ]
  },
  {
   "cell_type": "code",
   "execution_count": 18,
   "metadata": {},
   "outputs": [
    {
     "data": {
      "text/html": [
       "<div>\n",
       "<style scoped>\n",
       "    .dataframe tbody tr th:only-of-type {\n",
       "        vertical-align: middle;\n",
       "    }\n",
       "\n",
       "    .dataframe tbody tr th {\n",
       "        vertical-align: top;\n",
       "    }\n",
       "\n",
       "    .dataframe thead th {\n",
       "        text-align: right;\n",
       "    }\n",
       "</style>\n",
       "<table border=\"1\" class=\"dataframe\">\n",
       "  <thead>\n",
       "    <tr style=\"text-align: right;\">\n",
       "      <th></th>\n",
       "      <th>children</th>\n",
       "      <th>days_employed</th>\n",
       "      <th>dob_years</th>\n",
       "      <th>education_id</th>\n",
       "      <th>family_status_id</th>\n",
       "      <th>debt</th>\n",
       "      <th>total_income</th>\n",
       "    </tr>\n",
       "  </thead>\n",
       "  <tbody>\n",
       "    <tr>\n",
       "      <td>count</td>\n",
       "      <td>21525.000000</td>\n",
       "      <td>21525.000000</td>\n",
       "      <td>21525.000000</td>\n",
       "      <td>21525.000000</td>\n",
       "      <td>21525.000000</td>\n",
       "      <td>21525.000000</td>\n",
       "      <td>2.152500e+04</td>\n",
       "    </tr>\n",
       "    <tr>\n",
       "      <td>mean</td>\n",
       "      <td>0.538908</td>\n",
       "      <td>4600.535795</td>\n",
       "      <td>43.293380</td>\n",
       "      <td>0.817236</td>\n",
       "      <td>0.972544</td>\n",
       "      <td>0.080883</td>\n",
       "      <td>1.652253e+05</td>\n",
       "    </tr>\n",
       "    <tr>\n",
       "      <td>std</td>\n",
       "      <td>1.381587</td>\n",
       "      <td>5354.354167</td>\n",
       "      <td>12.574584</td>\n",
       "      <td>0.548138</td>\n",
       "      <td>1.420324</td>\n",
       "      <td>0.272661</td>\n",
       "      <td>9.804367e+04</td>\n",
       "    </tr>\n",
       "    <tr>\n",
       "      <td>min</td>\n",
       "      <td>-1.000000</td>\n",
       "      <td>24.141633</td>\n",
       "      <td>0.000000</td>\n",
       "      <td>0.000000</td>\n",
       "      <td>0.000000</td>\n",
       "      <td>0.000000</td>\n",
       "      <td>2.066726e+04</td>\n",
       "    </tr>\n",
       "    <tr>\n",
       "      <td>25%</td>\n",
       "      <td>0.000000</td>\n",
       "      <td>1025.549623</td>\n",
       "      <td>33.000000</td>\n",
       "      <td>1.000000</td>\n",
       "      <td>0.000000</td>\n",
       "      <td>0.000000</td>\n",
       "      <td>1.077982e+05</td>\n",
       "    </tr>\n",
       "    <tr>\n",
       "      <td>50%</td>\n",
       "      <td>0.000000</td>\n",
       "      <td>1993.522017</td>\n",
       "      <td>42.000000</td>\n",
       "      <td>1.000000</td>\n",
       "      <td>0.000000</td>\n",
       "      <td>0.000000</td>\n",
       "      <td>1.425944e+05</td>\n",
       "    </tr>\n",
       "    <tr>\n",
       "      <td>75%</td>\n",
       "      <td>1.000000</td>\n",
       "      <td>5347.024506</td>\n",
       "      <td>53.000000</td>\n",
       "      <td>1.000000</td>\n",
       "      <td>1.000000</td>\n",
       "      <td>0.000000</td>\n",
       "      <td>1.955499e+05</td>\n",
       "    </tr>\n",
       "    <tr>\n",
       "      <td>max</td>\n",
       "      <td>20.000000</td>\n",
       "      <td>18388.949901</td>\n",
       "      <td>75.000000</td>\n",
       "      <td>4.000000</td>\n",
       "      <td>4.000000</td>\n",
       "      <td>1.000000</td>\n",
       "      <td>2.265604e+06</td>\n",
       "    </tr>\n",
       "  </tbody>\n",
       "</table>\n",
       "</div>"
      ],
      "text/plain": [
       "           children  days_employed     dob_years  education_id  \\\n",
       "count  21525.000000   21525.000000  21525.000000  21525.000000   \n",
       "mean       0.538908    4600.535795     43.293380      0.817236   \n",
       "std        1.381587    5354.354167     12.574584      0.548138   \n",
       "min       -1.000000      24.141633      0.000000      0.000000   \n",
       "25%        0.000000    1025.549623     33.000000      1.000000   \n",
       "50%        0.000000    1993.522017     42.000000      1.000000   \n",
       "75%        1.000000    5347.024506     53.000000      1.000000   \n",
       "max       20.000000   18388.949901     75.000000      4.000000   \n",
       "\n",
       "       family_status_id          debt  total_income  \n",
       "count      21525.000000  21525.000000  2.152500e+04  \n",
       "mean           0.972544      0.080883  1.652253e+05  \n",
       "std            1.420324      0.272661  9.804367e+04  \n",
       "min            0.000000      0.000000  2.066726e+04  \n",
       "25%            0.000000      0.000000  1.077982e+05  \n",
       "50%            0.000000      0.000000  1.425944e+05  \n",
       "75%            1.000000      0.000000  1.955499e+05  \n",
       "max            4.000000      1.000000  2.265604e+06  "
      ]
     },
     "execution_count": 18,
     "metadata": {},
     "output_type": "execute_result"
    }
   ],
   "source": [
    "data.describe()"
   ]
  },
  {
   "cell_type": "markdown",
   "metadata": {},
   "source": [
    "<a id=\"2.2\"></a>\n",
    "### 2.2. Замена типа данных"
   ]
  },
  {
   "cell_type": "markdown",
   "metadata": {},
   "source": [
    "Заменим тип данных `days_employed` и `total_income` на `int`, для этого воспользуемся методом `.astype()`."
   ]
  },
  {
   "cell_type": "code",
   "execution_count": 19,
   "metadata": {},
   "outputs": [
    {
     "data": {
      "text/plain": [
       "children             int64\n",
       "days_employed        int64\n",
       "dob_years            int64\n",
       "education           object\n",
       "education_id         int64\n",
       "family_status       object\n",
       "family_status_id     int64\n",
       "gender              object\n",
       "income_type         object\n",
       "debt                 int64\n",
       "total_income         int64\n",
       "purpose             object\n",
       "dtype: object"
      ]
     },
     "execution_count": 19,
     "metadata": {},
     "output_type": "execute_result"
    }
   ],
   "source": [
    "data = data.astype({\"days_employed\": \"int64\", \"total_income\": \"int64\"})\n",
    "data.dtypes"
   ]
  },
  {
   "cell_type": "markdown",
   "metadata": {},
   "source": [
    "**Вывод**"
   ]
  },
  {
   "cell_type": "markdown",
   "metadata": {},
   "source": [
    "Заменили тип данных в выбранных столбцах на `int`."
   ]
  },
  {
   "cell_type": "markdown",
   "metadata": {},
   "source": [
    "<a id=\"2.3\"></a>\n",
    "### 2.3. Обработка дубликатов"
   ]
  },
  {
   "cell_type": "markdown",
   "metadata": {},
   "source": [
    "Посмотрим на данные в столбцах со строковыми значениями (столбец `income_type` уже рассматривали выше):"
   ]
  },
  {
   "cell_type": "code",
   "execution_count": 20,
   "metadata": {},
   "outputs": [
    {
     "data": {
      "text/plain": [
       "среднее                13750\n",
       "высшее                  4718\n",
       "СРЕДНЕЕ                  772\n",
       "Среднее                  711\n",
       "неоконченное высшее      668\n",
       "ВЫСШЕЕ                   274\n",
       "Высшее                   268\n",
       "начальное                250\n",
       "Неоконченное высшее       47\n",
       "НЕОКОНЧЕННОЕ ВЫСШЕЕ       29\n",
       "НАЧАЛЬНОЕ                 17\n",
       "Начальное                 15\n",
       "ученая степень             4\n",
       "УЧЕНАЯ СТЕПЕНЬ             1\n",
       "Ученая степень             1\n",
       "Name: education, dtype: int64"
      ]
     },
     "execution_count": 20,
     "metadata": {},
     "output_type": "execute_result"
    }
   ],
   "source": [
    "data[\"education\"].value_counts()"
   ]
  },
  {
   "cell_type": "code",
   "execution_count": 21,
   "metadata": {},
   "outputs": [
    {
     "data": {
      "text/plain": [
       "женат / замужем          12380\n",
       "гражданский брак          4177\n",
       "Не женат / не замужем     2813\n",
       "в разводе                 1195\n",
       "вдовец / вдова             960\n",
       "Name: family_status, dtype: int64"
      ]
     },
     "execution_count": 21,
     "metadata": {},
     "output_type": "execute_result"
    }
   ],
   "source": [
    "data[\"family_status\"].value_counts()"
   ]
  },
  {
   "cell_type": "code",
   "execution_count": 22,
   "metadata": {},
   "outputs": [
    {
     "data": {
      "text/plain": [
       "свадьба                                   797\n",
       "на проведение свадьбы                     777\n",
       "сыграть свадьбу                           774\n",
       "операции с недвижимостью                  676\n",
       "покупка коммерческой недвижимости         664\n",
       "операции с жильем                         653\n",
       "покупка жилья для сдачи                   653\n",
       "операции с коммерческой недвижимостью     651\n",
       "покупка жилья                             647\n",
       "жилье                                     647\n",
       "покупка жилья для семьи                   641\n",
       "строительство собственной недвижимости    635\n",
       "недвижимость                              634\n",
       "операции со своей недвижимостью           630\n",
       "строительство жилой недвижимости          626\n",
       "покупка недвижимости                      624\n",
       "строительство недвижимости                620\n",
       "покупка своего жилья                      620\n",
       "ремонт жилью                              612\n",
       "покупка жилой недвижимости                607\n",
       "на покупку своего автомобиля              505\n",
       "заняться высшим образованием              496\n",
       "автомобиль                                495\n",
       "сделка с подержанным автомобилем          489\n",
       "свой автомобиль                           480\n",
       "на покупку подержанного автомобиля        479\n",
       "автомобили                                478\n",
       "на покупку автомобиля                     472\n",
       "приобретение автомобиля                   462\n",
       "дополнительное образование                462\n",
       "сделка с автомобилем                      455\n",
       "высшее образование                        453\n",
       "получение дополнительного образования     447\n",
       "образование                               447\n",
       "получение образования                     443\n",
       "профильное образование                    436\n",
       "получение высшего образования             426\n",
       "заняться образованием                     412\n",
       "Name: purpose, dtype: int64"
      ]
     },
     "execution_count": 22,
     "metadata": {},
     "output_type": "execute_result"
    }
   ],
   "source": [
    "data[\"purpose\"].value_counts()"
   ]
  },
  {
   "cell_type": "markdown",
   "metadata": {},
   "source": [
    "В столбце `education` есть одинаковые значения, но записанные в разном регистре, в остальных столбцах такого нет. Приведём данные к нижнему регистру, посмотрим на количество явных дубликатов и удалим их методом `drop_duplicates()`:"
   ]
  },
  {
   "cell_type": "code",
   "execution_count": 23,
   "metadata": {},
   "outputs": [],
   "source": [
    "data[\"education\"] = data[\"education\"].str.lower()"
   ]
  },
  {
   "cell_type": "code",
   "execution_count": 24,
   "metadata": {},
   "outputs": [
    {
     "name": "stdout",
     "output_type": "stream",
     "text": [
      "Число явных дубликатов: 71\n"
     ]
    }
   ],
   "source": [
    "print(\"Число явных дубликатов:\", data.duplicated().sum())\n",
    "data = data.drop_duplicates().reset_index(drop=True);"
   ]
  },
  {
   "cell_type": "markdown",
   "metadata": {},
   "source": [
    "**Вывод**"
   ]
  },
  {
   "cell_type": "markdown",
   "metadata": {},
   "source": [
    "Нашли явные дубликаты в данных и избавились от них."
   ]
  },
  {
   "cell_type": "markdown",
   "metadata": {},
   "source": [
    "<a id=\"2.4\"></a>\n",
    "### 2.4. Лемматизация"
   ]
  },
  {
   "cell_type": "markdown",
   "metadata": {},
   "source": [
    "Если посмотреть на список значений, которые встречаются в `purpose`, то можно выделить четыре основных цели кредита: покупка/ремонт/строительство недвижимости, покупку автомобиля, получение образования и проведение свадьбы. Обозначим эти цели как категории: `недвижимость`, `автомобиль`, `образование`, `свадьба`.\n",
    "\n",
    "Чтобы автоматически назначить категорию, нужно сначала провести лемматизацию слов, входящих в описание цели кредита, а затем проверить, попадает ли какое-либо ключевое слово (см. названия категорий) в результат лемматизации. Будем использовать для этого библиотеку `pymystem3`. Импортируем из библиотеки класс `Mystem`, затем создаём экземпляр этого класса, применяем его метод `.lemmatize()` к столбцу `purpose`. Результат сохраним в новый столбец `purpose_lemmatized`."
   ]
  },
  {
   "cell_type": "code",
   "execution_count": 25,
   "metadata": {},
   "outputs": [
    {
     "data": {
      "text/html": [
       "<div>\n",
       "<style scoped>\n",
       "    .dataframe tbody tr th:only-of-type {\n",
       "        vertical-align: middle;\n",
       "    }\n",
       "\n",
       "    .dataframe tbody tr th {\n",
       "        vertical-align: top;\n",
       "    }\n",
       "\n",
       "    .dataframe thead th {\n",
       "        text-align: right;\n",
       "    }\n",
       "</style>\n",
       "<table border=\"1\" class=\"dataframe\">\n",
       "  <thead>\n",
       "    <tr style=\"text-align: right;\">\n",
       "      <th></th>\n",
       "      <th>children</th>\n",
       "      <th>days_employed</th>\n",
       "      <th>dob_years</th>\n",
       "      <th>education</th>\n",
       "      <th>education_id</th>\n",
       "      <th>family_status</th>\n",
       "      <th>family_status_id</th>\n",
       "      <th>gender</th>\n",
       "      <th>income_type</th>\n",
       "      <th>debt</th>\n",
       "      <th>total_income</th>\n",
       "      <th>purpose</th>\n",
       "      <th>purpose_lemmatized</th>\n",
       "    </tr>\n",
       "  </thead>\n",
       "  <tbody>\n",
       "    <tr>\n",
       "      <td>0</td>\n",
       "      <td>1</td>\n",
       "      <td>8437</td>\n",
       "      <td>42</td>\n",
       "      <td>высшее</td>\n",
       "      <td>0</td>\n",
       "      <td>женат / замужем</td>\n",
       "      <td>0</td>\n",
       "      <td>F</td>\n",
       "      <td>сотрудник</td>\n",
       "      <td>0</td>\n",
       "      <td>253875</td>\n",
       "      <td>покупка жилья</td>\n",
       "      <td>[покупка,  , жилье, \\n]</td>\n",
       "    </tr>\n",
       "    <tr>\n",
       "      <td>1</td>\n",
       "      <td>1</td>\n",
       "      <td>4024</td>\n",
       "      <td>36</td>\n",
       "      <td>среднее</td>\n",
       "      <td>1</td>\n",
       "      <td>женат / замужем</td>\n",
       "      <td>0</td>\n",
       "      <td>F</td>\n",
       "      <td>сотрудник</td>\n",
       "      <td>0</td>\n",
       "      <td>112080</td>\n",
       "      <td>приобретение автомобиля</td>\n",
       "      <td>[приобретение,  , автомобиль, \\n]</td>\n",
       "    </tr>\n",
       "    <tr>\n",
       "      <td>2</td>\n",
       "      <td>0</td>\n",
       "      <td>5623</td>\n",
       "      <td>33</td>\n",
       "      <td>среднее</td>\n",
       "      <td>1</td>\n",
       "      <td>женат / замужем</td>\n",
       "      <td>0</td>\n",
       "      <td>M</td>\n",
       "      <td>сотрудник</td>\n",
       "      <td>0</td>\n",
       "      <td>145885</td>\n",
       "      <td>покупка жилья</td>\n",
       "      <td>[покупка,  , жилье, \\n]</td>\n",
       "    </tr>\n",
       "    <tr>\n",
       "      <td>3</td>\n",
       "      <td>3</td>\n",
       "      <td>4124</td>\n",
       "      <td>32</td>\n",
       "      <td>среднее</td>\n",
       "      <td>1</td>\n",
       "      <td>женат / замужем</td>\n",
       "      <td>0</td>\n",
       "      <td>M</td>\n",
       "      <td>сотрудник</td>\n",
       "      <td>0</td>\n",
       "      <td>267628</td>\n",
       "      <td>дополнительное образование</td>\n",
       "      <td>[дополнительный,  , образование, \\n]</td>\n",
       "    </tr>\n",
       "    <tr>\n",
       "      <td>4</td>\n",
       "      <td>0</td>\n",
       "      <td>14177</td>\n",
       "      <td>53</td>\n",
       "      <td>среднее</td>\n",
       "      <td>1</td>\n",
       "      <td>гражданский брак</td>\n",
       "      <td>1</td>\n",
       "      <td>F</td>\n",
       "      <td>пенсионер</td>\n",
       "      <td>0</td>\n",
       "      <td>158616</td>\n",
       "      <td>сыграть свадьбу</td>\n",
       "      <td>[сыграть,  , свадьба, \\n]</td>\n",
       "    </tr>\n",
       "  </tbody>\n",
       "</table>\n",
       "</div>"
      ],
      "text/plain": [
       "   children  days_employed  dob_years education  education_id  \\\n",
       "0         1           8437         42    высшее             0   \n",
       "1         1           4024         36   среднее             1   \n",
       "2         0           5623         33   среднее             1   \n",
       "3         3           4124         32   среднее             1   \n",
       "4         0          14177         53   среднее             1   \n",
       "\n",
       "      family_status  family_status_id gender income_type  debt  total_income  \\\n",
       "0   женат / замужем                 0      F   сотрудник     0        253875   \n",
       "1   женат / замужем                 0      F   сотрудник     0        112080   \n",
       "2   женат / замужем                 0      M   сотрудник     0        145885   \n",
       "3   женат / замужем                 0      M   сотрудник     0        267628   \n",
       "4  гражданский брак                 1      F   пенсионер     0        158616   \n",
       "\n",
       "                      purpose                    purpose_lemmatized  \n",
       "0               покупка жилья               [покупка,  , жилье, \\n]  \n",
       "1     приобретение автомобиля     [приобретение,  , автомобиль, \\n]  \n",
       "2               покупка жилья               [покупка,  , жилье, \\n]  \n",
       "3  дополнительное образование  [дополнительный,  , образование, \\n]  \n",
       "4             сыграть свадьбу             [сыграть,  , свадьба, \\n]  "
      ]
     },
     "execution_count": 25,
     "metadata": {},
     "output_type": "execute_result"
    }
   ],
   "source": [
    "data.loc[:, \"purpose_lemmatized\"] = data[\"purpose\"].apply(Mystem().lemmatize)\n",
    "data.head()"
   ]
  },
  {
   "cell_type": "markdown",
   "metadata": {},
   "source": [
    "**Вывод**"
   ]
  },
  {
   "cell_type": "markdown",
   "metadata": {},
   "source": [
    "Лемматизировали столбец с целями кредита."
   ]
  },
  {
   "cell_type": "markdown",
   "metadata": {},
   "source": [
    "<a id=\"2.5\"></a>\n",
    "### 2.5. Категоризация данных"
   ]
  },
  {
   "cell_type": "markdown",
   "metadata": {},
   "source": [
    "Напишем функцию `assign_category()`, которая будет категоризировать цели клиентов, и применим её к столбцу `purpose_lemmatized`. Результат сохраняем в столбец `purpose_category`:"
   ]
  },
  {
   "cell_type": "code",
   "execution_count": 26,
   "metadata": {},
   "outputs": [
    {
     "data": {
      "text/html": [
       "<div>\n",
       "<style scoped>\n",
       "    .dataframe tbody tr th:only-of-type {\n",
       "        vertical-align: middle;\n",
       "    }\n",
       "\n",
       "    .dataframe tbody tr th {\n",
       "        vertical-align: top;\n",
       "    }\n",
       "\n",
       "    .dataframe thead th {\n",
       "        text-align: right;\n",
       "    }\n",
       "</style>\n",
       "<table border=\"1\" class=\"dataframe\">\n",
       "  <thead>\n",
       "    <tr style=\"text-align: right;\">\n",
       "      <th></th>\n",
       "      <th>children</th>\n",
       "      <th>days_employed</th>\n",
       "      <th>dob_years</th>\n",
       "      <th>education</th>\n",
       "      <th>education_id</th>\n",
       "      <th>family_status</th>\n",
       "      <th>family_status_id</th>\n",
       "      <th>gender</th>\n",
       "      <th>income_type</th>\n",
       "      <th>debt</th>\n",
       "      <th>total_income</th>\n",
       "      <th>purpose</th>\n",
       "      <th>purpose_lemmatized</th>\n",
       "      <th>purpose_category</th>\n",
       "    </tr>\n",
       "  </thead>\n",
       "  <tbody>\n",
       "    <tr>\n",
       "      <td>0</td>\n",
       "      <td>1</td>\n",
       "      <td>8437</td>\n",
       "      <td>42</td>\n",
       "      <td>высшее</td>\n",
       "      <td>0</td>\n",
       "      <td>женат / замужем</td>\n",
       "      <td>0</td>\n",
       "      <td>F</td>\n",
       "      <td>сотрудник</td>\n",
       "      <td>0</td>\n",
       "      <td>253875</td>\n",
       "      <td>покупка жилья</td>\n",
       "      <td>[покупка,  , жилье, \\n]</td>\n",
       "      <td>недвижимость</td>\n",
       "    </tr>\n",
       "    <tr>\n",
       "      <td>1</td>\n",
       "      <td>1</td>\n",
       "      <td>4024</td>\n",
       "      <td>36</td>\n",
       "      <td>среднее</td>\n",
       "      <td>1</td>\n",
       "      <td>женат / замужем</td>\n",
       "      <td>0</td>\n",
       "      <td>F</td>\n",
       "      <td>сотрудник</td>\n",
       "      <td>0</td>\n",
       "      <td>112080</td>\n",
       "      <td>приобретение автомобиля</td>\n",
       "      <td>[приобретение,  , автомобиль, \\n]</td>\n",
       "      <td>автомобиль</td>\n",
       "    </tr>\n",
       "    <tr>\n",
       "      <td>2</td>\n",
       "      <td>0</td>\n",
       "      <td>5623</td>\n",
       "      <td>33</td>\n",
       "      <td>среднее</td>\n",
       "      <td>1</td>\n",
       "      <td>женат / замужем</td>\n",
       "      <td>0</td>\n",
       "      <td>M</td>\n",
       "      <td>сотрудник</td>\n",
       "      <td>0</td>\n",
       "      <td>145885</td>\n",
       "      <td>покупка жилья</td>\n",
       "      <td>[покупка,  , жилье, \\n]</td>\n",
       "      <td>недвижимость</td>\n",
       "    </tr>\n",
       "    <tr>\n",
       "      <td>3</td>\n",
       "      <td>3</td>\n",
       "      <td>4124</td>\n",
       "      <td>32</td>\n",
       "      <td>среднее</td>\n",
       "      <td>1</td>\n",
       "      <td>женат / замужем</td>\n",
       "      <td>0</td>\n",
       "      <td>M</td>\n",
       "      <td>сотрудник</td>\n",
       "      <td>0</td>\n",
       "      <td>267628</td>\n",
       "      <td>дополнительное образование</td>\n",
       "      <td>[дополнительный,  , образование, \\n]</td>\n",
       "      <td>образование</td>\n",
       "    </tr>\n",
       "    <tr>\n",
       "      <td>4</td>\n",
       "      <td>0</td>\n",
       "      <td>14177</td>\n",
       "      <td>53</td>\n",
       "      <td>среднее</td>\n",
       "      <td>1</td>\n",
       "      <td>гражданский брак</td>\n",
       "      <td>1</td>\n",
       "      <td>F</td>\n",
       "      <td>пенсионер</td>\n",
       "      <td>0</td>\n",
       "      <td>158616</td>\n",
       "      <td>сыграть свадьбу</td>\n",
       "      <td>[сыграть,  , свадьба, \\n]</td>\n",
       "      <td>свадьба</td>\n",
       "    </tr>\n",
       "  </tbody>\n",
       "</table>\n",
       "</div>"
      ],
      "text/plain": [
       "   children  days_employed  dob_years education  education_id  \\\n",
       "0         1           8437         42    высшее             0   \n",
       "1         1           4024         36   среднее             1   \n",
       "2         0           5623         33   среднее             1   \n",
       "3         3           4124         32   среднее             1   \n",
       "4         0          14177         53   среднее             1   \n",
       "\n",
       "      family_status  family_status_id gender income_type  debt  total_income  \\\n",
       "0   женат / замужем                 0      F   сотрудник     0        253875   \n",
       "1   женат / замужем                 0      F   сотрудник     0        112080   \n",
       "2   женат / замужем                 0      M   сотрудник     0        145885   \n",
       "3   женат / замужем                 0      M   сотрудник     0        267628   \n",
       "4  гражданский брак                 1      F   пенсионер     0        158616   \n",
       "\n",
       "                      purpose                    purpose_lemmatized  \\\n",
       "0               покупка жилья               [покупка,  , жилье, \\n]   \n",
       "1     приобретение автомобиля     [приобретение,  , автомобиль, \\n]   \n",
       "2               покупка жилья               [покупка,  , жилье, \\n]   \n",
       "3  дополнительное образование  [дополнительный,  , образование, \\n]   \n",
       "4             сыграть свадьбу             [сыграть,  , свадьба, \\n]   \n",
       "\n",
       "  purpose_category  \n",
       "0     недвижимость  \n",
       "1       автомобиль  \n",
       "2     недвижимость  \n",
       "3      образование  \n",
       "4          свадьба  "
      ]
     },
     "execution_count": 26,
     "metadata": {},
     "output_type": "execute_result"
    }
   ],
   "source": [
    "def assign_category(list_of_words):\n",
    "    if \"недвижимость\" in list_of_words or \"жилье\" in list_of_words:\n",
    "        return \"недвижимость\"\n",
    "    elif \"автомобиль\" in list_of_words:\n",
    "        return \"автомобиль\"\n",
    "    elif \"образование\" in list_of_words:\n",
    "        return \"образование\"\n",
    "    elif \"свадьба\" in list_of_words:\n",
    "        return \"свадьба\"\n",
    "    else:\n",
    "        None\n",
    "        \n",
    "\n",
    "\n",
    "data.loc[:, \"purpose_category\"] = data[\"purpose_lemmatized\"].apply(assign_category)\n",
    "data.head()"
   ]
  },
  {
   "cell_type": "markdown",
   "metadata": {},
   "source": [
    "Убедимся, что в полученном столбце с категориями нет пропущенных значений и удалим ненужный столбец `purpose_lemmatized`:"
   ]
  },
  {
   "cell_type": "code",
   "execution_count": 27,
   "metadata": {},
   "outputs": [
    {
     "name": "stdout",
     "output_type": "stream",
     "text": [
      "Количество пропущенных значений: 0\n"
     ]
    }
   ],
   "source": [
    "print(\"Количество пропущенных значений:\", data[\"purpose_category\"].isna().sum())\n",
    "data.drop(\"purpose_lemmatized\", axis=1, inplace=True)"
   ]
  },
  {
   "cell_type": "markdown",
   "metadata": {},
   "source": [
    "**Вывод**"
   ]
  },
  {
   "cell_type": "markdown",
   "metadata": {},
   "source": [
    "Получили столбец с категориями целей кредита, проверили его на наличие пропущенных значений."
   ]
  },
  {
   "cell_type": "markdown",
   "metadata": {},
   "source": [
    "<a id=\"3\"></a>\n",
    "## 3. Ответы на вопросы"
   ]
  },
  {
   "cell_type": "markdown",
   "metadata": {},
   "source": [
    "- Есть ли зависимость между наличием детей и возвратом кредита в срок?"
   ]
  },
  {
   "cell_type": "markdown",
   "metadata": {},
   "source": [
    "Посмотрим на данные в столбце `children`:"
   ]
  },
  {
   "cell_type": "markdown",
   "metadata": {},
   "source": [
    "Там встречаются люди с 20 детьми, а также те, у кого -1 ребёнок. По всей видимости это ошибочные значения. Будем считать, что вместо `-1` должно быть `1`, а вместо `20` - значение `2`. "
   ]
  },
  {
   "cell_type": "code",
   "execution_count": 28,
   "metadata": {},
   "outputs": [
    {
     "data": {
      "text/plain": [
       " 0     14091\n",
       " 1      4808\n",
       " 2      2052\n",
       " 3       330\n",
       " 20       76\n",
       "-1        47\n",
       " 4        41\n",
       " 5         9\n",
       "Name: children, dtype: int64"
      ]
     },
     "execution_count": 28,
     "metadata": {},
     "output_type": "execute_result"
    }
   ],
   "source": [
    "data[\"children\"].value_counts()"
   ]
  },
  {
   "cell_type": "code",
   "execution_count": 29,
   "metadata": {},
   "outputs": [
    {
     "data": {
      "text/plain": [
       "0    14091\n",
       "1     4855\n",
       "2     2128\n",
       "3      330\n",
       "4       41\n",
       "5        9\n",
       "Name: children, dtype: int64"
      ]
     },
     "execution_count": 29,
     "metadata": {},
     "output_type": "execute_result"
    }
   ],
   "source": [
    "data[\"children\"].replace({-1: 1, 20: 2}, inplace=True)\n",
    "data[\"children\"].value_counts()"
   ]
  },
  {
   "cell_type": "markdown",
   "metadata": {},
   "source": [
    "Теперь посчитаем (в процентах) доли людей с детьми и без детей, которые имели задолженность по кредиту:"
   ]
  },
  {
   "cell_type": "code",
   "execution_count": 30,
   "metadata": {},
   "outputs": [
    {
     "data": {
      "text/html": [
       "<div>\n",
       "<style scoped>\n",
       "    .dataframe tbody tr th:only-of-type {\n",
       "        vertical-align: middle;\n",
       "    }\n",
       "\n",
       "    .dataframe tbody tr th {\n",
       "        vertical-align: top;\n",
       "    }\n",
       "\n",
       "    .dataframe thead tr th {\n",
       "        text-align: left;\n",
       "    }\n",
       "\n",
       "    .dataframe thead tr:last-of-type th {\n",
       "        text-align: right;\n",
       "    }\n",
       "</style>\n",
       "<table border=\"1\" class=\"dataframe\">\n",
       "  <thead>\n",
       "    <tr>\n",
       "      <th></th>\n",
       "      <th>sum</th>\n",
       "      <th>count</th>\n",
       "      <th>debt, %</th>\n",
       "    </tr>\n",
       "    <tr>\n",
       "      <th></th>\n",
       "      <th>debt</th>\n",
       "      <th>debt</th>\n",
       "      <th></th>\n",
       "    </tr>\n",
       "    <tr>\n",
       "      <th>children</th>\n",
       "      <th></th>\n",
       "      <th></th>\n",
       "      <th></th>\n",
       "    </tr>\n",
       "  </thead>\n",
       "  <tbody>\n",
       "    <tr>\n",
       "      <td>0</td>\n",
       "      <td>1063</td>\n",
       "      <td>14091</td>\n",
       "      <td>7.543822</td>\n",
       "    </tr>\n",
       "    <tr>\n",
       "      <td>1</td>\n",
       "      <td>445</td>\n",
       "      <td>4855</td>\n",
       "      <td>9.165808</td>\n",
       "    </tr>\n",
       "    <tr>\n",
       "      <td>2</td>\n",
       "      <td>202</td>\n",
       "      <td>2128</td>\n",
       "      <td>9.492481</td>\n",
       "    </tr>\n",
       "    <tr>\n",
       "      <td>3</td>\n",
       "      <td>27</td>\n",
       "      <td>330</td>\n",
       "      <td>8.181818</td>\n",
       "    </tr>\n",
       "    <tr>\n",
       "      <td>4</td>\n",
       "      <td>4</td>\n",
       "      <td>41</td>\n",
       "      <td>9.756098</td>\n",
       "    </tr>\n",
       "    <tr>\n",
       "      <td>5</td>\n",
       "      <td>0</td>\n",
       "      <td>9</td>\n",
       "      <td>0.000000</td>\n",
       "    </tr>\n",
       "  </tbody>\n",
       "</table>\n",
       "</div>"
      ],
      "text/plain": [
       "           sum  count   debt, %\n",
       "          debt   debt          \n",
       "children                       \n",
       "0         1063  14091  7.543822\n",
       "1          445   4855  9.165808\n",
       "2          202   2128  9.492481\n",
       "3           27    330  8.181818\n",
       "4            4     41  9.756098\n",
       "5            0      9  0.000000"
      ]
     },
     "execution_count": 30,
     "metadata": {},
     "output_type": "execute_result"
    }
   ],
   "source": [
    "data_pivot_children = data.pivot_table(index=\"children\", values=\"debt\", aggfunc=[\"sum\", \"count\"])\n",
    "data_pivot_children[\"debt, %\"] = data_pivot_children[\"sum\"][\"debt\"]/data_pivot_children[\"count\"][\"debt\"] * 100\n",
    "data_pivot_children"
   ]
  },
  {
   "cell_type": "markdown",
   "metadata": {},
   "source": [
    "**Вывод**"
   ]
  },
  {
   "cell_type": "markdown",
   "metadata": {},
   "source": [
    "Полученные данные говорят о том, что клиенты без детей несколько реже имели задолженность по кредиту, чем клиенты с детьми. Однако разница не очень большая (в среднем чуть больше 1.5 п.п.)."
   ]
  },
  {
   "cell_type": "markdown",
   "metadata": {},
   "source": [
    "- Есть ли зависимость между семейным положением и возвратом кредита в срок?"
   ]
  },
  {
   "cell_type": "markdown",
   "metadata": {},
   "source": [
    "Посмотрим, как влияет семейное положение на возврат кредита в срок. Сразу сгруппируем данные по значениям столбца `family_status` и посчитаем доли:"
   ]
  },
  {
   "cell_type": "code",
   "execution_count": 31,
   "metadata": {},
   "outputs": [
    {
     "data": {
      "text/html": [
       "<div>\n",
       "<style scoped>\n",
       "    .dataframe tbody tr th:only-of-type {\n",
       "        vertical-align: middle;\n",
       "    }\n",
       "\n",
       "    .dataframe tbody tr th {\n",
       "        vertical-align: top;\n",
       "    }\n",
       "\n",
       "    .dataframe thead tr th {\n",
       "        text-align: left;\n",
       "    }\n",
       "\n",
       "    .dataframe thead tr:last-of-type th {\n",
       "        text-align: right;\n",
       "    }\n",
       "</style>\n",
       "<table border=\"1\" class=\"dataframe\">\n",
       "  <thead>\n",
       "    <tr>\n",
       "      <th></th>\n",
       "      <th>sum</th>\n",
       "      <th>count</th>\n",
       "      <th>debt, %</th>\n",
       "    </tr>\n",
       "    <tr>\n",
       "      <th></th>\n",
       "      <th>debt</th>\n",
       "      <th>debt</th>\n",
       "      <th></th>\n",
       "    </tr>\n",
       "    <tr>\n",
       "      <th>family_status</th>\n",
       "      <th></th>\n",
       "      <th></th>\n",
       "      <th></th>\n",
       "    </tr>\n",
       "  </thead>\n",
       "  <tbody>\n",
       "    <tr>\n",
       "      <td>Не женат / не замужем</td>\n",
       "      <td>274</td>\n",
       "      <td>2810</td>\n",
       "      <td>9.750890</td>\n",
       "    </tr>\n",
       "    <tr>\n",
       "      <td>в разводе</td>\n",
       "      <td>85</td>\n",
       "      <td>1195</td>\n",
       "      <td>7.112971</td>\n",
       "    </tr>\n",
       "    <tr>\n",
       "      <td>вдовец / вдова</td>\n",
       "      <td>63</td>\n",
       "      <td>959</td>\n",
       "      <td>6.569343</td>\n",
       "    </tr>\n",
       "    <tr>\n",
       "      <td>гражданский брак</td>\n",
       "      <td>388</td>\n",
       "      <td>4151</td>\n",
       "      <td>9.347145</td>\n",
       "    </tr>\n",
       "    <tr>\n",
       "      <td>женат / замужем</td>\n",
       "      <td>931</td>\n",
       "      <td>12339</td>\n",
       "      <td>7.545182</td>\n",
       "    </tr>\n",
       "  </tbody>\n",
       "</table>\n",
       "</div>"
      ],
      "text/plain": [
       "                       sum  count   debt, %\n",
       "                      debt   debt          \n",
       "family_status                              \n",
       "Не женат / не замужем  274   2810  9.750890\n",
       "в разводе               85   1195  7.112971\n",
       "вдовец / вдова          63    959  6.569343\n",
       "гражданский брак       388   4151  9.347145\n",
       "женат / замужем        931  12339  7.545182"
      ]
     },
     "execution_count": 31,
     "metadata": {},
     "output_type": "execute_result"
    }
   ],
   "source": [
    "data_pivot_family = data.pivot_table(index=\"family_status\", values=\"debt\", aggfunc=[\"sum\", \"count\"])\n",
    "data_pivot_family[\"debt, %\"] = data_pivot_family[\"sum\"][\"debt\"]/data_pivot_family[\"count\"][\"debt\"] * 100\n",
    "data_pivot_family"
   ]
  },
  {
   "cell_type": "markdown",
   "metadata": {},
   "source": [
    "**Вывод**"
   ]
  },
  {
   "cell_type": "markdown",
   "metadata": {},
   "source": [
    "Чаще всего не возвращали кредит в срок неженатые (незамужние) люди и те, кто живут в \"гражданском браке\". Реже всех - вдовцы и вдовы."
   ]
  },
  {
   "cell_type": "markdown",
   "metadata": {},
   "source": [
    "- Есть ли зависимость между уровнем дохода и возвратом кредита в срок?"
   ]
  },
  {
   "cell_type": "markdown",
   "metadata": {},
   "source": [
    "Посмотрим на влияние уровня дохода. Получим статистическое описание столбца `total_income` с помощью метода `.describe()`, чтобы иметь возможность разбить клиентов по уровню их дохода на три категории: `низкий`, `средний` и `высокий`. Чтобы получить примерно равные по количеству группы клиентов, передадим аргумент `percentiles=[0.33, 0.67]`."
   ]
  },
  {
   "cell_type": "code",
   "execution_count": 32,
   "metadata": {},
   "outputs": [
    {
     "data": {
      "text/plain": [
       "count    2.145400e+04\n",
       "mean     1.653196e+05\n",
       "std      9.818730e+04\n",
       "min      2.066700e+04\n",
       "33%      1.185140e+05\n",
       "50%      1.425940e+05\n",
       "67%      1.723570e+05\n",
       "max      2.265604e+06\n",
       "Name: total_income, dtype: float64"
      ]
     },
     "execution_count": 32,
     "metadata": {},
     "output_type": "execute_result"
    }
   ],
   "source": [
    "data.total_income.describe(percentiles=[0.33, 0.67])"
   ]
  },
  {
   "cell_type": "markdown",
   "metadata": {},
   "source": [
    "Получили, что 33-й процентиль равен примерно 119 тыс., 67-й - примерно 172 тыс. \n",
    "\n",
    "Напишем функцию, которая будет выдавать одну из трёх категорий уровня дохода в зависимости от дохода клиента, и применим её к столбцу `total_income`. Результат запишем в столбец `total_income_type`."
   ]
  },
  {
   "cell_type": "code",
   "execution_count": 33,
   "metadata": {
    "scrolled": true
   },
   "outputs": [
    {
     "data": {
      "text/html": [
       "<div>\n",
       "<style scoped>\n",
       "    .dataframe tbody tr th:only-of-type {\n",
       "        vertical-align: middle;\n",
       "    }\n",
       "\n",
       "    .dataframe tbody tr th {\n",
       "        vertical-align: top;\n",
       "    }\n",
       "\n",
       "    .dataframe thead th {\n",
       "        text-align: right;\n",
       "    }\n",
       "</style>\n",
       "<table border=\"1\" class=\"dataframe\">\n",
       "  <thead>\n",
       "    <tr style=\"text-align: right;\">\n",
       "      <th></th>\n",
       "      <th>children</th>\n",
       "      <th>days_employed</th>\n",
       "      <th>dob_years</th>\n",
       "      <th>education</th>\n",
       "      <th>education_id</th>\n",
       "      <th>family_status</th>\n",
       "      <th>family_status_id</th>\n",
       "      <th>gender</th>\n",
       "      <th>income_type</th>\n",
       "      <th>debt</th>\n",
       "      <th>total_income</th>\n",
       "      <th>purpose</th>\n",
       "      <th>purpose_category</th>\n",
       "      <th>total_income_type</th>\n",
       "    </tr>\n",
       "  </thead>\n",
       "  <tbody>\n",
       "    <tr>\n",
       "      <td>0</td>\n",
       "      <td>1</td>\n",
       "      <td>8437</td>\n",
       "      <td>42</td>\n",
       "      <td>высшее</td>\n",
       "      <td>0</td>\n",
       "      <td>женат / замужем</td>\n",
       "      <td>0</td>\n",
       "      <td>F</td>\n",
       "      <td>сотрудник</td>\n",
       "      <td>0</td>\n",
       "      <td>253875</td>\n",
       "      <td>покупка жилья</td>\n",
       "      <td>недвижимость</td>\n",
       "      <td>высокий</td>\n",
       "    </tr>\n",
       "    <tr>\n",
       "      <td>1</td>\n",
       "      <td>1</td>\n",
       "      <td>4024</td>\n",
       "      <td>36</td>\n",
       "      <td>среднее</td>\n",
       "      <td>1</td>\n",
       "      <td>женат / замужем</td>\n",
       "      <td>0</td>\n",
       "      <td>F</td>\n",
       "      <td>сотрудник</td>\n",
       "      <td>0</td>\n",
       "      <td>112080</td>\n",
       "      <td>приобретение автомобиля</td>\n",
       "      <td>автомобиль</td>\n",
       "      <td>низкий</td>\n",
       "    </tr>\n",
       "    <tr>\n",
       "      <td>2</td>\n",
       "      <td>0</td>\n",
       "      <td>5623</td>\n",
       "      <td>33</td>\n",
       "      <td>среднее</td>\n",
       "      <td>1</td>\n",
       "      <td>женат / замужем</td>\n",
       "      <td>0</td>\n",
       "      <td>M</td>\n",
       "      <td>сотрудник</td>\n",
       "      <td>0</td>\n",
       "      <td>145885</td>\n",
       "      <td>покупка жилья</td>\n",
       "      <td>недвижимость</td>\n",
       "      <td>средний</td>\n",
       "    </tr>\n",
       "    <tr>\n",
       "      <td>3</td>\n",
       "      <td>3</td>\n",
       "      <td>4124</td>\n",
       "      <td>32</td>\n",
       "      <td>среднее</td>\n",
       "      <td>1</td>\n",
       "      <td>женат / замужем</td>\n",
       "      <td>0</td>\n",
       "      <td>M</td>\n",
       "      <td>сотрудник</td>\n",
       "      <td>0</td>\n",
       "      <td>267628</td>\n",
       "      <td>дополнительное образование</td>\n",
       "      <td>образование</td>\n",
       "      <td>высокий</td>\n",
       "    </tr>\n",
       "    <tr>\n",
       "      <td>4</td>\n",
       "      <td>0</td>\n",
       "      <td>14177</td>\n",
       "      <td>53</td>\n",
       "      <td>среднее</td>\n",
       "      <td>1</td>\n",
       "      <td>гражданский брак</td>\n",
       "      <td>1</td>\n",
       "      <td>F</td>\n",
       "      <td>пенсионер</td>\n",
       "      <td>0</td>\n",
       "      <td>158616</td>\n",
       "      <td>сыграть свадьбу</td>\n",
       "      <td>свадьба</td>\n",
       "      <td>средний</td>\n",
       "    </tr>\n",
       "  </tbody>\n",
       "</table>\n",
       "</div>"
      ],
      "text/plain": [
       "   children  days_employed  dob_years education  education_id  \\\n",
       "0         1           8437         42    высшее             0   \n",
       "1         1           4024         36   среднее             1   \n",
       "2         0           5623         33   среднее             1   \n",
       "3         3           4124         32   среднее             1   \n",
       "4         0          14177         53   среднее             1   \n",
       "\n",
       "      family_status  family_status_id gender income_type  debt  total_income  \\\n",
       "0   женат / замужем                 0      F   сотрудник     0        253875   \n",
       "1   женат / замужем                 0      F   сотрудник     0        112080   \n",
       "2   женат / замужем                 0      M   сотрудник     0        145885   \n",
       "3   женат / замужем                 0      M   сотрудник     0        267628   \n",
       "4  гражданский брак                 1      F   пенсионер     0        158616   \n",
       "\n",
       "                      purpose purpose_category total_income_type  \n",
       "0               покупка жилья     недвижимость           высокий  \n",
       "1     приобретение автомобиля       автомобиль            низкий  \n",
       "2               покупка жилья     недвижимость           средний  \n",
       "3  дополнительное образование      образование           высокий  \n",
       "4             сыграть свадьбу          свадьба           средний  "
      ]
     },
     "execution_count": 33,
     "metadata": {},
     "output_type": "execute_result"
    }
   ],
   "source": [
    "def total_income_type(row):\n",
    "    if row <= 1.19 * 10**5:\n",
    "        return \"низкий\"\n",
    "    elif row <= 1.72 * 10**5:\n",
    "        return \"средний\"\n",
    "    else: \n",
    "        return \"высокий\"\n",
    "    \n",
    "    \n",
    "data[\"total_income_type\"] = data[\"total_income\"].apply(total_income_type)\n",
    "data.head()"
   ]
  },
  {
   "cell_type": "code",
   "execution_count": 34,
   "metadata": {
    "scrolled": true
   },
   "outputs": [
    {
     "data": {
      "text/html": [
       "<div>\n",
       "<style scoped>\n",
       "    .dataframe tbody tr th:only-of-type {\n",
       "        vertical-align: middle;\n",
       "    }\n",
       "\n",
       "    .dataframe tbody tr th {\n",
       "        vertical-align: top;\n",
       "    }\n",
       "\n",
       "    .dataframe thead tr th {\n",
       "        text-align: left;\n",
       "    }\n",
       "\n",
       "    .dataframe thead tr:last-of-type th {\n",
       "        text-align: right;\n",
       "    }\n",
       "</style>\n",
       "<table border=\"1\" class=\"dataframe\">\n",
       "  <thead>\n",
       "    <tr>\n",
       "      <th></th>\n",
       "      <th>sum</th>\n",
       "      <th>count</th>\n",
       "      <th>debt, %</th>\n",
       "    </tr>\n",
       "    <tr>\n",
       "      <th></th>\n",
       "      <th>debt</th>\n",
       "      <th>debt</th>\n",
       "      <th></th>\n",
       "    </tr>\n",
       "    <tr>\n",
       "      <th>total_income_type</th>\n",
       "      <th></th>\n",
       "      <th></th>\n",
       "      <th></th>\n",
       "    </tr>\n",
       "  </thead>\n",
       "  <tbody>\n",
       "    <tr>\n",
       "      <td>высокий</td>\n",
       "      <td>562</td>\n",
       "      <td>7551</td>\n",
       "      <td>7.442723</td>\n",
       "    </tr>\n",
       "    <tr>\n",
       "      <td>низкий</td>\n",
       "      <td>581</td>\n",
       "      <td>7128</td>\n",
       "      <td>8.150954</td>\n",
       "    </tr>\n",
       "    <tr>\n",
       "      <td>средний</td>\n",
       "      <td>598</td>\n",
       "      <td>6775</td>\n",
       "      <td>8.826568</td>\n",
       "    </tr>\n",
       "  </tbody>\n",
       "</table>\n",
       "</div>"
      ],
      "text/plain": [
       "                   sum count   debt, %\n",
       "                  debt  debt          \n",
       "total_income_type                     \n",
       "высокий            562  7551  7.442723\n",
       "низкий             581  7128  8.150954\n",
       "средний            598  6775  8.826568"
      ]
     },
     "execution_count": 34,
     "metadata": {},
     "output_type": "execute_result"
    }
   ],
   "source": [
    "data_pivot_income = data.pivot_table(index=\"total_income_type\", values=\"debt\", aggfunc=[\"sum\", \"count\"])\n",
    "data_pivot_income[\"debt, %\"] = data_pivot_income[\"sum\"][\"debt\"]/data_pivot_income[\"count\"][\"debt\"] * 100\n",
    "data_pivot_income"
   ]
  },
  {
   "cell_type": "markdown",
   "metadata": {},
   "source": [
    "**Вывод**"
   ]
  },
  {
   "cell_type": "markdown",
   "metadata": {},
   "source": [
    "Люди с высоким доходом чуть реже имели задолженность по кредиту, однако отличие совсем небольшое и, скорее всего, статистически незначимое. _Возможно, имеет смысл использовать более мелкие категории, например, \"доход до 50 тыс.\", \"доход от 50 до 100 тыс.\" и так далее._"
   ]
  },
  {
   "cell_type": "markdown",
   "metadata": {},
   "source": [
    "- Как разные цели кредита влияют на его возврат в срок?"
   ]
  },
  {
   "cell_type": "markdown",
   "metadata": {},
   "source": [
    "Группируем клиентов по цели кредита и считаем доли должников:"
   ]
  },
  {
   "cell_type": "code",
   "execution_count": 35,
   "metadata": {},
   "outputs": [
    {
     "data": {
      "text/html": [
       "<div>\n",
       "<style scoped>\n",
       "    .dataframe tbody tr th:only-of-type {\n",
       "        vertical-align: middle;\n",
       "    }\n",
       "\n",
       "    .dataframe tbody tr th {\n",
       "        vertical-align: top;\n",
       "    }\n",
       "\n",
       "    .dataframe thead tr th {\n",
       "        text-align: left;\n",
       "    }\n",
       "\n",
       "    .dataframe thead tr:last-of-type th {\n",
       "        text-align: right;\n",
       "    }\n",
       "</style>\n",
       "<table border=\"1\" class=\"dataframe\">\n",
       "  <thead>\n",
       "    <tr>\n",
       "      <th></th>\n",
       "      <th>sum</th>\n",
       "      <th>count</th>\n",
       "      <th>debt, %</th>\n",
       "    </tr>\n",
       "    <tr>\n",
       "      <th></th>\n",
       "      <th>debt</th>\n",
       "      <th>debt</th>\n",
       "      <th></th>\n",
       "    </tr>\n",
       "    <tr>\n",
       "      <th>purpose_category</th>\n",
       "      <th></th>\n",
       "      <th></th>\n",
       "      <th></th>\n",
       "    </tr>\n",
       "  </thead>\n",
       "  <tbody>\n",
       "    <tr>\n",
       "      <td>автомобиль</td>\n",
       "      <td>403</td>\n",
       "      <td>4306</td>\n",
       "      <td>9.359034</td>\n",
       "    </tr>\n",
       "    <tr>\n",
       "      <td>недвижимость</td>\n",
       "      <td>782</td>\n",
       "      <td>10811</td>\n",
       "      <td>7.233373</td>\n",
       "    </tr>\n",
       "    <tr>\n",
       "      <td>образование</td>\n",
       "      <td>370</td>\n",
       "      <td>4013</td>\n",
       "      <td>9.220035</td>\n",
       "    </tr>\n",
       "    <tr>\n",
       "      <td>свадьба</td>\n",
       "      <td>186</td>\n",
       "      <td>2324</td>\n",
       "      <td>8.003442</td>\n",
       "    </tr>\n",
       "  </tbody>\n",
       "</table>\n",
       "</div>"
      ],
      "text/plain": [
       "                  sum  count   debt, %\n",
       "                 debt   debt          \n",
       "purpose_category                      \n",
       "автомобиль        403   4306  9.359034\n",
       "недвижимость      782  10811  7.233373\n",
       "образование       370   4013  9.220035\n",
       "свадьба           186   2324  8.003442"
      ]
     },
     "execution_count": 35,
     "metadata": {},
     "output_type": "execute_result"
    }
   ],
   "source": [
    "data_pivot_purpose = data.pivot_table(index=\"purpose_category\", values=\"debt\", aggfunc=[\"sum\", \"count\"])\n",
    "data_pivot_purpose[\"debt, %\"] = data_pivot_purpose[\"sum\"][\"debt\"]/data_pivot_purpose[\"count\"][\"debt\"] * 100\n",
    "data_pivot_purpose"
   ]
  },
  {
   "cell_type": "markdown",
   "metadata": {},
   "source": [
    "**Вывод**"
   ]
  },
  {
   "cell_type": "markdown",
   "metadata": {},
   "source": [
    "Чаще всего клиенты не возвращали кредиты, которые взяли для покупки автомобиля или получения образования, реже всего - для покупки недвижимости. "
   ]
  },
  {
   "cell_type": "code",
   "execution_count": 36,
   "metadata": {},
   "outputs": [
    {
     "data": {
      "text/html": [
       "<div>\n",
       "<style scoped>\n",
       "    .dataframe tbody tr th:only-of-type {\n",
       "        vertical-align: middle;\n",
       "    }\n",
       "\n",
       "    .dataframe tbody tr th {\n",
       "        vertical-align: top;\n",
       "    }\n",
       "\n",
       "    .dataframe thead th {\n",
       "        text-align: right;\n",
       "    }\n",
       "</style>\n",
       "<table border=\"1\" class=\"dataframe\">\n",
       "  <thead>\n",
       "    <tr style=\"text-align: right;\">\n",
       "      <th></th>\n",
       "      <th>debt</th>\n",
       "      <th>0</th>\n",
       "      <th>1</th>\n",
       "      <th>ratio</th>\n",
       "    </tr>\n",
       "    <tr>\n",
       "      <th>total_income_type</th>\n",
       "      <th>purpose_category</th>\n",
       "      <th></th>\n",
       "      <th></th>\n",
       "      <th></th>\n",
       "    </tr>\n",
       "  </thead>\n",
       "  <tbody>\n",
       "    <tr>\n",
       "      <td rowspan=\"4\" valign=\"top\">высокий</td>\n",
       "      <td>автомобиль</td>\n",
       "      <td>1377</td>\n",
       "      <td>132</td>\n",
       "      <td>8.747515</td>\n",
       "    </tr>\n",
       "    <tr>\n",
       "      <td>недвижимость</td>\n",
       "      <td>3602</td>\n",
       "      <td>263</td>\n",
       "      <td>6.804657</td>\n",
       "    </tr>\n",
       "    <tr>\n",
       "      <td>образование</td>\n",
       "      <td>1254</td>\n",
       "      <td>116</td>\n",
       "      <td>8.467153</td>\n",
       "    </tr>\n",
       "    <tr>\n",
       "      <td>свадьба</td>\n",
       "      <td>756</td>\n",
       "      <td>51</td>\n",
       "      <td>6.319703</td>\n",
       "    </tr>\n",
       "    <tr>\n",
       "      <td rowspan=\"4\" valign=\"top\">низкий</td>\n",
       "      <td>автомобиль</td>\n",
       "      <td>1290</td>\n",
       "      <td>131</td>\n",
       "      <td>9.218860</td>\n",
       "    </tr>\n",
       "    <tr>\n",
       "      <td>недвижимость</td>\n",
       "      <td>3300</td>\n",
       "      <td>245</td>\n",
       "      <td>6.911142</td>\n",
       "    </tr>\n",
       "    <tr>\n",
       "      <td>образование</td>\n",
       "      <td>1223</td>\n",
       "      <td>132</td>\n",
       "      <td>9.741697</td>\n",
       "    </tr>\n",
       "    <tr>\n",
       "      <td>свадьба</td>\n",
       "      <td>734</td>\n",
       "      <td>73</td>\n",
       "      <td>9.045849</td>\n",
       "    </tr>\n",
       "    <tr>\n",
       "      <td rowspan=\"4\" valign=\"top\">средний</td>\n",
       "      <td>автомобиль</td>\n",
       "      <td>1236</td>\n",
       "      <td>140</td>\n",
       "      <td>10.174419</td>\n",
       "    </tr>\n",
       "    <tr>\n",
       "      <td>недвижимость</td>\n",
       "      <td>3127</td>\n",
       "      <td>274</td>\n",
       "      <td>8.056454</td>\n",
       "    </tr>\n",
       "    <tr>\n",
       "      <td>образование</td>\n",
       "      <td>1166</td>\n",
       "      <td>122</td>\n",
       "      <td>9.472050</td>\n",
       "    </tr>\n",
       "    <tr>\n",
       "      <td>свадьба</td>\n",
       "      <td>648</td>\n",
       "      <td>62</td>\n",
       "      <td>8.732394</td>\n",
       "    </tr>\n",
       "  </tbody>\n",
       "</table>\n",
       "</div>"
      ],
      "text/plain": [
       "debt                                   0    1     ratio \n",
       "total_income_type purpose_category                      \n",
       "высокий           автомобиль        1377  132   8.747515\n",
       "                  недвижимость      3602  263   6.804657\n",
       "                  образование       1254  116   8.467153\n",
       "                  свадьба            756   51   6.319703\n",
       "низкий            автомобиль        1290  131   9.218860\n",
       "                  недвижимость      3300  245   6.911142\n",
       "                  образование       1223  132   9.741697\n",
       "                  свадьба            734   73   9.045849\n",
       "средний           автомобиль        1236  140  10.174419\n",
       "                  недвижимость      3127  274   8.056454\n",
       "                  образование       1166  122   9.472050\n",
       "                  свадьба            648   62   8.732394"
      ]
     },
     "metadata": {},
     "output_type": "display_data"
    }
   ],
   "source": [
    "data_pivot_income_purpose = data.pivot_table(index= [ 'total_income_type', 'purpose_category'], columns='debt', values='purpose', aggfunc='count')\n",
    "data_pivot_income_purpose['ratio '] = (data_pivot_income_purpose[1] / (data_pivot_income_purpose[0]+data_pivot_income_purpose[1])) * 100\n",
    "\n",
    "display(data_pivot_income_purpose)"
   ]
  },
  {
   "cell_type": "markdown",
   "metadata": {},
   "source": [
    "<a id=\"4\"></a>\n",
    "## 4. Заключение"
   ]
  },
  {
   "cell_type": "markdown",
   "metadata": {},
   "source": [
    "Был проведён предварительный анализ набора данных, в ходе которого были обнаружены пропущенные и некорректные (артефакты) значения, дубликаты. Пропущенные значения были заменены на характерные, некорректные значения проанализированы и заменены, исходя из контекста, на наиболее подходящие. Дубликаты были удалены из набора данных. Проведена категоризация клиентов по целям кредита путём лемматизации. Проведена категоризация клиентов по уровню их дохода.\n",
    "\n",
    "Анализ данных о клиентах показывает, что чаще всего кредиты не возвращают __не состоящие в официальном браке__ люди, у которых __есть дети__, а целью кредита является __покупка автомобиля__ или __получение образования__. При этом уровень дохода (при выбранном типе категоризации клиентов) не оказывает существенного значения на вероятность долга по кредиту."
   ]
  }
 ],
 "metadata": {
  "ExecuteTimeLog": [
   {
    "duration": 619,
    "start_time": "2021-11-28T13:12:37.962Z"
   },
   {
    "duration": 11,
    "start_time": "2021-11-28T13:15:19.110Z"
   },
   {
    "duration": 18,
    "start_time": "2021-11-28T13:18:34.111Z"
   },
   {
    "duration": 32,
    "start_time": "2021-11-28T13:18:40.855Z"
   },
   {
    "duration": 20,
    "start_time": "2021-11-28T13:18:55.822Z"
   },
   {
    "duration": 5,
    "start_time": "2021-11-28T13:19:13.635Z"
   },
   {
    "duration": 289,
    "start_time": "2021-11-28T13:19:23.570Z"
   },
   {
    "duration": 4,
    "start_time": "2021-11-28T13:19:26.132Z"
   },
   {
    "duration": 9,
    "start_time": "2021-11-28T13:19:50.564Z"
   },
   {
    "duration": 5,
    "start_time": "2021-11-28T13:19:57.138Z"
   },
   {
    "duration": 5,
    "start_time": "2021-11-28T13:20:02.297Z"
   },
   {
    "duration": 7,
    "start_time": "2021-11-28T13:20:14.724Z"
   },
   {
    "duration": 26,
    "start_time": "2021-11-28T13:20:25.089Z"
   },
   {
    "duration": 18,
    "start_time": "2021-11-28T13:20:56.841Z"
   },
   {
    "duration": 4,
    "start_time": "2021-11-28T13:21:13.981Z"
   },
   {
    "duration": 262,
    "start_time": "2021-11-28T13:21:19.421Z"
   },
   {
    "duration": 5,
    "start_time": "2021-11-28T13:21:44.466Z"
   },
   {
    "duration": 9,
    "start_time": "2021-11-28T13:22:10.904Z"
   },
   {
    "duration": 83,
    "start_time": "2021-11-28T13:23:34.618Z"
   },
   {
    "duration": 14,
    "start_time": "2021-11-28T13:23:38.675Z"
   },
   {
    "duration": 15,
    "start_time": "2021-11-28T13:23:42.925Z"
   },
   {
    "duration": 11,
    "start_time": "2021-11-28T13:25:49.569Z"
   },
   {
    "duration": 11,
    "start_time": "2021-11-28T13:26:08.222Z"
   },
   {
    "duration": 9,
    "start_time": "2021-11-28T13:26:29.045Z"
   },
   {
    "duration": 13,
    "start_time": "2021-11-28T13:33:06.464Z"
   },
   {
    "duration": 8,
    "start_time": "2021-11-28T13:33:28.901Z"
   },
   {
    "duration": 10,
    "start_time": "2021-11-28T13:33:49.585Z"
   },
   {
    "duration": 11,
    "start_time": "2021-11-28T13:34:04.413Z"
   },
   {
    "duration": 8,
    "start_time": "2021-11-28T13:34:07.524Z"
   },
   {
    "duration": 14,
    "start_time": "2021-11-28T13:34:11.978Z"
   },
   {
    "duration": 15,
    "start_time": "2021-11-28T13:39:27.069Z"
   },
   {
    "duration": 13,
    "start_time": "2021-11-28T13:39:31.571Z"
   },
   {
    "duration": 28,
    "start_time": "2021-11-28T13:39:38.958Z"
   },
   {
    "duration": 18,
    "start_time": "2021-11-28T13:49:45.159Z"
   },
   {
    "duration": 7,
    "start_time": "2021-11-28T13:50:08.037Z"
   },
   {
    "duration": 9,
    "start_time": "2021-11-28T13:53:36.187Z"
   },
   {
    "duration": 11,
    "start_time": "2021-11-28T13:54:34.014Z"
   },
   {
    "duration": 5394,
    "start_time": "2021-11-28T13:55:11.531Z"
   },
   {
    "duration": 224,
    "start_time": "2021-11-28T13:55:30.056Z"
   },
   {
    "duration": 9,
    "start_time": "2021-11-28T13:56:20.257Z"
   },
   {
    "duration": 169,
    "start_time": "2021-11-28T13:56:24.198Z"
   },
   {
    "duration": 169,
    "start_time": "2021-11-28T13:57:08.229Z"
   },
   {
    "duration": 180,
    "start_time": "2021-11-28T13:57:24.083Z"
   },
   {
    "duration": 172,
    "start_time": "2021-11-28T13:57:37.442Z"
   },
   {
    "duration": 182,
    "start_time": "2021-11-28T13:57:40.776Z"
   },
   {
    "duration": 183,
    "start_time": "2021-11-28T13:58:08.028Z"
   },
   {
    "duration": 6242,
    "start_time": "2021-11-28T14:02:33.624Z"
   },
   {
    "duration": 154,
    "start_time": "2021-11-28T14:02:53.648Z"
   },
   {
    "duration": 144,
    "start_time": "2021-11-28T14:03:29.603Z"
   },
   {
    "duration": 272,
    "start_time": "2021-11-28T14:04:09.754Z"
   },
   {
    "duration": 163,
    "start_time": "2021-11-28T14:04:51.813Z"
   },
   {
    "duration": 7,
    "start_time": "2021-11-28T14:05:46.234Z"
   },
   {
    "duration": 9,
    "start_time": "2021-11-28T14:06:26.203Z"
   },
   {
    "duration": 7,
    "start_time": "2021-11-28T14:06:33.320Z"
   },
   {
    "duration": 7,
    "start_time": "2021-11-28T14:10:21.490Z"
   },
   {
    "duration": 18,
    "start_time": "2021-11-28T14:10:39.620Z"
   },
   {
    "duration": 7,
    "start_time": "2021-11-28T14:10:44.370Z"
   },
   {
    "duration": 7,
    "start_time": "2021-11-28T14:10:56.661Z"
   },
   {
    "duration": 7,
    "start_time": "2021-11-28T14:11:16.559Z"
   },
   {
    "duration": 7,
    "start_time": "2021-11-28T14:12:12.015Z"
   },
   {
    "duration": 7,
    "start_time": "2021-11-28T14:15:36.405Z"
   },
   {
    "duration": 6,
    "start_time": "2021-11-28T14:15:47.718Z"
   },
   {
    "duration": 6,
    "start_time": "2021-11-28T14:15:53.191Z"
   },
   {
    "duration": 6,
    "start_time": "2021-11-28T14:15:56.142Z"
   },
   {
    "duration": 6,
    "start_time": "2021-11-28T14:16:06.968Z"
   },
   {
    "duration": 6,
    "start_time": "2021-11-28T14:16:15.652Z"
   },
   {
    "duration": 8,
    "start_time": "2021-11-28T14:16:25.427Z"
   },
   {
    "duration": 8,
    "start_time": "2021-11-28T14:18:19.962Z"
   },
   {
    "duration": 9,
    "start_time": "2021-11-28T14:20:00.244Z"
   },
   {
    "duration": 8,
    "start_time": "2021-11-28T14:20:25.053Z"
   },
   {
    "duration": 8,
    "start_time": "2021-11-28T14:23:15.363Z"
   },
   {
    "duration": 7,
    "start_time": "2021-11-28T14:23:35.064Z"
   },
   {
    "duration": 6,
    "start_time": "2021-11-28T14:23:43.274Z"
   },
   {
    "duration": 19,
    "start_time": "2021-11-28T14:31:09.444Z"
   },
   {
    "duration": 5637,
    "start_time": "2021-11-28T14:31:15.663Z"
   },
   {
    "duration": 6,
    "start_time": "2021-11-28T14:31:26.958Z"
   },
   {
    "duration": 5,
    "start_time": "2021-11-28T14:31:41.923Z"
   },
   {
    "duration": 5,
    "start_time": "2021-11-28T14:31:59.759Z"
   },
   {
    "duration": 221,
    "start_time": "2021-11-28T14:37:23.767Z"
   },
   {
    "duration": 6964,
    "start_time": "2021-11-28T14:37:28.721Z"
   },
   {
    "duration": 20,
    "start_time": "2021-11-28T14:38:26.077Z"
   },
   {
    "duration": 23,
    "start_time": "2021-11-28T14:38:44.883Z"
   },
   {
    "duration": 7048,
    "start_time": "2021-11-28T14:39:28.674Z"
   },
   {
    "duration": 9,
    "start_time": "2021-11-28T14:39:37.773Z"
   },
   {
    "duration": 6612,
    "start_time": "2021-11-28T14:40:17.377Z"
   },
   {
    "duration": 4,
    "start_time": "2021-11-28T14:40:30.196Z"
   },
   {
    "duration": 4,
    "start_time": "2021-11-28T14:40:43.213Z"
   },
   {
    "duration": 19,
    "start_time": "2021-11-28T14:40:47.774Z"
   },
   {
    "duration": 119,
    "start_time": "2021-11-28T14:41:41.634Z"
   },
   {
    "duration": 5,
    "start_time": "2021-11-28T14:41:43.801Z"
   },
   {
    "duration": 5,
    "start_time": "2021-11-28T14:41:49.282Z"
   },
   {
    "duration": 9,
    "start_time": "2021-11-28T14:42:14.692Z"
   },
   {
    "duration": 16,
    "start_time": "2021-11-28T14:45:42.326Z"
   },
   {
    "duration": 5,
    "start_time": "2021-11-28T14:45:44.700Z"
   },
   {
    "duration": 12,
    "start_time": "2021-11-28T14:46:00.623Z"
   },
   {
    "duration": 12,
    "start_time": "2021-11-28T14:46:02.902Z"
   },
   {
    "duration": 5,
    "start_time": "2021-11-28T14:46:13.956Z"
   },
   {
    "duration": 10,
    "start_time": "2021-11-28T14:46:16.618Z"
   },
   {
    "duration": 14,
    "start_time": "2021-11-28T14:46:26.180Z"
   },
   {
    "duration": 261,
    "start_time": "2021-11-28T14:46:28.950Z"
   },
   {
    "duration": 10,
    "start_time": "2021-11-28T14:46:33.412Z"
   },
   {
    "duration": 28,
    "start_time": "2021-11-28T14:46:47.728Z"
   },
   {
    "duration": 4,
    "start_time": "2021-11-28T14:47:14.850Z"
   },
   {
    "duration": 12,
    "start_time": "2021-11-28T14:47:16.390Z"
   },
   {
    "duration": 7245,
    "start_time": "2021-11-28T14:47:33.975Z"
   },
   {
    "duration": 5998,
    "start_time": "2021-11-28T14:47:49.818Z"
   },
   {
    "duration": 5,
    "start_time": "2021-11-28T14:48:01.412Z"
   },
   {
    "duration": 5,
    "start_time": "2021-11-28T14:48:04.983Z"
   },
   {
    "duration": 6,
    "start_time": "2021-11-28T14:48:22.258Z"
   },
   {
    "duration": 5,
    "start_time": "2021-11-28T14:48:38.940Z"
   },
   {
    "duration": 5,
    "start_time": "2021-11-28T14:48:45.471Z"
   },
   {
    "duration": 4,
    "start_time": "2021-11-28T14:49:50.371Z"
   },
   {
    "duration": 4,
    "start_time": "2021-11-28T14:50:06.765Z"
   },
   {
    "duration": 9,
    "start_time": "2021-11-28T14:51:24.158Z"
   },
   {
    "duration": 5,
    "start_time": "2021-11-28T14:53:06.470Z"
   },
   {
    "duration": 16,
    "start_time": "2021-11-28T14:53:23.949Z"
   },
   {
    "duration": 5,
    "start_time": "2021-11-28T14:53:26.536Z"
   },
   {
    "duration": 7,
    "start_time": "2021-11-28T14:53:42.519Z"
   },
   {
    "duration": 10,
    "start_time": "2021-11-28T14:53:44.360Z"
   },
   {
    "duration": 4,
    "start_time": "2021-11-28T14:53:47.078Z"
   },
   {
    "duration": 14,
    "start_time": "2021-11-28T14:53:55.794Z"
   },
   {
    "duration": 11,
    "start_time": "2021-11-28T14:54:24.757Z"
   },
   {
    "duration": 61,
    "start_time": "2021-11-28T14:55:01.068Z"
   },
   {
    "duration": 16,
    "start_time": "2021-11-28T14:55:20.152Z"
   },
   {
    "duration": 5,
    "start_time": "2021-11-28T14:55:24.161Z"
   },
   {
    "duration": 11,
    "start_time": "2021-11-28T14:56:07.120Z"
   },
   {
    "duration": 16,
    "start_time": "2021-11-28T14:57:46.290Z"
   },
   {
    "duration": 13,
    "start_time": "2021-11-28T14:57:53.116Z"
   },
   {
    "duration": 6,
    "start_time": "2021-11-28T14:58:30.848Z"
   },
   {
    "duration": 6,
    "start_time": "2021-11-28T14:58:38.905Z"
   },
   {
    "duration": 7,
    "start_time": "2021-11-28T14:58:43.100Z"
   },
   {
    "duration": 27,
    "start_time": "2021-11-28T14:58:56.792Z"
   },
   {
    "duration": 18,
    "start_time": "2021-11-28T14:59:25.668Z"
   },
   {
    "duration": 29,
    "start_time": "2021-11-28T15:00:16.603Z"
   },
   {
    "duration": 7,
    "start_time": "2021-11-28T15:00:20.430Z"
   },
   {
    "duration": 890,
    "start_time": "2021-11-28T16:47:07.907Z"
   },
   {
    "duration": 3,
    "start_time": "2021-11-28T16:47:12.052Z"
   },
   {
    "duration": 16,
    "start_time": "2021-11-28T16:47:13.474Z"
   },
   {
    "duration": 22,
    "start_time": "2021-11-28T16:47:17.800Z"
   },
   {
    "duration": 14,
    "start_time": "2021-11-28T16:47:36.843Z"
   },
   {
    "duration": 13,
    "start_time": "2021-11-28T16:48:32.854Z"
   },
   {
    "duration": 10,
    "start_time": "2021-11-28T16:49:07.437Z"
   },
   {
    "duration": 10,
    "start_time": "2021-11-28T16:49:11.057Z"
   },
   {
    "duration": 9,
    "start_time": "2021-11-28T16:49:13.784Z"
   },
   {
    "duration": 14,
    "start_time": "2021-11-28T16:50:43.403Z"
   },
   {
    "duration": 9,
    "start_time": "2021-11-28T16:51:22.003Z"
   },
   {
    "duration": 12,
    "start_time": "2021-11-28T16:51:25.096Z"
   },
   {
    "duration": 32,
    "start_time": "2021-11-28T16:52:13.106Z"
   },
   {
    "duration": 37,
    "start_time": "2021-11-28T16:52:51.054Z"
   },
   {
    "duration": 13,
    "start_time": "2021-11-28T16:53:06.465Z"
   },
   {
    "duration": 14,
    "start_time": "2021-11-28T16:53:23.602Z"
   },
   {
    "duration": 6,
    "start_time": "2021-11-28T16:54:03.329Z"
   },
   {
    "duration": 13,
    "start_time": "2021-11-28T16:54:57.714Z"
   },
   {
    "duration": 10,
    "start_time": "2021-11-28T16:55:04.482Z"
   },
   {
    "duration": 15,
    "start_time": "2021-11-28T16:55:32.704Z"
   },
   {
    "duration": 10,
    "start_time": "2021-11-28T16:55:37.011Z"
   },
   {
    "duration": 13,
    "start_time": "2021-11-28T16:55:49.397Z"
   },
   {
    "duration": 11,
    "start_time": "2021-11-28T16:56:15.979Z"
   },
   {
    "duration": 13,
    "start_time": "2021-11-28T16:56:23.348Z"
   },
   {
    "duration": 14,
    "start_time": "2021-11-28T16:56:40.915Z"
   },
   {
    "duration": 11,
    "start_time": "2021-11-28T16:56:47.934Z"
   },
   {
    "duration": 12,
    "start_time": "2021-11-28T16:57:54.718Z"
   },
   {
    "duration": 11,
    "start_time": "2021-11-28T16:58:47.538Z"
   },
   {
    "duration": 15,
    "start_time": "2021-11-28T16:59:11.942Z"
   },
   {
    "duration": 11,
    "start_time": "2021-11-28T16:59:14.268Z"
   },
   {
    "duration": 12,
    "start_time": "2021-11-28T16:59:21.319Z"
   },
   {
    "duration": 11,
    "start_time": "2021-11-28T16:59:29.842Z"
   },
   {
    "duration": 12,
    "start_time": "2021-11-28T16:59:39.514Z"
   },
   {
    "duration": 16,
    "start_time": "2021-11-28T17:02:54.137Z"
   },
   {
    "duration": 13,
    "start_time": "2021-11-28T17:02:55.857Z"
   },
   {
    "duration": 13,
    "start_time": "2021-11-28T17:02:58.397Z"
   },
   {
    "duration": 20,
    "start_time": "2021-11-28T17:05:23.038Z"
   },
   {
    "duration": 14,
    "start_time": "2021-11-28T17:05:27.652Z"
   },
   {
    "duration": 82,
    "start_time": "2021-11-28T17:05:50.402Z"
   },
   {
    "duration": 15,
    "start_time": "2021-11-28T17:05:53.054Z"
   },
   {
    "duration": 21,
    "start_time": "2021-11-28T17:05:55.309Z"
   },
   {
    "duration": 14,
    "start_time": "2021-11-28T17:05:56.901Z"
   },
   {
    "duration": 10,
    "start_time": "2021-11-28T17:05:59.952Z"
   },
   {
    "duration": 12,
    "start_time": "2021-11-28T17:06:01.289Z"
   },
   {
    "duration": 11,
    "start_time": "2021-11-28T17:06:02.893Z"
   },
   {
    "duration": 20,
    "start_time": "2021-11-28T17:06:05.685Z"
   },
   {
    "duration": 13,
    "start_time": "2021-11-28T17:06:06.907Z"
   },
   {
    "duration": 437,
    "start_time": "2021-11-28T17:06:26.540Z"
   },
   {
    "duration": 20,
    "start_time": "2021-11-28T17:06:40.594Z"
   },
   {
    "duration": 20,
    "start_time": "2021-11-28T17:07:09.991Z"
   },
   {
    "duration": 14,
    "start_time": "2021-11-28T17:07:10.896Z"
   },
   {
    "duration": 32,
    "start_time": "2021-11-28T17:07:40.986Z"
   },
   {
    "duration": 14,
    "start_time": "2021-11-28T17:07:41.623Z"
   },
   {
    "duration": 10,
    "start_time": "2021-11-28T17:08:28.350Z"
   },
   {
    "duration": 7309,
    "start_time": "2021-11-28T17:08:40.715Z"
   },
   {
    "duration": 32,
    "start_time": "2021-11-28T17:08:57.098Z"
   },
   {
    "duration": 9,
    "start_time": "2021-11-28T17:10:48.307Z"
   },
   {
    "duration": 6,
    "start_time": "2021-11-28T17:14:29.368Z"
   },
   {
    "duration": 11,
    "start_time": "2021-11-28T17:15:12.426Z"
   },
   {
    "duration": 12,
    "start_time": "2021-11-28T17:15:18.751Z"
   },
   {
    "duration": 12,
    "start_time": "2021-11-28T17:15:21.195Z"
   },
   {
    "duration": 11,
    "start_time": "2021-11-28T17:15:28.444Z"
   },
   {
    "duration": 5,
    "start_time": "2021-11-28T17:16:36.271Z"
   },
   {
    "duration": 57,
    "start_time": "2021-11-28T17:17:21.006Z"
   },
   {
    "duration": 10,
    "start_time": "2021-11-28T17:18:17.698Z"
   },
   {
    "duration": 4,
    "start_time": "2021-11-28T17:18:26.015Z"
   },
   {
    "duration": 12,
    "start_time": "2021-11-28T17:18:46.579Z"
   },
   {
    "duration": 7,
    "start_time": "2021-11-28T17:18:56.197Z"
   },
   {
    "duration": 11,
    "start_time": "2021-11-28T17:19:06.483Z"
   },
   {
    "duration": 86,
    "start_time": "2021-11-28T17:20:16.372Z"
   },
   {
    "duration": 10,
    "start_time": "2021-11-28T17:20:19.625Z"
   },
   {
    "duration": 818,
    "start_time": "2021-11-28T17:20:33.751Z"
   },
   {
    "duration": 24,
    "start_time": "2021-11-28T17:20:41.509Z"
   },
   {
    "duration": 36,
    "start_time": "2021-11-28T17:23:06.985Z"
   },
   {
    "duration": 16,
    "start_time": "2021-11-28T17:23:16.663Z"
   },
   {
    "duration": 11,
    "start_time": "2021-11-28T17:23:28.956Z"
   },
   {
    "duration": 12,
    "start_time": "2021-11-28T17:23:45.481Z"
   },
   {
    "duration": 260,
    "start_time": "2021-11-28T17:23:54.095Z"
   },
   {
    "duration": 151,
    "start_time": "2021-11-28T17:23:59.318Z"
   },
   {
    "duration": 12,
    "start_time": "2021-11-28T17:24:04.632Z"
   },
   {
    "duration": 10,
    "start_time": "2021-11-28T17:24:12.290Z"
   },
   {
    "duration": 12,
    "start_time": "2021-11-28T17:24:39.118Z"
   },
   {
    "duration": 5,
    "start_time": "2021-11-28T17:24:58.945Z"
   },
   {
    "duration": 11,
    "start_time": "2021-11-28T17:25:14.534Z"
   },
   {
    "duration": 12,
    "start_time": "2021-11-28T17:25:17.483Z"
   },
   {
    "duration": 11,
    "start_time": "2021-11-28T17:28:16.841Z"
   },
   {
    "duration": 12,
    "start_time": "2021-11-28T17:28:21.730Z"
   },
   {
    "duration": 18,
    "start_time": "2021-11-28T17:28:36.661Z"
   },
   {
    "duration": 28,
    "start_time": "2021-11-28T17:29:19.440Z"
   },
   {
    "duration": 10,
    "start_time": "2021-11-28T17:31:51.832Z"
   },
   {
    "duration": 16,
    "start_time": "2021-11-28T17:32:16.282Z"
   },
   {
    "duration": 267,
    "start_time": "2021-11-28T17:32:55.233Z"
   },
   {
    "duration": 81,
    "start_time": "2021-11-28T17:33:09.108Z"
   },
   {
    "duration": 11,
    "start_time": "2021-11-28T17:33:11.882Z"
   },
   {
    "duration": 11,
    "start_time": "2021-11-28T17:33:16.943Z"
   },
   {
    "duration": 15,
    "start_time": "2021-11-28T17:34:31.838Z"
   },
   {
    "duration": 8,
    "start_time": "2021-11-28T17:34:46.999Z"
   },
   {
    "duration": 11,
    "start_time": "2021-11-28T17:34:54.947Z"
   },
   {
    "duration": 266,
    "start_time": "2021-11-28T17:36:39.766Z"
   },
   {
    "duration": 8,
    "start_time": "2021-11-28T17:37:33.987Z"
   },
   {
    "duration": 11,
    "start_time": "2021-11-28T17:38:02.121Z"
   },
   {
    "duration": 16,
    "start_time": "2021-11-28T17:38:19.126Z"
   },
   {
    "duration": 15,
    "start_time": "2021-11-28T17:38:23.843Z"
   },
   {
    "duration": 409,
    "start_time": "2021-11-28T17:39:31.443Z"
   },
   {
    "duration": 6,
    "start_time": "2021-11-28T17:41:39.441Z"
   },
   {
    "duration": 11,
    "start_time": "2021-11-28T17:41:46.765Z"
   },
   {
    "duration": 93,
    "start_time": "2021-11-28T17:42:59.385Z"
   },
   {
    "duration": 6388,
    "start_time": "2021-11-28T17:43:05.810Z"
   },
   {
    "duration": 6585,
    "start_time": "2021-11-28T17:43:19.337Z"
   },
   {
    "duration": 6519,
    "start_time": "2021-11-28T17:44:03.104Z"
   },
   {
    "duration": 87,
    "start_time": "2021-11-28T17:44:19.741Z"
   },
   {
    "duration": 22,
    "start_time": "2021-11-28T17:44:21.623Z"
   },
   {
    "duration": 5,
    "start_time": "2021-11-28T17:44:44.149Z"
   },
   {
    "duration": 5,
    "start_time": "2021-11-28T17:44:48.698Z"
   },
   {
    "duration": 5,
    "start_time": "2021-11-28T17:44:56.550Z"
   },
   {
    "duration": 5,
    "start_time": "2021-11-28T17:46:58.803Z"
   },
   {
    "duration": 10,
    "start_time": "2021-11-28T17:53:36.989Z"
   },
   {
    "duration": 34,
    "start_time": "2021-11-28T17:54:08.548Z"
   },
   {
    "duration": 15,
    "start_time": "2021-11-28T17:54:15.375Z"
   },
   {
    "duration": 28,
    "start_time": "2021-11-28T17:54:18.861Z"
   },
   {
    "duration": 78,
    "start_time": "2021-11-28T17:54:42.006Z"
   },
   {
    "duration": 3,
    "start_time": "2021-11-28T17:54:42.868Z"
   },
   {
    "duration": 14,
    "start_time": "2021-11-28T17:54:43.341Z"
   },
   {
    "duration": 21,
    "start_time": "2021-11-28T17:54:44.020Z"
   },
   {
    "duration": 12,
    "start_time": "2021-11-28T17:54:44.864Z"
   },
   {
    "duration": 10,
    "start_time": "2021-11-28T17:54:47.168Z"
   },
   {
    "duration": 11,
    "start_time": "2021-11-28T17:54:47.772Z"
   },
   {
    "duration": 9,
    "start_time": "2021-11-28T17:54:48.321Z"
   },
   {
    "duration": 33,
    "start_time": "2021-11-28T17:54:48.873Z"
   },
   {
    "duration": 14,
    "start_time": "2021-11-28T17:54:49.146Z"
   },
   {
    "duration": 12,
    "start_time": "2021-11-28T17:54:49.827Z"
   },
   {
    "duration": 11,
    "start_time": "2021-11-28T17:54:50.377Z"
   },
   {
    "duration": 8,
    "start_time": "2021-11-28T17:54:51.330Z"
   },
   {
    "duration": 11,
    "start_time": "2021-11-28T17:54:51.704Z"
   },
   {
    "duration": 16,
    "start_time": "2021-11-28T17:54:52.693Z"
   },
   {
    "duration": 11,
    "start_time": "2021-11-28T17:54:54.508Z"
   },
   {
    "duration": 29,
    "start_time": "2021-11-28T17:55:06.237Z"
   },
   {
    "duration": 14,
    "start_time": "2021-11-28T17:55:07.363Z"
   },
   {
    "duration": 47,
    "start_time": "2021-11-28T17:58:35.077Z"
   },
   {
    "duration": 38,
    "start_time": "2021-11-28T17:59:24.598Z"
   },
   {
    "duration": 46,
    "start_time": "2021-11-28T17:59:30.622Z"
   },
   {
    "duration": 7,
    "start_time": "2021-11-28T18:15:26.303Z"
   },
   {
    "duration": 10,
    "start_time": "2021-11-28T18:15:32.235Z"
   },
   {
    "duration": 5,
    "start_time": "2021-11-28T18:19:52.024Z"
   },
   {
    "duration": 5,
    "start_time": "2021-11-28T18:19:54.035Z"
   },
   {
    "duration": 6,
    "start_time": "2021-11-28T18:19:59.095Z"
   },
   {
    "duration": 6,
    "start_time": "2021-11-28T18:20:03.079Z"
   },
   {
    "duration": 851,
    "start_time": "2021-11-29T07:14:53.346Z"
   },
   {
    "duration": 676,
    "start_time": "2021-11-29T16:32:28.256Z"
   },
   {
    "duration": 11,
    "start_time": "2021-11-29T16:32:42.914Z"
   },
   {
    "duration": 15,
    "start_time": "2021-11-29T16:32:44.981Z"
   },
   {
    "duration": 13,
    "start_time": "2021-11-29T16:32:50.114Z"
   },
   {
    "duration": 10,
    "start_time": "2021-11-29T16:33:04.882Z"
   },
   {
    "duration": 7,
    "start_time": "2021-11-29T16:33:23.286Z"
   },
   {
    "duration": 8,
    "start_time": "2021-11-29T16:33:24.690Z"
   },
   {
    "duration": 8,
    "start_time": "2021-11-29T16:33:26.565Z"
   },
   {
    "duration": 24,
    "start_time": "2021-11-29T16:36:56.636Z"
   },
   {
    "duration": 12,
    "start_time": "2021-11-29T16:36:57.621Z"
   },
   {
    "duration": 8,
    "start_time": "2021-11-29T16:36:59.690Z"
   },
   {
    "duration": 9,
    "start_time": "2021-11-29T16:37:01.088Z"
   },
   {
    "duration": 11,
    "start_time": "2021-11-29T16:37:06.447Z"
   },
   {
    "duration": 8,
    "start_time": "2021-11-29T16:37:06.869Z"
   },
   {
    "duration": 13,
    "start_time": "2021-11-29T16:37:11.251Z"
   },
   {
    "duration": 8,
    "start_time": "2021-11-29T16:37:16.031Z"
   },
   {
    "duration": 21,
    "start_time": "2021-11-29T16:37:45.812Z"
   },
   {
    "duration": 11,
    "start_time": "2021-11-29T16:37:46.277Z"
   },
   {
    "duration": 30,
    "start_time": "2021-11-29T16:37:50.471Z"
   },
   {
    "duration": 22,
    "start_time": "2021-11-29T16:46:48.902Z"
   },
   {
    "duration": 9,
    "start_time": "2021-11-29T16:46:59.645Z"
   },
   {
    "duration": 404,
    "start_time": "2021-11-29T16:47:06.748Z"
   },
   {
    "duration": 9,
    "start_time": "2021-11-29T16:47:18.952Z"
   },
   {
    "duration": 11,
    "start_time": "2021-11-29T16:47:28.885Z"
   },
   {
    "duration": 18,
    "start_time": "2021-11-29T17:00:18.862Z"
   },
   {
    "duration": 15,
    "start_time": "2021-11-29T17:00:21.997Z"
   },
   {
    "duration": 329,
    "start_time": "2021-11-29T17:00:39.182Z"
   },
   {
    "duration": 337,
    "start_time": "2021-11-29T17:01:07.015Z"
   },
   {
    "duration": 352,
    "start_time": "2021-11-29T17:02:41.359Z"
   },
   {
    "duration": 7,
    "start_time": "2021-11-29T17:02:43.592Z"
   },
   {
    "duration": 7,
    "start_time": "2021-11-29T17:03:14.506Z"
   },
   {
    "duration": 8,
    "start_time": "2021-11-29T17:03:56.344Z"
   },
   {
    "duration": 8,
    "start_time": "2021-11-29T17:04:08.243Z"
   },
   {
    "duration": 7,
    "start_time": "2021-11-29T17:04:16.867Z"
   },
   {
    "duration": 8,
    "start_time": "2021-11-29T17:05:38.466Z"
   },
   {
    "duration": -996,
    "start_time": "2021-11-29T17:06:14.279Z"
   },
   {
    "duration": 7,
    "start_time": "2021-11-29T17:06:17.872Z"
   },
   {
    "duration": 8,
    "start_time": "2021-11-29T17:07:15.771Z"
   },
   {
    "duration": 9,
    "start_time": "2021-11-29T17:08:55.814Z"
   },
   {
    "duration": 17,
    "start_time": "2021-11-29T17:08:57.402Z"
   },
   {
    "duration": 16,
    "start_time": "2021-11-29T17:09:34.949Z"
   },
   {
    "duration": 9,
    "start_time": "2021-11-29T17:14:36.184Z"
   },
   {
    "duration": 42,
    "start_time": "2021-11-29T17:15:56.695Z"
   },
   {
    "duration": 31,
    "start_time": "2021-11-29T17:16:04.703Z"
   },
   {
    "duration": 6,
    "start_time": "2021-11-29T17:42:16.661Z"
   },
   {
    "duration": 3,
    "start_time": "2021-11-29T17:49:51.127Z"
   },
   {
    "duration": 4,
    "start_time": "2021-11-29T17:49:56.761Z"
   },
   {
    "duration": 4,
    "start_time": "2021-11-29T17:49:59.996Z"
   },
   {
    "duration": 4,
    "start_time": "2021-11-29T17:50:02.051Z"
   },
   {
    "duration": 3,
    "start_time": "2021-11-29T17:50:13.345Z"
   },
   {
    "duration": 3,
    "start_time": "2021-11-29T17:50:18.089Z"
   },
   {
    "duration": 3,
    "start_time": "2021-11-29T17:50:20.342Z"
   },
   {
    "duration": 2,
    "start_time": "2021-11-29T17:50:46.886Z"
   },
   {
    "duration": 3,
    "start_time": "2021-11-29T17:50:50.102Z"
   },
   {
    "duration": 3,
    "start_time": "2021-11-29T17:51:04.861Z"
   },
   {
    "duration": 4,
    "start_time": "2021-11-29T17:51:15.019Z"
   },
   {
    "duration": 3,
    "start_time": "2021-11-29T17:52:07.389Z"
   },
   {
    "duration": 4,
    "start_time": "2021-11-29T17:52:23.475Z"
   },
   {
    "duration": 5,
    "start_time": "2021-11-29T17:52:25.839Z"
   },
   {
    "duration": 103,
    "start_time": "2021-11-29T17:52:29.242Z"
   },
   {
    "duration": 4,
    "start_time": "2021-11-29T17:52:32.588Z"
   },
   {
    "duration": 3,
    "start_time": "2021-11-29T17:52:35.383Z"
   },
   {
    "duration": 332,
    "start_time": "2021-11-29T17:53:14.666Z"
   },
   {
    "duration": 107,
    "start_time": "2021-11-29T17:53:20.175Z"
   },
   {
    "duration": 3,
    "start_time": "2021-11-29T17:53:25.239Z"
   },
   {
    "duration": 705,
    "start_time": "2021-11-29T17:53:27.603Z"
   },
   {
    "duration": 808,
    "start_time": "2021-11-29T17:53:43.172Z"
   },
   {
    "duration": 730,
    "start_time": "2021-11-29T17:53:48.884Z"
   },
   {
    "duration": 54820,
    "start_time": "2021-11-29T18:07:32.872Z"
   },
   {
    "duration": 20,
    "start_time": "2021-11-29T18:08:36.350Z"
   },
   {
    "duration": 4,
    "start_time": "2021-11-29T18:09:44.611Z"
   },
   {
    "duration": 11,
    "start_time": "2021-11-29T18:09:47.066Z"
   },
   {
    "duration": 2338,
    "start_time": "2021-11-29T18:09:55.535Z"
   },
   {
    "duration": 2165,
    "start_time": "2021-11-29T18:12:03.475Z"
   },
   {
    "duration": 2180,
    "start_time": "2021-11-29T18:12:11.668Z"
   },
   {
    "duration": 148,
    "start_time": "2021-11-29T18:12:40.181Z"
   },
   {
    "duration": 2267,
    "start_time": "2021-11-29T18:12:43.367Z"
   },
   {
    "duration": 1117084,
    "start_time": "2021-11-29T18:13:09.094Z"
   },
   {
    "duration": 3,
    "start_time": "2021-11-29T18:32:11.454Z"
   },
   {
    "duration": 4078,
    "start_time": "2021-11-29T18:32:22.586Z"
   },
   {
    "duration": 29543,
    "start_time": "2021-11-29T18:32:33.942Z"
   },
   {
    "duration": 5,
    "start_time": "2021-11-29T18:33:37.400Z"
   },
   {
    "duration": 4,
    "start_time": "2021-11-29T18:33:44.908Z"
   },
   {
    "duration": 3,
    "start_time": "2021-11-29T18:33:49.694Z"
   },
   {
    "duration": 4,
    "start_time": "2021-11-29T18:34:29.162Z"
   },
   {
    "duration": 6282,
    "start_time": "2021-11-29T18:34:49.489Z"
   },
   {
    "duration": 763,
    "start_time": "2021-11-29T18:35:22.954Z"
   },
   {
    "duration": 718,
    "start_time": "2021-11-29T18:35:26.433Z"
   },
   {
    "duration": 853,
    "start_time": "2021-11-29T18:35:28.109Z"
   },
   {
    "duration": 739,
    "start_time": "2021-11-29T18:38:59.487Z"
   },
   {
    "duration": 5970,
    "start_time": "2021-11-29T18:39:13.883Z"
   },
   {
    "duration": 3729,
    "start_time": "2021-11-29T18:39:47.679Z"
   },
   {
    "duration": 3623,
    "start_time": "2021-11-29T18:39:51.662Z"
   },
   {
    "duration": 3,
    "start_time": "2021-11-29T18:39:59.174Z"
   },
   {
    "duration": 7488,
    "start_time": "2021-11-29T18:40:01.293Z"
   },
   {
    "duration": 14,
    "start_time": "2021-11-29T18:40:15.225Z"
   },
   {
    "duration": 3,
    "start_time": "2021-11-29T18:40:43.090Z"
   },
   {
    "duration": 8992,
    "start_time": "2021-11-29T18:41:20.495Z"
   },
   {
    "duration": 3,
    "start_time": "2021-11-29T18:41:35.797Z"
   },
   {
    "duration": 5,
    "start_time": "2021-11-29T18:41:39.234Z"
   },
   {
    "duration": 885,
    "start_time": "2021-11-29T18:42:08.779Z"
   },
   {
    "duration": 726,
    "start_time": "2021-11-29T18:42:25.852Z"
   },
   {
    "duration": 112686,
    "start_time": "2021-11-29T18:42:46.360Z"
   },
   {
    "duration": 22,
    "start_time": "2021-11-29T18:44:39.049Z"
   },
   {
    "duration": 7,
    "start_time": "2021-11-29T18:45:08.904Z"
   },
   {
    "duration": 5,
    "start_time": "2021-11-29T18:45:19.002Z"
   },
   {
    "duration": 5,
    "start_time": "2021-11-29T18:45:30.439Z"
   },
   {
    "duration": 28,
    "start_time": "2021-11-29T18:45:36.191Z"
   },
   {
    "duration": 3,
    "start_time": "2021-11-29T18:46:01.683Z"
   },
   {
    "duration": 111737,
    "start_time": "2021-11-29T18:46:17.328Z"
   },
   {
    "duration": 4,
    "start_time": "2021-11-29T18:48:09.068Z"
   },
   {
    "duration": 21,
    "start_time": "2021-11-29T18:48:09.074Z"
   },
   {
    "duration": 4,
    "start_time": "2021-11-29T18:48:55.822Z"
   },
   {
    "duration": 4,
    "start_time": "2021-11-29T18:49:40.344Z"
   },
   {
    "duration": 13,
    "start_time": "2021-11-29T18:49:43.484Z"
   },
   {
    "duration": 765,
    "start_time": "2021-11-29T18:50:27.851Z"
   },
   {
    "duration": 17,
    "start_time": "2021-11-29T18:50:33.829Z"
   },
   {
    "duration": 8624,
    "start_time": "2021-11-29T18:51:10.517Z"
   },
   {
    "duration": 1328,
    "start_time": "2021-11-29T18:52:13.211Z"
   },
   {
    "duration": 8,
    "start_time": "2021-11-29T18:52:52.418Z"
   },
   {
    "duration": 11211,
    "start_time": "2021-11-29T18:53:17.787Z"
   },
   {
    "duration": 8,
    "start_time": "2021-11-29T18:53:31.078Z"
   },
   {
    "duration": 4,
    "start_time": "2021-11-29T18:54:03.255Z"
   },
   {
    "duration": 3,
    "start_time": "2021-11-29T18:54:07.373Z"
   },
   {
    "duration": 2450,
    "start_time": "2021-11-29T18:54:10.071Z"
   },
   {
    "duration": 4,
    "start_time": "2021-11-29T18:54:26.075Z"
   },
   {
    "duration": 3,
    "start_time": "2021-11-29T18:54:30.739Z"
   },
   {
    "duration": 745,
    "start_time": "2021-11-29T18:54:30.969Z"
   },
   {
    "duration": 18,
    "start_time": "2021-11-29T18:54:34.858Z"
   },
   {
    "duration": 3,
    "start_time": "2021-11-29T18:54:47.158Z"
   },
   {
    "duration": 707,
    "start_time": "2021-11-29T18:54:48.267Z"
   },
   {
    "duration": 24,
    "start_time": "2021-11-29T18:54:50.599Z"
   },
   {
    "duration": 188932,
    "start_time": "2021-11-29T18:55:31.775Z"
   },
   {
    "duration": 26350,
    "start_time": "2021-11-29T18:58:45.893Z"
   },
   {
    "duration": 14166,
    "start_time": "2021-11-29T18:59:21.095Z"
   },
   {
    "duration": 6611,
    "start_time": "2021-11-29T19:01:00.297Z"
   },
   {
    "duration": 373,
    "start_time": "2021-11-29T19:01:31.181Z"
   },
   {
    "duration": 23,
    "start_time": "2021-11-29T19:01:33.994Z"
   },
   {
    "duration": 8,
    "start_time": "2021-11-29T19:02:43.535Z"
   },
   {
    "duration": 7,
    "start_time": "2021-11-29T19:02:48.652Z"
   },
   {
    "duration": 2,
    "start_time": "2021-11-29T19:03:13.485Z"
   },
   {
    "duration": 10,
    "start_time": "2021-11-29T19:03:53.196Z"
   },
   {
    "duration": 24,
    "start_time": "2021-11-29T19:03:56.807Z"
   },
   {
    "duration": 22,
    "start_time": "2021-11-29T19:04:19.741Z"
   },
   {
    "duration": 16,
    "start_time": "2021-11-29T19:04:24.642Z"
   },
   {
    "duration": 13,
    "start_time": "2021-11-29T19:04:45.291Z"
   },
   {
    "duration": 18,
    "start_time": "2021-11-29T19:05:30.197Z"
   },
   {
    "duration": 18,
    "start_time": "2021-11-29T19:05:36.371Z"
   },
   {
    "duration": 18,
    "start_time": "2021-11-29T19:05:45.634Z"
   },
   {
    "duration": 333,
    "start_time": "2021-11-29T19:05:54.169Z"
   },
   {
    "duration": 343,
    "start_time": "2021-11-29T19:05:56.962Z"
   },
   {
    "duration": 6,
    "start_time": "2021-11-29T19:06:02.741Z"
   },
   {
    "duration": 4,
    "start_time": "2021-11-29T19:07:00.508Z"
   },
   {
    "duration": 5,
    "start_time": "2021-11-29T19:07:06.027Z"
   },
   {
    "duration": 19,
    "start_time": "2021-11-29T19:07:14.609Z"
   },
   {
    "duration": 23,
    "start_time": "2021-11-29T19:07:26.112Z"
   },
   {
    "duration": 15,
    "start_time": "2021-11-29T19:21:56.681Z"
   },
   {
    "duration": -1073,
    "start_time": "2021-11-29T19:22:25.996Z"
   },
   {
    "duration": 10482,
    "start_time": "2021-11-29T19:22:28.599Z"
   },
   {
    "duration": 10248,
    "start_time": "2021-11-29T19:22:39.917Z"
   },
   {
    "duration": 12,
    "start_time": "2021-11-29T19:22:51.316Z"
   },
   {
    "duration": 9,
    "start_time": "2021-11-29T19:22:58.556Z"
   },
   {
    "duration": 13,
    "start_time": "2021-11-29T19:23:10.247Z"
   },
   {
    "duration": 5,
    "start_time": "2021-11-29T19:23:52.767Z"
   },
   {
    "duration": 6,
    "start_time": "2021-11-29T19:24:11.601Z"
   },
   {
    "duration": 409,
    "start_time": "2021-11-30T07:05:39.392Z"
   },
   {
    "duration": 902,
    "start_time": "2021-11-30T07:05:51.589Z"
   },
   {
    "duration": 3,
    "start_time": "2021-11-30T07:05:52.493Z"
   },
   {
    "duration": 18,
    "start_time": "2021-11-30T07:05:52.499Z"
   },
   {
    "duration": 19,
    "start_time": "2021-11-30T07:05:52.519Z"
   },
   {
    "duration": 42,
    "start_time": "2021-11-30T07:05:52.541Z"
   },
   {
    "duration": 10,
    "start_time": "2021-11-30T07:05:52.585Z"
   },
   {
    "duration": 10,
    "start_time": "2021-11-30T07:05:52.597Z"
   },
   {
    "duration": 11,
    "start_time": "2021-11-30T07:05:52.611Z"
   },
   {
    "duration": 69,
    "start_time": "2021-11-30T07:05:52.625Z"
   },
   {
    "duration": 14,
    "start_time": "2021-11-30T07:05:52.696Z"
   },
   {
    "duration": 15,
    "start_time": "2021-11-30T07:05:52.712Z"
   },
   {
    "duration": 12,
    "start_time": "2021-11-30T07:05:52.730Z"
   },
   {
    "duration": 42,
    "start_time": "2021-11-30T07:05:52.745Z"
   },
   {
    "duration": 10,
    "start_time": "2021-11-30T07:05:52.789Z"
   },
   {
    "duration": 16,
    "start_time": "2021-11-30T07:05:52.802Z"
   },
   {
    "duration": 9,
    "start_time": "2021-11-30T07:05:52.820Z"
   },
   {
    "duration": 83,
    "start_time": "2021-11-30T07:05:52.832Z"
   },
   {
    "duration": 21,
    "start_time": "2021-11-30T07:05:52.918Z"
   },
   {
    "duration": 89,
    "start_time": "2021-11-30T07:05:52.942Z"
   },
   {
    "duration": 410,
    "start_time": "2021-11-30T07:05:53.035Z"
   },
   {
    "duration": 8493,
    "start_time": "2021-11-30T07:05:44.956Z"
   },
   {
    "duration": 8487,
    "start_time": "2021-11-30T07:05:44.964Z"
   },
   {
    "duration": 8480,
    "start_time": "2021-11-30T07:05:44.973Z"
   },
   {
    "duration": 8476,
    "start_time": "2021-11-30T07:05:44.979Z"
   },
   {
    "duration": 8476,
    "start_time": "2021-11-30T07:05:44.981Z"
   },
   {
    "duration": 8469,
    "start_time": "2021-11-30T07:05:44.990Z"
   },
   {
    "duration": 8464,
    "start_time": "2021-11-30T07:05:44.997Z"
   },
   {
    "duration": 8460,
    "start_time": "2021-11-30T07:05:45.003Z"
   },
   {
    "duration": 8453,
    "start_time": "2021-11-30T07:05:45.011Z"
   },
   {
    "duration": 8452,
    "start_time": "2021-11-30T07:05:45.013Z"
   },
   {
    "duration": 8452,
    "start_time": "2021-11-30T07:05:45.015Z"
   },
   {
    "duration": 8441,
    "start_time": "2021-11-30T07:05:45.028Z"
   },
   {
    "duration": 8440,
    "start_time": "2021-11-30T07:05:45.030Z"
   },
   {
    "duration": 8439,
    "start_time": "2021-11-30T07:05:45.032Z"
   },
   {
    "duration": 8432,
    "start_time": "2021-11-30T07:05:45.041Z"
   },
   {
    "duration": 8425,
    "start_time": "2021-11-30T07:05:45.049Z"
   },
   {
    "duration": 17,
    "start_time": "2021-11-30T07:06:10.724Z"
   },
   {
    "duration": 10,
    "start_time": "2021-11-30T07:06:12.260Z"
   },
   {
    "duration": 10,
    "start_time": "2021-11-30T07:06:12.420Z"
   },
   {
    "duration": 11,
    "start_time": "2021-11-30T07:06:12.612Z"
   },
   {
    "duration": 16,
    "start_time": "2021-11-30T07:06:13.940Z"
   },
   {
    "duration": 46,
    "start_time": "2021-11-30T07:06:14.084Z"
   },
   {
    "duration": 5227,
    "start_time": "2021-11-30T07:06:20.533Z"
   },
   {
    "duration": 55,
    "start_time": "2021-11-30T07:06:31.189Z"
   },
   {
    "duration": 14,
    "start_time": "2021-11-30T07:06:31.477Z"
   },
   {
    "duration": 29,
    "start_time": "2021-11-30T07:06:38.842Z"
   },
   {
    "duration": 7,
    "start_time": "2021-11-30T07:07:08.599Z"
   },
   {
    "duration": 32,
    "start_time": "2021-11-30T07:07:47.160Z"
   },
   {
    "duration": 9,
    "start_time": "2021-11-30T07:07:47.348Z"
   },
   {
    "duration": 5,
    "start_time": "2021-11-30T07:07:47.684Z"
   },
   {
    "duration": 25,
    "start_time": "2021-11-30T07:07:48.885Z"
   },
   {
    "duration": 25,
    "start_time": "2021-11-30T07:07:50.054Z"
   },
   {
    "duration": 6,
    "start_time": "2021-11-30T07:07:58.133Z"
   },
   {
    "duration": 8,
    "start_time": "2021-11-30T07:08:28.966Z"
   },
   {
    "duration": 11,
    "start_time": "2021-11-30T07:08:31.046Z"
   },
   {
    "duration": 11,
    "start_time": "2021-11-30T07:08:35.061Z"
   },
   {
    "duration": 8,
    "start_time": "2021-11-30T07:08:39.590Z"
   },
   {
    "duration": 10,
    "start_time": "2021-11-30T07:08:46.789Z"
   },
   {
    "duration": 8,
    "start_time": "2021-11-30T07:08:51.302Z"
   },
   {
    "duration": 8,
    "start_time": "2021-11-30T07:09:02.182Z"
   },
   {
    "duration": 8,
    "start_time": "2021-11-30T07:09:49.350Z"
   },
   {
    "duration": 11,
    "start_time": "2021-11-30T07:09:58.183Z"
   },
   {
    "duration": 19,
    "start_time": "2021-11-30T07:10:34.022Z"
   },
   {
    "duration": 16,
    "start_time": "2021-11-30T07:10:59.732Z"
   },
   {
    "duration": 17,
    "start_time": "2021-11-30T07:11:03.382Z"
   },
   {
    "duration": 6,
    "start_time": "2021-11-30T07:17:20.920Z"
   },
   {
    "duration": 7,
    "start_time": "2021-11-30T07:17:24.792Z"
   },
   {
    "duration": 321,
    "start_time": "2021-11-30T07:17:37.128Z"
   },
   {
    "duration": 35,
    "start_time": "2021-11-30T07:17:56.729Z"
   },
   {
    "duration": 11,
    "start_time": "2021-11-30T07:18:11.145Z"
   },
   {
    "duration": 12,
    "start_time": "2021-11-30T07:18:14.809Z"
   },
   {
    "duration": 14,
    "start_time": "2021-11-30T07:18:20.760Z"
   },
   {
    "duration": 28,
    "start_time": "2021-11-30T07:18:38.441Z"
   },
   {
    "duration": 472,
    "start_time": "2021-11-30T07:20:18.090Z"
   },
   {
    "duration": 282,
    "start_time": "2021-11-30T07:20:32.666Z"
   },
   {
    "duration": 533,
    "start_time": "2021-11-30T07:20:35.818Z"
   },
   {
    "duration": 629,
    "start_time": "2021-11-30T07:20:41.690Z"
   },
   {
    "duration": 95,
    "start_time": "2021-11-30T07:21:52.602Z"
   },
   {
    "duration": 650,
    "start_time": "2021-11-30T07:21:56.202Z"
   },
   {
    "duration": 487,
    "start_time": "2021-11-30T07:22:01.051Z"
   },
   {
    "duration": 6,
    "start_time": "2021-11-30T07:22:36.427Z"
   },
   {
    "duration": 490,
    "start_time": "2021-11-30T07:22:49.643Z"
   },
   {
    "duration": 5,
    "start_time": "2021-11-30T07:23:15.260Z"
   },
   {
    "duration": 5,
    "start_time": "2021-11-30T07:23:19.003Z"
   },
   {
    "duration": 7,
    "start_time": "2021-11-30T07:24:12.172Z"
   },
   {
    "duration": 12,
    "start_time": "2021-11-30T07:24:26.892Z"
   },
   {
    "duration": 325,
    "start_time": "2021-11-30T07:28:37.325Z"
   },
   {
    "duration": 31,
    "start_time": "2021-11-30T07:28:44.414Z"
   },
   {
    "duration": 12,
    "start_time": "2021-11-30T07:30:03.278Z"
   },
   {
    "duration": 14,
    "start_time": "2021-11-30T07:31:37.407Z"
   },
   {
    "duration": 15,
    "start_time": "2021-11-30T07:32:00.144Z"
   },
   {
    "duration": 13,
    "start_time": "2021-11-30T07:32:22.879Z"
   },
   {
    "duration": 31,
    "start_time": "2021-11-30T07:32:56.646Z"
   },
   {
    "duration": 14,
    "start_time": "2021-11-30T07:32:59.648Z"
   },
   {
    "duration": 5,
    "start_time": "2021-11-30T07:35:02.097Z"
   },
   {
    "duration": 4,
    "start_time": "2021-11-30T07:35:04.464Z"
   },
   {
    "duration": 15,
    "start_time": "2021-11-30T07:51:37.701Z"
   },
   {
    "duration": 21,
    "start_time": "2021-11-30T07:51:46.888Z"
   },
   {
    "duration": 5,
    "start_time": "2021-11-30T07:52:12.182Z"
   },
   {
    "duration": 6,
    "start_time": "2021-11-30T07:52:18.326Z"
   },
   {
    "duration": 7,
    "start_time": "2021-11-30T07:52:29.656Z"
   },
   {
    "duration": 8,
    "start_time": "2021-11-30T07:52:34.310Z"
   },
   {
    "duration": 325,
    "start_time": "2021-11-30T07:53:19.910Z"
   },
   {
    "duration": 4869,
    "start_time": "2021-11-30T07:54:30.031Z"
   },
   {
    "duration": 10,
    "start_time": "2021-11-30T08:05:08.954Z"
   },
   {
    "duration": 19,
    "start_time": "2021-11-30T08:15:46.432Z"
   },
   {
    "duration": 17,
    "start_time": "2021-11-30T08:17:26.046Z"
   },
   {
    "duration": 17,
    "start_time": "2021-11-30T08:17:31.295Z"
   },
   {
    "duration": 21,
    "start_time": "2021-11-30T08:21:42.271Z"
   },
   {
    "duration": 12,
    "start_time": "2021-11-30T08:26:55.027Z"
   },
   {
    "duration": 25,
    "start_time": "2021-11-30T08:33:00.893Z"
   },
   {
    "duration": 16,
    "start_time": "2021-11-30T08:36:03.421Z"
   },
   {
    "duration": 10,
    "start_time": "2021-11-30T08:46:24.450Z"
   },
   {
    "duration": 878,
    "start_time": "2021-11-30T09:01:43.718Z"
   },
   {
    "duration": 20,
    "start_time": "2021-11-30T09:01:44.600Z"
   },
   {
    "duration": 24,
    "start_time": "2021-11-30T09:01:44.623Z"
   },
   {
    "duration": 43,
    "start_time": "2021-11-30T09:01:44.650Z"
   },
   {
    "duration": 15,
    "start_time": "2021-11-30T09:01:44.696Z"
   },
   {
    "duration": 15,
    "start_time": "2021-11-30T09:01:44.714Z"
   },
   {
    "duration": 11,
    "start_time": "2021-11-30T09:01:44.732Z"
   },
   {
    "duration": 35,
    "start_time": "2021-11-30T09:01:44.789Z"
   },
   {
    "duration": 16,
    "start_time": "2021-11-30T09:01:44.827Z"
   },
   {
    "duration": 38,
    "start_time": "2021-11-30T09:01:44.845Z"
   },
   {
    "duration": 13,
    "start_time": "2021-11-30T09:01:44.886Z"
   },
   {
    "duration": 32,
    "start_time": "2021-11-30T09:01:44.901Z"
   },
   {
    "duration": 12,
    "start_time": "2021-11-30T09:01:44.936Z"
   },
   {
    "duration": 47,
    "start_time": "2021-11-30T09:01:44.951Z"
   },
   {
    "duration": 14,
    "start_time": "2021-11-30T09:01:45.005Z"
   },
   {
    "duration": 60,
    "start_time": "2021-11-30T09:01:45.022Z"
   },
   {
    "duration": 15,
    "start_time": "2021-11-30T09:01:45.084Z"
   },
   {
    "duration": 62,
    "start_time": "2021-11-30T09:01:45.102Z"
   },
   {
    "duration": 17,
    "start_time": "2021-11-30T09:01:45.183Z"
   },
   {
    "duration": 14,
    "start_time": "2021-11-30T09:01:45.203Z"
   },
   {
    "duration": 14,
    "start_time": "2021-11-30T09:01:45.220Z"
   },
   {
    "duration": 52,
    "start_time": "2021-11-30T09:01:45.236Z"
   },
   {
    "duration": 16,
    "start_time": "2021-11-30T09:01:45.294Z"
   },
   {
    "duration": 69,
    "start_time": "2021-11-30T09:01:45.313Z"
   },
   {
    "duration": 5080,
    "start_time": "2021-11-30T09:01:45.385Z"
   },
   {
    "duration": 50,
    "start_time": "2021-11-30T09:01:50.467Z"
   },
   {
    "duration": 21,
    "start_time": "2021-11-30T09:01:50.520Z"
   },
   {
    "duration": 40,
    "start_time": "2021-11-30T09:01:50.543Z"
   },
   {
    "duration": 14,
    "start_time": "2021-11-30T09:01:50.586Z"
   },
   {
    "duration": 17,
    "start_time": "2021-11-30T09:01:50.602Z"
   },
   {
    "duration": 17,
    "start_time": "2021-11-30T09:01:50.621Z"
   },
   {
    "duration": 49,
    "start_time": "2021-11-30T09:01:50.641Z"
   },
   {
    "duration": 32,
    "start_time": "2021-11-30T09:01:50.693Z"
   },
   {
    "duration": 30,
    "start_time": "2021-11-30T09:01:50.727Z"
   },
   {
    "duration": 40,
    "start_time": "2021-11-30T09:01:50.759Z"
   },
   {
    "duration": 986,
    "start_time": "2021-11-30T10:23:42.638Z"
   },
   {
    "duration": 15,
    "start_time": "2021-11-30T10:23:43.626Z"
   },
   {
    "duration": 38,
    "start_time": "2021-11-30T10:23:43.644Z"
   },
   {
    "duration": 16,
    "start_time": "2021-11-30T10:23:43.685Z"
   },
   {
    "duration": 28,
    "start_time": "2021-11-30T10:23:43.704Z"
   },
   {
    "duration": 24,
    "start_time": "2021-11-30T10:23:43.734Z"
   },
   {
    "duration": 22,
    "start_time": "2021-11-30T10:23:43.761Z"
   },
   {
    "duration": 59,
    "start_time": "2021-11-30T10:23:43.789Z"
   },
   {
    "duration": 36,
    "start_time": "2021-11-30T10:23:43.852Z"
   },
   {
    "duration": 14,
    "start_time": "2021-11-30T10:23:43.891Z"
   },
   {
    "duration": 21,
    "start_time": "2021-11-30T10:23:43.908Z"
   },
   {
    "duration": 16,
    "start_time": "2021-11-30T10:23:43.932Z"
   },
   {
    "duration": 39,
    "start_time": "2021-11-30T10:23:43.951Z"
   },
   {
    "duration": 34,
    "start_time": "2021-11-30T10:23:43.993Z"
   },
   {
    "duration": 18,
    "start_time": "2021-11-30T10:23:44.029Z"
   },
   {
    "duration": 54,
    "start_time": "2021-11-30T10:23:44.050Z"
   },
   {
    "duration": 22,
    "start_time": "2021-11-30T10:23:44.107Z"
   },
   {
    "duration": 71,
    "start_time": "2021-11-30T10:23:44.132Z"
   },
   {
    "duration": 14,
    "start_time": "2021-11-30T10:23:44.205Z"
   },
   {
    "duration": 12,
    "start_time": "2021-11-30T10:23:44.221Z"
   },
   {
    "duration": 47,
    "start_time": "2021-11-30T10:23:44.235Z"
   },
   {
    "duration": 10,
    "start_time": "2021-11-30T10:23:44.285Z"
   },
   {
    "duration": 21,
    "start_time": "2021-11-30T10:23:44.302Z"
   },
   {
    "duration": 75,
    "start_time": "2021-11-30T10:23:44.326Z"
   },
   {
    "duration": 5149,
    "start_time": "2021-11-30T10:23:44.404Z"
   },
   {
    "duration": 54,
    "start_time": "2021-11-30T10:23:49.556Z"
   },
   {
    "duration": 21,
    "start_time": "2021-11-30T10:23:49.613Z"
   },
   {
    "duration": 9,
    "start_time": "2021-11-30T10:23:49.636Z"
   },
   {
    "duration": 42,
    "start_time": "2021-11-30T10:23:49.647Z"
   },
   {
    "duration": 17,
    "start_time": "2021-11-30T10:23:49.691Z"
   },
   {
    "duration": 16,
    "start_time": "2021-11-30T10:23:49.711Z"
   },
   {
    "duration": 55,
    "start_time": "2021-11-30T10:23:49.729Z"
   },
   {
    "duration": 30,
    "start_time": "2021-11-30T10:23:49.787Z"
   },
   {
    "duration": 30,
    "start_time": "2021-11-30T10:23:49.819Z"
   },
   {
    "duration": 45,
    "start_time": "2021-11-30T10:23:49.851Z"
   },
   {
    "duration": 877,
    "start_time": "2021-11-30T10:36:25.265Z"
   },
   {
    "duration": 16,
    "start_time": "2021-11-30T10:36:26.145Z"
   },
   {
    "duration": 32,
    "start_time": "2021-11-30T10:36:26.167Z"
   },
   {
    "duration": 14,
    "start_time": "2021-11-30T10:36:26.201Z"
   },
   {
    "duration": 15,
    "start_time": "2021-11-30T10:36:26.218Z"
   },
   {
    "duration": 53,
    "start_time": "2021-11-30T10:36:26.236Z"
   },
   {
    "duration": 11,
    "start_time": "2021-11-30T10:36:26.292Z"
   },
   {
    "duration": 33,
    "start_time": "2021-11-30T10:36:26.307Z"
   },
   {
    "duration": 45,
    "start_time": "2021-11-30T10:36:26.344Z"
   },
   {
    "duration": 16,
    "start_time": "2021-11-30T10:36:26.391Z"
   },
   {
    "duration": 12,
    "start_time": "2021-11-30T10:36:26.410Z"
   },
   {
    "duration": 15,
    "start_time": "2021-11-30T10:36:26.425Z"
   },
   {
    "duration": 44,
    "start_time": "2021-11-30T10:36:26.442Z"
   },
   {
    "duration": 17,
    "start_time": "2021-11-30T10:36:26.488Z"
   },
   {
    "duration": 11,
    "start_time": "2021-11-30T10:36:26.507Z"
   },
   {
    "duration": 67,
    "start_time": "2021-11-30T10:36:26.520Z"
   },
   {
    "duration": 15,
    "start_time": "2021-11-30T10:36:26.589Z"
   },
   {
    "duration": 47,
    "start_time": "2021-11-30T10:36:26.607Z"
   },
   {
    "duration": 39,
    "start_time": "2021-11-30T10:36:26.656Z"
   },
   {
    "duration": 10,
    "start_time": "2021-11-30T10:36:26.698Z"
   },
   {
    "duration": 11,
    "start_time": "2021-11-30T10:36:26.710Z"
   },
   {
    "duration": 17,
    "start_time": "2021-11-30T10:36:26.724Z"
   },
   {
    "duration": 59,
    "start_time": "2021-11-30T10:36:26.744Z"
   },
   {
    "duration": 87,
    "start_time": "2021-11-30T10:36:26.806Z"
   },
   {
    "duration": 5413,
    "start_time": "2021-11-30T10:36:26.896Z"
   },
   {
    "duration": 47,
    "start_time": "2021-11-30T10:36:32.316Z"
   },
   {
    "duration": 24,
    "start_time": "2021-11-30T10:36:32.383Z"
   },
   {
    "duration": 8,
    "start_time": "2021-11-30T10:36:32.409Z"
   },
   {
    "duration": 16,
    "start_time": "2021-11-30T10:36:32.419Z"
   },
   {
    "duration": 60,
    "start_time": "2021-11-30T10:36:32.438Z"
   },
   {
    "duration": 23,
    "start_time": "2021-11-30T10:36:32.501Z"
   },
   {
    "duration": 13,
    "start_time": "2021-11-30T10:36:32.527Z"
   },
   {
    "duration": 69,
    "start_time": "2021-11-30T10:36:32.543Z"
   },
   {
    "duration": 29,
    "start_time": "2021-11-30T10:36:32.615Z"
   },
   {
    "duration": 54,
    "start_time": "2021-11-30T10:36:32.647Z"
   },
   {
    "duration": 20,
    "start_time": "2021-11-30T12:48:41.863Z"
   },
   {
    "duration": 38,
    "start_time": "2021-11-30T12:48:47.875Z"
   },
   {
    "duration": 19,
    "start_time": "2021-11-30T12:48:48.608Z"
   },
   {
    "duration": 20,
    "start_time": "2021-11-30T12:53:00.429Z"
   },
   {
    "duration": 739,
    "start_time": "2021-11-30T12:53:08.293Z"
   },
   {
    "duration": 12,
    "start_time": "2021-11-30T12:53:09.034Z"
   },
   {
    "duration": 19,
    "start_time": "2021-11-30T12:53:09.049Z"
   },
   {
    "duration": 12,
    "start_time": "2021-11-30T12:53:09.070Z"
   },
   {
    "duration": 31,
    "start_time": "2021-11-30T12:53:09.084Z"
   },
   {
    "duration": 15,
    "start_time": "2021-11-30T12:53:09.118Z"
   },
   {
    "duration": 10,
    "start_time": "2021-11-30T12:53:09.135Z"
   },
   {
    "duration": 66,
    "start_time": "2021-11-30T12:53:09.147Z"
   },
   {
    "duration": 18,
    "start_time": "2021-11-30T12:53:09.217Z"
   },
   {
    "duration": 11,
    "start_time": "2021-11-30T12:53:09.238Z"
   },
   {
    "duration": 8,
    "start_time": "2021-11-30T12:53:09.251Z"
   },
   {
    "duration": 8,
    "start_time": "2021-11-30T12:53:09.261Z"
   },
   {
    "duration": 40,
    "start_time": "2021-11-30T12:53:09.271Z"
   },
   {
    "duration": 13,
    "start_time": "2021-11-30T12:53:09.313Z"
   },
   {
    "duration": 11,
    "start_time": "2021-11-30T12:53:09.328Z"
   },
   {
    "duration": 65,
    "start_time": "2021-11-30T12:53:09.341Z"
   },
   {
    "duration": 18,
    "start_time": "2021-11-30T12:53:09.409Z"
   },
   {
    "duration": 52,
    "start_time": "2021-11-30T12:53:09.429Z"
   },
   {
    "duration": 34,
    "start_time": "2021-11-30T12:53:09.484Z"
   },
   {
    "duration": 7,
    "start_time": "2021-11-30T12:53:09.520Z"
   },
   {
    "duration": 15,
    "start_time": "2021-11-30T12:53:09.528Z"
   },
   {
    "duration": 17,
    "start_time": "2021-11-30T12:53:09.544Z"
   },
   {
    "duration": 14,
    "start_time": "2021-11-30T12:53:09.563Z"
   },
   {
    "duration": 59,
    "start_time": "2021-11-30T12:53:09.579Z"
   },
   {
    "duration": 17,
    "start_time": "2021-11-30T12:53:09.640Z"
   },
   {
    "duration": 3936,
    "start_time": "2021-11-30T12:53:09.660Z"
   },
   {
    "duration": 32,
    "start_time": "2021-11-30T12:53:13.608Z"
   },
   {
    "duration": 15,
    "start_time": "2021-11-30T12:53:13.642Z"
   },
   {
    "duration": 7,
    "start_time": "2021-11-30T12:53:13.660Z"
   },
   {
    "duration": 40,
    "start_time": "2021-11-30T12:53:13.669Z"
   },
   {
    "duration": 12,
    "start_time": "2021-11-30T12:53:13.711Z"
   },
   {
    "duration": 19,
    "start_time": "2021-11-30T12:53:13.725Z"
   },
   {
    "duration": 17,
    "start_time": "2021-11-30T12:53:13.746Z"
   },
   {
    "duration": 28,
    "start_time": "2021-11-30T12:53:13.765Z"
   },
   {
    "duration": 25,
    "start_time": "2021-11-30T12:53:13.795Z"
   },
   {
    "duration": 15,
    "start_time": "2021-11-30T12:53:13.821Z"
   },
   {
    "duration": 8,
    "start_time": "2021-11-30T12:59:14.021Z"
   },
   {
    "duration": 641,
    "start_time": "2021-11-30T15:27:38.169Z"
   },
   {
    "duration": 12,
    "start_time": "2021-11-30T15:27:38.893Z"
   },
   {
    "duration": 18,
    "start_time": "2021-11-30T15:27:41.024Z"
   },
   {
    "duration": 9,
    "start_time": "2021-11-30T15:27:42.833Z"
   },
   {
    "duration": 8,
    "start_time": "2021-11-30T15:27:45.549Z"
   },
   {
    "duration": 7,
    "start_time": "2021-11-30T15:27:46.050Z"
   },
   {
    "duration": 8,
    "start_time": "2021-11-30T15:27:46.466Z"
   },
   {
    "duration": 25,
    "start_time": "2021-11-30T15:27:47.135Z"
   },
   {
    "duration": 10,
    "start_time": "2021-11-30T15:27:47.867Z"
   },
   {
    "duration": 7,
    "start_time": "2021-11-30T15:27:52.847Z"
   },
   {
    "duration": 9,
    "start_time": "2021-11-30T15:27:54.049Z"
   },
   {
    "duration": 11,
    "start_time": "2021-11-30T15:27:55.995Z"
   },
   {
    "duration": 9,
    "start_time": "2021-11-30T15:28:11.437Z"
   },
   {
    "duration": 16,
    "start_time": "2021-11-30T15:28:13.655Z"
   },
   {
    "duration": 8,
    "start_time": "2021-11-30T15:30:42.894Z"
   },
   {
    "duration": 21,
    "start_time": "2021-11-30T15:30:45.514Z"
   },
   {
    "duration": 12,
    "start_time": "2021-11-30T15:34:21.558Z"
   },
   {
    "duration": 34,
    "start_time": "2021-11-30T15:34:25.500Z"
   },
   {
    "duration": 10,
    "start_time": "2021-11-30T15:34:32.516Z"
   },
   {
    "duration": 8,
    "start_time": "2021-11-30T15:34:40.811Z"
   },
   {
    "duration": 7,
    "start_time": "2021-11-30T15:34:42.402Z"
   },
   {
    "duration": 9,
    "start_time": "2021-11-30T15:34:42.786Z"
   },
   {
    "duration": 11,
    "start_time": "2021-11-30T15:35:02.676Z"
   },
   {
    "duration": 44,
    "start_time": "2021-11-30T15:35:03.874Z"
   },
   {
    "duration": 28,
    "start_time": "2021-11-30T15:35:14.670Z"
   },
   {
    "duration": 16,
    "start_time": "2021-11-30T15:35:16.768Z"
   },
   {
    "duration": 14,
    "start_time": "2021-11-30T15:39:38.051Z"
   },
   {
    "duration": 3512,
    "start_time": "2021-11-30T15:39:39.490Z"
   },
   {
    "duration": 28,
    "start_time": "2021-11-30T15:39:45.672Z"
   },
   {
    "duration": 13,
    "start_time": "2021-11-30T15:39:49.285Z"
   },
   {
    "duration": 6,
    "start_time": "2021-11-30T15:39:55.477Z"
   },
   {
    "duration": 7,
    "start_time": "2021-11-30T15:40:01.414Z"
   },
   {
    "duration": 11,
    "start_time": "2021-11-30T15:40:03.914Z"
   },
   {
    "duration": 53,
    "start_time": "2021-11-30T16:20:21.717Z"
   },
   {
    "duration": 54,
    "start_time": "2021-11-30T16:20:35.499Z"
   },
   {
    "duration": 18,
    "start_time": "2021-11-30T16:20:58.328Z"
   },
   {
    "duration": 20,
    "start_time": "2021-11-30T16:21:44.866Z"
   },
   {
    "duration": 19,
    "start_time": "2021-11-30T16:21:53.491Z"
   },
   {
    "duration": 414,
    "start_time": "2021-11-30T16:22:10.652Z"
   },
   {
    "duration": 21,
    "start_time": "2021-11-30T16:22:34.198Z"
   },
   {
    "duration": 21,
    "start_time": "2021-11-30T16:23:13.828Z"
   },
   {
    "duration": 51,
    "start_time": "2021-11-30T16:23:42.397Z"
   },
   {
    "duration": 273,
    "start_time": "2021-11-30T16:23:56.384Z"
   },
   {
    "duration": 45,
    "start_time": "2021-11-30T16:24:14.904Z"
   },
   {
    "duration": 29,
    "start_time": "2021-11-30T16:24:38.148Z"
   },
   {
    "duration": 20,
    "start_time": "2021-11-30T16:25:53.803Z"
   },
   {
    "duration": 13,
    "start_time": "2021-11-30T16:26:01.794Z"
   },
   {
    "duration": 270,
    "start_time": "2021-11-30T16:26:46.845Z"
   },
   {
    "duration": 14,
    "start_time": "2021-11-30T16:26:59.915Z"
   },
   {
    "duration": 11,
    "start_time": "2021-11-30T16:27:23.067Z"
   },
   {
    "duration": 15,
    "start_time": "2021-11-30T16:28:32.932Z"
   },
   {
    "duration": 19,
    "start_time": "2021-11-30T16:28:50.120Z"
   },
   {
    "duration": 22,
    "start_time": "2021-11-30T16:28:54.548Z"
   },
   {
    "duration": 144,
    "start_time": "2021-11-30T16:29:11.119Z"
   },
   {
    "duration": 30,
    "start_time": "2021-11-30T16:29:15.836Z"
   },
   {
    "duration": 24,
    "start_time": "2021-11-30T16:29:30.917Z"
   },
   {
    "duration": 22,
    "start_time": "2021-11-30T16:29:42.084Z"
   },
   {
    "duration": 19,
    "start_time": "2021-11-30T16:29:56.222Z"
   },
   {
    "duration": 19,
    "start_time": "2021-11-30T16:34:10.670Z"
   },
   {
    "duration": 17,
    "start_time": "2021-11-30T16:34:15.961Z"
   },
   {
    "duration": 17,
    "start_time": "2021-11-30T16:34:22.259Z"
   },
   {
    "duration": 18,
    "start_time": "2021-11-30T16:34:39.071Z"
   },
   {
    "duration": 7977,
    "start_time": "2021-11-30T16:39:24.066Z"
   },
   {
    "duration": 17,
    "start_time": "2021-11-30T16:41:05.064Z"
   },
   {
    "duration": 18,
    "start_time": "2021-11-30T16:41:11.721Z"
   },
   {
    "duration": 17,
    "start_time": "2021-11-30T16:48:06.289Z"
   },
   {
    "duration": 22,
    "start_time": "2021-11-30T16:48:16.325Z"
   },
   {
    "duration": 17,
    "start_time": "2021-11-30T16:48:30.294Z"
   },
   {
    "duration": 26,
    "start_time": "2021-11-30T16:48:38.515Z"
   },
   {
    "duration": 32,
    "start_time": "2021-11-30T17:12:37.024Z"
   },
   {
    "duration": 29,
    "start_time": "2021-11-30T17:12:47.592Z"
   },
   {
    "duration": 14,
    "start_time": "2021-11-30T17:12:54.568Z"
   },
   {
    "duration": 361,
    "start_time": "2021-11-30T17:19:51.834Z"
   },
   {
    "duration": 20,
    "start_time": "2021-11-30T17:20:14.758Z"
   },
   {
    "duration": 14,
    "start_time": "2021-11-30T17:20:16.827Z"
   },
   {
    "duration": 25,
    "start_time": "2021-11-30T17:20:18.733Z"
   },
   {
    "duration": 27,
    "start_time": "2021-11-30T17:24:07.756Z"
   },
   {
    "duration": 13,
    "start_time": "2021-11-30T17:24:12.789Z"
   },
   {
    "duration": 629,
    "start_time": "2021-11-30T17:28:52.261Z"
   },
   {
    "duration": 10,
    "start_time": "2021-11-30T17:28:52.892Z"
   },
   {
    "duration": 12,
    "start_time": "2021-11-30T17:28:52.904Z"
   },
   {
    "duration": 28,
    "start_time": "2021-11-30T17:28:52.917Z"
   },
   {
    "duration": 7,
    "start_time": "2021-11-30T17:28:52.946Z"
   },
   {
    "duration": 8,
    "start_time": "2021-11-30T17:28:52.954Z"
   },
   {
    "duration": 6,
    "start_time": "2021-11-30T17:28:52.964Z"
   },
   {
    "duration": 19,
    "start_time": "2021-11-30T17:28:52.972Z"
   },
   {
    "duration": 9,
    "start_time": "2021-11-30T17:28:52.993Z"
   },
   {
    "duration": 7,
    "start_time": "2021-11-30T17:28:53.003Z"
   },
   {
    "duration": 7,
    "start_time": "2021-11-30T17:28:53.044Z"
   },
   {
    "duration": 6,
    "start_time": "2021-11-30T17:28:53.053Z"
   },
   {
    "duration": 7,
    "start_time": "2021-11-30T17:28:53.061Z"
   },
   {
    "duration": 10,
    "start_time": "2021-11-30T17:28:53.069Z"
   },
   {
    "duration": 6,
    "start_time": "2021-11-30T17:28:53.081Z"
   },
   {
    "duration": 18,
    "start_time": "2021-11-30T17:28:53.088Z"
   },
   {
    "duration": 42,
    "start_time": "2021-11-30T17:28:53.107Z"
   },
   {
    "duration": 28,
    "start_time": "2021-11-30T17:28:53.151Z"
   },
   {
    "duration": 9,
    "start_time": "2021-11-30T17:28:53.181Z"
   },
   {
    "duration": 17,
    "start_time": "2021-11-30T17:28:53.191Z"
   },
   {
    "duration": 10,
    "start_time": "2021-11-30T17:28:53.209Z"
   },
   {
    "duration": 25,
    "start_time": "2021-11-30T17:28:53.220Z"
   },
   {
    "duration": 10,
    "start_time": "2021-11-30T17:28:53.248Z"
   },
   {
    "duration": 30,
    "start_time": "2021-11-30T17:28:53.260Z"
   },
   {
    "duration": 13,
    "start_time": "2021-11-30T17:28:53.292Z"
   },
   {
    "duration": 3522,
    "start_time": "2021-11-30T17:28:53.306Z"
   },
   {
    "duration": 37,
    "start_time": "2021-11-30T17:28:56.830Z"
   },
   {
    "duration": 13,
    "start_time": "2021-11-30T17:28:56.869Z"
   },
   {
    "duration": 7,
    "start_time": "2021-11-30T17:28:56.884Z"
   },
   {
    "duration": 10,
    "start_time": "2021-11-30T17:28:56.893Z"
   },
   {
    "duration": 39,
    "start_time": "2021-11-30T17:28:56.905Z"
   },
   {
    "duration": 22,
    "start_time": "2021-11-30T17:28:56.946Z"
   },
   {
    "duration": 10,
    "start_time": "2021-11-30T17:28:56.970Z"
   },
   {
    "duration": 24,
    "start_time": "2021-11-30T17:28:56.982Z"
   },
   {
    "duration": 8,
    "start_time": "2021-11-30T17:28:57.007Z"
   },
   {
    "duration": 18,
    "start_time": "2021-11-30T17:28:57.045Z"
   },
   {
    "duration": 14,
    "start_time": "2021-11-30T17:28:57.064Z"
   },
   {
    "duration": 21,
    "start_time": "2021-11-30T17:28:57.080Z"
   },
   {
    "duration": 10,
    "start_time": "2021-11-30T17:28:57.103Z"
   },
   {
    "duration": 49,
    "start_time": "2021-11-30T17:28:57.115Z"
   },
   {
    "duration": 652,
    "start_time": "2021-11-30T23:32:28.636Z"
   },
   {
    "duration": 9,
    "start_time": "2021-11-30T23:32:29.290Z"
   },
   {
    "duration": 11,
    "start_time": "2021-11-30T23:32:29.303Z"
   },
   {
    "duration": 28,
    "start_time": "2021-11-30T23:32:29.316Z"
   },
   {
    "duration": 7,
    "start_time": "2021-11-30T23:32:29.346Z"
   },
   {
    "duration": 8,
    "start_time": "2021-11-30T23:32:29.355Z"
   },
   {
    "duration": 7,
    "start_time": "2021-11-30T23:32:29.366Z"
   },
   {
    "duration": 23,
    "start_time": "2021-11-30T23:32:29.375Z"
   },
   {
    "duration": 10,
    "start_time": "2021-11-30T23:32:29.400Z"
   },
   {
    "duration": 40,
    "start_time": "2021-11-30T23:32:29.412Z"
   },
   {
    "duration": 8,
    "start_time": "2021-11-30T23:32:29.454Z"
   },
   {
    "duration": 6,
    "start_time": "2021-11-30T23:32:29.464Z"
   },
   {
    "duration": 6,
    "start_time": "2021-11-30T23:32:29.472Z"
   },
   {
    "duration": 10,
    "start_time": "2021-11-30T23:32:29.480Z"
   },
   {
    "duration": 8,
    "start_time": "2021-11-30T23:32:29.492Z"
   },
   {
    "duration": 57,
    "start_time": "2021-11-30T23:32:29.502Z"
   },
   {
    "duration": 9,
    "start_time": "2021-11-30T23:32:29.561Z"
   },
   {
    "duration": 30,
    "start_time": "2021-11-30T23:32:29.572Z"
   },
   {
    "duration": 11,
    "start_time": "2021-11-30T23:32:29.604Z"
   },
   {
    "duration": 32,
    "start_time": "2021-11-30T23:32:29.616Z"
   },
   {
    "duration": 12,
    "start_time": "2021-11-30T23:32:29.650Z"
   },
   {
    "duration": 6,
    "start_time": "2021-11-30T23:32:29.665Z"
   },
   {
    "duration": 14,
    "start_time": "2021-11-30T23:32:29.673Z"
   },
   {
    "duration": 28,
    "start_time": "2021-11-30T23:32:29.689Z"
   },
   {
    "duration": 31,
    "start_time": "2021-11-30T23:32:29.719Z"
   },
   {
    "duration": 3303,
    "start_time": "2021-11-30T23:32:29.751Z"
   },
   {
    "duration": 25,
    "start_time": "2021-11-30T23:32:33.056Z"
   },
   {
    "duration": 12,
    "start_time": "2021-11-30T23:32:33.083Z"
   },
   {
    "duration": 5,
    "start_time": "2021-11-30T23:32:33.097Z"
   },
   {
    "duration": 8,
    "start_time": "2021-11-30T23:32:33.104Z"
   },
   {
    "duration": 35,
    "start_time": "2021-11-30T23:32:33.114Z"
   },
   {
    "duration": 20,
    "start_time": "2021-11-30T23:32:33.150Z"
   },
   {
    "duration": 10,
    "start_time": "2021-11-30T23:32:33.172Z"
   },
   {
    "duration": 21,
    "start_time": "2021-11-30T23:32:33.183Z"
   },
   {
    "duration": 6,
    "start_time": "2021-11-30T23:32:33.206Z"
   },
   {
    "duration": 18,
    "start_time": "2021-11-30T23:32:33.244Z"
   },
   {
    "duration": 13,
    "start_time": "2021-11-30T23:32:33.263Z"
   },
   {
    "duration": 23,
    "start_time": "2021-11-30T23:32:33.278Z"
   },
   {
    "duration": 9,
    "start_time": "2021-11-30T23:32:33.302Z"
   },
   {
    "duration": 51,
    "start_time": "2021-11-30T23:32:33.313Z"
   },
   {
    "duration": 321,
    "start_time": "2021-11-30T23:34:48.964Z"
   },
   {
    "duration": 20,
    "start_time": "2021-11-30T23:35:04.074Z"
   },
   {
    "duration": 11,
    "start_time": "2021-11-30T23:40:11.992Z"
   },
   {
    "duration": 309,
    "start_time": "2021-11-30T23:40:35.017Z"
   },
   {
    "duration": 24,
    "start_time": "2021-11-30T23:40:42.062Z"
   },
   {
    "duration": 22,
    "start_time": "2021-11-30T23:41:16.110Z"
   },
   {
    "duration": 869,
    "start_time": "2022-03-15T18:06:44.620Z"
   },
   {
    "duration": 15,
    "start_time": "2022-03-15T18:06:49.732Z"
   },
   {
    "duration": 20,
    "start_time": "2022-03-15T18:06:50.125Z"
   },
   {
    "duration": 9,
    "start_time": "2022-03-15T18:06:50.561Z"
   },
   {
    "duration": 10,
    "start_time": "2022-03-15T18:06:53.423Z"
   },
   {
    "duration": 13,
    "start_time": "2022-03-15T18:06:53.499Z"
   },
   {
    "duration": 10,
    "start_time": "2022-03-15T18:06:53.575Z"
   },
   {
    "duration": 33,
    "start_time": "2022-03-15T18:06:53.644Z"
   },
   {
    "duration": 13,
    "start_time": "2022-03-15T18:06:53.684Z"
   },
   {
    "duration": 10,
    "start_time": "2022-03-15T18:06:53.752Z"
   },
   {
    "duration": 10,
    "start_time": "2022-03-15T18:06:53.788Z"
   },
   {
    "duration": 12,
    "start_time": "2022-03-15T18:06:53.862Z"
   },
   {
    "duration": 10,
    "start_time": "2022-03-15T18:06:53.896Z"
   },
   {
    "duration": 14,
    "start_time": "2022-03-15T18:06:53.973Z"
   },
   {
    "duration": 11,
    "start_time": "2022-03-15T18:06:54.045Z"
   },
   {
    "duration": 28,
    "start_time": "2022-03-15T18:06:54.115Z"
   },
   {
    "duration": 14,
    "start_time": "2022-03-15T18:06:54.153Z"
   },
   {
    "duration": 49,
    "start_time": "2022-03-15T18:06:54.648Z"
   },
   {
    "duration": 14,
    "start_time": "2022-03-15T18:06:55.325Z"
   },
   {
    "duration": 9,
    "start_time": "2022-03-15T18:06:55.506Z"
   },
   {
    "duration": 9,
    "start_time": "2022-03-15T18:06:55.542Z"
   },
   {
    "duration": 10,
    "start_time": "2022-03-15T18:06:56.088Z"
   },
   {
    "duration": 17,
    "start_time": "2022-03-15T18:06:56.721Z"
   },
   {
    "duration": 45,
    "start_time": "2022-03-15T18:06:57.081Z"
   },
   {
    "duration": 5313,
    "start_time": "2022-03-15T18:06:58.721Z"
   },
   {
    "duration": 52,
    "start_time": "2022-03-15T18:07:04.036Z"
   },
   {
    "duration": 18,
    "start_time": "2022-03-15T18:07:04.091Z"
   },
   {
    "duration": 9,
    "start_time": "2022-03-15T18:07:04.113Z"
   },
   {
    "duration": 11,
    "start_time": "2022-03-15T18:07:04.125Z"
   },
   {
    "duration": 79,
    "start_time": "2022-03-15T18:07:04.139Z"
   },
   {
    "duration": 36,
    "start_time": "2022-03-15T18:07:04.221Z"
   },
   {
    "duration": 11,
    "start_time": "2022-03-15T18:07:04.287Z"
   },
   {
    "duration": 29,
    "start_time": "2022-03-15T18:07:04.478Z"
   },
   {
    "duration": 40,
    "start_time": "2022-03-15T18:07:05.083Z"
   },
   {
    "duration": 37,
    "start_time": "2022-03-15T18:07:05.260Z"
   },
   {
    "duration": 37,
    "start_time": "2022-03-15T18:07:06.820Z"
   }
  ],
  "kernelspec": {
   "display_name": "Python 3",
   "language": "python",
   "name": "python3"
  },
  "language_info": {
   "codemirror_mode": {
    "name": "ipython",
    "version": 3
   },
   "file_extension": ".py",
   "mimetype": "text/x-python",
   "name": "python",
   "nbconvert_exporter": "python",
   "pygments_lexer": "ipython3",
   "version": "3.7.9"
  },
  "toc": {
   "base_numbering": 1,
   "nav_menu": {
    "height": "221px",
    "width": "450px"
   },
   "number_sections": true,
   "sideBar": true,
   "skip_h1_title": true,
   "title_cell": "Table of Contents",
   "title_sidebar": "Contents",
   "toc_cell": false,
   "toc_position": {},
   "toc_section_display": true,
   "toc_window_display": false
  }
 },
 "nbformat": 4,
 "nbformat_minor": 4
}
