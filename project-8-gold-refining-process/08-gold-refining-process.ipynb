{
 "cells": [
  {
   "cell_type": "markdown",
   "metadata": {},
   "source": [
    "# Восстановление золота из руды"
   ]
  },
  {
   "cell_type": "markdown",
   "metadata": {},
   "source": [
    "**Описание проекта:** необходимо подготовить прототип модели машинного обучения для компании «Цифра», которая разрабатывает решения для эффективной работы промышленных предприятий. Модель должна предсказать коэффициент восстановления золота из золотосодержащей руды. Модель поможет оптимизировать производство, чтобы не запускать предприятие с убыточными характеристиками.\n",
    "\n",
    "**Цели проекта:** \n",
    "1. подготовить данные;\n",
    "2. провести исследовательский анализ данных;\n",
    "3. построить и обучить модель для предсказания коэффициента восстановления золота из руды.\n",
    "\n",
    "**Описание данных:** предоставлены данные с параметрами добычи и очистки на каждом этапе производства. \n",
    "\n",
    "## Оглавление\n",
    "1. [Подготовка данных](#1)\n",
    "    <br>1.1. [Загрузка файлов и общая информация о данных](#1.1)\n",
    "    <br>1.2. [Проверка расчёта эффективности обогащения](#1.2)\n",
    "    <br>1.3. [Анализ прищнаков, недоступных в тестовой выборке](#1.3)\n",
    "    <br>1.4. [Предобработка данных](#1.4)\n",
    "2. [Анализ данных](#2)\n",
    "    <br>2.1. [Концентрации металлов на различных этапах очистки](#2.1)\n",
    "    <br>2.2. [Сравнение распределений гранул сырья](#2.2)\n",
    "    <br>2.3. [Исследование суммарной концентрации веществ на разных стадиях](#2.3)\n",
    "3. [Модель](#3)\n",
    "    <br>3.1. [Функция `weighted_smape`](#3.1)\n",
    "    <br>3.2. [Обучение моделей](#3.2)\n",
    "4. [Заключение](#4)\n",
    "\n",
    "<a id=\"1\"></a>\n",
    "## 1. Подготовка данных\n",
    "\n",
    "<a id=\"1.1\"></a>\n",
    "### 1.1. Загрузка файлов и общая информация о данных\n",
    "Импортируем необходимые для работы модули и библиотеки. "
   ]
  },
  {
   "cell_type": "code",
   "execution_count": 1,
   "metadata": {},
   "outputs": [],
   "source": [
    "from sklearn.dummy import DummyRegressor\n",
    "from sklearn.linear_model import LinearRegression\n",
    "from sklearn.linear_model import Ridge\n",
    "from sklearn.linear_model import Lasso\n",
    "from sklearn.metrics import make_scorer\n",
    "from sklearn.model_selection import cross_val_score\n",
    "from sklearn.model_selection import GridSearchCV\n",
    "from sklearn.preprocessing import StandardScaler\n",
    "\n",
    "import numpy as np\n",
    "import matplotlib.pyplot as plt\n",
    "import pandas as pd\n",
    "import seaborn as sns\n",
    "\n",
    "pd.set_option(\"display.max_rows\", 90)\n",
    "sns.set(rc={'figure.figsize':(10, 7)})"
   ]
  },
  {
   "cell_type": "markdown",
   "metadata": {},
   "source": [
    "Считываем файлы:"
   ]
  },
  {
   "cell_type": "code",
   "execution_count": 2,
   "metadata": {},
   "outputs": [],
   "source": [
    "data_train = pd.read_csv(\"/datasets/gold_recovery_train_new.csv\")\n",
    "data_test = pd.read_csv(\"/datasets/gold_recovery_test_new.csv\")\n",
    "data_full = pd.read_csv(\"/datasets/gold_recovery_full_new.csv\")"
   ]
  },
  {
   "cell_type": "markdown",
   "metadata": {},
   "source": [
    "Посмотрим на размеры выборок:"
   ]
  },
  {
   "cell_type": "code",
   "execution_count": 3,
   "metadata": {},
   "outputs": [
    {
     "name": "stdout",
     "output_type": "stream",
     "text": [
      "Размер обучающей выборки: (14149, 87)\n",
      "Размер тестовой выборки: (5290, 53)\n",
      "Размер всей выборки: (19439, 87)\n"
     ]
    }
   ],
   "source": [
    "print(f\"Размер обучающей выборки: {data_train.shape}\")\n",
    "print(f\"Размер тестовой выборки: {data_test.shape}\")\n",
    "print(f\"Размер всей выборки: {data_full.shape}\")"
   ]
  },
  {
   "cell_type": "markdown",
   "metadata": {},
   "source": [
    "Убедимся, что файлы считались корректно."
   ]
  },
  {
   "cell_type": "code",
   "execution_count": 4,
   "metadata": {},
   "outputs": [
    {
     "data": {
      "text/html": [
       "<div>\n",
       "<style scoped>\n",
       "    .dataframe tbody tr th:only-of-type {\n",
       "        vertical-align: middle;\n",
       "    }\n",
       "\n",
       "    .dataframe tbody tr th {\n",
       "        vertical-align: top;\n",
       "    }\n",
       "\n",
       "    .dataframe thead th {\n",
       "        text-align: right;\n",
       "    }\n",
       "</style>\n",
       "<table border=\"1\" class=\"dataframe\">\n",
       "  <thead>\n",
       "    <tr style=\"text-align: right;\">\n",
       "      <th></th>\n",
       "      <th>date</th>\n",
       "      <th>final.output.concentrate_ag</th>\n",
       "      <th>final.output.concentrate_pb</th>\n",
       "      <th>final.output.concentrate_sol</th>\n",
       "      <th>final.output.concentrate_au</th>\n",
       "      <th>final.output.recovery</th>\n",
       "      <th>final.output.tail_ag</th>\n",
       "      <th>final.output.tail_pb</th>\n",
       "      <th>final.output.tail_sol</th>\n",
       "      <th>final.output.tail_au</th>\n",
       "      <th>...</th>\n",
       "      <th>secondary_cleaner.state.floatbank4_a_air</th>\n",
       "      <th>secondary_cleaner.state.floatbank4_a_level</th>\n",
       "      <th>secondary_cleaner.state.floatbank4_b_air</th>\n",
       "      <th>secondary_cleaner.state.floatbank4_b_level</th>\n",
       "      <th>secondary_cleaner.state.floatbank5_a_air</th>\n",
       "      <th>secondary_cleaner.state.floatbank5_a_level</th>\n",
       "      <th>secondary_cleaner.state.floatbank5_b_air</th>\n",
       "      <th>secondary_cleaner.state.floatbank5_b_level</th>\n",
       "      <th>secondary_cleaner.state.floatbank6_a_air</th>\n",
       "      <th>secondary_cleaner.state.floatbank6_a_level</th>\n",
       "    </tr>\n",
       "  </thead>\n",
       "  <tbody>\n",
       "    <tr>\n",
       "      <th>0</th>\n",
       "      <td>2016-01-15 00:00:00</td>\n",
       "      <td>6.055403</td>\n",
       "      <td>9.889648</td>\n",
       "      <td>5.507324</td>\n",
       "      <td>42.192020</td>\n",
       "      <td>70.541216</td>\n",
       "      <td>10.411962</td>\n",
       "      <td>0.895447</td>\n",
       "      <td>16.904297</td>\n",
       "      <td>2.143149</td>\n",
       "      <td>...</td>\n",
       "      <td>14.016835</td>\n",
       "      <td>-502.488007</td>\n",
       "      <td>12.099931</td>\n",
       "      <td>-504.715942</td>\n",
       "      <td>9.925633</td>\n",
       "      <td>-498.310211</td>\n",
       "      <td>8.079666</td>\n",
       "      <td>-500.470978</td>\n",
       "      <td>14.151341</td>\n",
       "      <td>-605.841980</td>\n",
       "    </tr>\n",
       "    <tr>\n",
       "      <th>1</th>\n",
       "      <td>2016-01-15 01:00:00</td>\n",
       "      <td>6.029369</td>\n",
       "      <td>9.968944</td>\n",
       "      <td>5.257781</td>\n",
       "      <td>42.701629</td>\n",
       "      <td>69.266198</td>\n",
       "      <td>10.462676</td>\n",
       "      <td>0.927452</td>\n",
       "      <td>16.634514</td>\n",
       "      <td>2.224930</td>\n",
       "      <td>...</td>\n",
       "      <td>13.992281</td>\n",
       "      <td>-505.503262</td>\n",
       "      <td>11.950531</td>\n",
       "      <td>-501.331529</td>\n",
       "      <td>10.039245</td>\n",
       "      <td>-500.169983</td>\n",
       "      <td>7.984757</td>\n",
       "      <td>-500.582168</td>\n",
       "      <td>13.998353</td>\n",
       "      <td>-599.787184</td>\n",
       "    </tr>\n",
       "    <tr>\n",
       "      <th>2</th>\n",
       "      <td>2016-01-15 02:00:00</td>\n",
       "      <td>6.055926</td>\n",
       "      <td>10.213995</td>\n",
       "      <td>5.383759</td>\n",
       "      <td>42.657501</td>\n",
       "      <td>68.116445</td>\n",
       "      <td>10.507046</td>\n",
       "      <td>0.953716</td>\n",
       "      <td>16.208849</td>\n",
       "      <td>2.257889</td>\n",
       "      <td>...</td>\n",
       "      <td>14.015015</td>\n",
       "      <td>-502.520901</td>\n",
       "      <td>11.912783</td>\n",
       "      <td>-501.133383</td>\n",
       "      <td>10.070913</td>\n",
       "      <td>-500.129135</td>\n",
       "      <td>8.013877</td>\n",
       "      <td>-500.517572</td>\n",
       "      <td>14.028663</td>\n",
       "      <td>-601.427363</td>\n",
       "    </tr>\n",
       "    <tr>\n",
       "      <th>3</th>\n",
       "      <td>2016-01-15 03:00:00</td>\n",
       "      <td>6.047977</td>\n",
       "      <td>9.977019</td>\n",
       "      <td>4.858634</td>\n",
       "      <td>42.689819</td>\n",
       "      <td>68.347543</td>\n",
       "      <td>10.422762</td>\n",
       "      <td>0.883763</td>\n",
       "      <td>16.532835</td>\n",
       "      <td>2.146849</td>\n",
       "      <td>...</td>\n",
       "      <td>14.036510</td>\n",
       "      <td>-500.857308</td>\n",
       "      <td>11.999550</td>\n",
       "      <td>-501.193686</td>\n",
       "      <td>9.970366</td>\n",
       "      <td>-499.201640</td>\n",
       "      <td>7.977324</td>\n",
       "      <td>-500.255908</td>\n",
       "      <td>14.005551</td>\n",
       "      <td>-599.996129</td>\n",
       "    </tr>\n",
       "    <tr>\n",
       "      <th>4</th>\n",
       "      <td>2016-01-15 04:00:00</td>\n",
       "      <td>6.148599</td>\n",
       "      <td>10.142511</td>\n",
       "      <td>4.939416</td>\n",
       "      <td>42.774141</td>\n",
       "      <td>66.927016</td>\n",
       "      <td>10.360302</td>\n",
       "      <td>0.792826</td>\n",
       "      <td>16.525686</td>\n",
       "      <td>2.055292</td>\n",
       "      <td>...</td>\n",
       "      <td>14.027298</td>\n",
       "      <td>-499.838632</td>\n",
       "      <td>11.953070</td>\n",
       "      <td>-501.053894</td>\n",
       "      <td>9.925709</td>\n",
       "      <td>-501.686727</td>\n",
       "      <td>7.894242</td>\n",
       "      <td>-500.356035</td>\n",
       "      <td>13.996647</td>\n",
       "      <td>-601.496691</td>\n",
       "    </tr>\n",
       "  </tbody>\n",
       "</table>\n",
       "<p>5 rows × 87 columns</p>\n",
       "</div>"
      ],
      "text/plain": [
       "                  date  final.output.concentrate_ag  \\\n",
       "0  2016-01-15 00:00:00                     6.055403   \n",
       "1  2016-01-15 01:00:00                     6.029369   \n",
       "2  2016-01-15 02:00:00                     6.055926   \n",
       "3  2016-01-15 03:00:00                     6.047977   \n",
       "4  2016-01-15 04:00:00                     6.148599   \n",
       "\n",
       "   final.output.concentrate_pb  final.output.concentrate_sol  \\\n",
       "0                     9.889648                      5.507324   \n",
       "1                     9.968944                      5.257781   \n",
       "2                    10.213995                      5.383759   \n",
       "3                     9.977019                      4.858634   \n",
       "4                    10.142511                      4.939416   \n",
       "\n",
       "   final.output.concentrate_au  final.output.recovery  final.output.tail_ag  \\\n",
       "0                    42.192020              70.541216             10.411962   \n",
       "1                    42.701629              69.266198             10.462676   \n",
       "2                    42.657501              68.116445             10.507046   \n",
       "3                    42.689819              68.347543             10.422762   \n",
       "4                    42.774141              66.927016             10.360302   \n",
       "\n",
       "   final.output.tail_pb  final.output.tail_sol  final.output.tail_au  ...  \\\n",
       "0              0.895447              16.904297              2.143149  ...   \n",
       "1              0.927452              16.634514              2.224930  ...   \n",
       "2              0.953716              16.208849              2.257889  ...   \n",
       "3              0.883763              16.532835              2.146849  ...   \n",
       "4              0.792826              16.525686              2.055292  ...   \n",
       "\n",
       "   secondary_cleaner.state.floatbank4_a_air  \\\n",
       "0                                 14.016835   \n",
       "1                                 13.992281   \n",
       "2                                 14.015015   \n",
       "3                                 14.036510   \n",
       "4                                 14.027298   \n",
       "\n",
       "   secondary_cleaner.state.floatbank4_a_level  \\\n",
       "0                                 -502.488007   \n",
       "1                                 -505.503262   \n",
       "2                                 -502.520901   \n",
       "3                                 -500.857308   \n",
       "4                                 -499.838632   \n",
       "\n",
       "   secondary_cleaner.state.floatbank4_b_air  \\\n",
       "0                                 12.099931   \n",
       "1                                 11.950531   \n",
       "2                                 11.912783   \n",
       "3                                 11.999550   \n",
       "4                                 11.953070   \n",
       "\n",
       "   secondary_cleaner.state.floatbank4_b_level  \\\n",
       "0                                 -504.715942   \n",
       "1                                 -501.331529   \n",
       "2                                 -501.133383   \n",
       "3                                 -501.193686   \n",
       "4                                 -501.053894   \n",
       "\n",
       "   secondary_cleaner.state.floatbank5_a_air  \\\n",
       "0                                  9.925633   \n",
       "1                                 10.039245   \n",
       "2                                 10.070913   \n",
       "3                                  9.970366   \n",
       "4                                  9.925709   \n",
       "\n",
       "   secondary_cleaner.state.floatbank5_a_level  \\\n",
       "0                                 -498.310211   \n",
       "1                                 -500.169983   \n",
       "2                                 -500.129135   \n",
       "3                                 -499.201640   \n",
       "4                                 -501.686727   \n",
       "\n",
       "   secondary_cleaner.state.floatbank5_b_air  \\\n",
       "0                                  8.079666   \n",
       "1                                  7.984757   \n",
       "2                                  8.013877   \n",
       "3                                  7.977324   \n",
       "4                                  7.894242   \n",
       "\n",
       "   secondary_cleaner.state.floatbank5_b_level  \\\n",
       "0                                 -500.470978   \n",
       "1                                 -500.582168   \n",
       "2                                 -500.517572   \n",
       "3                                 -500.255908   \n",
       "4                                 -500.356035   \n",
       "\n",
       "   secondary_cleaner.state.floatbank6_a_air  \\\n",
       "0                                 14.151341   \n",
       "1                                 13.998353   \n",
       "2                                 14.028663   \n",
       "3                                 14.005551   \n",
       "4                                 13.996647   \n",
       "\n",
       "   secondary_cleaner.state.floatbank6_a_level  \n",
       "0                                 -605.841980  \n",
       "1                                 -599.787184  \n",
       "2                                 -601.427363  \n",
       "3                                 -599.996129  \n",
       "4                                 -601.496691  \n",
       "\n",
       "[5 rows x 87 columns]"
      ]
     },
     "metadata": {},
     "output_type": "display_data"
    },
    {
     "data": {
      "text/html": [
       "<div>\n",
       "<style scoped>\n",
       "    .dataframe tbody tr th:only-of-type {\n",
       "        vertical-align: middle;\n",
       "    }\n",
       "\n",
       "    .dataframe tbody tr th {\n",
       "        vertical-align: top;\n",
       "    }\n",
       "\n",
       "    .dataframe thead th {\n",
       "        text-align: right;\n",
       "    }\n",
       "</style>\n",
       "<table border=\"1\" class=\"dataframe\">\n",
       "  <thead>\n",
       "    <tr style=\"text-align: right;\">\n",
       "      <th></th>\n",
       "      <th>date</th>\n",
       "      <th>primary_cleaner.input.sulfate</th>\n",
       "      <th>primary_cleaner.input.depressant</th>\n",
       "      <th>primary_cleaner.input.feed_size</th>\n",
       "      <th>primary_cleaner.input.xanthate</th>\n",
       "      <th>primary_cleaner.state.floatbank8_a_air</th>\n",
       "      <th>primary_cleaner.state.floatbank8_a_level</th>\n",
       "      <th>primary_cleaner.state.floatbank8_b_air</th>\n",
       "      <th>primary_cleaner.state.floatbank8_b_level</th>\n",
       "      <th>primary_cleaner.state.floatbank8_c_air</th>\n",
       "      <th>...</th>\n",
       "      <th>secondary_cleaner.state.floatbank4_a_air</th>\n",
       "      <th>secondary_cleaner.state.floatbank4_a_level</th>\n",
       "      <th>secondary_cleaner.state.floatbank4_b_air</th>\n",
       "      <th>secondary_cleaner.state.floatbank4_b_level</th>\n",
       "      <th>secondary_cleaner.state.floatbank5_a_air</th>\n",
       "      <th>secondary_cleaner.state.floatbank5_a_level</th>\n",
       "      <th>secondary_cleaner.state.floatbank5_b_air</th>\n",
       "      <th>secondary_cleaner.state.floatbank5_b_level</th>\n",
       "      <th>secondary_cleaner.state.floatbank6_a_air</th>\n",
       "      <th>secondary_cleaner.state.floatbank6_a_level</th>\n",
       "    </tr>\n",
       "  </thead>\n",
       "  <tbody>\n",
       "    <tr>\n",
       "      <th>0</th>\n",
       "      <td>2016-09-01 00:59:59</td>\n",
       "      <td>210.800909</td>\n",
       "      <td>14.993118</td>\n",
       "      <td>8.080000</td>\n",
       "      <td>1.005021</td>\n",
       "      <td>1398.981301</td>\n",
       "      <td>-500.225577</td>\n",
       "      <td>1399.144926</td>\n",
       "      <td>-499.919735</td>\n",
       "      <td>1400.102998</td>\n",
       "      <td>...</td>\n",
       "      <td>12.023554</td>\n",
       "      <td>-497.795834</td>\n",
       "      <td>8.016656</td>\n",
       "      <td>-501.289139</td>\n",
       "      <td>7.946562</td>\n",
       "      <td>-432.317850</td>\n",
       "      <td>4.872511</td>\n",
       "      <td>-500.037437</td>\n",
       "      <td>26.705889</td>\n",
       "      <td>-499.709414</td>\n",
       "    </tr>\n",
       "    <tr>\n",
       "      <th>1</th>\n",
       "      <td>2016-09-01 01:59:59</td>\n",
       "      <td>215.392455</td>\n",
       "      <td>14.987471</td>\n",
       "      <td>8.080000</td>\n",
       "      <td>0.990469</td>\n",
       "      <td>1398.777912</td>\n",
       "      <td>-500.057435</td>\n",
       "      <td>1398.055362</td>\n",
       "      <td>-499.778182</td>\n",
       "      <td>1396.151033</td>\n",
       "      <td>...</td>\n",
       "      <td>12.058140</td>\n",
       "      <td>-498.695773</td>\n",
       "      <td>8.130979</td>\n",
       "      <td>-499.634209</td>\n",
       "      <td>7.958270</td>\n",
       "      <td>-525.839648</td>\n",
       "      <td>4.878850</td>\n",
       "      <td>-500.162375</td>\n",
       "      <td>25.019940</td>\n",
       "      <td>-499.819438</td>\n",
       "    </tr>\n",
       "    <tr>\n",
       "      <th>2</th>\n",
       "      <td>2016-09-01 02:59:59</td>\n",
       "      <td>215.259946</td>\n",
       "      <td>12.884934</td>\n",
       "      <td>7.786667</td>\n",
       "      <td>0.996043</td>\n",
       "      <td>1398.493666</td>\n",
       "      <td>-500.868360</td>\n",
       "      <td>1398.860436</td>\n",
       "      <td>-499.764529</td>\n",
       "      <td>1398.075709</td>\n",
       "      <td>...</td>\n",
       "      <td>11.962366</td>\n",
       "      <td>-498.767484</td>\n",
       "      <td>8.096893</td>\n",
       "      <td>-500.827423</td>\n",
       "      <td>8.071056</td>\n",
       "      <td>-500.801673</td>\n",
       "      <td>4.905125</td>\n",
       "      <td>-499.828510</td>\n",
       "      <td>24.994862</td>\n",
       "      <td>-500.622559</td>\n",
       "    </tr>\n",
       "    <tr>\n",
       "      <th>3</th>\n",
       "      <td>2016-09-01 03:59:59</td>\n",
       "      <td>215.336236</td>\n",
       "      <td>12.006805</td>\n",
       "      <td>7.640000</td>\n",
       "      <td>0.863514</td>\n",
       "      <td>1399.618111</td>\n",
       "      <td>-498.863574</td>\n",
       "      <td>1397.440120</td>\n",
       "      <td>-499.211024</td>\n",
       "      <td>1400.129303</td>\n",
       "      <td>...</td>\n",
       "      <td>12.033091</td>\n",
       "      <td>-498.350935</td>\n",
       "      <td>8.074946</td>\n",
       "      <td>-499.474407</td>\n",
       "      <td>7.897085</td>\n",
       "      <td>-500.868509</td>\n",
       "      <td>4.931400</td>\n",
       "      <td>-499.963623</td>\n",
       "      <td>24.948919</td>\n",
       "      <td>-498.709987</td>\n",
       "    </tr>\n",
       "    <tr>\n",
       "      <th>4</th>\n",
       "      <td>2016-09-01 04:59:59</td>\n",
       "      <td>199.099327</td>\n",
       "      <td>10.682530</td>\n",
       "      <td>7.530000</td>\n",
       "      <td>0.805575</td>\n",
       "      <td>1401.268123</td>\n",
       "      <td>-500.808305</td>\n",
       "      <td>1398.128818</td>\n",
       "      <td>-499.504543</td>\n",
       "      <td>1402.172226</td>\n",
       "      <td>...</td>\n",
       "      <td>12.025367</td>\n",
       "      <td>-500.786497</td>\n",
       "      <td>8.054678</td>\n",
       "      <td>-500.397500</td>\n",
       "      <td>8.107890</td>\n",
       "      <td>-509.526725</td>\n",
       "      <td>4.957674</td>\n",
       "      <td>-500.360026</td>\n",
       "      <td>25.003331</td>\n",
       "      <td>-500.856333</td>\n",
       "    </tr>\n",
       "  </tbody>\n",
       "</table>\n",
       "<p>5 rows × 53 columns</p>\n",
       "</div>"
      ],
      "text/plain": [
       "                  date  primary_cleaner.input.sulfate  \\\n",
       "0  2016-09-01 00:59:59                     210.800909   \n",
       "1  2016-09-01 01:59:59                     215.392455   \n",
       "2  2016-09-01 02:59:59                     215.259946   \n",
       "3  2016-09-01 03:59:59                     215.336236   \n",
       "4  2016-09-01 04:59:59                     199.099327   \n",
       "\n",
       "   primary_cleaner.input.depressant  primary_cleaner.input.feed_size  \\\n",
       "0                         14.993118                         8.080000   \n",
       "1                         14.987471                         8.080000   \n",
       "2                         12.884934                         7.786667   \n",
       "3                         12.006805                         7.640000   \n",
       "4                         10.682530                         7.530000   \n",
       "\n",
       "   primary_cleaner.input.xanthate  primary_cleaner.state.floatbank8_a_air  \\\n",
       "0                        1.005021                             1398.981301   \n",
       "1                        0.990469                             1398.777912   \n",
       "2                        0.996043                             1398.493666   \n",
       "3                        0.863514                             1399.618111   \n",
       "4                        0.805575                             1401.268123   \n",
       "\n",
       "   primary_cleaner.state.floatbank8_a_level  \\\n",
       "0                               -500.225577   \n",
       "1                               -500.057435   \n",
       "2                               -500.868360   \n",
       "3                               -498.863574   \n",
       "4                               -500.808305   \n",
       "\n",
       "   primary_cleaner.state.floatbank8_b_air  \\\n",
       "0                             1399.144926   \n",
       "1                             1398.055362   \n",
       "2                             1398.860436   \n",
       "3                             1397.440120   \n",
       "4                             1398.128818   \n",
       "\n",
       "   primary_cleaner.state.floatbank8_b_level  \\\n",
       "0                               -499.919735   \n",
       "1                               -499.778182   \n",
       "2                               -499.764529   \n",
       "3                               -499.211024   \n",
       "4                               -499.504543   \n",
       "\n",
       "   primary_cleaner.state.floatbank8_c_air  ...  \\\n",
       "0                             1400.102998  ...   \n",
       "1                             1396.151033  ...   \n",
       "2                             1398.075709  ...   \n",
       "3                             1400.129303  ...   \n",
       "4                             1402.172226  ...   \n",
       "\n",
       "   secondary_cleaner.state.floatbank4_a_air  \\\n",
       "0                                 12.023554   \n",
       "1                                 12.058140   \n",
       "2                                 11.962366   \n",
       "3                                 12.033091   \n",
       "4                                 12.025367   \n",
       "\n",
       "   secondary_cleaner.state.floatbank4_a_level  \\\n",
       "0                                 -497.795834   \n",
       "1                                 -498.695773   \n",
       "2                                 -498.767484   \n",
       "3                                 -498.350935   \n",
       "4                                 -500.786497   \n",
       "\n",
       "   secondary_cleaner.state.floatbank4_b_air  \\\n",
       "0                                  8.016656   \n",
       "1                                  8.130979   \n",
       "2                                  8.096893   \n",
       "3                                  8.074946   \n",
       "4                                  8.054678   \n",
       "\n",
       "   secondary_cleaner.state.floatbank4_b_level  \\\n",
       "0                                 -501.289139   \n",
       "1                                 -499.634209   \n",
       "2                                 -500.827423   \n",
       "3                                 -499.474407   \n",
       "4                                 -500.397500   \n",
       "\n",
       "   secondary_cleaner.state.floatbank5_a_air  \\\n",
       "0                                  7.946562   \n",
       "1                                  7.958270   \n",
       "2                                  8.071056   \n",
       "3                                  7.897085   \n",
       "4                                  8.107890   \n",
       "\n",
       "   secondary_cleaner.state.floatbank5_a_level  \\\n",
       "0                                 -432.317850   \n",
       "1                                 -525.839648   \n",
       "2                                 -500.801673   \n",
       "3                                 -500.868509   \n",
       "4                                 -509.526725   \n",
       "\n",
       "   secondary_cleaner.state.floatbank5_b_air  \\\n",
       "0                                  4.872511   \n",
       "1                                  4.878850   \n",
       "2                                  4.905125   \n",
       "3                                  4.931400   \n",
       "4                                  4.957674   \n",
       "\n",
       "   secondary_cleaner.state.floatbank5_b_level  \\\n",
       "0                                 -500.037437   \n",
       "1                                 -500.162375   \n",
       "2                                 -499.828510   \n",
       "3                                 -499.963623   \n",
       "4                                 -500.360026   \n",
       "\n",
       "   secondary_cleaner.state.floatbank6_a_air  \\\n",
       "0                                 26.705889   \n",
       "1                                 25.019940   \n",
       "2                                 24.994862   \n",
       "3                                 24.948919   \n",
       "4                                 25.003331   \n",
       "\n",
       "   secondary_cleaner.state.floatbank6_a_level  \n",
       "0                                 -499.709414  \n",
       "1                                 -499.819438  \n",
       "2                                 -500.622559  \n",
       "3                                 -498.709987  \n",
       "4                                 -500.856333  \n",
       "\n",
       "[5 rows x 53 columns]"
      ]
     },
     "metadata": {},
     "output_type": "display_data"
    },
    {
     "data": {
      "text/html": [
       "<div>\n",
       "<style scoped>\n",
       "    .dataframe tbody tr th:only-of-type {\n",
       "        vertical-align: middle;\n",
       "    }\n",
       "\n",
       "    .dataframe tbody tr th {\n",
       "        vertical-align: top;\n",
       "    }\n",
       "\n",
       "    .dataframe thead th {\n",
       "        text-align: right;\n",
       "    }\n",
       "</style>\n",
       "<table border=\"1\" class=\"dataframe\">\n",
       "  <thead>\n",
       "    <tr style=\"text-align: right;\">\n",
       "      <th></th>\n",
       "      <th>date</th>\n",
       "      <th>final.output.concentrate_ag</th>\n",
       "      <th>final.output.concentrate_pb</th>\n",
       "      <th>final.output.concentrate_sol</th>\n",
       "      <th>final.output.concentrate_au</th>\n",
       "      <th>final.output.recovery</th>\n",
       "      <th>final.output.tail_ag</th>\n",
       "      <th>final.output.tail_pb</th>\n",
       "      <th>final.output.tail_sol</th>\n",
       "      <th>final.output.tail_au</th>\n",
       "      <th>...</th>\n",
       "      <th>secondary_cleaner.state.floatbank4_a_air</th>\n",
       "      <th>secondary_cleaner.state.floatbank4_a_level</th>\n",
       "      <th>secondary_cleaner.state.floatbank4_b_air</th>\n",
       "      <th>secondary_cleaner.state.floatbank4_b_level</th>\n",
       "      <th>secondary_cleaner.state.floatbank5_a_air</th>\n",
       "      <th>secondary_cleaner.state.floatbank5_a_level</th>\n",
       "      <th>secondary_cleaner.state.floatbank5_b_air</th>\n",
       "      <th>secondary_cleaner.state.floatbank5_b_level</th>\n",
       "      <th>secondary_cleaner.state.floatbank6_a_air</th>\n",
       "      <th>secondary_cleaner.state.floatbank6_a_level</th>\n",
       "    </tr>\n",
       "  </thead>\n",
       "  <tbody>\n",
       "    <tr>\n",
       "      <th>0</th>\n",
       "      <td>2016-01-15 00:00:00</td>\n",
       "      <td>6.055403</td>\n",
       "      <td>9.889648</td>\n",
       "      <td>5.507324</td>\n",
       "      <td>42.192020</td>\n",
       "      <td>70.541216</td>\n",
       "      <td>10.411962</td>\n",
       "      <td>0.895447</td>\n",
       "      <td>16.904297</td>\n",
       "      <td>2.143149</td>\n",
       "      <td>...</td>\n",
       "      <td>14.016835</td>\n",
       "      <td>-502.488007</td>\n",
       "      <td>12.099931</td>\n",
       "      <td>-504.715942</td>\n",
       "      <td>9.925633</td>\n",
       "      <td>-498.310211</td>\n",
       "      <td>8.079666</td>\n",
       "      <td>-500.470978</td>\n",
       "      <td>14.151341</td>\n",
       "      <td>-605.841980</td>\n",
       "    </tr>\n",
       "    <tr>\n",
       "      <th>1</th>\n",
       "      <td>2016-01-15 01:00:00</td>\n",
       "      <td>6.029369</td>\n",
       "      <td>9.968944</td>\n",
       "      <td>5.257781</td>\n",
       "      <td>42.701629</td>\n",
       "      <td>69.266198</td>\n",
       "      <td>10.462676</td>\n",
       "      <td>0.927452</td>\n",
       "      <td>16.634514</td>\n",
       "      <td>2.224930</td>\n",
       "      <td>...</td>\n",
       "      <td>13.992281</td>\n",
       "      <td>-505.503262</td>\n",
       "      <td>11.950531</td>\n",
       "      <td>-501.331529</td>\n",
       "      <td>10.039245</td>\n",
       "      <td>-500.169983</td>\n",
       "      <td>7.984757</td>\n",
       "      <td>-500.582168</td>\n",
       "      <td>13.998353</td>\n",
       "      <td>-599.787184</td>\n",
       "    </tr>\n",
       "    <tr>\n",
       "      <th>2</th>\n",
       "      <td>2016-01-15 02:00:00</td>\n",
       "      <td>6.055926</td>\n",
       "      <td>10.213995</td>\n",
       "      <td>5.383759</td>\n",
       "      <td>42.657501</td>\n",
       "      <td>68.116445</td>\n",
       "      <td>10.507046</td>\n",
       "      <td>0.953716</td>\n",
       "      <td>16.208849</td>\n",
       "      <td>2.257889</td>\n",
       "      <td>...</td>\n",
       "      <td>14.015015</td>\n",
       "      <td>-502.520901</td>\n",
       "      <td>11.912783</td>\n",
       "      <td>-501.133383</td>\n",
       "      <td>10.070913</td>\n",
       "      <td>-500.129135</td>\n",
       "      <td>8.013877</td>\n",
       "      <td>-500.517572</td>\n",
       "      <td>14.028663</td>\n",
       "      <td>-601.427363</td>\n",
       "    </tr>\n",
       "    <tr>\n",
       "      <th>3</th>\n",
       "      <td>2016-01-15 03:00:00</td>\n",
       "      <td>6.047977</td>\n",
       "      <td>9.977019</td>\n",
       "      <td>4.858634</td>\n",
       "      <td>42.689819</td>\n",
       "      <td>68.347543</td>\n",
       "      <td>10.422762</td>\n",
       "      <td>0.883763</td>\n",
       "      <td>16.532835</td>\n",
       "      <td>2.146849</td>\n",
       "      <td>...</td>\n",
       "      <td>14.036510</td>\n",
       "      <td>-500.857308</td>\n",
       "      <td>11.999550</td>\n",
       "      <td>-501.193686</td>\n",
       "      <td>9.970366</td>\n",
       "      <td>-499.201640</td>\n",
       "      <td>7.977324</td>\n",
       "      <td>-500.255908</td>\n",
       "      <td>14.005551</td>\n",
       "      <td>-599.996129</td>\n",
       "    </tr>\n",
       "    <tr>\n",
       "      <th>4</th>\n",
       "      <td>2016-01-15 04:00:00</td>\n",
       "      <td>6.148599</td>\n",
       "      <td>10.142511</td>\n",
       "      <td>4.939416</td>\n",
       "      <td>42.774141</td>\n",
       "      <td>66.927016</td>\n",
       "      <td>10.360302</td>\n",
       "      <td>0.792826</td>\n",
       "      <td>16.525686</td>\n",
       "      <td>2.055292</td>\n",
       "      <td>...</td>\n",
       "      <td>14.027298</td>\n",
       "      <td>-499.838632</td>\n",
       "      <td>11.953070</td>\n",
       "      <td>-501.053894</td>\n",
       "      <td>9.925709</td>\n",
       "      <td>-501.686727</td>\n",
       "      <td>7.894242</td>\n",
       "      <td>-500.356035</td>\n",
       "      <td>13.996647</td>\n",
       "      <td>-601.496691</td>\n",
       "    </tr>\n",
       "  </tbody>\n",
       "</table>\n",
       "<p>5 rows × 87 columns</p>\n",
       "</div>"
      ],
      "text/plain": [
       "                  date  final.output.concentrate_ag  \\\n",
       "0  2016-01-15 00:00:00                     6.055403   \n",
       "1  2016-01-15 01:00:00                     6.029369   \n",
       "2  2016-01-15 02:00:00                     6.055926   \n",
       "3  2016-01-15 03:00:00                     6.047977   \n",
       "4  2016-01-15 04:00:00                     6.148599   \n",
       "\n",
       "   final.output.concentrate_pb  final.output.concentrate_sol  \\\n",
       "0                     9.889648                      5.507324   \n",
       "1                     9.968944                      5.257781   \n",
       "2                    10.213995                      5.383759   \n",
       "3                     9.977019                      4.858634   \n",
       "4                    10.142511                      4.939416   \n",
       "\n",
       "   final.output.concentrate_au  final.output.recovery  final.output.tail_ag  \\\n",
       "0                    42.192020              70.541216             10.411962   \n",
       "1                    42.701629              69.266198             10.462676   \n",
       "2                    42.657501              68.116445             10.507046   \n",
       "3                    42.689819              68.347543             10.422762   \n",
       "4                    42.774141              66.927016             10.360302   \n",
       "\n",
       "   final.output.tail_pb  final.output.tail_sol  final.output.tail_au  ...  \\\n",
       "0              0.895447              16.904297              2.143149  ...   \n",
       "1              0.927452              16.634514              2.224930  ...   \n",
       "2              0.953716              16.208849              2.257889  ...   \n",
       "3              0.883763              16.532835              2.146849  ...   \n",
       "4              0.792826              16.525686              2.055292  ...   \n",
       "\n",
       "   secondary_cleaner.state.floatbank4_a_air  \\\n",
       "0                                 14.016835   \n",
       "1                                 13.992281   \n",
       "2                                 14.015015   \n",
       "3                                 14.036510   \n",
       "4                                 14.027298   \n",
       "\n",
       "   secondary_cleaner.state.floatbank4_a_level  \\\n",
       "0                                 -502.488007   \n",
       "1                                 -505.503262   \n",
       "2                                 -502.520901   \n",
       "3                                 -500.857308   \n",
       "4                                 -499.838632   \n",
       "\n",
       "   secondary_cleaner.state.floatbank4_b_air  \\\n",
       "0                                 12.099931   \n",
       "1                                 11.950531   \n",
       "2                                 11.912783   \n",
       "3                                 11.999550   \n",
       "4                                 11.953070   \n",
       "\n",
       "   secondary_cleaner.state.floatbank4_b_level  \\\n",
       "0                                 -504.715942   \n",
       "1                                 -501.331529   \n",
       "2                                 -501.133383   \n",
       "3                                 -501.193686   \n",
       "4                                 -501.053894   \n",
       "\n",
       "   secondary_cleaner.state.floatbank5_a_air  \\\n",
       "0                                  9.925633   \n",
       "1                                 10.039245   \n",
       "2                                 10.070913   \n",
       "3                                  9.970366   \n",
       "4                                  9.925709   \n",
       "\n",
       "   secondary_cleaner.state.floatbank5_a_level  \\\n",
       "0                                 -498.310211   \n",
       "1                                 -500.169983   \n",
       "2                                 -500.129135   \n",
       "3                                 -499.201640   \n",
       "4                                 -501.686727   \n",
       "\n",
       "   secondary_cleaner.state.floatbank5_b_air  \\\n",
       "0                                  8.079666   \n",
       "1                                  7.984757   \n",
       "2                                  8.013877   \n",
       "3                                  7.977324   \n",
       "4                                  7.894242   \n",
       "\n",
       "   secondary_cleaner.state.floatbank5_b_level  \\\n",
       "0                                 -500.470978   \n",
       "1                                 -500.582168   \n",
       "2                                 -500.517572   \n",
       "3                                 -500.255908   \n",
       "4                                 -500.356035   \n",
       "\n",
       "   secondary_cleaner.state.floatbank6_a_air  \\\n",
       "0                                 14.151341   \n",
       "1                                 13.998353   \n",
       "2                                 14.028663   \n",
       "3                                 14.005551   \n",
       "4                                 13.996647   \n",
       "\n",
       "   secondary_cleaner.state.floatbank6_a_level  \n",
       "0                                 -605.841980  \n",
       "1                                 -599.787184  \n",
       "2                                 -601.427363  \n",
       "3                                 -599.996129  \n",
       "4                                 -601.496691  \n",
       "\n",
       "[5 rows x 87 columns]"
      ]
     },
     "metadata": {},
     "output_type": "display_data"
    }
   ],
   "source": [
    "display(data_train.head(5))\n",
    "display(data_test.head(5))\n",
    "display(data_full.head(5))"
   ]
  },
  {
   "cell_type": "markdown",
   "metadata": {},
   "source": [
    "Посмотрим на общую информацию о данных в обучающей выборке."
   ]
  },
  {
   "cell_type": "code",
   "execution_count": 5,
   "metadata": {},
   "outputs": [
    {
     "name": "stdout",
     "output_type": "stream",
     "text": [
      "<class 'pandas.core.frame.DataFrame'>\n",
      "RangeIndex: 14149 entries, 0 to 14148\n",
      "Data columns (total 87 columns):\n",
      " #   Column                                              Non-Null Count  Dtype  \n",
      "---  ------                                              --------------  -----  \n",
      " 0   date                                                14149 non-null  object \n",
      " 1   final.output.concentrate_ag                         14148 non-null  float64\n",
      " 2   final.output.concentrate_pb                         14148 non-null  float64\n",
      " 3   final.output.concentrate_sol                        13938 non-null  float64\n",
      " 4   final.output.concentrate_au                         14149 non-null  float64\n",
      " 5   final.output.recovery                               14149 non-null  float64\n",
      " 6   final.output.tail_ag                                14149 non-null  float64\n",
      " 7   final.output.tail_pb                                14049 non-null  float64\n",
      " 8   final.output.tail_sol                               14144 non-null  float64\n",
      " 9   final.output.tail_au                                14149 non-null  float64\n",
      " 10  primary_cleaner.input.sulfate                       14129 non-null  float64\n",
      " 11  primary_cleaner.input.depressant                    14117 non-null  float64\n",
      " 12  primary_cleaner.input.feed_size                     14149 non-null  float64\n",
      " 13  primary_cleaner.input.xanthate                      14049 non-null  float64\n",
      " 14  primary_cleaner.output.concentrate_ag               14149 non-null  float64\n",
      " 15  primary_cleaner.output.concentrate_pb               14063 non-null  float64\n",
      " 16  primary_cleaner.output.concentrate_sol              13863 non-null  float64\n",
      " 17  primary_cleaner.output.concentrate_au               14149 non-null  float64\n",
      " 18  primary_cleaner.output.tail_ag                      14148 non-null  float64\n",
      " 19  primary_cleaner.output.tail_pb                      14134 non-null  float64\n",
      " 20  primary_cleaner.output.tail_sol                     14103 non-null  float64\n",
      " 21  primary_cleaner.output.tail_au                      14149 non-null  float64\n",
      " 22  primary_cleaner.state.floatbank8_a_air              14145 non-null  float64\n",
      " 23  primary_cleaner.state.floatbank8_a_level            14148 non-null  float64\n",
      " 24  primary_cleaner.state.floatbank8_b_air              14145 non-null  float64\n",
      " 25  primary_cleaner.state.floatbank8_b_level            14148 non-null  float64\n",
      " 26  primary_cleaner.state.floatbank8_c_air              14147 non-null  float64\n",
      " 27  primary_cleaner.state.floatbank8_c_level            14148 non-null  float64\n",
      " 28  primary_cleaner.state.floatbank8_d_air              14146 non-null  float64\n",
      " 29  primary_cleaner.state.floatbank8_d_level            14148 non-null  float64\n",
      " 30  rougher.calculation.sulfate_to_au_concentrate       14148 non-null  float64\n",
      " 31  rougher.calculation.floatbank10_sulfate_to_au_feed  14148 non-null  float64\n",
      " 32  rougher.calculation.floatbank11_sulfate_to_au_feed  14148 non-null  float64\n",
      " 33  rougher.calculation.au_pb_ratio                     14149 non-null  float64\n",
      " 34  rougher.input.feed_ag                               14149 non-null  float64\n",
      " 35  rougher.input.feed_pb                               14049 non-null  float64\n",
      " 36  rougher.input.feed_rate                             14141 non-null  float64\n",
      " 37  rougher.input.feed_size                             14005 non-null  float64\n",
      " 38  rougher.input.feed_sol                              14071 non-null  float64\n",
      " 39  rougher.input.feed_au                               14149 non-null  float64\n",
      " 40  rougher.input.floatbank10_sulfate                   14120 non-null  float64\n",
      " 41  rougher.input.floatbank10_xanthate                  14141 non-null  float64\n",
      " 42  rougher.input.floatbank11_sulfate                   14113 non-null  float64\n",
      " 43  rougher.input.floatbank11_xanthate                  13721 non-null  float64\n",
      " 44  rougher.output.concentrate_ag                       14149 non-null  float64\n",
      " 45  rougher.output.concentrate_pb                       14149 non-null  float64\n",
      " 46  rougher.output.concentrate_sol                      14127 non-null  float64\n",
      " 47  rougher.output.concentrate_au                       14149 non-null  float64\n",
      " 48  rougher.output.recovery                             14149 non-null  float64\n",
      " 49  rougher.output.tail_ag                              14148 non-null  float64\n",
      " 50  rougher.output.tail_pb                              14149 non-null  float64\n",
      " 51  rougher.output.tail_sol                             14149 non-null  float64\n",
      " 52  rougher.output.tail_au                              14149 non-null  float64\n",
      " 53  rougher.state.floatbank10_a_air                     14148 non-null  float64\n",
      " 54  rougher.state.floatbank10_a_level                   14148 non-null  float64\n",
      " 55  rougher.state.floatbank10_b_air                     14148 non-null  float64\n",
      " 56  rougher.state.floatbank10_b_level                   14148 non-null  float64\n",
      " 57  rougher.state.floatbank10_c_air                     14148 non-null  float64\n",
      " 58  rougher.state.floatbank10_c_level                   14148 non-null  float64\n",
      " 59  rougher.state.floatbank10_d_air                     14149 non-null  float64\n",
      " 60  rougher.state.floatbank10_d_level                   14149 non-null  float64\n",
      " 61  rougher.state.floatbank10_e_air                     13713 non-null  float64\n",
      " 62  rougher.state.floatbank10_e_level                   14149 non-null  float64\n",
      " 63  rougher.state.floatbank10_f_air                     14149 non-null  float64\n",
      " 64  rougher.state.floatbank10_f_level                   14149 non-null  float64\n",
      " 65  secondary_cleaner.output.tail_ag                    14147 non-null  float64\n",
      " 66  secondary_cleaner.output.tail_pb                    14139 non-null  float64\n",
      " 67  secondary_cleaner.output.tail_sol                   12544 non-null  float64\n",
      " 68  secondary_cleaner.output.tail_au                    14149 non-null  float64\n",
      " 69  secondary_cleaner.state.floatbank2_a_air            13932 non-null  float64\n",
      " 70  secondary_cleaner.state.floatbank2_a_level          14148 non-null  float64\n",
      " 71  secondary_cleaner.state.floatbank2_b_air            14128 non-null  float64\n",
      " 72  secondary_cleaner.state.floatbank2_b_level          14148 non-null  float64\n",
      " 73  secondary_cleaner.state.floatbank3_a_air            14145 non-null  float64\n",
      " 74  secondary_cleaner.state.floatbank3_a_level          14148 non-null  float64\n",
      " 75  secondary_cleaner.state.floatbank3_b_air            14148 non-null  float64\n",
      " 76  secondary_cleaner.state.floatbank3_b_level          14148 non-null  float64\n",
      " 77  secondary_cleaner.state.floatbank4_a_air            14143 non-null  float64\n",
      " 78  secondary_cleaner.state.floatbank4_a_level          14148 non-null  float64\n",
      " 79  secondary_cleaner.state.floatbank4_b_air            14148 non-null  float64\n",
      " 80  secondary_cleaner.state.floatbank4_b_level          14148 non-null  float64\n",
      " 81  secondary_cleaner.state.floatbank5_a_air            14148 non-null  float64\n",
      " 82  secondary_cleaner.state.floatbank5_a_level          14148 non-null  float64\n",
      " 83  secondary_cleaner.state.floatbank5_b_air            14148 non-null  float64\n",
      " 84  secondary_cleaner.state.floatbank5_b_level          14148 non-null  float64\n",
      " 85  secondary_cleaner.state.floatbank6_a_air            14147 non-null  float64\n",
      " 86  secondary_cleaner.state.floatbank6_a_level          14148 non-null  float64\n",
      "dtypes: float64(86), object(1)\n",
      "memory usage: 9.4+ MB\n"
     ]
    }
   ],
   "source": [
    "data_train.info()"
   ]
  },
  {
   "cell_type": "markdown",
   "metadata": {},
   "source": [
    "Данные не требуют приведения к каким-то другим типам (кроме признака `date`, о нём см. [п.1.4](#date)), однако в них есть пропуски. Посмотрим на их долю (в %)."
   ]
  },
  {
   "cell_type": "code",
   "execution_count": 6,
   "metadata": {},
   "outputs": [
    {
     "data": {
      "text/plain": [
       "date                                                   0.000000\n",
       "final.output.concentrate_ag                            0.007068\n",
       "final.output.concentrate_pb                            0.007068\n",
       "final.output.concentrate_sol                           1.491271\n",
       "final.output.concentrate_au                            0.000000\n",
       "final.output.recovery                                  0.000000\n",
       "final.output.tail_ag                                   0.000000\n",
       "final.output.tail_pb                                   0.706764\n",
       "final.output.tail_sol                                  0.035338\n",
       "final.output.tail_au                                   0.000000\n",
       "primary_cleaner.input.sulfate                          0.141353\n",
       "primary_cleaner.input.depressant                       0.226164\n",
       "primary_cleaner.input.feed_size                        0.000000\n",
       "primary_cleaner.input.xanthate                         0.706764\n",
       "primary_cleaner.output.concentrate_ag                  0.000000\n",
       "primary_cleaner.output.concentrate_pb                  0.607817\n",
       "primary_cleaner.output.concentrate_sol                 2.021344\n",
       "primary_cleaner.output.concentrate_au                  0.000000\n",
       "primary_cleaner.output.tail_ag                         0.007068\n",
       "primary_cleaner.output.tail_pb                         0.106015\n",
       "primary_cleaner.output.tail_sol                        0.325111\n",
       "primary_cleaner.output.tail_au                         0.000000\n",
       "primary_cleaner.state.floatbank8_a_air                 0.028271\n",
       "primary_cleaner.state.floatbank8_a_level               0.007068\n",
       "primary_cleaner.state.floatbank8_b_air                 0.028271\n",
       "primary_cleaner.state.floatbank8_b_level               0.007068\n",
       "primary_cleaner.state.floatbank8_c_air                 0.014135\n",
       "primary_cleaner.state.floatbank8_c_level               0.007068\n",
       "primary_cleaner.state.floatbank8_d_air                 0.021203\n",
       "primary_cleaner.state.floatbank8_d_level               0.007068\n",
       "rougher.calculation.sulfate_to_au_concentrate          0.007068\n",
       "rougher.calculation.floatbank10_sulfate_to_au_feed     0.007068\n",
       "rougher.calculation.floatbank11_sulfate_to_au_feed     0.007068\n",
       "rougher.calculation.au_pb_ratio                        0.000000\n",
       "rougher.input.feed_ag                                  0.000000\n",
       "rougher.input.feed_pb                                  0.706764\n",
       "rougher.input.feed_rate                                0.056541\n",
       "rougher.input.feed_size                                1.017740\n",
       "rougher.input.feed_sol                                 0.551276\n",
       "rougher.input.feed_au                                  0.000000\n",
       "rougher.input.floatbank10_sulfate                      0.204961\n",
       "rougher.input.floatbank10_xanthate                     0.056541\n",
       "rougher.input.floatbank11_sulfate                      0.254435\n",
       "rougher.input.floatbank11_xanthate                     3.024949\n",
       "rougher.output.concentrate_ag                          0.000000\n",
       "rougher.output.concentrate_pb                          0.000000\n",
       "rougher.output.concentrate_sol                         0.155488\n",
       "rougher.output.concentrate_au                          0.000000\n",
       "rougher.output.recovery                                0.000000\n",
       "rougher.output.tail_ag                                 0.007068\n",
       "rougher.output.tail_pb                                 0.000000\n",
       "rougher.output.tail_sol                                0.000000\n",
       "rougher.output.tail_au                                 0.000000\n",
       "rougher.state.floatbank10_a_air                        0.007068\n",
       "rougher.state.floatbank10_a_level                      0.007068\n",
       "rougher.state.floatbank10_b_air                        0.007068\n",
       "rougher.state.floatbank10_b_level                      0.007068\n",
       "rougher.state.floatbank10_c_air                        0.007068\n",
       "rougher.state.floatbank10_c_level                      0.007068\n",
       "rougher.state.floatbank10_d_air                        0.000000\n",
       "rougher.state.floatbank10_d_level                      0.000000\n",
       "rougher.state.floatbank10_e_air                        3.081490\n",
       "rougher.state.floatbank10_e_level                      0.000000\n",
       "rougher.state.floatbank10_f_air                        0.000000\n",
       "rougher.state.floatbank10_f_level                      0.000000\n",
       "secondary_cleaner.output.tail_ag                       0.014135\n",
       "secondary_cleaner.output.tail_pb                       0.070676\n",
       "secondary_cleaner.output.tail_sol                     11.343558\n",
       "secondary_cleaner.output.tail_au                       0.000000\n",
       "secondary_cleaner.state.floatbank2_a_air               1.533677\n",
       "secondary_cleaner.state.floatbank2_a_level             0.007068\n",
       "secondary_cleaner.state.floatbank2_b_air               0.148420\n",
       "secondary_cleaner.state.floatbank2_b_level             0.007068\n",
       "secondary_cleaner.state.floatbank3_a_air               0.028271\n",
       "secondary_cleaner.state.floatbank3_a_level             0.007068\n",
       "secondary_cleaner.state.floatbank3_b_air               0.007068\n",
       "secondary_cleaner.state.floatbank3_b_level             0.007068\n",
       "secondary_cleaner.state.floatbank4_a_air               0.042406\n",
       "secondary_cleaner.state.floatbank4_a_level             0.007068\n",
       "secondary_cleaner.state.floatbank4_b_air               0.007068\n",
       "secondary_cleaner.state.floatbank4_b_level             0.007068\n",
       "secondary_cleaner.state.floatbank5_a_air               0.007068\n",
       "secondary_cleaner.state.floatbank5_a_level             0.007068\n",
       "secondary_cleaner.state.floatbank5_b_air               0.007068\n",
       "secondary_cleaner.state.floatbank5_b_level             0.007068\n",
       "secondary_cleaner.state.floatbank6_a_air               0.014135\n",
       "secondary_cleaner.state.floatbank6_a_level             0.007068\n",
       "dtype: float64"
      ]
     },
     "execution_count": 6,
     "metadata": {},
     "output_type": "execute_result"
    }
   ],
   "source": [
    "data_train.isna().mean() * 100"
   ]
  },
  {
   "cell_type": "markdown",
   "metadata": {},
   "source": [
    "Только для одного признака (`secondary_cleaner.output.tail_sol`) пропуски составляют значительную часть, чуть больше 11%. Вычислим долю объектов с пропусками для обучающей выборки. "
   ]
  },
  {
   "cell_type": "code",
   "execution_count": 7,
   "metadata": {},
   "outputs": [
    {
     "name": "stdout",
     "output_type": "stream",
     "text": [
      "Доля пропущенных значений в обучающей выборке: 22.14%\n"
     ]
    }
   ],
   "source": [
    "frac_1 = 1 - data_train.dropna().shape[0]/data_train.shape[0]\n",
    "print(f\"Доля пропущенных значений в обучающей выборке: {frac_1:.2%}\")"
   ]
  },
  {
   "cell_type": "markdown",
   "metadata": {},
   "source": [
    "Если выбрасывать все объекты с пропусками из выборки, то будет потеряно больше 1/5 обучающей выборки. Однако в обучающей выборке есть признаки, которые для обучения моделей использоваться не могут, поскольку они отсутствуют в тестовой выборке. Посмотрим, какая доля объектов с пропусками пропадёт в такой \"отредактированной\" обучающей выборке."
   ]
  },
  {
   "cell_type": "code",
   "execution_count": 8,
   "metadata": {},
   "outputs": [
    {
     "name": "stdout",
     "output_type": "stream",
     "text": [
      "Доля пропущенных значений в обучающей выборке: 10.39%\n"
     ]
    }
   ],
   "source": [
    "frac_2 = 1 - data_train[data_test.columns].dropna().shape[0]/data_train.shape[0]\n",
    "print(f\"Доля пропущенных значений в обучающей выборке: {frac_2:.2%}\")"
   ]
  },
  {
   "cell_type": "markdown",
   "metadata": {},
   "source": [
    "В два раза меньше. Это всё равно довольно много, однако можно попробовать удалить объекты с пропусками и обучать модели уже на такой выборке.\n",
    "\n",
    "<a id=\"1.2\"></a>\n",
    "### 1.2. Проверка расчёта эффективности обогащения\n",
    "Проверим расчёт эффективности обогащения на обучающей выборке для признака `rougher.output.recovery`, то есть обогащение после флотации. Эффективность обогащения рассчитывается по формуле:\n",
    "\n",
    "$$Recovery = \\frac{C(F -T)}{F(C -T)},$$\n",
    "\n",
    "где \n",
    "<br>$C$ — доля золота в концентрате после флотации;\n",
    "<br>$F$ — доля золота в сырье/концентрате до флотации;\n",
    "<br>$T$ — доля золота в отвальных хвостах после флотации.\n",
    "\n",
    "Выполним расчёт, а по полученным значениям и значениям признака найдём MAE."
   ]
  },
  {
   "cell_type": "code",
   "execution_count": 9,
   "metadata": {},
   "outputs": [
    {
     "name": "stdout",
     "output_type": "stream",
     "text": [
      "Значение МАЕ: 9.73512347450521e-15\n"
     ]
    }
   ],
   "source": [
    "c = data_train[\"rougher.output.concentrate_au\"]\n",
    "f = data_train[\"rougher.input.feed_au\"]\n",
    "t = data_train[\"rougher.output.tail_au\"]\n",
    "\n",
    "r = c*(f-t)/(f*(c-t)) * 100\n",
    "\n",
    "print(f\"Значение МАЕ: {abs(data_train['rougher.output.recovery'] - r).mean()}\")"
   ]
  },
  {
   "cell_type": "markdown",
   "metadata": {},
   "source": [
    "Из-за ошибок округления МАЕ не равна нулю, однако полученная величина очень маленькая. Можно сделать вывод, что эффективность обогащения рассчитана правильно.\n",
    "\n",
    "<a id=\"1.3\"></a>\n",
    "### 1.3. Анализ признаков, недоступных в тестовой выборке\n",
    "Посмотрим, какие признаки отсутствуют в тестовой выборке."
   ]
  },
  {
   "cell_type": "code",
   "execution_count": 10,
   "metadata": {
    "scrolled": false
   },
   "outputs": [
    {
     "name": "stdout",
     "output_type": "stream",
     "text": [
      "Index(['final.output.concentrate_ag', 'final.output.concentrate_au',\n",
      "       'final.output.concentrate_pb', 'final.output.concentrate_sol',\n",
      "       'final.output.recovery', 'final.output.tail_ag', 'final.output.tail_au',\n",
      "       'final.output.tail_pb', 'final.output.tail_sol',\n",
      "       'primary_cleaner.output.concentrate_ag',\n",
      "       'primary_cleaner.output.concentrate_au',\n",
      "       'primary_cleaner.output.concentrate_pb',\n",
      "       'primary_cleaner.output.concentrate_sol',\n",
      "       'primary_cleaner.output.tail_ag', 'primary_cleaner.output.tail_au',\n",
      "       'primary_cleaner.output.tail_pb', 'primary_cleaner.output.tail_sol',\n",
      "       'rougher.calculation.au_pb_ratio',\n",
      "       'rougher.calculation.floatbank10_sulfate_to_au_feed',\n",
      "       'rougher.calculation.floatbank11_sulfate_to_au_feed',\n",
      "       'rougher.calculation.sulfate_to_au_concentrate',\n",
      "       'rougher.output.concentrate_ag', 'rougher.output.concentrate_au',\n",
      "       'rougher.output.concentrate_pb', 'rougher.output.concentrate_sol',\n",
      "       'rougher.output.recovery', 'rougher.output.tail_ag',\n",
      "       'rougher.output.tail_au', 'rougher.output.tail_pb',\n",
      "       'rougher.output.tail_sol', 'secondary_cleaner.output.tail_ag',\n",
      "       'secondary_cleaner.output.tail_au', 'secondary_cleaner.output.tail_pb',\n",
      "       'secondary_cleaner.output.tail_sol'],\n",
      "      dtype='object')\n"
     ]
    },
    {
     "name": "stderr",
     "output_type": "stream",
     "text": [
      "/tmp/ipykernel_93/164566098.py:1: FutureWarning: Index.__xor__ operating as a set operation is deprecated, in the future this will be a logical operation matching Series.__xor__.  Use index.symmetric_difference(other) instead\n",
      "  print((data_train.columns ^ data_test.columns))\n"
     ]
    }
   ],
   "source": [
    "print((data_train.columns ^ data_test.columns))"
   ]
  },
  {
   "cell_type": "markdown",
   "metadata": {},
   "source": [
    "Отсутствующие в тестовой выборке признаки либо относятся к параметрам продукта, либо являются расчётными характеристиками. Они отсутствуют в тестовой выборке потому, что они неизвестны заранее, их можно вычислить только после проведения очистки или флотации.\n",
    "\n",
    "<a id=\"1.4\"></a>\n",
    "### 1.4. Предобработка данных\n",
    "Поскольку в п.1.1 было принято решение избавиться от объектов с пропусками, то какая-то другая предобработка данных не требуется. Можно проверить данные на наличие явных дубликатов."
   ]
  },
  {
   "cell_type": "code",
   "execution_count": 11,
   "metadata": {},
   "outputs": [
    {
     "name": "stdout",
     "output_type": "stream",
     "text": [
      "Количество дубликатов\n",
      " - в обучающей выборке: 0\n",
      " - в тестовой выборке:  0\n"
     ]
    }
   ],
   "source": [
    "print(\"Количество дубликатов\")\n",
    "print(\" - в обучающей выборке:\", data_train.duplicated().sum())\n",
    "print(\" - в тестовой выборке: \", data_test.duplicated().sum())"
   ]
  },
  {
   "cell_type": "markdown",
   "metadata": {},
   "source": [
    "Удалим из выборок объекты с пропусками."
   ]
  },
  {
   "cell_type": "code",
   "execution_count": 12,
   "metadata": {},
   "outputs": [],
   "source": [
    "data_train = data_train.loc[data_train[data_test.columns].dropna().index]\n",
    "data_test = data_test.dropna()"
   ]
  },
  {
   "cell_type": "markdown",
   "metadata": {},
   "source": [
    "<a id=\"date\"></a>\n",
    "Приведём признак `date` к типу `datetime` и заменим индексы во всех наборах данных. Это понадобится далее для создания ответов на тестовой выборке."
   ]
  },
  {
   "cell_type": "code",
   "execution_count": 13,
   "metadata": {},
   "outputs": [],
   "source": [
    "data_train[\"date\"] = pd.to_datetime(data_train[\"date\"], format=\"%Y-%m-%d %H:%M:%S\")\n",
    "data_test[\"date\"] = pd.to_datetime(data_test[\"date\"], format=\"%Y-%m-%d %H:%M:%S\")\n",
    "data_full[\"date\"] = pd.to_datetime(data_full[\"date\"], format=\"%Y-%m-%d %H:%M:%S\")\n",
    "\n",
    "data_train.set_index(\"date\", inplace=True)\n",
    "data_test.set_index(\"date\", inplace=True)\n",
    "data_full.set_index(\"date\", inplace=True)"
   ]
  },
  {
   "cell_type": "markdown",
   "metadata": {},
   "source": [
    "Теперь можно перейти к следующему этапу — исследовательскому анализу данных.\n",
    "\n",
    "<a id=\"2\"></a>\n",
    "## 2. Анализ данных\n",
    "\n",
    "<a id=\"2.1\"></a>\n",
    "### 2.1. Концентрации металлов на различных этапах очистки\n",
    "Построим распределения концентрации металлов (золота, серебра и свинца) на различных этапах очистки."
   ]
  },
  {
   "cell_type": "code",
   "execution_count": 14,
   "metadata": {},
   "outputs": [],
   "source": [
    "postfix = [\"au\", \"ag\", \"pb\"]\n",
    "stages = [\"rougher.input.feed_\", \"rougher.output.concentrate_\",\n",
    "          \"primary_cleaner.output.concentrate_\", \"final.output.concentrate_\"]\n",
    "\n",
    "stages_au = [stage + \"au\" for stage in stages]\n",
    "stages_ag = [stage + \"ag\" for stage in stages]\n",
    "stages_pb = [stage + \"pb\" for stage in stages]\n",
    "all_stages = [stages_au, stages_ag, stages_pb]"
   ]
  },
  {
   "cell_type": "code",
   "execution_count": 15,
   "metadata": {},
   "outputs": [
    {
     "data": {
      "image/png": "[encoded data removed]",
      "text/plain": [
       "<Figure size 720x504 with 1 Axes>"
      ]
     },
     "metadata": {},
     "output_type": "display_data"
    }
   ],
   "source": [
    "for stage in stages_au:\n",
    "    data_train[stage].hist(bins=range(0, 50), alpha=0.7)\n",
    "    plt.legend([\"До флотации\", \"После флотации\", \n",
    "                \"После первого этапа очистки\", \n",
    "                \"После второго этапа очистки\"])\n",
    "    plt.title(\"Распределения концентрации золота на различных этапах очистки\")\n",
    "    plt.xlabel(\"Концентрация\")"
   ]
  },
  {
   "cell_type": "code",
   "execution_count": 16,
   "metadata": {},
   "outputs": [
    {
     "data": {
      "image/png": "[encoded data removed]",
      "text/plain": [
       "<Figure size 720x504 with 1 Axes>"
      ]
     },
     "metadata": {},
     "output_type": "display_data"
    }
   ],
   "source": [
    "for stage in stages_ag:\n",
    "    data_train[stage].hist(bins=range(0, 20), alpha=0.6)\n",
    "    plt.legend([\"До флотации\", \"После флотации\", \n",
    "                \"После первого этапа очистки\", \n",
    "                \"После второго этапа очистки\"])\n",
    "    plt.title(\"Распределения концентрации серебра на различных этапах очистки\")\n",
    "    plt.xlabel(\"Концентрация\")"
   ]
  },
  {
   "cell_type": "code",
   "execution_count": 17,
   "metadata": {},
   "outputs": [
    {
     "data": {
      "image/png": "[encoded data removed]",
      "text/plain": [
       "<Figure size 720x504 with 1 Axes>"
      ]
     },
     "metadata": {},
     "output_type": "display_data"
    }
   ],
   "source": [
    "for stage in stages_pb:\n",
    "    data_train[stage].hist(bins=range(0, 20), alpha=0.7)\n",
    "    plt.legend([\"До флотации\", \"После флотации\", \n",
    "                \"После первого этапа очистки\", \n",
    "                \"После второго этапа очистки\"])\n",
    "    plt.title(\"Распределения концентрации свинца на различных этапах очистки\")\n",
    "    plt.xlabel(\"Концентрация\")"
   ]
  },
  {
   "cell_type": "markdown",
   "metadata": {},
   "source": [
    "Посмотрим на **средние** концентрации металлов в образцах на каждом этапе: в смеси руды (до флотации), в черновом концентрате (после флотации), после первого этапа очистки и в финальном концентрате. "
   ]
  },
  {
   "cell_type": "code",
   "execution_count": 18,
   "metadata": {},
   "outputs": [
    {
     "data": {
      "text/html": [
       "<div>\n",
       "<style scoped>\n",
       "    .dataframe tbody tr th:only-of-type {\n",
       "        vertical-align: middle;\n",
       "    }\n",
       "\n",
       "    .dataframe tbody tr th {\n",
       "        vertical-align: top;\n",
       "    }\n",
       "\n",
       "    .dataframe thead th {\n",
       "        text-align: right;\n",
       "    }\n",
       "</style>\n",
       "<table border=\"1\" class=\"dataframe\">\n",
       "  <thead>\n",
       "    <tr style=\"text-align: right;\">\n",
       "      <th></th>\n",
       "      <th>До флотации</th>\n",
       "      <th>После флотации</th>\n",
       "      <th>После первого этапа очистки</th>\n",
       "      <th>После второго этапа очистки</th>\n",
       "    </tr>\n",
       "  </thead>\n",
       "  <tbody>\n",
       "    <tr>\n",
       "      <th>золото</th>\n",
       "      <td>7.887688</td>\n",
       "      <td>19.611547</td>\n",
       "      <td>32.454200</td>\n",
       "      <td>44.092279</td>\n",
       "    </tr>\n",
       "    <tr>\n",
       "      <th>серебро</th>\n",
       "      <td>8.582645</td>\n",
       "      <td>11.790123</td>\n",
       "      <td>8.248938</td>\n",
       "      <td>5.112701</td>\n",
       "    </tr>\n",
       "    <tr>\n",
       "      <th>свинец</th>\n",
       "      <td>3.525378</td>\n",
       "      <td>7.733154</td>\n",
       "      <td>9.624351</td>\n",
       "      <td>10.193810</td>\n",
       "    </tr>\n",
       "  </tbody>\n",
       "</table>\n",
       "</div>"
      ],
      "text/plain": [
       "         До флотации  После флотации  После первого этапа очистки  \\\n",
       "золото      7.887688       19.611547                    32.454200   \n",
       "серебро     8.582645       11.790123                     8.248938   \n",
       "свинец      3.525378        7.733154                     9.624351   \n",
       "\n",
       "         После второго этапа очистки  \n",
       "золото                     44.092279  \n",
       "серебро                     5.112701  \n",
       "свинец                     10.193810  "
      ]
     },
     "execution_count": 18,
     "metadata": {},
     "output_type": "execute_result"
    }
   ],
   "source": [
    "means = [data_train[stage].mean().values for stage in all_stages]\n",
    "pivot_concentration = pd.DataFrame(means, \n",
    "                                   columns=[\"До флотации\", \"После флотации\", \n",
    "                                            \"После первого этапа очистки\", \n",
    "                                            \"После второго этапа очистки\"],\n",
    "                                   index=[\"золото\", \"серебро\", \"свинец\"])\n",
    "\n",
    "pivot_concentration"
   ]
  },
  {
   "cell_type": "code",
   "execution_count": 19,
   "metadata": {},
   "outputs": [
    {
     "data": {
      "image/png": "[encoded data removed]",
      "text/plain": [
       "<Figure size 720x504 with 1 Axes>"
      ]
     },
     "metadata": {},
     "output_type": "display_data"
    }
   ],
   "source": [
    "pivot_concentration.plot(kind=\"bar\", rot=0,\n",
    "                         title=\"Средние концентрации металлов на каждом этапе очистки\");"
   ]
  },
  {
   "cell_type": "markdown",
   "metadata": {},
   "source": [
    "На графиках видно, что концентрация золота с каждым этапом очистки растёт. Это логично, поскольку технологический процесс как раз направлен на увеличение концентрации золота в материале. При этом концентрация серебра падает (вероятно, его собирают отдельно от золота), а концентрация свинца увеличивается (сложно определить, по какой причине). \n",
    "\n",
    "<a id=\"2.2\"></a>\n",
    "### 2.2. Сравнение распределений гранул сырья\n",
    "Сравним распределения размеров гранул сырья до и после флотации в обучающей и тестовой выборках. Сначала построим распределение размеров гранул сырья до флотации."
   ]
  },
  {
   "cell_type": "code",
   "execution_count": 20,
   "metadata": {},
   "outputs": [
    {
     "data": {
      "image/png": "[encoded data removed]",
      "text/plain": [
       "<Figure size 720x504 with 1 Axes>"
      ]
     },
     "metadata": {},
     "output_type": "display_data"
    }
   ],
   "source": [
    "data_train[\"rougher.input.feed_size\"].hist(bins=range(100), density=True, alpha=0.6)\n",
    "data_test[\"rougher.input.feed_size\"].hist(bins=range(100), density=True, alpha=0.6)\n",
    "plt.title(\"Распределение размеров гранул сырья до флотации\")\n",
    "plt.xlim(20, 100)\n",
    "plt.legend([\"обучающая выборка\", \"тестовая выборка\"])\n",
    "plt.xlabel(\"Размер гранул\");"
   ]
  },
  {
   "cell_type": "markdown",
   "metadata": {},
   "source": [
    "Форма распределений несколько отличается, однако диапазон значений почти одинаковый. Посмотрим на распределения размеров гранул после флотации."
   ]
  },
  {
   "cell_type": "code",
   "execution_count": 21,
   "metadata": {},
   "outputs": [
    {
     "data": {
      "image/png": "[encoded data removed]",
      "text/plain": [
       "<Figure size 720x504 with 1 Axes>"
      ]
     },
     "metadata": {},
     "output_type": "display_data"
    }
   ],
   "source": [
    "data_train[\"primary_cleaner.input.feed_size\"].hist(bins=np.arange(0, 20, 0.5), density=True, alpha=0.6);\n",
    "data_test[\"primary_cleaner.input.feed_size\"].hist(bins=np.arange(0, 20, 0.5), density=True, alpha=0.6);\n",
    "plt.xlim(2.5, 12.5)\n",
    "plt.title(\"Распределение размеров гранул сырья после флотации\")\n",
    "plt.legend([\"обучающая выборка\", \"тестовая выборка\"])\n",
    "plt.xlabel(\"Размер гранул\");"
   ]
  },
  {
   "cell_type": "markdown",
   "metadata": {},
   "source": [
    "Распределения практически совпадают. \n",
    "\n",
    "Хотя до флотации распределения размеров гранул несколько отличаются, скорее всего, это не окажет существенного негативного влияния на построенные модели.\n",
    "\n",
    "<a id=\"2.3\"></a>\n",
    "### 2.3. Исследование суммарной концентрации веществ на разных стадиях\n",
    "Исследуем суммарную концентрацию веществ на разных этапах очистки."
   ]
  },
  {
   "cell_type": "code",
   "execution_count": 22,
   "metadata": {},
   "outputs": [],
   "source": [
    "stages_sol = [stage + \"sol\" for stage in stages]\n",
    "concentration_sums = []\n",
    "for s1, s2, s3, s4 in zip(stages_au, stages_ag, stages_pb, stages_sol):\n",
    "    concentration_sums.append(data_train[[s1, s2, s3, s4]].sum(axis=1))"
   ]
  },
  {
   "cell_type": "code",
   "execution_count": 23,
   "metadata": {},
   "outputs": [
    {
     "data": {
      "image/png": "[encoded data removed]",
      "text/plain": [
       "<Figure size 720x504 with 1 Axes>"
      ]
     },
     "metadata": {},
     "output_type": "display_data"
    }
   ],
   "source": [
    "for substance in concentration_sums:\n",
    "    substance.hist(bins=range(80), density=True, alpha=0.7)\n",
    "    \n",
    "plt.legend([\"До флотации\", \"После флотации\", \n",
    "            \"После первого этапа очистки\", \n",
    "            \"После второго этапа очистки\"])\n",
    "plt.title(\"Суммарная концентрация всех веществ на разных этапах\")\n",
    "plt.xlabel(\"Концентрация\");"
   ]
  },
  {
   "cell_type": "markdown",
   "metadata": {},
   "source": [
    "Суммарная концентрация всех веществ в финальном концентрате гораздо больше, чем в смеси руды (то есть до флотации), что ожидаемо. Можно заметить, что после флотации и этапов очистки есть объекты с нулевым значением концентрации. Это довольно сомнительно, особенно если учесть, что таких объектов до флотации не было. Вероятно, эти аномальные значения концентраций появились в результате ошибок при записи или выгрузке данных. Поскольку передавать такие значения моделям будет не вполне корректно, такие объекты следует удалить и из обучающей выборки, и из тестовой, если они там присутствуют."
   ]
  },
  {
   "cell_type": "code",
   "execution_count": 24,
   "metadata": {},
   "outputs": [
    {
     "data": {
      "image/png": "[encoded data removed]",
      "text/plain": [
       "<Figure size 720x504 with 1 Axes>"
      ]
     },
     "metadata": {},
     "output_type": "display_data"
    }
   ],
   "source": [
    "stages_sol = [stage + \"sol\" for stage in stages]\n",
    "concentration_sums = []\n",
    "for s1, s2, s3, s4 in zip(stages_au, stages_ag, stages_pb, stages_sol):\n",
    "    concentration_sums.append(data_full.loc[data_test.index, [s1, s2, s3, s4]].sum(axis=1))\n",
    "    \n",
    "for substance in concentration_sums:\n",
    "    substance.hist(bins=range(80), density=True, alpha=0.7)\n",
    "    \n",
    "plt.legend([\"До флотации\", \"После флотации\", \n",
    "            \"После первого этапа очистки\", \n",
    "            \"После второго этапа очистки\"])\n",
    "plt.title(\"Суммарная концентрация всех веществ на разных этапах\")\n",
    "plt.xlabel(\"Концентрация\");"
   ]
  },
  {
   "cell_type": "markdown",
   "metadata": {},
   "source": [
    "В тестовой выборке тоже есть объекты с аномальными значениями суммарной концентрации. Все такие объекты далее будут удалены из обучающей и тестовой выборок.\n",
    "\n",
    "<a id=\"3\"></a>\n",
    "## 3. Модель\n",
    "\n",
    "<a id=\"3.1\"></a>\n",
    "### 3.1. Функция `weighted_smape`\n",
    "Прежде чем начать обучать модели, напишем функцию `weighted_smape`, которая будет принимать два аргумента: истинные значения `y_true` и предсказанные значения `y_pred` признаков `rougher.output.recovery` и `final.output.recovery`. Метрика *sMAPE* задаётся следующим образом:\n",
    "\n",
    "$$sMAPE = \\frac{2}{N} \\sum_{i=1}^{N} \\frac{\\left\\lvert y_i-\\hat{y_i}\\right\\rvert}{\\left\\lvert y_i\\right\\rvert - \\left\\lvert \\hat{y_i}\\right\\rvert} \\cdot 100 \\%. $$\n",
    "\n",
    "При этом итоговое *sMAPE* вычисляется так:\n",
    "\n",
    "$$ Weighted\\  sMAPE = 0.25 \\cdot sMAPE(rougher) + 0.75 \\cdot sMAPE(final) $$"
   ]
  },
  {
   "cell_type": "code",
   "execution_count": 25,
   "metadata": {},
   "outputs": [],
   "source": [
    "def weighted_smape(y_true, y_pred):\n",
    "    smape = ((np.abs(y_true - y_pred)/((np.abs(y_true) + np.abs(y_pred))/2)).mean(axis=0)) * 100\n",
    "    return np.array([0.25, 0.75]) @ smape"
   ]
  },
  {
   "cell_type": "markdown",
   "metadata": {},
   "source": [
    "Подготовим данные для обучения моделей. "
   ]
  },
  {
   "cell_type": "code",
   "execution_count": 26,
   "metadata": {},
   "outputs": [],
   "source": [
    "for s1, s2, s3, s4 in zip(stages_au, stages_ag, stages_pb, stages_sol):\n",
    "    \n",
    "    train_indexes = data_train[(data_train[[s1, s2, s3, s4]].sum(axis=1) != 0)].index\n",
    "\n",
    "    test_indexes = (data_full.loc[data_test.index]\n",
    "                             .loc[(data_full.loc[data_test.index, [s1, s2, s3, s4]].sum(axis=1) != 0)]\n",
    "                             .index)\n",
    "    \n",
    "    data_train = data_train.loc[train_indexes]\n",
    "    data_test = data_test.loc[test_indexes]\n",
    "    \n",
    "X_train = data_train[data_test.columns]\n",
    "X_test = data_test\n",
    "y_train = data_train[[\"rougher.output.recovery\", \"final.output.recovery\"]]\n",
    "y_test = data_full.loc[data_test.index, [\"rougher.output.recovery\", \"final.output.recovery\"]]"
   ]
  },
  {
   "cell_type": "markdown",
   "metadata": {},
   "source": [
    "Используем `StandartScaler`. "
   ]
  },
  {
   "cell_type": "code",
   "execution_count": 27,
   "metadata": {},
   "outputs": [],
   "source": [
    "scaler = StandardScaler()\n",
    "X_train = scaler.fit_transform(X_train)\n",
    "X_test = scaler.transform(X_test)"
   ]
  },
  {
   "cell_type": "markdown",
   "metadata": {},
   "source": [
    "Теперь сделаем *scorer* из ранее написанной функции `weighted_smape`."
   ]
  },
  {
   "cell_type": "code",
   "execution_count": 28,
   "metadata": {},
   "outputs": [],
   "source": [
    "scorer = make_scorer(weighted_smape, greater_is_better=False)"
   ]
  },
  {
   "cell_type": "markdown",
   "metadata": {},
   "source": [
    "Всё готово для обучения моделей.\n",
    "\n",
    "<a id=\"3.2\"></a>\n",
    "### 3.2. Обучение моделей\n",
    "Будем проверять три класса моделей: `LinearRegression`, `Lasso` и `Ridge` на кросс-валидации с количеством блоков равным 5 и ранее написанным *scorer*. Чтобы оценить адекватность моделей воспользуемся моделью `DummyRegressor`."
   ]
  },
  {
   "cell_type": "code",
   "execution_count": 29,
   "metadata": {},
   "outputs": [],
   "source": [
    "cv_scores = []\n",
    "\n",
    "linreg = LinearRegression()\n",
    "cv_scores.append(-cross_val_score(linreg, X_train, y_train, cv=5, scoring=scorer).mean())"
   ]
  },
  {
   "cell_type": "code",
   "execution_count": 30,
   "metadata": {},
   "outputs": [
    {
     "name": "stdout",
     "output_type": "stream",
     "text": [
      "Лучшее значение параметра alpha: 1\n"
     ]
    }
   ],
   "source": [
    "params = {\"alpha\": [10**i for i in range(-3, 4)]}\n",
    "\n",
    "lasso = Lasso(random_state=42)\n",
    "reg = GridSearchCV(lasso, param_grid=params, scoring=scorer, cv=5)\n",
    "reg.fit(X_train, y_train)\n",
    "\n",
    "cv_scores.append(-reg.best_score_)\n",
    "print(\"Лучшее значение параметра alpha:\", reg.best_params_[\"alpha\"])"
   ]
  },
  {
   "cell_type": "code",
   "execution_count": 31,
   "metadata": {},
   "outputs": [
    {
     "name": "stdout",
     "output_type": "stream",
     "text": [
      "Лучшее значение параметра alpha: 1000\n"
     ]
    }
   ],
   "source": [
    "params = {\"alpha\": [10**i for i in range(-3, 4)]}\n",
    "\n",
    "ridge = Ridge(random_state=42)\n",
    "reg = GridSearchCV(ridge, param_grid=params, scoring=scorer, cv=5)\n",
    "reg.fit(X_train, y_train)\n",
    "\n",
    "cv_scores.append(-reg.best_score_)\n",
    "print(\"Лучшее значение параметра alpha:\", reg.best_params_[\"alpha\"])"
   ]
  },
  {
   "cell_type": "code",
   "execution_count": 32,
   "metadata": {},
   "outputs": [],
   "source": [
    "dummy = DummyRegressor(strategy=\"mean\")\n",
    "cv_scores.append(-cross_val_score(dummy, X_train, y_train, cv=5, scoring=scorer).mean())"
   ]
  },
  {
   "cell_type": "markdown",
   "metadata": {},
   "source": [
    "Значения *sMAPE* на обучающей выборке приведены в таблице ниже."
   ]
  },
  {
   "cell_type": "code",
   "execution_count": 33,
   "metadata": {},
   "outputs": [
    {
     "data": {
      "text/html": [
       "<div>\n",
       "<style scoped>\n",
       "    .dataframe tbody tr th:only-of-type {\n",
       "        vertical-align: middle;\n",
       "    }\n",
       "\n",
       "    .dataframe tbody tr th {\n",
       "        vertical-align: top;\n",
       "    }\n",
       "\n",
       "    .dataframe thead th {\n",
       "        text-align: right;\n",
       "    }\n",
       "</style>\n",
       "<table border=\"1\" class=\"dataframe\">\n",
       "  <thead>\n",
       "    <tr style=\"text-align: right;\">\n",
       "      <th></th>\n",
       "      <th>sMAPE</th>\n",
       "    </tr>\n",
       "  </thead>\n",
       "  <tbody>\n",
       "    <tr>\n",
       "      <th>Linear Regression</th>\n",
       "      <td>9.407758</td>\n",
       "    </tr>\n",
       "    <tr>\n",
       "      <th>Lasso</th>\n",
       "      <td>8.301435</td>\n",
       "    </tr>\n",
       "    <tr>\n",
       "      <th>Ridge</th>\n",
       "      <td>8.609429</td>\n",
       "    </tr>\n",
       "    <tr>\n",
       "      <th>Dummy</th>\n",
       "      <td>9.183719</td>\n",
       "    </tr>\n",
       "  </tbody>\n",
       "</table>\n",
       "</div>"
      ],
      "text/plain": [
       "                      sMAPE\n",
       "Linear Regression  9.407758\n",
       "Lasso              8.301435\n",
       "Ridge              8.609429\n",
       "Dummy              9.183719"
      ]
     },
     "execution_count": 33,
     "metadata": {},
     "output_type": "execute_result"
    }
   ],
   "source": [
    "pd.DataFrame(cv_scores, columns=[\"sMAPE\"], index=[\"Linear Regression\", \n",
    "                                                  \"Lasso\", \"Ridge\", \"Dummy\"])"
   ]
  },
  {
   "cell_type": "markdown",
   "metadata": {},
   "source": [
    "Минимальное значение метрики у модели `Lasso`, при этом обычная линейная регрессия без регуляризации справилась даже хуже, чем `DummyRegressor`. Таким образом, `Lasso` — лучшая из рассмотренных моделей. Проверим все модели на тестовой выборке."
   ]
  },
  {
   "cell_type": "code",
   "execution_count": 34,
   "metadata": {},
   "outputs": [],
   "source": [
    "cv_scores = []\n",
    "\n",
    "linreg = LinearRegression()\n",
    "linreg.fit(X_train, y_train)\n",
    "y_pred = linreg.predict(X_test)\n",
    "cv_scores.append(weighted_smape(y_test, y_pred))\n",
    "\n",
    "lasso = Lasso(alpha=1, random_state=42)\n",
    "lasso.fit(X_train, y_train)\n",
    "y_pred = lasso.predict(X_test)\n",
    "cv_scores.append(weighted_smape(y_test, y_pred))\n",
    "\n",
    "ridge = Ridge(alpha=1000, random_state=42)\n",
    "ridge.fit(X_train, y_train)\n",
    "y_pred = ridge.predict(X_test)\n",
    "cv_scores.append(weighted_smape(y_test, y_pred))\n",
    "\n",
    "dummy = DummyRegressor(strategy=\"mean\")\n",
    "dummy.fit(X_train, y_train)\n",
    "y_pred = dummy.predict(X_test)\n",
    "cv_scores.append(weighted_smape(y_test, y_pred))"
   ]
  },
  {
   "cell_type": "markdown",
   "metadata": {},
   "source": [
    "Результаты проверки моделей на тестовой выборке приведены в таблице ниже."
   ]
  },
  {
   "cell_type": "code",
   "execution_count": 35,
   "metadata": {},
   "outputs": [
    {
     "data": {
      "text/html": [
       "<div>\n",
       "<style scoped>\n",
       "    .dataframe tbody tr th:only-of-type {\n",
       "        vertical-align: middle;\n",
       "    }\n",
       "\n",
       "    .dataframe tbody tr th {\n",
       "        vertical-align: top;\n",
       "    }\n",
       "\n",
       "    .dataframe thead th {\n",
       "        text-align: right;\n",
       "    }\n",
       "</style>\n",
       "<table border=\"1\" class=\"dataframe\">\n",
       "  <thead>\n",
       "    <tr style=\"text-align: right;\">\n",
       "      <th></th>\n",
       "      <th>sMAPE</th>\n",
       "    </tr>\n",
       "  </thead>\n",
       "  <tbody>\n",
       "    <tr>\n",
       "      <th>Linear Regression</th>\n",
       "      <td>7.183387</td>\n",
       "    </tr>\n",
       "    <tr>\n",
       "      <th>Lasso</th>\n",
       "      <td>6.263457</td>\n",
       "    </tr>\n",
       "    <tr>\n",
       "      <th>Ridge</th>\n",
       "      <td>6.896952</td>\n",
       "    </tr>\n",
       "    <tr>\n",
       "      <th>Dummy</th>\n",
       "      <td>7.649474</td>\n",
       "    </tr>\n",
       "  </tbody>\n",
       "</table>\n",
       "</div>"
      ],
      "text/plain": [
       "                      sMAPE\n",
       "Linear Regression  7.183387\n",
       "Lasso              6.263457\n",
       "Ridge              6.896952\n",
       "Dummy              7.649474"
      ]
     },
     "execution_count": 35,
     "metadata": {},
     "output_type": "execute_result"
    }
   ],
   "source": [
    "pd.DataFrame(cv_scores, columns=[\"sMAPE\"], index=[\"Linear Regression\", \n",
    "                                                  \"Lasso\", \"Ridge\", \"Dummy\"])"
   ]
  },
  {
   "cell_type": "markdown",
   "metadata": {},
   "source": [
    "Модель `Lasso` оказалась лучшей и на тестовой выборке. При этом на тестовой выборке все модели лучше, чем `DummyRegressor`.\n",
    "\n",
    "<a id=\"4\"></a>\n",
    "## 4. Заключение\n",
    "В проекте были выполнены:\n",
    "* предобработка данных;\n",
    "* исследование концентрации металлов на различных стадиях очистки;\n",
    "* исследование суммарных концентраций всех веществ в материале на различных этапах;\n",
    "* исследование различных моделей машинного обучения для определения значений эффективности обогащения чернового концентрата и эффективности обогащения финального концентрата;\n",
    "* проверка лучшей модели (`Lasso`) на тестовой выборке."
   ]
  }
 ],
 "metadata": {
  "ExecuteTimeLog": [
   {
    "duration": 542,
    "start_time": "2022-03-07T13:56:22.120Z"
   },
   {
    "duration": 4036,
    "start_time": "2022-03-07T13:57:28.968Z"
   },
   {
    "duration": 24,
    "start_time": "2022-03-07T13:57:41.054Z"
   },
   {
    "duration": 14,
    "start_time": "2022-03-07T14:10:08.943Z"
   },
   {
    "duration": 5,
    "start_time": "2022-03-07T14:11:12.473Z"
   },
   {
    "duration": 3,
    "start_time": "2022-03-07T14:13:57.068Z"
   },
   {
    "duration": 12,
    "start_time": "2022-03-07T14:15:21.408Z"
   },
   {
    "duration": 9,
    "start_time": "2022-03-07T14:15:56.548Z"
   },
   {
    "duration": 9,
    "start_time": "2022-03-07T14:16:05.020Z"
   },
   {
    "duration": 9,
    "start_time": "2022-03-07T14:16:09.257Z"
   },
   {
    "duration": 723,
    "start_time": "2022-03-09T10:28:52.007Z"
   },
   {
    "duration": 855,
    "start_time": "2022-03-09T10:28:52.733Z"
   },
   {
    "duration": 15,
    "start_time": "2022-03-09T10:28:53.591Z"
   },
   {
    "duration": 13,
    "start_time": "2022-03-09T10:29:01.793Z"
   },
   {
    "duration": 66,
    "start_time": "2022-03-09T10:29:30.579Z"
   },
   {
    "duration": 343,
    "start_time": "2022-03-09T10:34:18.979Z"
   },
   {
    "duration": 13,
    "start_time": "2022-03-09T10:34:19.569Z"
   },
   {
    "duration": 298,
    "start_time": "2022-03-09T10:34:32.306Z"
   },
   {
    "duration": 3,
    "start_time": "2022-03-09T10:37:14.275Z"
   },
   {
    "duration": 13,
    "start_time": "2022-03-09T10:37:19.123Z"
   },
   {
    "duration": 4,
    "start_time": "2022-03-09T10:37:45.251Z"
   },
   {
    "duration": 14,
    "start_time": "2022-03-09T10:37:45.891Z"
   },
   {
    "duration": 17,
    "start_time": "2022-03-09T10:41:04.196Z"
   },
   {
    "duration": 7,
    "start_time": "2022-03-09T10:41:27.460Z"
   },
   {
    "duration": 6561,
    "start_time": "2022-03-09T10:48:35.254Z"
   },
   {
    "duration": 4,
    "start_time": "2022-03-09T10:48:57.645Z"
   },
   {
    "duration": 9,
    "start_time": "2022-03-09T10:49:28.550Z"
   },
   {
    "duration": 6651,
    "start_time": "2022-03-09T10:49:47.878Z"
   },
   {
    "duration": 7,
    "start_time": "2022-03-09T10:49:55.751Z"
   },
   {
    "duration": 10,
    "start_time": "2022-03-09T10:49:59.590Z"
   },
   {
    "duration": 346,
    "start_time": "2022-03-09T10:50:14.327Z"
   },
   {
    "duration": 7,
    "start_time": "2022-03-09T10:50:20.070Z"
   },
   {
    "duration": 8,
    "start_time": "2022-03-09T10:50:35.814Z"
   },
   {
    "duration": 8,
    "start_time": "2022-03-09T10:50:39.350Z"
   },
   {
    "duration": 5,
    "start_time": "2022-03-09T10:52:54.679Z"
   },
   {
    "duration": 6,
    "start_time": "2022-03-09T10:53:03.159Z"
   },
   {
    "duration": 7,
    "start_time": "2022-03-09T10:53:32.375Z"
   },
   {
    "duration": 8,
    "start_time": "2022-03-09T10:53:39.894Z"
   },
   {
    "duration": 6,
    "start_time": "2022-03-09T10:53:53.143Z"
   },
   {
    "duration": 289,
    "start_time": "2022-03-09T10:53:59.928Z"
   },
   {
    "duration": 7,
    "start_time": "2022-03-09T10:54:28.663Z"
   },
   {
    "duration": 6,
    "start_time": "2022-03-09T10:54:39.032Z"
   },
   {
    "duration": 6,
    "start_time": "2022-03-09T10:54:44.664Z"
   },
   {
    "duration": 8,
    "start_time": "2022-03-09T10:54:53.111Z"
   },
   {
    "duration": 10,
    "start_time": "2022-03-09T11:25:58.768Z"
   },
   {
    "duration": 5,
    "start_time": "2022-03-09T11:26:26.128Z"
   },
   {
    "duration": 273,
    "start_time": "2022-03-09T11:26:32.560Z"
   },
   {
    "duration": 71,
    "start_time": "2022-03-09T11:26:45.648Z"
   },
   {
    "duration": 17,
    "start_time": "2022-03-09T11:26:50.272Z"
   },
   {
    "duration": 260,
    "start_time": "2022-03-09T11:27:13.296Z"
   },
   {
    "duration": 8,
    "start_time": "2022-03-09T11:27:17.680Z"
   },
   {
    "duration": 6,
    "start_time": "2022-03-09T11:27:29.328Z"
   },
   {
    "duration": 701,
    "start_time": "2022-03-09T11:27:44.208Z"
   },
   {
    "duration": 673,
    "start_time": "2022-03-09T11:27:49.088Z"
   },
   {
    "duration": 9,
    "start_time": "2022-03-09T11:28:00.576Z"
   },
   {
    "duration": 93,
    "start_time": "2022-03-09T11:28:11.728Z"
   },
   {
    "duration": 114,
    "start_time": "2022-03-09T11:28:14.017Z"
   },
   {
    "duration": 4,
    "start_time": "2022-03-09T11:37:18.435Z"
   },
   {
    "duration": 133,
    "start_time": "2022-03-09T11:37:18.676Z"
   },
   {
    "duration": 132,
    "start_time": "2022-03-09T11:37:25.587Z"
   },
   {
    "duration": 383,
    "start_time": "2022-03-09T11:42:26.326Z"
   },
   {
    "duration": 337,
    "start_time": "2022-03-09T11:42:33.364Z"
   },
   {
    "duration": 4,
    "start_time": "2022-03-09T11:43:18.485Z"
   },
   {
    "duration": 23,
    "start_time": "2022-03-09T11:43:57.253Z"
   },
   {
    "duration": 26,
    "start_time": "2022-03-09T11:44:16.149Z"
   },
   {
    "duration": 5,
    "start_time": "2022-03-09T11:44:27.109Z"
   },
   {
    "duration": 300,
    "start_time": "2022-03-09T11:47:43.030Z"
   },
   {
    "duration": 262,
    "start_time": "2022-03-09T11:48:26.886Z"
   },
   {
    "duration": 7,
    "start_time": "2022-03-09T11:48:31.815Z"
   },
   {
    "duration": 19,
    "start_time": "2022-03-09T11:48:46.998Z"
   },
   {
    "duration": 17,
    "start_time": "2022-03-09T11:49:09.862Z"
   },
   {
    "duration": 178,
    "start_time": "2022-03-09T11:49:17.896Z"
   },
   {
    "duration": 230,
    "start_time": "2022-03-09T11:49:34.839Z"
   },
   {
    "duration": 3,
    "start_time": "2022-03-09T11:50:17.831Z"
   },
   {
    "duration": 40219,
    "start_time": "2022-03-09T11:50:35.895Z"
   },
   {
    "duration": 16138,
    "start_time": "2022-03-09T11:51:33.544Z"
   },
   {
    "duration": 309,
    "start_time": "2022-03-09T11:51:59.079Z"
   },
   {
    "duration": 26,
    "start_time": "2022-03-09T11:52:02.200Z"
   },
   {
    "duration": 288,
    "start_time": "2022-03-09T11:53:21.208Z"
   },
   {
    "duration": 65307,
    "start_time": "2022-03-09T11:52:16.193Z"
   },
   {
    "duration": 9,
    "start_time": "2022-03-09T11:55:15.688Z"
   },
   {
    "duration": 270,
    "start_time": "2022-03-09T11:55:17.640Z"
   },
   {
    "duration": 26,
    "start_time": "2022-03-09T11:55:21.863Z"
   },
   {
    "duration": 309,
    "start_time": "2022-03-09T11:55:26.393Z"
   },
   {
    "duration": 550,
    "start_time": "2022-03-09T11:55:44.264Z"
   },
   {
    "duration": 605,
    "start_time": "2022-03-09T11:55:47.817Z"
   },
   {
    "duration": 296,
    "start_time": "2022-03-09T11:56:29.208Z"
   },
   {
    "duration": 276,
    "start_time": "2022-03-09T11:56:53.513Z"
   },
   {
    "duration": 283,
    "start_time": "2022-03-09T11:56:57.787Z"
   },
   {
    "duration": 21,
    "start_time": "2022-03-09T11:57:01.112Z"
   },
   {
    "duration": 26,
    "start_time": "2022-03-09T11:57:09.160Z"
   },
   {
    "duration": 236,
    "start_time": "2022-03-09T11:57:21.112Z"
   },
   {
    "duration": 8,
    "start_time": "2022-03-09T11:57:34.793Z"
   },
   {
    "duration": 363,
    "start_time": "2022-03-09T11:57:46.890Z"
   },
   {
    "duration": 105,
    "start_time": "2022-03-09T11:58:16.569Z"
   },
   {
    "duration": 344,
    "start_time": "2022-03-09T12:04:48.955Z"
   },
   {
    "duration": 309,
    "start_time": "2022-03-09T12:05:57.356Z"
   },
   {
    "duration": 7,
    "start_time": "2022-03-09T12:06:28.140Z"
   },
   {
    "duration": 355,
    "start_time": "2022-03-09T12:08:08.463Z"
   },
   {
    "duration": 4214,
    "start_time": "2022-03-09T12:09:20.636Z"
   },
   {
    "duration": 68,
    "start_time": "2022-03-09T12:09:27.421Z"
   },
   {
    "duration": 365,
    "start_time": "2022-03-09T12:09:43.868Z"
   },
   {
    "duration": 65323,
    "start_time": "2022-03-09T12:21:01.553Z"
   },
   {
    "duration": 63,
    "start_time": "2022-03-09T12:22:07.888Z"
   },
   {
    "duration": 3902,
    "start_time": "2022-03-09T12:22:28.368Z"
   },
   {
    "duration": 8,
    "start_time": "2022-03-09T12:22:34.784Z"
   },
   {
    "duration": 8,
    "start_time": "2022-03-09T12:22:43.712Z"
   },
   {
    "duration": 6383,
    "start_time": "2022-03-09T12:26:04.273Z"
   },
   {
    "duration": 12004,
    "start_time": "2022-03-09T12:26:14.097Z"
   },
   {
    "duration": 8,
    "start_time": "2022-03-09T12:26:38.449Z"
   },
   {
    "duration": 8,
    "start_time": "2022-03-09T12:28:33.730Z"
   },
   {
    "duration": 7,
    "start_time": "2022-03-09T12:29:21.682Z"
   },
   {
    "duration": 813,
    "start_time": "2022-03-09T17:54:38.237Z"
   },
   {
    "duration": 848,
    "start_time": "2022-03-09T17:54:39.053Z"
   },
   {
    "duration": 13,
    "start_time": "2022-03-09T17:54:39.904Z"
   },
   {
    "duration": 48,
    "start_time": "2022-03-09T17:54:39.919Z"
   },
   {
    "duration": 3,
    "start_time": "2022-03-09T17:54:40.307Z"
   },
   {
    "duration": 22,
    "start_time": "2022-03-09T17:54:41.333Z"
   },
   {
    "duration": 6,
    "start_time": "2022-03-09T17:54:46.073Z"
   },
   {
    "duration": 4,
    "start_time": "2022-03-09T17:54:46.290Z"
   },
   {
    "duration": 6,
    "start_time": "2022-03-09T17:54:47.789Z"
   },
   {
    "duration": 7,
    "start_time": "2022-03-09T17:54:49.338Z"
   },
   {
    "duration": 7,
    "start_time": "2022-03-09T17:54:55.493Z"
   },
   {
    "duration": 8,
    "start_time": "2022-03-09T17:54:55.670Z"
   },
   {
    "duration": 30,
    "start_time": "2022-03-09T17:54:58.481Z"
   },
   {
    "duration": 7,
    "start_time": "2022-03-09T17:54:58.654Z"
   },
   {
    "duration": 6,
    "start_time": "2022-03-09T17:54:59.398Z"
   },
   {
    "duration": 8,
    "start_time": "2022-03-09T17:55:00.549Z"
   },
   {
    "duration": 33,
    "start_time": "2022-03-09T17:55:01.783Z"
   },
   {
    "duration": 5,
    "start_time": "2022-03-09T17:55:02.600Z"
   },
   {
    "duration": 119,
    "start_time": "2022-03-09T17:55:07.585Z"
   },
   {
    "duration": 10,
    "start_time": "2022-03-09T17:55:07.891Z"
   },
   {
    "duration": 368,
    "start_time": "2022-03-09T17:55:08.587Z"
   },
   {
    "duration": 7,
    "start_time": "2022-03-09T17:55:34.002Z"
   },
   {
    "duration": 6,
    "start_time": "2022-03-09T17:55:37.440Z"
   },
   {
    "duration": 7,
    "start_time": "2022-03-09T17:55:43.021Z"
   },
   {
    "duration": 9,
    "start_time": "2022-03-09T17:55:46.119Z"
   },
   {
    "duration": 9,
    "start_time": "2022-03-09T17:56:48.712Z"
   },
   {
    "duration": 8,
    "start_time": "2022-03-09T17:57:11.766Z"
   },
   {
    "duration": 7,
    "start_time": "2022-03-09T17:57:23.271Z"
   },
   {
    "duration": 8,
    "start_time": "2022-03-09T17:57:39.269Z"
   },
   {
    "duration": 737,
    "start_time": "2022-03-10T07:46:43.142Z"
   },
   {
    "duration": 842,
    "start_time": "2022-03-10T07:46:43.882Z"
   },
   {
    "duration": 14,
    "start_time": "2022-03-10T07:46:44.727Z"
   },
   {
    "duration": 39,
    "start_time": "2022-03-10T07:46:44.744Z"
   },
   {
    "duration": 18,
    "start_time": "2022-03-10T07:46:45.591Z"
   },
   {
    "duration": 6,
    "start_time": "2022-03-10T07:46:47.287Z"
   },
   {
    "duration": 5,
    "start_time": "2022-03-10T07:46:48.905Z"
   },
   {
    "duration": 6,
    "start_time": "2022-03-10T07:46:49.398Z"
   },
   {
    "duration": 7,
    "start_time": "2022-03-10T07:46:50.391Z"
   },
   {
    "duration": 7,
    "start_time": "2022-03-10T07:46:50.871Z"
   },
   {
    "duration": 8,
    "start_time": "2022-03-10T07:46:52.102Z"
   },
   {
    "duration": 31,
    "start_time": "2022-03-10T07:46:53.319Z"
   },
   {
    "duration": 8,
    "start_time": "2022-03-10T07:46:54.263Z"
   },
   {
    "duration": 7506,
    "start_time": "2022-03-10T07:46:55.751Z"
   },
   {
    "duration": 7,
    "start_time": "2022-03-10T07:47:10.920Z"
   },
   {
    "duration": 11,
    "start_time": "2022-03-10T07:47:12.439Z"
   },
   {
    "duration": 5,
    "start_time": "2022-03-10T07:49:14.647Z"
   },
   {
    "duration": 6,
    "start_time": "2022-03-10T07:49:19.048Z"
   },
   {
    "duration": 5,
    "start_time": "2022-03-10T07:49:28.232Z"
   },
   {
    "duration": 7,
    "start_time": "2022-03-10T07:49:28.552Z"
   },
   {
    "duration": 6,
    "start_time": "2022-03-10T07:50:07.640Z"
   },
   {
    "duration": 394,
    "start_time": "2022-03-10T07:57:02.074Z"
   },
   {
    "duration": 519,
    "start_time": "2022-03-10T07:57:09.893Z"
   },
   {
    "duration": 523,
    "start_time": "2022-03-10T07:57:21.450Z"
   },
   {
    "duration": 480,
    "start_time": "2022-03-10T07:57:31.580Z"
   },
   {
    "duration": 476,
    "start_time": "2022-03-10T07:57:36.874Z"
   },
   {
    "duration": 7,
    "start_time": "2022-03-10T08:11:57.567Z"
   },
   {
    "duration": 468,
    "start_time": "2022-03-10T08:12:00.399Z"
   },
   {
    "duration": 6,
    "start_time": "2022-03-10T08:12:28.527Z"
   },
   {
    "duration": 660,
    "start_time": "2022-03-10T08:12:38.750Z"
   },
   {
    "duration": 753,
    "start_time": "2022-03-10T08:12:50.767Z"
   },
   {
    "duration": 681,
    "start_time": "2022-03-10T08:13:06.559Z"
   },
   {
    "duration": 788,
    "start_time": "2022-03-10T08:13:14.863Z"
   },
   {
    "duration": 8,
    "start_time": "2022-03-10T08:13:41.775Z"
   },
   {
    "duration": 1005,
    "start_time": "2022-03-10T08:13:50.402Z"
   },
   {
    "duration": 25,
    "start_time": "2022-03-10T08:23:14.161Z"
   },
   {
    "duration": 754,
    "start_time": "2022-03-10T10:05:47.016Z"
   },
   {
    "duration": 930,
    "start_time": "2022-03-10T10:05:53.159Z"
   },
   {
    "duration": 6,
    "start_time": "2022-03-10T11:11:48.503Z"
   },
   {
    "duration": 5,
    "start_time": "2022-03-10T11:12:28.855Z"
   },
   {
    "duration": 1137,
    "start_time": "2022-03-10T11:12:32.679Z"
   },
   {
    "duration": 1248,
    "start_time": "2022-03-10T11:12:48.679Z"
   },
   {
    "duration": 1096,
    "start_time": "2022-03-10T11:13:04.711Z"
   },
   {
    "duration": 1156,
    "start_time": "2022-03-10T11:13:14.248Z"
   },
   {
    "duration": 1214,
    "start_time": "2022-03-10T11:22:56.122Z"
   },
   {
    "duration": 1091,
    "start_time": "2022-03-10T11:23:07.818Z"
   },
   {
    "duration": 1452,
    "start_time": "2022-03-10T11:24:28.187Z"
   },
   {
    "duration": 3,
    "start_time": "2022-03-10T11:24:35.067Z"
   },
   {
    "duration": 1379,
    "start_time": "2022-03-10T11:24:37.579Z"
   },
   {
    "duration": 1428,
    "start_time": "2022-03-10T11:25:01.355Z"
   },
   {
    "duration": 1201,
    "start_time": "2022-03-10T11:25:15.322Z"
   },
   {
    "duration": 1382,
    "start_time": "2022-03-10T11:25:26.315Z"
   },
   {
    "duration": 25,
    "start_time": "2022-03-10T11:32:27.180Z"
   },
   {
    "duration": 30,
    "start_time": "2022-03-10T11:32:45.245Z"
   },
   {
    "duration": 15,
    "start_time": "2022-03-10T11:33:36.061Z"
   },
   {
    "duration": 24,
    "start_time": "2022-03-10T11:34:23.629Z"
   },
   {
    "duration": 26,
    "start_time": "2022-03-10T11:34:32.108Z"
   },
   {
    "duration": 25,
    "start_time": "2022-03-10T11:34:56.781Z"
   },
   {
    "duration": 28,
    "start_time": "2022-03-10T11:35:39.533Z"
   },
   {
    "duration": 26,
    "start_time": "2022-03-10T11:35:49.552Z"
   },
   {
    "duration": 308,
    "start_time": "2022-03-10T11:44:35.744Z"
   },
   {
    "duration": 5,
    "start_time": "2022-03-10T11:45:48.464Z"
   },
   {
    "duration": 1419,
    "start_time": "2022-03-10T11:45:53.792Z"
   },
   {
    "duration": 1384,
    "start_time": "2022-03-10T11:46:19.472Z"
   },
   {
    "duration": 1914,
    "start_time": "2022-03-10T11:46:29.664Z"
   },
   {
    "duration": 389,
    "start_time": "2022-03-10T11:47:17.392Z"
   },
   {
    "duration": 281,
    "start_time": "2022-03-10T11:50:19.858Z"
   },
   {
    "duration": 5,
    "start_time": "2022-03-10T11:50:23.905Z"
   },
   {
    "duration": 7,
    "start_time": "2022-03-10T11:53:37.682Z"
   },
   {
    "duration": 292,
    "start_time": "2022-03-10T11:53:54.131Z"
   },
   {
    "duration": 7,
    "start_time": "2022-03-10T11:54:04.674Z"
   },
   {
    "duration": 7,
    "start_time": "2022-03-10T11:54:10.706Z"
   },
   {
    "duration": 1362,
    "start_time": "2022-03-10T11:54:22.098Z"
   },
   {
    "duration": 453,
    "start_time": "2022-03-10T11:54:45.971Z"
   },
   {
    "duration": 89,
    "start_time": "2022-03-10T11:54:57.283Z"
   },
   {
    "duration": 569,
    "start_time": "2022-03-10T11:55:00.227Z"
   },
   {
    "duration": 724,
    "start_time": "2022-03-10T11:55:09.800Z"
   },
   {
    "duration": 1018,
    "start_time": "2022-03-10T11:55:26.515Z"
   },
   {
    "duration": 1021,
    "start_time": "2022-03-10T11:55:34.739Z"
   },
   {
    "duration": 1001,
    "start_time": "2022-03-10T11:55:46.307Z"
   },
   {
    "duration": 1122,
    "start_time": "2022-03-10T12:06:32.789Z"
   },
   {
    "duration": 30,
    "start_time": "2022-03-10T12:07:44.182Z"
   },
   {
    "duration": 1475,
    "start_time": "2022-03-10T17:03:12.149Z"
   },
   {
    "duration": 861,
    "start_time": "2022-03-10T17:03:13.627Z"
   },
   {
    "duration": 8,
    "start_time": "2022-03-10T17:16:46.864Z"
   },
   {
    "duration": 24,
    "start_time": "2022-03-10T17:16:51.379Z"
   },
   {
    "duration": 373,
    "start_time": "2022-03-10T17:17:24.601Z"
   },
   {
    "duration": 67,
    "start_time": "2022-03-10T17:17:31.998Z"
   },
   {
    "duration": 14,
    "start_time": "2022-03-10T17:18:03.620Z"
   },
   {
    "duration": 4,
    "start_time": "2022-03-10T17:22:06.551Z"
   },
   {
    "duration": 5,
    "start_time": "2022-03-10T17:22:20.760Z"
   },
   {
    "duration": 1089,
    "start_time": "2022-03-11T06:58:57.913Z"
   },
   {
    "duration": 710,
    "start_time": "2022-03-11T07:33:58.908Z"
   },
   {
    "duration": 6,
    "start_time": "2022-03-11T07:33:59.620Z"
   },
   {
    "duration": 58,
    "start_time": "2022-03-11T07:34:01.116Z"
   },
   {
    "duration": 237,
    "start_time": "2022-03-11T07:35:07.518Z"
   },
   {
    "duration": 17,
    "start_time": "2022-03-11T07:35:27.453Z"
   },
   {
    "duration": 2,
    "start_time": "2022-03-11T07:37:21.614Z"
   },
   {
    "duration": 4,
    "start_time": "2022-03-11T08:02:24.263Z"
   },
   {
    "duration": 132,
    "start_time": "2022-03-11T08:03:36.071Z"
   },
   {
    "duration": 136,
    "start_time": "2022-03-11T08:03:45.066Z"
   },
   {
    "duration": 140,
    "start_time": "2022-03-11T08:04:07.623Z"
   },
   {
    "duration": 4,
    "start_time": "2022-03-11T08:07:32.056Z"
   },
   {
    "duration": 13,
    "start_time": "2022-03-11T08:13:32.826Z"
   },
   {
    "duration": 113,
    "start_time": "2022-03-11T08:14:27.593Z"
   },
   {
    "duration": 111,
    "start_time": "2022-03-11T08:14:31.995Z"
   },
   {
    "duration": 12,
    "start_time": "2022-03-11T08:16:37.755Z"
   },
   {
    "duration": 28,
    "start_time": "2022-03-11T08:18:50.395Z"
   },
   {
    "duration": 13,
    "start_time": "2022-03-11T08:24:13.805Z"
   },
   {
    "duration": 13,
    "start_time": "2022-03-11T08:26:37.326Z"
   },
   {
    "duration": 12,
    "start_time": "2022-03-11T08:26:43.967Z"
   },
   {
    "duration": 12,
    "start_time": "2022-03-11T08:30:06.751Z"
   },
   {
    "duration": 14,
    "start_time": "2022-03-11T08:30:32.831Z"
   },
   {
    "duration": 47,
    "start_time": "2022-03-11T08:42:00.771Z"
   },
   {
    "duration": 8,
    "start_time": "2022-03-11T08:42:10.994Z"
   },
   {
    "duration": 5,
    "start_time": "2022-03-11T08:45:10.532Z"
   },
   {
    "duration": 128,
    "start_time": "2022-03-11T08:52:03.207Z"
   },
   {
    "duration": 126,
    "start_time": "2022-03-11T08:52:13.334Z"
   },
   {
    "duration": 122,
    "start_time": "2022-03-11T08:52:18.119Z"
   },
   {
    "duration": 128,
    "start_time": "2022-03-11T08:52:39.174Z"
   },
   {
    "duration": 6,
    "start_time": "2022-03-11T08:55:20.023Z"
   },
   {
    "duration": 534,
    "start_time": "2022-03-11T08:55:20.919Z"
   },
   {
    "duration": 7,
    "start_time": "2022-03-11T09:47:27.469Z"
   },
   {
    "duration": 29,
    "start_time": "2022-03-11T09:47:33.005Z"
   },
   {
    "duration": 15,
    "start_time": "2022-03-11T09:47:36.446Z"
   },
   {
    "duration": 13,
    "start_time": "2022-03-11T09:48:13.581Z"
   },
   {
    "duration": 3,
    "start_time": "2022-03-11T09:50:27.694Z"
   },
   {
    "duration": 28,
    "start_time": "2022-03-11T09:50:37.150Z"
   },
   {
    "duration": 186,
    "start_time": "2022-03-11T09:50:54.846Z"
   },
   {
    "duration": 738,
    "start_time": "2022-03-11T09:51:13.454Z"
   },
   {
    "duration": 18,
    "start_time": "2022-03-11T09:51:24.350Z"
   },
   {
    "duration": 33,
    "start_time": "2022-03-11T09:53:04.270Z"
   },
   {
    "duration": 7,
    "start_time": "2022-03-11T09:53:42.943Z"
   },
   {
    "duration": 10,
    "start_time": "2022-03-11T09:53:45.198Z"
   },
   {
    "duration": 3,
    "start_time": "2022-03-11T09:54:01.199Z"
   },
   {
    "duration": 3,
    "start_time": "2022-03-11T09:54:10.079Z"
   },
   {
    "duration": 163,
    "start_time": "2022-03-11T09:54:16.799Z"
   },
   {
    "duration": 16,
    "start_time": "2022-03-11T09:55:06.607Z"
   },
   {
    "duration": 220,
    "start_time": "2022-03-11T09:55:08.623Z"
   },
   {
    "duration": 139,
    "start_time": "2022-03-11T09:55:37.119Z"
   },
   {
    "duration": 6,
    "start_time": "2022-03-11T09:55:56.527Z"
   },
   {
    "duration": 5,
    "start_time": "2022-03-11T09:56:24.767Z"
   },
   {
    "duration": 21,
    "start_time": "2022-03-11T09:56:30.495Z"
   },
   {
    "duration": 6,
    "start_time": "2022-03-11T09:56:37.296Z"
   },
   {
    "duration": 21,
    "start_time": "2022-03-11T09:56:48.928Z"
   },
   {
    "duration": 10,
    "start_time": "2022-03-11T09:57:05.984Z"
   },
   {
    "duration": 498,
    "start_time": "2022-03-11T09:57:25.154Z"
   },
   {
    "duration": 300,
    "start_time": "2022-03-11T09:57:36.351Z"
   },
   {
    "duration": 7,
    "start_time": "2022-03-11T09:57:39.344Z"
   },
   {
    "duration": 3247,
    "start_time": "2022-03-11T09:57:42.672Z"
   },
   {
    "duration": 21,
    "start_time": "2022-03-11T09:58:04.128Z"
   },
   {
    "duration": 21,
    "start_time": "2022-03-11T09:58:07.440Z"
   },
   {
    "duration": 9,
    "start_time": "2022-03-11T09:58:29.088Z"
   },
   {
    "duration": 8,
    "start_time": "2022-03-11T09:59:05.745Z"
   },
   {
    "duration": 685,
    "start_time": "2022-03-11T10:15:25.753Z"
   },
   {
    "duration": 16,
    "start_time": "2022-03-11T10:15:33.237Z"
   },
   {
    "duration": 17,
    "start_time": "2022-03-11T10:15:34.437Z"
   },
   {
    "duration": 4,
    "start_time": "2022-03-11T10:15:43.269Z"
   },
   {
    "duration": 6,
    "start_time": "2022-03-11T10:16:22.294Z"
   },
   {
    "duration": 278,
    "start_time": "2022-03-11T10:16:26.837Z"
   },
   {
    "duration": 294,
    "start_time": "2022-03-11T10:18:12.103Z"
   },
   {
    "duration": 310,
    "start_time": "2022-03-11T10:18:19.015Z"
   },
   {
    "duration": 304,
    "start_time": "2022-03-11T10:18:33.665Z"
   },
   {
    "duration": 304,
    "start_time": "2022-03-11T10:20:23.160Z"
   },
   {
    "duration": 4,
    "start_time": "2022-03-11T10:24:19.434Z"
   },
   {
    "duration": 356,
    "start_time": "2022-03-11T10:24:23.722Z"
   },
   {
    "duration": 734,
    "start_time": "2022-03-11T10:30:10.204Z"
   },
   {
    "duration": 5,
    "start_time": "2022-03-11T10:30:34.110Z"
   },
   {
    "duration": 203,
    "start_time": "2022-03-11T10:30:39.581Z"
   },
   {
    "duration": 227,
    "start_time": "2022-03-11T10:30:48.365Z"
   },
   {
    "duration": 20,
    "start_time": "2022-03-11T10:31:00.973Z"
   },
   {
    "duration": 29,
    "start_time": "2022-03-11T10:31:05.773Z"
   },
   {
    "duration": 730,
    "start_time": "2022-03-11T10:31:23.292Z"
   },
   {
    "duration": 21,
    "start_time": "2022-03-11T10:31:35.549Z"
   },
   {
    "duration": 31,
    "start_time": "2022-03-11T10:31:40.157Z"
   },
   {
    "duration": 18,
    "start_time": "2022-03-11T10:31:47.789Z"
   },
   {
    "duration": 3,
    "start_time": "2022-03-11T10:33:37.662Z"
   },
   {
    "duration": 422,
    "start_time": "2022-03-11T10:36:30.448Z"
   },
   {
    "duration": 382,
    "start_time": "2022-03-11T10:36:57.584Z"
   },
   {
    "duration": 826,
    "start_time": "2022-03-11T10:43:17.362Z"
   },
   {
    "duration": 3,
    "start_time": "2022-03-11T10:43:21.762Z"
   },
   {
    "duration": 804,
    "start_time": "2022-03-11T10:43:55.155Z"
   },
   {
    "duration": 4,
    "start_time": "2022-03-11T10:44:08.930Z"
   },
   {
    "duration": 7,
    "start_time": "2022-03-11T10:44:17.346Z"
   },
   {
    "duration": 825,
    "start_time": "2022-03-11T10:45:06.723Z"
   },
   {
    "duration": 835,
    "start_time": "2022-03-11T10:45:19.747Z"
   },
   {
    "duration": 398,
    "start_time": "2022-03-11T10:45:33.491Z"
   },
   {
    "duration": 408,
    "start_time": "2022-03-11T10:45:40.035Z"
   },
   {
    "duration": 128,
    "start_time": "2022-03-11T10:45:46.884Z"
   },
   {
    "duration": 644,
    "start_time": "2022-03-11T10:45:51.107Z"
   },
   {
    "duration": 342,
    "start_time": "2022-03-11T10:46:09.139Z"
   },
   {
    "duration": 353,
    "start_time": "2022-03-11T10:46:15.315Z"
   },
   {
    "duration": 1571,
    "start_time": "2022-03-11T10:46:35.060Z"
   },
   {
    "duration": 3099,
    "start_time": "2022-03-11T10:46:44.435Z"
   },
   {
    "duration": 781,
    "start_time": "2022-03-11T10:47:31.684Z"
   },
   {
    "duration": 864,
    "start_time": "2022-03-11T10:48:19.877Z"
   },
   {
    "duration": 856,
    "start_time": "2022-03-11T10:48:24.788Z"
   },
   {
    "duration": 858,
    "start_time": "2022-03-11T10:49:32.309Z"
   },
   {
    "duration": 852,
    "start_time": "2022-03-11T10:49:53.269Z"
   },
   {
    "duration": 1108,
    "start_time": "2022-03-11T10:51:34.198Z"
   },
   {
    "duration": 802,
    "start_time": "2022-03-11T10:52:36.102Z"
   },
   {
    "duration": 1303,
    "start_time": "2022-03-11T11:02:58.732Z"
   },
   {
    "duration": 911,
    "start_time": "2022-03-11T11:03:34.651Z"
   },
   {
    "duration": 1258,
    "start_time": "2022-03-11T11:03:38.539Z"
   },
   {
    "duration": 2155,
    "start_time": "2022-03-11T11:04:38.363Z"
   },
   {
    "duration": 2402,
    "start_time": "2022-03-11T11:04:49.084Z"
   },
   {
    "duration": 793,
    "start_time": "2022-03-11T11:06:38.556Z"
   },
   {
    "duration": 3,
    "start_time": "2022-03-11T11:07:41.533Z"
   },
   {
    "duration": 842,
    "start_time": "2022-03-11T11:09:37.358Z"
   },
   {
    "duration": 3,
    "start_time": "2022-03-11T11:10:23.761Z"
   },
   {
    "duration": 838,
    "start_time": "2022-03-11T11:10:27.794Z"
   },
   {
    "duration": 838,
    "start_time": "2022-03-11T11:12:11.347Z"
   },
   {
    "duration": 814,
    "start_time": "2022-03-11T11:12:18.563Z"
   },
   {
    "duration": 826,
    "start_time": "2022-03-11T11:12:24.851Z"
   },
   {
    "duration": 825,
    "start_time": "2022-03-11T11:12:31.011Z"
   },
   {
    "duration": 1171,
    "start_time": "2022-03-11T11:12:37.651Z"
   },
   {
    "duration": 831,
    "start_time": "2022-03-11T11:12:49.715Z"
   },
   {
    "duration": 825,
    "start_time": "2022-03-11T11:13:06.275Z"
   },
   {
    "duration": 863,
    "start_time": "2022-03-11T11:13:14.643Z"
   },
   {
    "duration": 817,
    "start_time": "2022-03-11T11:13:18.467Z"
   },
   {
    "duration": 847,
    "start_time": "2022-03-11T11:13:35.299Z"
   },
   {
    "duration": 803,
    "start_time": "2022-03-11T11:13:41.315Z"
   },
   {
    "duration": 821,
    "start_time": "2022-03-11T11:13:46.467Z"
   },
   {
    "duration": 1086,
    "start_time": "2022-03-11T11:14:58.212Z"
   },
   {
    "duration": 805,
    "start_time": "2022-03-11T11:15:03.876Z"
   },
   {
    "duration": 803,
    "start_time": "2022-03-11T11:15:07.174Z"
   },
   {
    "duration": 12,
    "start_time": "2022-03-11T11:19:46.598Z"
   },
   {
    "duration": 7,
    "start_time": "2022-03-11T11:19:50.006Z"
   },
   {
    "duration": 9,
    "start_time": "2022-03-11T11:20:07.190Z"
   },
   {
    "duration": 136,
    "start_time": "2022-03-11T11:20:16.822Z"
   },
   {
    "duration": 147,
    "start_time": "2022-03-11T11:20:20.294Z"
   },
   {
    "duration": 7,
    "start_time": "2022-03-11T11:20:22.695Z"
   },
   {
    "duration": 4,
    "start_time": "2022-03-11T11:31:37.899Z"
   },
   {
    "duration": 2993,
    "start_time": "2022-03-11T11:32:26.443Z"
   },
   {
    "duration": 5,
    "start_time": "2022-03-11T11:32:57.468Z"
   },
   {
    "duration": 11,
    "start_time": "2022-03-11T11:32:58.844Z"
   },
   {
    "duration": 6,
    "start_time": "2022-03-11T11:33:03.372Z"
   },
   {
    "duration": 10,
    "start_time": "2022-03-11T11:33:11.195Z"
   },
   {
    "duration": 5,
    "start_time": "2022-03-11T11:33:12.716Z"
   },
   {
    "duration": 9,
    "start_time": "2022-03-11T11:33:23.372Z"
   },
   {
    "duration": 4,
    "start_time": "2022-03-11T11:35:01.182Z"
   },
   {
    "duration": 11,
    "start_time": "2022-03-11T11:35:02.861Z"
   },
   {
    "duration": 10,
    "start_time": "2022-03-11T11:35:03.052Z"
   },
   {
    "duration": 8,
    "start_time": "2022-03-11T11:35:34.653Z"
   },
   {
    "duration": 10,
    "start_time": "2022-03-11T11:37:01.790Z"
   },
   {
    "duration": 4,
    "start_time": "2022-03-11T11:38:04.814Z"
   },
   {
    "duration": 348,
    "start_time": "2022-03-11T11:38:12.318Z"
   },
   {
    "duration": 272,
    "start_time": "2022-03-11T11:38:53.153Z"
   },
   {
    "duration": 425,
    "start_time": "2022-03-11T11:39:20.719Z"
   },
   {
    "duration": 464,
    "start_time": "2022-03-11T11:39:27.967Z"
   },
   {
    "duration": 399,
    "start_time": "2022-03-11T11:39:32.735Z"
   },
   {
    "duration": 262,
    "start_time": "2022-03-11T11:39:46.462Z"
   },
   {
    "duration": 261,
    "start_time": "2022-03-11T11:39:48.926Z"
   },
   {
    "duration": 4,
    "start_time": "2022-03-11T11:47:05.508Z"
   },
   {
    "duration": 4,
    "start_time": "2022-03-11T11:47:10.786Z"
   },
   {
    "duration": 5,
    "start_time": "2022-03-11T11:48:22.742Z"
   },
   {
    "duration": 9,
    "start_time": "2022-03-11T11:48:29.122Z"
   },
   {
    "duration": 4,
    "start_time": "2022-03-11T11:48:30.675Z"
   },
   {
    "duration": 275,
    "start_time": "2022-03-11T11:48:31.270Z"
   },
   {
    "duration": 368,
    "start_time": "2022-03-11T11:52:08.532Z"
   },
   {
    "duration": 274,
    "start_time": "2022-03-11T11:52:18.356Z"
   },
   {
    "duration": 259,
    "start_time": "2022-03-11T11:53:56.421Z"
   },
   {
    "duration": 10,
    "start_time": "2022-03-11T11:54:16.901Z"
   },
   {
    "duration": 7,
    "start_time": "2022-03-11T12:06:38.681Z"
   },
   {
    "duration": 322,
    "start_time": "2022-03-11T12:06:46.602Z"
   },
   {
    "duration": 311,
    "start_time": "2022-03-11T12:06:52.458Z"
   },
   {
    "duration": 331,
    "start_time": "2022-03-11T12:07:02.313Z"
   },
   {
    "duration": 327,
    "start_time": "2022-03-11T12:07:08.697Z"
   },
   {
    "duration": 332,
    "start_time": "2022-03-11T12:07:31.129Z"
   },
   {
    "duration": 341,
    "start_time": "2022-03-11T12:07:38.761Z"
   },
   {
    "duration": 617,
    "start_time": "2022-03-11T12:07:42.942Z"
   },
   {
    "duration": 338,
    "start_time": "2022-03-11T12:08:05.353Z"
   },
   {
    "duration": 413,
    "start_time": "2022-03-11T12:08:23.210Z"
   },
   {
    "duration": 510,
    "start_time": "2022-03-11T12:09:01.866Z"
   },
   {
    "duration": 810,
    "start_time": "2022-03-11T12:09:05.801Z"
   },
   {
    "duration": 400,
    "start_time": "2022-03-11T12:09:12.411Z"
   },
   {
    "duration": 387,
    "start_time": "2022-03-11T12:09:27.514Z"
   },
   {
    "duration": 654,
    "start_time": "2022-03-11T12:11:32.906Z"
   },
   {
    "duration": 662,
    "start_time": "2022-03-11T12:11:38.938Z"
   },
   {
    "duration": 43,
    "start_time": "2022-03-11T12:11:42.251Z"
   },
   {
    "duration": 659,
    "start_time": "2022-03-11T12:11:47.386Z"
   },
   {
    "duration": 656,
    "start_time": "2022-03-11T12:11:58.634Z"
   },
   {
    "duration": 997,
    "start_time": "2022-03-11T12:12:02.314Z"
   },
   {
    "duration": 1464,
    "start_time": "2022-03-11T12:12:19.370Z"
   },
   {
    "duration": 964,
    "start_time": "2022-03-11T12:12:27.210Z"
   },
   {
    "duration": 988,
    "start_time": "2022-03-11T12:13:22.554Z"
   },
   {
    "duration": 978,
    "start_time": "2022-03-11T12:13:41.626Z"
   },
   {
    "duration": 5,
    "start_time": "2022-03-11T12:21:37.774Z"
   },
   {
    "duration": 13,
    "start_time": "2022-03-11T12:24:09.422Z"
   },
   {
    "duration": 1051,
    "start_time": "2022-03-11T12:24:14.910Z"
   },
   {
    "duration": 399,
    "start_time": "2022-03-11T12:25:24.286Z"
   },
   {
    "duration": 988,
    "start_time": "2022-03-11T12:25:31.614Z"
   },
   {
    "duration": 126,
    "start_time": "2022-03-11T12:27:11.791Z"
   },
   {
    "duration": 711,
    "start_time": "2022-03-11T12:27:21.551Z"
   },
   {
    "duration": 134,
    "start_time": "2022-03-11T12:27:30.591Z"
   },
   {
    "duration": 730,
    "start_time": "2022-03-11T12:27:34.608Z"
   },
   {
    "duration": 189,
    "start_time": "2022-03-11T12:27:43.119Z"
   },
   {
    "duration": 741,
    "start_time": "2022-03-11T12:27:44.926Z"
   },
   {
    "duration": 243,
    "start_time": "2022-03-11T12:30:51.104Z"
   },
   {
    "duration": 475,
    "start_time": "2022-03-11T12:30:54.608Z"
   },
   {
    "duration": 656,
    "start_time": "2022-03-11T12:31:02.944Z"
   },
   {
    "duration": 646,
    "start_time": "2022-03-11T12:31:07.008Z"
   },
   {
    "duration": 651,
    "start_time": "2022-03-11T12:31:18.480Z"
   },
   {
    "duration": 828,
    "start_time": "2022-03-11T12:32:00.113Z"
   },
   {
    "duration": 743,
    "start_time": "2022-03-11T12:33:00.145Z"
   },
   {
    "duration": 1264,
    "start_time": "2022-03-11T12:33:05.346Z"
   },
   {
    "duration": 750,
    "start_time": "2022-03-11T12:33:34.049Z"
   },
   {
    "duration": 56,
    "start_time": "2022-03-11T12:33:41.713Z"
   },
   {
    "duration": 696,
    "start_time": "2022-03-11T12:33:51.235Z"
   },
   {
    "duration": 804,
    "start_time": "2022-03-11T12:35:46.562Z"
   },
   {
    "duration": 5097,
    "start_time": "2022-03-11T12:36:43.746Z"
   },
   {
    "duration": 2901,
    "start_time": "2022-03-11T12:36:54.099Z"
   },
   {
    "duration": 784,
    "start_time": "2022-03-11T12:39:08.611Z"
   },
   {
    "duration": 539,
    "start_time": "2022-03-11T12:39:16.162Z"
   },
   {
    "duration": 611,
    "start_time": "2022-03-11T12:39:24.963Z"
   },
   {
    "duration": 774,
    "start_time": "2022-03-11T12:39:57.938Z"
   },
   {
    "duration": 532,
    "start_time": "2022-03-11T12:40:04.563Z"
   },
   {
    "duration": 798,
    "start_time": "2022-03-11T12:40:28.042Z"
   },
   {
    "duration": 541,
    "start_time": "2022-03-11T12:40:34.146Z"
   },
   {
    "duration": 514,
    "start_time": "2022-03-11T12:40:37.970Z"
   },
   {
    "duration": 16,
    "start_time": "2022-03-11T12:40:45.266Z"
   },
   {
    "duration": 814,
    "start_time": "2022-03-11T12:40:47.714Z"
   },
   {
    "duration": 1107,
    "start_time": "2022-03-11T17:34:31.419Z"
   },
   {
    "duration": 739,
    "start_time": "2022-03-11T17:34:34.045Z"
   },
   {
    "duration": 3,
    "start_time": "2022-03-11T17:34:34.786Z"
   },
   {
    "duration": 66,
    "start_time": "2022-03-11T17:34:39.157Z"
   },
   {
    "duration": 22,
    "start_time": "2022-03-11T17:34:40.470Z"
   },
   {
    "duration": 17,
    "start_time": "2022-03-11T17:34:41.947Z"
   },
   {
    "duration": 18,
    "start_time": "2022-03-11T17:34:43.031Z"
   },
   {
    "duration": 17,
    "start_time": "2022-03-11T17:34:44.187Z"
   },
   {
    "duration": 6,
    "start_time": "2022-03-11T17:35:01.095Z"
   },
   {
    "duration": 4,
    "start_time": "2022-03-11T17:35:05.668Z"
   },
   {
    "duration": 121,
    "start_time": "2022-03-11T17:37:54.675Z"
   },
   {
    "duration": 19,
    "start_time": "2022-03-11T17:37:56.605Z"
   },
   {
    "duration": 16,
    "start_time": "2022-03-11T17:37:57.680Z"
   },
   {
    "duration": 3,
    "start_time": "2022-03-11T17:38:28.998Z"
   },
   {
    "duration": 675,
    "start_time": "2022-03-11T17:38:29.249Z"
   },
   {
    "duration": 479,
    "start_time": "2022-03-11T17:38:33.561Z"
   },
   {
    "duration": 454,
    "start_time": "2022-03-11T17:38:35.052Z"
   },
   {
    "duration": 14,
    "start_time": "2022-03-11T17:38:48.357Z"
   },
   {
    "duration": 311,
    "start_time": "2022-03-11T17:38:48.722Z"
   },
   {
    "duration": 338,
    "start_time": "2022-03-11T17:38:58.220Z"
   },
   {
    "duration": 335,
    "start_time": "2022-03-11T17:39:20.206Z"
   },
   {
    "duration": 331,
    "start_time": "2022-03-11T17:39:32.253Z"
   },
   {
    "duration": 848,
    "start_time": "2022-03-11T17:39:41.637Z"
   },
   {
    "duration": 969,
    "start_time": "2022-03-11T17:39:49.423Z"
   },
   {
    "duration": 594,
    "start_time": "2022-03-11T17:40:09.811Z"
   },
   {
    "duration": 341,
    "start_time": "2022-03-11T17:44:28.927Z"
   },
   {
    "duration": 347,
    "start_time": "2022-03-11T17:44:35.520Z"
   },
   {
    "duration": 712,
    "start_time": "2022-03-11T17:45:28.194Z"
   },
   {
    "duration": 585,
    "start_time": "2022-03-11T17:45:34.080Z"
   },
   {
    "duration": 22,
    "start_time": "2022-03-11T17:45:53.400Z"
   },
   {
    "duration": 18,
    "start_time": "2022-03-11T17:45:54.072Z"
   },
   {
    "duration": 3,
    "start_time": "2022-03-11T17:55:22.659Z"
   },
   {
    "duration": 9,
    "start_time": "2022-03-11T17:56:10.853Z"
   },
   {
    "duration": 9,
    "start_time": "2022-03-11T17:56:42.057Z"
   },
   {
    "duration": 8,
    "start_time": "2022-03-11T17:59:27.495Z"
   },
   {
    "duration": 667,
    "start_time": "2022-03-11T18:02:10.198Z"
   },
   {
    "duration": 311,
    "start_time": "2022-03-11T18:02:55.525Z"
   },
   {
    "duration": 548,
    "start_time": "2022-03-11T18:03:03.413Z"
   },
   {
    "duration": 442,
    "start_time": "2022-03-11T18:03:09.442Z"
   },
   {
    "duration": 451,
    "start_time": "2022-03-11T18:03:22.049Z"
   },
   {
    "duration": 618,
    "start_time": "2022-03-11T18:03:35.309Z"
   },
   {
    "duration": 667,
    "start_time": "2022-03-11T18:03:57.058Z"
   },
   {
    "duration": 694,
    "start_time": "2022-03-11T18:04:26.271Z"
   },
   {
    "duration": 650,
    "start_time": "2022-03-11T18:16:55.120Z"
   },
   {
    "duration": 714,
    "start_time": "2022-03-11T18:17:33.900Z"
   },
   {
    "duration": 1110,
    "start_time": "2022-03-11T18:17:40.398Z"
   },
   {
    "duration": 705,
    "start_time": "2022-03-11T18:17:46.149Z"
   },
   {
    "duration": 695,
    "start_time": "2022-03-11T18:17:54.956Z"
   },
   {
    "duration": 644,
    "start_time": "2022-03-11T18:18:28.219Z"
   },
   {
    "duration": 361,
    "start_time": "2022-03-11T18:18:43.377Z"
   },
   {
    "duration": 352,
    "start_time": "2022-03-11T18:18:58.769Z"
   },
   {
    "duration": 1094,
    "start_time": "2022-03-12T09:16:55.423Z"
   },
   {
    "duration": 721,
    "start_time": "2022-03-12T09:16:56.519Z"
   },
   {
    "duration": 4,
    "start_time": "2022-03-12T09:16:57.434Z"
   },
   {
    "duration": 57,
    "start_time": "2022-03-12T09:16:58.424Z"
   },
   {
    "duration": 17,
    "start_time": "2022-03-12T09:16:59.394Z"
   },
   {
    "duration": 11,
    "start_time": "2022-03-12T09:17:00.271Z"
   },
   {
    "duration": 14,
    "start_time": "2022-03-12T09:17:01.264Z"
   },
   {
    "duration": 18,
    "start_time": "2022-03-12T09:17:02.386Z"
   },
   {
    "duration": 6,
    "start_time": "2022-03-12T09:17:04.095Z"
   },
   {
    "duration": 4,
    "start_time": "2022-03-12T09:17:06.103Z"
   },
   {
    "duration": 127,
    "start_time": "2022-03-12T09:17:08.083Z"
   },
   {
    "duration": 17,
    "start_time": "2022-03-12T09:17:09.124Z"
   },
   {
    "duration": 18,
    "start_time": "2022-03-12T09:17:10.480Z"
   },
   {
    "duration": 4,
    "start_time": "2022-03-12T09:17:12.684Z"
   },
   {
    "duration": 812,
    "start_time": "2022-03-12T09:17:13.393Z"
   },
   {
    "duration": 547,
    "start_time": "2022-03-12T09:17:14.504Z"
   },
   {
    "duration": 523,
    "start_time": "2022-03-12T09:17:15.374Z"
   },
   {
    "duration": 15,
    "start_time": "2022-03-12T09:17:16.775Z"
   },
   {
    "duration": 335,
    "start_time": "2022-03-12T09:17:17.365Z"
   },
   {
    "duration": 394,
    "start_time": "2022-03-12T09:17:20.302Z"
   },
   {
    "duration": 396,
    "start_time": "2022-03-12T09:17:31.963Z"
   },
   {
    "duration": 2,
    "start_time": "2022-03-12T09:17:50.534Z"
   },
   {
    "duration": 449,
    "start_time": "2022-03-12T09:18:14.095Z"
   },
   {
    "duration": 484,
    "start_time": "2022-03-12T09:18:21.497Z"
   },
   {
    "duration": 435,
    "start_time": "2022-03-12T09:18:58.841Z"
   },
   {
    "duration": 557,
    "start_time": "2022-03-12T09:19:01.744Z"
   },
   {
    "duration": 508,
    "start_time": "2022-03-12T09:21:25.691Z"
   },
   {
    "duration": 494,
    "start_time": "2022-03-12T09:21:34.436Z"
   },
   {
    "duration": 795,
    "start_time": "2022-03-12T09:22:33.594Z"
   },
   {
    "duration": 898,
    "start_time": "2022-03-12T09:22:39.181Z"
   },
   {
    "duration": 5,
    "start_time": "2022-03-12T09:23:05.008Z"
   },
   {
    "duration": 5,
    "start_time": "2022-03-12T09:23:10.425Z"
   },
   {
    "duration": 5,
    "start_time": "2022-03-12T09:23:15.320Z"
   },
   {
    "duration": 5,
    "start_time": "2022-03-12T09:23:21.038Z"
   },
   {
    "duration": 810,
    "start_time": "2022-03-12T09:23:30.629Z"
   },
   {
    "duration": 773,
    "start_time": "2022-03-12T09:24:41.170Z"
   },
   {
    "duration": 782,
    "start_time": "2022-03-12T09:24:53.184Z"
   },
   {
    "duration": 3,
    "start_time": "2022-03-12T09:32:14.838Z"
   },
   {
    "duration": 2,
    "start_time": "2022-03-12T09:32:36.307Z"
   },
   {
    "duration": 4,
    "start_time": "2022-03-12T09:32:41.685Z"
   },
   {
    "duration": 14,
    "start_time": "2022-03-12T09:32:54.276Z"
   },
   {
    "duration": 4,
    "start_time": "2022-03-12T09:34:39.719Z"
   },
   {
    "duration": 4,
    "start_time": "2022-03-12T09:36:01.859Z"
   },
   {
    "duration": 79,
    "start_time": "2022-03-12T09:36:04.188Z"
   },
   {
    "duration": 321,
    "start_time": "2022-03-12T09:36:07.807Z"
   },
   {
    "duration": 242,
    "start_time": "2022-03-12T09:37:32.129Z"
   },
   {
    "duration": 4,
    "start_time": "2022-03-12T09:37:43.146Z"
   },
   {
    "duration": 417,
    "start_time": "2022-03-12T09:38:03.284Z"
   },
   {
    "duration": 13,
    "start_time": "2022-03-12T09:38:08.688Z"
   },
   {
    "duration": 13,
    "start_time": "2022-03-12T09:38:18.920Z"
   },
   {
    "duration": -529,
    "start_time": "2022-03-12T09:38:28.404Z"
   },
   {
    "duration": 13,
    "start_time": "2022-03-12T09:38:29.798Z"
   },
   {
    "duration": 6,
    "start_time": "2022-03-12T09:38:33.820Z"
   },
   {
    "duration": 8,
    "start_time": "2022-03-12T09:38:37.895Z"
   },
   {
    "duration": 11,
    "start_time": "2022-03-12T09:38:49.275Z"
   },
   {
    "duration": 380,
    "start_time": "2022-03-12T09:39:36.170Z"
   },
   {
    "duration": 903,
    "start_time": "2022-03-12T09:39:49.804Z"
   },
   {
    "duration": 954,
    "start_time": "2022-03-12T09:39:59.200Z"
   },
   {
    "duration": 1166,
    "start_time": "2022-03-12T09:40:38.341Z"
   },
   {
    "duration": 1090,
    "start_time": "2022-03-12T09:40:49.674Z"
   },
   {
    "duration": 4,
    "start_time": "2022-03-12T09:41:25.179Z"
   },
   {
    "duration": 4,
    "start_time": "2022-03-12T09:41:38.714Z"
   },
   {
    "duration": 6,
    "start_time": "2022-03-12T09:42:29.864Z"
   },
   {
    "duration": 362,
    "start_time": "2022-03-12T09:42:37.274Z"
   },
   {
    "duration": 608,
    "start_time": "2022-03-12T09:42:46.860Z"
   },
   {
    "duration": 481,
    "start_time": "2022-03-12T09:42:53.844Z"
   },
   {
    "duration": 4,
    "start_time": "2022-03-12T09:44:32.157Z"
   },
   {
    "duration": 4,
    "start_time": "2022-03-12T09:44:36.791Z"
   },
   {
    "duration": 5,
    "start_time": "2022-03-12T09:44:39.801Z"
   },
   {
    "duration": 6,
    "start_time": "2022-03-12T09:45:04.557Z"
   },
   {
    "duration": 5,
    "start_time": "2022-03-12T09:45:06.541Z"
   },
   {
    "duration": 5,
    "start_time": "2022-03-12T09:45:08.803Z"
   },
   {
    "duration": 1091,
    "start_time": "2022-03-12T10:13:59.657Z"
   },
   {
    "duration": 1230,
    "start_time": "2022-03-12T10:14:02.639Z"
   },
   {
    "duration": 1125,
    "start_time": "2022-03-12T10:15:22.317Z"
   },
   {
    "duration": 1295,
    "start_time": "2022-03-12T10:15:34.697Z"
   },
   {
    "duration": 241,
    "start_time": "2022-03-12T10:21:22.600Z"
   },
   {
    "duration": 1126,
    "start_time": "2022-03-12T10:22:06.786Z"
   },
   {
    "duration": 2,
    "start_time": "2022-03-12T10:26:19.013Z"
   },
   {
    "duration": 2,
    "start_time": "2022-03-12T10:40:51.759Z"
   },
   {
    "duration": 13,
    "start_time": "2022-03-12T12:28:08.741Z"
   },
   {
    "duration": 10,
    "start_time": "2022-03-12T12:28:11.833Z"
   },
   {
    "duration": 4,
    "start_time": "2022-03-12T12:28:15.818Z"
   },
   {
    "duration": 4,
    "start_time": "2022-03-12T12:28:52.026Z"
   },
   {
    "duration": 4,
    "start_time": "2022-03-12T12:29:02.867Z"
   },
   {
    "duration": 9,
    "start_time": "2022-03-12T12:29:06.099Z"
   },
   {
    "duration": 5,
    "start_time": "2022-03-12T12:37:37.995Z"
   },
   {
    "duration": 5,
    "start_time": "2022-03-12T12:37:45.744Z"
   },
   {
    "duration": 5,
    "start_time": "2022-03-12T12:37:50.227Z"
   },
   {
    "duration": 6,
    "start_time": "2022-03-12T12:37:55.370Z"
   },
   {
    "duration": 5,
    "start_time": "2022-03-12T12:37:59.217Z"
   },
   {
    "duration": 6,
    "start_time": "2022-03-12T12:39:01.186Z"
   },
   {
    "duration": 4,
    "start_time": "2022-03-12T12:39:14.544Z"
   },
   {
    "duration": 5,
    "start_time": "2022-03-12T12:55:23.335Z"
   },
   {
    "duration": 15,
    "start_time": "2022-03-12T12:56:00.486Z"
   },
   {
    "duration": 7,
    "start_time": "2022-03-12T12:56:02.201Z"
   },
   {
    "duration": 43,
    "start_time": "2022-03-12T12:56:06.070Z"
   },
   {
    "duration": 3,
    "start_time": "2022-03-12T12:56:07.935Z"
   },
   {
    "duration": 67,
    "start_time": "2022-03-12T12:56:09.995Z"
   },
   {
    "duration": 10,
    "start_time": "2022-03-12T13:04:56.555Z"
   },
   {
    "duration": 4,
    "start_time": "2022-03-12T13:04:59.951Z"
   },
   {
    "duration": 5,
    "start_time": "2022-03-12T13:05:05.676Z"
   },
   {
    "duration": 260,
    "start_time": "2022-03-12T13:06:10.165Z"
   },
   {
    "duration": 5,
    "start_time": "2022-03-12T13:07:02.856Z"
   },
   {
    "duration": 5,
    "start_time": "2022-03-12T13:10:46.171Z"
   },
   {
    "duration": 4,
    "start_time": "2022-03-12T13:10:59.148Z"
   },
   {
    "duration": 10,
    "start_time": "2022-03-12T13:11:07.041Z"
   },
   {
    "duration": 6,
    "start_time": "2022-03-12T13:11:15.024Z"
   },
   {
    "duration": 5,
    "start_time": "2022-03-12T13:11:42.069Z"
   },
   {
    "duration": 3,
    "start_time": "2022-03-12T13:11:51.098Z"
   },
   {
    "duration": 5,
    "start_time": "2022-03-12T13:11:51.319Z"
   },
   {
    "duration": 4,
    "start_time": "2022-03-12T13:12:18.328Z"
   },
   {
    "duration": 3,
    "start_time": "2022-03-12T13:12:27.065Z"
   },
   {
    "duration": 6,
    "start_time": "2022-03-12T13:12:27.885Z"
   },
   {
    "duration": 10,
    "start_time": "2022-03-12T13:12:53.914Z"
   },
   {
    "duration": 3,
    "start_time": "2022-03-12T13:13:03.288Z"
   },
   {
    "duration": 6,
    "start_time": "2022-03-12T13:13:06.204Z"
   },
   {
    "duration": 4,
    "start_time": "2022-03-12T13:13:25.513Z"
   },
   {
    "duration": 6,
    "start_time": "2022-03-12T13:13:27.431Z"
   },
   {
    "duration": 10,
    "start_time": "2022-03-12T13:13:39.593Z"
   },
   {
    "duration": 4,
    "start_time": "2022-03-12T13:13:46.351Z"
   },
   {
    "duration": 10,
    "start_time": "2022-03-12T13:13:47.481Z"
   },
   {
    "duration": 4,
    "start_time": "2022-03-12T13:14:15.150Z"
   },
   {
    "duration": 10,
    "start_time": "2022-03-12T13:14:17.362Z"
   },
   {
    "duration": 69,
    "start_time": "2022-03-12T13:14:44.034Z"
   },
   {
    "duration": 4,
    "start_time": "2022-03-12T13:14:48.546Z"
   },
   {
    "duration": 15,
    "start_time": "2022-03-12T13:14:50.274Z"
   },
   {
    "duration": 6,
    "start_time": "2022-03-12T13:15:00.867Z"
   },
   {
    "duration": 5,
    "start_time": "2022-03-12T13:15:30.365Z"
   },
   {
    "duration": 5,
    "start_time": "2022-03-12T13:15:31.076Z"
   },
   {
    "duration": 4,
    "start_time": "2022-03-12T13:16:42.569Z"
   },
   {
    "duration": 6,
    "start_time": "2022-03-12T13:16:46.187Z"
   },
   {
    "duration": 3,
    "start_time": "2022-03-12T13:16:49.340Z"
   },
   {
    "duration": 6,
    "start_time": "2022-03-12T13:16:49.837Z"
   },
   {
    "duration": 5,
    "start_time": "2022-03-12T13:17:27.856Z"
   },
   {
    "duration": 12,
    "start_time": "2022-03-12T13:17:48.028Z"
   },
   {
    "duration": 5,
    "start_time": "2022-03-12T13:18:06.991Z"
   },
   {
    "duration": 12,
    "start_time": "2022-03-12T13:18:28.537Z"
   },
   {
    "duration": 16,
    "start_time": "2022-03-12T13:19:01.739Z"
   },
   {
    "duration": 10,
    "start_time": "2022-03-12T13:20:29.047Z"
   },
   {
    "duration": 3,
    "start_time": "2022-03-12T13:20:40.321Z"
   },
   {
    "duration": 265,
    "start_time": "2022-03-12T13:20:58.971Z"
   },
   {
    "duration": 3,
    "start_time": "2022-03-12T13:21:06.680Z"
   },
   {
    "duration": 5,
    "start_time": "2022-03-12T13:21:09.521Z"
   },
   {
    "duration": 8,
    "start_time": "2022-03-12T13:21:27.889Z"
   },
   {
    "duration": 5,
    "start_time": "2022-03-12T13:21:31.874Z"
   },
   {
    "duration": 5,
    "start_time": "2022-03-12T13:21:37.812Z"
   },
   {
    "duration": 5,
    "start_time": "2022-03-12T13:21:45.959Z"
   },
   {
    "duration": 5,
    "start_time": "2022-03-12T13:22:07.399Z"
   },
   {
    "duration": 256,
    "start_time": "2022-03-12T13:31:32.276Z"
   },
   {
    "duration": 435,
    "start_time": "2022-03-12T13:31:37.660Z"
   },
   {
    "duration": 5,
    "start_time": "2022-03-12T13:31:51.144Z"
   },
   {
    "duration": 4,
    "start_time": "2022-03-12T13:32:44.870Z"
   },
   {
    "duration": 230,
    "start_time": "2022-03-12T13:32:46.713Z"
   },
   {
    "duration": 476,
    "start_time": "2022-03-12T13:32:50.067Z"
   },
   {
    "duration": 3,
    "start_time": "2022-03-12T13:32:56.293Z"
   },
   {
    "duration": 4,
    "start_time": "2022-03-12T13:32:59.037Z"
   },
   {
    "duration": 221,
    "start_time": "2022-03-12T13:38:38.818Z"
   },
   {
    "duration": 3,
    "start_time": "2022-03-12T13:38:50.446Z"
   },
   {
    "duration": 5,
    "start_time": "2022-03-12T13:40:39.633Z"
   },
   {
    "duration": 5,
    "start_time": "2022-03-12T13:42:11.678Z"
   },
   {
    "duration": 4,
    "start_time": "2022-03-12T13:42:39.609Z"
   },
   {
    "duration": 4,
    "start_time": "2022-03-12T13:42:40.996Z"
   },
   {
    "duration": 3,
    "start_time": "2022-03-12T13:44:47.974Z"
   },
   {
    "duration": 5,
    "start_time": "2022-03-12T13:44:51.010Z"
   },
   {
    "duration": 4,
    "start_time": "2022-03-12T13:49:09.270Z"
   },
   {
    "duration": 5,
    "start_time": "2022-03-12T13:49:11.885Z"
   },
   {
    "duration": 4,
    "start_time": "2022-03-12T13:49:37.298Z"
   },
   {
    "duration": 5,
    "start_time": "2022-03-12T13:49:39.205Z"
   },
   {
    "duration": 4,
    "start_time": "2022-03-12T13:50:07.964Z"
   },
   {
    "duration": 6,
    "start_time": "2022-03-12T13:50:09.005Z"
   },
   {
    "duration": 4,
    "start_time": "2022-03-12T13:51:40.425Z"
   },
   {
    "duration": 4,
    "start_time": "2022-03-12T13:51:47.011Z"
   },
   {
    "duration": 4,
    "start_time": "2022-03-12T13:52:03.065Z"
   },
   {
    "duration": 4,
    "start_time": "2022-03-12T13:52:16.064Z"
   },
   {
    "duration": 4,
    "start_time": "2022-03-12T13:52:19.409Z"
   },
   {
    "duration": 3,
    "start_time": "2022-03-12T13:52:42.427Z"
   },
   {
    "duration": 4,
    "start_time": "2022-03-12T13:52:46.560Z"
   },
   {
    "duration": 4,
    "start_time": "2022-03-12T13:52:52.523Z"
   },
   {
    "duration": 3,
    "start_time": "2022-03-12T13:53:14.223Z"
   },
   {
    "duration": 62,
    "start_time": "2022-03-12T13:58:59.497Z"
   },
   {
    "duration": 14,
    "start_time": "2022-03-12T13:59:09.292Z"
   },
   {
    "duration": 519,
    "start_time": "2022-03-12T14:00:12.739Z"
   },
   {
    "duration": 14,
    "start_time": "2022-03-12T14:00:35.009Z"
   },
   {
    "duration": 3,
    "start_time": "2022-03-12T14:01:03.363Z"
   },
   {
    "duration": 6,
    "start_time": "2022-03-12T14:01:23.413Z"
   },
   {
    "duration": 14,
    "start_time": "2022-03-12T14:02:09.801Z"
   },
   {
    "duration": 11,
    "start_time": "2022-03-12T14:02:39.758Z"
   },
   {
    "duration": 50,
    "start_time": "2022-03-12T14:03:22.575Z"
   },
   {
    "duration": 26,
    "start_time": "2022-03-12T14:03:37.731Z"
   },
   {
    "duration": 25,
    "start_time": "2022-03-12T14:03:40.936Z"
   },
   {
    "duration": 4,
    "start_time": "2022-03-12T14:03:46.751Z"
   },
   {
    "duration": 70,
    "start_time": "2022-03-12T14:04:21.391Z"
   },
   {
    "duration": 43,
    "start_time": "2022-03-12T14:04:24.318Z"
   },
   {
    "duration": 17,
    "start_time": "2022-03-12T14:04:34.459Z"
   },
   {
    "duration": 23,
    "start_time": "2022-03-12T14:04:51.471Z"
   },
   {
    "duration": 3,
    "start_time": "2022-03-12T14:04:55.674Z"
   },
   {
    "duration": 5,
    "start_time": "2022-03-12T14:04:56.573Z"
   },
   {
    "duration": 22,
    "start_time": "2022-03-12T14:04:57.956Z"
   },
   {
    "duration": 5,
    "start_time": "2022-03-12T14:04:58.703Z"
   },
   {
    "duration": 23,
    "start_time": "2022-03-12T14:05:03.258Z"
   },
   {
    "duration": 2,
    "start_time": "2022-03-12T14:05:05.555Z"
   },
   {
    "duration": 175,
    "start_time": "2022-03-12T14:05:10.690Z"
   },
   {
    "duration": 105,
    "start_time": "2022-03-12T14:05:13.255Z"
   },
   {
    "duration": 19,
    "start_time": "2022-03-12T14:05:15.105Z"
   },
   {
    "duration": 22,
    "start_time": "2022-03-12T14:05:41.947Z"
   },
   {
    "duration": 2,
    "start_time": "2022-03-12T14:05:51.285Z"
   },
   {
    "duration": 3,
    "start_time": "2022-03-12T14:05:51.596Z"
   },
   {
    "duration": 63,
    "start_time": "2022-03-12T14:05:52.397Z"
   },
   {
    "duration": 87,
    "start_time": "2022-03-12T14:05:52.974Z"
   },
   {
    "duration": 18,
    "start_time": "2022-03-12T14:05:54.205Z"
   },
   {
    "duration": 3,
    "start_time": "2022-03-12T14:06:16.228Z"
   },
   {
    "duration": 3,
    "start_time": "2022-03-12T14:06:40.355Z"
   },
   {
    "duration": 163,
    "start_time": "2022-03-12T14:06:41.797Z"
   },
   {
    "duration": 25,
    "start_time": "2022-03-12T14:06:44.045Z"
   },
   {
    "duration": 17,
    "start_time": "2022-03-12T14:06:46.483Z"
   },
   {
    "duration": 3,
    "start_time": "2022-03-12T14:06:53.939Z"
   },
   {
    "duration": 248,
    "start_time": "2022-03-12T14:06:55.120Z"
   },
   {
    "duration": 83,
    "start_time": "2022-03-12T14:06:57.078Z"
   },
   {
    "duration": 107,
    "start_time": "2022-03-12T14:06:58.155Z"
   },
   {
    "duration": 3,
    "start_time": "2022-03-12T14:07:10.793Z"
   },
   {
    "duration": 86,
    "start_time": "2022-03-12T14:07:11.179Z"
   },
   {
    "duration": 54,
    "start_time": "2022-03-12T14:07:12.307Z"
   },
   {
    "duration": 2,
    "start_time": "2022-03-12T14:07:20.714Z"
   },
   {
    "duration": 89,
    "start_time": "2022-03-12T14:07:21.572Z"
   },
   {
    "duration": 56,
    "start_time": "2022-03-12T14:07:22.404Z"
   },
   {
    "duration": 4,
    "start_time": "2022-03-12T14:07:28.381Z"
   },
   {
    "duration": 81,
    "start_time": "2022-03-12T14:07:29.180Z"
   },
   {
    "duration": 67,
    "start_time": "2022-03-12T14:07:29.894Z"
   },
   {
    "duration": 3,
    "start_time": "2022-03-12T14:07:35.978Z"
   },
   {
    "duration": 21,
    "start_time": "2022-03-12T14:07:37.149Z"
   },
   {
    "duration": 53,
    "start_time": "2022-03-12T14:07:38.008Z"
   },
   {
    "duration": 3,
    "start_time": "2022-03-12T14:07:41.271Z"
   },
   {
    "duration": 11,
    "start_time": "2022-03-12T14:07:41.631Z"
   },
   {
    "duration": 47,
    "start_time": "2022-03-12T14:07:41.913Z"
   },
   {
    "duration": 3,
    "start_time": "2022-03-12T14:07:44.810Z"
   },
   {
    "duration": 46,
    "start_time": "2022-03-12T14:07:44.815Z"
   },
   {
    "duration": 46,
    "start_time": "2022-03-12T14:07:45.714Z"
   },
   {
    "duration": 3,
    "start_time": "2022-03-12T14:07:51.337Z"
   },
   {
    "duration": 87,
    "start_time": "2022-03-12T14:07:51.674Z"
   },
   {
    "duration": 59,
    "start_time": "2022-03-12T14:07:52.003Z"
   },
   {
    "duration": 3,
    "start_time": "2022-03-12T14:07:54.900Z"
   },
   {
    "duration": 23,
    "start_time": "2022-03-12T14:07:55.339Z"
   },
   {
    "duration": 47,
    "start_time": "2022-03-12T14:07:55.614Z"
   },
   {
    "duration": 3,
    "start_time": "2022-03-12T14:07:58.043Z"
   },
   {
    "duration": 64,
    "start_time": "2022-03-12T14:07:58.298Z"
   },
   {
    "duration": 99,
    "start_time": "2022-03-12T14:07:58.762Z"
   },
   {
    "duration": 3,
    "start_time": "2022-03-12T14:08:01.479Z"
   },
   {
    "duration": 27,
    "start_time": "2022-03-12T14:08:02.336Z"
   },
   {
    "duration": 101,
    "start_time": "2022-03-12T14:08:02.560Z"
   },
   {
    "duration": 3,
    "start_time": "2022-03-12T14:08:06.689Z"
   },
   {
    "duration": 71,
    "start_time": "2022-03-12T14:08:06.892Z"
   },
   {
    "duration": 68,
    "start_time": "2022-03-12T14:08:07.492Z"
   },
   {
    "duration": 2,
    "start_time": "2022-03-12T14:08:11.954Z"
   },
   {
    "duration": 91,
    "start_time": "2022-03-12T14:08:12.170Z"
   },
   {
    "duration": 60,
    "start_time": "2022-03-12T14:08:13.001Z"
   },
   {
    "duration": 3,
    "start_time": "2022-03-12T14:08:18.744Z"
   },
   {
    "duration": 48,
    "start_time": "2022-03-12T14:08:19.214Z"
   },
   {
    "duration": 66,
    "start_time": "2022-03-12T14:08:19.893Z"
   },
   {
    "duration": 3,
    "start_time": "2022-03-12T14:08:23.524Z"
   },
   {
    "duration": 3,
    "start_time": "2022-03-12T14:08:25.457Z"
   },
   {
    "duration": 88,
    "start_time": "2022-03-12T14:08:26.975Z"
   },
   {
    "duration": 197,
    "start_time": "2022-03-12T14:08:27.067Z"
   },
   {
    "duration": 3,
    "start_time": "2022-03-12T14:08:30.681Z"
   },
   {
    "duration": 12,
    "start_time": "2022-03-12T14:08:30.924Z"
   },
   {
    "duration": 23,
    "start_time": "2022-03-12T14:08:31.453Z"
   },
   {
    "duration": 3,
    "start_time": "2022-03-12T14:08:34.811Z"
   },
   {
    "duration": 11,
    "start_time": "2022-03-12T14:08:35.171Z"
   },
   {
    "duration": 95,
    "start_time": "2022-03-12T14:08:35.965Z"
   },
   {
    "duration": 3,
    "start_time": "2022-03-12T14:09:05.975Z"
   },
   {
    "duration": 3,
    "start_time": "2022-03-12T14:09:16.663Z"
   },
   {
    "duration": 237,
    "start_time": "2022-03-12T14:09:18.023Z"
   },
   {
    "duration": 69,
    "start_time": "2022-03-12T14:09:19.596Z"
   },
   {
    "duration": 3,
    "start_time": "2022-03-12T14:09:28.514Z"
   },
   {
    "duration": 16,
    "start_time": "2022-03-12T14:09:28.780Z"
   },
   {
    "duration": 64,
    "start_time": "2022-03-12T14:09:29.797Z"
   },
   {
    "duration": 3,
    "start_time": "2022-03-12T14:09:33.069Z"
   },
   {
    "duration": 16,
    "start_time": "2022-03-12T14:09:33.296Z"
   },
   {
    "duration": 24,
    "start_time": "2022-03-12T14:09:33.842Z"
   },
   {
    "duration": 3,
    "start_time": "2022-03-12T14:09:36.739Z"
   },
   {
    "duration": 148,
    "start_time": "2022-03-12T14:09:37.318Z"
   },
   {
    "duration": 61,
    "start_time": "2022-03-12T14:09:37.999Z"
   },
   {
    "duration": 4,
    "start_time": "2022-03-12T14:09:42.512Z"
   },
   {
    "duration": 1459,
    "start_time": "2022-03-12T14:09:43.009Z"
   },
   {
    "duration": 199,
    "start_time": "2022-03-12T14:09:44.561Z"
   },
   {
    "duration": 2,
    "start_time": "2022-03-12T14:09:51.362Z"
   },
   {
    "duration": 70,
    "start_time": "2022-03-12T14:09:51.591Z"
   },
   {
    "duration": 24,
    "start_time": "2022-03-12T14:09:52.442Z"
   },
   {
    "duration": 3,
    "start_time": "2022-03-12T14:09:54.930Z"
   },
   {
    "duration": 3,
    "start_time": "2022-03-12T14:09:56.554Z"
   },
   {
    "duration": 490,
    "start_time": "2022-03-12T14:09:57.170Z"
   },
   {
    "duration": 106,
    "start_time": "2022-03-12T14:10:01.655Z"
   },
   {
    "duration": 3,
    "start_time": "2022-03-12T14:12:55.569Z"
   },
   {
    "duration": 5754,
    "start_time": "2022-03-12T14:12:57.823Z"
   },
   {
    "duration": 27,
    "start_time": "2022-03-12T14:13:07.100Z"
   },
   {
    "duration": 3,
    "start_time": "2022-03-12T14:13:23.240Z"
   },
   {
    "duration": 90657,
    "start_time": "2022-03-12T14:13:23.896Z"
   },
   {
    "duration": 139,
    "start_time": "2022-03-12T14:14:54.555Z"
   },
   {
    "duration": 4,
    "start_time": "2022-03-12T14:18:35.158Z"
   },
   {
    "duration": 3,
    "start_time": "2022-03-12T14:21:39.724Z"
   },
   {
    "duration": 3,
    "start_time": "2022-03-12T14:21:45.092Z"
   },
   {
    "duration": 3,
    "start_time": "2022-03-12T14:22:21.059Z"
   },
   {
    "duration": 73,
    "start_time": "2022-03-12T14:23:14.160Z"
   },
   {
    "duration": 1013,
    "start_time": "2022-03-12T14:23:16.546Z"
   },
   {
    "duration": 910,
    "start_time": "2022-03-12T14:27:04.451Z"
   },
   {
    "duration": 878,
    "start_time": "2022-03-12T14:27:07.084Z"
   },
   {
    "duration": 3,
    "start_time": "2022-03-12T14:27:59.266Z"
   },
   {
    "duration": 953,
    "start_time": "2022-03-12T14:27:59.616Z"
   },
   {
    "duration": 974,
    "start_time": "2022-03-12T14:28:18.889Z"
   },
   {
    "duration": 3,
    "start_time": "2022-03-12T14:28:23.090Z"
   },
   {
    "duration": 900,
    "start_time": "2022-03-12T14:28:23.361Z"
   },
   {
    "duration": 890,
    "start_time": "2022-03-12T14:30:56.976Z"
   },
   {
    "duration": 2,
    "start_time": "2022-03-12T14:30:59.494Z"
   },
   {
    "duration": 899,
    "start_time": "2022-03-12T14:30:59.668Z"
   },
   {
    "duration": 3,
    "start_time": "2022-03-12T14:31:16.886Z"
   },
   {
    "duration": 916,
    "start_time": "2022-03-12T14:31:20.444Z"
   },
   {
    "duration": 3,
    "start_time": "2022-03-12T14:31:30.489Z"
   },
   {
    "duration": 1542,
    "start_time": "2022-03-12T14:31:32.321Z"
   },
   {
    "duration": 253,
    "start_time": "2022-03-12T14:31:48.997Z"
   },
   {
    "duration": 210,
    "start_time": "2022-03-12T14:32:06.054Z"
   },
   {
    "duration": 101,
    "start_time": "2022-03-12T14:32:06.460Z"
   },
   {
    "duration": 19,
    "start_time": "2022-03-12T14:32:13.958Z"
   },
   {
    "duration": 58,
    "start_time": "2022-03-12T14:32:26.650Z"
   },
   {
    "duration": 18,
    "start_time": "2022-03-12T14:32:56.767Z"
   },
   {
    "duration": 4,
    "start_time": "2022-03-12T14:38:15.110Z"
   },
   {
    "duration": 4,
    "start_time": "2022-03-12T14:38:15.991Z"
   },
   {
    "duration": 73,
    "start_time": "2022-03-12T14:38:16.736Z"
   },
   {
    "duration": 3,
    "start_time": "2022-03-12T14:38:18.395Z"
   },
   {
    "duration": 52,
    "start_time": "2022-03-12T14:38:19.765Z"
   },
   {
    "duration": 3,
    "start_time": "2022-03-12T14:38:21.575Z"
   },
   {
    "duration": 59,
    "start_time": "2022-03-12T14:38:21.974Z"
   },
   {
    "duration": 1628,
    "start_time": "2022-03-12T14:38:28.033Z"
   },
   {
    "duration": 3,
    "start_time": "2022-03-12T14:38:30.345Z"
   },
   {
    "duration": 3,
    "start_time": "2022-03-12T14:38:30.579Z"
   },
   {
    "duration": 1517,
    "start_time": "2022-03-12T14:38:30.944Z"
   },
   {
    "duration": 3,
    "start_time": "2022-03-12T14:38:33.877Z"
   },
   {
    "duration": 3,
    "start_time": "2022-03-12T14:38:34.056Z"
   },
   {
    "duration": 1247,
    "start_time": "2022-03-12T14:38:34.227Z"
   },
   {
    "duration": 2,
    "start_time": "2022-03-12T14:38:38.803Z"
   },
   {
    "duration": 3,
    "start_time": "2022-03-12T14:38:38.960Z"
   },
   {
    "duration": 1537,
    "start_time": "2022-03-12T14:38:39.124Z"
   },
   {
    "duration": 3,
    "start_time": "2022-03-12T14:43:11.444Z"
   },
   {
    "duration": 1665,
    "start_time": "2022-03-12T14:43:12.896Z"
   },
   {
    "duration": 254,
    "start_time": "2022-03-12T14:43:21.196Z"
   },
   {
    "duration": 236,
    "start_time": "2022-03-12T14:43:36.762Z"
   },
   {
    "duration": 74,
    "start_time": "2022-03-12T14:44:00.014Z"
   },
   {
    "duration": 5,
    "start_time": "2022-03-12T14:44:03.980Z"
   },
   {
    "duration": 1448,
    "start_time": "2022-03-12T14:44:16.118Z"
   },
   {
    "duration": 36,
    "start_time": "2022-03-12T14:44:26.895Z"
   },
   {
    "duration": 1599,
    "start_time": "2022-03-12T14:44:40.463Z"
   },
   {
    "duration": 4,
    "start_time": "2022-03-12T15:39:28.655Z"
   },
   {
    "duration": 297,
    "start_time": "2022-03-12T15:42:36.129Z"
   },
   {
    "duration": 7522,
    "start_time": "2022-03-12T15:43:02.523Z"
   },
   {
    "duration": 26,
    "start_time": "2022-03-12T15:43:10.417Z"
   },
   {
    "duration": 7354,
    "start_time": "2022-03-12T15:43:21.832Z"
   },
   {
    "duration": 234,
    "start_time": "2022-03-12T15:43:35.183Z"
   },
   {
    "duration": 6907,
    "start_time": "2022-03-12T15:43:48.011Z"
   },
   {
    "duration": 254,
    "start_time": "2022-03-12T15:45:47.712Z"
   },
   {
    "duration": 248,
    "start_time": "2022-03-12T15:45:58.764Z"
   },
   {
    "duration": 4,
    "start_time": "2022-03-12T15:46:16.445Z"
   },
   {
    "duration": 6,
    "start_time": "2022-03-12T15:46:27.479Z"
   },
   {
    "duration": 6,
    "start_time": "2022-03-12T15:46:36.270Z"
   },
   {
    "duration": 5,
    "start_time": "2022-03-12T15:46:42.321Z"
   },
   {
    "duration": 5,
    "start_time": "2022-03-12T15:46:53.347Z"
   },
   {
    "duration": 5,
    "start_time": "2022-03-12T15:46:58.678Z"
   },
   {
    "duration": 10,
    "start_time": "2022-03-12T15:47:31.230Z"
   },
   {
    "duration": 6,
    "start_time": "2022-03-12T15:47:42.646Z"
   },
   {
    "duration": 5,
    "start_time": "2022-03-12T15:47:52.227Z"
   },
   {
    "duration": 5,
    "start_time": "2022-03-12T15:48:00.056Z"
   },
   {
    "duration": 4,
    "start_time": "2022-03-12T15:48:03.034Z"
   },
   {
    "duration": 5,
    "start_time": "2022-03-12T15:48:06.185Z"
   },
   {
    "duration": 5,
    "start_time": "2022-03-12T15:48:24.787Z"
   },
   {
    "duration": 5,
    "start_time": "2022-03-12T15:48:28.694Z"
   },
   {
    "duration": 4,
    "start_time": "2022-03-12T15:48:32.498Z"
   },
   {
    "duration": 256,
    "start_time": "2022-03-12T15:49:00.072Z"
   },
   {
    "duration": 315,
    "start_time": "2022-03-12T15:49:10.391Z"
   },
   {
    "duration": 4,
    "start_time": "2022-03-12T15:49:18.575Z"
   },
   {
    "duration": 269,
    "start_time": "2022-03-12T15:49:52.095Z"
   },
   {
    "duration": 291,
    "start_time": "2022-03-12T15:50:21.653Z"
   },
   {
    "duration": 15,
    "start_time": "2022-03-12T15:51:00.759Z"
   },
   {
    "duration": 9,
    "start_time": "2022-03-12T15:51:13.047Z"
   },
   {
    "duration": 10,
    "start_time": "2022-03-12T15:51:22.371Z"
   },
   {
    "duration": 9,
    "start_time": "2022-03-12T15:51:25.074Z"
   },
   {
    "duration": 8,
    "start_time": "2022-03-12T15:51:31.496Z"
   },
   {
    "duration": 8,
    "start_time": "2022-03-12T15:51:37.863Z"
   },
   {
    "duration": 4,
    "start_time": "2022-03-12T15:52:08.429Z"
   },
   {
    "duration": 1130,
    "start_time": "2022-03-12T15:52:28.907Z"
   },
   {
    "duration": 9,
    "start_time": "2022-03-12T15:52:32.389Z"
   },
   {
    "duration": 4,
    "start_time": "2022-03-12T15:52:39.258Z"
   },
   {
    "duration": 9,
    "start_time": "2022-03-12T15:52:46.643Z"
   },
   {
    "duration": 12,
    "start_time": "2022-03-12T15:52:52.084Z"
   },
   {
    "duration": 8,
    "start_time": "2022-03-12T15:53:07.873Z"
   },
   {
    "duration": 275,
    "start_time": "2022-03-12T15:53:26.155Z"
   },
   {
    "duration": 8,
    "start_time": "2022-03-12T15:53:45.132Z"
   },
   {
    "duration": 332,
    "start_time": "2022-03-12T15:54:08.963Z"
   },
   {
    "duration": 269,
    "start_time": "2022-03-12T15:54:20.986Z"
   },
   {
    "duration": 29,
    "start_time": "2022-03-12T15:54:29.436Z"
   },
   {
    "duration": 38,
    "start_time": "2022-03-12T15:54:35.792Z"
   },
   {
    "duration": 11,
    "start_time": "2022-03-12T15:54:44.078Z"
   },
   {
    "duration": 235,
    "start_time": "2022-03-12T16:43:12.084Z"
   },
   {
    "duration": 19,
    "start_time": "2022-03-12T16:44:10.663Z"
   },
   {
    "duration": 15,
    "start_time": "2022-03-12T16:44:25.191Z"
   },
   {
    "duration": 15,
    "start_time": "2022-03-12T16:44:39.014Z"
   },
   {
    "duration": 80,
    "start_time": "2022-03-12T16:45:02.642Z"
   },
   {
    "duration": 306,
    "start_time": "2022-03-12T16:45:05.360Z"
   },
   {
    "duration": 222,
    "start_time": "2022-03-12T16:45:35.793Z"
   },
   {
    "duration": 265,
    "start_time": "2022-03-12T16:45:47.631Z"
   },
   {
    "duration": 63,
    "start_time": "2022-03-12T16:46:10.049Z"
   },
   {
    "duration": 24,
    "start_time": "2022-03-12T16:46:22.290Z"
   },
   {
    "duration": 16,
    "start_time": "2022-03-12T16:46:47.564Z"
   },
   {
    "duration": 30,
    "start_time": "2022-03-12T16:46:53.571Z"
   },
   {
    "duration": 233,
    "start_time": "2022-03-12T16:48:07.917Z"
   },
   {
    "duration": 75,
    "start_time": "2022-03-12T16:48:12.250Z"
   },
   {
    "duration": 32,
    "start_time": "2022-03-12T16:48:17.480Z"
   },
   {
    "duration": 36,
    "start_time": "2022-03-12T16:48:35.635Z"
   },
   {
    "duration": 233,
    "start_time": "2022-03-12T16:48:53.527Z"
   },
   {
    "duration": 10,
    "start_time": "2022-03-12T16:49:16.669Z"
   },
   {
    "duration": 12,
    "start_time": "2022-03-12T16:49:21.308Z"
   },
   {
    "duration": 13,
    "start_time": "2022-03-12T16:49:35.399Z"
   },
   {
    "duration": 12,
    "start_time": "2022-03-12T16:52:24.527Z"
   },
   {
    "duration": 52,
    "start_time": "2022-03-12T16:52:56.785Z"
   },
   {
    "duration": 288,
    "start_time": "2022-03-12T16:53:41.163Z"
   },
   {
    "duration": 6,
    "start_time": "2022-03-12T16:54:02.893Z"
   },
   {
    "duration": 11,
    "start_time": "2022-03-12T16:54:27.350Z"
   },
   {
    "duration": 10,
    "start_time": "2022-03-12T16:54:36.277Z"
   },
   {
    "duration": 690,
    "start_time": "2022-03-12T16:54:51.367Z"
   },
   {
    "duration": 5,
    "start_time": "2022-03-12T16:54:59.875Z"
   },
   {
    "duration": 58,
    "start_time": "2022-03-12T16:55:00.142Z"
   },
   {
    "duration": 15,
    "start_time": "2022-03-12T16:55:00.419Z"
   },
   {
    "duration": 11,
    "start_time": "2022-03-12T16:55:00.673Z"
   },
   {
    "duration": 13,
    "start_time": "2022-03-12T16:55:01.226Z"
   },
   {
    "duration": 15,
    "start_time": "2022-03-12T16:55:01.740Z"
   },
   {
    "duration": 6,
    "start_time": "2022-03-12T16:55:02.778Z"
   },
   {
    "duration": 4,
    "start_time": "2022-03-12T16:55:03.334Z"
   },
   {
    "duration": 128,
    "start_time": "2022-03-12T16:55:04.112Z"
   },
   {
    "duration": 19,
    "start_time": "2022-03-12T16:55:04.446Z"
   },
   {
    "duration": 17,
    "start_time": "2022-03-12T16:55:04.802Z"
   },
   {
    "duration": 4,
    "start_time": "2022-03-12T16:55:06.792Z"
   },
   {
    "duration": 2749,
    "start_time": "2022-03-12T16:55:08.257Z"
   },
   {
    "duration": 3562,
    "start_time": "2022-03-12T16:55:11.007Z"
   },
   {
    "duration": 570,
    "start_time": "2022-03-12T16:55:14.571Z"
   },
   {
    "duration": 25,
    "start_time": "2022-03-12T16:55:15.143Z"
   },
   {
    "duration": 283,
    "start_time": "2022-03-12T16:55:15.169Z"
   },
   {
    "duration": 1191,
    "start_time": "2022-03-12T16:55:15.454Z"
   },
   {
    "duration": 555,
    "start_time": "2022-03-12T16:55:16.647Z"
   },
   {
    "duration": 10,
    "start_time": "2022-03-12T16:55:17.204Z"
   },
   {
    "duration": 1199,
    "start_time": "2022-03-12T16:55:17.216Z"
   },
   {
    "duration": 1126,
    "start_time": "2022-03-12T16:55:18.416Z"
   },
   {
    "duration": 29,
    "start_time": "2022-03-12T16:55:19.543Z"
   },
   {
    "duration": 290,
    "start_time": "2022-03-12T16:55:40.816Z"
   },
   {
    "duration": 241,
    "start_time": "2022-03-12T16:56:06.727Z"
   },
   {
    "duration": 52,
    "start_time": "2022-03-12T16:56:12.270Z"
   },
   {
    "duration": 4,
    "start_time": "2022-03-12T16:56:20.286Z"
   },
   {
    "duration": 4,
    "start_time": "2022-03-12T16:56:24.336Z"
   },
   {
    "duration": 54,
    "start_time": "2022-03-12T17:00:50.523Z"
   },
   {
    "duration": 21,
    "start_time": "2022-03-12T17:02:43.212Z"
   },
   {
    "duration": 2,
    "start_time": "2022-03-12T17:03:43.577Z"
   },
   {
    "duration": 1020,
    "start_time": "2022-03-12T17:08:00.341Z"
   },
   {
    "duration": 1101,
    "start_time": "2022-03-12T17:13:39.265Z"
   },
   {
    "duration": 4,
    "start_time": "2022-03-12T17:13:45.716Z"
   },
   {
    "duration": 6,
    "start_time": "2022-03-12T17:14:58.902Z"
   },
   {
    "duration": 4,
    "start_time": "2022-03-12T17:15:03.319Z"
   },
   {
    "duration": 5,
    "start_time": "2022-03-12T17:15:35.276Z"
   },
   {
    "duration": 5,
    "start_time": "2022-03-12T17:15:44.649Z"
   },
   {
    "duration": 253,
    "start_time": "2022-03-12T17:16:07.450Z"
   },
   {
    "duration": 3,
    "start_time": "2022-03-12T17:17:52.104Z"
   },
   {
    "duration": 22371,
    "start_time": "2022-03-12T17:18:05.696Z"
   },
   {
    "duration": 38062,
    "start_time": "2022-03-12T17:18:33.600Z"
   },
   {
    "duration": 4,
    "start_time": "2022-03-12T17:19:11.761Z"
   },
   {
    "duration": 4,
    "start_time": "2022-03-12T17:19:38.607Z"
   },
   {
    "duration": 4,
    "start_time": "2022-03-12T17:20:42.739Z"
   },
   {
    "duration": 38329,
    "start_time": "2022-03-12T17:22:21.232Z"
   },
   {
    "duration": 96,
    "start_time": "2022-03-12T17:22:59.564Z"
   },
   {
    "duration": 4,
    "start_time": "2022-03-12T17:23:07.053Z"
   },
   {
    "duration": 1136,
    "start_time": "2022-03-12T17:23:14.130Z"
   },
   {
    "duration": 10179,
    "start_time": "2022-03-12T17:23:15.269Z"
   },
   {
    "duration": -42,
    "start_time": "2022-03-12T17:23:25.492Z"
   },
   {
    "duration": 37168,
    "start_time": "2022-03-12T17:23:39.394Z"
   },
   {
    "duration": 7291,
    "start_time": "2022-03-12T17:24:16.569Z"
   },
   {
    "duration": 6,
    "start_time": "2022-03-12T17:24:23.862Z"
   },
   {
    "duration": 30,
    "start_time": "2022-03-12T17:26:07.950Z"
   },
   {
    "duration": 45,
    "start_time": "2022-03-12T17:26:21.444Z"
   },
   {
    "duration": 812,
    "start_time": "2022-03-12T17:27:34.561Z"
   },
   {
    "duration": 907,
    "start_time": "2022-03-12T17:27:56.159Z"
   },
   {
    "duration": 1023,
    "start_time": "2022-03-12T17:28:02.040Z"
   },
   {
    "duration": 60,
    "start_time": "2022-03-12T17:28:32.781Z"
   },
   {
    "duration": 60,
    "start_time": "2022-03-12T17:28:36.649Z"
   },
   {
    "duration": 950,
    "start_time": "2022-03-12T17:29:12.614Z"
   },
   {
    "duration": 36602,
    "start_time": "2022-03-12T17:29:13.567Z"
   },
   {
    "duration": 7699,
    "start_time": "2022-03-12T17:29:50.262Z"
   },
   {
    "duration": 118,
    "start_time": "2022-03-12T17:29:57.964Z"
   },
   {
    "duration": 4,
    "start_time": "2022-03-12T17:29:58.084Z"
   },
   {
    "duration": 214,
    "start_time": "2022-03-12T17:30:53.590Z"
   },
   {
    "duration": 8,
    "start_time": "2022-03-12T17:30:56.860Z"
   },
   {
    "duration": 116,
    "start_time": "2022-03-12T17:35:22.747Z"
   },
   {
    "duration": 4,
    "start_time": "2022-03-12T17:35:26.055Z"
   },
   {
    "duration": 1024,
    "start_time": "2022-03-12T17:37:13.244Z"
   },
   {
    "duration": 4,
    "start_time": "2022-03-12T17:37:14.360Z"
   },
   {
    "duration": 7,
    "start_time": "2022-03-12T17:37:44.061Z"
   },
   {
    "duration": 857,
    "start_time": "2022-03-12T17:43:58.810Z"
   },
   {
    "duration": 835,
    "start_time": "2022-03-12T17:44:29.175Z"
   },
   {
    "duration": 1188,
    "start_time": "2022-03-12T17:45:46.390Z"
   },
   {
    "duration": 735,
    "start_time": "2022-03-12T17:45:47.580Z"
   },
   {
    "duration": 5,
    "start_time": "2022-03-12T17:45:48.317Z"
   },
   {
    "duration": 83,
    "start_time": "2022-03-12T17:45:48.324Z"
   },
   {
    "duration": 19,
    "start_time": "2022-03-12T17:45:48.410Z"
   },
   {
    "duration": 33,
    "start_time": "2022-03-12T17:45:48.432Z"
   },
   {
    "duration": 12,
    "start_time": "2022-03-12T17:45:48.468Z"
   },
   {
    "duration": 16,
    "start_time": "2022-03-12T17:45:48.481Z"
   },
   {
    "duration": 7,
    "start_time": "2022-03-12T17:45:48.499Z"
   },
   {
    "duration": 7,
    "start_time": "2022-03-12T17:45:48.508Z"
   },
   {
    "duration": 189,
    "start_time": "2022-03-12T17:45:48.516Z"
   },
   {
    "duration": 22,
    "start_time": "2022-03-12T17:45:48.707Z"
   },
   {
    "duration": 36,
    "start_time": "2022-03-12T17:45:48.731Z"
   },
   {
    "duration": 4,
    "start_time": "2022-03-12T17:45:48.769Z"
   },
   {
    "duration": 859,
    "start_time": "2022-03-12T17:45:48.776Z"
   },
   {
    "duration": 582,
    "start_time": "2022-03-12T17:45:49.636Z"
   },
   {
    "duration": 627,
    "start_time": "2022-03-12T17:45:50.219Z"
   },
   {
    "duration": 20,
    "start_time": "2022-03-12T17:45:50.849Z"
   },
   {
    "duration": 280,
    "start_time": "2022-03-12T17:45:50.871Z"
   },
   {
    "duration": 827,
    "start_time": "2022-03-12T17:45:51.153Z"
   },
   {
    "duration": 538,
    "start_time": "2022-03-12T17:45:51.982Z"
   },
   {
    "duration": 11,
    "start_time": "2022-03-12T17:45:52.522Z"
   },
   {
    "duration": 1214,
    "start_time": "2022-03-12T17:45:52.535Z"
   },
   {
    "duration": 1127,
    "start_time": "2022-03-12T17:45:53.751Z"
   },
   {
    "duration": 3,
    "start_time": "2022-03-12T17:45:54.880Z"
   },
   {
    "duration": 88,
    "start_time": "2022-03-12T17:45:54.885Z"
   },
   {
    "duration": 20,
    "start_time": "2022-03-12T17:45:54.975Z"
   },
   {
    "duration": 3,
    "start_time": "2022-03-12T17:45:54.997Z"
   },
   {
    "duration": 964,
    "start_time": "2022-03-12T17:45:55.002Z"
   },
   {
    "duration": 37498,
    "start_time": "2022-03-12T17:45:55.968Z"
   },
   {
    "duration": 7092,
    "start_time": "2022-03-12T17:46:33.468Z"
   },
   {
    "duration": 149,
    "start_time": "2022-03-12T17:46:40.566Z"
   },
   {
    "duration": 7,
    "start_time": "2022-03-12T17:46:40.717Z"
   },
   {
    "duration": 1138,
    "start_time": "2022-03-12T17:46:40.725Z"
   },
   {
    "duration": 8,
    "start_time": "2022-03-12T17:46:41.864Z"
   },
   {
    "duration": 1233,
    "start_time": "2022-03-12T17:56:28.448Z"
   },
   {
    "duration": 739,
    "start_time": "2022-03-12T17:56:29.683Z"
   },
   {
    "duration": 4,
    "start_time": "2022-03-12T17:56:30.424Z"
   },
   {
    "duration": 70,
    "start_time": "2022-03-12T17:56:30.430Z"
   },
   {
    "duration": 18,
    "start_time": "2022-03-12T17:56:30.502Z"
   },
   {
    "duration": 39,
    "start_time": "2022-03-12T17:56:30.521Z"
   },
   {
    "duration": 15,
    "start_time": "2022-03-12T17:56:30.562Z"
   },
   {
    "duration": 26,
    "start_time": "2022-03-12T17:56:30.579Z"
   },
   {
    "duration": 32,
    "start_time": "2022-03-12T17:56:30.607Z"
   },
   {
    "duration": 26,
    "start_time": "2022-03-12T17:56:30.641Z"
   },
   {
    "duration": 146,
    "start_time": "2022-03-12T17:56:30.670Z"
   },
   {
    "duration": 19,
    "start_time": "2022-03-12T17:56:30.818Z"
   },
   {
    "duration": 34,
    "start_time": "2022-03-12T17:56:30.839Z"
   },
   {
    "duration": 8,
    "start_time": "2022-03-12T17:56:30.875Z"
   },
   {
    "duration": 886,
    "start_time": "2022-03-12T17:56:30.885Z"
   },
   {
    "duration": 588,
    "start_time": "2022-03-12T17:56:31.773Z"
   },
   {
    "duration": 656,
    "start_time": "2022-03-12T17:56:32.362Z"
   },
   {
    "duration": 15,
    "start_time": "2022-03-12T17:56:33.020Z"
   },
   {
    "duration": 293,
    "start_time": "2022-03-12T17:56:33.037Z"
   },
   {
    "duration": 847,
    "start_time": "2022-03-12T17:56:33.331Z"
   },
   {
    "duration": 555,
    "start_time": "2022-03-12T17:56:34.179Z"
   },
   {
    "duration": 23,
    "start_time": "2022-03-12T17:56:34.737Z"
   },
   {
    "duration": 1272,
    "start_time": "2022-03-12T17:56:34.763Z"
   },
   {
    "duration": 1152,
    "start_time": "2022-03-12T17:56:36.036Z"
   },
   {
    "duration": 3,
    "start_time": "2022-03-12T17:56:37.190Z"
   },
   {
    "duration": 84,
    "start_time": "2022-03-12T17:56:37.196Z"
   },
   {
    "duration": 21,
    "start_time": "2022-03-12T17:56:37.282Z"
   },
   {
    "duration": 3,
    "start_time": "2022-03-12T17:56:37.305Z"
   },
   {
    "duration": 950,
    "start_time": "2022-03-12T17:56:37.310Z"
   },
   {
    "duration": 38803,
    "start_time": "2022-03-12T17:56:38.262Z"
   },
   {
    "duration": 8693,
    "start_time": "2022-03-12T17:57:17.068Z"
   },
   {
    "duration": 123,
    "start_time": "2022-03-12T17:57:25.764Z"
   },
   {
    "duration": 9,
    "start_time": "2022-03-12T17:57:25.889Z"
   },
   {
    "duration": 1471,
    "start_time": "2022-03-12T17:57:25.900Z"
   },
   {
    "duration": 8,
    "start_time": "2022-03-12T17:57:27.372Z"
   },
   {
    "duration": 1751,
    "start_time": "2022-03-17T08:31:55.539Z"
   },
   {
    "duration": 744,
    "start_time": "2022-03-17T08:31:57.300Z"
   },
   {
    "duration": 5,
    "start_time": "2022-03-17T08:31:58.046Z"
   },
   {
    "duration": 82,
    "start_time": "2022-03-17T08:31:58.054Z"
   },
   {
    "duration": 20,
    "start_time": "2022-03-17T08:31:58.139Z"
   },
   {
    "duration": 40,
    "start_time": "2022-03-17T08:31:58.162Z"
   },
   {
    "duration": 11,
    "start_time": "2022-03-17T08:31:58.204Z"
   },
   {
    "duration": 24,
    "start_time": "2022-03-17T08:31:58.217Z"
   },
   {
    "duration": 7,
    "start_time": "2022-03-17T08:31:58.243Z"
   },
   {
    "duration": 5,
    "start_time": "2022-03-17T08:31:58.253Z"
   },
   {
    "duration": 192,
    "start_time": "2022-03-17T08:31:58.260Z"
   },
   {
    "duration": 23,
    "start_time": "2022-03-17T08:31:58.454Z"
   },
   {
    "duration": 39,
    "start_time": "2022-03-17T08:31:58.479Z"
   },
   {
    "duration": 7,
    "start_time": "2022-03-17T08:31:58.519Z"
   },
   {
    "duration": 572,
    "start_time": "2022-03-17T08:31:58.529Z"
   },
   {
    "duration": 382,
    "start_time": "2022-03-17T08:31:59.104Z"
   },
   {
    "duration": 434,
    "start_time": "2022-03-17T08:31:59.488Z"
   },
   {
    "duration": 17,
    "start_time": "2022-03-17T08:31:59.924Z"
   },
   {
    "duration": 219,
    "start_time": "2022-03-17T08:31:59.944Z"
   },
   {
    "duration": 530,
    "start_time": "2022-03-17T08:32:00.165Z"
   },
   {
    "duration": 332,
    "start_time": "2022-03-17T08:32:00.701Z"
   },
   {
    "duration": 16,
    "start_time": "2022-03-17T08:32:01.035Z"
   },
   {
    "duration": 851,
    "start_time": "2022-03-17T08:32:01.053Z"
   },
   {
    "duration": 746,
    "start_time": "2022-03-17T08:32:01.906Z"
   },
   {
    "duration": 4,
    "start_time": "2022-03-17T08:32:02.654Z"
   },
   {
    "duration": 85,
    "start_time": "2022-03-17T08:32:02.660Z"
   },
   {
    "duration": 22,
    "start_time": "2022-03-17T08:32:02.747Z"
   },
   {
    "duration": 3,
    "start_time": "2022-03-17T08:32:02.773Z"
   },
   {
    "duration": 1023,
    "start_time": "2022-03-17T08:32:02.778Z"
   },
   {
    "duration": 36901,
    "start_time": "2022-03-17T08:32:03.804Z"
   },
   {
    "duration": 5199,
    "start_time": "2022-03-17T08:32:40.707Z"
   },
   {
    "duration": 224,
    "start_time": "2022-03-17T08:32:45.909Z"
   },
   {
    "duration": 9,
    "start_time": "2022-03-17T08:32:46.135Z"
   },
   {
    "duration": 863,
    "start_time": "2022-03-17T08:32:46.145Z"
   },
   {
    "duration": 93,
    "start_time": "2022-03-17T08:32:47.010Z"
   },
   {
    "duration": 1519,
    "start_time": "2022-07-13T11:49:33.174Z"
   },
   {
    "duration": 1601,
    "start_time": "2022-07-13T11:49:34.695Z"
   },
   {
    "duration": 5,
    "start_time": "2022-07-13T11:49:36.298Z"
   },
   {
    "duration": 123,
    "start_time": "2022-07-13T11:49:36.305Z"
   },
   {
    "duration": 25,
    "start_time": "2022-07-13T11:49:36.432Z"
   },
   {
    "duration": 16,
    "start_time": "2022-07-13T11:49:36.460Z"
   },
   {
    "duration": 11,
    "start_time": "2022-07-13T11:49:36.478Z"
   },
   {
    "duration": 34,
    "start_time": "2022-07-13T11:49:36.491Z"
   },
   {
    "duration": 13,
    "start_time": "2022-07-13T11:49:36.527Z"
   },
   {
    "duration": 6,
    "start_time": "2022-07-13T11:49:36.541Z"
   },
   {
    "duration": 161,
    "start_time": "2022-07-13T11:49:36.549Z"
   },
   {
    "duration": 21,
    "start_time": "2022-07-13T11:49:36.714Z"
   },
   {
    "duration": 16,
    "start_time": "2022-07-13T11:49:36.737Z"
   },
   {
    "duration": 4,
    "start_time": "2022-07-13T11:49:36.756Z"
   },
   {
    "duration": 635,
    "start_time": "2022-07-13T11:49:36.762Z"
   },
   {
    "duration": 466,
    "start_time": "2022-07-13T11:49:37.399Z"
   },
   {
    "duration": 383,
    "start_time": "2022-07-13T11:49:37.866Z"
   },
   {
    "duration": 19,
    "start_time": "2022-07-13T11:49:38.251Z"
   },
   {
    "duration": 201,
    "start_time": "2022-07-13T11:49:38.272Z"
   },
   {
    "duration": 582,
    "start_time": "2022-07-13T11:49:38.475Z"
   },
   {
    "duration": 345,
    "start_time": "2022-07-13T11:49:39.059Z"
   },
   {
    "duration": 21,
    "start_time": "2022-07-13T11:49:39.406Z"
   },
   {
    "duration": 911,
    "start_time": "2022-07-13T11:49:39.431Z"
   },
   {
    "duration": 763,
    "start_time": "2022-07-13T11:49:40.343Z"
   },
   {
    "duration": 17,
    "start_time": "2022-07-13T11:49:41.108Z"
   },
   {
    "duration": 69,
    "start_time": "2022-07-13T11:49:41.128Z"
   },
   {
    "duration": 25,
    "start_time": "2022-07-13T11:49:41.199Z"
   },
   {
    "duration": 9,
    "start_time": "2022-07-13T11:49:41.227Z"
   },
   {
    "duration": 1273,
    "start_time": "2022-07-13T11:49:41.238Z"
   },
   {
    "duration": 48712,
    "start_time": "2022-07-13T11:49:42.518Z"
   },
   {
    "duration": 3796,
    "start_time": "2022-07-13T11:50:31.232Z"
   },
   {
    "duration": 127,
    "start_time": "2022-07-13T11:50:35.109Z"
   },
   {
    "duration": 7,
    "start_time": "2022-07-13T11:50:35.238Z"
   },
   {
    "duration": 4863,
    "start_time": "2022-07-13T11:50:35.247Z"
   },
   {
    "duration": 30,
    "start_time": "2022-07-13T11:50:40.113Z"
   }
  ],
  "kernelspec": {
   "display_name": "Python 3 (ipykernel)",
   "language": "python",
   "name": "python3"
  },
  "language_info": {
   "codemirror_mode": {
    "name": "ipython",
    "version": 3
   },
   "file_extension": ".py",
   "mimetype": "text/x-python",
   "name": "python",
   "nbconvert_exporter": "python",
   "pygments_lexer": "ipython3",
   "version": "3.9.5"
  },
  "toc": {
   "base_numbering": 1,
   "nav_menu": {},
   "number_sections": false,
   "sideBar": true,
   "skip_h1_title": true,
   "title_cell": "j",
   "title_sidebar": "Contents",
   "toc_cell": false,
   "toc_position": {
    "height": "789px",
    "left": "58px",
    "top": "111.125px",
    "width": "298.391px"
   },
   "toc_section_display": true,
   "toc_window_display": true
  }
 },
 "nbformat": 4,
 "nbformat_minor": 2
}
