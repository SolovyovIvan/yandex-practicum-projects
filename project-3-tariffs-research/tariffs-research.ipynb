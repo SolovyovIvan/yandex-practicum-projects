{
 "cells": [
  {
   "cell_type": "markdown",
   "metadata": {},
   "source": [
    "# Определение перспективного тарифа для телеком-компании"
   ]
  },
  {
   "cell_type": "markdown",
   "metadata": {},
   "source": [
    "**Цели проекта:** \n",
    "\n",
    "1. Провести анализ использования двух тарифов клиентами оператора сотовой связи.\n",
    "2. Проверить различия в средней выручке для клиентов, использующих разные тарифы, и клиентов из разных регионов. \n",
    "\n",
    "**Используемые данные:** \n",
    "Выборка клиентов (количество клиентов — 500), представленная в пяти csv-файлах. В файлах содержится информация о звонках, совершённых пользователями, отправленных сообщениях, израсходованном интернет-трафике, информация о пользователях и информация о тарифах оператора связи. Более подробно о содержании файлов, а также описание признаков, можно найти в описании проекта."
   ]
  },
  {
   "cell_type": "markdown",
   "metadata": {},
   "source": [
    "# Оглавление\n",
    "\n",
    "1. [Изучение данных из файлов](#review)\n",
    "    <br>1.1 [Импорт библиотек и чтение файлов](#importing)\n",
    "    <br>1.2 [Общая информация о данных](#general_info)\n",
    "    <br>1.3 [Вывод](#conc1)\n",
    "2. [Предобработка данных](#preproccesing)\n",
    "    <br>2.1 [Замена типов](#feature_preproc)\n",
    "    <br>2.2 [Создание сводной таблицы](#pivot)\n",
    "    <br>2.3 [Расчёт помесячной выручки с каждого пользователя](#revenue)\n",
    "    <br>2.4 [Вывод](#conc2)\n",
    "3. [Анализ данных](#analysis)\n",
    "    <br>3.1 [Расчёт статистических характеристик](#stats)\n",
    "    <br>3.2 [Построение гистограмм](#histograms)\n",
    "    <br>3.3 [Вывод](#conc3)\n",
    "4. [Проверка гипотез](#hypothesis_testing)\n",
    "    <br>4.1 [Гипотеза о средней выручке с пользователей разных тарифов](#tariffs)\n",
    "    <br>4.2 [Гипотеза о средней выручке с пользователей из разных регионов](#regions)\n",
    "    <br>4.3 [Вывод](#conc4)\n",
    "5. [Заключение](#conclusion)"
   ]
  },
  {
   "cell_type": "markdown",
   "metadata": {},
   "source": [
    "<a id=\"review\"></a>\n",
    "## 1. Изучение данных из файлов\n",
    "\n",
    "<a id=\"importing\"></a>\n",
    "### 1.1. Импорт библиотек и чтение файлов\n",
    "Импортируем необходимые для работы библиотеки и считываем файлы с данными."
   ]
  },
  {
   "cell_type": "code",
   "execution_count": 1,
   "metadata": {},
   "outputs": [],
   "source": [
    "import matplotlib.pyplot as plt\n",
    "import numpy as np\n",
    "import pandas as pd\n",
    "import scipy.stats as st\n",
    "from math import ceil"
   ]
  },
  {
   "cell_type": "code",
   "execution_count": 2,
   "metadata": {},
   "outputs": [],
   "source": [
    "calls = pd.read_csv(\"/datasets/calls.csv\")\n",
    "internet = pd.read_csv(\"/datasets/internet.csv\")\n",
    "messages = pd.read_csv(\"/datasets/messages.csv\")\n",
    "tariffs = pd.read_csv(\"/datasets/tariffs.csv\")\n",
    "users = pd.read_csv(\"/datasets/users.csv\")\n",
    "\n",
    "datasets = [calls, internet, messages, tariffs, users]"
   ]
  },
  {
   "cell_type": "markdown",
   "metadata": {},
   "source": [
    "<a id=\"general_info\"></a>\n",
    "### 1.2. Общая информация о  данных\n",
    "Проверим данные на наличие пропусков:"
   ]
  },
  {
   "cell_type": "code",
   "execution_count": 3,
   "metadata": {},
   "outputs": [
    {
     "name": "stdout",
     "output_type": "stream",
     "text": [
      "id           0\n",
      "call_date    0\n",
      "duration     0\n",
      "user_id      0\n",
      "dtype: int64\n",
      "\n",
      "------------------------------------------\n",
      "\n",
      "Unnamed: 0      0\n",
      "id              0\n",
      "mb_used         0\n",
      "session_date    0\n",
      "user_id         0\n",
      "dtype: int64\n",
      "\n",
      "------------------------------------------\n",
      "\n",
      "id              0\n",
      "message_date    0\n",
      "user_id         0\n",
      "dtype: int64\n",
      "\n",
      "------------------------------------------\n",
      "\n",
      "messages_included        0\n",
      "mb_per_month_included    0\n",
      "minutes_included         0\n",
      "rub_monthly_fee          0\n",
      "rub_per_gb               0\n",
      "rub_per_message          0\n",
      "rub_per_minute           0\n",
      "tariff_name              0\n",
      "dtype: int64\n",
      "\n",
      "------------------------------------------\n",
      "\n",
      "user_id         0\n",
      "age             0\n",
      "churn_date    462\n",
      "city            0\n",
      "first_name      0\n",
      "last_name       0\n",
      "reg_date        0\n",
      "tariff          0\n",
      "dtype: int64\n",
      "\n",
      "------------------------------------------\n",
      "\n"
     ]
    }
   ],
   "source": [
    "for ds in datasets:\n",
    "    print(ds.isna().sum())\n",
    "    print(\"\\n------------------------------------------\\n\")"
   ]
  },
  {
   "cell_type": "markdown",
   "metadata": {},
   "source": [
    "Пропуски есть только в данных, описывающих пользователей, в столбце `churn_date`. Это вызвано тем, что тариф действовал на момент выгрузки данных, поэтому как-то обрабатывать пропущенные значения не нужно.\n",
    "\n",
    "Получим общую информацию о наборах данных. "
   ]
  },
  {
   "cell_type": "code",
   "execution_count": 4,
   "metadata": {},
   "outputs": [
    {
     "name": "stdout",
     "output_type": "stream",
     "text": [
      "<class 'pandas.core.frame.DataFrame'>\n",
      "RangeIndex: 202607 entries, 0 to 202606\n",
      "Data columns (total 4 columns):\n",
      " #   Column     Non-Null Count   Dtype  \n",
      "---  ------     --------------   -----  \n",
      " 0   id         202607 non-null  object \n",
      " 1   call_date  202607 non-null  object \n",
      " 2   duration   202607 non-null  float64\n",
      " 3   user_id    202607 non-null  int64  \n",
      "dtypes: float64(1), int64(1), object(2)\n",
      "memory usage: 6.2+ MB\n",
      "None\n",
      "\n",
      "------------------------------------------\n",
      "\n",
      "<class 'pandas.core.frame.DataFrame'>\n",
      "RangeIndex: 149396 entries, 0 to 149395\n",
      "Data columns (total 5 columns):\n",
      " #   Column        Non-Null Count   Dtype  \n",
      "---  ------        --------------   -----  \n",
      " 0   Unnamed: 0    149396 non-null  int64  \n",
      " 1   id            149396 non-null  object \n",
      " 2   mb_used       149396 non-null  float64\n",
      " 3   session_date  149396 non-null  object \n",
      " 4   user_id       149396 non-null  int64  \n",
      "dtypes: float64(1), int64(2), object(2)\n",
      "memory usage: 5.7+ MB\n",
      "None\n",
      "\n",
      "------------------------------------------\n",
      "\n",
      "<class 'pandas.core.frame.DataFrame'>\n",
      "RangeIndex: 123036 entries, 0 to 123035\n",
      "Data columns (total 3 columns):\n",
      " #   Column        Non-Null Count   Dtype \n",
      "---  ------        --------------   ----- \n",
      " 0   id            123036 non-null  object\n",
      " 1   message_date  123036 non-null  object\n",
      " 2   user_id       123036 non-null  int64 \n",
      "dtypes: int64(1), object(2)\n",
      "memory usage: 2.8+ MB\n",
      "None\n",
      "\n",
      "------------------------------------------\n",
      "\n",
      "<class 'pandas.core.frame.DataFrame'>\n",
      "RangeIndex: 2 entries, 0 to 1\n",
      "Data columns (total 8 columns):\n",
      " #   Column                 Non-Null Count  Dtype \n",
      "---  ------                 --------------  ----- \n",
      " 0   messages_included      2 non-null      int64 \n",
      " 1   mb_per_month_included  2 non-null      int64 \n",
      " 2   minutes_included       2 non-null      int64 \n",
      " 3   rub_monthly_fee        2 non-null      int64 \n",
      " 4   rub_per_gb             2 non-null      int64 \n",
      " 5   rub_per_message        2 non-null      int64 \n",
      " 6   rub_per_minute         2 non-null      int64 \n",
      " 7   tariff_name            2 non-null      object\n",
      "dtypes: int64(7), object(1)\n",
      "memory usage: 256.0+ bytes\n",
      "None\n",
      "\n",
      "------------------------------------------\n",
      "\n",
      "<class 'pandas.core.frame.DataFrame'>\n",
      "RangeIndex: 500 entries, 0 to 499\n",
      "Data columns (total 8 columns):\n",
      " #   Column      Non-Null Count  Dtype \n",
      "---  ------      --------------  ----- \n",
      " 0   user_id     500 non-null    int64 \n",
      " 1   age         500 non-null    int64 \n",
      " 2   churn_date  38 non-null     object\n",
      " 3   city        500 non-null    object\n",
      " 4   first_name  500 non-null    object\n",
      " 5   last_name   500 non-null    object\n",
      " 6   reg_date    500 non-null    object\n",
      " 7   tariff      500 non-null    object\n",
      "dtypes: int64(2), object(6)\n",
      "memory usage: 31.4+ KB\n",
      "None\n",
      "\n",
      "------------------------------------------\n",
      "\n"
     ]
    }
   ],
   "source": [
    "for ds in datasets:\n",
    "    print(ds.info())\n",
    "    print(\"\\n------------------------------------------\\n\")"
   ]
  },
  {
   "cell_type": "markdown",
   "metadata": {},
   "source": [
    "Ничего странного здесь не видно. Можно посмотреть на статистическое описание некоторых признаков и количество уникальных значений."
   ]
  },
  {
   "cell_type": "code",
   "execution_count": 5,
   "metadata": {},
   "outputs": [
    {
     "data": {
      "text/plain": [
       "count    202607.000000\n",
       "mean          6.755887\n",
       "std           5.843365\n",
       "min           0.000000\n",
       "25%           1.300000\n",
       "50%           6.000000\n",
       "75%          10.700000\n",
       "max          38.000000\n",
       "Name: duration, dtype: float64"
      ]
     },
     "execution_count": 5,
     "metadata": {},
     "output_type": "execute_result"
    }
   ],
   "source": [
    "calls[\"duration\"].describe()"
   ]
  },
  {
   "cell_type": "code",
   "execution_count": 6,
   "metadata": {},
   "outputs": [
    {
     "data": {
      "text/plain": [
       "count    149396.000000\n",
       "mean        370.192426\n",
       "std         278.300951\n",
       "min           0.000000\n",
       "25%         138.187500\n",
       "50%         348.015000\n",
       "75%         559.552500\n",
       "max        1724.830000\n",
       "Name: mb_used, dtype: float64"
      ]
     },
     "execution_count": 6,
     "metadata": {},
     "output_type": "execute_result"
    }
   ],
   "source": [
    "internet[\"mb_used\"].describe()"
   ]
  },
  {
   "cell_type": "code",
   "execution_count": 7,
   "metadata": {
    "scrolled": true
   },
   "outputs": [
    {
     "data": {
      "text/plain": [
       "count    500.00000\n",
       "mean      46.58800\n",
       "std       16.66763\n",
       "min       18.00000\n",
       "25%       32.00000\n",
       "50%       46.00000\n",
       "75%       62.00000\n",
       "max       75.00000\n",
       "Name: age, dtype: float64"
      ]
     },
     "execution_count": 7,
     "metadata": {},
     "output_type": "execute_result"
    }
   ],
   "source": [
    "users[\"age\"].describe()"
   ]
  },
  {
   "cell_type": "code",
   "execution_count": 8,
   "metadata": {},
   "outputs": [
    {
     "data": {
      "text/plain": [
       "array(['ultra', 'smart'], dtype=object)"
      ]
     },
     "execution_count": 8,
     "metadata": {},
     "output_type": "execute_result"
    }
   ],
   "source": [
    "users[\"tariff\"].unique()"
   ]
  },
  {
   "cell_type": "markdown",
   "metadata": {},
   "source": [
    "Тут тоже ничего не бросается в глаза. \n",
    "\n",
    "<a id=\"conc1\"></a>\n",
    "### 1.3. Вывод\n",
    "Обнаруженные в столбце `churn_date` пропуски объясняются его \"физическим смыслом\" и не требуют обработки. Явных ошибок в данных или некорректных значений в данных не обнаружено.\n",
    "\n",
    "<a id=\"preproccesing\"></a>\n",
    "## 2. Предобработка данных\n",
    "\n",
    "<a id=\"feature_preproc\"></a>\n",
    "### 2.1. Замена типов\n",
    "Приведём столбцы с датами к типу `datetime`, запишем отдельным столбцом месяцы в таблицах `calls`, `internet`, `messages`, поскольку это потребуется для дальнейшего анализа."
   ]
  },
  {
   "cell_type": "code",
   "execution_count": 9,
   "metadata": {},
   "outputs": [],
   "source": [
    "calls[\"call_date\"] = pd.to_datetime(calls[\"call_date\"], format=\"%Y-%m-%d\")\n",
    "internet[\"session_date\"] = pd.to_datetime(internet[\"session_date\"], format=\"%Y-%m-%d\")\n",
    "messages[\"message_date\"] = pd.to_datetime(messages[\"message_date\"], format=\"%Y-%m-%d\")\n",
    "users[\"reg_date\"] = pd.to_datetime(users[\"reg_date\"], format=\"%Y-%m-%d\")"
   ]
  },
  {
   "cell_type": "code",
   "execution_count": 10,
   "metadata": {},
   "outputs": [],
   "source": [
    "calls[\"call_month\"] = pd.DatetimeIndex(calls[\"call_date\"]).month\n",
    "internet[\"session_month\"] = pd.DatetimeIndex(internet[\"session_date\"]).month\n",
    "messages[\"message_month\"] = pd.DatetimeIndex(messages[\"message_date\"]).month"
   ]
  },
  {
   "cell_type": "markdown",
   "metadata": {},
   "source": [
    "Округлим вверх продолжительность каждого звонка в минутах и запишем эти значения в `duration_ceiled`. Затем создадим сводную таблицу, в которой индексами будут id пользователя и месяцы, в столбцах будут записаны общая продолжительность звонков в минутах (за месяц) и их количество."
   ]
  },
  {
   "cell_type": "code",
   "execution_count": 11,
   "metadata": {},
   "outputs": [],
   "source": [
    "calls[\"duration_ceiled\"] = calls[\"duration\"].apply(np.ceil)"
   ]
  },
  {
   "cell_type": "code",
   "execution_count": 12,
   "metadata": {},
   "outputs": [],
   "source": [
    "calls_pivot = calls.pivot_table(index=[\"user_id\", \"call_month\"], \n",
    "                                values=\"duration_ceiled\", \n",
    "                                aggfunc=[\"sum\", \"count\"])\n",
    "\n",
    "calls_pivot.columns = [\"sum_duration\", \"count_duration\"]"
   ]
  },
  {
   "cell_type": "code",
   "execution_count": 13,
   "metadata": {},
   "outputs": [
    {
     "data": {
      "text/html": [
       "<div>\n",
       "<style scoped>\n",
       "    .dataframe tbody tr th:only-of-type {\n",
       "        vertical-align: middle;\n",
       "    }\n",
       "\n",
       "    .dataframe tbody tr th {\n",
       "        vertical-align: top;\n",
       "    }\n",
       "\n",
       "    .dataframe thead th {\n",
       "        text-align: right;\n",
       "    }\n",
       "</style>\n",
       "<table border=\"1\" class=\"dataframe\">\n",
       "  <thead>\n",
       "    <tr style=\"text-align: right;\">\n",
       "      <th></th>\n",
       "      <th></th>\n",
       "      <th>sum_duration</th>\n",
       "      <th>count_duration</th>\n",
       "    </tr>\n",
       "    <tr>\n",
       "      <th>user_id</th>\n",
       "      <th>call_month</th>\n",
       "      <th></th>\n",
       "      <th></th>\n",
       "    </tr>\n",
       "  </thead>\n",
       "  <tbody>\n",
       "    <tr>\n",
       "      <th rowspan=\"5\" valign=\"top\">1000</th>\n",
       "      <th>5</th>\n",
       "      <td>159.0</td>\n",
       "      <td>22</td>\n",
       "    </tr>\n",
       "    <tr>\n",
       "      <th>6</th>\n",
       "      <td>172.0</td>\n",
       "      <td>43</td>\n",
       "    </tr>\n",
       "    <tr>\n",
       "      <th>7</th>\n",
       "      <td>340.0</td>\n",
       "      <td>47</td>\n",
       "    </tr>\n",
       "    <tr>\n",
       "      <th>8</th>\n",
       "      <td>408.0</td>\n",
       "      <td>52</td>\n",
       "    </tr>\n",
       "    <tr>\n",
       "      <th>9</th>\n",
       "      <td>466.0</td>\n",
       "      <td>58</td>\n",
       "    </tr>\n",
       "  </tbody>\n",
       "</table>\n",
       "</div>"
      ],
      "text/plain": [
       "                    sum_duration  count_duration\n",
       "user_id call_month                              \n",
       "1000    5                  159.0              22\n",
       "        6                  172.0              43\n",
       "        7                  340.0              47\n",
       "        8                  408.0              52\n",
       "        9                  466.0              58"
      ]
     },
     "execution_count": 13,
     "metadata": {},
     "output_type": "execute_result"
    }
   ],
   "source": [
    "calls_pivot.head()"
   ]
  },
  {
   "cell_type": "markdown",
   "metadata": {},
   "source": [
    "Для таблицы `internet` проведём почти аналогичную операцию, только округление будем производить уже после создания сводной таблицы (в соответствии с указанным в описании проекта примечанием)."
   ]
  },
  {
   "cell_type": "code",
   "execution_count": 14,
   "metadata": {},
   "outputs": [],
   "source": [
    "internet_pivot = internet.pivot_table(index=[\"user_id\", \"session_month\"], \n",
    "                                      values=\"mb_used\", \n",
    "                                      aggfunc=[\"sum\", \"count\"])\n",
    "\n",
    "internet_pivot.columns = [\"sum_mb_used\", \"sessions_count\"]\n",
    "\n",
    "internet_pivot[\"sum_mb_used_ceiled\"] = internet_pivot[\"sum_mb_used\"].apply(np.ceil)"
   ]
  },
  {
   "cell_type": "code",
   "execution_count": 15,
   "metadata": {},
   "outputs": [
    {
     "data": {
      "text/html": [
       "<div>\n",
       "<style scoped>\n",
       "    .dataframe tbody tr th:only-of-type {\n",
       "        vertical-align: middle;\n",
       "    }\n",
       "\n",
       "    .dataframe tbody tr th {\n",
       "        vertical-align: top;\n",
       "    }\n",
       "\n",
       "    .dataframe thead th {\n",
       "        text-align: right;\n",
       "    }\n",
       "</style>\n",
       "<table border=\"1\" class=\"dataframe\">\n",
       "  <thead>\n",
       "    <tr style=\"text-align: right;\">\n",
       "      <th></th>\n",
       "      <th></th>\n",
       "      <th>sum_mb_used</th>\n",
       "      <th>sessions_count</th>\n",
       "      <th>sum_mb_used_ceiled</th>\n",
       "    </tr>\n",
       "    <tr>\n",
       "      <th>user_id</th>\n",
       "      <th>session_month</th>\n",
       "      <th></th>\n",
       "      <th></th>\n",
       "      <th></th>\n",
       "    </tr>\n",
       "  </thead>\n",
       "  <tbody>\n",
       "    <tr>\n",
       "      <th rowspan=\"5\" valign=\"top\">1000</th>\n",
       "      <th>5</th>\n",
       "      <td>2253.49</td>\n",
       "      <td>5</td>\n",
       "      <td>2254.0</td>\n",
       "    </tr>\n",
       "    <tr>\n",
       "      <th>6</th>\n",
       "      <td>23233.77</td>\n",
       "      <td>49</td>\n",
       "      <td>23234.0</td>\n",
       "    </tr>\n",
       "    <tr>\n",
       "      <th>7</th>\n",
       "      <td>14003.64</td>\n",
       "      <td>29</td>\n",
       "      <td>14004.0</td>\n",
       "    </tr>\n",
       "    <tr>\n",
       "      <th>8</th>\n",
       "      <td>14055.93</td>\n",
       "      <td>29</td>\n",
       "      <td>14056.0</td>\n",
       "    </tr>\n",
       "    <tr>\n",
       "      <th>9</th>\n",
       "      <td>14568.91</td>\n",
       "      <td>27</td>\n",
       "      <td>14569.0</td>\n",
       "    </tr>\n",
       "  </tbody>\n",
       "</table>\n",
       "</div>"
      ],
      "text/plain": [
       "                       sum_mb_used  sessions_count  sum_mb_used_ceiled\n",
       "user_id session_month                                                 \n",
       "1000    5                  2253.49               5              2254.0\n",
       "        6                 23233.77              49             23234.0\n",
       "        7                 14003.64              29             14004.0\n",
       "        8                 14055.93              29             14056.0\n",
       "        9                 14568.91              27             14569.0"
      ]
     },
     "execution_count": 15,
     "metadata": {},
     "output_type": "execute_result"
    }
   ],
   "source": [
    "internet_pivot.head()"
   ]
  },
  {
   "cell_type": "markdown",
   "metadata": {},
   "source": [
    "Аналогично создадим сводную таблицу по сообщениям."
   ]
  },
  {
   "cell_type": "code",
   "execution_count": 16,
   "metadata": {},
   "outputs": [],
   "source": [
    "messages_pivot = messages.pivot_table(index=[\"user_id\", \"message_month\"],\n",
    "                                      values=\"id\",\n",
    "                                      aggfunc=[\"count\"])\n",
    "\n",
    "messages_pivot.columns = [\"messages_count\"]"
   ]
  },
  {
   "cell_type": "code",
   "execution_count": 17,
   "metadata": {},
   "outputs": [
    {
     "data": {
      "text/html": [
       "<div>\n",
       "<style scoped>\n",
       "    .dataframe tbody tr th:only-of-type {\n",
       "        vertical-align: middle;\n",
       "    }\n",
       "\n",
       "    .dataframe tbody tr th {\n",
       "        vertical-align: top;\n",
       "    }\n",
       "\n",
       "    .dataframe thead th {\n",
       "        text-align: right;\n",
       "    }\n",
       "</style>\n",
       "<table border=\"1\" class=\"dataframe\">\n",
       "  <thead>\n",
       "    <tr style=\"text-align: right;\">\n",
       "      <th></th>\n",
       "      <th></th>\n",
       "      <th>messages_count</th>\n",
       "    </tr>\n",
       "    <tr>\n",
       "      <th>user_id</th>\n",
       "      <th>message_month</th>\n",
       "      <th></th>\n",
       "    </tr>\n",
       "  </thead>\n",
       "  <tbody>\n",
       "    <tr>\n",
       "      <th rowspan=\"5\" valign=\"top\">1000</th>\n",
       "      <th>5</th>\n",
       "      <td>22</td>\n",
       "    </tr>\n",
       "    <tr>\n",
       "      <th>6</th>\n",
       "      <td>60</td>\n",
       "    </tr>\n",
       "    <tr>\n",
       "      <th>7</th>\n",
       "      <td>75</td>\n",
       "    </tr>\n",
       "    <tr>\n",
       "      <th>8</th>\n",
       "      <td>81</td>\n",
       "    </tr>\n",
       "    <tr>\n",
       "      <th>9</th>\n",
       "      <td>57</td>\n",
       "    </tr>\n",
       "  </tbody>\n",
       "</table>\n",
       "</div>"
      ],
      "text/plain": [
       "                       messages_count\n",
       "user_id message_month                \n",
       "1000    5                          22\n",
       "        6                          60\n",
       "        7                          75\n",
       "        8                          81\n",
       "        9                          57"
      ]
     },
     "execution_count": 17,
     "metadata": {},
     "output_type": "execute_result"
    }
   ],
   "source": [
    "messages_pivot.head()"
   ]
  },
  {
   "cell_type": "markdown",
   "metadata": {},
   "source": [
    "Оценим доли пропущенных звонков и сессий с нулевым трафиком."
   ]
  },
  {
   "cell_type": "code",
   "execution_count": 18,
   "metadata": {},
   "outputs": [
    {
     "name": "stdout",
     "output_type": "stream",
     "text": [
      "Доля пропущенных звонков: 19.6%\n",
      "Доля сессий с нулевым трафиком: 13.1%\n"
     ]
    }
   ],
   "source": [
    "print(f\"Доля пропущенных звонков: {calls['duration'].value_counts(normalize=True)[0]:.1%}\")\n",
    "print(f\"Доля сессий с нулевым трафиком: {internet['mb_used'].value_counts(normalize=True)[0]:.1%}\")"
   ]
  },
  {
   "cell_type": "markdown",
   "metadata": {},
   "source": [
    "Доли нулей достаточно большие, однако нет смысла эти нули как-то обрабатывать.\n",
    "\n",
    "<a id=\"pivot\"></a>\n",
    "### 2.2. Создание сводной таблицы\n",
    "Теперь объедим полученные таблицы в одну, которую назовём `data_pivot`. В новой таблице будут пропущенные значения. Они будут соответствовать тем пользователям, которые не отправляли сообщений, не производили звонков или не использовали интернет-трафик. Исходя из этого, пропуски можно просто заполнить нулями. \n",
    "\n",
    "Затем приведём данные в `sum_duration`, `count_duration`, `messages_count` к целым числам, а от столбца `sum_mb_used` избавимся, так как есть столбец с округлёнными значениями. \n",
    "\n",
    "После этого добавим в таблицу информацию о названии тарифа, который использует абонент."
   ]
  },
  {
   "cell_type": "code",
   "execution_count": 19,
   "metadata": {},
   "outputs": [],
   "source": [
    "users.index = users[\"user_id\"]"
   ]
  },
  {
   "cell_type": "code",
   "execution_count": 20,
   "metadata": {},
   "outputs": [],
   "source": [
    "data_pivot = internet_pivot.join(calls_pivot, on=[\"user_id\", \"session_month\"], how=\"outer\")\n",
    "data_pivot = data_pivot.join(messages_pivot, on=[\"user_id\", \"session_month\"], how=\"outer\")\n",
    "data_pivot\n",
    "data_pivot.fillna(0, inplace=True)\n",
    "\n",
    "data_pivot[\"sum_duration\"] = data_pivot[\"sum_duration\"].astype(int)\n",
    "data_pivot[\"count_duration\"] = data_pivot[\"count_duration\"].astype(int)\n",
    "data_pivot[\"messages_count\"] = data_pivot[\"messages_count\"].astype(int)\n",
    "\n",
    "data_pivot.drop(columns=\"sum_mb_used\", inplace=True)\n",
    "\n",
    "data_pivot = data_pivot.join(users[\"tariff\"], on=\"user_id\")"
   ]
  },
  {
   "cell_type": "code",
   "execution_count": 21,
   "metadata": {},
   "outputs": [
    {
     "data": {
      "text/html": [
       "<div>\n",
       "<style scoped>\n",
       "    .dataframe tbody tr th:only-of-type {\n",
       "        vertical-align: middle;\n",
       "    }\n",
       "\n",
       "    .dataframe tbody tr th {\n",
       "        vertical-align: top;\n",
       "    }\n",
       "\n",
       "    .dataframe thead th {\n",
       "        text-align: right;\n",
       "    }\n",
       "</style>\n",
       "<table border=\"1\" class=\"dataframe\">\n",
       "  <thead>\n",
       "    <tr style=\"text-align: right;\">\n",
       "      <th></th>\n",
       "      <th></th>\n",
       "      <th>sessions_count</th>\n",
       "      <th>sum_mb_used_ceiled</th>\n",
       "      <th>sum_duration</th>\n",
       "      <th>count_duration</th>\n",
       "      <th>messages_count</th>\n",
       "      <th>tariff</th>\n",
       "    </tr>\n",
       "    <tr>\n",
       "      <th>user_id</th>\n",
       "      <th>session_month</th>\n",
       "      <th></th>\n",
       "      <th></th>\n",
       "      <th></th>\n",
       "      <th></th>\n",
       "      <th></th>\n",
       "      <th></th>\n",
       "    </tr>\n",
       "  </thead>\n",
       "  <tbody>\n",
       "    <tr>\n",
       "      <th rowspan=\"8\" valign=\"top\">1000</th>\n",
       "      <th>5</th>\n",
       "      <td>5.0</td>\n",
       "      <td>2254.0</td>\n",
       "      <td>159</td>\n",
       "      <td>22</td>\n",
       "      <td>22</td>\n",
       "      <td>ultra</td>\n",
       "    </tr>\n",
       "    <tr>\n",
       "      <th>6</th>\n",
       "      <td>49.0</td>\n",
       "      <td>23234.0</td>\n",
       "      <td>172</td>\n",
       "      <td>43</td>\n",
       "      <td>60</td>\n",
       "      <td>ultra</td>\n",
       "    </tr>\n",
       "    <tr>\n",
       "      <th>7</th>\n",
       "      <td>29.0</td>\n",
       "      <td>14004.0</td>\n",
       "      <td>340</td>\n",
       "      <td>47</td>\n",
       "      <td>75</td>\n",
       "      <td>ultra</td>\n",
       "    </tr>\n",
       "    <tr>\n",
       "      <th>8</th>\n",
       "      <td>29.0</td>\n",
       "      <td>14056.0</td>\n",
       "      <td>408</td>\n",
       "      <td>52</td>\n",
       "      <td>81</td>\n",
       "      <td>ultra</td>\n",
       "    </tr>\n",
       "    <tr>\n",
       "      <th>9</th>\n",
       "      <td>27.0</td>\n",
       "      <td>14569.0</td>\n",
       "      <td>466</td>\n",
       "      <td>58</td>\n",
       "      <td>57</td>\n",
       "      <td>ultra</td>\n",
       "    </tr>\n",
       "    <tr>\n",
       "      <th>10</th>\n",
       "      <td>27.0</td>\n",
       "      <td>14703.0</td>\n",
       "      <td>350</td>\n",
       "      <td>57</td>\n",
       "      <td>73</td>\n",
       "      <td>ultra</td>\n",
       "    </tr>\n",
       "    <tr>\n",
       "      <th>11</th>\n",
       "      <td>24.0</td>\n",
       "      <td>14757.0</td>\n",
       "      <td>338</td>\n",
       "      <td>43</td>\n",
       "      <td>58</td>\n",
       "      <td>ultra</td>\n",
       "    </tr>\n",
       "    <tr>\n",
       "      <th>12</th>\n",
       "      <td>21.0</td>\n",
       "      <td>9818.0</td>\n",
       "      <td>333</td>\n",
       "      <td>46</td>\n",
       "      <td>70</td>\n",
       "      <td>ultra</td>\n",
       "    </tr>\n",
       "    <tr>\n",
       "      <th rowspan=\"2\" valign=\"top\">1001</th>\n",
       "      <th>11</th>\n",
       "      <td>55.0</td>\n",
       "      <td>18430.0</td>\n",
       "      <td>430</td>\n",
       "      <td>59</td>\n",
       "      <td>0</td>\n",
       "      <td>smart</td>\n",
       "    </tr>\n",
       "    <tr>\n",
       "      <th>12</th>\n",
       "      <td>41.0</td>\n",
       "      <td>14037.0</td>\n",
       "      <td>414</td>\n",
       "      <td>63</td>\n",
       "      <td>0</td>\n",
       "      <td>smart</td>\n",
       "    </tr>\n",
       "    <tr>\n",
       "      <th rowspan=\"7\" valign=\"top\">1002</th>\n",
       "      <th>6</th>\n",
       "      <td>34.0</td>\n",
       "      <td>10857.0</td>\n",
       "      <td>117</td>\n",
       "      <td>15</td>\n",
       "      <td>4</td>\n",
       "      <td>smart</td>\n",
       "    </tr>\n",
       "    <tr>\n",
       "      <th>7</th>\n",
       "      <td>58.0</td>\n",
       "      <td>17581.0</td>\n",
       "      <td>214</td>\n",
       "      <td>26</td>\n",
       "      <td>11</td>\n",
       "      <td>smart</td>\n",
       "    </tr>\n",
       "    <tr>\n",
       "      <th>8</th>\n",
       "      <td>60.0</td>\n",
       "      <td>20320.0</td>\n",
       "      <td>289</td>\n",
       "      <td>42</td>\n",
       "      <td>13</td>\n",
       "      <td>smart</td>\n",
       "    </tr>\n",
       "    <tr>\n",
       "      <th>9</th>\n",
       "      <td>56.0</td>\n",
       "      <td>16692.0</td>\n",
       "      <td>206</td>\n",
       "      <td>36</td>\n",
       "      <td>4</td>\n",
       "      <td>smart</td>\n",
       "    </tr>\n",
       "    <tr>\n",
       "      <th>10</th>\n",
       "      <td>44.0</td>\n",
       "      <td>13889.0</td>\n",
       "      <td>212</td>\n",
       "      <td>33</td>\n",
       "      <td>10</td>\n",
       "      <td>smart</td>\n",
       "    </tr>\n",
       "    <tr>\n",
       "      <th>11</th>\n",
       "      <td>55.0</td>\n",
       "      <td>18588.0</td>\n",
       "      <td>243</td>\n",
       "      <td>32</td>\n",
       "      <td>16</td>\n",
       "      <td>smart</td>\n",
       "    </tr>\n",
       "    <tr>\n",
       "      <th>12</th>\n",
       "      <td>62.0</td>\n",
       "      <td>18114.0</td>\n",
       "      <td>236</td>\n",
       "      <td>33</td>\n",
       "      <td>12</td>\n",
       "      <td>smart</td>\n",
       "    </tr>\n",
       "    <tr>\n",
       "      <th rowspan=\"3\" valign=\"top\">1003</th>\n",
       "      <th>8</th>\n",
       "      <td>15.0</td>\n",
       "      <td>8566.0</td>\n",
       "      <td>380</td>\n",
       "      <td>55</td>\n",
       "      <td>37</td>\n",
       "      <td>ultra</td>\n",
       "    </tr>\n",
       "    <tr>\n",
       "      <th>9</th>\n",
       "      <td>22.0</td>\n",
       "      <td>12469.0</td>\n",
       "      <td>961</td>\n",
       "      <td>134</td>\n",
       "      <td>91</td>\n",
       "      <td>ultra</td>\n",
       "    </tr>\n",
       "    <tr>\n",
       "      <th>10</th>\n",
       "      <td>25.0</td>\n",
       "      <td>14769.0</td>\n",
       "      <td>855</td>\n",
       "      <td>108</td>\n",
       "      <td>83</td>\n",
       "      <td>ultra</td>\n",
       "    </tr>\n",
       "  </tbody>\n",
       "</table>\n",
       "</div>"
      ],
      "text/plain": [
       "                       sessions_count  sum_mb_used_ceiled  sum_duration  \\\n",
       "user_id session_month                                                     \n",
       "1000    5                         5.0              2254.0           159   \n",
       "        6                        49.0             23234.0           172   \n",
       "        7                        29.0             14004.0           340   \n",
       "        8                        29.0             14056.0           408   \n",
       "        9                        27.0             14569.0           466   \n",
       "        10                       27.0             14703.0           350   \n",
       "        11                       24.0             14757.0           338   \n",
       "        12                       21.0              9818.0           333   \n",
       "1001    11                       55.0             18430.0           430   \n",
       "        12                       41.0             14037.0           414   \n",
       "1002    6                        34.0             10857.0           117   \n",
       "        7                        58.0             17581.0           214   \n",
       "        8                        60.0             20320.0           289   \n",
       "        9                        56.0             16692.0           206   \n",
       "        10                       44.0             13889.0           212   \n",
       "        11                       55.0             18588.0           243   \n",
       "        12                       62.0             18114.0           236   \n",
       "1003    8                        15.0              8566.0           380   \n",
       "        9                        22.0             12469.0           961   \n",
       "        10                       25.0             14769.0           855   \n",
       "\n",
       "                       count_duration  messages_count tariff  \n",
       "user_id session_month                                         \n",
       "1000    5                          22              22  ultra  \n",
       "        6                          43              60  ultra  \n",
       "        7                          47              75  ultra  \n",
       "        8                          52              81  ultra  \n",
       "        9                          58              57  ultra  \n",
       "        10                         57              73  ultra  \n",
       "        11                         43              58  ultra  \n",
       "        12                         46              70  ultra  \n",
       "1001    11                         59               0  smart  \n",
       "        12                         63               0  smart  \n",
       "1002    6                          15               4  smart  \n",
       "        7                          26              11  smart  \n",
       "        8                          42              13  smart  \n",
       "        9                          36               4  smart  \n",
       "        10                         33              10  smart  \n",
       "        11                         32              16  smart  \n",
       "        12                         33              12  smart  \n",
       "1003    8                          55              37  ultra  \n",
       "        9                         134              91  ultra  \n",
       "        10                        108              83  ultra  "
      ]
     },
     "execution_count": 21,
     "metadata": {},
     "output_type": "execute_result"
    }
   ],
   "source": [
    "data_pivot.head(20)"
   ]
  },
  {
   "cell_type": "code",
   "execution_count": 22,
   "metadata": {},
   "outputs": [
    {
     "name": "stdout",
     "output_type": "stream",
     "text": [
      "Проверка интернет-трафика:           True\n",
      "Проверка общей длительности звонков: True\n",
      "Проверка количества звонков:         True\n",
      "Проверка количества сообщений:       True\n"
     ]
    }
   ],
   "source": [
    "print(\"Проверка интернет-трафика:          \", data_pivot[\"sum_mb_used_ceiled\"].sum() == internet_pivot[\"sum_mb_used_ceiled\"].sum())\n",
    "print(\"Проверка общей длительности звонков:\", data_pivot[\"sum_duration\"].sum() == calls_pivot[\"sum_duration\"].sum())\n",
    "print(\"Проверка количества звонков:        \", data_pivot[\"count_duration\"].sum() == calls_pivot[\"count_duration\"].sum())\n",
    "print(\"Проверка количества сообщений:      \", data_pivot[\"messages_count\"].sum() == messages_pivot[\"messages_count\"].sum())"
   ]
  },
  {
   "cell_type": "markdown",
   "metadata": {},
   "source": [
    "Всё верно, перейдём к расчёту помесячной выручки с каждого пользователя.\n",
    "\n",
    "<a id=\"revenue\"></a>\n",
    "### 2.3. Расчёт помесячной выручки с каждого пользователя\n",
    "Посчитаем помесячную выручку с каждого пользователя. Расчёт будет производиться следующим образом:\n",
    " - считаем разность фактически потраченного количества минут/звонков/МБ трафика и бесплатного лимита по условиям тарифа;\n",
    " - если разность больше нуля, то умножаем её на значение из тарифа;\n",
    " - добавляем абоненскую плату.\n",
    " \n",
    "Чтобы добавить столбец с этой величиной (`revenue_from_user`), напишем функцию `calculate_revenue_from_user`."
   ]
  },
  {
   "cell_type": "code",
   "execution_count": 23,
   "metadata": {},
   "outputs": [],
   "source": [
    "def calculate_revenue_from_user(data):\n",
    "    tariff = data['tariff']\n",
    "    \n",
    "    selected_tariff = tariffs.query(\"tariff_name == @tariff\")\n",
    "    \n",
    "    MESSAGES_INCLUDED = selected_tariff[\"messages_included\"].values[0]\n",
    "    MB_PER_MONTH_INCLUDED = selected_tariff[\"mb_per_month_included\"].values[0]\n",
    "    MINUTES_INCLUDED = selected_tariff[\"minutes_included\"].values[0]\n",
    "    RUB_MONTHLY_FEE = selected_tariff[\"rub_monthly_fee\"].values[0]\n",
    "    RUB_PER_GB = selected_tariff[\"rub_per_gb\"].values[0]\n",
    "    RUB_PER_MESSAGE = selected_tariff[\"rub_per_message\"].values[0]\n",
    "    RUB_PER_MINUTE = selected_tariff[\"rub_per_minute\"].values[0]\n",
    "    \n",
    "    revenue = 0\n",
    "    \n",
    "    if data[\"messages_count\"] - MESSAGES_INCLUDED > 0:\n",
    "        revenue += (data[\"messages_count\"] - MESSAGES_INCLUDED) * RUB_PER_MESSAGE\n",
    "        \n",
    "    if data[\"sum_duration\"] - MINUTES_INCLUDED > 0:\n",
    "        revenue += (data[\"sum_duration\"] - MINUTES_INCLUDED) * RUB_PER_MINUTE\n",
    "        \n",
    "    if data[\"sum_mb_used_ceiled\"] - MB_PER_MONTH_INCLUDED > 0:\n",
    "        revenue += np.ceil((data[\"sum_mb_used_ceiled\"] - MB_PER_MONTH_INCLUDED)/1024) * RUB_PER_GB\n",
    "\n",
    "    revenue += RUB_MONTHLY_FEE\n",
    "    \n",
    "    return revenue"
   ]
  },
  {
   "cell_type": "markdown",
   "metadata": {},
   "source": [
    "Применим функцию к таблице `data_pivot`, используя метод `.apply()`."
   ]
  },
  {
   "cell_type": "code",
   "execution_count": 24,
   "metadata": {},
   "outputs": [],
   "source": [
    "data_pivot[\"revenue_from_user\"] = data_pivot.apply(calculate_revenue_from_user, axis=1)"
   ]
  },
  {
   "cell_type": "code",
   "execution_count": 25,
   "metadata": {},
   "outputs": [
    {
     "data": {
      "text/html": [
       "<div>\n",
       "<style scoped>\n",
       "    .dataframe tbody tr th:only-of-type {\n",
       "        vertical-align: middle;\n",
       "    }\n",
       "\n",
       "    .dataframe tbody tr th {\n",
       "        vertical-align: top;\n",
       "    }\n",
       "\n",
       "    .dataframe thead th {\n",
       "        text-align: right;\n",
       "    }\n",
       "</style>\n",
       "<table border=\"1\" class=\"dataframe\">\n",
       "  <thead>\n",
       "    <tr style=\"text-align: right;\">\n",
       "      <th></th>\n",
       "      <th></th>\n",
       "      <th>sessions_count</th>\n",
       "      <th>sum_mb_used_ceiled</th>\n",
       "      <th>sum_duration</th>\n",
       "      <th>count_duration</th>\n",
       "      <th>messages_count</th>\n",
       "      <th>tariff</th>\n",
       "      <th>revenue_from_user</th>\n",
       "    </tr>\n",
       "    <tr>\n",
       "      <th>user_id</th>\n",
       "      <th>session_month</th>\n",
       "      <th></th>\n",
       "      <th></th>\n",
       "      <th></th>\n",
       "      <th></th>\n",
       "      <th></th>\n",
       "      <th></th>\n",
       "      <th></th>\n",
       "    </tr>\n",
       "  </thead>\n",
       "  <tbody>\n",
       "    <tr>\n",
       "      <th rowspan=\"8\" valign=\"top\">1000</th>\n",
       "      <th>5</th>\n",
       "      <td>5.0</td>\n",
       "      <td>2254.0</td>\n",
       "      <td>159</td>\n",
       "      <td>22</td>\n",
       "      <td>22</td>\n",
       "      <td>ultra</td>\n",
       "      <td>1950.0</td>\n",
       "    </tr>\n",
       "    <tr>\n",
       "      <th>6</th>\n",
       "      <td>49.0</td>\n",
       "      <td>23234.0</td>\n",
       "      <td>172</td>\n",
       "      <td>43</td>\n",
       "      <td>60</td>\n",
       "      <td>ultra</td>\n",
       "      <td>1950.0</td>\n",
       "    </tr>\n",
       "    <tr>\n",
       "      <th>7</th>\n",
       "      <td>29.0</td>\n",
       "      <td>14004.0</td>\n",
       "      <td>340</td>\n",
       "      <td>47</td>\n",
       "      <td>75</td>\n",
       "      <td>ultra</td>\n",
       "      <td>1950.0</td>\n",
       "    </tr>\n",
       "    <tr>\n",
       "      <th>8</th>\n",
       "      <td>29.0</td>\n",
       "      <td>14056.0</td>\n",
       "      <td>408</td>\n",
       "      <td>52</td>\n",
       "      <td>81</td>\n",
       "      <td>ultra</td>\n",
       "      <td>1950.0</td>\n",
       "    </tr>\n",
       "    <tr>\n",
       "      <th>9</th>\n",
       "      <td>27.0</td>\n",
       "      <td>14569.0</td>\n",
       "      <td>466</td>\n",
       "      <td>58</td>\n",
       "      <td>57</td>\n",
       "      <td>ultra</td>\n",
       "      <td>1950.0</td>\n",
       "    </tr>\n",
       "    <tr>\n",
       "      <th>10</th>\n",
       "      <td>27.0</td>\n",
       "      <td>14703.0</td>\n",
       "      <td>350</td>\n",
       "      <td>57</td>\n",
       "      <td>73</td>\n",
       "      <td>ultra</td>\n",
       "      <td>1950.0</td>\n",
       "    </tr>\n",
       "    <tr>\n",
       "      <th>11</th>\n",
       "      <td>24.0</td>\n",
       "      <td>14757.0</td>\n",
       "      <td>338</td>\n",
       "      <td>43</td>\n",
       "      <td>58</td>\n",
       "      <td>ultra</td>\n",
       "      <td>1950.0</td>\n",
       "    </tr>\n",
       "    <tr>\n",
       "      <th>12</th>\n",
       "      <td>21.0</td>\n",
       "      <td>9818.0</td>\n",
       "      <td>333</td>\n",
       "      <td>46</td>\n",
       "      <td>70</td>\n",
       "      <td>ultra</td>\n",
       "      <td>1950.0</td>\n",
       "    </tr>\n",
       "    <tr>\n",
       "      <th rowspan=\"2\" valign=\"top\">1001</th>\n",
       "      <th>11</th>\n",
       "      <td>55.0</td>\n",
       "      <td>18430.0</td>\n",
       "      <td>430</td>\n",
       "      <td>59</td>\n",
       "      <td>0</td>\n",
       "      <td>smart</td>\n",
       "      <td>1150.0</td>\n",
       "    </tr>\n",
       "    <tr>\n",
       "      <th>12</th>\n",
       "      <td>41.0</td>\n",
       "      <td>14037.0</td>\n",
       "      <td>414</td>\n",
       "      <td>63</td>\n",
       "      <td>0</td>\n",
       "      <td>smart</td>\n",
       "      <td>550.0</td>\n",
       "    </tr>\n",
       "    <tr>\n",
       "      <th rowspan=\"5\" valign=\"top\">1002</th>\n",
       "      <th>6</th>\n",
       "      <td>34.0</td>\n",
       "      <td>10857.0</td>\n",
       "      <td>117</td>\n",
       "      <td>15</td>\n",
       "      <td>4</td>\n",
       "      <td>smart</td>\n",
       "      <td>550.0</td>\n",
       "    </tr>\n",
       "    <tr>\n",
       "      <th>7</th>\n",
       "      <td>58.0</td>\n",
       "      <td>17581.0</td>\n",
       "      <td>214</td>\n",
       "      <td>26</td>\n",
       "      <td>11</td>\n",
       "      <td>smart</td>\n",
       "      <td>1150.0</td>\n",
       "    </tr>\n",
       "    <tr>\n",
       "      <th>8</th>\n",
       "      <td>60.0</td>\n",
       "      <td>20320.0</td>\n",
       "      <td>289</td>\n",
       "      <td>42</td>\n",
       "      <td>13</td>\n",
       "      <td>smart</td>\n",
       "      <td>1550.0</td>\n",
       "    </tr>\n",
       "    <tr>\n",
       "      <th>9</th>\n",
       "      <td>56.0</td>\n",
       "      <td>16692.0</td>\n",
       "      <td>206</td>\n",
       "      <td>36</td>\n",
       "      <td>4</td>\n",
       "      <td>smart</td>\n",
       "      <td>950.0</td>\n",
       "    </tr>\n",
       "    <tr>\n",
       "      <th>10</th>\n",
       "      <td>44.0</td>\n",
       "      <td>13889.0</td>\n",
       "      <td>212</td>\n",
       "      <td>33</td>\n",
       "      <td>10</td>\n",
       "      <td>smart</td>\n",
       "      <td>550.0</td>\n",
       "    </tr>\n",
       "  </tbody>\n",
       "</table>\n",
       "</div>"
      ],
      "text/plain": [
       "                       sessions_count  sum_mb_used_ceiled  sum_duration  \\\n",
       "user_id session_month                                                     \n",
       "1000    5                         5.0              2254.0           159   \n",
       "        6                        49.0             23234.0           172   \n",
       "        7                        29.0             14004.0           340   \n",
       "        8                        29.0             14056.0           408   \n",
       "        9                        27.0             14569.0           466   \n",
       "        10                       27.0             14703.0           350   \n",
       "        11                       24.0             14757.0           338   \n",
       "        12                       21.0              9818.0           333   \n",
       "1001    11                       55.0             18430.0           430   \n",
       "        12                       41.0             14037.0           414   \n",
       "1002    6                        34.0             10857.0           117   \n",
       "        7                        58.0             17581.0           214   \n",
       "        8                        60.0             20320.0           289   \n",
       "        9                        56.0             16692.0           206   \n",
       "        10                       44.0             13889.0           212   \n",
       "\n",
       "                       count_duration  messages_count tariff  \\\n",
       "user_id session_month                                          \n",
       "1000    5                          22              22  ultra   \n",
       "        6                          43              60  ultra   \n",
       "        7                          47              75  ultra   \n",
       "        8                          52              81  ultra   \n",
       "        9                          58              57  ultra   \n",
       "        10                         57              73  ultra   \n",
       "        11                         43              58  ultra   \n",
       "        12                         46              70  ultra   \n",
       "1001    11                         59               0  smart   \n",
       "        12                         63               0  smart   \n",
       "1002    6                          15               4  smart   \n",
       "        7                          26              11  smart   \n",
       "        8                          42              13  smart   \n",
       "        9                          36               4  smart   \n",
       "        10                         33              10  smart   \n",
       "\n",
       "                       revenue_from_user  \n",
       "user_id session_month                     \n",
       "1000    5                         1950.0  \n",
       "        6                         1950.0  \n",
       "        7                         1950.0  \n",
       "        8                         1950.0  \n",
       "        9                         1950.0  \n",
       "        10                        1950.0  \n",
       "        11                        1950.0  \n",
       "        12                        1950.0  \n",
       "1001    11                        1150.0  \n",
       "        12                         550.0  \n",
       "1002    6                          550.0  \n",
       "        7                         1150.0  \n",
       "        8                         1550.0  \n",
       "        9                          950.0  \n",
       "        10                         550.0  "
      ]
     },
     "execution_count": 25,
     "metadata": {},
     "output_type": "execute_result"
    }
   ],
   "source": [
    "data_pivot.head(15)"
   ]
  },
  {
   "cell_type": "markdown",
   "metadata": {},
   "source": [
    "Построим гистограмму распределения для нового признака."
   ]
  },
  {
   "cell_type": "code",
   "execution_count": 26,
   "metadata": {},
   "outputs": [
    {
     "data": {
      "text/html": [
       "<div>\n",
       "<style scoped>\n",
       "    .dataframe tbody tr th:only-of-type {\n",
       "        vertical-align: middle;\n",
       "    }\n",
       "\n",
       "    .dataframe tbody tr th {\n",
       "        vertical-align: top;\n",
       "    }\n",
       "\n",
       "    .dataframe thead th {\n",
       "        text-align: right;\n",
       "    }\n",
       "</style>\n",
       "<table border=\"1\" class=\"dataframe\">\n",
       "  <thead>\n",
       "    <tr style=\"text-align: right;\">\n",
       "      <th></th>\n",
       "      <th></th>\n",
       "      <th>sessions_count</th>\n",
       "      <th>sum_mb_used_ceiled</th>\n",
       "      <th>sum_duration</th>\n",
       "      <th>count_duration</th>\n",
       "      <th>messages_count</th>\n",
       "      <th>tariff</th>\n",
       "      <th>revenue_from_user</th>\n",
       "    </tr>\n",
       "    <tr>\n",
       "      <th>user_id</th>\n",
       "      <th>session_month</th>\n",
       "      <th></th>\n",
       "      <th></th>\n",
       "      <th></th>\n",
       "      <th></th>\n",
       "      <th></th>\n",
       "      <th></th>\n",
       "      <th></th>\n",
       "    </tr>\n",
       "  </thead>\n",
       "  <tbody>\n",
       "    <tr>\n",
       "      <th rowspan=\"5\" valign=\"top\">1000</th>\n",
       "      <th>5</th>\n",
       "      <td>5.0</td>\n",
       "      <td>2254.0</td>\n",
       "      <td>159</td>\n",
       "      <td>22</td>\n",
       "      <td>22</td>\n",
       "      <td>ultra</td>\n",
       "      <td>1950.0</td>\n",
       "    </tr>\n",
       "    <tr>\n",
       "      <th>6</th>\n",
       "      <td>49.0</td>\n",
       "      <td>23234.0</td>\n",
       "      <td>172</td>\n",
       "      <td>43</td>\n",
       "      <td>60</td>\n",
       "      <td>ultra</td>\n",
       "      <td>1950.0</td>\n",
       "    </tr>\n",
       "    <tr>\n",
       "      <th>7</th>\n",
       "      <td>29.0</td>\n",
       "      <td>14004.0</td>\n",
       "      <td>340</td>\n",
       "      <td>47</td>\n",
       "      <td>75</td>\n",
       "      <td>ultra</td>\n",
       "      <td>1950.0</td>\n",
       "    </tr>\n",
       "    <tr>\n",
       "      <th>8</th>\n",
       "      <td>29.0</td>\n",
       "      <td>14056.0</td>\n",
       "      <td>408</td>\n",
       "      <td>52</td>\n",
       "      <td>81</td>\n",
       "      <td>ultra</td>\n",
       "      <td>1950.0</td>\n",
       "    </tr>\n",
       "    <tr>\n",
       "      <th>9</th>\n",
       "      <td>27.0</td>\n",
       "      <td>14569.0</td>\n",
       "      <td>466</td>\n",
       "      <td>58</td>\n",
       "      <td>57</td>\n",
       "      <td>ultra</td>\n",
       "      <td>1950.0</td>\n",
       "    </tr>\n",
       "    <tr>\n",
       "      <th>...</th>\n",
       "      <th>...</th>\n",
       "      <td>...</td>\n",
       "      <td>...</td>\n",
       "      <td>...</td>\n",
       "      <td>...</td>\n",
       "      <td>...</td>\n",
       "      <td>...</td>\n",
       "      <td>...</td>\n",
       "    </tr>\n",
       "    <tr>\n",
       "      <th rowspan=\"2\" valign=\"top\">1273</th>\n",
       "      <th>11</th>\n",
       "      <td>0.0</td>\n",
       "      <td>0.0</td>\n",
       "      <td>272</td>\n",
       "      <td>45</td>\n",
       "      <td>29</td>\n",
       "      <td>ultra</td>\n",
       "      <td>1950.0</td>\n",
       "    </tr>\n",
       "    <tr>\n",
       "      <th>12</th>\n",
       "      <td>0.0</td>\n",
       "      <td>0.0</td>\n",
       "      <td>260</td>\n",
       "      <td>41</td>\n",
       "      <td>39</td>\n",
       "      <td>ultra</td>\n",
       "      <td>1950.0</td>\n",
       "    </tr>\n",
       "    <tr>\n",
       "      <th>1377</th>\n",
       "      <th>2</th>\n",
       "      <td>0.0</td>\n",
       "      <td>0.0</td>\n",
       "      <td>179</td>\n",
       "      <td>23</td>\n",
       "      <td>2</td>\n",
       "      <td>ultra</td>\n",
       "      <td>1950.0</td>\n",
       "    </tr>\n",
       "    <tr>\n",
       "      <th>1392</th>\n",
       "      <th>2</th>\n",
       "      <td>0.0</td>\n",
       "      <td>0.0</td>\n",
       "      <td>13</td>\n",
       "      <td>2</td>\n",
       "      <td>3</td>\n",
       "      <td>ultra</td>\n",
       "      <td>1950.0</td>\n",
       "    </tr>\n",
       "    <tr>\n",
       "      <th>1446</th>\n",
       "      <th>8</th>\n",
       "      <td>0.0</td>\n",
       "      <td>0.0</td>\n",
       "      <td>50</td>\n",
       "      <td>4</td>\n",
       "      <td>1</td>\n",
       "      <td>smart</td>\n",
       "      <td>550.0</td>\n",
       "    </tr>\n",
       "  </tbody>\n",
       "</table>\n",
       "<p>3214 rows × 7 columns</p>\n",
       "</div>"
      ],
      "text/plain": [
       "                       sessions_count  sum_mb_used_ceiled  sum_duration  \\\n",
       "user_id session_month                                                     \n",
       "1000    5                         5.0              2254.0           159   \n",
       "        6                        49.0             23234.0           172   \n",
       "        7                        29.0             14004.0           340   \n",
       "        8                        29.0             14056.0           408   \n",
       "        9                        27.0             14569.0           466   \n",
       "...                               ...                 ...           ...   \n",
       "1273    11                        0.0                 0.0           272   \n",
       "        12                        0.0                 0.0           260   \n",
       "1377    2                         0.0                 0.0           179   \n",
       "1392    2                         0.0                 0.0            13   \n",
       "1446    8                         0.0                 0.0            50   \n",
       "\n",
       "                       count_duration  messages_count tariff  \\\n",
       "user_id session_month                                          \n",
       "1000    5                          22              22  ultra   \n",
       "        6                          43              60  ultra   \n",
       "        7                          47              75  ultra   \n",
       "        8                          52              81  ultra   \n",
       "        9                          58              57  ultra   \n",
       "...                               ...             ...    ...   \n",
       "1273    11                         45              29  ultra   \n",
       "        12                         41              39  ultra   \n",
       "1377    2                          23               2  ultra   \n",
       "1392    2                           2               3  ultra   \n",
       "1446    8                           4               1  smart   \n",
       "\n",
       "                       revenue_from_user  \n",
       "user_id session_month                     \n",
       "1000    5                         1950.0  \n",
       "        6                         1950.0  \n",
       "        7                         1950.0  \n",
       "        8                         1950.0  \n",
       "        9                         1950.0  \n",
       "...                                  ...  \n",
       "1273    11                        1950.0  \n",
       "        12                        1950.0  \n",
       "1377    2                         1950.0  \n",
       "1392    2                         1950.0  \n",
       "1446    8                          550.0  \n",
       "\n",
       "[3214 rows x 7 columns]"
      ]
     },
     "execution_count": 26,
     "metadata": {},
     "output_type": "execute_result"
    }
   ],
   "source": [
    "data_pivot"
   ]
  },
  {
   "cell_type": "code",
   "execution_count": 27,
   "metadata": {},
   "outputs": [
    {
     "data": {
      "image/png": "[encoded data removed]",
      "text/plain": [
       "<Figure size 648x432 with 1 Axes>"
      ]
     },
     "metadata": {
      "needs_background": "light"
     },
     "output_type": "display_data"
    }
   ],
   "source": [
    "data_pivot.query(\"tariff == 'smart'\")[\"revenue_from_user\"].plot(kind=\"hist\", bins=50, grid=True, figsize=(9, 6), alpha=0.7,\n",
    "                                     title=\"Распределение ежемесячной выручки с пользователей\")\n",
    "data_pivot.query(\"tariff != 'smart'\")[\"revenue_from_user\"].plot(kind=\"hist\", bins=25, grid=True, figsize=(9, 6), alpha=0.7,\n",
    "                                     title=\"Распределение ежемесячной выручки с пользователей\")\n",
    "\n",
    "plt.xlabel(\"Выручка, руб.\")\n",
    "plt.ylabel(\"Количество значений выручки\")\n",
    "plt.legend([\"тариф «Смарт»\", \"тариф «Ультра»\"]);"
   ]
  },
  {
   "cell_type": "code",
   "execution_count": 28,
   "metadata": {},
   "outputs": [
    {
     "data": {
      "text/html": [
       "<div>\n",
       "<style scoped>\n",
       "    .dataframe tbody tr th:only-of-type {\n",
       "        vertical-align: middle;\n",
       "    }\n",
       "\n",
       "    .dataframe tbody tr th {\n",
       "        vertical-align: top;\n",
       "    }\n",
       "\n",
       "    .dataframe thead th {\n",
       "        text-align: right;\n",
       "    }\n",
       "</style>\n",
       "<table border=\"1\" class=\"dataframe\">\n",
       "  <thead>\n",
       "    <tr style=\"text-align: right;\">\n",
       "      <th></th>\n",
       "      <th>messages_included</th>\n",
       "      <th>mb_per_month_included</th>\n",
       "      <th>minutes_included</th>\n",
       "      <th>rub_monthly_fee</th>\n",
       "      <th>rub_per_gb</th>\n",
       "      <th>rub_per_message</th>\n",
       "      <th>rub_per_minute</th>\n",
       "      <th>tariff_name</th>\n",
       "    </tr>\n",
       "  </thead>\n",
       "  <tbody>\n",
       "    <tr>\n",
       "      <th>0</th>\n",
       "      <td>50</td>\n",
       "      <td>15360</td>\n",
       "      <td>500</td>\n",
       "      <td>550</td>\n",
       "      <td>200</td>\n",
       "      <td>3</td>\n",
       "      <td>3</td>\n",
       "      <td>smart</td>\n",
       "    </tr>\n",
       "    <tr>\n",
       "      <th>1</th>\n",
       "      <td>1000</td>\n",
       "      <td>30720</td>\n",
       "      <td>3000</td>\n",
       "      <td>1950</td>\n",
       "      <td>150</td>\n",
       "      <td>1</td>\n",
       "      <td>1</td>\n",
       "      <td>ultra</td>\n",
       "    </tr>\n",
       "  </tbody>\n",
       "</table>\n",
       "</div>"
      ],
      "text/plain": [
       "   messages_included  mb_per_month_included  minutes_included  \\\n",
       "0                 50                  15360               500   \n",
       "1               1000                  30720              3000   \n",
       "\n",
       "   rub_monthly_fee  rub_per_gb  rub_per_message  rub_per_minute tariff_name  \n",
       "0              550         200                3               3       smart  \n",
       "1             1950         150                1               1       ultra  "
      ]
     },
     "execution_count": 28,
     "metadata": {},
     "output_type": "execute_result"
    }
   ],
   "source": [
    "tariffs"
   ]
  },
  {
   "cell_type": "markdown",
   "metadata": {},
   "source": [
    "Можно заметить два пика: первый примерно соответствует 500 рублям, второй — 2000. Полученные значения совпадают с ежемесячными платежами для разных тарифов. Следовательно, значительное число пользователей тарифа «Ультра» укладывается в лимиты, обозначенные тарифным планом. Поскольку пользователи тарифа «Ультра» платят в месяц не менее 1950 рублей, то все значения левее относятся к пользователям «Смарт». Поэтому по гистограмме можно сделать вывод, что пользователи «Смарт» несколько чаще не укладываются в лимиты тарифа. "
   ]
  },
  {
   "cell_type": "code",
   "execution_count": 29,
   "metadata": {},
   "outputs": [],
   "source": [
    "smart_users = data_pivot.query(\"tariff == 'smart'\")\n",
    "ultra_users = data_pivot.query(\"tariff == 'ultra'\")"
   ]
  },
  {
   "cell_type": "code",
   "execution_count": 30,
   "metadata": {},
   "outputs": [
    {
     "name": "stdout",
     "output_type": "stream",
     "text": [
      "Доля пользователей, которые не укладываются в лимиты тарифов\n",
      "\tтариф Смарт  74.6%\n",
      "\tтариф Ультра 13.6%\n"
     ]
    }
   ],
   "source": [
    "print(\"Доля пользователей, которые не укладываются в лимиты тарифов\")\n",
    "print(f\"\\tтариф Смарт  {(smart_users['revenue_from_user'] > 550).mean():.1%}\")\n",
    "print(f\"\\tтариф Ультра {(ultra_users['revenue_from_user'] > 1950).mean():.1%}\")"
   ]
  },
  {
   "cell_type": "code",
   "execution_count": 31,
   "metadata": {},
   "outputs": [
    {
     "name": "stdout",
     "output_type": "stream",
     "text": [
      "Средний размер платы сверх стоимости тарифа\n",
      "\tтариф Смарт   992.42 руб.\n",
      "\tтариф Ультра  883.21 руб.\n"
     ]
    }
   ],
   "source": [
    "print(\"Средний размер платы сверх стоимости тарифа\")\n",
    "print(f\"\\tтариф Смарт   {(smart_users.query('revenue_from_user > 550')['revenue_from_user'] - 550).mean():.2f} руб.\")\n",
    "print(f\"\\tтариф Ультра  {(ultra_users.query('revenue_from_user > 1950')['revenue_from_user'] - 1950).mean():.2f} руб.\")"
   ]
  },
  {
   "cell_type": "markdown",
   "metadata": {},
   "source": [
    "<a id=\"conc2\"></a>\n",
    "### 2.4. Вывод\n",
    "Произведена замена типа данных там, где это требовалось. Создана сводная таблица с данными, которые будут использоваться в дальнейшей работе. Рассчитана и внесена в сводную таблицу помесячная выручка с каждого пользователя.\n",
    "\n",
    "<a id=\"analysis\"></a>\n",
    "## 3. Анализ данных\n",
    "\n",
    "<a id=\"stats\"></a>\n",
    "### 3.1. Расчёт статистических характеристик\n",
    "Выберем пользователей, которые пользуются тем или иным тарифом. Применим метод `.query()` к `data_pivot`, затем сделаем две сводных таблицы, в которых будем считать среднее, дисперсию и стандартное отклонение для количества израсходованного интернет-трафика, продолжительность звонков и количества отправленных сообщений для каждого пользователя. В `smart_users_stat` будут данные о пользователях тарифа «Смарт», в `ultra_users_stat` — о пользователях тарифа «Ультра»."
   ]
  },
  {
   "cell_type": "code",
   "execution_count": 32,
   "metadata": {},
   "outputs": [],
   "source": [
    "smart_users = data_pivot.query(\"tariff == 'smart'\")\n",
    "ultra_users = data_pivot.query(\"tariff == 'ultra'\")"
   ]
  },
  {
   "cell_type": "code",
   "execution_count": 33,
   "metadata": {},
   "outputs": [],
   "source": [
    "smart_users_stat = smart_users.pivot_table(index=\"user_id\", \n",
    "                                           values=[\"sum_mb_used_ceiled\", \"sum_duration\", \"messages_count\"],\n",
    "                                           aggfunc=[\"mean\", \"std\", \"var\"])\n",
    "\n",
    "ultra_users_stat = ultra_users.pivot_table(index=\"user_id\", \n",
    "                                           values=[\"sum_mb_used_ceiled\", \"sum_duration\", \"messages_count\"],\n",
    "                                           aggfunc=[\"mean\", \"std\", \"var\"])"
   ]
  },
  {
   "cell_type": "code",
   "execution_count": 34,
   "metadata": {},
   "outputs": [
    {
     "data": {
      "text/html": [
       "<div>\n",
       "<style scoped>\n",
       "    .dataframe tbody tr th:only-of-type {\n",
       "        vertical-align: middle;\n",
       "    }\n",
       "\n",
       "    .dataframe tbody tr th {\n",
       "        vertical-align: top;\n",
       "    }\n",
       "\n",
       "    .dataframe thead tr th {\n",
       "        text-align: left;\n",
       "    }\n",
       "\n",
       "    .dataframe thead tr:last-of-type th {\n",
       "        text-align: right;\n",
       "    }\n",
       "</style>\n",
       "<table border=\"1\" class=\"dataframe\">\n",
       "  <thead>\n",
       "    <tr>\n",
       "      <th></th>\n",
       "      <th colspan=\"3\" halign=\"left\">mean</th>\n",
       "      <th colspan=\"3\" halign=\"left\">std</th>\n",
       "      <th colspan=\"3\" halign=\"left\">var</th>\n",
       "    </tr>\n",
       "    <tr>\n",
       "      <th></th>\n",
       "      <th>messages_count</th>\n",
       "      <th>sum_duration</th>\n",
       "      <th>sum_mb_used_ceiled</th>\n",
       "      <th>messages_count</th>\n",
       "      <th>sum_duration</th>\n",
       "      <th>sum_mb_used_ceiled</th>\n",
       "      <th>messages_count</th>\n",
       "      <th>sum_duration</th>\n",
       "      <th>sum_mb_used_ceiled</th>\n",
       "    </tr>\n",
       "    <tr>\n",
       "      <th>user_id</th>\n",
       "      <th></th>\n",
       "      <th></th>\n",
       "      <th></th>\n",
       "      <th></th>\n",
       "      <th></th>\n",
       "      <th></th>\n",
       "      <th></th>\n",
       "      <th></th>\n",
       "      <th></th>\n",
       "    </tr>\n",
       "  </thead>\n",
       "  <tbody>\n",
       "    <tr>\n",
       "      <th>1001</th>\n",
       "      <td>0.0</td>\n",
       "      <td>422.000000</td>\n",
       "      <td>16233.500000</td>\n",
       "      <td>0.000000</td>\n",
       "      <td>11.313708</td>\n",
       "      <td>3106.320090</td>\n",
       "      <td>0.000000</td>\n",
       "      <td>128.000000</td>\n",
       "      <td>9.649224e+06</td>\n",
       "    </tr>\n",
       "    <tr>\n",
       "      <th>1002</th>\n",
       "      <td>10.0</td>\n",
       "      <td>216.714286</td>\n",
       "      <td>16577.285714</td>\n",
       "      <td>4.509250</td>\n",
       "      <td>52.242110</td>\n",
       "      <td>3198.476810</td>\n",
       "      <td>20.333333</td>\n",
       "      <td>2729.238095</td>\n",
       "      <td>1.023025e+07</td>\n",
       "    </tr>\n",
       "    <tr>\n",
       "      <th>1005</th>\n",
       "      <td>46.0</td>\n",
       "      <td>550.416667</td>\n",
       "      <td>8307.666667</td>\n",
       "      <td>14.396969</td>\n",
       "      <td>163.198963</td>\n",
       "      <td>2440.831018</td>\n",
       "      <td>207.272727</td>\n",
       "      <td>26633.901515</td>\n",
       "      <td>5.957656e+06</td>\n",
       "    </tr>\n",
       "    <tr>\n",
       "      <th>1006</th>\n",
       "      <td>0.0</td>\n",
       "      <td>318.272727</td>\n",
       "      <td>14926.727273</td>\n",
       "      <td>0.000000</td>\n",
       "      <td>109.454183</td>\n",
       "      <td>5322.181566</td>\n",
       "      <td>0.000000</td>\n",
       "      <td>11980.218182</td>\n",
       "      <td>2.832562e+07</td>\n",
       "    </tr>\n",
       "    <tr>\n",
       "      <th>1007</th>\n",
       "      <td>25.0</td>\n",
       "      <td>486.555556</td>\n",
       "      <td>14625.666667</td>\n",
       "      <td>7.905694</td>\n",
       "      <td>131.142204</td>\n",
       "      <td>3597.862629</td>\n",
       "      <td>62.500000</td>\n",
       "      <td>17198.277778</td>\n",
       "      <td>1.294462e+07</td>\n",
       "    </tr>\n",
       "  </tbody>\n",
       "</table>\n",
       "</div>"
      ],
      "text/plain": [
       "                  mean                                            std  \\\n",
       "        messages_count sum_duration sum_mb_used_ceiled messages_count   \n",
       "user_id                                                                 \n",
       "1001               0.0   422.000000       16233.500000       0.000000   \n",
       "1002              10.0   216.714286       16577.285714       4.509250   \n",
       "1005              46.0   550.416667        8307.666667      14.396969   \n",
       "1006               0.0   318.272727       14926.727273       0.000000   \n",
       "1007              25.0   486.555556       14625.666667       7.905694   \n",
       "\n",
       "                                                   var                \\\n",
       "        sum_duration sum_mb_used_ceiled messages_count  sum_duration   \n",
       "user_id                                                                \n",
       "1001       11.313708        3106.320090       0.000000    128.000000   \n",
       "1002       52.242110        3198.476810      20.333333   2729.238095   \n",
       "1005      163.198963        2440.831018     207.272727  26633.901515   \n",
       "1006      109.454183        5322.181566       0.000000  11980.218182   \n",
       "1007      131.142204        3597.862629      62.500000  17198.277778   \n",
       "\n",
       "                            \n",
       "        sum_mb_used_ceiled  \n",
       "user_id                     \n",
       "1001          9.649224e+06  \n",
       "1002          1.023025e+07  \n",
       "1005          5.957656e+06  \n",
       "1006          2.832562e+07  \n",
       "1007          1.294462e+07  "
      ]
     },
     "execution_count": 34,
     "metadata": {},
     "output_type": "execute_result"
    }
   ],
   "source": [
    "smart_users_stat.head()"
   ]
  },
  {
   "cell_type": "code",
   "execution_count": 35,
   "metadata": {},
   "outputs": [
    {
     "data": {
      "text/html": [
       "<div>\n",
       "<style scoped>\n",
       "    .dataframe tbody tr th:only-of-type {\n",
       "        vertical-align: middle;\n",
       "    }\n",
       "\n",
       "    .dataframe tbody tr th {\n",
       "        vertical-align: top;\n",
       "    }\n",
       "\n",
       "    .dataframe thead tr th {\n",
       "        text-align: left;\n",
       "    }\n",
       "\n",
       "    .dataframe thead tr:last-of-type th {\n",
       "        text-align: right;\n",
       "    }\n",
       "</style>\n",
       "<table border=\"1\" class=\"dataframe\">\n",
       "  <thead>\n",
       "    <tr>\n",
       "      <th></th>\n",
       "      <th colspan=\"3\" halign=\"left\">mean</th>\n",
       "      <th colspan=\"3\" halign=\"left\">std</th>\n",
       "      <th colspan=\"3\" halign=\"left\">var</th>\n",
       "    </tr>\n",
       "    <tr>\n",
       "      <th></th>\n",
       "      <th>messages_count</th>\n",
       "      <th>sum_duration</th>\n",
       "      <th>sum_mb_used_ceiled</th>\n",
       "      <th>messages_count</th>\n",
       "      <th>sum_duration</th>\n",
       "      <th>sum_mb_used_ceiled</th>\n",
       "      <th>messages_count</th>\n",
       "      <th>sum_duration</th>\n",
       "      <th>sum_mb_used_ceiled</th>\n",
       "    </tr>\n",
       "    <tr>\n",
       "      <th>user_id</th>\n",
       "      <th></th>\n",
       "      <th></th>\n",
       "      <th></th>\n",
       "      <th></th>\n",
       "      <th></th>\n",
       "      <th></th>\n",
       "      <th></th>\n",
       "      <th></th>\n",
       "      <th></th>\n",
       "    </tr>\n",
       "  </thead>\n",
       "  <tbody>\n",
       "    <tr>\n",
       "      <th>1000</th>\n",
       "      <td>62.0</td>\n",
       "      <td>320.750</td>\n",
       "      <td>13424.375</td>\n",
       "      <td>18.361450</td>\n",
       "      <td>106.014487</td>\n",
       "      <td>5848.904829</td>\n",
       "      <td>337.142857</td>\n",
       "      <td>11239.071429</td>\n",
       "      <td>3.420969e+07</td>\n",
       "    </tr>\n",
       "    <tr>\n",
       "      <th>1003</th>\n",
       "      <td>76.0</td>\n",
       "      <td>764.400</td>\n",
       "      <td>11456.600</td>\n",
       "      <td>23.021729</td>\n",
       "      <td>223.377036</td>\n",
       "      <td>2352.848975</td>\n",
       "      <td>530.000000</td>\n",
       "      <td>49897.300000</td>\n",
       "      <td>5.535898e+06</td>\n",
       "    </tr>\n",
       "    <tr>\n",
       "      <th>1004</th>\n",
       "      <td>149.0</td>\n",
       "      <td>123.375</td>\n",
       "      <td>18630.625</td>\n",
       "      <td>25.867796</td>\n",
       "      <td>39.626605</td>\n",
       "      <td>4815.063979</td>\n",
       "      <td>669.142857</td>\n",
       "      <td>1570.267857</td>\n",
       "      <td>2.318484e+07</td>\n",
       "    </tr>\n",
       "    <tr>\n",
       "      <th>1013</th>\n",
       "      <td>21.0</td>\n",
       "      <td>468.000</td>\n",
       "      <td>15259.500</td>\n",
       "      <td>5.656854</td>\n",
       "      <td>140.007143</td>\n",
       "      <td>7747.769001</td>\n",
       "      <td>32.000000</td>\n",
       "      <td>19602.000000</td>\n",
       "      <td>6.002792e+07</td>\n",
       "    </tr>\n",
       "    <tr>\n",
       "      <th>1016</th>\n",
       "      <td>71.0</td>\n",
       "      <td>61.000</td>\n",
       "      <td>13406.000</td>\n",
       "      <td>45.254834</td>\n",
       "      <td>46.669048</td>\n",
       "      <td>8517.808286</td>\n",
       "      <td>2048.000000</td>\n",
       "      <td>2178.000000</td>\n",
       "      <td>7.255306e+07</td>\n",
       "    </tr>\n",
       "  </tbody>\n",
       "</table>\n",
       "</div>"
      ],
      "text/plain": [
       "                  mean                                            std  \\\n",
       "        messages_count sum_duration sum_mb_used_ceiled messages_count   \n",
       "user_id                                                                 \n",
       "1000              62.0      320.750          13424.375      18.361450   \n",
       "1003              76.0      764.400          11456.600      23.021729   \n",
       "1004             149.0      123.375          18630.625      25.867796   \n",
       "1013              21.0      468.000          15259.500       5.656854   \n",
       "1016              71.0       61.000          13406.000      45.254834   \n",
       "\n",
       "                                                   var                \\\n",
       "        sum_duration sum_mb_used_ceiled messages_count  sum_duration   \n",
       "user_id                                                                \n",
       "1000      106.014487        5848.904829     337.142857  11239.071429   \n",
       "1003      223.377036        2352.848975     530.000000  49897.300000   \n",
       "1004       39.626605        4815.063979     669.142857   1570.267857   \n",
       "1013      140.007143        7747.769001      32.000000  19602.000000   \n",
       "1016       46.669048        8517.808286    2048.000000   2178.000000   \n",
       "\n",
       "                            \n",
       "        sum_mb_used_ceiled  \n",
       "user_id                     \n",
       "1000          3.420969e+07  \n",
       "1003          5.535898e+06  \n",
       "1004          2.318484e+07  \n",
       "1013          6.002792e+07  \n",
       "1016          7.255306e+07  "
      ]
     },
     "execution_count": 35,
     "metadata": {},
     "output_type": "execute_result"
    }
   ],
   "source": [
    "ultra_users_stat.head()"
   ]
  },
  {
   "cell_type": "markdown",
   "metadata": {},
   "source": [
    "Статистические характеристики\n",
    "* _для пользователей тарифа «Смарт»_:"
   ]
  },
  {
   "cell_type": "code",
   "execution_count": 36,
   "metadata": {},
   "outputs": [
    {
     "data": {
      "text/html": [
       "<div>\n",
       "<style scoped>\n",
       "    .dataframe tbody tr th:only-of-type {\n",
       "        vertical-align: middle;\n",
       "    }\n",
       "\n",
       "    .dataframe tbody tr th {\n",
       "        vertical-align: top;\n",
       "    }\n",
       "\n",
       "    .dataframe thead th {\n",
       "        text-align: right;\n",
       "    }\n",
       "</style>\n",
       "<table border=\"1\" class=\"dataframe\">\n",
       "  <thead>\n",
       "    <tr style=\"text-align: right;\">\n",
       "      <th></th>\n",
       "      <th>mean</th>\n",
       "      <th>var</th>\n",
       "      <th>std</th>\n",
       "    </tr>\n",
       "  </thead>\n",
       "  <tbody>\n",
       "    <tr>\n",
       "      <th>sum_mb_used_ceiled</th>\n",
       "      <td>16208.9</td>\n",
       "      <td>34462562.8</td>\n",
       "      <td>5870.5</td>\n",
       "    </tr>\n",
       "    <tr>\n",
       "      <th>sum_duration</th>\n",
       "      <td>417.9</td>\n",
       "      <td>36219.3</td>\n",
       "      <td>190.3</td>\n",
       "    </tr>\n",
       "    <tr>\n",
       "      <th>messages_count</th>\n",
       "      <td>33.4</td>\n",
       "      <td>796.8</td>\n",
       "      <td>28.2</td>\n",
       "    </tr>\n",
       "  </tbody>\n",
       "</table>\n",
       "</div>"
      ],
      "text/plain": [
       "                       mean         var     std\n",
       "sum_mb_used_ceiled  16208.9  34462562.8  5870.5\n",
       "sum_duration          417.9     36219.3   190.3\n",
       "messages_count         33.4       796.8    28.2"
      ]
     },
     "execution_count": 36,
     "metadata": {},
     "output_type": "execute_result"
    }
   ],
   "source": [
    "smart_stats = {\n",
    "    \"mean\": smart_users[[\"sum_mb_used_ceiled\", \"sum_duration\", \"messages_count\"]].mean().round(1),\n",
    "    \"var\": smart_users[[\"sum_mb_used_ceiled\", \"sum_duration\", \"messages_count\"]].var().round(1),\n",
    "    \"std\": smart_users[[\"sum_mb_used_ceiled\", \"sum_duration\", \"messages_count\"]].std().round(1)\n",
    "}\n",
    "\n",
    "smart_stats = pd.DataFrame(smart_stats, \n",
    "                           columns=[\"mean\", \"var\", \"std\"], \n",
    "                           index=[\"sum_mb_used_ceiled\", \"sum_duration\", \"messages_count\"])\n",
    "smart_stats"
   ]
  },
  {
   "cell_type": "markdown",
   "metadata": {},
   "source": [
    "* _для пользователей тарифа «Ультра»_:"
   ]
  },
  {
   "cell_type": "code",
   "execution_count": 37,
   "metadata": {},
   "outputs": [
    {
     "data": {
      "text/html": [
       "<div>\n",
       "<style scoped>\n",
       "    .dataframe tbody tr th:only-of-type {\n",
       "        vertical-align: middle;\n",
       "    }\n",
       "\n",
       "    .dataframe tbody tr th {\n",
       "        vertical-align: top;\n",
       "    }\n",
       "\n",
       "    .dataframe thead th {\n",
       "        text-align: right;\n",
       "    }\n",
       "</style>\n",
       "<table border=\"1\" class=\"dataframe\">\n",
       "  <thead>\n",
       "    <tr style=\"text-align: right;\">\n",
       "      <th></th>\n",
       "      <th>mean</th>\n",
       "      <th>var</th>\n",
       "      <th>std</th>\n",
       "    </tr>\n",
       "  </thead>\n",
       "  <tbody>\n",
       "    <tr>\n",
       "      <th>sum_mb_used_ceiled</th>\n",
       "      <td>19469.3</td>\n",
       "      <td>101751558.0</td>\n",
       "      <td>10087.2</td>\n",
       "    </tr>\n",
       "    <tr>\n",
       "      <th>sum_duration</th>\n",
       "      <td>526.6</td>\n",
       "      <td>100873.6</td>\n",
       "      <td>317.6</td>\n",
       "    </tr>\n",
       "    <tr>\n",
       "      <th>messages_count</th>\n",
       "      <td>49.4</td>\n",
       "      <td>2285.3</td>\n",
       "      <td>47.8</td>\n",
       "    </tr>\n",
       "  </tbody>\n",
       "</table>\n",
       "</div>"
      ],
      "text/plain": [
       "                       mean          var      std\n",
       "sum_mb_used_ceiled  19469.3  101751558.0  10087.2\n",
       "sum_duration          526.6     100873.6    317.6\n",
       "messages_count         49.4       2285.3     47.8"
      ]
     },
     "execution_count": 37,
     "metadata": {},
     "output_type": "execute_result"
    }
   ],
   "source": [
    "ultra_stats = {\n",
    "    \"mean\": ultra_users[[\"sum_mb_used_ceiled\", \"sum_duration\", \"messages_count\"]].mean().round(1),\n",
    "    \"var\": ultra_users[[\"sum_mb_used_ceiled\", \"sum_duration\", \"messages_count\"]].var().round(1),\n",
    "    \"std\": ultra_users[[\"sum_mb_used_ceiled\", \"sum_duration\", \"messages_count\"]].std().round(1)\n",
    "}\n",
    "\n",
    "ultra_stats = pd.DataFrame(ultra_stats, \n",
    "                           columns=[\"mean\", \"var\", \"std\"], \n",
    "                           index=[\"sum_mb_used_ceiled\", \"sum_duration\", \"messages_count\"])\n",
    "ultra_stats"
   ]
  },
  {
   "cell_type": "markdown",
   "metadata": {},
   "source": [
    "Построим гистограммы распределений для этих признаков.\n",
    "<a id=\"histograms\"></a>\n",
    "### 3.2. Построение гистограмм"
   ]
  },
  {
   "cell_type": "code",
   "execution_count": 38,
   "metadata": {},
   "outputs": [
    {
     "data": {
      "image/png": "[encoded data removed]",
      "text/plain": [
       "<Figure size 1152x360 with 2 Axes>"
      ]
     },
     "metadata": {
      "needs_background": "light"
     },
     "output_type": "display_data"
    }
   ],
   "source": [
    "fig, axes = plt.subplots(nrows=1, ncols=2, figsize=(16, 5))\n",
    "\n",
    "fig.suptitle(\"Распределение среднего количества отправленных сообщений за месяц\", fontsize=16)\n",
    "\n",
    "plt.subplot(1, 2, 1)\n",
    "smart_users_stat[\"mean\"][\"messages_count\"].plot(kind=\"hist\", bins=12, grid=True, color=\"tab:blue\")\n",
    "plt.xlabel(\"Количество отправленных сообщений\")\n",
    "plt.ylabel(\"Количество пользователей\")\n",
    "plt.title(\"тариф «Смарт»\")\n",
    "\n",
    "plt.subplot(1, 2, 2)\n",
    "ultra_users_stat[\"mean\"][\"messages_count\"].plot(kind=\"hist\", bins=12, grid=True, color=\"tab:orange\")                                 \n",
    "plt.xlabel(\"Количество отправленных сообщений\")\n",
    "plt.ylabel(\"Количество пользователей\")\n",
    "plt.title(\"тариф «Ультра»\")\n",
    "\n",
    "plt.subplots_adjust(top=0.85)\n",
    "plt.show()"
   ]
  },
  {
   "cell_type": "code",
   "execution_count": 39,
   "metadata": {},
   "outputs": [
    {
     "data": {
      "image/png": "[encoded data removed]",
      "text/plain": [
       "<Figure size 1152x360 with 2 Axes>"
      ]
     },
     "metadata": {
      "needs_background": "light"
     },
     "output_type": "display_data"
    }
   ],
   "source": [
    "fig, axes = plt.subplots(nrows=1, ncols=2, figsize=(16, 5))\n",
    "\n",
    "fig.suptitle(\"Распределение среднего объёма использованного интернет-трафика за месяц\", fontsize=16)\n",
    "\n",
    "plt.subplot(1, 2, 1)\n",
    "smart_users_stat[\"mean\"][\"sum_mb_used_ceiled\"].plot(kind=\"hist\", bins=30, grid=True, color=\"tab:blue\")\n",
    "plt.xlabel(\"Объём трафика, МБ\")\n",
    "plt.ylabel(\"Количество пользователей\")\n",
    "plt.title(\"тариф «Смарт»\")\n",
    "\n",
    "plt.subplot(1, 2, 2)\n",
    "ultra_users_stat[\"mean\"][\"sum_mb_used_ceiled\"].plot(kind=\"hist\", bins=30, grid=True, color=\"tab:orange\")                               \n",
    "plt.xlabel(\"Объём трафика, МБ\")\n",
    "plt.ylabel(\"Количество пользователей\")\n",
    "plt.title(\"тариф «Ультра»\")\n",
    "\n",
    "plt.subplots_adjust(top=0.85)\n",
    "plt.show()"
   ]
  },
  {
   "cell_type": "code",
   "execution_count": 40,
   "metadata": {},
   "outputs": [
    {
     "data": {
      "image/png": "[encoded data removed]",
      "text/plain": [
       "<Figure size 1152x360 with 2 Axes>"
      ]
     },
     "metadata": {
      "needs_background": "light"
     },
     "output_type": "display_data"
    }
   ],
   "source": [
    "fig, axes = plt.subplots(nrows=1, ncols=2, figsize=(16, 5))\n",
    "\n",
    "fig.suptitle(\"Распределение средней длительности звонков за месяц\", fontsize=16)\n",
    "\n",
    "plt.subplot(1, 2, 1)\n",
    "smart_users_stat[\"mean\"][\"sum_duration\"].plot(kind=\"hist\", bins=30, grid=True, color=\"tab:blue\")    \n",
    "plt.xlabel(\"Средняя длительность звонков, мин.\")\n",
    "plt.ylabel(\"Количество пользователей\")\n",
    "plt.title(\"тариф «Смарт»\")\n",
    "\n",
    "plt.subplot(1, 2, 2)\n",
    "ultra_users_stat[\"mean\"][\"sum_duration\"].plot(kind=\"hist\", bins=30, grid=True, color=\"tab:orange\")                        \n",
    "plt.xlabel(\"Средняя длительность звонков, мин.\")\n",
    "plt.ylabel(\"Количество пользователей\")\n",
    "plt.title(\"тариф «Ультра»\")\n",
    "\n",
    "plt.subplots_adjust(top=0.85)\n",
    "plt.show()"
   ]
  },
  {
   "cell_type": "markdown",
   "metadata": {},
   "source": [
    "Формы распределений попарно похожи, однако из-за того, что пользователей тарифа «Ультра» несколько меньше, чем пользователей «Смарт», гистограммы получаются менее гладкими. \n",
    "\n",
    "По форме распределения среднего количества отправленных сообщений напоминают пуассоновское. Распределения среднего объёма использованного интернет-трафика и средней длительности звонков похожи на нормальные, что подтверждает центральную предельную теорему. Можно заметить, что пользователи «Ультра» тратят несколько больше трафика в месяц, а средняя продолжительность звонков за месяц у них несколько выше, чем у пользователей «Смарт». Из гисторамм видно, что примерно половина пользователей тарифа «Смарт» превышает лимиты интернет-трафика и количества минут, а пользователи тарифа «Ультра», наоборот, почти всегда укладываются.\n",
    "\n",
    "<a id=\"conc3\"></a>\n",
    "### 3.4. Вывод\n",
    "Были рассчитаны статистические характеристики для двух выборок (пользователей двух тарифов). Построены гистограммы распределений среднего количества отправленных сообщений, объёма использованного интренет-трафика и длительности звонков за месяц, произведён анализ получившихся распределений.\n",
    "\n",
    "<a id=\"hypothesis_testing\"></a>\n",
    "## 4. Проверка гипотез\n",
    "<a id=\"tariffs\"></a>\n",
    "### 4.1. Гипотеза о средней выручке с пользователей разных тарифов\n",
    "Необходимо проверить гипотезу, что _средняя выручка пользователей тарифов «Ультра» и «Смарт» различаются_. Пойдём от обратного, будем проверять гипотезу, что _средняя выручка пользователей тарифов «Ультра» и «Смарт» **не** различаются_. \n",
    "\n",
    "Разделим всю выборку на две части: в первую попадут пользователи тарифа «Смарт», а во вторую — «Ультра». "
   ]
  },
  {
   "cell_type": "code",
   "execution_count": 41,
   "metadata": {},
   "outputs": [],
   "source": [
    "smart_users_renevue = smart_users[\"revenue_from_user\"].values\n",
    "ultra_users_renevue = ultra_users[\"revenue_from_user\"].values"
   ]
  },
  {
   "cell_type": "markdown",
   "metadata": {},
   "source": [
    "Будем проверять гипотезу $H_0$, альтернативной гипотезой будет $H_a$.\n",
    "\n",
    "$H_0$: средняя выручка пользователей тарифов «Ультра» и «Смарт» одинаковы\n",
    "\n",
    "$H_a$: средняя выручка пользователей тарифов «Ультра» и «Смарт» различаются\n",
    "\n",
    "$H_0$ — это гипотеза о равенстве среднего двух генеральных совокупностей. Будем считать, что дисперсии у выборок, по которым будем проверять гипотезу, равны. Уровень значимости ${\\alpha}$ присвоим значение `0.05`.  \n",
    "\n",
    "Для проверки гипотезы по выборкам используем функцию `ttest_ind`. "
   ]
  },
  {
   "cell_type": "code",
   "execution_count": 42,
   "metadata": {},
   "outputs": [
    {
     "name": "stdout",
     "output_type": "stream",
     "text": [
      "p-value: 1.4229814360764067e-160\n",
      "Отвергаем нулевую гипотезу\n"
     ]
    }
   ],
   "source": [
    "alpha = 0.05\n",
    "results = st.ttest_ind(ultra_users_renevue, smart_users_renevue)\n",
    "\n",
    "if results.pvalue < alpha:\n",
    "    print(f\"p-value: {results.pvalue}\")\n",
    "    print(\"Отвергаем нулевую гипотезу\")\n",
    "else:\n",
    "    print(f\"p-value: {results.pvalue}\")\n",
    "    print(\"Не получилось отвергнуть нулевую гипотезу\") "
   ]
  },
  {
   "cell_type": "code",
   "execution_count": 43,
   "metadata": {},
   "outputs": [
    {
     "name": "stdout",
     "output_type": "stream",
     "text": [
      "Средняя выручка пользователей тарифа «Смарт»:  1289.97 руб.\n",
      "Средняя выручка пользователей тарифа «Ультра»: 2070.15 руб.\n"
     ]
    }
   ],
   "source": [
    "print(\"Средняя выручка пользователей тарифа «Смарт»: \", smart_users_renevue.mean().round(2), \"руб.\")\n",
    "print(\"Средняя выручка пользователей тарифа «Ультра»:\", ultra_users_renevue.mean().round(2), \"руб.\")"
   ]
  },
  {
   "cell_type": "code",
   "execution_count": 44,
   "metadata": {},
   "outputs": [
    {
     "name": "stdout",
     "output_type": "stream",
     "text": [
      "Суммарная выручка пользователей тарифа 'Смарт':  2875351.0 руб.\n",
      "Суммарная выручка пользователей тарифа 'Ультра': 2039100.0 руб.\n",
      "\n",
      "Доля выручки от пользователей тарифа 'Смарт':  58.5%\n",
      "Доля выручки от пользователей тарифа 'Ультра': 41.5%\n"
     ]
    }
   ],
   "source": [
    "smart_users_renevue_sum = smart_users_renevue.sum()\n",
    "ultra_users_renevue_sum = ultra_users_renevue.sum()\n",
    "users_revenue_sum = smart_users_renevue_sum + ultra_users_renevue_sum\n",
    "\n",
    "print(f\"Суммарная выручка пользователей тарифа 'Смарт':  {smart_users_renevue_sum} руб.\")\n",
    "print(f\"Суммарная выручка пользователей тарифа 'Ультра': {ultra_users_renevue_sum} руб.\")\n",
    "print()\n",
    "print(f\"Доля выручки от пользователей тарифа 'Смарт':  {smart_users_renevue_sum/users_revenue_sum:.1%}\")\n",
    "print(f\"Доля выручки от пользователей тарифа 'Ультра': {ultra_users_renevue_sum/users_revenue_sum:.1%}\")"
   ]
  },
  {
   "cell_type": "code",
   "execution_count": 45,
   "metadata": {
    "scrolled": true
   },
   "outputs": [
    {
     "data": {
      "text/plain": [
       "2875351.0"
      ]
     },
     "execution_count": 45,
     "metadata": {},
     "output_type": "execute_result"
    }
   ],
   "source": [
    "smart_users_renevue.sum()"
   ]
  },
  {
   "cell_type": "code",
   "execution_count": 46,
   "metadata": {},
   "outputs": [
    {
     "data": {
      "text/plain": [
       "2039100.0"
      ]
     },
     "execution_count": 46,
     "metadata": {},
     "output_type": "execute_result"
    }
   ],
   "source": [
    "ultra_users_renevue.sum()"
   ]
  },
  {
   "cell_type": "markdown",
   "metadata": {},
   "source": [
    "Тест показал, что данные противоречат гипотезе $H_0$, поэтому отвергаем её. Таким образом, вероятно, что средняя выручка пользователей тарифа «Ультра» действительно отличается от выручки пользователей тарифа «Смарт». \n",
    "\n",
    "<a id=\"regions\"></a>\n",
    "### 4.2. Гипотеза о средней выручке с пользователей из разных регионов\n",
    "Теперь проверим гипотезу о том, что _средняя выручка пользователей из Москвы отличается от выручки пользователей из других регионов_. Аналогично п.4.1 будем рассматривать гипотезу, что _средняя выручка пользователей из Москвы **не** отличается от выручки пользователей из других регионов_. \n",
    "\n",
    "Разделим выборку на две части, используя таблицу с данными о пользователях. "
   ]
  },
  {
   "cell_type": "code",
   "execution_count": 47,
   "metadata": {},
   "outputs": [],
   "source": [
    "moscow_users = data_pivot.loc[users.query(\"city == 'Москва'\").index, :][\"revenue_from_user\"].values\n",
    "not_moscow_users = data_pivot.loc[users.query(\"city == 'Москва'\").index.intersection(users.index), :][\"revenue_from_user\"].values"
   ]
  },
  {
   "cell_type": "markdown",
   "metadata": {},
   "source": [
    "Будем проверять гипотезу $H_0$, альтернативной гипотезой будет $H_a$.\n",
    "\n",
    "$H_0$: средняя выручка пользователей из Москвы равна выручке пользователей из других регионов\n",
    "\n",
    "$H_a$: средняя выручка пользователей из Москвы отличается от выручки пользователей из других регионов\n",
    "\n",
    "Проверку гипотезы будем проводить точно так же. "
   ]
  },
  {
   "cell_type": "code",
   "execution_count": 48,
   "metadata": {},
   "outputs": [
    {
     "name": "stdout",
     "output_type": "stream",
     "text": [
      "p-value: 1.0\n",
      "Не получилось отвергнуть нулевую гипотезу\n"
     ]
    }
   ],
   "source": [
    "alpha = 0.05\n",
    "results = st.ttest_ind(moscow_users, not_moscow_users)\n",
    "\n",
    "if results.pvalue < alpha:\n",
    "    print(f\"p-value: {results.pvalue}\")\n",
    "    print(\"Отвергаем нулевую гипотезу\")\n",
    "else:\n",
    "    print(f\"p-value: {results.pvalue}\")\n",
    "    print(\"Не получилось отвергнуть нулевую гипотезу\") "
   ]
  },
  {
   "cell_type": "code",
   "execution_count": 49,
   "metadata": {},
   "outputs": [
    {
     "name": "stdout",
     "output_type": "stream",
     "text": [
      "Средняя выручка пользователей из Москвы:    1546.71 руб.\n",
      "Средняя выручка пользователей не из Москвы: 1546.71 руб.\n"
     ]
    }
   ],
   "source": [
    "print(\"Средняя выручка пользователей из Москвы:   \", moscow_users.mean().round(2), \"руб.\")\n",
    "print(\"Средняя выручка пользователей не из Москвы:\", not_moscow_users.mean().round(2), \"руб.\")"
   ]
  },
  {
   "cell_type": "markdown",
   "metadata": {},
   "source": [
    "Тест показал, что данные не противоречат гипотезе $H_0$, поэтому отвергнуть её нельзя. Различие между средней выручкой пользователей из Москвы и пользователей из других регионов не является статистически значимым.\n",
    "<a id=\"conc4\"></a>\n",
    "### 4.3. Вывод\n",
    "Проведены проверки статистических гипотез. Различие между средней выручкой пользователей разных тарифов статистически значимо, различие между средней выручкой пользователей из Москвы и других регионов статистически не значимо.\n",
    "\n",
    "<a id=\"conclusion\"></a>\n",
    "## 5. Заключение\n",
    "В проекте были проверены пропущенные значения, обработка которых не требовалась. Явные ошибки и некорректные значения в данных обнаружены не были.\n",
    "\n",
    "Была выполнена замена типа данных. Построена сводная таблица. Рассчитана помесячная выручка с каждого пользователя.\n",
    "\n",
    "Рассчитаны статистические характеристики для двух выборок пользователей. Построены гистограммы распределений среднего количества отправленных сообщений, объёма использованного интренет-трафика и длительности звонков за месяц. \n",
    "\n",
    "Проверены статистические гипотезы. Проверки гипотез показали:\n",
    "* различие между средней выручкой пользователей разных тарифов статистически **значимо**, то есть пользователи тарифа «Ультра», скорее всего, приносят **больше** прибыли, чем пользователи тарифа «Смарт»;\n",
    "<br><br>\n",
    "* различие между средней выручкой пользователей из Москвы и пользователей из других регионов статистически **не значимы**, то есть пользователи из Москвы, скорее всего, тратят на услуги связи **столько же**, сколько и пользователи из других регионов.\n",
    "\n",
    "Хотя средний пользователь тарифа «Ультра» в среднем приносит больше выручки, больше половины от общей выручки приходится на пользователей тарифа «Смарт». Так как пользователи «Смарт» чаще выходят за лимиты тарифа и их гораздо больше пользователей «Ультра», имеет смысл попытаться \"переманить\" часть пользователей на тариф «Ультра»."
   ]
  }
 ],
 "metadata": {
  "ExecuteTimeLog": [
   {
    "duration": 1711,
    "start_time": "2021-12-23T10:50:08.495Z"
   },
   {
    "duration": 211,
    "start_time": "2021-12-23T10:50:48.049Z"
   },
   {
    "duration": 412,
    "start_time": "2021-12-23T10:51:43.720Z"
   },
   {
    "duration": 8,
    "start_time": "2021-12-23T10:51:51.714Z"
   },
   {
    "duration": 8,
    "start_time": "2021-12-23T10:51:57.730Z"
   },
   {
    "duration": 414,
    "start_time": "2021-12-23T10:52:17.810Z"
   },
   {
    "duration": 8,
    "start_time": "2021-12-23T10:52:19.074Z"
   },
   {
    "duration": 10,
    "start_time": "2021-12-23T10:52:19.634Z"
   },
   {
    "duration": 5,
    "start_time": "2021-12-23T10:52:39.218Z"
   },
   {
    "duration": 6,
    "start_time": "2021-12-23T10:52:49.538Z"
   },
   {
    "duration": 5,
    "start_time": "2021-12-23T10:52:55.938Z"
   },
   {
    "duration": 8,
    "start_time": "2021-12-23T10:53:09.571Z"
   },
   {
    "duration": 8,
    "start_time": "2021-12-23T10:53:16.963Z"
   },
   {
    "duration": 12,
    "start_time": "2021-12-23T10:53:23.155Z"
   },
   {
    "duration": 14,
    "start_time": "2021-12-23T10:53:33.811Z"
   },
   {
    "duration": 5,
    "start_time": "2021-12-23T10:53:37.747Z"
   },
   {
    "duration": 20,
    "start_time": "2021-12-23T10:58:32.021Z"
   },
   {
    "duration": 30,
    "start_time": "2021-12-23T10:58:38.997Z"
   },
   {
    "duration": 24,
    "start_time": "2021-12-23T10:58:47.355Z"
   },
   {
    "duration": 373,
    "start_time": "2021-12-23T10:58:58.437Z"
   },
   {
    "duration": 359,
    "start_time": "2021-12-23T10:59:04.805Z"
   },
   {
    "duration": 7,
    "start_time": "2021-12-23T10:59:09.317Z"
   },
   {
    "duration": 7,
    "start_time": "2021-12-23T10:59:18.885Z"
   },
   {
    "duration": 315,
    "start_time": "2021-12-23T11:01:35.878Z"
   },
   {
    "duration": 5602,
    "start_time": "2021-12-23T11:01:51.270Z"
   },
   {
    "duration": 4,
    "start_time": "2021-12-23T11:02:43.751Z"
   },
   {
    "duration": 101,
    "start_time": "2021-12-23T11:04:03.591Z"
   },
   {
    "duration": 71,
    "start_time": "2021-12-23T11:04:09.367Z"
   },
   {
    "duration": 64,
    "start_time": "2021-12-23T11:04:16.311Z"
   },
   {
    "duration": 79,
    "start_time": "2021-12-23T11:04:26.889Z"
   },
   {
    "duration": 75,
    "start_time": "2021-12-23T11:04:32.391Z"
   },
   {
    "duration": 52,
    "start_time": "2021-12-23T11:04:43.207Z"
   },
   {
    "duration": 52,
    "start_time": "2021-12-23T11:04:57.927Z"
   },
   {
    "duration": 56,
    "start_time": "2021-12-23T11:05:11.447Z"
   },
   {
    "duration": 51,
    "start_time": "2021-12-23T11:47:59.872Z"
   },
   {
    "duration": 1353,
    "start_time": "2021-12-24T10:38:17.416Z"
   },
   {
    "duration": 503,
    "start_time": "2021-12-24T10:38:18.772Z"
   },
   {
    "duration": 27,
    "start_time": "2021-12-24T10:38:19.278Z"
   },
   {
    "duration": 20,
    "start_time": "2021-12-24T10:38:19.307Z"
   },
   {
    "duration": 16,
    "start_time": "2021-12-24T10:38:19.330Z"
   },
   {
    "duration": 7,
    "start_time": "2021-12-24T10:38:19.349Z"
   },
   {
    "duration": 9,
    "start_time": "2021-12-24T10:38:19.358Z"
   },
   {
    "duration": 7,
    "start_time": "2021-12-24T10:38:30.820Z"
   },
   {
    "duration": 75,
    "start_time": "2021-12-24T10:38:31.717Z"
   },
   {
    "duration": 7,
    "start_time": "2021-12-24T10:39:16.773Z"
   },
   {
    "duration": 8276,
    "start_time": "2021-12-24T10:39:22.805Z"
   },
   {
    "duration": 50,
    "start_time": "2021-12-24T10:39:41.830Z"
   },
   {
    "duration": 52,
    "start_time": "2021-12-24T10:40:58.247Z"
   },
   {
    "duration": 80,
    "start_time": "2021-12-24T10:41:47.470Z"
   },
   {
    "duration": 16,
    "start_time": "2021-12-24T10:41:50.534Z"
   },
   {
    "duration": 642,
    "start_time": "2021-12-24T10:41:58.759Z"
   },
   {
    "duration": 842,
    "start_time": "2021-12-24T10:42:14.247Z"
   },
   {
    "duration": 33,
    "start_time": "2021-12-24T10:43:10.471Z"
   },
   {
    "duration": 328,
    "start_time": "2021-12-24T10:44:01.943Z"
   },
   {
    "duration": 386,
    "start_time": "2021-12-24T10:44:14.391Z"
   },
   {
    "duration": 511,
    "start_time": "2021-12-24T10:44:18.743Z"
   },
   {
    "duration": 468,
    "start_time": "2021-12-24T10:44:23.192Z"
   },
   {
    "duration": 449,
    "start_time": "2021-12-24T10:44:43.605Z"
   },
   {
    "duration": 380,
    "start_time": "2021-12-24T10:44:56.263Z"
   },
   {
    "duration": 426,
    "start_time": "2021-12-24T10:44:59.127Z"
   },
   {
    "duration": 312,
    "start_time": "2021-12-24T10:45:03.319Z"
   },
   {
    "duration": 443,
    "start_time": "2021-12-24T10:45:08.136Z"
   },
   {
    "duration": 867,
    "start_time": "2021-12-24T10:45:23.560Z"
   },
   {
    "duration": 814,
    "start_time": "2021-12-24T10:45:29.528Z"
   },
   {
    "duration": 1325,
    "start_time": "2021-12-26T13:20:27.287Z"
   },
   {
    "duration": 548,
    "start_time": "2021-12-26T13:20:28.615Z"
   },
   {
    "duration": 29,
    "start_time": "2021-12-26T13:20:29.166Z"
   },
   {
    "duration": 22,
    "start_time": "2021-12-26T13:20:29.197Z"
   },
   {
    "duration": 19,
    "start_time": "2021-12-26T13:20:29.360Z"
   },
   {
    "duration": 8,
    "start_time": "2021-12-26T13:20:29.704Z"
   },
   {
    "duration": 7,
    "start_time": "2021-12-26T13:20:30.038Z"
   },
   {
    "duration": 6,
    "start_time": "2021-12-26T13:20:30.217Z"
   },
   {
    "duration": 96,
    "start_time": "2021-12-26T13:20:30.437Z"
   },
   {
    "duration": 973,
    "start_time": "2021-12-26T13:20:30.896Z"
   },
   {
    "duration": 69,
    "start_time": "2021-12-26T13:20:31.871Z"
   },
   {
    "duration": 416,
    "start_time": "2021-12-26T13:20:31.943Z"
   },
   {
    "duration": 17,
    "start_time": "2021-12-26T13:25:37.935Z"
   },
   {
    "duration": 29,
    "start_time": "2021-12-26T13:31:15.756Z"
   },
   {
    "duration": 6,
    "start_time": "2021-12-26T13:33:03.416Z"
   },
   {
    "duration": 9,
    "start_time": "2021-12-26T13:33:08.704Z"
   },
   {
    "duration": 9,
    "start_time": "2021-12-26T13:33:17.342Z"
   },
   {
    "duration": 9,
    "start_time": "2021-12-26T13:33:27.239Z"
   },
   {
    "duration": 4,
    "start_time": "2021-12-26T13:47:22.060Z"
   },
   {
    "duration": 1040,
    "start_time": "2021-12-26T13:47:53.826Z"
   },
   {
    "duration": 1507,
    "start_time": "2021-12-26T13:47:59.157Z"
   },
   {
    "duration": 544,
    "start_time": "2021-12-26T13:48:00.667Z"
   },
   {
    "duration": 31,
    "start_time": "2021-12-26T13:48:01.215Z"
   },
   {
    "duration": 28,
    "start_time": "2021-12-26T13:48:01.249Z"
   },
   {
    "duration": 18,
    "start_time": "2021-12-26T13:48:01.280Z"
   },
   {
    "duration": 17,
    "start_time": "2021-12-26T13:48:01.300Z"
   },
   {
    "duration": 22,
    "start_time": "2021-12-26T13:48:01.320Z"
   },
   {
    "duration": 22,
    "start_time": "2021-12-26T13:48:01.345Z"
   },
   {
    "duration": 82,
    "start_time": "2021-12-26T13:48:01.370Z"
   },
   {
    "duration": 887,
    "start_time": "2021-12-26T13:48:01.460Z"
   },
   {
    "duration": 76,
    "start_time": "2021-12-26T13:48:02.350Z"
   },
   {
    "duration": 30,
    "start_time": "2021-12-26T13:48:02.429Z"
   },
   {
    "duration": 21,
    "start_time": "2021-12-26T13:48:33.549Z"
   },
   {
    "duration": 8,
    "start_time": "2021-12-26T13:49:42.978Z"
   },
   {
    "duration": 17,
    "start_time": "2021-12-26T13:49:48.570Z"
   },
   {
    "duration": 317,
    "start_time": "2021-12-26T13:54:34.496Z"
   },
   {
    "duration": 401,
    "start_time": "2021-12-26T13:54:41.041Z"
   },
   {
    "duration": 511,
    "start_time": "2021-12-26T13:55:00.216Z"
   },
   {
    "duration": 46,
    "start_time": "2021-12-26T13:56:59.281Z"
   },
   {
    "duration": 28,
    "start_time": "2021-12-26T13:57:12.571Z"
   },
   {
    "duration": 16,
    "start_time": "2021-12-26T13:58:20.382Z"
   },
   {
    "duration": 510,
    "start_time": "2021-12-26T13:58:31.379Z"
   },
   {
    "duration": 45,
    "start_time": "2021-12-26T13:58:34.009Z"
   },
   {
    "duration": 22,
    "start_time": "2021-12-26T13:58:58.758Z"
   },
   {
    "duration": 22,
    "start_time": "2021-12-26T13:59:02.853Z"
   },
   {
    "duration": 9,
    "start_time": "2021-12-26T14:02:21.058Z"
   },
   {
    "duration": 8,
    "start_time": "2021-12-26T14:02:43.764Z"
   },
   {
    "duration": 9,
    "start_time": "2021-12-26T14:02:52.554Z"
   },
   {
    "duration": 44,
    "start_time": "2021-12-26T14:05:01.984Z"
   },
   {
    "duration": 8,
    "start_time": "2021-12-26T14:05:06.106Z"
   },
   {
    "duration": 11,
    "start_time": "2021-12-26T14:05:50.060Z"
   },
   {
    "duration": 10,
    "start_time": "2021-12-26T14:06:01.012Z"
   },
   {
    "duration": 62,
    "start_time": "2021-12-26T14:07:27.078Z"
   },
   {
    "duration": 54,
    "start_time": "2021-12-26T14:07:35.520Z"
   },
   {
    "duration": 337,
    "start_time": "2021-12-26T14:08:03.794Z"
   },
   {
    "duration": 12,
    "start_time": "2021-12-26T14:08:09.077Z"
   },
   {
    "duration": 13,
    "start_time": "2021-12-26T14:08:29.079Z"
   },
   {
    "duration": 437,
    "start_time": "2021-12-26T14:08:50.190Z"
   },
   {
    "duration": 7,
    "start_time": "2021-12-26T14:08:58.829Z"
   },
   {
    "duration": 12,
    "start_time": "2021-12-26T14:09:05.271Z"
   },
   {
    "duration": 4,
    "start_time": "2021-12-26T14:10:22.529Z"
   },
   {
    "duration": 5,
    "start_time": "2021-12-26T14:10:28.973Z"
   },
   {
    "duration": 573,
    "start_time": "2021-12-26T14:10:33.793Z"
   },
   {
    "duration": 27,
    "start_time": "2021-12-26T14:10:39.079Z"
   },
   {
    "duration": 24,
    "start_time": "2021-12-26T14:10:39.240Z"
   },
   {
    "duration": 20,
    "start_time": "2021-12-26T14:10:39.386Z"
   },
   {
    "duration": 9,
    "start_time": "2021-12-26T14:10:39.537Z"
   },
   {
    "duration": 8,
    "start_time": "2021-12-26T14:10:39.898Z"
   },
   {
    "duration": 6,
    "start_time": "2021-12-26T14:10:40.209Z"
   },
   {
    "duration": 68,
    "start_time": "2021-12-26T14:10:40.343Z"
   },
   {
    "duration": 913,
    "start_time": "2021-12-26T14:10:40.513Z"
   },
   {
    "duration": 12,
    "start_time": "2021-12-26T14:10:41.429Z"
   },
   {
    "duration": 64,
    "start_time": "2021-12-26T14:10:41.444Z"
   },
   {
    "duration": 7,
    "start_time": "2021-12-26T14:10:41.511Z"
   },
   {
    "duration": 44,
    "start_time": "2021-12-26T14:10:41.521Z"
   },
   {
    "duration": 11,
    "start_time": "2021-12-26T14:10:41.568Z"
   },
   {
    "duration": 109,
    "start_time": "2021-12-26T14:10:41.581Z"
   },
   {
    "duration": 8,
    "start_time": "2021-12-26T14:15:07.901Z"
   },
   {
    "duration": 324,
    "start_time": "2021-12-26T14:15:14.641Z"
   },
   {
    "duration": 26,
    "start_time": "2021-12-26T14:15:20.891Z"
   },
   {
    "duration": 425,
    "start_time": "2021-12-26T14:15:41.522Z"
   },
   {
    "duration": 32,
    "start_time": "2021-12-26T14:19:36.286Z"
   },
   {
    "duration": 8,
    "start_time": "2021-12-26T14:19:44.883Z"
   },
   {
    "duration": 14,
    "start_time": "2021-12-26T14:19:51.891Z"
   },
   {
    "duration": 71,
    "start_time": "2021-12-26T14:21:05.895Z"
   },
   {
    "duration": 99,
    "start_time": "2021-12-26T14:23:31.614Z"
   },
   {
    "duration": 24,
    "start_time": "2021-12-26T14:23:34.791Z"
   },
   {
    "duration": 71,
    "start_time": "2021-12-26T14:26:18.334Z"
   },
   {
    "duration": 23,
    "start_time": "2021-12-26T14:26:25.015Z"
   },
   {
    "duration": 10575,
    "start_time": "2021-12-26T14:26:46.499Z"
   },
   {
    "duration": 10391,
    "start_time": "2021-12-26T14:27:05.922Z"
   },
   {
    "duration": 12,
    "start_time": "2021-12-26T14:27:19.008Z"
   },
   {
    "duration": 68,
    "start_time": "2021-12-26T14:28:25.181Z"
   },
   {
    "duration": 14,
    "start_time": "2021-12-26T14:28:26.152Z"
   },
   {
    "duration": 11,
    "start_time": "2021-12-26T14:29:08.915Z"
   },
   {
    "duration": 6,
    "start_time": "2021-12-26T14:29:14.457Z"
   },
   {
    "duration": 30,
    "start_time": "2021-12-26T14:29:15.006Z"
   },
   {
    "duration": 67,
    "start_time": "2021-12-26T14:29:55.825Z"
   },
   {
    "duration": 23,
    "start_time": "2021-12-26T14:29:57.095Z"
   },
   {
    "duration": 623,
    "start_time": "2021-12-26T14:31:32.302Z"
   },
   {
    "duration": 85,
    "start_time": "2021-12-26T14:31:44.966Z"
   },
   {
    "duration": 32,
    "start_time": "2021-12-26T14:31:51.116Z"
   },
   {
    "duration": 61,
    "start_time": "2021-12-26T14:33:10.982Z"
   },
   {
    "duration": 21,
    "start_time": "2021-12-26T14:33:11.949Z"
   },
   {
    "duration": 7,
    "start_time": "2021-12-26T14:34:26.676Z"
   },
   {
    "duration": 25,
    "start_time": "2021-12-26T14:34:30.244Z"
   },
   {
    "duration": 36,
    "start_time": "2021-12-26T14:40:29.313Z"
   },
   {
    "duration": 19,
    "start_time": "2021-12-26T14:40:32.292Z"
   },
   {
    "duration": 33,
    "start_time": "2021-12-26T14:41:06.471Z"
   },
   {
    "duration": 19,
    "start_time": "2021-12-26T14:41:07.459Z"
   },
   {
    "duration": 23,
    "start_time": "2021-12-26T14:43:00.676Z"
   },
   {
    "duration": 5,
    "start_time": "2021-12-26T14:45:34.352Z"
   },
   {
    "duration": 6,
    "start_time": "2021-12-26T14:45:44.148Z"
   },
   {
    "duration": 5,
    "start_time": "2021-12-26T14:46:07.745Z"
   },
   {
    "duration": 8,
    "start_time": "2021-12-26T14:49:17.194Z"
   },
   {
    "duration": 11,
    "start_time": "2021-12-26T14:49:43.989Z"
   },
   {
    "duration": 13,
    "start_time": "2021-12-26T14:50:37.011Z"
   },
   {
    "duration": 2318,
    "start_time": "2021-12-26T14:51:17.572Z"
   },
   {
    "duration": 37,
    "start_time": "2021-12-26T14:52:03.473Z"
   },
   {
    "duration": 130,
    "start_time": "2021-12-26T14:52:18.190Z"
   },
   {
    "duration": 19,
    "start_time": "2021-12-26T14:52:20.956Z"
   },
   {
    "duration": 30,
    "start_time": "2021-12-26T14:52:36.413Z"
   },
   {
    "duration": 15,
    "start_time": "2021-12-26T14:52:46.755Z"
   },
   {
    "duration": 16,
    "start_time": "2021-12-26T14:52:52.284Z"
   },
   {
    "duration": 45,
    "start_time": "2021-12-26T14:52:56.424Z"
   },
   {
    "duration": -35,
    "start_time": "2021-12-26T14:53:41.980Z"
   },
   {
    "duration": 40,
    "start_time": "2021-12-26T14:53:45.124Z"
   },
   {
    "duration": 37,
    "start_time": "2021-12-26T14:54:02.544Z"
   },
   {
    "duration": 21,
    "start_time": "2021-12-26T14:54:42.265Z"
   },
   {
    "duration": 332,
    "start_time": "2021-12-26T14:55:01.878Z"
   },
   {
    "duration": 20,
    "start_time": "2021-12-26T14:56:23.025Z"
   },
   {
    "duration": 164,
    "start_time": "2021-12-26T14:56:28.363Z"
   },
   {
    "duration": 31,
    "start_time": "2021-12-26T14:56:30.248Z"
   },
   {
    "duration": 6,
    "start_time": "2021-12-26T14:56:41.477Z"
   },
   {
    "duration": 13,
    "start_time": "2021-12-26T14:56:49.035Z"
   },
   {
    "duration": 30,
    "start_time": "2021-12-26T14:56:56.675Z"
   },
   {
    "duration": 34,
    "start_time": "2021-12-26T14:57:49.042Z"
   },
   {
    "duration": 17,
    "start_time": "2021-12-26T14:57:58.102Z"
   },
   {
    "duration": 115,
    "start_time": "2021-12-26T14:58:20.174Z"
   },
   {
    "duration": 37,
    "start_time": "2021-12-26T14:58:21.756Z"
   },
   {
    "duration": 8087,
    "start_time": "2021-12-26T14:58:26.650Z"
   },
   {
    "duration": 24,
    "start_time": "2021-12-26T14:58:42.531Z"
   },
   {
    "duration": 387,
    "start_time": "2021-12-26T14:59:03.394Z"
   },
   {
    "duration": 5,
    "start_time": "2021-12-26T14:59:08.548Z"
   },
   {
    "duration": 5,
    "start_time": "2021-12-26T14:59:30.314Z"
   },
   {
    "duration": 6,
    "start_time": "2021-12-26T14:59:34.356Z"
   },
   {
    "duration": 334,
    "start_time": "2021-12-26T14:59:47.116Z"
   },
   {
    "duration": 17,
    "start_time": "2021-12-26T15:00:02.432Z"
   },
   {
    "duration": 6,
    "start_time": "2021-12-26T15:00:28.745Z"
   },
   {
    "duration": 6,
    "start_time": "2021-12-26T15:00:33.109Z"
   },
   {
    "duration": 14,
    "start_time": "2021-12-26T15:01:12.751Z"
   },
   {
    "duration": 38,
    "start_time": "2021-12-26T15:01:21.120Z"
   },
   {
    "duration": 15,
    "start_time": "2021-12-26T15:02:02.641Z"
   },
   {
    "duration": 28,
    "start_time": "2021-12-26T15:02:04.840Z"
   },
   {
    "duration": 36,
    "start_time": "2021-12-26T15:04:41.681Z"
   },
   {
    "duration": 37,
    "start_time": "2021-12-26T15:04:42.049Z"
   },
   {
    "duration": 3,
    "start_time": "2021-12-26T18:20:25.997Z"
   },
   {
    "duration": 22,
    "start_time": "2021-12-26T18:25:58.911Z"
   },
   {
    "duration": 9,
    "start_time": "2021-12-26T18:26:33.994Z"
   },
   {
    "duration": 7,
    "start_time": "2021-12-26T18:26:38.049Z"
   },
   {
    "duration": 19,
    "start_time": "2021-12-26T18:27:30.976Z"
   },
   {
    "duration": 8500,
    "start_time": "2021-12-26T18:27:41.764Z"
   },
   {
    "duration": 9,
    "start_time": "2021-12-26T18:27:51.106Z"
   },
   {
    "duration": 379,
    "start_time": "2021-12-26T18:34:39.070Z"
   },
   {
    "duration": 27,
    "start_time": "2021-12-26T18:34:48.915Z"
   },
   {
    "duration": 11,
    "start_time": "2021-12-26T18:34:57.408Z"
   },
   {
    "duration": 12,
    "start_time": "2021-12-26T18:35:01.121Z"
   },
   {
    "duration": 5,
    "start_time": "2021-12-26T18:36:20.953Z"
   },
   {
    "duration": 10015,
    "start_time": "2021-12-26T18:36:47.420Z"
   },
   {
    "duration": 22,
    "start_time": "2021-12-26T18:37:14.388Z"
   },
   {
    "duration": 8876,
    "start_time": "2021-12-26T18:37:32.253Z"
   },
   {
    "duration": 8,
    "start_time": "2021-12-26T18:37:47.886Z"
   },
   {
    "duration": 6,
    "start_time": "2021-12-26T18:37:52.571Z"
   },
   {
    "duration": 7,
    "start_time": "2021-12-26T18:37:57.027Z"
   },
   {
    "duration": 4,
    "start_time": "2021-12-26T18:38:08.182Z"
   },
   {
    "duration": 56,
    "start_time": "2021-12-26T18:38:10.768Z"
   },
   {
    "duration": 24,
    "start_time": "2021-12-26T18:38:28.789Z"
   },
   {
    "duration": 4,
    "start_time": "2021-12-26T18:39:06.412Z"
   },
   {
    "duration": 187,
    "start_time": "2021-12-26T18:39:19.119Z"
   },
   {
    "duration": 23,
    "start_time": "2021-12-26T18:39:21.533Z"
   },
   {
    "duration": 4,
    "start_time": "2021-12-26T18:39:38.897Z"
   },
   {
    "duration": 8,
    "start_time": "2021-12-26T18:39:39.440Z"
   },
   {
    "duration": 27,
    "start_time": "2021-12-26T18:39:39.963Z"
   },
   {
    "duration": 25,
    "start_time": "2021-12-26T18:39:40.489Z"
   },
   {
    "duration": 11,
    "start_time": "2021-12-26T18:39:46.170Z"
   },
   {
    "duration": 10,
    "start_time": "2021-12-26T18:39:51.417Z"
   },
   {
    "duration": 24,
    "start_time": "2021-12-26T18:40:01.862Z"
   },
   {
    "duration": 5,
    "start_time": "2021-12-26T18:40:12.876Z"
   },
   {
    "duration": 24,
    "start_time": "2021-12-26T18:40:15.100Z"
   },
   {
    "duration": 24,
    "start_time": "2021-12-26T18:40:15.312Z"
   },
   {
    "duration": 8969,
    "start_time": "2021-12-26T18:41:35.639Z"
   },
   {
    "duration": 24,
    "start_time": "2021-12-26T18:41:55.183Z"
   },
   {
    "duration": 344,
    "start_time": "2021-12-26T18:42:05.148Z"
   },
   {
    "duration": 8,
    "start_time": "2021-12-26T18:42:08.744Z"
   },
   {
    "duration": 10,
    "start_time": "2021-12-26T18:42:57.939Z"
   },
   {
    "duration": 9,
    "start_time": "2021-12-26T18:43:03.934Z"
   },
   {
    "duration": 9,
    "start_time": "2021-12-26T18:43:25.794Z"
   },
   {
    "duration": 344,
    "start_time": "2021-12-26T18:43:46.257Z"
   },
   {
    "duration": 4,
    "start_time": "2021-12-26T18:43:54.969Z"
   },
   {
    "duration": 838,
    "start_time": "2021-12-26T18:43:58.008Z"
   },
   {
    "duration": 7,
    "start_time": "2021-12-26T18:44:23.311Z"
   },
   {
    "duration": 11,
    "start_time": "2021-12-26T18:44:29.892Z"
   },
   {
    "duration": 327,
    "start_time": "2021-12-26T18:44:41.374Z"
   },
   {
    "duration": 8,
    "start_time": "2021-12-26T18:44:48.683Z"
   },
   {
    "duration": 4,
    "start_time": "2021-12-26T18:47:13.297Z"
   },
   {
    "duration": 8674,
    "start_time": "2021-12-26T18:47:17.513Z"
   },
   {
    "duration": 9,
    "start_time": "2021-12-26T18:47:29.344Z"
   },
   {
    "duration": 9,
    "start_time": "2021-12-26T18:47:45.332Z"
   },
   {
    "duration": 356,
    "start_time": "2021-12-26T18:48:03.168Z"
   },
   {
    "duration": 7,
    "start_time": "2021-12-26T18:48:16.835Z"
   },
   {
    "duration": 22,
    "start_time": "2021-12-26T18:48:49.001Z"
   },
   {
    "duration": 11,
    "start_time": "2021-12-26T18:48:49.940Z"
   },
   {
    "duration": 4,
    "start_time": "2021-12-26T18:49:14.329Z"
   },
   {
    "duration": 7,
    "start_time": "2021-12-26T18:49:15.206Z"
   },
   {
    "duration": 9,
    "start_time": "2021-12-26T18:49:15.972Z"
   },
   {
    "duration": 5,
    "start_time": "2021-12-26T18:49:16.945Z"
   },
   {
    "duration": 9,
    "start_time": "2021-12-26T18:49:20.414Z"
   },
   {
    "duration": 8,
    "start_time": "2021-12-26T18:49:21.597Z"
   },
   {
    "duration": 250,
    "start_time": "2021-12-26T18:49:29.754Z"
   },
   {
    "duration": 10,
    "start_time": "2021-12-26T18:49:30.916Z"
   },
   {
    "duration": 16,
    "start_time": "2021-12-26T18:49:39.940Z"
   },
   {
    "duration": 24,
    "start_time": "2021-12-26T18:50:41.955Z"
   },
   {
    "duration": 133,
    "start_time": "2021-12-26T18:50:52.286Z"
   },
   {
    "duration": 4,
    "start_time": "2021-12-26T18:50:55.972Z"
   },
   {
    "duration": 7,
    "start_time": "2021-12-26T18:50:56.810Z"
   },
   {
    "duration": 428,
    "start_time": "2021-12-26T18:51:00.099Z"
   },
   {
    "duration": 26,
    "start_time": "2021-12-26T18:51:02.722Z"
   },
   {
    "duration": 4,
    "start_time": "2021-12-26T18:51:35.902Z"
   },
   {
    "duration": 653,
    "start_time": "2021-12-26T18:51:43.045Z"
   },
   {
    "duration": 5,
    "start_time": "2021-12-26T18:52:15.927Z"
   },
   {
    "duration": 7,
    "start_time": "2021-12-26T18:52:18.642Z"
   },
   {
    "duration": 393,
    "start_time": "2021-12-26T18:52:20.782Z"
   },
   {
    "duration": 25,
    "start_time": "2021-12-26T18:52:21.648Z"
   },
   {
    "duration": 4,
    "start_time": "2021-12-26T18:52:36.189Z"
   },
   {
    "duration": 380,
    "start_time": "2021-12-26T18:52:39.490Z"
   },
   {
    "duration": 28,
    "start_time": "2021-12-26T18:52:40.257Z"
   },
   {
    "duration": 14,
    "start_time": "2021-12-26T18:52:49.155Z"
   },
   {
    "duration": 9,
    "start_time": "2021-12-26T18:52:55.206Z"
   },
   {
    "duration": 7,
    "start_time": "2021-12-26T18:53:01.132Z"
   },
   {
    "duration": 5,
    "start_time": "2021-12-26T18:53:26.481Z"
   },
   {
    "duration": 10158,
    "start_time": "2021-12-26T18:53:29.044Z"
   },
   {
    "duration": 4,
    "start_time": "2021-12-26T18:54:23.040Z"
   },
   {
    "duration": 527,
    "start_time": "2021-12-26T18:54:32.516Z"
   },
   {
    "duration": 9,
    "start_time": "2021-12-26T18:54:38.089Z"
   },
   {
    "duration": 4,
    "start_time": "2021-12-26T18:54:53.353Z"
   },
   {
    "duration": 386,
    "start_time": "2021-12-26T18:54:56.630Z"
   },
   {
    "duration": 4,
    "start_time": "2021-12-26T18:55:10.330Z"
   },
   {
    "duration": 8,
    "start_time": "2021-12-26T18:55:15.724Z"
   },
   {
    "duration": 6,
    "start_time": "2021-12-26T18:55:16.627Z"
   },
   {
    "duration": 25,
    "start_time": "2021-12-26T18:55:21.417Z"
   },
   {
    "duration": 3,
    "start_time": "2021-12-26T18:55:30.098Z"
   },
   {
    "duration": 8,
    "start_time": "2021-12-26T18:55:33.798Z"
   },
   {
    "duration": 24,
    "start_time": "2021-12-26T18:55:34.357Z"
   },
   {
    "duration": 4,
    "start_time": "2021-12-26T18:55:40.680Z"
   },
   {
    "duration": 3,
    "start_time": "2021-12-26T18:55:46.082Z"
   },
   {
    "duration": 4,
    "start_time": "2021-12-26T18:55:48.533Z"
   },
   {
    "duration": 3,
    "start_time": "2021-12-26T18:55:51.438Z"
   },
   {
    "duration": 4,
    "start_time": "2021-12-26T18:55:57.263Z"
   },
   {
    "duration": 345,
    "start_time": "2021-12-26T18:55:59.164Z"
   },
   {
    "duration": 14181,
    "start_time": "2021-12-26T18:59:11.748Z"
   },
   {
    "duration": 7,
    "start_time": "2021-12-26T18:59:38.092Z"
   },
   {
    "duration": 7,
    "start_time": "2021-12-26T18:59:48.394Z"
   },
   {
    "duration": 376,
    "start_time": "2021-12-26T19:00:43.560Z"
   },
   {
    "duration": 355,
    "start_time": "2021-12-26T19:01:01.294Z"
   },
   {
    "duration": 424,
    "start_time": "2021-12-26T19:01:07.102Z"
   },
   {
    "duration": 29,
    "start_time": "2021-12-26T19:01:15.726Z"
   },
   {
    "duration": 519,
    "start_time": "2021-12-26T19:01:47.135Z"
   },
   {
    "duration": 397,
    "start_time": "2021-12-26T19:02:04.430Z"
   },
   {
    "duration": 371,
    "start_time": "2021-12-26T19:02:12.372Z"
   },
   {
    "duration": 23,
    "start_time": "2021-12-26T19:02:16.811Z"
   },
   {
    "duration": 522,
    "start_time": "2021-12-26T19:03:09.700Z"
   },
   {
    "duration": 26,
    "start_time": "2021-12-26T19:03:10.225Z"
   },
   {
    "duration": 22,
    "start_time": "2021-12-26T19:03:10.254Z"
   },
   {
    "duration": 21,
    "start_time": "2021-12-26T19:03:10.278Z"
   },
   {
    "duration": 8,
    "start_time": "2021-12-26T19:03:10.302Z"
   },
   {
    "duration": 8,
    "start_time": "2021-12-26T19:03:10.440Z"
   },
   {
    "duration": 7,
    "start_time": "2021-12-26T19:03:10.578Z"
   },
   {
    "duration": 72,
    "start_time": "2021-12-26T19:03:11.048Z"
   },
   {
    "duration": 913,
    "start_time": "2021-12-26T19:03:11.508Z"
   },
   {
    "duration": 14,
    "start_time": "2021-12-26T19:03:12.423Z"
   },
   {
    "duration": 54,
    "start_time": "2021-12-26T19:03:12.869Z"
   },
   {
    "duration": 9,
    "start_time": "2021-12-26T19:03:13.741Z"
   },
   {
    "duration": 26,
    "start_time": "2021-12-26T19:03:16.775Z"
   },
   {
    "duration": 11,
    "start_time": "2021-12-26T19:03:17.003Z"
   },
   {
    "duration": 93,
    "start_time": "2021-12-26T19:03:19.034Z"
   },
   {
    "duration": 76,
    "start_time": "2021-12-26T19:03:19.407Z"
   },
   {
    "duration": 91,
    "start_time": "2021-12-26T19:03:19.735Z"
   },
   {
    "duration": 64,
    "start_time": "2021-12-26T19:03:20.271Z"
   },
   {
    "duration": 50,
    "start_time": "2021-12-26T19:03:26.581Z"
   },
   {
    "duration": 19,
    "start_time": "2021-12-26T19:03:27.231Z"
   },
   {
    "duration": 33,
    "start_time": "2021-12-26T19:03:54.776Z"
   },
   {
    "duration": 18,
    "start_time": "2021-12-26T19:03:55.180Z"
   },
   {
    "duration": 78,
    "start_time": "2021-12-26T19:03:57.492Z"
   },
   {
    "duration": 37,
    "start_time": "2021-12-26T19:04:14.686Z"
   },
   {
    "duration": 38,
    "start_time": "2021-12-26T19:04:33.724Z"
   },
   {
    "duration": 365,
    "start_time": "2021-12-26T19:05:02.131Z"
   },
   {
    "duration": 354,
    "start_time": "2021-12-26T19:05:20.968Z"
   },
   {
    "duration": 334,
    "start_time": "2021-12-26T19:06:09.066Z"
   },
   {
    "duration": 501,
    "start_time": "2021-12-26T19:06:18.889Z"
   },
   {
    "duration": 994,
    "start_time": "2021-12-26T19:06:31.764Z"
   },
   {
    "duration": 23,
    "start_time": "2021-12-26T19:06:38.803Z"
   },
   {
    "duration": 25,
    "start_time": "2021-12-26T19:08:16.125Z"
   },
   {
    "duration": 7,
    "start_time": "2021-12-26T19:08:46.084Z"
   },
   {
    "duration": 5,
    "start_time": "2021-12-26T19:08:57.501Z"
   },
   {
    "duration": 25,
    "start_time": "2021-12-26T19:08:59.871Z"
   },
   {
    "duration": 7,
    "start_time": "2021-12-26T19:09:19.303Z"
   },
   {
    "duration": 39,
    "start_time": "2021-12-26T19:09:30.891Z"
   },
   {
    "duration": 26,
    "start_time": "2021-12-26T19:09:43.173Z"
   },
   {
    "duration": 13,
    "start_time": "2021-12-26T19:09:55.465Z"
   },
   {
    "duration": 26,
    "start_time": "2021-12-26T19:10:20.541Z"
   },
   {
    "duration": 23,
    "start_time": "2021-12-26T19:10:21.697Z"
   },
   {
    "duration": 5,
    "start_time": "2021-12-26T19:10:57.994Z"
   },
   {
    "duration": 23,
    "start_time": "2021-12-26T19:10:59.317Z"
   },
   {
    "duration": 23,
    "start_time": "2021-12-26T19:10:59.900Z"
   },
   {
    "duration": 4,
    "start_time": "2021-12-26T19:44:45.162Z"
   },
   {
    "duration": 9831,
    "start_time": "2021-12-26T19:44:54.094Z"
   },
   {
    "duration": 457,
    "start_time": "2021-12-26T19:45:05.898Z"
   },
   {
    "duration": 28,
    "start_time": "2021-12-26T19:45:07.867Z"
   },
   {
    "duration": 4,
    "start_time": "2021-12-26T19:45:31.623Z"
   },
   {
    "duration": 454,
    "start_time": "2021-12-26T19:45:33.165Z"
   },
   {
    "duration": 25,
    "start_time": "2021-12-26T19:45:34.222Z"
   },
   {
    "duration": 449,
    "start_time": "2021-12-26T19:45:40.600Z"
   },
   {
    "duration": 29,
    "start_time": "2021-12-26T19:45:41.510Z"
   },
   {
    "duration": 4,
    "start_time": "2021-12-26T19:45:47.713Z"
   },
   {
    "duration": 1395,
    "start_time": "2021-12-27T07:50:58.333Z"
   },
   {
    "duration": 524,
    "start_time": "2021-12-27T07:50:59.731Z"
   },
   {
    "duration": 30,
    "start_time": "2021-12-27T07:51:00.258Z"
   },
   {
    "duration": 22,
    "start_time": "2021-12-27T07:51:00.290Z"
   },
   {
    "duration": 30,
    "start_time": "2021-12-27T07:51:00.725Z"
   },
   {
    "duration": 8,
    "start_time": "2021-12-27T07:51:01.317Z"
   },
   {
    "duration": 8,
    "start_time": "2021-12-27T07:51:01.893Z"
   },
   {
    "duration": 6,
    "start_time": "2021-12-27T07:51:02.549Z"
   },
   {
    "duration": 113,
    "start_time": "2021-12-27T07:51:04.165Z"
   },
   {
    "duration": 876,
    "start_time": "2021-12-27T07:51:05.797Z"
   },
   {
    "duration": 18,
    "start_time": "2021-12-27T07:51:06.676Z"
   },
   {
    "duration": 69,
    "start_time": "2021-12-27T07:51:11.285Z"
   },
   {
    "duration": 9,
    "start_time": "2021-12-27T07:51:11.782Z"
   },
   {
    "duration": 21,
    "start_time": "2021-12-27T07:51:16.709Z"
   },
   {
    "duration": 10,
    "start_time": "2021-12-27T07:51:19.605Z"
   },
   {
    "duration": 97,
    "start_time": "2021-12-27T07:51:20.039Z"
   },
   {
    "duration": 74,
    "start_time": "2021-12-27T07:51:20.581Z"
   },
   {
    "duration": 105,
    "start_time": "2021-12-27T07:51:20.820Z"
   },
   {
    "duration": 70,
    "start_time": "2021-12-27T07:51:23.301Z"
   },
   {
    "duration": 58,
    "start_time": "2021-12-27T07:51:23.700Z"
   },
   {
    "duration": 35,
    "start_time": "2021-12-27T07:51:24.261Z"
   },
   {
    "duration": 4,
    "start_time": "2021-12-27T07:51:24.965Z"
   },
   {
    "duration": 21,
    "start_time": "2021-12-27T07:51:26.501Z"
   },
   {
    "duration": 23,
    "start_time": "2021-12-27T07:51:28.949Z"
   },
   {
    "duration": 23,
    "start_time": "2021-12-27T07:52:33.190Z"
   },
   {
    "duration": 12,
    "start_time": "2021-12-27T07:52:56.982Z"
   },
   {
    "duration": 13,
    "start_time": "2021-12-27T07:54:26.998Z"
   },
   {
    "duration": 8,
    "start_time": "2021-12-27T07:54:31.358Z"
   },
   {
    "duration": 6,
    "start_time": "2021-12-27T07:54:38.902Z"
   },
   {
    "duration": 912,
    "start_time": "2021-12-27T07:54:46.887Z"
   },
   {
    "duration": 241,
    "start_time": "2021-12-27T07:56:34.407Z"
   },
   {
    "duration": 6,
    "start_time": "2021-12-27T07:56:41.119Z"
   },
   {
    "duration": 5,
    "start_time": "2021-12-27T07:56:48.007Z"
   },
   {
    "duration": 5,
    "start_time": "2021-12-27T07:57:01.880Z"
   },
   {
    "duration": 5,
    "start_time": "2021-12-27T07:57:12.200Z"
   },
   {
    "duration": 5,
    "start_time": "2021-12-27T07:57:20.616Z"
   },
   {
    "duration": 5,
    "start_time": "2021-12-27T07:57:29.208Z"
   },
   {
    "duration": 5,
    "start_time": "2021-12-27T07:58:21.816Z"
   },
   {
    "duration": 1029,
    "start_time": "2021-12-27T07:58:27.560Z"
   },
   {
    "duration": 5,
    "start_time": "2021-12-27T07:59:07.560Z"
   },
   {
    "duration": 8510,
    "start_time": "2021-12-27T07:59:08.841Z"
   },
   {
    "duration": 29,
    "start_time": "2021-12-27T07:59:20.104Z"
   },
   {
    "duration": 5,
    "start_time": "2021-12-27T08:07:00.380Z"
   },
   {
    "duration": 6,
    "start_time": "2021-12-27T08:07:05.163Z"
   },
   {
    "duration": 6,
    "start_time": "2021-12-27T08:07:08.619Z"
   },
   {
    "duration": 5,
    "start_time": "2021-12-27T08:07:11.451Z"
   },
   {
    "duration": 7,
    "start_time": "2021-12-27T08:09:11.700Z"
   },
   {
    "duration": 492,
    "start_time": "2021-12-27T08:09:18.972Z"
   },
   {
    "duration": 24,
    "start_time": "2021-12-27T08:09:45.983Z"
   },
   {
    "duration": 23,
    "start_time": "2021-12-27T08:09:47.789Z"
   },
   {
    "duration": 7,
    "start_time": "2021-12-27T08:09:49.917Z"
   },
   {
    "duration": 811,
    "start_time": "2021-12-27T08:09:50.620Z"
   },
   {
    "duration": 7,
    "start_time": "2021-12-27T08:10:56.525Z"
   },
   {
    "duration": 17736,
    "start_time": "2021-12-27T08:10:57.421Z"
   },
   {
    "duration": 23,
    "start_time": "2021-12-27T08:12:19.181Z"
   },
   {
    "duration": 14,
    "start_time": "2021-12-27T08:14:00.222Z"
   },
   {
    "duration": 490,
    "start_time": "2021-12-27T08:14:18.238Z"
   },
   {
    "duration": 10,
    "start_time": "2021-12-27T08:14:26.141Z"
   },
   {
    "duration": 6,
    "start_time": "2021-12-27T08:14:31.630Z"
   },
   {
    "duration": 241,
    "start_time": "2021-12-27T08:14:43.822Z"
   },
   {
    "duration": 9,
    "start_time": "2021-12-27T08:14:46.958Z"
   },
   {
    "duration": 6,
    "start_time": "2021-12-27T08:14:47.757Z"
   },
   {
    "duration": 9,
    "start_time": "2021-12-27T08:14:52.142Z"
   },
   {
    "duration": 7,
    "start_time": "2021-12-27T08:14:53.054Z"
   },
   {
    "duration": 3962,
    "start_time": "2021-12-27T08:15:03.822Z"
   },
   {
    "duration": 24753,
    "start_time": "2021-12-27T08:14:43.034Z"
   },
   {
    "duration": 12,
    "start_time": "2021-12-27T08:15:13.390Z"
   },
   {
    "duration": 8,
    "start_time": "2021-12-27T08:15:26.143Z"
   },
   {
    "duration": 8,
    "start_time": "2021-12-27T08:15:29.038Z"
   },
   {
    "duration": 9,
    "start_time": "2021-12-27T08:15:52.399Z"
   },
   {
    "duration": 8800,
    "start_time": "2021-12-27T08:15:54.414Z"
   },
   {
    "duration": 27,
    "start_time": "2021-12-27T08:16:04.694Z"
   },
   {
    "duration": 11,
    "start_time": "2021-12-27T08:16:14.063Z"
   },
   {
    "duration": 9104,
    "start_time": "2021-12-27T08:16:21.983Z"
   },
   {
    "duration": 27,
    "start_time": "2021-12-27T08:16:34.734Z"
   },
   {
    "duration": 22,
    "start_time": "2021-12-27T08:17:38.719Z"
   },
   {
    "duration": 15,
    "start_time": "2021-12-27T08:17:54.367Z"
   },
   {
    "duration": 17,
    "start_time": "2021-12-27T08:17:59.839Z"
   },
   {
    "duration": 12,
    "start_time": "2021-12-27T08:19:32.143Z"
   },
   {
    "duration": 28,
    "start_time": "2021-12-27T08:19:36.927Z"
   },
   {
    "duration": 59,
    "start_time": "2021-12-27T08:21:43.496Z"
   },
   {
    "duration": 36,
    "start_time": "2021-12-27T08:22:32.754Z"
   },
   {
    "duration": 312,
    "start_time": "2021-12-27T08:22:41.872Z"
   },
   {
    "duration": 26,
    "start_time": "2021-12-27T08:22:43.937Z"
   },
   {
    "duration": 17,
    "start_time": "2021-12-27T08:22:53.105Z"
   },
   {
    "duration": 11,
    "start_time": "2021-12-27T08:22:59.585Z"
   },
   {
    "duration": 665,
    "start_time": "2021-12-27T08:23:02.865Z"
   },
   {
    "duration": 544,
    "start_time": "2021-12-27T08:23:59.762Z"
   },
   {
    "duration": 328,
    "start_time": "2021-12-27T08:24:05.538Z"
   },
   {
    "duration": 282,
    "start_time": "2021-12-27T08:24:15.826Z"
   },
   {
    "duration": 278,
    "start_time": "2021-12-27T08:24:34.882Z"
   },
   {
    "duration": 544,
    "start_time": "2021-12-27T08:24:44.466Z"
   },
   {
    "duration": 283,
    "start_time": "2021-12-27T08:24:51.298Z"
   },
   {
    "duration": 335,
    "start_time": "2021-12-27T08:25:03.058Z"
   },
   {
    "duration": 320,
    "start_time": "2021-12-27T08:25:14.162Z"
   },
   {
    "duration": 304,
    "start_time": "2021-12-27T08:25:16.114Z"
   },
   {
    "duration": 297,
    "start_time": "2021-12-27T08:25:19.778Z"
   },
   {
    "duration": 277,
    "start_time": "2021-12-27T08:25:48.578Z"
   },
   {
    "duration": 853,
    "start_time": "2021-12-27T08:25:54.594Z"
   },
   {
    "duration": 370,
    "start_time": "2021-12-27T08:25:58.482Z"
   },
   {
    "duration": 339,
    "start_time": "2021-12-27T08:26:10.130Z"
   },
   {
    "duration": 326,
    "start_time": "2021-12-27T08:26:25.091Z"
   },
   {
    "duration": 321,
    "start_time": "2021-12-27T08:26:31.730Z"
   },
   {
    "duration": 313,
    "start_time": "2021-12-27T08:26:40.099Z"
   },
   {
    "duration": 72,
    "start_time": "2021-12-27T08:28:09.939Z"
   },
   {
    "duration": 487,
    "start_time": "2021-12-27T08:28:12.499Z"
   },
   {
    "duration": 342,
    "start_time": "2021-12-27T08:28:19.251Z"
   },
   {
    "duration": 413,
    "start_time": "2021-12-27T08:28:26.069Z"
   },
   {
    "duration": 338,
    "start_time": "2021-12-27T08:28:29.091Z"
   },
   {
    "duration": 313,
    "start_time": "2021-12-27T08:29:18.359Z"
   },
   {
    "duration": 310,
    "start_time": "2021-12-27T08:29:24.999Z"
   },
   {
    "duration": 1275,
    "start_time": "2021-12-27T08:29:36.663Z"
   },
   {
    "duration": 552,
    "start_time": "2021-12-27T08:29:50.376Z"
   },
   {
    "duration": 318,
    "start_time": "2021-12-27T08:29:55.367Z"
   },
   {
    "duration": 357,
    "start_time": "2021-12-27T08:30:01.047Z"
   },
   {
    "duration": 492,
    "start_time": "2021-12-27T08:30:15.944Z"
   },
   {
    "duration": 344,
    "start_time": "2021-12-27T08:30:22.455Z"
   },
   {
    "duration": 26,
    "start_time": "2021-12-27T08:36:21.449Z"
   },
   {
    "duration": 14,
    "start_time": "2021-12-27T08:42:42.892Z"
   },
   {
    "duration": 11,
    "start_time": "2021-12-27T08:42:48.444Z"
   },
   {
    "duration": 20,
    "start_time": "2021-12-27T08:43:33.260Z"
   },
   {
    "duration": 12,
    "start_time": "2021-12-27T08:43:34.740Z"
   },
   {
    "duration": 251,
    "start_time": "2021-12-27T08:43:42.765Z"
   },
   {
    "duration": 19,
    "start_time": "2021-12-27T08:43:46.269Z"
   },
   {
    "duration": 12,
    "start_time": "2021-12-27T08:43:47.612Z"
   },
   {
    "duration": 13,
    "start_time": "2021-12-27T08:43:52.396Z"
   },
   {
    "duration": 11,
    "start_time": "2021-12-27T08:44:00.221Z"
   },
   {
    "duration": 21,
    "start_time": "2021-12-27T08:44:08.861Z"
   },
   {
    "duration": 11,
    "start_time": "2021-12-27T08:44:11.228Z"
   },
   {
    "duration": 26,
    "start_time": "2021-12-27T08:44:30.941Z"
   },
   {
    "duration": 7,
    "start_time": "2021-12-27T08:44:35.916Z"
   },
   {
    "duration": 8,
    "start_time": "2021-12-27T08:45:08.861Z"
   },
   {
    "duration": 6,
    "start_time": "2021-12-27T08:45:14.012Z"
   },
   {
    "duration": 9,
    "start_time": "2021-12-27T08:51:20.577Z"
   },
   {
    "duration": 5,
    "start_time": "2021-12-27T08:53:11.632Z"
   },
   {
    "duration": 6,
    "start_time": "2021-12-27T08:54:07.712Z"
   },
   {
    "duration": 8,
    "start_time": "2021-12-27T08:54:32.305Z"
   },
   {
    "duration": 24,
    "start_time": "2021-12-27T08:56:41.171Z"
   },
   {
    "duration": 8,
    "start_time": "2021-12-27T08:56:46.136Z"
   },
   {
    "duration": 12,
    "start_time": "2021-12-27T08:56:54.179Z"
   },
   {
    "duration": 10,
    "start_time": "2021-12-27T08:57:08.177Z"
   },
   {
    "duration": 10,
    "start_time": "2021-12-27T08:57:18.289Z"
   },
   {
    "duration": 9,
    "start_time": "2021-12-27T08:57:25.025Z"
   },
   {
    "duration": 8,
    "start_time": "2021-12-27T08:57:31.185Z"
   },
   {
    "duration": 7,
    "start_time": "2021-12-27T08:57:41.153Z"
   },
   {
    "duration": 9,
    "start_time": "2021-12-27T08:57:53.745Z"
   },
   {
    "duration": 8,
    "start_time": "2021-12-27T08:58:01.538Z"
   },
   {
    "duration": 85,
    "start_time": "2021-12-27T08:58:17.650Z"
   },
   {
    "duration": 27,
    "start_time": "2021-12-27T08:58:24.775Z"
   },
   {
    "duration": 9,
    "start_time": "2021-12-27T08:58:32.722Z"
   },
   {
    "duration": 358,
    "start_time": "2021-12-27T08:58:59.075Z"
   },
   {
    "duration": 55,
    "start_time": "2021-12-27T08:59:13.442Z"
   },
   {
    "duration": 52,
    "start_time": "2021-12-27T09:00:20.355Z"
   },
   {
    "duration": 63,
    "start_time": "2021-12-27T09:00:49.364Z"
   },
   {
    "duration": 40,
    "start_time": "2021-12-27T09:01:05.603Z"
   },
   {
    "duration": 43,
    "start_time": "2021-12-27T09:01:11.668Z"
   },
   {
    "duration": 100,
    "start_time": "2021-12-27T09:02:11.395Z"
   },
   {
    "duration": 42,
    "start_time": "2021-12-27T09:02:36.003Z"
   },
   {
    "duration": 101,
    "start_time": "2021-12-27T09:02:46.404Z"
   },
   {
    "duration": 90,
    "start_time": "2021-12-27T09:02:50.308Z"
   },
   {
    "duration": 41,
    "start_time": "2021-12-27T09:02:56.901Z"
   },
   {
    "duration": 35,
    "start_time": "2021-12-27T09:03:50.677Z"
   },
   {
    "duration": 92,
    "start_time": "2021-12-27T09:03:51.172Z"
   },
   {
    "duration": 6,
    "start_time": "2021-12-27T09:05:19.381Z"
   },
   {
    "duration": 550,
    "start_time": "2021-12-27T09:14:50.440Z"
   },
   {
    "duration": 59,
    "start_time": "2021-12-27T09:15:08.056Z"
   },
   {
    "duration": 70,
    "start_time": "2021-12-27T10:16:46.239Z"
   },
   {
    "duration": 21,
    "start_time": "2021-12-27T10:18:49.567Z"
   },
   {
    "duration": 12,
    "start_time": "2021-12-27T10:18:49.839Z"
   },
   {
    "duration": 89,
    "start_time": "2021-12-27T10:22:26.273Z"
   },
   {
    "duration": 75,
    "start_time": "2021-12-27T10:22:27.056Z"
   },
   {
    "duration": 23,
    "start_time": "2021-12-27T10:23:54.339Z"
   },
   {
    "duration": 98,
    "start_time": "2021-12-27T10:27:37.394Z"
   },
   {
    "duration": 53,
    "start_time": "2021-12-27T10:27:37.907Z"
   },
   {
    "duration": 50,
    "start_time": "2021-12-27T10:29:07.764Z"
   },
   {
    "duration": 5,
    "start_time": "2021-12-27T10:34:58.230Z"
   },
   {
    "duration": 28,
    "start_time": "2021-12-27T10:34:59.189Z"
   },
   {
    "duration": 32,
    "start_time": "2021-12-27T10:35:01.271Z"
   },
   {
    "duration": 33,
    "start_time": "2021-12-27T10:35:13.397Z"
   },
   {
    "duration": 7,
    "start_time": "2021-12-27T10:41:09.016Z"
   },
   {
    "duration": 22,
    "start_time": "2021-12-27T10:42:25.792Z"
   },
   {
    "duration": 9953,
    "start_time": "2021-12-27T10:42:29.880Z"
   },
   {
    "duration": 17,
    "start_time": "2021-12-27T10:42:56.873Z"
   },
   {
    "duration": 15,
    "start_time": "2021-12-27T11:39:02.207Z"
   },
   {
    "duration": 101,
    "start_time": "2021-12-27T11:39:02.590Z"
   },
   {
    "duration": 29,
    "start_time": "2021-12-27T11:39:14.127Z"
   },
   {
    "duration": 22,
    "start_time": "2021-12-27T11:39:24.334Z"
   },
   {
    "duration": 68,
    "start_time": "2021-12-27T11:39:52.799Z"
   },
   {
    "duration": 27,
    "start_time": "2021-12-27T11:39:54.191Z"
   },
   {
    "duration": 21,
    "start_time": "2021-12-27T11:39:54.590Z"
   },
   {
    "duration": 349,
    "start_time": "2021-12-27T11:40:03.790Z"
   },
   {
    "duration": 392,
    "start_time": "2021-12-27T11:40:04.143Z"
   },
   {
    "duration": 335,
    "start_time": "2021-12-27T11:40:04.539Z"
   },
   {
    "duration": 327,
    "start_time": "2021-12-27T11:40:05.839Z"
   },
   {
    "duration": 380,
    "start_time": "2021-12-27T11:40:07.038Z"
   },
   {
    "duration": 344,
    "start_time": "2021-12-27T11:40:08.143Z"
   },
   {
    "duration": 29,
    "start_time": "2021-12-27T11:40:13.246Z"
   },
   {
    "duration": 7,
    "start_time": "2021-12-27T11:40:14.286Z"
   },
   {
    "duration": 35,
    "start_time": "2021-12-27T11:40:16.609Z"
   },
   {
    "duration": 131,
    "start_time": "2021-12-27T11:40:17.006Z"
   },
   {
    "duration": 9,
    "start_time": "2021-12-27T11:40:18.414Z"
   },
   {
    "duration": 364,
    "start_time": "2021-12-27T11:49:18.498Z"
   },
   {
    "duration": 319,
    "start_time": "2021-12-27T11:49:26.786Z"
   },
   {
    "duration": 329,
    "start_time": "2021-12-27T11:49:30.786Z"
   },
   {
    "duration": 291,
    "start_time": "2021-12-27T11:49:35.842Z"
   },
   {
    "duration": 366,
    "start_time": "2021-12-27T11:49:39.315Z"
   },
   {
    "duration": 419,
    "start_time": "2021-12-27T11:49:54.915Z"
   },
   {
    "duration": 359,
    "start_time": "2021-12-27T11:49:58.770Z"
   },
   {
    "duration": 396,
    "start_time": "2021-12-27T12:37:17.992Z"
   },
   {
    "duration": 350,
    "start_time": "2021-12-27T12:37:22.585Z"
   },
   {
    "duration": 613,
    "start_time": "2021-12-27T12:37:50.361Z"
   },
   {
    "duration": 350,
    "start_time": "2021-12-27T12:37:55.897Z"
   },
   {
    "duration": 375,
    "start_time": "2021-12-27T12:38:49.577Z"
   },
   {
    "duration": 357,
    "start_time": "2021-12-27T12:38:58.121Z"
   },
   {
    "duration": 951,
    "start_time": "2021-12-27T12:39:22.025Z"
   },
   {
    "duration": 86,
    "start_time": "2021-12-27T12:39:29.728Z"
   },
   {
    "duration": 366,
    "start_time": "2021-12-27T12:39:35.017Z"
   },
   {
    "duration": 357,
    "start_time": "2021-12-27T12:39:40.185Z"
   },
   {
    "duration": 355,
    "start_time": "2021-12-27T12:40:24.794Z"
   },
   {
    "duration": 667,
    "start_time": "2021-12-27T12:48:31.726Z"
   },
   {
    "duration": 497,
    "start_time": "2021-12-27T12:49:00.974Z"
   },
   {
    "duration": 607,
    "start_time": "2021-12-27T12:50:33.904Z"
   },
   {
    "duration": 587,
    "start_time": "2021-12-27T12:51:07.711Z"
   },
   {
    "duration": 591,
    "start_time": "2021-12-27T12:51:11.871Z"
   },
   {
    "duration": 382,
    "start_time": "2021-12-27T12:51:38.511Z"
   },
   {
    "duration": 412,
    "start_time": "2021-12-27T12:52:13.854Z"
   },
   {
    "duration": 387,
    "start_time": "2021-12-27T12:52:27.343Z"
   },
   {
    "duration": 1763,
    "start_time": "2021-12-27T14:40:03.382Z"
   },
   {
    "duration": 601,
    "start_time": "2021-12-27T14:40:07.482Z"
   },
   {
    "duration": 74,
    "start_time": "2021-12-27T14:40:11.781Z"
   },
   {
    "duration": 68,
    "start_time": "2021-12-27T16:17:10.020Z"
   },
   {
    "duration": 96,
    "start_time": "2021-12-27T16:17:12.831Z"
   },
   {
    "duration": 26,
    "start_time": "2021-12-27T16:23:41.604Z"
   },
   {
    "duration": 19,
    "start_time": "2021-12-27T16:23:58.844Z"
   },
   {
    "duration": 120,
    "start_time": "2021-12-27T16:32:46.568Z"
   },
   {
    "duration": 86,
    "start_time": "2021-12-27T16:32:48.177Z"
   },
   {
    "duration": 128,
    "start_time": "2021-12-27T16:32:49.297Z"
   },
   {
    "duration": 80,
    "start_time": "2021-12-27T16:32:49.604Z"
   },
   {
    "duration": 59,
    "start_time": "2021-12-27T16:32:53.899Z"
   },
   {
    "duration": 51,
    "start_time": "2021-12-27T16:32:55.266Z"
   },
   {
    "duration": 4,
    "start_time": "2021-12-27T16:33:06.149Z"
   },
   {
    "duration": 23,
    "start_time": "2021-12-27T16:33:07.319Z"
   },
   {
    "duration": 29,
    "start_time": "2021-12-27T16:33:08.885Z"
   },
   {
    "duration": 20,
    "start_time": "2021-12-27T16:33:14.389Z"
   },
   {
    "duration": 8,
    "start_time": "2021-12-27T16:33:55.413Z"
   },
   {
    "duration": 10247,
    "start_time": "2021-12-27T16:34:08.277Z"
   },
   {
    "duration": 26,
    "start_time": "2021-12-27T16:34:18.527Z"
   },
   {
    "duration": 349,
    "start_time": "2021-12-27T16:38:11.314Z"
   },
   {
    "duration": 546,
    "start_time": "2021-12-27T16:38:18.035Z"
   },
   {
    "duration": 443,
    "start_time": "2021-12-27T16:38:39.805Z"
   },
   {
    "duration": 13,
    "start_time": "2021-12-27T16:40:51.841Z"
   },
   {
    "duration": 14,
    "start_time": "2021-12-27T16:44:33.775Z"
   },
   {
    "duration": 427,
    "start_time": "2021-12-27T16:48:02.993Z"
   },
   {
    "duration": 12,
    "start_time": "2021-12-27T16:48:06.205Z"
   },
   {
    "duration": 641,
    "start_time": "2021-12-27T16:49:47.961Z"
   },
   {
    "duration": 644,
    "start_time": "2021-12-27T16:49:52.265Z"
   },
   {
    "duration": 106,
    "start_time": "2021-12-27T16:55:09.432Z"
   },
   {
    "duration": 602,
    "start_time": "2021-12-27T16:55:12.772Z"
   },
   {
    "duration": 575,
    "start_time": "2021-12-27T16:55:22.161Z"
   },
   {
    "duration": 589,
    "start_time": "2021-12-27T16:55:28.043Z"
   },
   {
    "duration": 598,
    "start_time": "2021-12-27T16:55:32.277Z"
   },
   {
    "duration": 501,
    "start_time": "2021-12-27T16:55:41.436Z"
   },
   {
    "duration": 19,
    "start_time": "2021-12-27T16:55:54.278Z"
   },
   {
    "duration": 315,
    "start_time": "2021-12-27T16:56:16.444Z"
   },
   {
    "duration": 14,
    "start_time": "2021-12-27T16:56:22.449Z"
   },
   {
    "duration": 87,
    "start_time": "2021-12-27T16:56:22.722Z"
   },
   {
    "duration": 22,
    "start_time": "2021-12-27T16:56:22.961Z"
   },
   {
    "duration": 22,
    "start_time": "2021-12-27T16:56:23.588Z"
   },
   {
    "duration": 478,
    "start_time": "2021-12-27T16:56:25.403Z"
   },
   {
    "duration": 512,
    "start_time": "2021-12-27T16:56:40.740Z"
   },
   {
    "duration": 579,
    "start_time": "2021-12-27T16:56:46.208Z"
   },
   {
    "duration": 542,
    "start_time": "2021-12-27T16:57:12.400Z"
   },
   {
    "duration": 584,
    "start_time": "2021-12-27T16:57:23.560Z"
   },
   {
    "duration": 622,
    "start_time": "2021-12-27T17:00:08.865Z"
   },
   {
    "duration": 561,
    "start_time": "2021-12-27T17:00:09.490Z"
   },
   {
    "duration": 848,
    "start_time": "2021-12-27T17:02:23.308Z"
   },
   {
    "duration": 706,
    "start_time": "2021-12-27T17:02:30.981Z"
   },
   {
    "duration": 305,
    "start_time": "2021-12-27T17:09:05.750Z"
   },
   {
    "duration": 541,
    "start_time": "2021-12-27T17:09:12.146Z"
   },
   {
    "duration": 921,
    "start_time": "2021-12-27T17:10:05.173Z"
   },
   {
    "duration": 869,
    "start_time": "2021-12-27T17:11:11.003Z"
   },
   {
    "duration": 579,
    "start_time": "2021-12-27T17:13:57.320Z"
   },
   {
    "duration": 124,
    "start_time": "2021-12-27T17:14:35.752Z"
   },
   {
    "duration": 502,
    "start_time": "2021-12-27T17:14:38.751Z"
   },
   {
    "duration": 589,
    "start_time": "2021-12-27T17:15:06.576Z"
   },
   {
    "duration": 340,
    "start_time": "2021-12-27T17:17:55.075Z"
   },
   {
    "duration": 9,
    "start_time": "2021-12-27T17:18:11.727Z"
   },
   {
    "duration": 12,
    "start_time": "2021-12-27T17:18:17.897Z"
   },
   {
    "duration": 7,
    "start_time": "2021-12-27T17:18:48.480Z"
   },
   {
    "duration": 23,
    "start_time": "2021-12-27T17:19:13.996Z"
   },
   {
    "duration": 573,
    "start_time": "2021-12-27T17:19:54.100Z"
   },
   {
    "duration": 460,
    "start_time": "2021-12-27T17:20:08.080Z"
   },
   {
    "duration": 556,
    "start_time": "2021-12-27T17:20:36.847Z"
   },
   {
    "duration": 558,
    "start_time": "2021-12-27T17:20:44.337Z"
   },
   {
    "duration": 504,
    "start_time": "2021-12-27T17:22:25.684Z"
   },
   {
    "duration": 559,
    "start_time": "2021-12-27T17:22:29.593Z"
   },
   {
    "duration": 492,
    "start_time": "2021-12-27T17:22:40.678Z"
   },
   {
    "duration": 469,
    "start_time": "2021-12-27T17:23:08.016Z"
   },
   {
    "duration": 441,
    "start_time": "2021-12-27T17:36:54.537Z"
   },
   {
    "duration": 478,
    "start_time": "2021-12-27T17:37:04.482Z"
   },
   {
    "duration": 445,
    "start_time": "2021-12-27T17:37:13.678Z"
   },
   {
    "duration": 604,
    "start_time": "2021-12-27T17:37:20.326Z"
   },
   {
    "duration": 646,
    "start_time": "2021-12-27T17:37:31.052Z"
   },
   {
    "duration": 575,
    "start_time": "2021-12-27T17:37:36.604Z"
   },
   {
    "duration": 27,
    "start_time": "2021-12-27T17:43:18.991Z"
   },
   {
    "duration": 7,
    "start_time": "2021-12-27T17:49:41.555Z"
   },
   {
    "duration": 9,
    "start_time": "2021-12-27T17:49:46.683Z"
   },
   {
    "duration": 9,
    "start_time": "2021-12-27T17:49:49.989Z"
   },
   {
    "duration": 302,
    "start_time": "2021-12-27T18:00:36.369Z"
   },
   {
    "duration": 42,
    "start_time": "2021-12-27T18:00:38.957Z"
   },
   {
    "duration": 100,
    "start_time": "2021-12-27T18:00:39.158Z"
   },
   {
    "duration": 9,
    "start_time": "2021-12-27T18:00:40.241Z"
   },
   {
    "duration": 6,
    "start_time": "2021-12-27T18:00:51.665Z"
   },
   {
    "duration": 7,
    "start_time": "2021-12-27T18:00:54.364Z"
   },
   {
    "duration": 7,
    "start_time": "2021-12-27T18:06:23.070Z"
   },
   {
    "duration": 7,
    "start_time": "2021-12-27T18:14:11.736Z"
   },
   {
    "duration": 7,
    "start_time": "2021-12-27T18:14:19.713Z"
   },
   {
    "duration": 7,
    "start_time": "2021-12-27T18:28:31.552Z"
   },
   {
    "duration": 1823,
    "start_time": "2021-12-27T18:31:55.448Z"
   },
   {
    "duration": 743,
    "start_time": "2021-12-27T18:31:57.274Z"
   },
   {
    "duration": 95,
    "start_time": "2021-12-27T18:31:58.021Z"
   },
   {
    "duration": 202,
    "start_time": "2021-12-27T18:31:58.120Z"
   },
   {
    "duration": 201,
    "start_time": "2021-12-27T18:31:58.324Z"
   },
   {
    "duration": 194,
    "start_time": "2021-12-27T18:31:58.527Z"
   },
   {
    "duration": 77,
    "start_time": "2021-12-27T18:31:58.724Z"
   },
   {
    "duration": 357,
    "start_time": "2021-12-27T18:31:58.805Z"
   },
   {
    "duration": 160,
    "start_time": "2021-12-27T18:31:59.165Z"
   },
   {
    "duration": 223,
    "start_time": "2021-12-27T18:31:59.327Z"
   },
   {
    "duration": 265,
    "start_time": "2021-12-27T18:31:59.553Z"
   },
   {
    "duration": 279,
    "start_time": "2021-12-27T18:31:59.820Z"
   },
   {
    "duration": 224,
    "start_time": "2021-12-27T18:32:00.102Z"
   },
   {
    "duration": 334,
    "start_time": "2021-12-27T18:32:00.329Z"
   },
   {
    "duration": 316,
    "start_time": "2021-12-27T18:32:00.666Z"
   },
   {
    "duration": 270,
    "start_time": "2021-12-27T18:32:00.985Z"
   },
   {
    "duration": 182,
    "start_time": "2021-12-27T18:32:01.257Z"
   },
   {
    "duration": 9166,
    "start_time": "2021-12-27T18:32:01.441Z"
   },
   {
    "duration": 23,
    "start_time": "2021-12-27T18:32:10.609Z"
   },
   {
    "duration": 809,
    "start_time": "2021-12-27T18:32:10.635Z"
   },
   {
    "duration": 29,
    "start_time": "2021-12-27T18:32:11.446Z"
   },
   {
    "duration": 333,
    "start_time": "2021-12-27T18:32:11.477Z"
   },
   {
    "duration": 408,
    "start_time": "2021-12-27T18:32:11.817Z"
   },
   {
    "duration": 235,
    "start_time": "2021-12-27T18:32:12.229Z"
   },
   {
    "duration": 405,
    "start_time": "2021-12-27T18:32:12.467Z"
   },
   {
    "duration": 621,
    "start_time": "2021-12-27T18:32:12.874Z"
   },
   {
    "duration": 499,
    "start_time": "2021-12-27T18:32:13.497Z"
   },
   {
    "duration": 656,
    "start_time": "2021-12-27T18:32:13.999Z"
   },
   {
    "duration": 621,
    "start_time": "2021-12-27T18:32:14.659Z"
   },
   {
    "duration": 698,
    "start_time": "2021-12-27T18:32:15.283Z"
   },
   {
    "duration": 679,
    "start_time": "2021-12-27T18:32:15.983Z"
   },
   {
    "duration": 23,
    "start_time": "2021-12-27T18:32:16.668Z"
   },
   {
    "duration": 335,
    "start_time": "2021-12-27T18:32:16.693Z"
   },
   {
    "duration": 234,
    "start_time": "2021-12-27T18:32:17.031Z"
   },
   {
    "duration": 193,
    "start_time": "2021-12-27T18:32:17.269Z"
   },
   {
    "duration": 112,
    "start_time": "2021-12-27T18:32:17.465Z"
   },
   {
    "duration": 7,
    "start_time": "2021-12-27T18:34:17.255Z"
   },
   {
    "duration": 1754,
    "start_time": "2021-12-27T18:35:55.091Z"
   },
   {
    "duration": 684,
    "start_time": "2021-12-27T18:35:56.849Z"
   },
   {
    "duration": 67,
    "start_time": "2021-12-27T18:35:57.537Z"
   },
   {
    "duration": 352,
    "start_time": "2021-12-27T18:35:57.607Z"
   },
   {
    "duration": 461,
    "start_time": "2021-12-27T18:35:57.961Z"
   },
   {
    "duration": 293,
    "start_time": "2021-12-27T18:35:58.425Z"
   },
   {
    "duration": 357,
    "start_time": "2021-12-27T18:35:58.721Z"
   },
   {
    "duration": 302,
    "start_time": "2021-12-27T18:35:59.081Z"
   },
   {
    "duration": 363,
    "start_time": "2021-12-27T18:35:59.388Z"
   },
   {
    "duration": 367,
    "start_time": "2021-12-27T18:35:59.754Z"
   },
   {
    "duration": 287,
    "start_time": "2021-12-27T18:36:00.123Z"
   },
   {
    "duration": 243,
    "start_time": "2021-12-27T18:36:00.413Z"
   },
   {
    "duration": 185,
    "start_time": "2021-12-27T18:36:00.659Z"
   },
   {
    "duration": 246,
    "start_time": "2021-12-27T18:36:00.847Z"
   },
   {
    "duration": 168,
    "start_time": "2021-12-27T18:36:01.096Z"
   },
   {
    "duration": 221,
    "start_time": "2021-12-27T18:36:01.267Z"
   },
   {
    "duration": 309,
    "start_time": "2021-12-27T18:36:01.490Z"
   },
   {
    "duration": 168,
    "start_time": "2021-12-27T18:36:01.802Z"
   },
   {
    "duration": 10630,
    "start_time": "2021-12-27T18:36:01.972Z"
   },
   {
    "duration": 18,
    "start_time": "2021-12-27T18:36:12.605Z"
   },
   {
    "duration": 693,
    "start_time": "2021-12-27T18:36:12.626Z"
   },
   {
    "duration": 13,
    "start_time": "2021-12-27T18:36:13.322Z"
   },
   {
    "duration": 271,
    "start_time": "2021-12-27T18:36:13.338Z"
   },
   {
    "duration": 327,
    "start_time": "2021-12-27T18:36:13.611Z"
   },
   {
    "duration": 253,
    "start_time": "2021-12-27T18:36:13.941Z"
   },
   {
    "duration": 306,
    "start_time": "2021-12-27T18:36:14.197Z"
   },
   {
    "duration": 670,
    "start_time": "2021-12-27T18:36:14.510Z"
   },
   {
    "duration": 505,
    "start_time": "2021-12-27T18:36:15.185Z"
   },
   {
    "duration": 483,
    "start_time": "2021-12-27T18:36:15.693Z"
   },
   {
    "duration": 552,
    "start_time": "2021-12-27T18:36:16.179Z"
   },
   {
    "duration": 488,
    "start_time": "2021-12-27T18:36:16.734Z"
   },
   {
    "duration": 483,
    "start_time": "2021-12-27T18:36:17.225Z"
   },
   {
    "duration": 24,
    "start_time": "2021-12-27T18:36:17.711Z"
   },
   {
    "duration": 397,
    "start_time": "2021-12-27T18:36:17.737Z"
   },
   {
    "duration": 224,
    "start_time": "2021-12-27T18:36:18.137Z"
   },
   {
    "duration": 206,
    "start_time": "2021-12-27T18:36:18.364Z"
   },
   {
    "duration": 181,
    "start_time": "2021-12-27T18:36:18.573Z"
   },
   {
    "duration": 564,
    "start_time": "2021-12-27T18:39:06.238Z"
   },
   {
    "duration": 1883,
    "start_time": "2021-12-27T18:39:26.964Z"
   },
   {
    "duration": 761,
    "start_time": "2021-12-27T18:39:28.851Z"
   },
   {
    "duration": 71,
    "start_time": "2021-12-27T18:39:29.615Z"
   },
   {
    "duration": 234,
    "start_time": "2021-12-27T18:39:29.690Z"
   },
   {
    "duration": 143,
    "start_time": "2021-12-27T18:39:29.926Z"
   },
   {
    "duration": 179,
    "start_time": "2021-12-27T18:39:30.072Z"
   },
   {
    "duration": 238,
    "start_time": "2021-12-27T18:39:30.254Z"
   },
   {
    "duration": 197,
    "start_time": "2021-12-27T18:39:30.498Z"
   },
   {
    "duration": 298,
    "start_time": "2021-12-27T18:39:30.698Z"
   },
   {
    "duration": 167,
    "start_time": "2021-12-27T18:39:30.998Z"
   },
   {
    "duration": 216,
    "start_time": "2021-12-27T18:39:31.168Z"
   },
   {
    "duration": 154,
    "start_time": "2021-12-27T18:39:31.387Z"
   },
   {
    "duration": 190,
    "start_time": "2021-12-27T18:39:31.544Z"
   },
   {
    "duration": 153,
    "start_time": "2021-12-27T18:39:31.737Z"
   },
   {
    "duration": 276,
    "start_time": "2021-12-27T18:39:31.893Z"
   },
   {
    "duration": 202,
    "start_time": "2021-12-27T18:39:32.171Z"
   },
   {
    "duration": 202,
    "start_time": "2021-12-27T18:39:32.376Z"
   },
   {
    "duration": 183,
    "start_time": "2021-12-27T18:39:32.581Z"
   },
   {
    "duration": 9526,
    "start_time": "2021-12-27T18:39:32.766Z"
   },
   {
    "duration": 32,
    "start_time": "2021-12-27T18:39:42.294Z"
   },
   {
    "duration": 760,
    "start_time": "2021-12-27T18:39:42.328Z"
   },
   {
    "duration": 12,
    "start_time": "2021-12-27T18:39:43.091Z"
   },
   {
    "duration": 245,
    "start_time": "2021-12-27T18:39:43.107Z"
   },
   {
    "duration": 248,
    "start_time": "2021-12-27T18:39:43.355Z"
   },
   {
    "duration": 239,
    "start_time": "2021-12-27T18:39:43.606Z"
   },
   {
    "duration": 196,
    "start_time": "2021-12-27T18:39:43.848Z"
   },
   {
    "duration": 663,
    "start_time": "2021-12-27T18:39:44.047Z"
   },
   {
    "duration": 662,
    "start_time": "2021-12-27T18:39:44.713Z"
   },
   {
    "duration": 479,
    "start_time": "2021-12-27T18:39:45.378Z"
   },
   {
    "duration": 483,
    "start_time": "2021-12-27T18:39:45.859Z"
   },
   {
    "duration": 622,
    "start_time": "2021-12-27T18:39:46.345Z"
   },
   {
    "duration": 498,
    "start_time": "2021-12-27T18:39:46.969Z"
   },
   {
    "duration": 26,
    "start_time": "2021-12-27T18:39:47.469Z"
   },
   {
    "duration": 317,
    "start_time": "2021-12-27T18:39:47.497Z"
   },
   {
    "duration": 334,
    "start_time": "2021-12-27T18:39:47.816Z"
   },
   {
    "duration": 291,
    "start_time": "2021-12-27T18:39:48.153Z"
   },
   {
    "duration": 162,
    "start_time": "2021-12-27T18:39:48.447Z"
   },
   {
    "duration": 1335,
    "start_time": "2021-12-28T16:19:39.456Z"
   },
   {
    "duration": 527,
    "start_time": "2021-12-28T16:19:42.491Z"
   },
   {
    "duration": 60,
    "start_time": "2021-12-28T16:19:50.626Z"
   },
   {
    "duration": 74,
    "start_time": "2021-12-28T16:20:02.722Z"
   },
   {
    "duration": 27,
    "start_time": "2021-12-28T16:20:09.753Z"
   },
   {
    "duration": 17,
    "start_time": "2021-12-28T16:20:15.729Z"
   },
   {
    "duration": 10,
    "start_time": "2021-12-28T16:20:16.649Z"
   },
   {
    "duration": 6,
    "start_time": "2021-12-28T16:20:22.978Z"
   },
   {
    "duration": 100,
    "start_time": "2021-12-28T16:21:34.095Z"
   },
   {
    "duration": 70,
    "start_time": "2021-12-28T16:21:37.440Z"
   },
   {
    "duration": 21,
    "start_time": "2021-12-28T16:21:53.096Z"
   },
   {
    "duration": 9,
    "start_time": "2021-12-28T16:22:18.382Z"
   },
   {
    "duration": 473,
    "start_time": "2021-12-28T16:22:26.777Z"
   },
   {
    "duration": 25,
    "start_time": "2021-12-28T16:22:35.232Z"
   },
   {
    "duration": 11,
    "start_time": "2021-12-28T16:22:42.488Z"
   },
   {
    "duration": 20,
    "start_time": "2021-12-28T16:22:48.392Z"
   },
   {
    "duration": 11,
    "start_time": "2021-12-28T16:22:55.479Z"
   },
   {
    "duration": 98,
    "start_time": "2021-12-28T16:23:11.127Z"
   },
   {
    "duration": 28,
    "start_time": "2021-12-28T16:23:16.751Z"
   },
   {
    "duration": 103,
    "start_time": "2021-12-28T16:24:24.214Z"
   },
   {
    "duration": 18,
    "start_time": "2021-12-28T16:24:48.029Z"
   },
   {
    "duration": 18,
    "start_time": "2021-12-28T16:24:49.669Z"
   },
   {
    "duration": 1326,
    "start_time": "2021-12-28T16:25:11.955Z"
   },
   {
    "duration": 520,
    "start_time": "2021-12-28T16:25:13.843Z"
   },
   {
    "duration": 60,
    "start_time": "2021-12-28T16:25:14.740Z"
   },
   {
    "duration": 71,
    "start_time": "2021-12-28T16:25:15.250Z"
   },
   {
    "duration": 27,
    "start_time": "2021-12-28T16:25:15.859Z"
   },
   {
    "duration": 17,
    "start_time": "2021-12-28T16:25:16.099Z"
   },
   {
    "duration": 12,
    "start_time": "2021-12-28T16:25:16.275Z"
   },
   {
    "duration": 6,
    "start_time": "2021-12-28T16:25:16.451Z"
   },
   {
    "duration": 99,
    "start_time": "2021-12-28T16:25:17.964Z"
   },
   {
    "duration": 72,
    "start_time": "2021-12-28T16:25:18.707Z"
   },
   {
    "duration": 97,
    "start_time": "2021-12-28T16:25:20.083Z"
   },
   {
    "duration": 72,
    "start_time": "2021-12-28T16:25:32.107Z"
   },
   {
    "duration": 98,
    "start_time": "2021-12-28T16:25:35.267Z"
   },
   {
    "duration": 78,
    "start_time": "2021-12-28T16:25:35.474Z"
   },
   {
    "duration": 13,
    "start_time": "2021-12-28T16:25:49.882Z"
   },
   {
    "duration": 66,
    "start_time": "2021-12-28T16:26:15.059Z"
   },
   {
    "duration": 12,
    "start_time": "2021-12-28T16:26:24.995Z"
   },
   {
    "duration": 32,
    "start_time": "2021-12-28T16:26:32.130Z"
   },
   {
    "duration": 10,
    "start_time": "2021-12-28T16:26:40.242Z"
   },
   {
    "duration": 4,
    "start_time": "2021-12-28T16:33:38.939Z"
   },
   {
    "duration": 30,
    "start_time": "2021-12-28T16:33:41.500Z"
   },
   {
    "duration": 34,
    "start_time": "2021-12-28T16:34:31.883Z"
   },
   {
    "duration": 912,
    "start_time": "2021-12-28T16:34:53.922Z"
   },
   {
    "duration": 28,
    "start_time": "2021-12-28T17:11:43.529Z"
   },
   {
    "duration": 429,
    "start_time": "2021-12-28T17:12:00.977Z"
   },
   {
    "duration": 363,
    "start_time": "2021-12-28T17:12:35.609Z"
   },
   {
    "duration": 29,
    "start_time": "2021-12-28T17:12:38.809Z"
   },
   {
    "duration": 6,
    "start_time": "2021-12-28T17:12:52.896Z"
   },
   {
    "duration": 19,
    "start_time": "2021-12-28T17:13:02.735Z"
   },
   {
    "duration": 7,
    "start_time": "2021-12-28T17:13:09.856Z"
   },
   {
    "duration": 26,
    "start_time": "2021-12-28T17:13:23.040Z"
   },
   {
    "duration": 9,
    "start_time": "2021-12-28T17:13:40.642Z"
   },
   {
    "duration": 30,
    "start_time": "2021-12-28T17:15:49.309Z"
   },
   {
    "duration": 26,
    "start_time": "2021-12-28T17:15:51.550Z"
   },
   {
    "duration": 19,
    "start_time": "2021-12-28T17:16:09.733Z"
   },
   {
    "duration": 49,
    "start_time": "2021-12-28T17:16:14.830Z"
   },
   {
    "duration": 11,
    "start_time": "2021-12-28T17:16:31.246Z"
   },
   {
    "duration": 23,
    "start_time": "2021-12-28T17:17:15.764Z"
   },
   {
    "duration": 26,
    "start_time": "2021-12-28T17:17:18.908Z"
   },
   {
    "duration": 17,
    "start_time": "2021-12-28T17:17:35.576Z"
   },
   {
    "duration": 8,
    "start_time": "2021-12-28T17:21:07.873Z"
   },
   {
    "duration": 9891,
    "start_time": "2021-12-28T17:21:13.248Z"
   },
   {
    "duration": 23,
    "start_time": "2021-12-28T17:21:23.142Z"
   },
   {
    "duration": 5,
    "start_time": "2021-12-28T17:22:58.975Z"
   },
   {
    "duration": 436,
    "start_time": "2021-12-28T17:26:23.260Z"
   },
   {
    "duration": 12,
    "start_time": "2021-12-28T17:26:29.845Z"
   },
   {
    "duration": 378,
    "start_time": "2021-12-28T17:26:41.819Z"
   },
   {
    "duration": 13,
    "start_time": "2021-12-28T17:26:53.388Z"
   },
   {
    "duration": 571,
    "start_time": "2021-12-28T17:29:49.017Z"
   },
   {
    "duration": 12,
    "start_time": "2021-12-28T17:29:55.686Z"
   },
   {
    "duration": 29,
    "start_time": "2021-12-28T17:33:10.606Z"
   },
   {
    "duration": 434,
    "start_time": "2021-12-28T17:33:35.715Z"
   },
   {
    "duration": 32,
    "start_time": "2021-12-28T17:33:55.390Z"
   },
   {
    "duration": 14,
    "start_time": "2021-12-28T17:34:33.029Z"
   },
   {
    "duration": 237,
    "start_time": "2021-12-28T17:35:11.982Z"
   },
   {
    "duration": 742,
    "start_time": "2021-12-28T17:35:20.180Z"
   },
   {
    "duration": 22,
    "start_time": "2021-12-28T17:35:35.459Z"
   },
   {
    "duration": 24,
    "start_time": "2021-12-28T17:36:00.003Z"
   },
   {
    "duration": 22,
    "start_time": "2021-12-28T17:36:09.198Z"
   },
   {
    "duration": 23,
    "start_time": "2021-12-28T17:36:09.509Z"
   },
   {
    "duration": 12,
    "start_time": "2021-12-28T17:42:40.365Z"
   },
   {
    "duration": 84,
    "start_time": "2021-12-28T17:42:46.973Z"
   },
   {
    "duration": 65,
    "start_time": "2021-12-28T17:43:06.997Z"
   },
   {
    "duration": 22,
    "start_time": "2021-12-28T17:43:09.412Z"
   },
   {
    "duration": 433,
    "start_time": "2021-12-28T17:43:50.814Z"
   },
   {
    "duration": 431,
    "start_time": "2021-12-28T17:43:55.796Z"
   },
   {
    "duration": 427,
    "start_time": "2021-12-28T17:43:58.045Z"
   },
   {
    "duration": 408,
    "start_time": "2021-12-28T17:44:01.821Z"
   },
   {
    "duration": 622,
    "start_time": "2021-12-28T17:44:02.701Z"
   },
   {
    "duration": 439,
    "start_time": "2021-12-28T17:44:03.828Z"
   },
   {
    "duration": 22,
    "start_time": "2021-12-28T17:51:31.550Z"
   },
   {
    "duration": 7,
    "start_time": "2021-12-28T17:51:39.758Z"
   },
   {
    "duration": 16,
    "start_time": "2021-12-28T17:53:53.204Z"
   },
   {
    "duration": 6,
    "start_time": "2021-12-28T17:54:08.644Z"
   },
   {
    "duration": 287,
    "start_time": "2021-12-28T17:54:17.780Z"
   },
   {
    "duration": 390,
    "start_time": "2021-12-28T17:54:28.458Z"
   },
   {
    "duration": 352,
    "start_time": "2021-12-28T17:54:39.324Z"
   },
   {
    "duration": 8,
    "start_time": "2021-12-28T17:54:42.682Z"
   },
   {
    "duration": 342,
    "start_time": "2021-12-28T17:55:07.018Z"
   },
   {
    "duration": 7,
    "start_time": "2021-12-28T17:55:12.210Z"
   },
   {
    "duration": 6,
    "start_time": "2021-12-28T17:55:51.577Z"
   },
   {
    "duration": 8,
    "start_time": "2021-12-28T17:55:56.105Z"
   },
   {
    "duration": 7,
    "start_time": "2021-12-28T17:58:24.416Z"
   },
   {
    "duration": 37,
    "start_time": "2021-12-28T18:00:44.372Z"
   },
   {
    "duration": 137,
    "start_time": "2021-12-28T18:00:44.806Z"
   },
   {
    "duration": 8,
    "start_time": "2021-12-28T18:00:45.461Z"
   },
   {
    "duration": 939,
    "start_time": "2021-12-29T06:35:17.289Z"
   },
   {
    "duration": 390,
    "start_time": "2021-12-29T06:35:18.230Z"
   },
   {
    "duration": 40,
    "start_time": "2021-12-29T06:35:18.622Z"
   },
   {
    "duration": 50,
    "start_time": "2021-12-29T06:35:18.664Z"
   },
   {
    "duration": 28,
    "start_time": "2021-12-29T06:35:18.716Z"
   },
   {
    "duration": 12,
    "start_time": "2021-12-29T06:35:18.745Z"
   },
   {
    "duration": 7,
    "start_time": "2021-12-29T06:35:18.759Z"
   },
   {
    "duration": 36,
    "start_time": "2021-12-29T06:35:18.769Z"
   },
   {
    "duration": 79,
    "start_time": "2021-12-29T06:35:18.807Z"
   },
   {
    "duration": 58,
    "start_time": "2021-12-29T06:35:18.888Z"
   },
   {
    "duration": 69,
    "start_time": "2021-12-29T06:35:18.948Z"
   },
   {
    "duration": 69,
    "start_time": "2021-12-29T06:35:19.018Z"
   },
   {
    "duration": 7,
    "start_time": "2021-12-29T06:35:19.089Z"
   },
   {
    "duration": 65,
    "start_time": "2021-12-29T06:35:19.098Z"
   },
   {
    "duration": 9,
    "start_time": "2021-12-29T06:35:19.164Z"
   },
   {
    "duration": 42,
    "start_time": "2021-12-29T06:35:19.174Z"
   },
   {
    "duration": 14,
    "start_time": "2021-12-29T06:35:19.218Z"
   },
   {
    "duration": 18,
    "start_time": "2021-12-29T06:35:19.233Z"
   },
   {
    "duration": 26,
    "start_time": "2021-12-29T06:35:19.253Z"
   },
   {
    "duration": 35,
    "start_time": "2021-12-29T06:35:19.280Z"
   },
   {
    "duration": 36,
    "start_time": "2021-12-29T06:35:19.316Z"
   },
   {
    "duration": 31,
    "start_time": "2021-12-29T06:35:19.353Z"
   },
   {
    "duration": 28,
    "start_time": "2021-12-29T06:35:19.387Z"
   },
   {
    "duration": 37,
    "start_time": "2021-12-29T06:35:19.417Z"
   },
   {
    "duration": 4869,
    "start_time": "2021-12-29T06:35:19.455Z"
   },
   {
    "duration": 17,
    "start_time": "2021-12-29T06:35:24.325Z"
   },
   {
    "duration": 272,
    "start_time": "2021-12-29T06:35:24.343Z"
   },
   {
    "duration": 7,
    "start_time": "2021-12-29T06:35:24.616Z"
   },
   {
    "duration": 26,
    "start_time": "2021-12-29T06:35:24.625Z"
   },
   {
    "duration": 15,
    "start_time": "2021-12-29T06:35:24.653Z"
   },
   {
    "duration": 8,
    "start_time": "2021-12-29T06:35:24.670Z"
   },
   {
    "duration": 64,
    "start_time": "2021-12-29T06:35:24.679Z"
   },
   {
    "duration": 14,
    "start_time": "2021-12-29T06:35:24.745Z"
   },
   {
    "duration": 12,
    "start_time": "2021-12-29T06:35:24.761Z"
   },
   {
    "duration": 260,
    "start_time": "2021-12-29T06:35:24.775Z"
   },
   {
    "duration": 266,
    "start_time": "2021-12-29T06:35:25.041Z"
   },
   {
    "duration": 280,
    "start_time": "2021-12-29T06:35:25.308Z"
   },
   {
    "duration": 270,
    "start_time": "2021-12-29T06:35:25.590Z"
   },
   {
    "duration": 285,
    "start_time": "2021-12-29T06:35:25.862Z"
   },
   {
    "duration": 357,
    "start_time": "2021-12-29T06:35:26.149Z"
   },
   {
    "duration": 16,
    "start_time": "2021-12-29T06:35:26.508Z"
   },
   {
    "duration": 16,
    "start_time": "2021-12-29T06:35:26.526Z"
   },
   {
    "duration": 4,
    "start_time": "2021-12-29T06:35:26.543Z"
   },
   {
    "duration": 10,
    "start_time": "2021-12-29T06:35:26.548Z"
   },
   {
    "duration": 34,
    "start_time": "2021-12-29T06:35:26.560Z"
   },
   {
    "duration": 50,
    "start_time": "2021-12-29T06:35:26.596Z"
   },
   {
    "duration": 4,
    "start_time": "2021-12-29T06:35:26.647Z"
   },
   {
    "duration": 185,
    "start_time": "2021-12-29T06:36:30.689Z"
   },
   {
    "duration": 416,
    "start_time": "2021-12-29T06:36:43.505Z"
   },
   {
    "duration": 10,
    "start_time": "2021-12-29T06:36:47.456Z"
   },
   {
    "duration": 10,
    "start_time": "2021-12-29T06:36:56.592Z"
   },
   {
    "duration": 79,
    "start_time": "2021-12-29T06:37:06.529Z"
   },
   {
    "duration": 8,
    "start_time": "2021-12-29T06:37:08.944Z"
   },
   {
    "duration": 10,
    "start_time": "2021-12-29T06:37:15.440Z"
   },
   {
    "duration": 20,
    "start_time": "2021-12-29T06:37:34.257Z"
   },
   {
    "duration": 313,
    "start_time": "2021-12-29T06:38:57.793Z"
   },
   {
    "duration": 16,
    "start_time": "2021-12-29T06:39:17.169Z"
   },
   {
    "duration": 4,
    "start_time": "2021-12-29T06:39:21.960Z"
   },
   {
    "duration": 6,
    "start_time": "2021-12-29T06:39:29.298Z"
   },
   {
    "duration": 5,
    "start_time": "2021-12-29T06:39:51.266Z"
   },
   {
    "duration": 21,
    "start_time": "2021-12-29T06:40:30.706Z"
   },
   {
    "duration": 17,
    "start_time": "2021-12-29T06:40:36.947Z"
   },
   {
    "duration": 19,
    "start_time": "2021-12-29T06:40:41.618Z"
   },
   {
    "duration": 18,
    "start_time": "2021-12-29T06:40:44.929Z"
   },
   {
    "duration": 33,
    "start_time": "2021-12-29T06:41:02.050Z"
   },
   {
    "duration": 22,
    "start_time": "2021-12-29T06:41:26.453Z"
   },
   {
    "duration": 19,
    "start_time": "2021-12-29T06:42:49.059Z"
   },
   {
    "duration": 44,
    "start_time": "2021-12-29T06:43:05.107Z"
   },
   {
    "duration": 53,
    "start_time": "2021-12-29T06:47:30.213Z"
   },
   {
    "duration": 40,
    "start_time": "2021-12-29T06:47:36.276Z"
   },
   {
    "duration": 38,
    "start_time": "2021-12-29T06:47:41.972Z"
   },
   {
    "duration": 40,
    "start_time": "2021-12-29T06:47:45.716Z"
   },
   {
    "duration": 39,
    "start_time": "2021-12-29T06:47:57.188Z"
   },
   {
    "duration": 44,
    "start_time": "2021-12-29T06:50:06.117Z"
   },
   {
    "duration": 6,
    "start_time": "2021-12-29T06:53:02.677Z"
   },
   {
    "duration": 11,
    "start_time": "2021-12-29T06:53:11.302Z"
   },
   {
    "duration": 10,
    "start_time": "2021-12-29T06:53:14.806Z"
   },
   {
    "duration": 11,
    "start_time": "2021-12-29T06:53:27.222Z"
   },
   {
    "duration": 9,
    "start_time": "2021-12-29T06:53:57.287Z"
   },
   {
    "duration": 9,
    "start_time": "2021-12-29T06:54:08.006Z"
   },
   {
    "duration": 19,
    "start_time": "2021-12-29T06:54:13.533Z"
   },
   {
    "duration": 9,
    "start_time": "2021-12-29T06:54:21.590Z"
   },
   {
    "duration": 20,
    "start_time": "2021-12-29T06:55:05.686Z"
   },
   {
    "duration": 3,
    "start_time": "2021-12-29T07:16:39.149Z"
   },
   {
    "duration": 5,
    "start_time": "2021-12-29T07:18:06.990Z"
   },
   {
    "duration": 14,
    "start_time": "2021-12-29T07:19:16.287Z"
   },
   {
    "duration": 221,
    "start_time": "2021-12-29T07:21:11.360Z"
   },
   {
    "duration": 9,
    "start_time": "2021-12-29T07:21:15.632Z"
   },
   {
    "duration": 18,
    "start_time": "2021-12-29T07:21:20.096Z"
   },
   {
    "duration": 16,
    "start_time": "2021-12-29T07:21:42.977Z"
   },
   {
    "duration": 9,
    "start_time": "2021-12-29T07:22:04.689Z"
   },
   {
    "duration": 9,
    "start_time": "2021-12-29T07:22:28.976Z"
   },
   {
    "duration": 4,
    "start_time": "2021-12-29T07:22:36.672Z"
   },
   {
    "duration": 4,
    "start_time": "2021-12-29T07:22:41.968Z"
   },
   {
    "duration": 2,
    "start_time": "2021-12-29T07:25:58.977Z"
   },
   {
    "duration": 5,
    "start_time": "2021-12-29T07:27:24.547Z"
   },
   {
    "duration": 4,
    "start_time": "2021-12-29T07:27:32.802Z"
   },
   {
    "duration": 6,
    "start_time": "2021-12-29T07:27:48.034Z"
   },
   {
    "duration": 7,
    "start_time": "2021-12-29T07:28:01.202Z"
   },
   {
    "duration": 25,
    "start_time": "2021-12-29T07:32:38.032Z"
   },
   {
    "duration": 7,
    "start_time": "2021-12-29T07:32:48.560Z"
   },
   {
    "duration": 7,
    "start_time": "2021-12-29T07:33:47.280Z"
   },
   {
    "duration": 8,
    "start_time": "2021-12-29T07:33:50.656Z"
   },
   {
    "duration": 5,
    "start_time": "2021-12-29T07:34:00.128Z"
   },
   {
    "duration": 8,
    "start_time": "2021-12-29T07:34:55.360Z"
   },
   {
    "duration": 4,
    "start_time": "2021-12-29T07:35:01.649Z"
   },
   {
    "duration": 28,
    "start_time": "2021-12-29T07:37:47.857Z"
   },
   {
    "duration": 26,
    "start_time": "2021-12-29T07:39:12.185Z"
   },
   {
    "duration": 16,
    "start_time": "2021-12-29T07:39:40.306Z"
   },
   {
    "duration": 21,
    "start_time": "2021-12-29T07:40:21.459Z"
   },
   {
    "duration": 4,
    "start_time": "2021-12-29T07:40:22.227Z"
   },
   {
    "duration": 5,
    "start_time": "2021-12-29T07:40:22.626Z"
   },
   {
    "duration": 12,
    "start_time": "2021-12-29T07:40:24.419Z"
   },
   {
    "duration": 12,
    "start_time": "2021-12-29T07:41:01.443Z"
   },
   {
    "duration": 7,
    "start_time": "2021-12-29T07:41:15.490Z"
   },
   {
    "duration": 23,
    "start_time": "2021-12-29T07:46:18.164Z"
   },
   {
    "duration": 24,
    "start_time": "2021-12-29T07:46:23.883Z"
   },
   {
    "duration": 17,
    "start_time": "2021-12-29T07:47:06.261Z"
   },
   {
    "duration": 5,
    "start_time": "2021-12-29T07:47:16.245Z"
   },
   {
    "duration": 17,
    "start_time": "2021-12-29T07:47:28.516Z"
   },
   {
    "duration": 4,
    "start_time": "2021-12-29T07:48:44.502Z"
   },
   {
    "duration": 4,
    "start_time": "2021-12-29T07:48:44.901Z"
   },
   {
    "duration": 6,
    "start_time": "2021-12-29T07:48:45.205Z"
   },
   {
    "duration": 14,
    "start_time": "2021-12-29T07:49:02.198Z"
   },
   {
    "duration": 8,
    "start_time": "2021-12-29T07:49:29.382Z"
   },
   {
    "duration": 5,
    "start_time": "2021-12-29T07:49:33.653Z"
   },
   {
    "duration": 4,
    "start_time": "2021-12-29T07:49:42.038Z"
   },
   {
    "duration": 11,
    "start_time": "2021-12-29T07:49:56.615Z"
   },
   {
    "duration": 14,
    "start_time": "2021-12-29T07:50:01.270Z"
   },
   {
    "duration": 4,
    "start_time": "2021-12-29T07:50:26.454Z"
   },
   {
    "duration": 5,
    "start_time": "2021-12-29T07:50:26.949Z"
   },
   {
    "duration": 7,
    "start_time": "2021-12-29T07:50:42.886Z"
   },
   {
    "duration": 4,
    "start_time": "2021-12-29T07:50:48.871Z"
   },
   {
    "duration": 11,
    "start_time": "2021-12-29T07:50:55.990Z"
   },
   {
    "duration": 4,
    "start_time": "2021-12-29T07:51:06.903Z"
   },
   {
    "duration": 6,
    "start_time": "2021-12-29T07:53:34.599Z"
   },
   {
    "duration": 5,
    "start_time": "2021-12-29T07:53:46.231Z"
   },
   {
    "duration": 6,
    "start_time": "2021-12-29T07:53:56.360Z"
   },
   {
    "duration": 6,
    "start_time": "2021-12-29T07:54:06.120Z"
   },
   {
    "duration": 6628,
    "start_time": "2021-12-29T08:06:11.503Z"
   },
   {
    "duration": 203,
    "start_time": "2021-12-29T08:06:35.950Z"
   },
   {
    "duration": 6242,
    "start_time": "2021-12-29T08:06:44.431Z"
   },
   {
    "duration": 15,
    "start_time": "2021-12-29T08:06:55.599Z"
   },
   {
    "duration": 5,
    "start_time": "2021-12-29T08:07:01.792Z"
   },
   {
    "duration": 4768,
    "start_time": "2021-12-29T08:07:03.790Z"
   },
   {
    "duration": 11,
    "start_time": "2021-12-29T08:07:08.560Z"
   },
   {
    "duration": 18,
    "start_time": "2021-12-29T08:07:12.639Z"
   },
   {
    "duration": 268,
    "start_time": "2021-12-29T08:07:15.536Z"
   },
   {
    "duration": 347,
    "start_time": "2021-12-29T08:07:25.424Z"
   },
   {
    "duration": 511,
    "start_time": "2021-12-29T08:07:41.775Z"
   },
   {
    "duration": 63,
    "start_time": "2021-12-29T08:07:56.480Z"
   },
   {
    "duration": 336,
    "start_time": "2021-12-29T08:08:00.287Z"
   },
   {
    "duration": 321,
    "start_time": "2021-12-29T08:08:05.551Z"
   },
   {
    "duration": 347,
    "start_time": "2021-12-29T08:08:41.585Z"
   },
   {
    "duration": 361,
    "start_time": "2021-12-29T08:09:10.016Z"
   },
   {
    "duration": 14,
    "start_time": "2021-12-29T08:11:01.697Z"
   },
   {
    "duration": 16,
    "start_time": "2021-12-29T08:11:02.160Z"
   },
   {
    "duration": 8,
    "start_time": "2021-12-29T08:12:38.449Z"
   },
   {
    "duration": 17,
    "start_time": "2021-12-29T08:13:21.905Z"
   },
   {
    "duration": 8,
    "start_time": "2021-12-29T08:13:37.176Z"
   },
   {
    "duration": 4,
    "start_time": "2021-12-29T08:13:53.266Z"
   },
   {
    "duration": 5,
    "start_time": "2021-12-29T08:14:05.058Z"
   },
   {
    "duration": 4,
    "start_time": "2021-12-29T08:14:22.497Z"
   },
   {
    "duration": 4,
    "start_time": "2021-12-29T08:15:50.179Z"
   },
   {
    "duration": 4,
    "start_time": "2021-12-29T08:15:54.625Z"
   },
   {
    "duration": 96,
    "start_time": "2021-12-29T08:16:28.099Z"
   },
   {
    "duration": 25,
    "start_time": "2021-12-29T08:16:30.147Z"
   },
   {
    "duration": 7,
    "start_time": "2021-12-29T08:16:41.882Z"
   },
   {
    "duration": 7,
    "start_time": "2021-12-29T08:17:01.795Z"
   },
   {
    "duration": 11,
    "start_time": "2021-12-29T08:17:26.051Z"
   },
   {
    "duration": 160,
    "start_time": "2021-12-29T08:17:42.819Z"
   },
   {
    "duration": 155,
    "start_time": "2021-12-29T08:17:58.995Z"
   },
   {
    "duration": 212,
    "start_time": "2021-12-29T08:18:09.107Z"
   },
   {
    "duration": 188,
    "start_time": "2021-12-29T08:18:15.203Z"
   },
   {
    "duration": 7,
    "start_time": "2021-12-29T08:19:38.036Z"
   },
   {
    "duration": 7,
    "start_time": "2021-12-29T08:19:42.324Z"
   },
   {
    "duration": 9,
    "start_time": "2021-12-29T08:20:05.572Z"
   },
   {
    "duration": 153,
    "start_time": "2021-12-29T08:20:26.085Z"
   },
   {
    "duration": 199,
    "start_time": "2021-12-29T08:20:32.117Z"
   },
   {
    "duration": 366,
    "start_time": "2021-12-29T08:20:34.980Z"
   },
   {
    "duration": 10,
    "start_time": "2021-12-29T08:21:00.580Z"
   },
   {
    "duration": 10,
    "start_time": "2021-12-29T08:21:33.222Z"
   },
   {
    "duration": 5,
    "start_time": "2021-12-29T08:22:36.277Z"
   },
   {
    "duration": 97,
    "start_time": "2021-12-29T08:24:15.125Z"
   },
   {
    "duration": 5,
    "start_time": "2021-12-29T08:24:32.918Z"
   },
   {
    "duration": 91,
    "start_time": "2021-12-29T08:25:59.126Z"
   },
   {
    "duration": 82,
    "start_time": "2021-12-29T08:26:10.102Z"
   },
   {
    "duration": 4,
    "start_time": "2021-12-29T08:26:13.911Z"
   },
   {
    "duration": 5,
    "start_time": "2021-12-29T08:26:18.951Z"
   },
   {
    "duration": 101,
    "start_time": "2021-12-29T08:26:56.440Z"
   },
   {
    "duration": 4,
    "start_time": "2021-12-29T08:27:03.399Z"
   },
   {
    "duration": 16,
    "start_time": "2021-12-29T08:32:03.735Z"
   },
   {
    "duration": 10,
    "start_time": "2021-12-29T08:32:13.991Z"
   },
   {
    "duration": 13,
    "start_time": "2021-12-29T08:32:24.856Z"
   },
   {
    "duration": 13,
    "start_time": "2021-12-29T08:33:00.456Z"
   },
   {
    "duration": 9,
    "start_time": "2021-12-29T08:33:17.448Z"
   },
   {
    "duration": 10,
    "start_time": "2021-12-29T08:33:22.512Z"
   },
   {
    "duration": 4,
    "start_time": "2021-12-29T08:57:07.088Z"
   },
   {
    "duration": 525,
    "start_time": "2021-12-29T09:04:16.738Z"
   },
   {
    "duration": 736,
    "start_time": "2021-12-29T09:04:37.603Z"
   },
   {
    "duration": 82,
    "start_time": "2021-12-29T09:05:41.828Z"
   },
   {
    "duration": 862,
    "start_time": "2021-12-29T09:05:44.915Z"
   },
   {
    "duration": 572,
    "start_time": "2021-12-29T09:05:55.843Z"
   },
   {
    "duration": 70,
    "start_time": "2021-12-29T09:06:08.003Z"
   },
   {
    "duration": 542,
    "start_time": "2021-12-29T09:06:11.954Z"
   },
   {
    "duration": 67,
    "start_time": "2021-12-29T09:06:55.204Z"
   },
   {
    "duration": 614,
    "start_time": "2021-12-29T09:06:57.636Z"
   },
   {
    "duration": 616,
    "start_time": "2021-12-29T09:07:02.819Z"
   },
   {
    "duration": 608,
    "start_time": "2021-12-29T09:07:30.260Z"
   },
   {
    "duration": 80,
    "start_time": "2021-12-29T09:07:36.405Z"
   },
   {
    "duration": 727,
    "start_time": "2021-12-29T09:07:39.540Z"
   },
   {
    "duration": 1056,
    "start_time": "2021-12-29T09:07:46.996Z"
   },
   {
    "duration": 887,
    "start_time": "2021-12-29T09:07:52.004Z"
   },
   {
    "duration": 3,
    "start_time": "2021-12-29T09:08:14.932Z"
   },
   {
    "duration": 1166,
    "start_time": "2021-12-29T09:09:07.125Z"
   },
   {
    "duration": 973,
    "start_time": "2021-12-29T09:10:39.205Z"
   },
   {
    "duration": 844,
    "start_time": "2021-12-29T09:11:42.070Z"
   },
   {
    "duration": 846,
    "start_time": "2021-12-29T09:11:55.925Z"
   },
   {
    "duration": 906,
    "start_time": "2021-12-29T09:12:20.262Z"
   },
   {
    "duration": 1328,
    "start_time": "2021-12-29T09:12:45.894Z"
   },
   {
    "duration": 927,
    "start_time": "2021-12-29T09:12:55.750Z"
   },
   {
    "duration": 857,
    "start_time": "2021-12-29T09:13:03.638Z"
   },
   {
    "duration": 814,
    "start_time": "2021-12-29T09:13:08.518Z"
   },
   {
    "duration": 880,
    "start_time": "2021-12-29T09:13:12.567Z"
   },
   {
    "duration": 863,
    "start_time": "2021-12-29T09:13:17.142Z"
   },
   {
    "duration": 914,
    "start_time": "2021-12-29T09:13:20.838Z"
   },
   {
    "duration": 1222,
    "start_time": "2021-12-29T09:13:29.974Z"
   },
   {
    "duration": 877,
    "start_time": "2021-12-29T09:13:35.078Z"
   },
   {
    "duration": 77,
    "start_time": "2021-12-29T09:14:26.087Z"
   },
   {
    "duration": 894,
    "start_time": "2021-12-29T09:14:28.854Z"
   },
   {
    "duration": 788,
    "start_time": "2021-12-29T09:14:42.616Z"
   },
   {
    "duration": 1188,
    "start_time": "2021-12-29T09:14:47.463Z"
   },
   {
    "duration": 937,
    "start_time": "2021-12-29T09:14:58.407Z"
   },
   {
    "duration": 926,
    "start_time": "2021-12-29T09:15:18.870Z"
   },
   {
    "duration": 1328,
    "start_time": "2021-12-29T09:15:24.023Z"
   },
   {
    "duration": 940,
    "start_time": "2021-12-29T09:15:37.767Z"
   },
   {
    "duration": 1030,
    "start_time": "2021-12-29T09:15:43.694Z"
   },
   {
    "duration": 1021,
    "start_time": "2021-12-29T09:15:50.630Z"
   },
   {
    "duration": 109,
    "start_time": "2021-12-29T09:16:23.031Z"
   },
   {
    "duration": 1025,
    "start_time": "2021-12-29T09:16:25.383Z"
   },
   {
    "duration": 835,
    "start_time": "2021-12-29T09:16:33.864Z"
   },
   {
    "duration": 1043,
    "start_time": "2021-12-29T09:16:42.007Z"
   },
   {
    "duration": 836,
    "start_time": "2021-12-29T09:17:27.416Z"
   },
   {
    "duration": 996,
    "start_time": "2021-12-29T09:17:55.077Z"
   },
   {
    "duration": 1252,
    "start_time": "2021-12-29T09:18:47.240Z"
   },
   {
    "duration": 1207,
    "start_time": "2021-12-29T09:19:03.048Z"
   },
   {
    "duration": 1594,
    "start_time": "2021-12-29T09:19:43.320Z"
   },
   {
    "duration": 1834,
    "start_time": "2021-12-29T09:19:55.882Z"
   },
   {
    "duration": 1068,
    "start_time": "2021-12-29T10:34:25.052Z"
   },
   {
    "duration": 984,
    "start_time": "2021-12-29T10:34:52.899Z"
   },
   {
    "duration": 1063,
    "start_time": "2021-12-29T10:35:13.123Z"
   },
   {
    "duration": 1502,
    "start_time": "2021-12-29T10:35:21.747Z"
   },
   {
    "duration": 959,
    "start_time": "2021-12-29T10:35:36.708Z"
   },
   {
    "duration": 1144,
    "start_time": "2021-12-29T10:35:53.075Z"
   },
   {
    "duration": 1268,
    "start_time": "2021-12-29T10:36:14.276Z"
   },
   {
    "duration": 1674,
    "start_time": "2021-12-29T10:36:32.276Z"
   },
   {
    "duration": 1278,
    "start_time": "2021-12-29T10:37:16.405Z"
   },
   {
    "duration": 1268,
    "start_time": "2021-12-29T10:37:37.397Z"
   },
   {
    "duration": 1826,
    "start_time": "2021-12-29T10:37:58.692Z"
   },
   {
    "duration": 1428,
    "start_time": "2021-12-29T10:38:12.021Z"
   },
   {
    "duration": 1555,
    "start_time": "2021-12-29T10:38:30.133Z"
   },
   {
    "duration": 1875,
    "start_time": "2021-12-29T10:40:18.501Z"
   },
   {
    "duration": 1542,
    "start_time": "2021-12-29T10:40:29.910Z"
   },
   {
    "duration": 1520,
    "start_time": "2021-12-29T10:40:39.926Z"
   },
   {
    "duration": 1540,
    "start_time": "2021-12-29T10:40:57.494Z"
   },
   {
    "duration": 2128,
    "start_time": "2021-12-29T10:41:10.918Z"
   },
   {
    "duration": 1575,
    "start_time": "2021-12-29T10:41:20.214Z"
   },
   {
    "duration": 1591,
    "start_time": "2021-12-29T10:41:31.926Z"
   },
   {
    "duration": 1836,
    "start_time": "2021-12-29T10:41:37.606Z"
   },
   {
    "duration": 1447,
    "start_time": "2021-12-29T10:42:28.551Z"
   },
   {
    "duration": 1515,
    "start_time": "2021-12-29T10:42:37.174Z"
   },
   {
    "duration": 699,
    "start_time": "2021-12-29T10:44:28.391Z"
   },
   {
    "duration": 748,
    "start_time": "2021-12-29T10:44:40.248Z"
   },
   {
    "duration": 949,
    "start_time": "2021-12-29T10:44:50.215Z"
   },
   {
    "duration": 439,
    "start_time": "2021-12-29T10:44:55.095Z"
   },
   {
    "duration": 475,
    "start_time": "2021-12-29T10:45:00.295Z"
   },
   {
    "duration": 463,
    "start_time": "2021-12-29T10:45:06.023Z"
   },
   {
    "duration": 471,
    "start_time": "2021-12-29T10:45:11.271Z"
   },
   {
    "duration": 539,
    "start_time": "2021-12-29T10:45:34.983Z"
   },
   {
    "duration": 493,
    "start_time": "2021-12-29T10:46:04.823Z"
   },
   {
    "duration": 447,
    "start_time": "2021-12-29T10:46:21.559Z"
   },
   {
    "duration": 460,
    "start_time": "2021-12-29T10:46:29.640Z"
   },
   {
    "duration": 1239,
    "start_time": "2021-12-29T10:46:58.024Z"
   },
   {
    "duration": 217,
    "start_time": "2021-12-29T10:47:17.527Z"
   },
   {
    "duration": 1506,
    "start_time": "2021-12-29T10:48:13.928Z"
   },
   {
    "duration": 764,
    "start_time": "2021-12-29T10:48:20.890Z"
   },
   {
    "duration": 511,
    "start_time": "2021-12-29T10:48:33.624Z"
   },
   {
    "duration": 496,
    "start_time": "2021-12-29T10:48:45.160Z"
   },
   {
    "duration": 494,
    "start_time": "2021-12-29T10:48:55.208Z"
   },
   {
    "duration": 537,
    "start_time": "2021-12-29T10:49:00.841Z"
   },
   {
    "duration": 486,
    "start_time": "2021-12-29T10:49:52.793Z"
   },
   {
    "duration": 1245,
    "start_time": "2021-12-29T10:50:19.178Z"
   },
   {
    "duration": 781,
    "start_time": "2021-12-29T10:50:26.841Z"
   },
   {
    "duration": 520,
    "start_time": "2021-12-29T10:50:33.289Z"
   },
   {
    "duration": 508,
    "start_time": "2021-12-29T10:51:03.162Z"
   },
   {
    "duration": 590,
    "start_time": "2021-12-29T10:51:41.962Z"
   },
   {
    "duration": 499,
    "start_time": "2021-12-29T10:51:46.762Z"
   },
   {
    "duration": 501,
    "start_time": "2021-12-29T10:51:54.893Z"
   },
   {
    "duration": 511,
    "start_time": "2021-12-29T10:52:13.898Z"
   },
   {
    "duration": 468,
    "start_time": "2021-12-29T10:52:58.522Z"
   },
   {
    "duration": 1042,
    "start_time": "2021-12-29T10:53:16.826Z"
   },
   {
    "duration": 538,
    "start_time": "2021-12-29T10:53:23.546Z"
   },
   {
    "duration": 680,
    "start_time": "2021-12-29T10:54:29.723Z"
   },
   {
    "duration": 456,
    "start_time": "2021-12-29T10:54:52.044Z"
   },
   {
    "duration": 459,
    "start_time": "2021-12-29T10:54:59.835Z"
   },
   {
    "duration": 437,
    "start_time": "2021-12-29T10:55:20.732Z"
   },
   {
    "duration": 468,
    "start_time": "2021-12-29T10:55:24.924Z"
   },
   {
    "duration": 480,
    "start_time": "2021-12-29T10:55:35.436Z"
   },
   {
    "duration": 442,
    "start_time": "2021-12-29T10:55:52.795Z"
   },
   {
    "duration": 653,
    "start_time": "2021-12-29T10:55:57.612Z"
   },
   {
    "duration": 438,
    "start_time": "2021-12-29T10:56:10.812Z"
   },
   {
    "duration": 987,
    "start_time": "2021-12-29T10:56:20.156Z"
   },
   {
    "duration": 443,
    "start_time": "2021-12-29T10:56:31.020Z"
   },
   {
    "duration": 498,
    "start_time": "2021-12-29T10:58:24.221Z"
   },
   {
    "duration": 502,
    "start_time": "2021-12-29T10:58:43.549Z"
   },
   {
    "duration": 655,
    "start_time": "2021-12-29T11:00:12.830Z"
   },
   {
    "duration": 498,
    "start_time": "2021-12-29T11:00:41.647Z"
   },
   {
    "duration": 514,
    "start_time": "2021-12-29T11:01:02.510Z"
   },
   {
    "duration": 481,
    "start_time": "2021-12-29T11:01:34.879Z"
   },
   {
    "duration": 470,
    "start_time": "2021-12-29T11:01:42.046Z"
   },
   {
    "duration": 934,
    "start_time": "2021-12-29T11:02:16.574Z"
   },
   {
    "duration": 490,
    "start_time": "2021-12-29T11:02:17.510Z"
   },
   {
    "duration": 488,
    "start_time": "2021-12-29T11:02:18.002Z"
   },
   {
    "duration": 197,
    "start_time": "2021-12-29T11:04:05.615Z"
   },
   {
    "duration": 8,
    "start_time": "2021-12-29T11:04:07.390Z"
   },
   {
    "duration": 71,
    "start_time": "2021-12-29T11:19:32.376Z"
   },
   {
    "duration": 189,
    "start_time": "2021-12-29T11:19:40.568Z"
   },
   {
    "duration": 168,
    "start_time": "2021-12-29T11:19:46.840Z"
   },
   {
    "duration": 10,
    "start_time": "2021-12-29T11:20:14.985Z"
   },
   {
    "duration": 10,
    "start_time": "2021-12-29T11:20:23.961Z"
   },
   {
    "duration": 11,
    "start_time": "2021-12-29T11:20:45.337Z"
   },
   {
    "duration": 217,
    "start_time": "2021-12-29T11:20:55.177Z"
   },
   {
    "duration": 12,
    "start_time": "2021-12-29T11:21:12.570Z"
   },
   {
    "duration": 10,
    "start_time": "2021-12-29T11:21:24.297Z"
   },
   {
    "duration": 10,
    "start_time": "2021-12-29T11:21:35.369Z"
   },
   {
    "duration": 6,
    "start_time": "2021-12-29T11:23:50.938Z"
   },
   {
    "duration": 7,
    "start_time": "2021-12-29T11:24:26.666Z"
   },
   {
    "duration": 10,
    "start_time": "2021-12-29T11:24:31.290Z"
   },
   {
    "duration": 15,
    "start_time": "2021-12-29T11:24:33.153Z"
   },
   {
    "duration": 40,
    "start_time": "2021-12-29T11:25:20.187Z"
   },
   {
    "duration": 15,
    "start_time": "2021-12-29T11:25:47.323Z"
   },
   {
    "duration": 201,
    "start_time": "2021-12-29T11:25:57.035Z"
   },
   {
    "duration": 250,
    "start_time": "2021-12-29T11:26:03.051Z"
   },
   {
    "duration": 534,
    "start_time": "2021-12-29T11:26:58.635Z"
   },
   {
    "duration": 415,
    "start_time": "2021-12-29T11:27:43.085Z"
   },
   {
    "duration": 406,
    "start_time": "2021-12-29T11:27:56.028Z"
   },
   {
    "duration": 17,
    "start_time": "2021-12-29T11:29:53.308Z"
   },
   {
    "duration": 6,
    "start_time": "2021-12-29T11:30:41.981Z"
   },
   {
    "duration": 6,
    "start_time": "2021-12-29T11:30:50.684Z"
   },
   {
    "duration": 7,
    "start_time": "2021-12-29T11:31:13.260Z"
   },
   {
    "duration": 7,
    "start_time": "2021-12-29T11:31:20.493Z"
   },
   {
    "duration": 8,
    "start_time": "2021-12-29T11:31:26.237Z"
   },
   {
    "duration": 10,
    "start_time": "2021-12-29T11:31:42.461Z"
   },
   {
    "duration": 8,
    "start_time": "2021-12-29T11:32:03.837Z"
   },
   {
    "duration": 8,
    "start_time": "2021-12-29T11:32:42.622Z"
   },
   {
    "duration": 8,
    "start_time": "2021-12-29T11:33:12.366Z"
   },
   {
    "duration": 203,
    "start_time": "2021-12-29T11:33:14.563Z"
   },
   {
    "duration": 4,
    "start_time": "2021-12-29T11:33:17.455Z"
   },
   {
    "duration": 8,
    "start_time": "2021-12-29T11:34:04.670Z"
   },
   {
    "duration": 5,
    "start_time": "2021-12-29T11:34:05.984Z"
   },
   {
    "duration": 9,
    "start_time": "2021-12-29T11:34:10.654Z"
   },
   {
    "duration": 14,
    "start_time": "2021-12-29T11:35:48.495Z"
   },
   {
    "duration": 15,
    "start_time": "2021-12-29T11:38:50.518Z"
   },
   {
    "duration": 17,
    "start_time": "2021-12-29T11:39:24.832Z"
   },
   {
    "duration": 3,
    "start_time": "2021-12-29T11:49:48.131Z"
   },
   {
    "duration": 7,
    "start_time": "2021-12-29T11:49:53.939Z"
   },
   {
    "duration": 4,
    "start_time": "2021-12-29T11:50:00.771Z"
   },
   {
    "duration": 3,
    "start_time": "2021-12-29T11:50:09.956Z"
   },
   {
    "duration": 19,
    "start_time": "2021-12-29T11:50:15.187Z"
   },
   {
    "duration": 4,
    "start_time": "2021-12-29T11:50:18.659Z"
   },
   {
    "duration": 3,
    "start_time": "2021-12-29T11:50:35.252Z"
   },
   {
    "duration": 2,
    "start_time": "2021-12-29T11:50:57.540Z"
   },
   {
    "duration": 5,
    "start_time": "2021-12-29T11:50:59.283Z"
   },
   {
    "duration": 3,
    "start_time": "2021-12-29T11:51:31.254Z"
   },
   {
    "duration": 4,
    "start_time": "2021-12-29T11:51:37.620Z"
   },
   {
    "duration": 66,
    "start_time": "2021-12-29T11:52:13.365Z"
   },
   {
    "duration": 27,
    "start_time": "2021-12-29T11:52:21.572Z"
   },
   {
    "duration": 69,
    "start_time": "2021-12-29T11:52:41.419Z"
   },
   {
    "duration": 21,
    "start_time": "2021-12-29T11:52:45.940Z"
   },
   {
    "duration": 21,
    "start_time": "2021-12-29T11:52:49.428Z"
   },
   {
    "duration": 57,
    "start_time": "2021-12-29T11:53:47.797Z"
   },
   {
    "duration": 5,
    "start_time": "2021-12-29T11:53:51.332Z"
   },
   {
    "duration": 4,
    "start_time": "2021-12-29T11:54:59.718Z"
   },
   {
    "duration": 5,
    "start_time": "2021-12-29T11:55:10.037Z"
   },
   {
    "duration": 5,
    "start_time": "2021-12-29T11:55:22.517Z"
   },
   {
    "duration": 3,
    "start_time": "2021-12-29T11:55:34.870Z"
   },
   {
    "duration": 4,
    "start_time": "2021-12-29T11:55:49.637Z"
   },
   {
    "duration": 4,
    "start_time": "2021-12-29T11:56:02.454Z"
   },
   {
    "duration": 5,
    "start_time": "2021-12-29T12:06:22.169Z"
   },
   {
    "duration": 14,
    "start_time": "2021-12-29T12:09:49.626Z"
   },
   {
    "duration": 5,
    "start_time": "2021-12-29T12:09:58.513Z"
   },
   {
    "duration": 7,
    "start_time": "2021-12-29T12:10:06.442Z"
   },
   {
    "duration": 7,
    "start_time": "2021-12-29T12:10:29.435Z"
   },
   {
    "duration": 5,
    "start_time": "2021-12-29T12:10:39.899Z"
   },
   {
    "duration": 3,
    "start_time": "2021-12-29T12:10:41.916Z"
   },
   {
    "duration": 4,
    "start_time": "2021-12-29T12:10:59.162Z"
   },
   {
    "duration": 4,
    "start_time": "2021-12-29T12:11:15.979Z"
   },
   {
    "duration": 4,
    "start_time": "2021-12-29T12:11:17.899Z"
   },
   {
    "duration": 5,
    "start_time": "2021-12-29T12:11:49.835Z"
   },
   {
    "duration": 4,
    "start_time": "2021-12-29T12:11:52.171Z"
   },
   {
    "duration": 1042,
    "start_time": "2021-12-29T12:15:11.382Z"
   },
   {
    "duration": 408,
    "start_time": "2021-12-29T12:15:12.426Z"
   },
   {
    "duration": 43,
    "start_time": "2021-12-29T12:15:12.836Z"
   },
   {
    "duration": 60,
    "start_time": "2021-12-29T12:15:12.881Z"
   },
   {
    "duration": 19,
    "start_time": "2021-12-29T12:15:12.943Z"
   },
   {
    "duration": 12,
    "start_time": "2021-12-29T12:15:12.964Z"
   },
   {
    "duration": 6,
    "start_time": "2021-12-29T12:15:12.978Z"
   },
   {
    "duration": 6,
    "start_time": "2021-12-29T12:15:12.987Z"
   },
   {
    "duration": 102,
    "start_time": "2021-12-29T12:15:12.995Z"
   },
   {
    "duration": 57,
    "start_time": "2021-12-29T12:15:13.098Z"
   },
   {
    "duration": 68,
    "start_time": "2021-12-29T12:15:13.157Z"
   },
   {
    "duration": 64,
    "start_time": "2021-12-29T12:15:13.226Z"
   },
   {
    "duration": 9,
    "start_time": "2021-12-29T12:15:13.291Z"
   },
   {
    "duration": 53,
    "start_time": "2021-12-29T12:15:13.301Z"
   },
   {
    "duration": 9,
    "start_time": "2021-12-29T12:15:13.356Z"
   },
   {
    "duration": 26,
    "start_time": "2021-12-29T12:15:13.366Z"
   },
   {
    "duration": 7,
    "start_time": "2021-12-29T12:15:13.394Z"
   },
   {
    "duration": 51,
    "start_time": "2021-12-29T12:15:13.402Z"
   },
   {
    "duration": 2,
    "start_time": "2021-12-29T12:15:13.455Z"
   },
   {
    "duration": 19,
    "start_time": "2021-12-29T12:15:13.458Z"
   },
   {
    "duration": 11,
    "start_time": "2021-12-29T12:15:13.479Z"
   },
   {
    "duration": 20,
    "start_time": "2021-12-29T12:15:13.491Z"
   },
   {
    "duration": 13,
    "start_time": "2021-12-29T12:15:13.515Z"
   },
   {
    "duration": 16,
    "start_time": "2021-12-29T12:15:13.530Z"
   },
   {
    "duration": 23,
    "start_time": "2021-12-29T12:15:13.548Z"
   },
   {
    "duration": 11,
    "start_time": "2021-12-29T12:15:13.573Z"
   },
   {
    "duration": 10,
    "start_time": "2021-12-29T12:15:13.586Z"
   },
   {
    "duration": 10,
    "start_time": "2021-12-29T12:15:13.597Z"
   },
   {
    "duration": 4841,
    "start_time": "2021-12-29T12:15:13.608Z"
   },
   {
    "duration": 12,
    "start_time": "2021-12-29T12:15:18.451Z"
   },
   {
    "duration": 25,
    "start_time": "2021-12-29T12:15:18.464Z"
   },
   {
    "duration": 387,
    "start_time": "2021-12-29T12:15:18.491Z"
   },
   {
    "duration": 8,
    "start_time": "2021-12-29T12:15:18.879Z"
   },
   {
    "duration": 17,
    "start_time": "2021-12-29T12:15:18.889Z"
   },
   {
    "duration": 38,
    "start_time": "2021-12-29T12:15:18.908Z"
   },
   {
    "duration": 9,
    "start_time": "2021-12-29T12:15:18.948Z"
   },
   {
    "duration": 7,
    "start_time": "2021-12-29T12:15:18.959Z"
   },
   {
    "duration": 12,
    "start_time": "2021-12-29T12:15:18.967Z"
   },
   {
    "duration": 8,
    "start_time": "2021-12-29T12:15:18.981Z"
   },
   {
    "duration": 74,
    "start_time": "2021-12-29T12:15:18.991Z"
   },
   {
    "duration": 14,
    "start_time": "2021-12-29T12:15:19.067Z"
   },
   {
    "duration": 15,
    "start_time": "2021-12-29T12:15:19.083Z"
   },
   {
    "duration": 17,
    "start_time": "2021-12-29T12:15:19.100Z"
   },
   {
    "duration": 36,
    "start_time": "2021-12-29T12:15:19.119Z"
   },
   {
    "duration": 489,
    "start_time": "2021-12-29T12:15:19.157Z"
   },
   {
    "duration": 606,
    "start_time": "2021-12-29T12:15:19.648Z"
   },
   {
    "duration": 727,
    "start_time": "2021-12-29T12:15:20.262Z"
   },
   {
    "duration": 3,
    "start_time": "2021-12-29T12:15:20.991Z"
   },
   {
    "duration": 27,
    "start_time": "2021-12-29T12:15:20.996Z"
   },
   {
    "duration": 12,
    "start_time": "2021-12-29T12:15:21.026Z"
   },
   {
    "duration": 22,
    "start_time": "2021-12-29T12:15:21.040Z"
   },
   {
    "duration": 22,
    "start_time": "2021-12-29T12:15:21.064Z"
   },
   {
    "duration": 16,
    "start_time": "2021-12-29T12:15:21.088Z"
   },
   {
    "duration": 87,
    "start_time": "2021-12-29T12:15:21.106Z"
   },
   {
    "duration": 26165,
    "start_time": "2021-12-29T12:14:55.030Z"
   },
   {
    "duration": 26163,
    "start_time": "2021-12-29T12:14:55.033Z"
   },
   {
    "duration": 26154,
    "start_time": "2021-12-29T12:14:55.043Z"
   },
   {
    "duration": 26151,
    "start_time": "2021-12-29T12:14:55.047Z"
   },
   {
    "duration": 54,
    "start_time": "2021-12-29T12:15:39.288Z"
   },
   {
    "duration": 5,
    "start_time": "2021-12-29T12:15:44.025Z"
   },
   {
    "duration": 5,
    "start_time": "2021-12-29T12:15:44.599Z"
   },
   {
    "duration": 1031,
    "start_time": "2021-12-29T12:15:52.096Z"
   },
   {
    "duration": 402,
    "start_time": "2021-12-29T12:15:53.129Z"
   },
   {
    "duration": 45,
    "start_time": "2021-12-29T12:15:53.533Z"
   },
   {
    "duration": 75,
    "start_time": "2021-12-29T12:15:53.581Z"
   },
   {
    "duration": 20,
    "start_time": "2021-12-29T12:15:53.658Z"
   },
   {
    "duration": 15,
    "start_time": "2021-12-29T12:15:53.680Z"
   },
   {
    "duration": 9,
    "start_time": "2021-12-29T12:15:53.697Z"
   },
   {
    "duration": 33,
    "start_time": "2021-12-29T12:15:53.708Z"
   },
   {
    "duration": 78,
    "start_time": "2021-12-29T12:15:53.743Z"
   },
   {
    "duration": 64,
    "start_time": "2021-12-29T12:15:53.822Z"
   },
   {
    "duration": 98,
    "start_time": "2021-12-29T12:15:53.887Z"
   },
   {
    "duration": 79,
    "start_time": "2021-12-29T12:15:53.987Z"
   },
   {
    "duration": 9,
    "start_time": "2021-12-29T12:15:54.067Z"
   },
   {
    "duration": 43,
    "start_time": "2021-12-29T12:15:54.078Z"
   },
   {
    "duration": 9,
    "start_time": "2021-12-29T12:15:54.123Z"
   },
   {
    "duration": 32,
    "start_time": "2021-12-29T12:15:54.133Z"
   },
   {
    "duration": 6,
    "start_time": "2021-12-29T12:15:54.167Z"
   },
   {
    "duration": 33,
    "start_time": "2021-12-29T12:15:54.175Z"
   },
   {
    "duration": 2,
    "start_time": "2021-12-29T12:15:54.210Z"
   },
   {
    "duration": 8,
    "start_time": "2021-12-29T12:15:54.214Z"
   },
   {
    "duration": 9,
    "start_time": "2021-12-29T12:15:54.224Z"
   },
   {
    "duration": 24,
    "start_time": "2021-12-29T12:15:54.235Z"
   },
   {
    "duration": 18,
    "start_time": "2021-12-29T12:15:54.264Z"
   },
   {
    "duration": 23,
    "start_time": "2021-12-29T12:15:54.285Z"
   },
   {
    "duration": 38,
    "start_time": "2021-12-29T12:15:54.310Z"
   },
   {
    "duration": 18,
    "start_time": "2021-12-29T12:15:54.350Z"
   },
   {
    "duration": 23,
    "start_time": "2021-12-29T12:15:54.370Z"
   },
   {
    "duration": 20,
    "start_time": "2021-12-29T12:15:54.395Z"
   },
   {
    "duration": 5003,
    "start_time": "2021-12-29T12:15:54.417Z"
   },
   {
    "duration": 20,
    "start_time": "2021-12-29T12:15:59.422Z"
   },
   {
    "duration": 25,
    "start_time": "2021-12-29T12:15:59.444Z"
   },
   {
    "duration": 397,
    "start_time": "2021-12-29T12:15:59.471Z"
   },
   {
    "duration": 8,
    "start_time": "2021-12-29T12:15:59.869Z"
   },
   {
    "duration": 21,
    "start_time": "2021-12-29T12:15:59.879Z"
   },
   {
    "duration": 23,
    "start_time": "2021-12-29T12:15:59.902Z"
   },
   {
    "duration": 21,
    "start_time": "2021-12-29T12:15:59.927Z"
   },
   {
    "duration": 7,
    "start_time": "2021-12-29T12:15:59.950Z"
   },
   {
    "duration": 16,
    "start_time": "2021-12-29T12:15:59.958Z"
   },
   {
    "duration": 10,
    "start_time": "2021-12-29T12:15:59.975Z"
   },
   {
    "duration": 90,
    "start_time": "2021-12-29T12:15:59.986Z"
   },
   {
    "duration": 18,
    "start_time": "2021-12-29T12:16:00.079Z"
   },
   {
    "duration": 22,
    "start_time": "2021-12-29T12:16:00.099Z"
   },
   {
    "duration": 28,
    "start_time": "2021-12-29T12:16:00.123Z"
   },
   {
    "duration": 19,
    "start_time": "2021-12-29T12:16:00.153Z"
   },
   {
    "duration": 558,
    "start_time": "2021-12-29T12:16:00.174Z"
   },
   {
    "duration": 611,
    "start_time": "2021-12-29T12:16:00.734Z"
   },
   {
    "duration": 505,
    "start_time": "2021-12-29T12:16:01.347Z"
   },
   {
    "duration": 2,
    "start_time": "2021-12-29T12:16:01.854Z"
   },
   {
    "duration": 29,
    "start_time": "2021-12-29T12:16:01.858Z"
   },
   {
    "duration": 37,
    "start_time": "2021-12-29T12:16:01.888Z"
   },
   {
    "duration": 15,
    "start_time": "2021-12-29T12:16:01.927Z"
   },
   {
    "duration": 22,
    "start_time": "2021-12-29T12:16:01.944Z"
   },
   {
    "duration": 29,
    "start_time": "2021-12-29T12:16:01.967Z"
   },
   {
    "duration": 37,
    "start_time": "2021-12-29T12:16:01.998Z"
   },
   {
    "duration": 25,
    "start_time": "2021-12-29T12:16:02.037Z"
   },
   {
    "duration": 67,
    "start_time": "2021-12-29T12:16:02.063Z"
   },
   {
    "duration": 5,
    "start_time": "2021-12-29T12:16:02.131Z"
   },
   {
    "duration": 15,
    "start_time": "2021-12-29T12:16:02.138Z"
   },
   {
    "duration": 2,
    "start_time": "2021-12-29T13:28:20.195Z"
   },
   {
    "duration": 18,
    "start_time": "2021-12-29T13:58:54.825Z"
   },
   {
    "duration": 30,
    "start_time": "2021-12-29T13:59:30.069Z"
   },
   {
    "duration": 24,
    "start_time": "2021-12-29T13:59:34.668Z"
   },
   {
    "duration": 25,
    "start_time": "2021-12-29T14:00:15.198Z"
   },
   {
    "duration": 30,
    "start_time": "2021-12-29T14:01:09.432Z"
   },
   {
    "duration": 29,
    "start_time": "2021-12-29T14:01:24.802Z"
   },
   {
    "duration": 3,
    "start_time": "2021-12-29T14:01:35.060Z"
   },
   {
    "duration": 49,
    "start_time": "2021-12-29T14:04:20.602Z"
   },
   {
    "duration": 2,
    "start_time": "2021-12-29T14:04:27.794Z"
   },
   {
    "duration": 320,
    "start_time": "2021-12-29T14:18:48.127Z"
   },
   {
    "duration": 468,
    "start_time": "2021-12-29T14:18:57.501Z"
   },
   {
    "duration": 487,
    "start_time": "2021-12-29T14:19:03.422Z"
   },
   {
    "duration": 599,
    "start_time": "2021-12-29T14:19:12.382Z"
   },
   {
    "duration": 466,
    "start_time": "2021-12-29T14:19:16.562Z"
   },
   {
    "duration": 4,
    "start_time": "2021-12-29T14:25:06.958Z"
   },
   {
    "duration": 4,
    "start_time": "2021-12-29T14:25:10.298Z"
   },
   {
    "duration": 5,
    "start_time": "2021-12-29T14:25:18.856Z"
   },
   {
    "duration": 1035,
    "start_time": "2021-12-29T15:24:32.783Z"
   },
   {
    "duration": 1060,
    "start_time": "2021-12-29T15:24:33.820Z"
   },
   {
    "duration": 48,
    "start_time": "2021-12-29T15:24:34.882Z"
   },
   {
    "duration": 56,
    "start_time": "2021-12-29T15:24:34.933Z"
   },
   {
    "duration": 19,
    "start_time": "2021-12-29T15:24:34.991Z"
   },
   {
    "duration": 37,
    "start_time": "2021-12-29T15:24:35.012Z"
   },
   {
    "duration": 7,
    "start_time": "2021-12-29T15:24:35.051Z"
   },
   {
    "duration": 8,
    "start_time": "2021-12-29T15:24:35.060Z"
   },
   {
    "duration": 83,
    "start_time": "2021-12-29T15:24:35.070Z"
   },
   {
    "duration": 50,
    "start_time": "2021-12-29T15:24:35.155Z"
   },
   {
    "duration": 82,
    "start_time": "2021-12-29T15:24:35.207Z"
   },
   {
    "duration": 63,
    "start_time": "2021-12-29T15:24:35.291Z"
   },
   {
    "duration": 8,
    "start_time": "2021-12-29T15:24:35.356Z"
   },
   {
    "duration": 44,
    "start_time": "2021-12-29T15:24:35.366Z"
   },
   {
    "duration": 9,
    "start_time": "2021-12-29T15:24:35.412Z"
   },
   {
    "duration": 42,
    "start_time": "2021-12-29T15:24:35.423Z"
   },
   {
    "duration": 7,
    "start_time": "2021-12-29T15:24:35.467Z"
   },
   {
    "duration": 37,
    "start_time": "2021-12-29T15:24:35.476Z"
   },
   {
    "duration": 2,
    "start_time": "2021-12-29T15:24:35.515Z"
   },
   {
    "duration": 19,
    "start_time": "2021-12-29T15:24:35.519Z"
   },
   {
    "duration": 7,
    "start_time": "2021-12-29T15:24:35.540Z"
   },
   {
    "duration": 21,
    "start_time": "2021-12-29T15:24:35.549Z"
   },
   {
    "duration": 17,
    "start_time": "2021-12-29T15:24:35.572Z"
   },
   {
    "duration": 22,
    "start_time": "2021-12-29T15:24:35.590Z"
   },
   {
    "duration": 33,
    "start_time": "2021-12-29T15:24:35.613Z"
   },
   {
    "duration": 12,
    "start_time": "2021-12-29T15:24:35.647Z"
   },
   {
    "duration": 7,
    "start_time": "2021-12-29T15:24:35.664Z"
   },
   {
    "duration": 14,
    "start_time": "2021-12-29T15:24:35.673Z"
   },
   {
    "duration": 4980,
    "start_time": "2021-12-29T15:24:35.688Z"
   },
   {
    "duration": 12,
    "start_time": "2021-12-29T15:24:40.669Z"
   },
   {
    "duration": 19,
    "start_time": "2021-12-29T15:24:40.683Z"
   },
   {
    "duration": 425,
    "start_time": "2021-12-29T15:24:40.704Z"
   },
   {
    "duration": 15,
    "start_time": "2021-12-29T15:24:41.130Z"
   },
   {
    "duration": 20,
    "start_time": "2021-12-29T15:24:41.146Z"
   },
   {
    "duration": 14,
    "start_time": "2021-12-29T15:24:41.168Z"
   },
   {
    "duration": 8,
    "start_time": "2021-12-29T15:24:41.183Z"
   },
   {
    "duration": 7,
    "start_time": "2021-12-29T15:24:41.192Z"
   },
   {
    "duration": 14,
    "start_time": "2021-12-29T15:24:41.201Z"
   },
   {
    "duration": 9,
    "start_time": "2021-12-29T15:24:41.241Z"
   },
   {
    "duration": 47,
    "start_time": "2021-12-29T15:24:41.252Z"
   },
   {
    "duration": 12,
    "start_time": "2021-12-29T15:24:41.301Z"
   },
   {
    "duration": 14,
    "start_time": "2021-12-29T15:24:41.341Z"
   },
   {
    "duration": 14,
    "start_time": "2021-12-29T15:24:41.356Z"
   },
   {
    "duration": 12,
    "start_time": "2021-12-29T15:24:41.372Z"
   },
   {
    "duration": 463,
    "start_time": "2021-12-29T15:24:41.386Z"
   },
   {
    "duration": 620,
    "start_time": "2021-12-29T15:24:41.851Z"
   },
   {
    "duration": 577,
    "start_time": "2021-12-29T15:24:42.472Z"
   },
   {
    "duration": 2,
    "start_time": "2021-12-29T15:24:43.051Z"
   },
   {
    "duration": 5,
    "start_time": "2021-12-29T15:24:43.055Z"
   },
   {
    "duration": 9,
    "start_time": "2021-12-29T15:24:43.062Z"
   },
   {
    "duration": 8,
    "start_time": "2021-12-29T15:24:43.073Z"
   },
   {
    "duration": 8,
    "start_time": "2021-12-29T15:24:43.083Z"
   },
   {
    "duration": 7,
    "start_time": "2021-12-29T15:24:43.093Z"
   },
   {
    "duration": 12,
    "start_time": "2021-12-29T15:24:43.102Z"
   },
   {
    "duration": 16,
    "start_time": "2021-12-29T15:24:43.116Z"
   },
   {
    "duration": 2,
    "start_time": "2021-12-29T15:24:43.142Z"
   },
   {
    "duration": 11,
    "start_time": "2021-12-29T15:24:43.145Z"
   },
   {
    "duration": 61,
    "start_time": "2021-12-29T15:24:43.157Z"
   },
   {
    "duration": 5,
    "start_time": "2021-12-29T15:24:43.220Z"
   },
   {
    "duration": 16,
    "start_time": "2021-12-29T15:24:43.227Z"
   },
   {
    "duration": 4,
    "start_time": "2021-12-29T15:30:27.690Z"
   },
   {
    "duration": 5,
    "start_time": "2021-12-29T15:32:01.246Z"
   },
   {
    "duration": 6,
    "start_time": "2021-12-29T15:32:14.274Z"
   },
   {
    "duration": 5,
    "start_time": "2021-12-29T15:32:28.055Z"
   },
   {
    "duration": 4,
    "start_time": "2021-12-29T15:32:40.254Z"
   },
   {
    "duration": 4,
    "start_time": "2021-12-29T15:33:06.483Z"
   },
   {
    "duration": 5,
    "start_time": "2021-12-29T15:34:26.265Z"
   },
   {
    "duration": 281,
    "start_time": "2021-12-29T15:35:09.840Z"
   },
   {
    "duration": 5,
    "start_time": "2021-12-29T15:35:42.022Z"
   },
   {
    "duration": 4,
    "start_time": "2021-12-29T15:35:57.764Z"
   },
   {
    "duration": 4,
    "start_time": "2021-12-29T15:36:51.910Z"
   },
   {
    "duration": 5,
    "start_time": "2021-12-29T15:37:03.525Z"
   },
   {
    "duration": 1145,
    "start_time": "2021-12-29T15:43:42.879Z"
   },
   {
    "duration": 391,
    "start_time": "2021-12-29T15:43:44.026Z"
   },
   {
    "duration": 42,
    "start_time": "2021-12-29T15:43:44.419Z"
   },
   {
    "duration": 51,
    "start_time": "2021-12-29T15:43:44.463Z"
   },
   {
    "duration": 35,
    "start_time": "2021-12-29T15:43:44.516Z"
   },
   {
    "duration": 14,
    "start_time": "2021-12-29T15:43:44.553Z"
   },
   {
    "duration": 8,
    "start_time": "2021-12-29T15:43:44.569Z"
   },
   {
    "duration": 10,
    "start_time": "2021-12-29T15:43:44.579Z"
   },
   {
    "duration": 93,
    "start_time": "2021-12-29T15:43:44.592Z"
   },
   {
    "duration": 58,
    "start_time": "2021-12-29T15:43:44.687Z"
   },
   {
    "duration": 66,
    "start_time": "2021-12-29T15:43:44.746Z"
   },
   {
    "duration": 63,
    "start_time": "2021-12-29T15:43:44.813Z"
   },
   {
    "duration": 7,
    "start_time": "2021-12-29T15:43:44.878Z"
   },
   {
    "duration": 54,
    "start_time": "2021-12-29T15:43:44.887Z"
   },
   {
    "duration": 8,
    "start_time": "2021-12-29T15:43:44.943Z"
   },
   {
    "duration": 32,
    "start_time": "2021-12-29T15:43:44.953Z"
   },
   {
    "duration": 6,
    "start_time": "2021-12-29T15:43:44.987Z"
   },
   {
    "duration": 36,
    "start_time": "2021-12-29T15:43:44.995Z"
   },
   {
    "duration": 2,
    "start_time": "2021-12-29T15:43:45.041Z"
   },
   {
    "duration": 17,
    "start_time": "2021-12-29T15:43:45.045Z"
   },
   {
    "duration": 17,
    "start_time": "2021-12-29T15:43:45.064Z"
   },
   {
    "duration": 27,
    "start_time": "2021-12-29T15:43:45.082Z"
   },
   {
    "duration": 16,
    "start_time": "2021-12-29T15:43:45.111Z"
   },
   {
    "duration": 15,
    "start_time": "2021-12-29T15:43:45.128Z"
   },
   {
    "duration": 16,
    "start_time": "2021-12-29T15:43:45.145Z"
   },
   {
    "duration": 7070,
    "start_time": "2021-12-29T15:43:45.163Z"
   },
   {
    "duration": 16,
    "start_time": "2021-12-29T15:43:52.242Z"
   },
   {
    "duration": 25,
    "start_time": "2021-12-29T15:43:52.261Z"
   },
   {
    "duration": 581,
    "start_time": "2021-12-29T15:43:52.289Z"
   },
   {
    "duration": 9,
    "start_time": "2021-12-29T15:43:52.873Z"
   },
   {
    "duration": 16,
    "start_time": "2021-12-29T15:43:52.883Z"
   },
   {
    "duration": 17,
    "start_time": "2021-12-29T15:43:52.900Z"
   },
   {
    "duration": 29,
    "start_time": "2021-12-29T15:43:52.918Z"
   },
   {
    "duration": 4,
    "start_time": "2021-12-29T15:43:52.949Z"
   },
   {
    "duration": 10,
    "start_time": "2021-12-29T15:43:52.955Z"
   },
   {
    "duration": 7,
    "start_time": "2021-12-29T15:43:52.966Z"
   },
   {
    "duration": 71,
    "start_time": "2021-12-29T15:43:52.974Z"
   },
   {
    "duration": 12,
    "start_time": "2021-12-29T15:43:53.047Z"
   },
   {
    "duration": 15,
    "start_time": "2021-12-29T15:43:53.060Z"
   },
   {
    "duration": 15,
    "start_time": "2021-12-29T15:43:53.076Z"
   },
   {
    "duration": 13,
    "start_time": "2021-12-29T15:43:53.093Z"
   },
   {
    "duration": 462,
    "start_time": "2021-12-29T15:43:53.107Z"
   },
   {
    "duration": 485,
    "start_time": "2021-12-29T15:43:53.571Z"
   },
   {
    "duration": 802,
    "start_time": "2021-12-29T15:43:54.058Z"
   },
   {
    "duration": 2,
    "start_time": "2021-12-29T15:43:54.862Z"
   },
   {
    "duration": 6,
    "start_time": "2021-12-29T15:43:54.866Z"
   },
   {
    "duration": 7,
    "start_time": "2021-12-29T15:43:54.873Z"
   },
   {
    "duration": 6,
    "start_time": "2021-12-29T15:43:54.881Z"
   },
   {
    "duration": 9,
    "start_time": "2021-12-29T15:43:54.888Z"
   },
   {
    "duration": 5,
    "start_time": "2021-12-29T15:43:54.899Z"
   },
   {
    "duration": 9,
    "start_time": "2021-12-29T15:43:54.905Z"
   },
   {
    "duration": 26,
    "start_time": "2021-12-29T15:43:54.916Z"
   },
   {
    "duration": 4,
    "start_time": "2021-12-29T15:43:54.944Z"
   },
   {
    "duration": 6,
    "start_time": "2021-12-29T15:43:54.950Z"
   },
   {
    "duration": 8,
    "start_time": "2021-12-29T15:43:54.957Z"
   },
   {
    "duration": 74,
    "start_time": "2021-12-29T15:43:54.967Z"
   },
   {
    "duration": 5,
    "start_time": "2021-12-29T15:43:55.043Z"
   },
   {
    "duration": 7,
    "start_time": "2021-12-29T15:43:55.050Z"
   },
   {
    "duration": 1064,
    "start_time": "2021-12-30T05:45:36.290Z"
   },
   {
    "duration": 383,
    "start_time": "2021-12-30T05:45:38.733Z"
   },
   {
    "duration": 44,
    "start_time": "2021-12-30T05:45:39.333Z"
   },
   {
    "duration": 53,
    "start_time": "2021-12-30T05:45:39.683Z"
   },
   {
    "duration": 20,
    "start_time": "2021-12-30T05:45:39.987Z"
   },
   {
    "duration": 14,
    "start_time": "2021-12-30T05:45:40.156Z"
   },
   {
    "duration": 8,
    "start_time": "2021-12-30T05:45:40.325Z"
   },
   {
    "duration": 5,
    "start_time": "2021-12-30T05:45:40.492Z"
   },
   {
    "duration": 67,
    "start_time": "2021-12-30T05:46:33.484Z"
   },
   {
    "duration": 51,
    "start_time": "2021-12-30T05:46:33.675Z"
   },
   {
    "duration": 73,
    "start_time": "2021-12-30T05:46:35.820Z"
   },
   {
    "duration": 59,
    "start_time": "2021-12-30T05:46:36.029Z"
   },
   {
    "duration": 10,
    "start_time": "2021-12-30T05:46:36.210Z"
   },
   {
    "duration": 42,
    "start_time": "2021-12-30T05:46:36.667Z"
   },
   {
    "duration": 9,
    "start_time": "2021-12-30T05:46:36.932Z"
   },
   {
    "duration": 25,
    "start_time": "2021-12-30T05:46:37.723Z"
   },
   {
    "duration": 7,
    "start_time": "2021-12-30T05:46:38.235Z"
   },
   {
    "duration": 25,
    "start_time": "2021-12-30T05:49:09.538Z"
   },
   {
    "duration": 3,
    "start_time": "2021-12-30T05:49:09.784Z"
   },
   {
    "duration": 3,
    "start_time": "2021-12-30T05:49:10.000Z"
   },
   {
    "duration": 3,
    "start_time": "2021-12-30T05:49:41.784Z"
   },
   {
    "duration": 22,
    "start_time": "2021-12-30T05:49:42.113Z"
   },
   {
    "duration": 12,
    "start_time": "2021-12-30T05:49:46.280Z"
   },
   {
    "duration": 8,
    "start_time": "2021-12-30T05:49:51.704Z"
   },
   {
    "duration": 5,
    "start_time": "2021-12-30T05:50:02.928Z"
   },
   {
    "duration": 4901,
    "start_time": "2021-12-30T05:50:03.296Z"
   },
   {
    "duration": 11,
    "start_time": "2021-12-30T05:50:08.199Z"
   },
   {
    "duration": 22,
    "start_time": "2021-12-30T05:50:08.212Z"
   },
   {
    "duration": 396,
    "start_time": "2021-12-30T05:50:09.440Z"
   },
   {
    "duration": 8,
    "start_time": "2021-12-30T05:50:09.838Z"
   },
   {
    "duration": 14,
    "start_time": "2021-12-30T05:50:32.055Z"
   },
   {
    "duration": 17,
    "start_time": "2021-12-30T05:50:32.575Z"
   },
   {
    "duration": 8,
    "start_time": "2021-12-30T05:51:26.406Z"
   },
   {
    "duration": 6,
    "start_time": "2021-12-30T05:51:26.790Z"
   },
   {
    "duration": 11,
    "start_time": "2021-12-30T05:51:30.327Z"
   },
   {
    "duration": 10,
    "start_time": "2021-12-30T05:52:38.229Z"
   },
   {
    "duration": 43,
    "start_time": "2021-12-30T05:52:38.406Z"
   },
   {
    "duration": 14,
    "start_time": "2021-12-30T05:52:38.541Z"
   },
   {
    "duration": 14,
    "start_time": "2021-12-30T05:52:38.710Z"
   },
   {
    "duration": 15,
    "start_time": "2021-12-30T05:52:38.981Z"
   },
   {
    "duration": 15,
    "start_time": "2021-12-30T05:52:39.133Z"
   },
   {
    "duration": 444,
    "start_time": "2021-12-30T05:52:39.485Z"
   },
   {
    "duration": 483,
    "start_time": "2021-12-30T05:52:39.932Z"
   },
   {
    "duration": 539,
    "start_time": "2021-12-30T05:52:40.417Z"
   },
   {
    "duration": 2,
    "start_time": "2021-12-30T05:53:31.885Z"
   },
   {
    "duration": 3,
    "start_time": "2021-12-30T05:53:32.141Z"
   },
   {
    "duration": 3,
    "start_time": "2021-12-30T05:53:32.324Z"
   },
   {
    "duration": 3,
    "start_time": "2021-12-30T05:53:33.308Z"
   },
   {
    "duration": 5,
    "start_time": "2021-12-30T05:54:09.813Z"
   },
   {
    "duration": 5,
    "start_time": "2021-12-30T05:54:10.044Z"
   },
   {
    "duration": 5,
    "start_time": "2021-12-30T05:54:10.382Z"
   },
   {
    "duration": 5,
    "start_time": "2021-12-30T05:54:10.620Z"
   },
   {
    "duration": 4,
    "start_time": "2021-12-30T05:54:11.028Z"
   },
   {
    "duration": 3,
    "start_time": "2021-12-30T05:54:50.555Z"
   },
   {
    "duration": 2,
    "start_time": "2021-12-30T05:54:50.723Z"
   },
   {
    "duration": 62,
    "start_time": "2021-12-30T05:54:50.876Z"
   },
   {
    "duration": 5,
    "start_time": "2021-12-30T05:54:51.195Z"
   },
   {
    "duration": 5,
    "start_time": "2021-12-30T05:54:51.363Z"
   },
   {
    "duration": 1150,
    "start_time": "2022-03-19T14:00:27.689Z"
   },
   {
    "duration": 425,
    "start_time": "2022-03-19T14:00:28.841Z"
   },
   {
    "duration": 49,
    "start_time": "2022-03-19T14:00:29.268Z"
   },
   {
    "duration": 85,
    "start_time": "2022-03-19T14:00:29.318Z"
   },
   {
    "duration": 18,
    "start_time": "2022-03-19T14:00:29.405Z"
   },
   {
    "duration": 12,
    "start_time": "2022-03-19T14:00:29.425Z"
   },
   {
    "duration": 30,
    "start_time": "2022-03-19T14:00:29.438Z"
   },
   {
    "duration": 7,
    "start_time": "2022-03-19T14:00:29.470Z"
   },
   {
    "duration": 89,
    "start_time": "2022-03-19T14:00:29.479Z"
   },
   {
    "duration": 49,
    "start_time": "2022-03-19T14:00:29.570Z"
   },
   {
    "duration": 5,
    "start_time": "2022-03-19T14:00:29.621Z"
   },
   {
    "duration": 65,
    "start_time": "2022-03-19T14:00:29.627Z"
   },
   {
    "duration": 9,
    "start_time": "2022-03-19T14:00:29.693Z"
   },
   {
    "duration": 38,
    "start_time": "2022-03-19T14:00:29.705Z"
   },
   {
    "duration": 24,
    "start_time": "2022-03-19T14:00:29.745Z"
   },
   {
    "duration": 29,
    "start_time": "2022-03-19T14:00:29.771Z"
   },
   {
    "duration": 7,
    "start_time": "2022-03-19T14:00:29.801Z"
   },
   {
    "duration": 26,
    "start_time": "2022-03-19T14:00:29.810Z"
   },
   {
    "duration": 3,
    "start_time": "2022-03-19T14:00:29.837Z"
   },
   {
    "duration": 40,
    "start_time": "2022-03-19T14:00:29.841Z"
   },
   {
    "duration": 12,
    "start_time": "2022-03-19T14:00:29.882Z"
   },
   {
    "duration": 9,
    "start_time": "2022-03-19T14:00:29.896Z"
   },
   {
    "duration": 6,
    "start_time": "2022-03-19T14:00:29.907Z"
   },
   {
    "duration": 148,
    "start_time": "2022-03-19T14:00:29.915Z"
   },
   {
    "duration": 0,
    "start_time": "2022-03-19T14:00:30.066Z"
   },
   {
    "duration": 0,
    "start_time": "2022-03-19T14:00:30.067Z"
   },
   {
    "duration": 0,
    "start_time": "2022-03-19T14:00:30.070Z"
   },
   {
    "duration": 0,
    "start_time": "2022-03-19T14:00:30.071Z"
   },
   {
    "duration": 0,
    "start_time": "2022-03-19T14:00:30.073Z"
   },
   {
    "duration": 0,
    "start_time": "2022-03-19T14:00:30.074Z"
   },
   {
    "duration": 0,
    "start_time": "2022-03-19T14:00:30.076Z"
   },
   {
    "duration": 0,
    "start_time": "2022-03-19T14:00:30.077Z"
   },
   {
    "duration": 0,
    "start_time": "2022-03-19T14:00:30.079Z"
   },
   {
    "duration": 0,
    "start_time": "2022-03-19T14:00:30.080Z"
   },
   {
    "duration": 0,
    "start_time": "2022-03-19T14:00:30.081Z"
   },
   {
    "duration": 0,
    "start_time": "2022-03-19T14:00:30.082Z"
   },
   {
    "duration": 0,
    "start_time": "2022-03-19T14:00:30.083Z"
   },
   {
    "duration": 0,
    "start_time": "2022-03-19T14:00:30.085Z"
   },
   {
    "duration": 0,
    "start_time": "2022-03-19T14:00:30.086Z"
   },
   {
    "duration": 0,
    "start_time": "2022-03-19T14:00:30.087Z"
   },
   {
    "duration": 0,
    "start_time": "2022-03-19T14:00:30.088Z"
   },
   {
    "duration": 0,
    "start_time": "2022-03-19T14:00:30.089Z"
   },
   {
    "duration": 0,
    "start_time": "2022-03-19T14:00:30.090Z"
   },
   {
    "duration": 0,
    "start_time": "2022-03-19T14:00:30.091Z"
   },
   {
    "duration": 0,
    "start_time": "2022-03-19T14:00:30.092Z"
   },
   {
    "duration": 0,
    "start_time": "2022-03-19T14:00:30.093Z"
   },
   {
    "duration": 0,
    "start_time": "2022-03-19T14:00:30.094Z"
   },
   {
    "duration": 0,
    "start_time": "2022-03-19T14:00:30.095Z"
   },
   {
    "duration": 0,
    "start_time": "2022-03-19T14:00:30.096Z"
   },
   {
    "duration": 5,
    "start_time": "2022-03-19T14:00:52.868Z"
   },
   {
    "duration": 4738,
    "start_time": "2022-03-19T14:00:54.228Z"
   },
   {
    "duration": 3,
    "start_time": "2022-03-19T14:01:03.779Z"
   },
   {
    "duration": 368,
    "start_time": "2022-03-19T14:01:03.784Z"
   },
   {
    "duration": 47,
    "start_time": "2022-03-19T14:01:04.154Z"
   },
   {
    "duration": 78,
    "start_time": "2022-03-19T14:01:04.202Z"
   },
   {
    "duration": 14,
    "start_time": "2022-03-19T14:01:04.282Z"
   },
   {
    "duration": 12,
    "start_time": "2022-03-19T14:01:04.297Z"
   },
   {
    "duration": 6,
    "start_time": "2022-03-19T14:01:04.311Z"
   },
   {
    "duration": 10,
    "start_time": "2022-03-19T14:01:04.318Z"
   },
   {
    "duration": 89,
    "start_time": "2022-03-19T14:01:04.330Z"
   },
   {
    "duration": 57,
    "start_time": "2022-03-19T14:01:04.421Z"
   },
   {
    "duration": 4,
    "start_time": "2022-03-19T14:01:04.480Z"
   },
   {
    "duration": 38,
    "start_time": "2022-03-19T14:01:04.486Z"
   },
   {
    "duration": 8,
    "start_time": "2022-03-19T14:01:04.526Z"
   },
   {
    "duration": 53,
    "start_time": "2022-03-19T14:01:04.537Z"
   },
   {
    "duration": 8,
    "start_time": "2022-03-19T14:01:04.592Z"
   },
   {
    "duration": 30,
    "start_time": "2022-03-19T14:01:04.602Z"
   },
   {
    "duration": 8,
    "start_time": "2022-03-19T14:01:04.634Z"
   },
   {
    "duration": 21,
    "start_time": "2022-03-19T14:01:04.663Z"
   },
   {
    "duration": 3,
    "start_time": "2022-03-19T14:01:04.686Z"
   },
   {
    "duration": 25,
    "start_time": "2022-03-19T14:01:04.691Z"
   },
   {
    "duration": 12,
    "start_time": "2022-03-19T14:01:04.718Z"
   },
   {
    "duration": 10,
    "start_time": "2022-03-19T14:01:04.731Z"
   },
   {
    "duration": 5,
    "start_time": "2022-03-19T14:01:04.763Z"
   },
   {
    "duration": 4479,
    "start_time": "2022-03-19T14:01:04.770Z"
   },
   {
    "duration": 3,
    "start_time": "2022-03-19T14:01:14.168Z"
   },
   {
    "duration": 367,
    "start_time": "2022-03-19T14:01:14.174Z"
   },
   {
    "duration": 48,
    "start_time": "2022-03-19T14:01:14.542Z"
   },
   {
    "duration": 73,
    "start_time": "2022-03-19T14:01:14.592Z"
   },
   {
    "duration": 13,
    "start_time": "2022-03-19T14:01:14.667Z"
   },
   {
    "duration": 12,
    "start_time": "2022-03-19T14:01:14.682Z"
   },
   {
    "duration": 8,
    "start_time": "2022-03-19T14:01:14.695Z"
   },
   {
    "duration": 8,
    "start_time": "2022-03-19T14:01:14.705Z"
   },
   {
    "duration": 102,
    "start_time": "2022-03-19T14:01:14.715Z"
   },
   {
    "duration": 59,
    "start_time": "2022-03-19T14:01:14.819Z"
   },
   {
    "duration": 5,
    "start_time": "2022-03-19T14:01:14.881Z"
   },
   {
    "duration": 56,
    "start_time": "2022-03-19T14:01:14.888Z"
   },
   {
    "duration": 18,
    "start_time": "2022-03-19T14:01:14.946Z"
   },
   {
    "duration": 49,
    "start_time": "2022-03-19T14:01:14.968Z"
   },
   {
    "duration": 13,
    "start_time": "2022-03-19T14:01:15.020Z"
   },
   {
    "duration": 49,
    "start_time": "2022-03-19T14:01:15.035Z"
   },
   {
    "duration": 7,
    "start_time": "2022-03-19T14:01:15.086Z"
   },
   {
    "duration": 24,
    "start_time": "2022-03-19T14:01:15.095Z"
   },
   {
    "duration": 4,
    "start_time": "2022-03-19T14:01:15.120Z"
   },
   {
    "duration": 39,
    "start_time": "2022-03-19T14:01:15.126Z"
   },
   {
    "duration": 12,
    "start_time": "2022-03-19T14:01:15.167Z"
   },
   {
    "duration": 9,
    "start_time": "2022-03-19T14:01:15.181Z"
   },
   {
    "duration": 7,
    "start_time": "2022-03-19T14:01:15.192Z"
   },
   {
    "duration": 4794,
    "start_time": "2022-03-19T14:01:15.201Z"
   },
   {
    "duration": 13,
    "start_time": "2022-03-19T14:01:19.996Z"
   },
   {
    "duration": 22,
    "start_time": "2022-03-19T14:01:20.011Z"
   },
   {
    "duration": 315,
    "start_time": "2022-03-19T14:01:20.034Z"
   },
   {
    "duration": 12,
    "start_time": "2022-03-19T14:01:20.351Z"
   },
   {
    "duration": 9,
    "start_time": "2022-03-19T14:01:20.364Z"
   },
   {
    "duration": 8,
    "start_time": "2022-03-19T14:01:20.375Z"
   },
   {
    "duration": 11,
    "start_time": "2022-03-19T14:01:20.384Z"
   },
   {
    "duration": 7,
    "start_time": "2022-03-19T14:01:20.396Z"
   },
   {
    "duration": 58,
    "start_time": "2022-03-19T14:01:20.405Z"
   },
   {
    "duration": 13,
    "start_time": "2022-03-19T14:01:20.465Z"
   },
   {
    "duration": 17,
    "start_time": "2022-03-19T14:01:20.479Z"
   },
   {
    "duration": 17,
    "start_time": "2022-03-19T14:01:20.497Z"
   },
   {
    "duration": 15,
    "start_time": "2022-03-19T14:01:20.515Z"
   },
   {
    "duration": 364,
    "start_time": "2022-03-19T14:01:20.531Z"
   },
   {
    "duration": 367,
    "start_time": "2022-03-19T14:01:20.896Z"
   },
   {
    "duration": 418,
    "start_time": "2022-03-19T14:01:21.265Z"
   },
   {
    "duration": 3,
    "start_time": "2022-03-19T14:01:21.687Z"
   },
   {
    "duration": 9,
    "start_time": "2022-03-19T14:01:21.692Z"
   },
   {
    "duration": 12,
    "start_time": "2022-03-19T14:01:21.703Z"
   },
   {
    "duration": 8,
    "start_time": "2022-03-19T14:01:21.716Z"
   },
   {
    "duration": 12,
    "start_time": "2022-03-19T14:01:21.725Z"
   },
   {
    "duration": 7,
    "start_time": "2022-03-19T14:01:21.738Z"
   },
   {
    "duration": 34,
    "start_time": "2022-03-19T14:01:21.746Z"
   },
   {
    "duration": 0,
    "start_time": "2022-03-19T14:01:21.782Z"
   },
   {
    "duration": 0,
    "start_time": "2022-03-19T14:01:21.783Z"
   },
   {
    "duration": 964,
    "start_time": "2022-03-19T14:01:41.676Z"
   },
   {
    "duration": 407,
    "start_time": "2022-03-19T14:01:42.642Z"
   },
   {
    "duration": 48,
    "start_time": "2022-03-19T14:01:43.050Z"
   },
   {
    "duration": 84,
    "start_time": "2022-03-19T14:01:43.100Z"
   },
   {
    "duration": 16,
    "start_time": "2022-03-19T14:01:43.186Z"
   },
   {
    "duration": 11,
    "start_time": "2022-03-19T14:01:43.204Z"
   },
   {
    "duration": 6,
    "start_time": "2022-03-19T14:01:43.217Z"
   },
   {
    "duration": 5,
    "start_time": "2022-03-19T14:01:43.224Z"
   },
   {
    "duration": 97,
    "start_time": "2022-03-19T14:01:43.230Z"
   },
   {
    "duration": 54,
    "start_time": "2022-03-19T14:01:43.329Z"
   },
   {
    "duration": 5,
    "start_time": "2022-03-19T14:01:43.384Z"
   },
   {
    "duration": 52,
    "start_time": "2022-03-19T14:01:43.391Z"
   },
   {
    "duration": 22,
    "start_time": "2022-03-19T14:01:43.445Z"
   },
   {
    "duration": 39,
    "start_time": "2022-03-19T14:01:43.470Z"
   },
   {
    "duration": 8,
    "start_time": "2022-03-19T14:01:43.511Z"
   },
   {
    "duration": 45,
    "start_time": "2022-03-19T14:01:43.520Z"
   },
   {
    "duration": 6,
    "start_time": "2022-03-19T14:01:43.566Z"
   },
   {
    "duration": 20,
    "start_time": "2022-03-19T14:01:43.574Z"
   },
   {
    "duration": 3,
    "start_time": "2022-03-19T14:01:43.596Z"
   },
   {
    "duration": 19,
    "start_time": "2022-03-19T14:01:43.600Z"
   },
   {
    "duration": 11,
    "start_time": "2022-03-19T14:01:43.621Z"
   },
   {
    "duration": 33,
    "start_time": "2022-03-19T14:01:43.634Z"
   },
   {
    "duration": 7,
    "start_time": "2022-03-19T14:01:43.669Z"
   },
   {
    "duration": 4457,
    "start_time": "2022-03-19T14:01:43.677Z"
   },
   {
    "duration": 13,
    "start_time": "2022-03-19T14:01:48.136Z"
   },
   {
    "duration": 18,
    "start_time": "2022-03-19T14:01:48.162Z"
   },
   {
    "duration": 312,
    "start_time": "2022-03-19T14:01:48.182Z"
   },
   {
    "duration": 8,
    "start_time": "2022-03-19T14:01:48.496Z"
   },
   {
    "duration": 11,
    "start_time": "2022-03-19T14:01:48.505Z"
   },
   {
    "duration": 8,
    "start_time": "2022-03-19T14:01:48.517Z"
   },
   {
    "duration": 10,
    "start_time": "2022-03-19T14:01:48.526Z"
   },
   {
    "duration": 26,
    "start_time": "2022-03-19T14:01:48.538Z"
   },
   {
    "duration": 39,
    "start_time": "2022-03-19T14:01:48.566Z"
   },
   {
    "duration": 13,
    "start_time": "2022-03-19T14:01:48.606Z"
   },
   {
    "duration": 13,
    "start_time": "2022-03-19T14:01:48.620Z"
   },
   {
    "duration": 31,
    "start_time": "2022-03-19T14:01:48.635Z"
   },
   {
    "duration": 15,
    "start_time": "2022-03-19T14:01:48.667Z"
   },
   {
    "duration": 323,
    "start_time": "2022-03-19T14:01:48.683Z"
   },
   {
    "duration": 360,
    "start_time": "2022-03-19T14:01:49.007Z"
   },
   {
    "duration": 321,
    "start_time": "2022-03-19T14:01:49.368Z"
   },
   {
    "duration": 3,
    "start_time": "2022-03-19T14:01:49.694Z"
   },
   {
    "duration": 7,
    "start_time": "2022-03-19T14:01:49.699Z"
   },
   {
    "duration": 8,
    "start_time": "2022-03-19T14:01:49.707Z"
   },
   {
    "duration": 6,
    "start_time": "2022-03-19T14:01:49.717Z"
   },
   {
    "duration": 6,
    "start_time": "2022-03-19T14:01:49.724Z"
   },
   {
    "duration": 5,
    "start_time": "2022-03-19T14:01:49.732Z"
   },
   {
    "duration": 109,
    "start_time": "2022-03-19T14:01:49.763Z"
   },
   {
    "duration": 0,
    "start_time": "2022-03-19T14:01:49.874Z"
   },
   {
    "duration": 0,
    "start_time": "2022-03-19T14:01:49.875Z"
   },
   {
    "duration": 7,
    "start_time": "2022-03-19T14:04:19.246Z"
   },
   {
    "duration": 7,
    "start_time": "2022-03-19T14:04:27.175Z"
   },
   {
    "duration": 1095,
    "start_time": "2022-03-19T14:06:46.143Z"
   },
   {
    "duration": 530,
    "start_time": "2022-03-19T14:06:47.240Z"
   },
   {
    "duration": 49,
    "start_time": "2022-03-19T14:06:47.772Z"
   },
   {
    "duration": 76,
    "start_time": "2022-03-19T14:06:47.822Z"
   },
   {
    "duration": 17,
    "start_time": "2022-03-19T14:06:47.900Z"
   },
   {
    "duration": 12,
    "start_time": "2022-03-19T14:06:47.919Z"
   },
   {
    "duration": 29,
    "start_time": "2022-03-19T14:06:47.933Z"
   },
   {
    "duration": 4,
    "start_time": "2022-03-19T14:06:47.965Z"
   },
   {
    "duration": 131,
    "start_time": "2022-03-19T14:06:47.972Z"
   },
   {
    "duration": 66,
    "start_time": "2022-03-19T14:06:48.105Z"
   },
   {
    "duration": 108,
    "start_time": "2022-03-19T14:06:48.173Z"
   },
   {
    "duration": 88,
    "start_time": "2022-03-19T14:06:48.283Z"
   },
   {
    "duration": 13,
    "start_time": "2022-03-19T14:06:48.373Z"
   },
   {
    "duration": 43,
    "start_time": "2022-03-19T14:06:48.390Z"
   },
   {
    "duration": 27,
    "start_time": "2022-03-19T14:06:48.435Z"
   },
   {
    "duration": 26,
    "start_time": "2022-03-19T14:06:48.464Z"
   },
   {
    "duration": 7,
    "start_time": "2022-03-19T14:06:48.491Z"
   },
   {
    "duration": 27,
    "start_time": "2022-03-19T14:06:48.500Z"
   },
   {
    "duration": 3,
    "start_time": "2022-03-19T14:06:48.529Z"
   },
   {
    "duration": 42,
    "start_time": "2022-03-19T14:06:48.534Z"
   },
   {
    "duration": 13,
    "start_time": "2022-03-19T14:06:48.578Z"
   },
   {
    "duration": 7,
    "start_time": "2022-03-19T14:06:48.592Z"
   },
   {
    "duration": 5,
    "start_time": "2022-03-19T14:06:48.601Z"
   },
   {
    "duration": 4444,
    "start_time": "2022-03-19T14:06:48.608Z"
   },
   {
    "duration": 18,
    "start_time": "2022-03-19T14:06:53.054Z"
   },
   {
    "duration": 18,
    "start_time": "2022-03-19T14:06:53.073Z"
   },
   {
    "duration": 301,
    "start_time": "2022-03-19T14:06:53.092Z"
   },
   {
    "duration": 7,
    "start_time": "2022-03-19T14:06:53.395Z"
   },
   {
    "duration": 17,
    "start_time": "2022-03-19T14:06:53.403Z"
   },
   {
    "duration": 11,
    "start_time": "2022-03-19T14:06:53.427Z"
   },
   {
    "duration": 23,
    "start_time": "2022-03-19T14:06:53.439Z"
   },
   {
    "duration": 7,
    "start_time": "2022-03-19T14:06:53.464Z"
   },
   {
    "duration": 39,
    "start_time": "2022-03-19T14:06:53.472Z"
   },
   {
    "duration": 12,
    "start_time": "2022-03-19T14:06:53.513Z"
   },
   {
    "duration": 16,
    "start_time": "2022-03-19T14:06:53.527Z"
   },
   {
    "duration": 30,
    "start_time": "2022-03-19T14:06:53.545Z"
   },
   {
    "duration": 17,
    "start_time": "2022-03-19T14:06:53.577Z"
   },
   {
    "duration": 345,
    "start_time": "2022-03-19T14:06:53.595Z"
   },
   {
    "duration": 366,
    "start_time": "2022-03-19T14:06:53.941Z"
   },
   {
    "duration": 335,
    "start_time": "2022-03-19T14:06:54.309Z"
   },
   {
    "duration": 3,
    "start_time": "2022-03-19T14:06:54.648Z"
   },
   {
    "duration": 5,
    "start_time": "2022-03-19T14:06:54.662Z"
   },
   {
    "duration": 6,
    "start_time": "2022-03-19T14:06:54.669Z"
   },
   {
    "duration": 8,
    "start_time": "2022-03-19T14:06:54.677Z"
   },
   {
    "duration": 8,
    "start_time": "2022-03-19T14:06:54.687Z"
   },
   {
    "duration": 6,
    "start_time": "2022-03-19T14:06:54.697Z"
   },
   {
    "duration": 10,
    "start_time": "2022-03-19T14:06:54.705Z"
   },
   {
    "duration": 115,
    "start_time": "2022-03-19T14:06:54.716Z"
   },
   {
    "duration": 0,
    "start_time": "2022-03-19T14:06:54.833Z"
   },
   {
    "duration": 0,
    "start_time": "2022-03-19T14:06:54.834Z"
   },
   {
    "duration": 8,
    "start_time": "2022-03-19T14:09:37.604Z"
   },
   {
    "duration": 4,
    "start_time": "2022-03-19T14:09:40.801Z"
   },
   {
    "duration": 9,
    "start_time": "2022-03-19T14:15:47.945Z"
   },
   {
    "duration": 42,
    "start_time": "2022-03-19T14:16:15.434Z"
   },
   {
    "duration": 1060,
    "start_time": "2022-03-19T14:16:33.626Z"
   },
   {
    "duration": 483,
    "start_time": "2022-03-19T14:16:34.688Z"
   },
   {
    "duration": 90,
    "start_time": "2022-03-19T14:16:35.173Z"
   },
   {
    "duration": 74,
    "start_time": "2022-03-19T14:16:35.266Z"
   },
   {
    "duration": 32,
    "start_time": "2022-03-19T14:16:35.342Z"
   },
   {
    "duration": 14,
    "start_time": "2022-03-19T14:16:35.376Z"
   },
   {
    "duration": 8,
    "start_time": "2022-03-19T14:16:35.392Z"
   },
   {
    "duration": 6,
    "start_time": "2022-03-19T14:16:35.402Z"
   },
   {
    "duration": 153,
    "start_time": "2022-03-19T14:16:35.410Z"
   },
   {
    "duration": 64,
    "start_time": "2022-03-19T14:16:35.565Z"
   },
   {
    "duration": 7,
    "start_time": "2022-03-19T14:16:35.631Z"
   },
   {
    "duration": 92,
    "start_time": "2022-03-19T14:16:35.640Z"
   },
   {
    "duration": 12,
    "start_time": "2022-03-19T14:16:35.734Z"
   },
   {
    "duration": 57,
    "start_time": "2022-03-19T14:16:35.751Z"
   },
   {
    "duration": 8,
    "start_time": "2022-03-19T14:16:35.810Z"
   },
   {
    "duration": 28,
    "start_time": "2022-03-19T14:16:35.819Z"
   },
   {
    "duration": 7,
    "start_time": "2022-03-19T14:16:35.862Z"
   },
   {
    "duration": 24,
    "start_time": "2022-03-19T14:16:35.871Z"
   },
   {
    "duration": 2,
    "start_time": "2022-03-19T14:16:35.897Z"
   },
   {
    "duration": 19,
    "start_time": "2022-03-19T14:16:35.901Z"
   },
   {
    "duration": 12,
    "start_time": "2022-03-19T14:16:35.922Z"
   },
   {
    "duration": 7,
    "start_time": "2022-03-19T14:16:35.963Z"
   },
   {
    "duration": 10,
    "start_time": "2022-03-19T14:16:35.971Z"
   },
   {
    "duration": 4602,
    "start_time": "2022-03-19T14:16:35.982Z"
   },
   {
    "duration": 13,
    "start_time": "2022-03-19T14:16:40.585Z"
   },
   {
    "duration": 22,
    "start_time": "2022-03-19T14:16:40.599Z"
   },
   {
    "duration": 317,
    "start_time": "2022-03-19T14:16:40.623Z"
   },
   {
    "duration": 8,
    "start_time": "2022-03-19T14:16:40.941Z"
   },
   {
    "duration": 14,
    "start_time": "2022-03-19T14:16:40.951Z"
   },
   {
    "duration": 4,
    "start_time": "2022-03-19T14:16:40.967Z"
   },
   {
    "duration": 9,
    "start_time": "2022-03-19T14:16:40.973Z"
   },
   {
    "duration": 7,
    "start_time": "2022-03-19T14:16:40.983Z"
   },
   {
    "duration": 40,
    "start_time": "2022-03-19T14:16:40.991Z"
   },
   {
    "duration": 33,
    "start_time": "2022-03-19T14:16:41.033Z"
   },
   {
    "duration": 14,
    "start_time": "2022-03-19T14:16:41.068Z"
   },
   {
    "duration": 20,
    "start_time": "2022-03-19T14:16:41.084Z"
   },
   {
    "duration": 14,
    "start_time": "2022-03-19T14:16:41.105Z"
   },
   {
    "duration": 345,
    "start_time": "2022-03-19T14:16:41.121Z"
   },
   {
    "duration": 357,
    "start_time": "2022-03-19T14:16:41.468Z"
   },
   {
    "duration": 339,
    "start_time": "2022-03-19T14:16:41.826Z"
   },
   {
    "duration": 3,
    "start_time": "2022-03-19T14:16:42.169Z"
   },
   {
    "duration": 9,
    "start_time": "2022-03-19T14:16:42.174Z"
   },
   {
    "duration": 6,
    "start_time": "2022-03-19T14:16:42.185Z"
   },
   {
    "duration": 6,
    "start_time": "2022-03-19T14:16:42.193Z"
   },
   {
    "duration": 10,
    "start_time": "2022-03-19T14:16:42.201Z"
   },
   {
    "duration": 8,
    "start_time": "2022-03-19T14:16:42.213Z"
   },
   {
    "duration": 11,
    "start_time": "2022-03-19T14:16:42.223Z"
   },
   {
    "duration": 32,
    "start_time": "2022-03-19T14:16:42.236Z"
   },
   {
    "duration": 6,
    "start_time": "2022-03-19T14:16:42.270Z"
   },
   {
    "duration": 1494,
    "start_time": "2022-03-19T17:39:59.645Z"
   },
   {
    "duration": 722,
    "start_time": "2022-03-19T17:40:01.142Z"
   },
   {
    "duration": 89,
    "start_time": "2022-03-19T17:40:01.867Z"
   },
   {
    "duration": 138,
    "start_time": "2022-03-19T17:40:01.958Z"
   },
   {
    "duration": 24,
    "start_time": "2022-03-19T17:40:02.099Z"
   },
   {
    "duration": 16,
    "start_time": "2022-03-19T17:40:02.125Z"
   },
   {
    "duration": 14,
    "start_time": "2022-03-19T17:40:02.143Z"
   },
   {
    "duration": 42,
    "start_time": "2022-03-19T17:40:02.159Z"
   },
   {
    "duration": 111,
    "start_time": "2022-03-19T17:40:02.204Z"
   },
   {
    "duration": 57,
    "start_time": "2022-03-19T17:40:02.318Z"
   },
   {
    "duration": 24,
    "start_time": "2022-03-19T17:40:02.377Z"
   },
   {
    "duration": 65,
    "start_time": "2022-03-19T17:40:02.403Z"
   },
   {
    "duration": 10,
    "start_time": "2022-03-19T17:40:02.470Z"
   },
   {
    "duration": 75,
    "start_time": "2022-03-19T17:40:02.500Z"
   },
   {
    "duration": 11,
    "start_time": "2022-03-19T17:40:02.578Z"
   },
   {
    "duration": 63,
    "start_time": "2022-03-19T17:40:02.591Z"
   },
   {
    "duration": 11,
    "start_time": "2022-03-19T17:40:02.656Z"
   },
   {
    "duration": 31,
    "start_time": "2022-03-19T17:40:02.669Z"
   },
   {
    "duration": 8,
    "start_time": "2022-03-19T17:40:02.702Z"
   },
   {
    "duration": 31,
    "start_time": "2022-03-19T17:40:02.712Z"
   },
   {
    "duration": 17,
    "start_time": "2022-03-19T17:40:02.746Z"
   },
   {
    "duration": 15,
    "start_time": "2022-03-19T17:40:02.766Z"
   },
   {
    "duration": 19,
    "start_time": "2022-03-19T17:40:02.784Z"
   },
   {
    "duration": 5195,
    "start_time": "2022-03-19T17:40:02.806Z"
   },
   {
    "duration": 17,
    "start_time": "2022-03-19T17:40:08.003Z"
   },
   {
    "duration": 23,
    "start_time": "2022-03-19T17:40:08.022Z"
   },
   {
    "duration": 374,
    "start_time": "2022-03-19T17:40:08.047Z"
   },
   {
    "duration": 9,
    "start_time": "2022-03-19T17:40:08.423Z"
   },
   {
    "duration": 10,
    "start_time": "2022-03-19T17:40:08.435Z"
   },
   {
    "duration": 12,
    "start_time": "2022-03-19T17:40:08.447Z"
   },
   {
    "duration": 16,
    "start_time": "2022-03-19T17:40:08.461Z"
   },
   {
    "duration": 9,
    "start_time": "2022-03-19T17:40:08.501Z"
   },
   {
    "duration": 55,
    "start_time": "2022-03-19T17:40:08.512Z"
   },
   {
    "duration": 15,
    "start_time": "2022-03-19T17:40:08.569Z"
   },
   {
    "duration": 32,
    "start_time": "2022-03-19T17:40:08.586Z"
   },
   {
    "duration": 18,
    "start_time": "2022-03-19T17:40:08.620Z"
   },
   {
    "duration": 19,
    "start_time": "2022-03-19T17:40:08.639Z"
   },
   {
    "duration": 397,
    "start_time": "2022-03-19T17:40:08.660Z"
   },
   {
    "duration": 400,
    "start_time": "2022-03-19T17:40:09.059Z"
   },
   {
    "duration": 385,
    "start_time": "2022-03-19T17:40:09.462Z"
   },
   {
    "duration": 3,
    "start_time": "2022-03-19T17:40:09.853Z"
   },
   {
    "duration": 8,
    "start_time": "2022-03-19T17:40:09.858Z"
   },
   {
    "duration": 20,
    "start_time": "2022-03-19T17:40:09.868Z"
   },
   {
    "duration": 6,
    "start_time": "2022-03-19T17:40:09.901Z"
   },
   {
    "duration": 7,
    "start_time": "2022-03-19T17:40:09.909Z"
   },
   {
    "duration": 7,
    "start_time": "2022-03-19T17:40:09.919Z"
   },
   {
    "duration": 12,
    "start_time": "2022-03-19T17:40:09.928Z"
   },
   {
    "duration": 6,
    "start_time": "2022-03-19T17:40:09.942Z"
   },
   {
    "duration": 13,
    "start_time": "2022-03-19T17:40:09.950Z"
   }
  ],
  "kernelspec": {
   "display_name": "Python 3 (ipykernel)",
   "language": "python",
   "name": "python3"
  },
  "language_info": {
   "codemirror_mode": {
    "name": "ipython",
    "version": 3
   },
   "file_extension": ".py",
   "mimetype": "text/x-python",
   "name": "python",
   "nbconvert_exporter": "python",
   "pygments_lexer": "ipython3",
   "version": "3.9.5"
  },
  "toc": {
   "base_numbering": 1,
   "nav_menu": {
    "height": "336px",
    "width": "368px"
   },
   "number_sections": false,
   "sideBar": true,
   "skip_h1_title": true,
   "title_cell": "Table of Contents",
   "title_sidebar": "Contents",
   "toc_cell": false,
   "toc_position": {
    "height": "calc(100% - 180px)",
    "left": "10px",
    "top": "150px",
    "width": "347.375px"
   },
   "toc_section_display": true,
   "toc_window_display": true
  }
 },
 "nbformat": 4,
 "nbformat_minor": 2
}
