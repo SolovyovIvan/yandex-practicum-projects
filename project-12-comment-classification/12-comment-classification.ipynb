{
 "cells": [
  {
   "cell_type": "markdown",
   "metadata": {},
   "source": [
    "# Классификация комментариев\n",
    "**Описание проекта:** пользователи интернет-магазина могут редактировать и дополнять описания товаров, как в вики-сообществах, и комментировать правки других клиентов. Магазин хочет получить инструмент, который будет выявлять \"токсичные\" правки и комментарии и отправлять их на модерацию.\n",
    "\n",
    "**Цель проекта:** построить модель классификации комментариев пользователей. Значение метрики качества *F1 (f1-мера)* на тестовой выборке должно быть не меньше 0.75. \n",
    "\n",
    "**Используемые данные:** набор комментариев пользователей:\n",
    "* признак `text` содержит текст комментария\n",
    "* целевой признак — `toxic`, где `1` — комментарий **\"токсичный\"**, а `0` — **\"нетоксичный\"**.\n",
    "\n",
    "## Оглавление\n",
    "1. [Подготовка данных](#1)\n",
    "2. [Обучение и проверка моделей](#2)\n",
    "3. [Выводы](#3)\n",
    "\n",
    "<a id=\"1\"></a>\n",
    "## 1. Подготовка данных\n",
    "Импортируем необходимые библиотеки и загружаем стоп-слова."
   ]
  },
  {
   "cell_type": "code",
   "execution_count": 1,
   "metadata": {},
   "outputs": [],
   "source": [
    "from nltk.corpus import stopwords \n",
    "from nltk.stem import WordNetLemmatizer\n",
    "from sklearn.feature_extraction.text import TfidfVectorizer \n",
    "from sklearn.linear_model import LogisticRegression\n",
    "from sklearn.metrics import f1_score\n",
    "from sklearn.model_selection import GridSearchCV\n",
    "from sklearn.model_selection import train_test_split\n",
    "from sklearn.pipeline import Pipeline\n",
    "from sklearn.svm import LinearSVC\n",
    "import pandas as pd\n",
    "import re\n",
    "\n",
    "\n",
    "stop_words = set(stopwords.words(\"english\"))"
   ]
  },
  {
   "cell_type": "markdown",
   "metadata": {},
   "source": [
    "Считаем файл с данными и убедимся, что проблем нет."
   ]
  },
  {
   "cell_type": "code",
   "execution_count": 2,
   "metadata": {},
   "outputs": [
    {
     "data": {
      "text/html": [
       "<div>\n",
       "<style scoped>\n",
       "    .dataframe tbody tr th:only-of-type {\n",
       "        vertical-align: middle;\n",
       "    }\n",
       "\n",
       "    .dataframe tbody tr th {\n",
       "        vertical-align: top;\n",
       "    }\n",
       "\n",
       "    .dataframe thead th {\n",
       "        text-align: right;\n",
       "    }\n",
       "</style>\n",
       "<table border=\"1\" class=\"dataframe\">\n",
       "  <thead>\n",
       "    <tr style=\"text-align: right;\">\n",
       "      <th></th>\n",
       "      <th>text</th>\n",
       "      <th>toxic</th>\n",
       "    </tr>\n",
       "  </thead>\n",
       "  <tbody>\n",
       "    <tr>\n",
       "      <th>147518</th>\n",
       "      <td>Image size \\n\\nKindly go to Nathan Altman, Mar...</td>\n",
       "      <td>0</td>\n",
       "    </tr>\n",
       "    <tr>\n",
       "      <th>157854</th>\n",
       "      <td>\"\\n\\n You might be interested in this Locked A...</td>\n",
       "      <td>0</td>\n",
       "    </tr>\n",
       "    <tr>\n",
       "      <th>1482</th>\n",
       "      <td>Yes, you are certainly predisposed to support ...</td>\n",
       "      <td>0</td>\n",
       "    </tr>\n",
       "    <tr>\n",
       "      <th>131342</th>\n",
       "      <td>Talk:FETCH! with Ruff Ruffman  \\n\\nPremiere of...</td>\n",
       "      <td>0</td>\n",
       "    </tr>\n",
       "    <tr>\n",
       "      <th>74124</th>\n",
       "      <td>Yeah...unfortunately, I'm too lazy to make mys...</td>\n",
       "      <td>0</td>\n",
       "    </tr>\n",
       "    <tr>\n",
       "      <th>145040</th>\n",
       "      <td>\" 2014 (UTC)\\nSo you like to review articles f...</td>\n",
       "      <td>0</td>\n",
       "    </tr>\n",
       "    <tr>\n",
       "      <th>114185</th>\n",
       "      <td>\"\\nOf those listed above, I'm only not comfort...</td>\n",
       "      <td>0</td>\n",
       "    </tr>\n",
       "    <tr>\n",
       "      <th>7842</th>\n",
       "      <td>This subpage was created during my Training Wo...</td>\n",
       "      <td>0</td>\n",
       "    </tr>\n",
       "    <tr>\n",
       "      <th>23472</th>\n",
       "      <td>\"\\n\\nActually, Wikipedia:Removing warnings was...</td>\n",
       "      <td>0</td>\n",
       "    </tr>\n",
       "    <tr>\n",
       "      <th>126628</th>\n",
       "      <td>Eupator is right; the article is leading towar...</td>\n",
       "      <td>0</td>\n",
       "    </tr>\n",
       "  </tbody>\n",
       "</table>\n",
       "</div>"
      ],
      "text/plain": [
       "                                                     text  toxic\n",
       "147518  Image size \\n\\nKindly go to Nathan Altman, Mar...      0\n",
       "157854  \"\\n\\n You might be interested in this Locked A...      0\n",
       "1482    Yes, you are certainly predisposed to support ...      0\n",
       "131342  Talk:FETCH! with Ruff Ruffman  \\n\\nPremiere of...      0\n",
       "74124   Yeah...unfortunately, I'm too lazy to make mys...      0\n",
       "145040  \" 2014 (UTC)\\nSo you like to review articles f...      0\n",
       "114185  \"\\nOf those listed above, I'm only not comfort...      0\n",
       "7842    This subpage was created during my Training Wo...      0\n",
       "23472   \"\\n\\nActually, Wikipedia:Removing warnings was...      0\n",
       "126628  Eupator is right; the article is leading towar...      0"
      ]
     },
     "execution_count": 2,
     "metadata": {},
     "output_type": "execute_result"
    }
   ],
   "source": [
    "data = pd.read_csv(\"/datasets/toxic_comments.csv\")\n",
    "data.sample(10)"
   ]
  },
  {
   "cell_type": "markdown",
   "metadata": {},
   "source": [
    "Напишем функцию `get_lemmas` для получения лемм, применим её к столбцу `text`, а затем выделим целевой признак. "
   ]
  },
  {
   "cell_type": "code",
   "execution_count": 3,
   "metadata": {},
   "outputs": [],
   "source": [
    "def get_lemmas(text):\n",
    "    lemmitizer = WordNetLemmatizer()\n",
    "    text_lower = [re.sub(r\"[^a-z']\", \"\", word.lower()) for word in text.split()]\n",
    "    text_lower = [word for word in text_lower]\n",
    "    lemm_text = [lemmitizer.lemmatize(word) for word in text_lower]\n",
    "    return \" \".join(lemm_text)"
   ]
  },
  {
   "cell_type": "code",
   "execution_count": 4,
   "metadata": {},
   "outputs": [],
   "source": [
    "data[\"lemm_text\"] = data[\"text\"].apply(get_lemmas)"
   ]
  },
  {
   "cell_type": "code",
   "execution_count": 5,
   "metadata": {},
   "outputs": [],
   "source": [
    "X = data[\"lemm_text\"]\n",
    "y = data[\"toxic\"]"
   ]
  },
  {
   "cell_type": "markdown",
   "metadata": {},
   "source": [
    "Разделим данные на обучающую и тестовую выборки."
   ]
  },
  {
   "cell_type": "code",
   "execution_count": 6,
   "metadata": {},
   "outputs": [],
   "source": [
    "X_train, X_test, y_train, y_test = train_test_split(X, y, random_state=42, test_size=0.25)"
   ]
  },
  {
   "cell_type": "markdown",
   "metadata": {},
   "source": [
    "Создадим объект класса `TfidfVectorizer` для подсчёта TF-IDF в дальнейшем. "
   ]
  },
  {
   "cell_type": "code",
   "execution_count": 7,
   "metadata": {},
   "outputs": [],
   "source": [
    "tfidf = TfidfVectorizer(stop_words=stop_words)"
   ]
  },
  {
   "cell_type": "markdown",
   "metadata": {},
   "source": [
    "Можно переходить к обучению моделей.\n",
    "\n",
    "<a id=\"2\"></a>\n",
    "## 2. Обучение и проверка моделей\n",
    "Поскольку рассматриваемая задача является задачей бинарной классификации, будем рассматривать модель логистической регрессии (`LogisticRegression`) и метод опорных векторов (`LinearSVC`). Подбор гиперпараметров будем производить с использованием поиска по решётке и перекрёстной проверки (`GridSearchCV`). Зададим сетки гиперпараметров, используем TF-IDF-преобразование, а затем запустим обучение моделей."
   ]
  },
  {
   "cell_type": "code",
   "execution_count": 8,
   "metadata": {},
   "outputs": [],
   "source": [
    "logreg_clf = LogisticRegression(class_weight=\"balanced\", random_state=42, max_iter=300)\n",
    "\n",
    "svc_clf = LinearSVC(class_weight=\"balanced\", random_state=42)\n",
    "\n",
    "params_logreg = {\"classifier__C\": range(4, 8),\n",
    "                \"classifier\": [logreg_clf]}\n",
    "\n",
    "params_svc = {\"classifier__C\": [0.8, 0.9, 1.0, 1.1, 1.2],\n",
    "             \"classifier\": [svc_clf]}\n",
    "\n",
    "pipeline = Pipeline([(\"tfidfvectorizer\", tfidf),\n",
    "                     (\"classifier\", logreg_clf)])\n",
    "\n",
    "params = [params_logreg, params_svc]"
   ]
  },
  {
   "cell_type": "code",
   "execution_count": 9,
   "metadata": {},
   "outputs": [],
   "source": [
    "grid_search = GridSearchCV(pipeline, params, scoring=\"f1\").fit(X_train, y_train)"
   ]
  },
  {
   "cell_type": "code",
   "execution_count": 10,
   "metadata": {},
   "outputs": [
    {
     "name": "stdout",
     "output_type": "stream",
     "text": [
      "Лучшая модель и использованные гиперпараметры:\n"
     ]
    },
    {
     "data": {
      "text/plain": [
       "{'classifier': LogisticRegression(C=7, class_weight='balanced', max_iter=300, random_state=42),\n",
       " 'classifier__C': 7}"
      ]
     },
     "execution_count": 10,
     "metadata": {},
     "output_type": "execute_result"
    }
   ],
   "source": [
    "print(\"Лучшая модель и использованные гиперпараметры:\")\n",
    "grid_search.best_params_"
   ]
  },
  {
   "cell_type": "markdown",
   "metadata": {},
   "source": [
    "Посмотрим на качество моделей на валидации и среднее время обучения модели (в секундах)."
   ]
  },
  {
   "cell_type": "code",
   "execution_count": 11,
   "metadata": {},
   "outputs": [
    {
     "data": {
      "text/html": [
       "<div>\n",
       "<style scoped>\n",
       "    .dataframe tbody tr th:only-of-type {\n",
       "        vertical-align: middle;\n",
       "    }\n",
       "\n",
       "    .dataframe tbody tr th {\n",
       "        vertical-align: top;\n",
       "    }\n",
       "\n",
       "    .dataframe thead th {\n",
       "        text-align: right;\n",
       "    }\n",
       "</style>\n",
       "<table border=\"1\" class=\"dataframe\">\n",
       "  <thead>\n",
       "    <tr style=\"text-align: right;\">\n",
       "      <th></th>\n",
       "      <th>mean_fit_time</th>\n",
       "      <th>mean_test_score</th>\n",
       "      <th>params</th>\n",
       "    </tr>\n",
       "  </thead>\n",
       "  <tbody>\n",
       "    <tr>\n",
       "      <th>0</th>\n",
       "      <td>96.978245</td>\n",
       "      <td>0.758090</td>\n",
       "      <td>{'classifier': LogisticRegression(C=7, class_w...</td>\n",
       "    </tr>\n",
       "    <tr>\n",
       "      <th>1</th>\n",
       "      <td>98.274191</td>\n",
       "      <td>0.759414</td>\n",
       "      <td>{'classifier': LogisticRegression(C=7, class_w...</td>\n",
       "    </tr>\n",
       "    <tr>\n",
       "      <th>2</th>\n",
       "      <td>98.550718</td>\n",
       "      <td>0.759398</td>\n",
       "      <td>{'classifier': LogisticRegression(C=7, class_w...</td>\n",
       "    </tr>\n",
       "    <tr>\n",
       "      <th>3</th>\n",
       "      <td>116.704600</td>\n",
       "      <td>0.759721</td>\n",
       "      <td>{'classifier': LogisticRegression(C=7, class_w...</td>\n",
       "    </tr>\n",
       "    <tr>\n",
       "      <th>4</th>\n",
       "      <td>7.708286</td>\n",
       "      <td>0.754815</td>\n",
       "      <td>{'classifier': LinearSVC(class_weight='balance...</td>\n",
       "    </tr>\n",
       "    <tr>\n",
       "      <th>5</th>\n",
       "      <td>6.586977</td>\n",
       "      <td>0.754625</td>\n",
       "      <td>{'classifier': LinearSVC(class_weight='balance...</td>\n",
       "    </tr>\n",
       "    <tr>\n",
       "      <th>6</th>\n",
       "      <td>6.874841</td>\n",
       "      <td>0.753933</td>\n",
       "      <td>{'classifier': LinearSVC(class_weight='balance...</td>\n",
       "    </tr>\n",
       "    <tr>\n",
       "      <th>7</th>\n",
       "      <td>7.006157</td>\n",
       "      <td>0.754246</td>\n",
       "      <td>{'classifier': LinearSVC(class_weight='balance...</td>\n",
       "    </tr>\n",
       "    <tr>\n",
       "      <th>8</th>\n",
       "      <td>7.190679</td>\n",
       "      <td>0.753872</td>\n",
       "      <td>{'classifier': LinearSVC(class_weight='balance...</td>\n",
       "    </tr>\n",
       "  </tbody>\n",
       "</table>\n",
       "</div>"
      ],
      "text/plain": [
       "   mean_fit_time  mean_test_score  \\\n",
       "0      96.978245         0.758090   \n",
       "1      98.274191         0.759414   \n",
       "2      98.550718         0.759398   \n",
       "3     116.704600         0.759721   \n",
       "4       7.708286         0.754815   \n",
       "5       6.586977         0.754625   \n",
       "6       6.874841         0.753933   \n",
       "7       7.006157         0.754246   \n",
       "8       7.190679         0.753872   \n",
       "\n",
       "                                              params  \n",
       "0  {'classifier': LogisticRegression(C=7, class_w...  \n",
       "1  {'classifier': LogisticRegression(C=7, class_w...  \n",
       "2  {'classifier': LogisticRegression(C=7, class_w...  \n",
       "3  {'classifier': LogisticRegression(C=7, class_w...  \n",
       "4  {'classifier': LinearSVC(class_weight='balance...  \n",
       "5  {'classifier': LinearSVC(class_weight='balance...  \n",
       "6  {'classifier': LinearSVC(class_weight='balance...  \n",
       "7  {'classifier': LinearSVC(class_weight='balance...  \n",
       "8  {'classifier': LinearSVC(class_weight='balance...  "
      ]
     },
     "execution_count": 11,
     "metadata": {},
     "output_type": "execute_result"
    }
   ],
   "source": [
    "pd.DataFrame(grid_search.cv_results_)[[\"mean_fit_time\", \"mean_test_score\", \"params\"]]"
   ]
  },
  {
   "cell_type": "markdown",
   "metadata": {},
   "source": [
    "Значения *f1-меры* оказалось мало отличаются, однако у логистической регрессии значение метрики немного больше, поэтому на тестовой выборке будем использовать её. Стоит отметить, что логистическая регрессия обучается гораздо дольше, чем SVC. Учитывая это, возможно, имеет смысл использовать SVC, если есть необходимость быстро обучать модель и получать предсказания на тестовой выборке.\n",
    "\n",
    "Рассматривать случайный лес не будем, поскольку на разреженных данных такие модели работают не очень хорошо, а время на их обучение будет больше, чем для использованных выше моделей. \n",
    "\n",
    "Сделаем предсказания для лучшей модели и выведем значение *f1-меры* на тестовой выборке."
   ]
  },
  {
   "cell_type": "code",
   "execution_count": 12,
   "metadata": {},
   "outputs": [
    {
     "name": "stdout",
     "output_type": "stream",
     "text": [
      "F1-score (test): 0.7638\n"
     ]
    }
   ],
   "source": [
    "print(f\"F1-score (test): {f1_score(y_test, grid_search.predict(X_test)):.4f}\")"
   ]
  },
  {
   "cell_type": "markdown",
   "metadata": {},
   "source": [
    "<a id=\"3\"></a>\n",
    "## 3. Выводы\n",
    "Оба рассмотренных класса моделей, `LogisticRegression` и `LinearSVC` показали приблизительно одинаковое качество на перекрёстной проверке. При этом `LogisticRegression` обучается гораздо дольше, чем `LinearSVC`. При незначительном отличии в *f1-мере*, возможно, рациональнее будет использовать более быструю модель."
   ]
  }
 ],
 "metadata": {
  "ExecuteTimeLog": [
   {
    "duration": 363,
    "start_time": "2022-04-29T07:51:19.975Z"
   },
   {
    "duration": 758,
    "start_time": "2022-04-29T07:51:30.814Z"
   },
   {
    "duration": 16,
    "start_time": "2022-04-29T07:51:33.325Z"
   },
   {
    "duration": 36,
    "start_time": "2022-04-29T07:59:30.673Z"
   },
   {
    "duration": 3,
    "start_time": "2022-04-29T07:59:39.088Z"
   },
   {
    "duration": 2081,
    "start_time": "2022-04-29T07:59:42.431Z"
   },
   {
    "duration": 4,
    "start_time": "2022-04-29T07:59:48.208Z"
   },
   {
    "duration": 3,
    "start_time": "2022-04-29T08:00:08.928Z"
   },
   {
    "duration": 4,
    "start_time": "2022-04-29T08:00:18.240Z"
   },
   {
    "duration": 4,
    "start_time": "2022-04-29T08:00:30.800Z"
   },
   {
    "duration": 3,
    "start_time": "2022-04-29T08:00:34.657Z"
   },
   {
    "duration": 4,
    "start_time": "2022-04-29T08:00:38.431Z"
   },
   {
    "duration": 4,
    "start_time": "2022-04-29T08:00:40.943Z"
   },
   {
    "duration": 4,
    "start_time": "2022-04-29T08:00:43.361Z"
   },
   {
    "duration": 4,
    "start_time": "2022-04-29T08:00:46.352Z"
   },
   {
    "duration": 4,
    "start_time": "2022-04-29T08:00:49.904Z"
   },
   {
    "duration": 7,
    "start_time": "2022-04-29T10:10:35.061Z"
   },
   {
    "duration": 437,
    "start_time": "2022-04-30T14:17:52.080Z"
   },
   {
    "duration": 850,
    "start_time": "2022-04-30T14:17:53.739Z"
   },
   {
    "duration": 15,
    "start_time": "2022-04-30T14:17:57.189Z"
   },
   {
    "duration": 2,
    "start_time": "2022-04-30T14:18:59.635Z"
   },
   {
    "duration": 122,
    "start_time": "2022-04-30T14:20:22.769Z"
   },
   {
    "duration": 3,
    "start_time": "2022-04-30T14:21:01.215Z"
   },
   {
    "duration": 4,
    "start_time": "2022-04-30T14:21:16.540Z"
   },
   {
    "duration": 3,
    "start_time": "2022-04-30T14:21:22.347Z"
   },
   {
    "duration": 4,
    "start_time": "2022-04-30T14:21:52.330Z"
   },
   {
    "duration": 2,
    "start_time": "2022-04-30T14:24:06.060Z"
   },
   {
    "duration": 4,
    "start_time": "2022-04-30T14:27:26.439Z"
   },
   {
    "duration": 4,
    "start_time": "2022-04-30T14:27:41.243Z"
   },
   {
    "duration": 5,
    "start_time": "2022-04-30T14:36:33.084Z"
   },
   {
    "duration": 4,
    "start_time": "2022-04-30T14:36:33.876Z"
   },
   {
    "duration": 17,
    "start_time": "2022-04-30T14:36:41.180Z"
   },
   {
    "duration": 9,
    "start_time": "2022-04-30T14:37:12.941Z"
   },
   {
    "duration": 4,
    "start_time": "2022-04-30T14:37:16.891Z"
   },
   {
    "duration": 9,
    "start_time": "2022-04-30T14:37:53.236Z"
   },
   {
    "duration": 6,
    "start_time": "2022-04-30T14:37:55.651Z"
   },
   {
    "duration": 4,
    "start_time": "2022-04-30T14:39:24.722Z"
   },
   {
    "duration": 4,
    "start_time": "2022-04-30T14:39:31.472Z"
   },
   {
    "duration": 5,
    "start_time": "2022-04-30T14:39:52.861Z"
   },
   {
    "duration": 5,
    "start_time": "2022-04-30T14:40:11.808Z"
   },
   {
    "duration": 5,
    "start_time": "2022-04-30T14:40:15.301Z"
   },
   {
    "duration": 5,
    "start_time": "2022-04-30T14:41:06.658Z"
   },
   {
    "duration": 5,
    "start_time": "2022-04-30T14:41:10.746Z"
   },
   {
    "duration": 5,
    "start_time": "2022-04-30T14:41:21.879Z"
   },
   {
    "duration": 6,
    "start_time": "2022-04-30T14:48:09.466Z"
   },
   {
    "duration": 3,
    "start_time": "2022-04-30T14:51:51.279Z"
   },
   {
    "duration": 6,
    "start_time": "2022-04-30T14:51:57.067Z"
   },
   {
    "duration": 3,
    "start_time": "2022-04-30T14:56:29.780Z"
   },
   {
    "duration": 16,
    "start_time": "2022-04-30T14:56:30.748Z"
   },
   {
    "duration": 3,
    "start_time": "2022-04-30T14:56:57.663Z"
   },
   {
    "duration": 1544,
    "start_time": "2022-04-30T14:57:01.653Z"
   },
   {
    "duration": 5,
    "start_time": "2022-04-30T14:57:22.282Z"
   },
   {
    "duration": 4,
    "start_time": "2022-04-30T14:57:33.602Z"
   },
   {
    "duration": 4,
    "start_time": "2022-04-30T14:58:14.584Z"
   },
   {
    "duration": 4,
    "start_time": "2022-04-30T14:58:20.774Z"
   },
   {
    "duration": 4,
    "start_time": "2022-04-30T14:58:47.459Z"
   },
   {
    "duration": 9,
    "start_time": "2022-04-30T14:59:40.100Z"
   },
   {
    "duration": 7286,
    "start_time": "2022-04-30T14:59:45.424Z"
   },
   {
    "duration": 36,
    "start_time": "2022-04-30T14:59:59.959Z"
   },
   {
    "duration": 34,
    "start_time": "2022-04-30T15:01:03.088Z"
   },
   {
    "duration": 663,
    "start_time": "2022-04-30T18:13:20.609Z"
   },
   {
    "duration": 729,
    "start_time": "2022-04-30T18:13:23.464Z"
   },
   {
    "duration": 3,
    "start_time": "2022-04-30T18:13:25.852Z"
   },
   {
    "duration": 1354,
    "start_time": "2022-04-30T18:17:14.228Z"
   },
   {
    "duration": 3,
    "start_time": "2022-04-30T18:19:19.385Z"
   },
   {
    "duration": 3,
    "start_time": "2022-04-30T18:23:45.624Z"
   },
   {
    "duration": 80932,
    "start_time": "2022-04-30T18:23:48.750Z"
   },
   {
    "duration": 4,
    "start_time": "2022-04-30T18:27:09.427Z"
   },
   {
    "duration": 75333,
    "start_time": "2022-04-30T18:27:10.767Z"
   },
   {
    "duration": 6,
    "start_time": "2022-04-30T18:28:48.566Z"
   },
   {
    "duration": 32,
    "start_time": "2022-04-30T18:33:15.794Z"
   },
   {
    "duration": 29,
    "start_time": "2022-04-30T18:33:18.764Z"
   },
   {
    "duration": 5,
    "start_time": "2022-04-30T18:35:20.781Z"
   },
   {
    "duration": 3,
    "start_time": "2022-04-30T18:57:20.243Z"
   },
   {
    "duration": 31,
    "start_time": "2022-04-30T18:58:24.706Z"
   },
   {
    "duration": 11,
    "start_time": "2022-04-30T18:58:33.877Z"
   },
   {
    "duration": 5,
    "start_time": "2022-04-30T18:59:30.323Z"
   },
   {
    "duration": 9,
    "start_time": "2022-04-30T19:00:11.624Z"
   },
   {
    "duration": 4,
    "start_time": "2022-04-30T19:00:15.117Z"
   },
   {
    "duration": 7,
    "start_time": "2022-04-30T19:01:31.725Z"
   },
   {
    "duration": 6,
    "start_time": "2022-04-30T19:01:36.241Z"
   },
   {
    "duration": 4,
    "start_time": "2022-04-30T19:02:16.818Z"
   },
   {
    "duration": 10,
    "start_time": "2022-04-30T19:02:55.915Z"
   },
   {
    "duration": 8,
    "start_time": "2022-04-30T19:03:02.283Z"
   },
   {
    "duration": 9,
    "start_time": "2022-04-30T19:03:19.243Z"
   },
   {
    "duration": 5,
    "start_time": "2022-04-30T19:03:25.024Z"
   },
   {
    "duration": 249,
    "start_time": "2022-04-30T19:03:33.735Z"
   },
   {
    "duration": 3,
    "start_time": "2022-04-30T19:03:35.495Z"
   },
   {
    "duration": 49,
    "start_time": "2022-04-30T19:03:35.896Z"
   },
   {
    "duration": 41,
    "start_time": "2022-04-30T19:03:39.986Z"
   },
   {
    "duration": 34,
    "start_time": "2022-04-30T19:03:52.236Z"
   },
   {
    "duration": 4,
    "start_time": "2022-04-30T19:03:54.883Z"
   },
   {
    "duration": 6,
    "start_time": "2022-04-30T19:04:30.036Z"
   },
   {
    "duration": 2209,
    "start_time": "2022-04-30T19:04:46.877Z"
   },
   {
    "duration": 3,
    "start_time": "2022-04-30T19:04:49.856Z"
   },
   {
    "duration": 401,
    "start_time": "2022-04-30T19:04:50.036Z"
   },
   {
    "duration": 354,
    "start_time": "2022-04-30T19:04:53.817Z"
   },
   {
    "duration": 3646,
    "start_time": "2022-04-30T19:04:55.006Z"
   },
   {
    "duration": 8,
    "start_time": "2022-04-30T19:04:59.456Z"
   },
   {
    "duration": 34658,
    "start_time": "2022-04-30T19:05:08.955Z"
   },
   {
    "duration": 3,
    "start_time": "2022-04-30T19:05:43.615Z"
   },
   {
    "duration": 6111,
    "start_time": "2022-04-30T19:05:43.619Z"
   },
   {
    "duration": 5679,
    "start_time": "2022-04-30T19:05:49.732Z"
   },
   {
    "duration": 56242,
    "start_time": "2022-04-30T19:05:55.413Z"
   },
   {
    "duration": 141,
    "start_time": "2022-04-30T19:06:51.657Z"
   },
   {
    "duration": 4,
    "start_time": "2022-04-30T19:10:34.184Z"
   },
   {
    "duration": 36419,
    "start_time": "2022-04-30T19:10:51.322Z"
   },
   {
    "duration": 15,
    "start_time": "2022-04-30T19:12:54.854Z"
   },
   {
    "duration": 30,
    "start_time": "2022-04-30T19:13:26.394Z"
   },
   {
    "duration": 3,
    "start_time": "2022-04-30T19:13:29.174Z"
   },
   {
    "duration": 6,
    "start_time": "2022-04-30T19:13:32.474Z"
   },
   {
    "duration": 24,
    "start_time": "2022-04-30T19:18:35.383Z"
   },
   {
    "duration": 2,
    "start_time": "2022-04-30T19:18:36.423Z"
   },
   {
    "duration": 6,
    "start_time": "2022-04-30T19:18:41.251Z"
   },
   {
    "duration": 10,
    "start_time": "2022-04-30T19:19:08.244Z"
   },
   {
    "duration": 8,
    "start_time": "2022-04-30T19:27:29.174Z"
   },
   {
    "duration": 24,
    "start_time": "2022-04-30T19:27:54.689Z"
   },
   {
    "duration": 3,
    "start_time": "2022-04-30T19:27:55.124Z"
   },
   {
    "duration": 7,
    "start_time": "2022-04-30T19:27:55.573Z"
   },
   {
    "duration": 5,
    "start_time": "2022-04-30T19:28:30.554Z"
   },
   {
    "duration": 12,
    "start_time": "2022-04-30T19:29:34.865Z"
   },
   {
    "duration": 6,
    "start_time": "2022-04-30T19:29:43.046Z"
   },
   {
    "duration": 5,
    "start_time": "2022-04-30T19:29:57.433Z"
   },
   {
    "duration": 4,
    "start_time": "2022-04-30T19:30:08.483Z"
   },
   {
    "duration": 2,
    "start_time": "2022-04-30T19:30:35.023Z"
   },
   {
    "duration": 28,
    "start_time": "2022-04-30T19:30:35.983Z"
   },
   {
    "duration": 3,
    "start_time": "2022-04-30T19:30:37.170Z"
   },
   {
    "duration": 6157,
    "start_time": "2022-04-30T19:30:39.113Z"
   },
   {
    "duration": 8390,
    "start_time": "2022-04-30T19:30:50.163Z"
   },
   {
    "duration": 16,
    "start_time": "2022-04-30T19:31:28.704Z"
   },
   {
    "duration": 19,
    "start_time": "2022-04-30T19:31:38.084Z"
   },
   {
    "duration": 5,
    "start_time": "2022-04-30T19:32:01.361Z"
   },
   {
    "duration": 6248,
    "start_time": "2022-04-30T19:32:23.824Z"
   },
   {
    "duration": 53892,
    "start_time": "2022-04-30T19:32:30.074Z"
   },
   {
    "duration": 96,
    "start_time": "2022-04-30T19:33:23.970Z"
   },
   {
    "duration": 10,
    "start_time": "2022-04-30T19:33:34.863Z"
   },
   {
    "duration": 3,
    "start_time": "2022-04-30T19:34:05.782Z"
   },
   {
    "duration": 3,
    "start_time": "2022-04-30T19:34:28.994Z"
   },
   {
    "duration": 929013,
    "start_time": "2022-04-30T19:34:42.284Z"
   },
   {
    "duration": 3011,
    "start_time": "2022-04-30T19:50:11.299Z"
   },
   {
    "duration": 19,
    "start_time": "2022-04-30T19:52:11.024Z"
   },
   {
    "duration": 26597,
    "start_time": "2022-04-30T19:52:21.471Z"
   },
   {
    "duration": 16,
    "start_time": "2022-04-30T19:52:48.073Z"
   },
   {
    "duration": 4,
    "start_time": "2022-04-30T19:52:54.504Z"
   },
   {
    "duration": 26876,
    "start_time": "2022-04-30T19:53:43.283Z"
   },
   {
    "duration": 91,
    "start_time": "2022-04-30T19:54:10.163Z"
   },
   {
    "duration": 82604,
    "start_time": "2022-04-30T19:54:29.144Z"
   },
   {
    "duration": 92,
    "start_time": "2022-04-30T19:55:51.756Z"
   },
   {
    "duration": 3,
    "start_time": "2022-04-30T19:56:41.334Z"
   },
   {
    "duration": 1185987,
    "start_time": "2022-04-30T19:56:44.895Z"
   },
   {
    "duration": 1951,
    "start_time": "2022-04-30T20:16:30.884Z"
   },
   {
    "duration": 3,
    "start_time": "2022-04-30T20:17:01.377Z"
   },
   {
    "duration": 7311,
    "start_time": "2022-04-30T20:17:19.144Z"
   },
   {
    "duration": 1346,
    "start_time": "2022-04-30T20:17:26.457Z"
   },
   {
    "duration": 94787,
    "start_time": "2022-04-30T20:17:35.734Z"
   },
   {
    "duration": 2520,
    "start_time": "2022-04-30T20:19:10.523Z"
   },
   {
    "duration": 3,
    "start_time": "2022-04-30T20:19:36.417Z"
   },
   {
    "duration": 47727,
    "start_time": "2022-04-30T20:19:38.532Z"
   },
   {
    "duration": 1126,
    "start_time": "2022-04-30T20:20:26.261Z"
   },
   {
    "duration": 3,
    "start_time": "2022-04-30T20:20:27.389Z"
   },
   {
    "duration": 0,
    "start_time": "2022-04-30T20:20:49.926Z"
   },
   {
    "duration": 0,
    "start_time": "2022-04-30T20:20:49.927Z"
   },
   {
    "duration": 12,
    "start_time": "2022-04-30T20:20:50.443Z"
   },
   {
    "duration": 2,
    "start_time": "2022-04-30T20:20:52.234Z"
   },
   {
    "duration": 2024939,
    "start_time": "2022-04-30T20:20:52.416Z"
   },
   {
    "duration": 3927,
    "start_time": "2022-04-30T20:54:37.357Z"
   },
   {
    "duration": 1342,
    "start_time": "2022-05-01T11:18:42.348Z"
   },
   {
    "duration": 795,
    "start_time": "2022-05-01T11:18:43.692Z"
   },
   {
    "duration": 4,
    "start_time": "2022-05-01T11:18:44.489Z"
   },
   {
    "duration": 41417,
    "start_time": "2022-05-01T11:18:46.939Z"
   },
   {
    "duration": 3,
    "start_time": "2022-05-01T11:19:28.358Z"
   },
   {
    "duration": 46,
    "start_time": "2022-05-01T11:19:28.363Z"
   },
   {
    "duration": 3,
    "start_time": "2022-05-01T11:19:28.412Z"
   },
   {
    "duration": 6516,
    "start_time": "2022-05-01T11:19:28.417Z"
   },
   {
    "duration": 6647,
    "start_time": "2022-05-01T11:19:34.934Z"
   },
   {
    "duration": 44740,
    "start_time": "2022-05-01T11:19:41.583Z"
   },
   {
    "duration": 0,
    "start_time": "2022-05-01T11:20:26.325Z"
   },
   {
    "duration": 80465,
    "start_time": "2022-05-01T11:20:33.009Z"
   },
   {
    "duration": 19,
    "start_time": "2022-05-01T11:21:53.477Z"
   },
   {
    "duration": 3,
    "start_time": "2022-05-01T11:22:32.692Z"
   },
   {
    "duration": 4,
    "start_time": "2022-05-01T11:23:17.609Z"
   },
   {
    "duration": 327864,
    "start_time": "2022-05-01T11:23:28.139Z"
   },
   {
    "duration": 0,
    "start_time": "2022-05-01T11:28:56.006Z"
   },
   {
    "duration": 10,
    "start_time": "2022-05-01T11:29:01.060Z"
   },
   {
    "duration": 198377,
    "start_time": "2022-05-01T11:29:14.620Z"
   },
   {
    "duration": 11,
    "start_time": "2022-05-01T11:32:33.000Z"
   },
   {
    "duration": 10,
    "start_time": "2022-05-01T11:32:39.800Z"
   },
   {
    "duration": 340,
    "start_time": "2022-05-01T11:33:05.400Z"
   },
   {
    "duration": 337881,
    "start_time": "2022-05-01T11:33:14.959Z"
   },
   {
    "duration": 374,
    "start_time": "2022-05-01T11:38:52.841Z"
   },
   {
    "duration": 1575,
    "start_time": "2022-05-01T11:52:32.966Z"
   },
   {
    "duration": 20,
    "start_time": "2022-05-01T11:54:33.348Z"
   },
   {
    "duration": 4,
    "start_time": "2022-05-01T11:54:55.537Z"
   },
   {
    "duration": 43,
    "start_time": "2022-05-01T11:56:27.537Z"
   },
   {
    "duration": 15,
    "start_time": "2022-05-01T11:56:50.629Z"
   },
   {
    "duration": 4,
    "start_time": "2022-05-01T11:56:59.198Z"
   },
   {
    "duration": 5,
    "start_time": "2022-05-01T11:57:21.466Z"
   },
   {
    "duration": 336010,
    "start_time": "2022-05-01T11:57:39.959Z"
   },
   {
    "duration": 350,
    "start_time": "2022-05-01T12:03:15.971Z"
   },
   {
    "duration": 608588,
    "start_time": "2022-05-01T12:03:56.867Z"
   },
   {
    "duration": 359,
    "start_time": "2022-05-01T12:14:05.458Z"
   },
   {
    "duration": 364,
    "start_time": "2022-05-01T12:14:05.819Z"
   },
   {
    "duration": 4,
    "start_time": "2022-05-01T12:14:51.748Z"
   },
   {
    "duration": 1482,
    "start_time": "2022-05-01T12:15:16.527Z"
   },
   {
    "duration": 604458,
    "start_time": "2022-05-01T12:15:24.918Z"
   },
   {
    "duration": 353,
    "start_time": "2022-05-01T12:25:29.379Z"
   },
   {
    "duration": 11,
    "start_time": "2022-05-01T12:39:41.523Z"
   },
   {
    "duration": 39,
    "start_time": "2022-05-01T12:40:08.444Z"
   },
   {
    "duration": 2369745,
    "start_time": "2022-05-01T12:41:32.450Z"
   },
   {
    "duration": 426,
    "start_time": "2022-05-01T13:21:35.036Z"
   },
   {
    "duration": 1117,
    "start_time": "2022-05-01T13:25:09.239Z"
   },
   {
    "duration": 99766,
    "start_time": "2022-05-01T13:33:19.507Z"
   },
   {
    "duration": 5,
    "start_time": "2022-05-01T13:36:58.348Z"
   },
   {
    "duration": 6,
    "start_time": "2022-05-01T13:40:19.946Z"
   },
   {
    "duration": 4,
    "start_time": "2022-05-01T13:40:33.616Z"
   },
   {
    "duration": 7,
    "start_time": "2022-05-01T13:40:43.255Z"
   },
   {
    "duration": 8594,
    "start_time": "2022-05-01T13:41:03.506Z"
   },
   {
    "duration": 0,
    "start_time": "2022-05-01T13:41:12.102Z"
   },
   {
    "duration": 6945,
    "start_time": "2022-05-01T13:42:10.829Z"
   },
   {
    "duration": 8462,
    "start_time": "2022-05-01T13:46:54.405Z"
   },
   {
    "duration": 7,
    "start_time": "2022-05-01T13:47:02.872Z"
   },
   {
    "duration": 2,
    "start_time": "2022-05-01T13:47:38.519Z"
   },
   {
    "duration": 6990,
    "start_time": "2022-05-01T13:48:45.912Z"
   },
   {
    "duration": 21,
    "start_time": "2022-05-01T13:49:26.246Z"
   },
   {
    "duration": 2,
    "start_time": "2022-05-01T13:49:38.339Z"
   },
   {
    "duration": 14,
    "start_time": "2022-05-01T13:49:49.099Z"
   },
   {
    "duration": 3,
    "start_time": "2022-05-01T13:50:45.354Z"
   },
   {
    "duration": 129,
    "start_time": "2022-05-01T13:51:09.021Z"
   },
   {
    "duration": 7,
    "start_time": "2022-05-01T13:51:51.404Z"
   },
   {
    "duration": 7087,
    "start_time": "2022-05-01T13:52:20.323Z"
   },
   {
    "duration": 6,
    "start_time": "2022-05-01T13:52:27.413Z"
   },
   {
    "duration": 6,
    "start_time": "2022-05-01T13:53:07.083Z"
   },
   {
    "duration": 30,
    "start_time": "2022-05-01T13:53:29.156Z"
   },
   {
    "duration": 14,
    "start_time": "2022-05-01T13:53:38.897Z"
   },
   {
    "duration": 6,
    "start_time": "2022-05-01T13:53:40.344Z"
   },
   {
    "duration": 4,
    "start_time": "2022-05-01T13:53:58.506Z"
   },
   {
    "duration": 5,
    "start_time": "2022-05-01T13:54:09.562Z"
   },
   {
    "duration": 4,
    "start_time": "2022-05-01T13:54:14.425Z"
   },
   {
    "duration": 3,
    "start_time": "2022-05-01T13:54:26.810Z"
   },
   {
    "duration": 47,
    "start_time": "2022-05-01T13:54:48.313Z"
   },
   {
    "duration": 2992,
    "start_time": "2022-05-01T13:55:03.353Z"
   },
   {
    "duration": 5359,
    "start_time": "2022-05-01T13:55:06.347Z"
   },
   {
    "duration": 4,
    "start_time": "2022-05-01T13:55:11.708Z"
   },
   {
    "duration": 37181,
    "start_time": "2022-05-01T13:55:11.713Z"
   },
   {
    "duration": 1146,
    "start_time": "2022-05-01T13:55:48.895Z"
   },
   {
    "duration": 93705,
    "start_time": "2022-05-01T13:55:53.133Z"
   },
   {
    "duration": 14,
    "start_time": "2022-05-01T13:57:26.840Z"
   },
   {
    "duration": 5,
    "start_time": "2022-05-01T13:57:26.856Z"
   },
   {
    "duration": 5963,
    "start_time": "2022-05-01T13:58:36.085Z"
   },
   {
    "duration": 3283,
    "start_time": "2022-05-01T13:58:42.051Z"
   },
   {
    "duration": 3,
    "start_time": "2022-05-01T13:58:45.336Z"
   },
   {
    "duration": 36434,
    "start_time": "2022-05-01T13:58:45.341Z"
   },
   {
    "duration": 1125,
    "start_time": "2022-05-01T13:59:21.777Z"
   },
   {
    "duration": 87413,
    "start_time": "2022-05-01T13:59:57.350Z"
   },
   {
    "duration": 1668,
    "start_time": "2022-05-01T14:02:29.338Z"
   },
   {
    "duration": 702,
    "start_time": "2022-05-01T14:04:49.939Z"
   },
   {
    "duration": 747,
    "start_time": "2022-05-01T14:04:50.643Z"
   },
   {
    "duration": 3,
    "start_time": "2022-05-01T14:04:51.597Z"
   },
   {
    "duration": 37584,
    "start_time": "2022-05-01T14:04:51.919Z"
   },
   {
    "duration": 113531,
    "start_time": "2022-05-01T14:05:29.505Z"
   },
   {
    "duration": 0,
    "start_time": "2022-05-01T14:07:23.038Z"
   },
   {
    "duration": 0,
    "start_time": "2022-05-01T14:07:23.039Z"
   },
   {
    "duration": 7313,
    "start_time": "2022-05-01T14:07:28.242Z"
   },
   {
    "duration": 9,
    "start_time": "2022-05-01T14:07:35.557Z"
   },
   {
    "duration": 3,
    "start_time": "2022-05-01T14:07:43.498Z"
   },
   {
    "duration": 4,
    "start_time": "2022-05-01T14:07:50.060Z"
   },
   {
    "duration": 4,
    "start_time": "2022-05-01T14:09:05.292Z"
   },
   {
    "duration": 10,
    "start_time": "2022-05-01T14:09:18.476Z"
   },
   {
    "duration": 4,
    "start_time": "2022-05-01T14:09:19.928Z"
   },
   {
    "duration": 7366,
    "start_time": "2022-05-01T14:09:28.812Z"
   },
   {
    "duration": 24,
    "start_time": "2022-05-01T14:09:39.557Z"
   },
   {
    "duration": 1878,
    "start_time": "2022-05-01T14:14:48.587Z"
   },
   {
    "duration": 744,
    "start_time": "2022-05-01T14:14:52.786Z"
   },
   {
    "duration": 2948,
    "start_time": "2022-05-01T14:14:53.532Z"
   },
   {
    "duration": 4,
    "start_time": "2022-05-01T14:14:56.481Z"
   },
   {
    "duration": 99864,
    "start_time": "2022-05-01T14:17:01.939Z"
   },
   {
    "duration": 0,
    "start_time": "2022-05-01T14:18:41.805Z"
   },
   {
    "duration": 7342,
    "start_time": "2022-05-01T14:18:47.064Z"
   },
   {
    "duration": 9,
    "start_time": "2022-05-01T14:18:54.408Z"
   },
   {
    "duration": 26,
    "start_time": "2022-05-01T14:19:11.835Z"
   },
   {
    "duration": 6,
    "start_time": "2022-05-01T14:19:37.437Z"
   },
   {
    "duration": 24,
    "start_time": "2022-05-01T14:20:08.130Z"
   },
   {
    "duration": 257,
    "start_time": "2022-05-01T14:20:19.934Z"
   },
   {
    "duration": 17,
    "start_time": "2022-05-01T14:20:27.757Z"
   },
   {
    "duration": 22,
    "start_time": "2022-05-01T14:20:56.874Z"
   },
   {
    "duration": 27,
    "start_time": "2022-05-01T14:21:06.982Z"
   },
   {
    "duration": 1486,
    "start_time": "2022-05-05T10:46:10.655Z"
   },
   {
    "duration": 843,
    "start_time": "2022-05-05T10:46:12.143Z"
   },
   {
    "duration": 4,
    "start_time": "2022-05-05T10:46:12.988Z"
   },
   {
    "duration": 41713,
    "start_time": "2022-05-05T10:46:12.994Z"
   },
   {
    "duration": 4,
    "start_time": "2022-05-05T10:46:54.709Z"
   },
   {
    "duration": 33,
    "start_time": "2022-05-05T10:46:54.724Z"
   },
   {
    "duration": 3,
    "start_time": "2022-05-05T10:46:54.759Z"
   },
   {
    "duration": 6194,
    "start_time": "2022-05-05T10:46:54.764Z"
   },
   {
    "duration": 6636,
    "start_time": "2022-05-05T10:47:00.960Z"
   },
   {
    "duration": 83534,
    "start_time": "2022-05-05T10:47:07.598Z"
   },
   {
    "duration": 12,
    "start_time": "2022-05-05T10:48:31.224Z"
   },
   {
    "duration": 6,
    "start_time": "2022-05-05T10:49:32.431Z"
   },
   {
    "duration": 5,
    "start_time": "2022-05-05T10:49:37.887Z"
   },
   {
    "duration": 14,
    "start_time": "2022-05-05T10:49:45.310Z"
   },
   {
    "duration": 22,
    "start_time": "2022-05-05T10:49:49.839Z"
   },
   {
    "duration": 3,
    "start_time": "2022-05-05T10:50:12.351Z"
   },
   {
    "duration": 41080,
    "start_time": "2022-05-05T10:50:13.679Z"
   },
   {
    "duration": 28,
    "start_time": "2022-05-05T10:50:54.761Z"
   },
   {
    "duration": 3,
    "start_time": "2022-05-05T10:52:02.912Z"
   },
   {
    "duration": 42101,
    "start_time": "2022-05-05T10:52:09.696Z"
   },
   {
    "duration": 24,
    "start_time": "2022-05-05T10:53:14.530Z"
   },
   {
    "duration": 188,
    "start_time": "2022-05-05T10:54:07.218Z"
   },
   {
    "duration": 5,
    "start_time": "2022-05-05T10:54:47.474Z"
   },
   {
    "duration": 40695,
    "start_time": "2022-05-05T10:54:52.481Z"
   },
   {
    "duration": 25,
    "start_time": "2022-05-05T10:55:33.178Z"
   },
   {
    "duration": 4,
    "start_time": "2022-05-05T10:56:35.058Z"
   },
   {
    "duration": 39914,
    "start_time": "2022-05-05T10:56:37.137Z"
   },
   {
    "duration": 4,
    "start_time": "2022-05-05T10:57:17.053Z"
   },
   {
    "duration": 28,
    "start_time": "2022-05-05T10:57:17.059Z"
   },
   {
    "duration": 4,
    "start_time": "2022-05-05T10:58:13.380Z"
   },
   {
    "duration": 41698,
    "start_time": "2022-05-05T10:58:18.082Z"
   },
   {
    "duration": 3,
    "start_time": "2022-05-05T10:58:59.782Z"
   },
   {
    "duration": 39,
    "start_time": "2022-05-05T10:58:59.786Z"
   },
   {
    "duration": 2,
    "start_time": "2022-05-05T10:58:59.828Z"
   },
   {
    "duration": 6331,
    "start_time": "2022-05-05T10:58:59.833Z"
   },
   {
    "duration": 6702,
    "start_time": "2022-05-05T10:59:06.166Z"
   },
   {
    "duration": 80858,
    "start_time": "2022-05-05T10:59:12.870Z"
   },
   {
    "duration": 11,
    "start_time": "2022-05-05T11:00:33.730Z"
   },
   {
    "duration": 83,
    "start_time": "2022-05-05T11:00:33.743Z"
   },
   {
    "duration": 4,
    "start_time": "2022-05-05T11:02:02.964Z"
   },
   {
    "duration": 845,
    "start_time": "2022-05-05T11:02:05.299Z"
   },
   {
    "duration": 3,
    "start_time": "2022-05-05T11:02:40.852Z"
   },
   {
    "duration": 40695,
    "start_time": "2022-05-05T11:02:42.179Z"
   },
   {
    "duration": 56,
    "start_time": "2022-05-05T11:24:12.264Z"
   },
   {
    "duration": 13,
    "start_time": "2022-05-05T11:24:22.984Z"
   },
   {
    "duration": 4,
    "start_time": "2022-05-05T11:24:26.168Z"
   },
   {
    "duration": 30,
    "start_time": "2022-05-05T11:25:10.233Z"
   },
   {
    "duration": 6,
    "start_time": "2022-05-05T11:25:10.984Z"
   },
   {
    "duration": 5,
    "start_time": "2022-05-05T11:25:27.946Z"
   },
   {
    "duration": 10,
    "start_time": "2022-05-05T11:25:45.657Z"
   },
   {
    "duration": 3842,
    "start_time": "2022-05-05T11:25:50.649Z"
   },
   {
    "duration": 1604,
    "start_time": "2022-05-05T11:33:00.220Z"
   },
   {
    "duration": 844,
    "start_time": "2022-05-05T11:33:01.826Z"
   },
   {
    "duration": 3,
    "start_time": "2022-05-05T11:33:02.672Z"
   },
   {
    "duration": 42538,
    "start_time": "2022-05-05T11:33:05.485Z"
   },
   {
    "duration": 4,
    "start_time": "2022-05-05T11:33:48.025Z"
   },
   {
    "duration": 33,
    "start_time": "2022-05-05T11:33:48.031Z"
   },
   {
    "duration": 3,
    "start_time": "2022-05-05T11:33:48.067Z"
   },
   {
    "duration": 6704,
    "start_time": "2022-05-05T11:33:48.072Z"
   },
   {
    "duration": 7848,
    "start_time": "2022-05-05T11:33:54.778Z"
   },
   {
    "duration": 84297,
    "start_time": "2022-05-05T11:34:02.628Z"
   },
   {
    "duration": 12,
    "start_time": "2022-05-05T11:35:26.927Z"
   },
   {
    "duration": 80664,
    "start_time": "2022-05-05T11:36:06.764Z"
   },
   {
    "duration": 96,
    "start_time": "2022-05-05T11:37:27.431Z"
   },
   {
    "duration": 33,
    "start_time": "2022-05-05T11:37:27.529Z"
   },
   {
    "duration": 3,
    "start_time": "2022-05-05T11:38:16.988Z"
   },
   {
    "duration": 4231,
    "start_time": "2022-05-05T11:38:18.152Z"
   },
   {
    "duration": 517,
    "start_time": "2022-05-05T11:38:22.385Z"
   },
   {
    "duration": 2,
    "start_time": "2022-05-05T11:38:27.976Z"
   },
   {
    "duration": 7149,
    "start_time": "2022-05-05T11:38:28.358Z"
   },
   {
    "duration": 498,
    "start_time": "2022-05-05T11:38:35.509Z"
   },
   {
    "duration": 3,
    "start_time": "2022-05-05T11:38:40.011Z"
   },
   {
    "duration": 14224,
    "start_time": "2022-05-05T11:38:40.203Z"
   },
   {
    "duration": 908,
    "start_time": "2022-05-05T11:38:54.430Z"
   },
   {
    "duration": 3,
    "start_time": "2022-05-05T11:39:03.816Z"
   },
   {
    "duration": 47011,
    "start_time": "2022-05-05T11:39:04.417Z"
   },
   {
    "duration": 1371,
    "start_time": "2022-05-05T11:39:51.430Z"
   },
   {
    "duration": 3,
    "start_time": "2022-05-05T11:40:02.092Z"
   },
   {
    "duration": 1450946,
    "start_time": "2022-05-05T11:40:03.849Z"
   },
   {
    "duration": 0,
    "start_time": "2022-05-05T12:04:14.797Z"
   },
   {
    "duration": 0,
    "start_time": "2022-05-05T12:04:14.798Z"
   },
   {
    "duration": 0,
    "start_time": "2022-05-05T12:04:14.799Z"
   },
   {
    "duration": 49399,
    "start_time": "2022-05-05T12:04:18.225Z"
   },
   {
    "duration": 17,
    "start_time": "2022-05-05T12:05:07.626Z"
   },
   {
    "duration": 65720,
    "start_time": "2022-05-05T12:05:13.707Z"
   },
   {
    "duration": 102,
    "start_time": "2022-05-05T12:06:19.429Z"
   },
   {
    "duration": 97674,
    "start_time": "2022-05-05T12:07:10.753Z"
   },
   {
    "duration": 101,
    "start_time": "2022-05-05T12:08:48.430Z"
   },
   {
    "duration": 108042,
    "start_time": "2022-05-05T12:09:00.482Z"
   },
   {
    "duration": 11,
    "start_time": "2022-05-05T12:10:48.526Z"
   },
   {
    "duration": 120108,
    "start_time": "2022-05-05T12:11:45.122Z"
   },
   {
    "duration": 97,
    "start_time": "2022-05-05T12:13:45.233Z"
   },
   {
    "duration": 140456,
    "start_time": "2022-05-05T12:14:04.582Z"
   },
   {
    "duration": 12,
    "start_time": "2022-05-05T12:16:25.124Z"
   },
   {
    "duration": 132936,
    "start_time": "2022-05-05T12:16:36.087Z"
   },
   {
    "duration": 12,
    "start_time": "2022-05-05T12:18:49.025Z"
   },
   {
    "duration": 142753,
    "start_time": "2022-05-05T12:19:12.072Z"
   },
   {
    "duration": 17,
    "start_time": "2022-05-05T12:21:34.827Z"
   },
   {
    "duration": 138851,
    "start_time": "2022-05-05T12:22:49.274Z"
   },
   {
    "duration": 101,
    "start_time": "2022-05-05T12:25:08.128Z"
   },
   {
    "duration": 1595,
    "start_time": "2022-05-05T16:21:05.361Z"
   },
   {
    "duration": 1076,
    "start_time": "2022-05-05T16:21:25.046Z"
   },
   {
    "duration": 4,
    "start_time": "2022-05-05T16:22:55.362Z"
   },
   {
    "duration": 892,
    "start_time": "2022-05-05T16:22:58.173Z"
   },
   {
    "duration": 4,
    "start_time": "2022-05-05T16:26:42.914Z"
   },
   {
    "duration": 609,
    "start_time": "2022-05-05T16:26:43.559Z"
   },
   {
    "duration": 5,
    "start_time": "2022-05-05T16:26:51.663Z"
   },
   {
    "duration": 4,
    "start_time": "2022-05-05T16:26:53.596Z"
   },
   {
    "duration": 49192,
    "start_time": "2022-05-05T16:26:53.868Z"
   },
   {
    "duration": 5,
    "start_time": "2022-05-05T16:29:09.277Z"
   },
   {
    "duration": 903,
    "start_time": "2022-05-05T16:29:15.182Z"
   },
   {
    "duration": 4,
    "start_time": "2022-05-05T16:29:16.088Z"
   },
   {
    "duration": 48491,
    "start_time": "2022-05-05T16:29:17.070Z"
   },
   {
    "duration": 5,
    "start_time": "2022-05-05T16:30:05.563Z"
   },
   {
    "duration": 30,
    "start_time": "2022-05-05T16:32:02.981Z"
   },
   {
    "duration": 42,
    "start_time": "2022-05-05T16:32:51.431Z"
   },
   {
    "duration": 2,
    "start_time": "2022-05-05T16:32:52.107Z"
   },
   {
    "duration": 6112,
    "start_time": "2022-05-05T16:32:52.927Z"
   },
   {
    "duration": 7663,
    "start_time": "2022-05-05T16:32:59.043Z"
   },
   {
    "duration": 1785131,
    "start_time": "2022-05-05T16:35:10.738Z"
   },
   {
    "duration": 0,
    "start_time": "2022-05-05T17:04:55.872Z"
   },
   {
    "duration": 1716784,
    "start_time": "2022-05-05T17:05:05.867Z"
   },
   {
    "duration": 82,
    "start_time": "2022-05-05T17:33:42.660Z"
   },
   {
    "duration": 14,
    "start_time": "2022-05-05T17:36:46.993Z"
   },
   {
    "duration": 26,
    "start_time": "2022-05-05T17:37:04.529Z"
   },
   {
    "duration": 5,
    "start_time": "2022-05-05T17:38:47.174Z"
   },
   {
    "duration": 35,
    "start_time": "2022-05-05T17:39:31.105Z"
   },
   {
    "duration": 17416,
    "start_time": "2022-05-05T17:39:47.133Z"
   },
   {
    "duration": 0,
    "start_time": "2022-05-05T17:40:04.551Z"
   },
   {
    "duration": 0,
    "start_time": "2022-05-05T17:40:04.553Z"
   },
   {
    "duration": 0,
    "start_time": "2022-05-05T17:40:04.555Z"
   },
   {
    "duration": 7810076,
    "start_time": "2022-05-05T17:40:24.820Z"
   },
   {
    "duration": 0,
    "start_time": "2022-05-05T19:50:34.899Z"
   },
   {
    "duration": 0,
    "start_time": "2022-05-05T19:50:34.901Z"
   },
   {
    "duration": 1612,
    "start_time": "2022-05-06T07:00:02.368Z"
   },
   {
    "duration": 756,
    "start_time": "2022-05-06T07:00:05.814Z"
   },
   {
    "duration": 4,
    "start_time": "2022-05-06T07:00:06.572Z"
   },
   {
    "duration": 38894,
    "start_time": "2022-05-06T07:00:07.222Z"
   },
   {
    "duration": 6,
    "start_time": "2022-05-06T07:00:46.118Z"
   },
   {
    "duration": 36,
    "start_time": "2022-05-06T07:00:46.126Z"
   },
   {
    "duration": 3,
    "start_time": "2022-05-06T07:00:46.164Z"
   },
   {
    "duration": 4826,
    "start_time": "2022-05-06T07:00:46.169Z"
   },
   {
    "duration": 6241,
    "start_time": "2022-05-06T07:00:50.996Z"
   },
   {
    "duration": 941,
    "start_time": "2022-05-06T07:01:14.598Z"
   },
   {
    "duration": 18,
    "start_time": "2022-05-06T07:01:27.749Z"
   },
   {
    "duration": 1399,
    "start_time": "2022-05-06T07:01:44.311Z"
   },
   {
    "duration": 22,
    "start_time": "2022-05-06T07:01:45.712Z"
   },
   {
    "duration": 626,
    "start_time": "2022-05-06T07:01:49.942Z"
   },
   {
    "duration": 696,
    "start_time": "2022-05-06T07:01:54.118Z"
   },
   {
    "duration": 18,
    "start_time": "2022-05-06T07:01:55.814Z"
   },
   {
    "duration": 880,
    "start_time": "2022-05-06T07:01:59.510Z"
   },
   {
    "duration": 19,
    "start_time": "2022-05-06T07:02:01.142Z"
   },
   {
    "duration": 1057,
    "start_time": "2022-05-06T07:02:07.015Z"
   },
   {
    "duration": 18,
    "start_time": "2022-05-06T07:02:08.774Z"
   },
   {
    "duration": 914,
    "start_time": "2022-05-06T07:02:11.878Z"
   },
   {
    "duration": 19,
    "start_time": "2022-05-06T07:02:14.310Z"
   },
   {
    "duration": 3059,
    "start_time": "2022-05-06T07:03:06.790Z"
   },
   {
    "duration": 18,
    "start_time": "2022-05-06T07:03:09.990Z"
   },
   {
    "duration": 4562,
    "start_time": "2022-05-06T07:03:14.486Z"
   },
   {
    "duration": 17,
    "start_time": "2022-05-06T07:03:19.050Z"
   },
   {
    "duration": 2687,
    "start_time": "2022-05-06T07:03:25.694Z"
   },
   {
    "duration": 20,
    "start_time": "2022-05-06T07:03:28.383Z"
   },
   {
    "duration": 888,
    "start_time": "2022-05-06T07:03:31.335Z"
   },
   {
    "duration": 19,
    "start_time": "2022-05-06T07:03:33.031Z"
   },
   {
    "duration": 3239,
    "start_time": "2022-05-06T07:03:36.455Z"
   },
   {
    "duration": 19,
    "start_time": "2022-05-06T07:03:40.534Z"
   },
   {
    "duration": 3862,
    "start_time": "2022-05-06T07:03:44.216Z"
   },
   {
    "duration": 18,
    "start_time": "2022-05-06T07:03:48.080Z"
   },
   {
    "duration": 3304,
    "start_time": "2022-05-06T07:03:53.223Z"
   },
   {
    "duration": 16,
    "start_time": "2022-05-06T07:03:57.686Z"
   },
   {
    "duration": 3247,
    "start_time": "2022-05-06T07:04:19.430Z"
   },
   {
    "duration": 16,
    "start_time": "2022-05-06T07:04:22.679Z"
   },
   {
    "duration": 3592,
    "start_time": "2022-05-06T07:06:20.487Z"
   },
   {
    "duration": 19,
    "start_time": "2022-05-06T07:06:33.510Z"
   },
   {
    "duration": 4788,
    "start_time": "2022-05-06T07:06:41.575Z"
   },
   {
    "duration": 18,
    "start_time": "2022-05-06T07:06:46.365Z"
   },
   {
    "duration": 8274,
    "start_time": "2022-05-06T07:06:54.583Z"
   },
   {
    "duration": 20,
    "start_time": "2022-05-06T07:07:02.859Z"
   },
   {
    "duration": 10291,
    "start_time": "2022-05-06T07:07:11.533Z"
   },
   {
    "duration": 19,
    "start_time": "2022-05-06T07:07:22.438Z"
   },
   {
    "duration": 12078,
    "start_time": "2022-05-06T07:07:27.574Z"
   },
   {
    "duration": 17,
    "start_time": "2022-05-06T07:07:39.654Z"
   },
   {
    "duration": 10,
    "start_time": "2022-05-06T07:07:48.054Z"
   },
   {
    "duration": 27845,
    "start_time": "2022-05-06T07:07:53.879Z"
   },
   {
    "duration": 4,
    "start_time": "2022-05-06T07:08:21.726Z"
   },
   {
    "duration": 17,
    "start_time": "2022-05-06T07:08:51.751Z"
   },
   {
    "duration": 3,
    "start_time": "2022-05-06T07:11:16.136Z"
   },
   {
    "duration": 955465,
    "start_time": "2022-05-06T07:12:16.360Z"
   },
   {
    "duration": 5,
    "start_time": "2022-05-06T07:28:11.826Z"
   },
   {
    "duration": 28833,
    "start_time": "2022-05-06T07:28:11.832Z"
   },
   {
    "duration": 4,
    "start_time": "2022-05-06T07:28:40.667Z"
   },
   {
    "duration": 4,
    "start_time": "2022-05-06T07:34:28.412Z"
   },
   {
    "duration": 6,
    "start_time": "2022-05-06T07:34:37.724Z"
   },
   {
    "duration": 5,
    "start_time": "2022-05-06T07:35:26.779Z"
   },
   {
    "duration": 4,
    "start_time": "2022-05-06T07:36:50.206Z"
   },
   {
    "duration": 4,
    "start_time": "2022-05-06T07:36:53.949Z"
   },
   {
    "duration": 88,
    "start_time": "2022-05-06T07:37:19.469Z"
   },
   {
    "duration": 4,
    "start_time": "2022-05-06T07:37:27.821Z"
   },
   {
    "duration": 4,
    "start_time": "2022-05-06T07:37:32.477Z"
   },
   {
    "duration": 4,
    "start_time": "2022-05-06T07:37:38.285Z"
   },
   {
    "duration": 4,
    "start_time": "2022-05-06T07:37:45.852Z"
   },
   {
    "duration": 3,
    "start_time": "2022-05-06T07:37:51.277Z"
   },
   {
    "duration": 3,
    "start_time": "2022-05-06T07:38:11.613Z"
   },
   {
    "duration": 18,
    "start_time": "2022-05-06T07:39:38.445Z"
   },
   {
    "duration": 27,
    "start_time": "2022-05-06T07:39:49.181Z"
   },
   {
    "duration": 29,
    "start_time": "2022-05-06T07:39:54.638Z"
   },
   {
    "duration": 17,
    "start_time": "2022-05-06T07:40:33.837Z"
   },
   {
    "duration": 632,
    "start_time": "2022-05-06T07:41:41.309Z"
   },
   {
    "duration": 662,
    "start_time": "2022-05-06T07:41:46.516Z"
   },
   {
    "duration": 4,
    "start_time": "2022-05-06T07:42:58.942Z"
   },
   {
    "duration": 6,
    "start_time": "2022-05-06T07:43:04.381Z"
   },
   {
    "duration": 4,
    "start_time": "2022-05-06T07:43:10.189Z"
   },
   {
    "duration": 7,
    "start_time": "2022-05-06T07:43:22.687Z"
   },
   {
    "duration": 98,
    "start_time": "2022-05-06T07:44:00.527Z"
   },
   {
    "duration": 7,
    "start_time": "2022-05-06T07:44:09.325Z"
   },
   {
    "duration": 6,
    "start_time": "2022-05-06T07:44:34.126Z"
   },
   {
    "duration": 6,
    "start_time": "2022-05-06T07:44:40.447Z"
   },
   {
    "duration": 7,
    "start_time": "2022-05-06T07:44:47.230Z"
   },
   {
    "duration": 6,
    "start_time": "2022-05-06T07:44:52.783Z"
   },
   {
    "duration": 235,
    "start_time": "2022-05-06T07:45:04.639Z"
   },
   {
    "duration": 7,
    "start_time": "2022-05-06T07:45:10.270Z"
   },
   {
    "duration": 6,
    "start_time": "2022-05-06T07:45:35.215Z"
   },
   {
    "duration": 6,
    "start_time": "2022-05-06T07:45:42.366Z"
   },
   {
    "duration": 6,
    "start_time": "2022-05-06T07:45:46.543Z"
   },
   {
    "duration": 7,
    "start_time": "2022-05-06T07:46:28.334Z"
   },
   {
    "duration": 3,
    "start_time": "2022-05-06T07:47:06.127Z"
   },
   {
    "duration": 39411,
    "start_time": "2022-05-06T07:47:07.375Z"
   },
   {
    "duration": 2,
    "start_time": "2022-05-06T07:47:46.788Z"
   },
   {
    "duration": 36,
    "start_time": "2022-05-06T07:47:46.792Z"
   },
   {
    "duration": 2,
    "start_time": "2022-05-06T07:47:46.831Z"
   },
   {
    "duration": 4821,
    "start_time": "2022-05-06T07:47:46.835Z"
   },
   {
    "duration": 6142,
    "start_time": "2022-05-06T07:47:51.658Z"
   },
   {
    "duration": 959223,
    "start_time": "2022-05-06T07:47:57.802Z"
   },
   {
    "duration": 5,
    "start_time": "2022-05-06T08:03:57.026Z"
   },
   {
    "duration": 29425,
    "start_time": "2022-05-06T08:03:57.033Z"
   },
   {
    "duration": 3,
    "start_time": "2022-05-06T08:04:26.461Z"
   },
   {
    "duration": 17,
    "start_time": "2022-05-06T08:04:35.043Z"
   },
   {
    "duration": 16,
    "start_time": "2022-05-06T08:04:41.235Z"
   },
   {
    "duration": 17,
    "start_time": "2022-05-06T08:04:47.232Z"
   },
   {
    "duration": 98,
    "start_time": "2022-05-06T08:05:51.907Z"
   },
   {
    "duration": 95,
    "start_time": "2022-05-06T08:06:04.643Z"
   },
   {
    "duration": 1369,
    "start_time": "2022-07-19T07:04:20.494Z"
   },
   {
    "duration": 855,
    "start_time": "2022-07-19T07:04:22.751Z"
   },
   {
    "duration": 5,
    "start_time": "2022-07-19T07:04:25.615Z"
   },
   {
    "duration": 41974,
    "start_time": "2022-07-19T07:04:26.230Z"
   },
   {
    "duration": 2,
    "start_time": "2022-07-19T07:05:08.206Z"
   },
   {
    "duration": 55,
    "start_time": "2022-07-19T07:05:08.210Z"
   },
   {
    "duration": 3,
    "start_time": "2022-07-19T07:05:08.267Z"
   },
   {
    "duration": 18,
    "start_time": "2022-07-19T07:05:08.272Z"
   },
   {
    "duration": 2154022,
    "start_time": "2022-07-19T07:05:08.292Z"
   },
   {
    "duration": 6,
    "start_time": "2022-07-19T07:41:02.316Z"
   },
   {
    "duration": 1624,
    "start_time": "2022-07-19T08:13:22.558Z"
   },
   {
    "duration": 29,
    "start_time": "2022-07-19T08:13:46.372Z"
   },
   {
    "duration": 10,
    "start_time": "2022-07-19T08:14:55.764Z"
   },
   {
    "duration": 15,
    "start_time": "2022-07-19T08:15:07.929Z"
   },
   {
    "duration": 17,
    "start_time": "2022-07-19T08:16:21.434Z"
   },
   {
    "duration": 1381,
    "start_time": "2022-07-19T08:24:54.694Z"
   },
   {
    "duration": 8,
    "start_time": "2022-07-19T08:24:59.095Z"
   },
   {
    "duration": 8,
    "start_time": "2022-07-19T08:25:04.134Z"
   },
   {
    "duration": 16,
    "start_time": "2022-07-19T08:25:15.574Z"
   },
   {
    "duration": 1345,
    "start_time": "2022-07-19T08:25:24.714Z"
   },
   {
    "duration": 829,
    "start_time": "2022-07-19T08:25:26.061Z"
   },
   {
    "duration": 12,
    "start_time": "2022-07-19T08:25:26.892Z"
   },
   {
    "duration": 41561,
    "start_time": "2022-07-19T08:25:26.906Z"
   },
   {
    "duration": 3,
    "start_time": "2022-07-19T08:26:08.469Z"
   },
   {
    "duration": 49,
    "start_time": "2022-07-19T08:26:08.473Z"
   },
   {
    "duration": 3,
    "start_time": "2022-07-19T08:26:08.524Z"
   },
   {
    "duration": 137,
    "start_time": "2022-07-19T08:26:08.529Z"
   },
   {
    "duration": 0,
    "start_time": "2022-07-19T08:26:08.668Z"
   },
   {
    "duration": 0,
    "start_time": "2022-07-19T08:26:08.669Z"
   },
   {
    "duration": 0,
    "start_time": "2022-07-19T08:26:08.670Z"
   },
   {
    "duration": 0,
    "start_time": "2022-07-19T08:26:08.671Z"
   },
   {
    "duration": 5,
    "start_time": "2022-07-19T08:30:14.038Z"
   },
   {
    "duration": 840,
    "start_time": "2022-07-19T08:30:14.358Z"
   },
   {
    "duration": 4,
    "start_time": "2022-07-19T08:30:15.205Z"
   },
   {
    "duration": 5204,
    "start_time": "2022-07-19T08:30:15.210Z"
   },
   {
    "duration": 0,
    "start_time": "2022-07-19T08:30:20.416Z"
   },
   {
    "duration": 0,
    "start_time": "2022-07-19T08:30:20.417Z"
   },
   {
    "duration": 0,
    "start_time": "2022-07-19T08:30:20.419Z"
   },
   {
    "duration": 0,
    "start_time": "2022-07-19T08:30:20.420Z"
   },
   {
    "duration": 1548,
    "start_time": "2022-07-19T08:30:27.348Z"
   },
   {
    "duration": 918,
    "start_time": "2022-07-19T08:30:28.898Z"
   },
   {
    "duration": 5,
    "start_time": "2022-07-19T08:30:29.818Z"
   },
   {
    "duration": 42017,
    "start_time": "2022-07-19T08:30:29.826Z"
   },
   {
    "duration": 2,
    "start_time": "2022-07-19T08:31:11.845Z"
   },
   {
    "duration": 38,
    "start_time": "2022-07-19T08:31:11.849Z"
   },
   {
    "duration": 3,
    "start_time": "2022-07-19T08:31:11.889Z"
   },
   {
    "duration": 5,
    "start_time": "2022-07-19T08:31:11.903Z"
   },
   {
    "duration": 1388,
    "start_time": "2022-07-19T09:48:19.377Z"
   },
   {
    "duration": 910,
    "start_time": "2022-07-19T09:48:20.767Z"
   },
   {
    "duration": 5,
    "start_time": "2022-07-19T09:48:21.679Z"
   },
   {
    "duration": 44642,
    "start_time": "2022-07-19T09:48:21.686Z"
   },
   {
    "duration": 3,
    "start_time": "2022-07-19T09:49:06.330Z"
   },
   {
    "duration": 66,
    "start_time": "2022-07-19T09:49:06.335Z"
   },
   {
    "duration": 12,
    "start_time": "2022-07-19T09:49:06.404Z"
   },
   {
    "duration": 17,
    "start_time": "2022-07-19T09:49:06.418Z"
   },
   {
    "duration": 1744,
    "start_time": "2022-07-19T16:21:54.381Z"
   },
   {
    "duration": 3779,
    "start_time": "2022-07-19T16:21:56.128Z"
   },
   {
    "duration": 5,
    "start_time": "2022-07-19T16:21:59.908Z"
   },
   {
    "duration": 54680,
    "start_time": "2022-07-19T16:21:59.915Z"
   },
   {
    "duration": 3,
    "start_time": "2022-07-19T16:22:54.597Z"
   },
   {
    "duration": 51,
    "start_time": "2022-07-19T16:22:54.602Z"
   },
   {
    "duration": 9,
    "start_time": "2022-07-19T16:22:54.656Z"
   },
   {
    "duration": 16,
    "start_time": "2022-07-19T16:22:54.668Z"
   },
   {
    "duration": 1349,
    "start_time": "2022-07-20T07:34:14.662Z"
   },
   {
    "duration": 2403,
    "start_time": "2022-07-20T07:34:16.013Z"
   },
   {
    "duration": 5,
    "start_time": "2022-07-20T07:34:18.418Z"
   },
   {
    "duration": 31914,
    "start_time": "2022-07-20T07:34:18.424Z"
   },
   {
    "duration": 0,
    "start_time": "2022-07-20T07:34:50.340Z"
   },
   {
    "duration": 0,
    "start_time": "2022-07-20T07:34:50.341Z"
   },
   {
    "duration": 0,
    "start_time": "2022-07-20T07:34:50.342Z"
   },
   {
    "duration": 0,
    "start_time": "2022-07-20T07:34:50.343Z"
   },
   {
    "duration": 0,
    "start_time": "2022-07-20T07:34:50.344Z"
   },
   {
    "duration": 0,
    "start_time": "2022-07-20T07:34:50.345Z"
   },
   {
    "duration": 0,
    "start_time": "2022-07-20T07:34:50.346Z"
   },
   {
    "duration": 0,
    "start_time": "2022-07-20T07:34:50.347Z"
   },
   {
    "duration": 4,
    "start_time": "2022-07-20T07:35:04.333Z"
   },
   {
    "duration": 769,
    "start_time": "2022-07-20T07:35:04.886Z"
   },
   {
    "duration": 1304,
    "start_time": "2022-07-20T07:35:15.779Z"
   },
   {
    "duration": 848,
    "start_time": "2022-07-20T07:35:17.085Z"
   },
   {
    "duration": 4,
    "start_time": "2022-07-20T07:35:17.935Z"
   },
   {
    "duration": 37171,
    "start_time": "2022-07-20T07:35:17.941Z"
   },
   {
    "duration": 4,
    "start_time": "2022-07-20T07:35:55.113Z"
   },
   {
    "duration": 45,
    "start_time": "2022-07-20T07:35:55.119Z"
   },
   {
    "duration": 3,
    "start_time": "2022-07-20T07:35:55.165Z"
   },
   {
    "duration": 6,
    "start_time": "2022-07-20T07:35:55.170Z"
   },
   {
    "duration": 2403293,
    "start_time": "2022-07-20T07:35:55.177Z"
   },
   {
    "duration": 7,
    "start_time": "2022-07-20T08:15:58.472Z"
   },
   {
    "duration": 31,
    "start_time": "2022-07-20T08:15:58.481Z"
   },
   {
    "duration": 1676,
    "start_time": "2022-07-20T08:15:58.513Z"
   },
   {
    "duration": 1007,
    "start_time": "2022-07-25T08:38:02.233Z"
   },
   {
    "duration": 4,
    "start_time": "2022-07-25T08:38:27.641Z"
   }
  ],
  "kernelspec": {
   "display_name": "Python 3 (ipykernel)",
   "language": "python",
   "name": "python3"
  },
  "language_info": {
   "codemirror_mode": {
    "name": "ipython",
    "version": 3
   },
   "file_extension": ".py",
   "mimetype": "text/x-python",
   "name": "python",
   "nbconvert_exporter": "python",
   "pygments_lexer": "ipython3",
   "version": "3.9.5"
  },
  "toc": {
   "base_numbering": 1,
   "nav_menu": {},
   "number_sections": false,
   "sideBar": true,
   "skip_h1_title": true,
   "title_cell": "Содержание",
   "title_sidebar": "Contents",
   "toc_cell": false,
   "toc_position": {
    "height": "calc(100% - 180px)",
    "left": "10px",
    "top": "150px",
    "width": "302.391px"
   },
   "toc_section_display": true,
   "toc_window_display": true
  }
 },
 "nbformat": 4,
 "nbformat_minor": 2
}
