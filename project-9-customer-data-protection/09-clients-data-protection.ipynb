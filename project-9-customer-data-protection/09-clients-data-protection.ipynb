{
 "cells": [
  {
   "cell_type": "markdown",
   "metadata": {},
   "source": [
    "# Защита персональных данных клиентов"
   ]
  },
  {
   "cell_type": "markdown",
   "metadata": {},
   "source": [
    "**Описание проекта:** для защиты данных клиентов страховой компании необходимо разработать такой метод преобразования данных, чтобы было сложно восстановить персональную информацию. Преобразованные данные впоследствии должны использоваться в модели, предсказывающей количество страховых выплат для каждого клиента, поэтому преобразование не должно ухудшать качество модели.\n",
    "\n",
    "**Цели проекта:** \n",
    "1. Разработать алгоритм защиты персональных данных клиентов.\n",
    "2. Привести формальное и экспериментальное доказательства корректности его использования.\n",
    "\n",
    "**Используемые данные:** набор персональных данных клиентов (`пол`, `возраст`, `зарплата` и количество `членов семьи` застрахованного, а также количество `страховых выплат` клиенту за последние пять лет.\n",
    "\n",
    "## Оглавление\n",
    "1. [Загрузка данных](#1)\n",
    "2. [Умножение матриц](#2)\n",
    "3. [Алгоритм преобразования](#3)\n",
    "4. [Проверка алгоритма](#4)\n",
    "\n",
    "<a id=\"1\"></a>\n",
    "## 1. Загрузка данных\n",
    "\n",
    "Импортируем необходимые библиотеки и считаем файл с данными."
   ]
  },
  {
   "cell_type": "code",
   "execution_count": 1,
   "metadata": {},
   "outputs": [],
   "source": [
    "from sklearn.linear_model import LinearRegression\n",
    "from sklearn.metrics import r2_score\n",
    "import matplotlib.pyplot as plt\n",
    "import numpy as np\n",
    "import pandas as pd"
   ]
  },
  {
   "cell_type": "code",
   "execution_count": 2,
   "metadata": {},
   "outputs": [
    {
     "data": {
      "text/html": [
       "<div>\n",
       "<style scoped>\n",
       "    .dataframe tbody tr th:only-of-type {\n",
       "        vertical-align: middle;\n",
       "    }\n",
       "\n",
       "    .dataframe tbody tr th {\n",
       "        vertical-align: top;\n",
       "    }\n",
       "\n",
       "    .dataframe thead th {\n",
       "        text-align: right;\n",
       "    }\n",
       "</style>\n",
       "<table border=\"1\" class=\"dataframe\">\n",
       "  <thead>\n",
       "    <tr style=\"text-align: right;\">\n",
       "      <th></th>\n",
       "      <th>Пол</th>\n",
       "      <th>Возраст</th>\n",
       "      <th>Зарплата</th>\n",
       "      <th>Члены семьи</th>\n",
       "      <th>Страховые выплаты</th>\n",
       "    </tr>\n",
       "  </thead>\n",
       "  <tbody>\n",
       "    <tr>\n",
       "      <th>0</th>\n",
       "      <td>1</td>\n",
       "      <td>41.0</td>\n",
       "      <td>49600.0</td>\n",
       "      <td>1</td>\n",
       "      <td>0</td>\n",
       "    </tr>\n",
       "    <tr>\n",
       "      <th>1</th>\n",
       "      <td>0</td>\n",
       "      <td>46.0</td>\n",
       "      <td>38000.0</td>\n",
       "      <td>1</td>\n",
       "      <td>1</td>\n",
       "    </tr>\n",
       "    <tr>\n",
       "      <th>2</th>\n",
       "      <td>0</td>\n",
       "      <td>29.0</td>\n",
       "      <td>21000.0</td>\n",
       "      <td>0</td>\n",
       "      <td>0</td>\n",
       "    </tr>\n",
       "    <tr>\n",
       "      <th>3</th>\n",
       "      <td>0</td>\n",
       "      <td>21.0</td>\n",
       "      <td>41700.0</td>\n",
       "      <td>2</td>\n",
       "      <td>0</td>\n",
       "    </tr>\n",
       "    <tr>\n",
       "      <th>4</th>\n",
       "      <td>1</td>\n",
       "      <td>28.0</td>\n",
       "      <td>26100.0</td>\n",
       "      <td>0</td>\n",
       "      <td>0</td>\n",
       "    </tr>\n",
       "  </tbody>\n",
       "</table>\n",
       "</div>"
      ],
      "text/plain": [
       "   Пол  Возраст  Зарплата  Члены семьи  Страховые выплаты\n",
       "0    1     41.0   49600.0            1                  0\n",
       "1    0     46.0   38000.0            1                  1\n",
       "2    0     29.0   21000.0            0                  0\n",
       "3    0     21.0   41700.0            2                  0\n",
       "4    1     28.0   26100.0            0                  0"
      ]
     },
     "execution_count": 2,
     "metadata": {},
     "output_type": "execute_result"
    }
   ],
   "source": [
    "data = pd.read_csv(\"/datasets/insurance.csv\")\n",
    "data.head()"
   ]
  },
  {
   "cell_type": "markdown",
   "metadata": {},
   "source": [
    "Посмотрим на общую информацию о данных."
   ]
  },
  {
   "cell_type": "code",
   "execution_count": 3,
   "metadata": {},
   "outputs": [
    {
     "name": "stdout",
     "output_type": "stream",
     "text": [
      "<class 'pandas.core.frame.DataFrame'>\n",
      "RangeIndex: 5000 entries, 0 to 4999\n",
      "Data columns (total 5 columns):\n",
      " #   Column             Non-Null Count  Dtype  \n",
      "---  ------             --------------  -----  \n",
      " 0   Пол                5000 non-null   int64  \n",
      " 1   Возраст            5000 non-null   float64\n",
      " 2   Зарплата           5000 non-null   float64\n",
      " 3   Члены семьи        5000 non-null   int64  \n",
      " 4   Страховые выплаты  5000 non-null   int64  \n",
      "dtypes: float64(2), int64(3)\n",
      "memory usage: 195.4 KB\n"
     ]
    }
   ],
   "source": [
    "data.info()"
   ]
  },
  {
   "cell_type": "markdown",
   "metadata": {},
   "source": [
    "Пропусков в данных нет, приводить признаки к каким-то другим типам не нужно.\n",
    "\n",
    "Посмотрим на статистические характеристики признаков."
   ]
  },
  {
   "cell_type": "code",
   "execution_count": 4,
   "metadata": {},
   "outputs": [
    {
     "data": {
      "text/html": [
       "<div>\n",
       "<style scoped>\n",
       "    .dataframe tbody tr th:only-of-type {\n",
       "        vertical-align: middle;\n",
       "    }\n",
       "\n",
       "    .dataframe tbody tr th {\n",
       "        vertical-align: top;\n",
       "    }\n",
       "\n",
       "    .dataframe thead th {\n",
       "        text-align: right;\n",
       "    }\n",
       "</style>\n",
       "<table border=\"1\" class=\"dataframe\">\n",
       "  <thead>\n",
       "    <tr style=\"text-align: right;\">\n",
       "      <th></th>\n",
       "      <th>count</th>\n",
       "      <th>mean</th>\n",
       "      <th>std</th>\n",
       "      <th>min</th>\n",
       "      <th>25%</th>\n",
       "      <th>50%</th>\n",
       "      <th>75%</th>\n",
       "      <th>max</th>\n",
       "    </tr>\n",
       "  </thead>\n",
       "  <tbody>\n",
       "    <tr>\n",
       "      <th>Пол</th>\n",
       "      <td>5000.0</td>\n",
       "      <td>0.4990</td>\n",
       "      <td>0.500049</td>\n",
       "      <td>0.0</td>\n",
       "      <td>0.0</td>\n",
       "      <td>0.0</td>\n",
       "      <td>1.0</td>\n",
       "      <td>1.0</td>\n",
       "    </tr>\n",
       "    <tr>\n",
       "      <th>Возраст</th>\n",
       "      <td>5000.0</td>\n",
       "      <td>30.9528</td>\n",
       "      <td>8.440807</td>\n",
       "      <td>18.0</td>\n",
       "      <td>24.0</td>\n",
       "      <td>30.0</td>\n",
       "      <td>37.0</td>\n",
       "      <td>65.0</td>\n",
       "    </tr>\n",
       "    <tr>\n",
       "      <th>Зарплата</th>\n",
       "      <td>5000.0</td>\n",
       "      <td>39916.3600</td>\n",
       "      <td>9900.083569</td>\n",
       "      <td>5300.0</td>\n",
       "      <td>33300.0</td>\n",
       "      <td>40200.0</td>\n",
       "      <td>46600.0</td>\n",
       "      <td>79000.0</td>\n",
       "    </tr>\n",
       "    <tr>\n",
       "      <th>Члены семьи</th>\n",
       "      <td>5000.0</td>\n",
       "      <td>1.1942</td>\n",
       "      <td>1.091387</td>\n",
       "      <td>0.0</td>\n",
       "      <td>0.0</td>\n",
       "      <td>1.0</td>\n",
       "      <td>2.0</td>\n",
       "      <td>6.0</td>\n",
       "    </tr>\n",
       "    <tr>\n",
       "      <th>Страховые выплаты</th>\n",
       "      <td>5000.0</td>\n",
       "      <td>0.1480</td>\n",
       "      <td>0.463183</td>\n",
       "      <td>0.0</td>\n",
       "      <td>0.0</td>\n",
       "      <td>0.0</td>\n",
       "      <td>0.0</td>\n",
       "      <td>5.0</td>\n",
       "    </tr>\n",
       "  </tbody>\n",
       "</table>\n",
       "</div>"
      ],
      "text/plain": [
       "                    count        mean          std     min      25%      50%  \\\n",
       "Пол                5000.0      0.4990     0.500049     0.0      0.0      0.0   \n",
       "Возраст            5000.0     30.9528     8.440807    18.0     24.0     30.0   \n",
       "Зарплата           5000.0  39916.3600  9900.083569  5300.0  33300.0  40200.0   \n",
       "Члены семьи        5000.0      1.1942     1.091387     0.0      0.0      1.0   \n",
       "Страховые выплаты  5000.0      0.1480     0.463183     0.0      0.0      0.0   \n",
       "\n",
       "                       75%      max  \n",
       "Пол                    1.0      1.0  \n",
       "Возраст               37.0     65.0  \n",
       "Зарплата           46600.0  79000.0  \n",
       "Члены семьи            2.0      6.0  \n",
       "Страховые выплаты      0.0      5.0  "
      ]
     },
     "execution_count": 4,
     "metadata": {},
     "output_type": "execute_result"
    }
   ],
   "source": [
    "data.describe().T"
   ]
  },
  {
   "cell_type": "markdown",
   "metadata": {},
   "source": [
    "Каких-то аномалий в данных не видно. Построим шистограммы распределения признаков."
   ]
  },
  {
   "cell_type": "code",
   "execution_count": 5,
   "metadata": {
    "scrolled": false
   },
   "outputs": [
    {
     "data": {
      "image/png": "[encoded data removed]",
      "text/plain": [
       "<Figure size 1080x720 with 4 Axes>"
      ]
     },
     "metadata": {
      "needs_background": "light"
     },
     "output_type": "display_data"
    }
   ],
   "source": [
    "fig, axes = plt.subplots(nrows=2, ncols=2, figsize=(15, 10))\n",
    "\n",
    "plt.subplot(2, 2, 1)\n",
    "data[\"Возраст\"].plot(kind=\"hist\", bins=np.arange(18, 68, 5),\n",
    "                     title=\"Распределение клиентов по возрасту\",\n",
    "                     grid=True)\n",
    "plt.xlabel(\"Возраст\")\n",
    "\n",
    "plt.subplot(2, 2, 2)\n",
    "data[\"Зарплата\"].plot(kind=\"hist\", bins=20,\n",
    "                     title=\"Распределение клиентов по зарплате\",\n",
    "                     grid=True)\n",
    "plt.xlabel(\"Зарплата\")\n",
    "\n",
    "plt.subplot(2, 2, 3)\n",
    "data[\"Члены семьи\"].plot(kind=\"hist\", bins=7,\n",
    "                     title=\"Распределение клиентов по количеству членов семьи\",\n",
    "                     grid=True)\n",
    "plt.xlabel(\"Количество членов семьи\")\n",
    "\n",
    "plt.subplot(2, 2, 4)\n",
    "data[\"Страховые выплаты\"].plot(kind=\"hist\", bins=6,\n",
    "                     title=\"Распределение клиентов по количеству страховых выплат\",\n",
    "                     grid=True)\n",
    "plt.xlabel(\"Количество страховых выплат\")\n",
    "plt.show()"
   ]
  },
  {
   "cell_type": "markdown",
   "metadata": {},
   "source": [
    "**Вывод:** данные не требуют предобработки. \n",
    "\n",
    "<a id=\"2\"></a>\n",
    "## 2. Умножение матриц\n",
    "Введём следующие обозначения:\n",
    "\n",
    "- $X$ — матрица признаков (нулевой столбец состоит из единиц)\n",
    "\n",
    "- $y$ — вектор целевого признака\n",
    "\n",
    "- $P$ — матрица, на которую умножаются признаки\n",
    "\n",
    "- $w$ — вектор весов линейной регрессии (нулевой элемент равен сдвигу)\n",
    "\n",
    "Предсказания:\n",
    "\n",
    "$$\n",
    "a = Xw\n",
    "$$\n",
    "\n",
    "Задача обучения:\n",
    "\n",
    "$$\n",
    "w = \\arg\\min_w MSE(Xw, y)\n",
    "$$\n",
    "\n",
    "Формула обучения:\n",
    "\n",
    "$$\n",
    "w = (X^T X)^{-1} X^T y\n",
    "$$\n",
    "\n",
    "Необходимо ответить на вопрос: **Изменится ли качество линейной регрессии при умножении матрицы признаков на обратимую матрицу?**\n",
    "\n",
    "**Ответ:** качество линейной регрессии не изменится.\n",
    "\n",
    "**Обоснование:** \n",
    "\n",
    "Пусть есть матрица признаков $X$ и некоторая обратимая матрица $P$. Умножим матрицу признаков на матрицу $P$ справа, результат умножения обозначим $\\tilde{X}$:\n",
    "\n",
    "$$\\tilde{X} = XP.$$\n",
    "\n",
    "Предположим, что предсказания модели изменятся, то есть\n",
    "\n",
    "$$\\tilde{a} = \\tilde{X}\\tilde{w}.$$\n",
    "\n",
    "Тогда аналитическое решение для $\\tilde{w}$:\n",
    "\n",
    "$$\\tilde{w} = (\\tilde{X}^T \\tilde{X})^{-1} \\tilde{X}^T y$$\n",
    "\n",
    "Подставим $XP$:\n",
    "\n",
    "$$\\tilde{w} = ((XP)^T XP)^{-1}(XP)^T y$$\n",
    "\n",
    "Воспользуемся свойством транспонированных матриц, $(XP)^T = P^T X^T$:\n",
    "\n",
    "$$\\tilde{w} = (P^T X^T XP)^{-1} (XP)^T y$$\n",
    "\n",
    "Для квадратных матриц $A$ и $B$ выполняется следующее: $(AB)^{-1} = B^{-1}A^{-1}$. Учтя это свойство, выполним преобразования: \n",
    "\n",
    "$$\\tilde{w}  = P^{-1}(P^T X^T X)^{-1} (XP)^T y = $$\n",
    "\n",
    "$$ = P^{-1}(P^T X^T X)^{-1} P^T X^T y = $$\n",
    "\n",
    "$$ = P^{-1}(X^T X)^{-1} (P^T)^{-1} P^T X^T y$$\n",
    "\n",
    "Учтём, что $(P^T)^{-1} P^T = E$, тогда:\n",
    "\n",
    "$$\\tilde{w} = P^{-1}(X^T X)^{-1} X^Ty,$$\n",
    "\n",
    "то есть\n",
    "\n",
    "$$\\tilde{w} = P^{-1}w.$$\n",
    "\n",
    "Тогда предсказания модели будут выглядеть так:\n",
    "\n",
    "$$\\tilde{a} = \\tilde{X}\\tilde{w} = XP P^{-1}w = Xw$$\n",
    "\n",
    "Получили, что $\\tilde{a} = a$, то есть предсказания не изменились, а значит, качество линейной регрессии при умножении матрицы признаков на обратимую матрицу справа **не изменится**.\n",
    "\n",
    "<a id=\"3\"></a>\n",
    "## 3. Алгоритм преобразования\n",
    "**Алгоритм**\n",
    "\n",
    "Как было доказано выше, умножение матрицы признаков на обратимую матрицу справа не меняет качество регрессии. Этот факт можно использовать для преобразования исходных признаков. Создадим такую матрицу $P$, её можно сгенерировать из нормального распределения. Полученную матрицу умножим на матрицу признаков. Таким образом можно преобразовать данные, чтобы восстановить персональную информацию было сложно.\n",
    "\n",
    "**Обоснование**\n",
    "\n",
    "В п.2 формально доказано, что качество линейной регрессии при таком алгоритме преобразования не изменится. Даже зная конкретный вид распреления, из которого сгенерирована матрица $P$, будет затруднительно подобрать конкретно те значения, которые использовались для преобразования, чтобы получить исходные данные. Поэтому предложенный алгоритм можно использовать для защиты персональной информации клиентов.\n",
    "\n",
    "<a id=\"4\"></a>\n",
    "## 4. Проверка алгоритма\n",
    "Отделим признаки от целевой переменной, обучим модель линейной регрессии сначала на исходных данных, а затем на преобразованных, и сравним значения метрики $R^2$. Поскольку цель проекта не в создании наиболее качественной модели, не будем делить выборку на обучающую и тестовую, а также использовать стандартизацию. \n"
   ]
  },
  {
   "cell_type": "code",
   "execution_count": 6,
   "metadata": {},
   "outputs": [],
   "source": [
    "X = data.drop(columns=\"Страховые выплаты\").values\n",
    "y = data[\"Страховые выплаты\"].values"
   ]
  },
  {
   "cell_type": "code",
   "execution_count": 7,
   "metadata": {},
   "outputs": [],
   "source": [
    "model = LinearRegression()\n",
    "model.fit(X, y)\n",
    "\n",
    "y_pred = model.predict(X)"
   ]
  },
  {
   "cell_type": "code",
   "execution_count": 8,
   "metadata": {},
   "outputs": [
    {
     "name": "stdout",
     "output_type": "stream",
     "text": [
      "R2 для модели с исходными данными:        0.42494550286668\n",
      "R2 для модели с преобразованными данными: 0.4249455028666832\n"
     ]
    }
   ],
   "source": [
    "np.random.seed(42)\n",
    "m = X.shape[1]\n",
    "P = np.random.normal(size=(m, m))\n",
    "X_wave = X @ P\n",
    "\n",
    "model = LinearRegression()\n",
    "model.fit(X_wave, y)\n",
    "\n",
    "y_pred_wave = model.predict(X_wave)\n",
    "\n",
    "print(\"R2 для модели с исходными данными:       \", r2_score(y, y_pred))\n",
    "print(\"R2 для модели с преобразованными данными:\", r2_score(y, y_pred_wave))"
   ]
  },
  {
   "cell_type": "markdown",
   "metadata": {},
   "source": [
    "**Вывод:** значения $R^2$ совпадают с точностью до двух последних знаков; отличие, вероятно, связано с точностью округления при выполнении расчётов. Таким образом, предложенное преобразование данных действительно **не меняет** качество модели линейной регрессии."
   ]
  }
 ],
 "metadata": {
  "ExecuteTimeLog": [
   {
    "duration": 542,
    "start_time": "2022-03-26T09:27:43.131Z"
   },
   {
    "duration": 16,
    "start_time": "2022-03-26T09:27:50.721Z"
   },
   {
    "duration": 29,
    "start_time": "2022-03-26T09:27:52.992Z"
   },
   {
    "duration": 91,
    "start_time": "2022-03-26T09:27:59.951Z"
   },
   {
    "duration": 16,
    "start_time": "2022-03-26T09:28:03.154Z"
   },
   {
    "duration": 20,
    "start_time": "2022-03-26T09:28:11.439Z"
   },
   {
    "duration": 1311,
    "start_time": "2022-03-26T09:28:16.730Z"
   },
   {
    "duration": 20,
    "start_time": "2022-03-26T09:28:38.139Z"
   },
   {
    "duration": 8,
    "start_time": "2022-03-26T09:28:55.146Z"
   },
   {
    "duration": 234,
    "start_time": "2022-03-26T09:29:01.713Z"
   },
   {
    "duration": 244,
    "start_time": "2022-03-26T09:29:09.742Z"
   },
   {
    "duration": 1878,
    "start_time": "2022-03-26T09:29:17.393Z"
   },
   {
    "duration": 15,
    "start_time": "2022-03-26T09:29:25.275Z"
   },
   {
    "duration": 207,
    "start_time": "2022-03-26T09:29:33.307Z"
   },
   {
    "duration": 33,
    "start_time": "2022-03-26T09:29:43.421Z"
   },
   {
    "duration": 34,
    "start_time": "2022-03-26T09:29:48.525Z"
   },
   {
    "duration": 203,
    "start_time": "2022-03-26T09:30:05.447Z"
   },
   {
    "duration": 174,
    "start_time": "2022-03-26T09:30:24.389Z"
   },
   {
    "duration": 594,
    "start_time": "2022-03-26T09:38:18.338Z"
   },
   {
    "duration": 6148,
    "start_time": "2022-03-26T09:38:30.324Z"
   },
   {
    "duration": 197,
    "start_time": "2022-03-26T09:40:31.570Z"
   },
   {
    "duration": 195,
    "start_time": "2022-03-26T09:40:43.442Z"
   },
   {
    "duration": 195,
    "start_time": "2022-03-26T09:40:50.721Z"
   },
   {
    "duration": 221,
    "start_time": "2022-03-26T09:40:59.562Z"
   },
   {
    "duration": 210,
    "start_time": "2022-03-26T09:41:09.244Z"
   },
   {
    "duration": 189,
    "start_time": "2022-03-26T09:41:20.823Z"
   },
   {
    "duration": 6,
    "start_time": "2022-03-26T09:41:34.550Z"
   },
   {
    "duration": 190,
    "start_time": "2022-03-26T09:41:50.255Z"
   },
   {
    "duration": 192,
    "start_time": "2022-03-26T09:42:34.675Z"
   },
   {
    "duration": 121,
    "start_time": "2022-03-26T11:40:43.876Z"
   },
   {
    "duration": 835,
    "start_time": "2022-03-26T11:40:47.270Z"
   },
   {
    "duration": 22,
    "start_time": "2022-03-26T11:40:48.108Z"
   },
   {
    "duration": 17,
    "start_time": "2022-03-26T11:40:48.132Z"
   },
   {
    "duration": 41,
    "start_time": "2022-03-26T11:40:48.404Z"
   },
   {
    "duration": 183,
    "start_time": "2022-03-26T11:40:49.626Z"
   },
   {
    "duration": 3,
    "start_time": "2022-03-26T11:41:17.600Z"
   },
   {
    "duration": 17,
    "start_time": "2022-03-26T11:41:20.709Z"
   },
   {
    "duration": 6,
    "start_time": "2022-03-26T11:41:48.848Z"
   },
   {
    "duration": 110,
    "start_time": "2022-03-26T11:42:48.477Z"
   },
   {
    "duration": 7,
    "start_time": "2022-03-26T11:42:59.816Z"
   },
   {
    "duration": 117,
    "start_time": "2022-03-26T11:43:12.569Z"
   },
   {
    "duration": 183,
    "start_time": "2022-03-26T11:43:16.599Z"
   },
   {
    "duration": 6,
    "start_time": "2022-03-26T11:44:05.804Z"
   },
   {
    "duration": 4,
    "start_time": "2022-03-26T11:44:58.403Z"
   },
   {
    "duration": 6,
    "start_time": "2022-03-26T11:45:06.758Z"
   },
   {
    "duration": 4,
    "start_time": "2022-03-26T11:45:10.528Z"
   },
   {
    "duration": 5,
    "start_time": "2022-03-26T11:45:10.962Z"
   },
   {
    "duration": 5,
    "start_time": "2022-03-26T11:45:12.789Z"
   },
   {
    "duration": 6,
    "start_time": "2022-03-26T11:45:13.081Z"
   },
   {
    "duration": 4,
    "start_time": "2022-03-26T11:45:16.443Z"
   },
   {
    "duration": 6,
    "start_time": "2022-03-26T11:45:16.651Z"
   },
   {
    "duration": 4,
    "start_time": "2022-03-26T11:45:18.590Z"
   },
   {
    "duration": 6,
    "start_time": "2022-03-26T11:45:18.847Z"
   },
   {
    "duration": 18,
    "start_time": "2022-03-26T11:45:32.970Z"
   },
   {
    "duration": 7,
    "start_time": "2022-03-26T11:45:36.409Z"
   },
   {
    "duration": 5,
    "start_time": "2022-03-26T11:45:42.556Z"
   },
   {
    "duration": 7,
    "start_time": "2022-03-26T11:45:44.921Z"
   },
   {
    "duration": 6,
    "start_time": "2022-03-26T11:45:48.856Z"
   },
   {
    "duration": 12,
    "start_time": "2022-03-26T11:45:50.856Z"
   },
   {
    "duration": 11,
    "start_time": "2022-03-26T11:46:38.348Z"
   },
   {
    "duration": 13,
    "start_time": "2022-03-26T11:47:02.391Z"
   },
   {
    "duration": 11,
    "start_time": "2022-03-26T11:47:09.769Z"
   },
   {
    "duration": 12,
    "start_time": "2022-03-26T11:49:22.314Z"
   },
   {
    "duration": 8,
    "start_time": "2022-03-26T11:49:30.622Z"
   },
   {
    "duration": 17,
    "start_time": "2022-03-26T11:49:39.076Z"
   },
   {
    "duration": 14,
    "start_time": "2022-03-26T11:49:39.299Z"
   },
   {
    "duration": 6,
    "start_time": "2022-03-26T11:56:35.710Z"
   },
   {
    "duration": 27,
    "start_time": "2022-03-26T11:59:04.185Z"
   },
   {
    "duration": 4,
    "start_time": "2022-03-26T12:22:49.514Z"
   },
   {
    "duration": 345,
    "start_time": "2022-03-26T12:25:07.918Z"
   },
   {
    "duration": 331,
    "start_time": "2022-03-26T12:25:18.553Z"
   },
   {
    "duration": 189,
    "start_time": "2022-03-26T12:25:34.379Z"
   },
   {
    "duration": 199,
    "start_time": "2022-03-26T12:26:06.212Z"
   },
   {
    "duration": 199,
    "start_time": "2022-03-26T12:26:13.846Z"
   },
   {
    "duration": 199,
    "start_time": "2022-03-26T12:27:23.002Z"
   },
   {
    "duration": 189,
    "start_time": "2022-03-26T12:27:28.371Z"
   },
   {
    "duration": 218,
    "start_time": "2022-03-26T12:29:07.954Z"
   },
   {
    "duration": 194,
    "start_time": "2022-03-26T12:29:22.537Z"
   },
   {
    "duration": 345,
    "start_time": "2022-03-26T12:29:50.558Z"
   },
   {
    "duration": 222,
    "start_time": "2022-03-26T12:30:08.927Z"
   },
   {
    "duration": 208,
    "start_time": "2022-03-26T12:30:17.619Z"
   },
   {
    "duration": 4,
    "start_time": "2022-03-26T12:31:12.442Z"
   },
   {
    "duration": 15,
    "start_time": "2022-03-26T12:31:29.875Z"
   },
   {
    "duration": 527,
    "start_time": "2022-03-26T12:32:35.538Z"
   },
   {
    "duration": 482,
    "start_time": "2022-03-26T12:32:48.990Z"
   },
   {
    "duration": 309,
    "start_time": "2022-03-26T12:32:58.602Z"
   },
   {
    "duration": 745,
    "start_time": "2022-03-26T12:33:10.061Z"
   },
   {
    "duration": 556,
    "start_time": "2022-03-26T12:33:16.798Z"
   },
   {
    "duration": 617,
    "start_time": "2022-03-26T12:33:20.850Z"
   },
   {
    "duration": 873,
    "start_time": "2022-03-26T12:33:47.574Z"
   },
   {
    "duration": 898,
    "start_time": "2022-03-26T12:34:36.670Z"
   },
   {
    "duration": 1116,
    "start_time": "2022-03-26T12:34:39.993Z"
   },
   {
    "duration": 624,
    "start_time": "2022-03-26T12:35:05.312Z"
   },
   {
    "duration": 928,
    "start_time": "2022-03-26T12:35:11.631Z"
   },
   {
    "duration": 897,
    "start_time": "2022-03-26T12:35:15.055Z"
   },
   {
    "duration": 951,
    "start_time": "2022-03-26T12:36:02.565Z"
   },
   {
    "duration": 1137,
    "start_time": "2022-03-26T12:36:12.549Z"
   },
   {
    "duration": 12,
    "start_time": "2022-03-26T12:49:01.111Z"
   },
   {
    "duration": 12,
    "start_time": "2022-03-26T12:49:16.535Z"
   },
   {
    "duration": 14,
    "start_time": "2022-03-26T12:50:24.066Z"
   },
   {
    "duration": 12,
    "start_time": "2022-03-26T12:50:34.110Z"
   },
   {
    "duration": 1155,
    "start_time": "2022-03-26T12:55:06.837Z"
   },
   {
    "duration": 6,
    "start_time": "2022-03-26T12:55:43.487Z"
   },
   {
    "duration": 1825,
    "start_time": "2022-03-26T12:56:19.566Z"
   },
   {
    "duration": 26,
    "start_time": "2022-03-26T12:56:21.394Z"
   },
   {
    "duration": 19,
    "start_time": "2022-03-26T12:56:21.423Z"
   },
   {
    "duration": 53,
    "start_time": "2022-03-26T12:56:21.444Z"
   },
   {
    "duration": 923,
    "start_time": "2022-03-26T12:56:21.502Z"
   },
   {
    "duration": 7,
    "start_time": "2022-03-26T12:56:22.428Z"
   },
   {
    "duration": 52,
    "start_time": "2022-03-26T12:56:22.438Z"
   },
   {
    "duration": 103,
    "start_time": "2022-03-26T12:56:22.584Z"
   },
   {
    "duration": 2286,
    "start_time": "2022-03-26T14:19:58.971Z"
   },
   {
    "duration": 1064,
    "start_time": "2022-03-26T14:20:26.618Z"
   },
   {
    "duration": 264,
    "start_time": "2022-03-26T14:20:41.026Z"
   },
   {
    "duration": 394,
    "start_time": "2022-03-26T14:20:49.492Z"
   },
   {
    "duration": 164,
    "start_time": "2022-03-26T14:21:27.314Z"
   },
   {
    "duration": 705,
    "start_time": "2022-03-26T14:21:33.888Z"
   },
   {
    "duration": 679,
    "start_time": "2022-03-26T14:22:08.712Z"
   },
   {
    "duration": 233,
    "start_time": "2022-03-26T14:22:23.860Z"
   },
   {
    "duration": 12712,
    "start_time": "2022-03-26T14:23:37.050Z"
   },
   {
    "duration": 1025,
    "start_time": "2022-03-26T14:24:54.271Z"
   },
   {
    "duration": 379,
    "start_time": "2022-03-26T14:26:06.909Z"
   },
   {
    "duration": 436,
    "start_time": "2022-03-26T14:28:38.033Z"
   }
  ],
  "kernelspec": {
   "display_name": "Python 3 (ipykernel)",
   "language": "python",
   "name": "python3"
  },
  "language_info": {
   "codemirror_mode": {
    "name": "ipython",
    "version": 3
   },
   "file_extension": ".py",
   "mimetype": "text/x-python",
   "name": "python",
   "nbconvert_exporter": "python",
   "pygments_lexer": "ipython3",
   "version": "3.9.5"
  },
  "toc": {
   "base_numbering": 1,
   "nav_menu": {},
   "number_sections": false,
   "sideBar": true,
   "skip_h1_title": false,
   "title_cell": "Содержание",
   "title_sidebar": "Contents",
   "toc_cell": false,
   "toc_position": {
    "height": "calc(100% - 180px)",
    "left": "10px",
    "top": "150px",
    "width": "250.396px"
   },
   "toc_section_display": true,
   "toc_window_display": true
  }
 },
 "nbformat": 4,
 "nbformat_minor": 2
}
