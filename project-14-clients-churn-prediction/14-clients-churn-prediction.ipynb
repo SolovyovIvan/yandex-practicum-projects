{
 "cells": [
  {
   "cell_type": "markdown",
   "id": "0f4dd31e",
   "metadata": {},
   "source": [
    "# Прогнозирование оттока клиентов"
   ]
  },
  {
   "cell_type": "markdown",
   "id": "17a37b57",
   "metadata": {},
   "source": [
    "**Описание проекта:** \n",
    "\n",
    "Некоторый оператор связи хочет научиться прогнозировать отток клиентов. Если выяснится, что пользователь планирует уйти, ему будут предложены промокоды и специальные условия.\n",
    "\n",
    "**Цель проекта:** построить модель, прогнозирующую отток пользователей.\n",
    "\n",
    "**Используемые данные:** 4 файла из разных источников.\n",
    "* `contract.csv` — содержит информацию о договоре;\n",
    "* `personal.csv` — содержит персональные данные клиента;\n",
    "* `internet.csv` — содержит информацию об интернет-услугах;\n",
    "* `phone.csv` — содержит информацию информация об услугах телефонии.\n",
    "Информация актуальна на 1 февраля 2020 года.\n",
    "\n",
    "## Оглавление\n",
    "1. [Исследовательский анализ данных](#1)\n",
    "2. [Предобработка данных](#2)\n",
    "3. [Обучение моделей](#3)\n",
    "4. [Проверка модели на тестовой выборке](#4)\n",
    "5. [Заключение](#5)\n",
    "\n",
    "<a id=\"1\"></a>\n",
    "## 1. Исследовательский анализ данных\n",
    "Импортируем необходимые для работы библиотеки."
   ]
  },
  {
   "cell_type": "code",
   "execution_count": 1,
   "id": "c300d90d",
   "metadata": {},
   "outputs": [],
   "source": [
    "from catboost import CatBoostClassifier\n",
    "from sklearn.compose import ColumnTransformer\n",
    "from sklearn.ensemble import RandomForestClassifier\n",
    "from sklearn.linear_model import LogisticRegression\n",
    "from sklearn.metrics import accuracy_score, roc_auc_score\n",
    "from sklearn.model_selection import GridSearchCV, train_test_split\n",
    "from sklearn.pipeline import Pipeline\n",
    "from sklearn.preprocessing import OneHotEncoder, StandardScaler\n",
    "from sklearn.svm import SVC\n",
    "import pandas as pd"
   ]
  },
  {
   "cell_type": "markdown",
   "id": "c517df2c",
   "metadata": {},
   "source": [
    "Считаем файлы с данными, для удобства сохраним наборы данных в словарь. "
   ]
  },
  {
   "cell_type": "code",
   "execution_count": 2,
   "id": "e95764f4",
   "metadata": {},
   "outputs": [],
   "source": [
    "contract = pd.read_csv(\"/datasets/final_provider/contract.csv\")\n",
    "personal = pd.read_csv(\"/datasets/final_provider/personal.csv\")\n",
    "internet = pd.read_csv(\"/datasets/final_provider/internet.csv\")\n",
    "phone = pd.read_csv(\"/datasets/final_provider/phone.csv\")"
   ]
  },
  {
   "cell_type": "code",
   "execution_count": 3,
   "id": "4a5f6171",
   "metadata": {},
   "outputs": [],
   "source": [
    "data = {\n",
    "    \"contract\": contract,\n",
    "    \"personal\": personal,\n",
    "    \"internet\": internet,\n",
    "    \"phone\": phone\n",
    "}"
   ]
  },
  {
   "cell_type": "markdown",
   "id": "dd1e3330",
   "metadata": {},
   "source": [
    "Убедимся, что данные считались без ошибок."
   ]
  },
  {
   "cell_type": "code",
   "execution_count": 4,
   "id": "25cdcd2c",
   "metadata": {},
   "outputs": [
    {
     "name": "stdout",
     "output_type": "stream",
     "text": [
      "Dataframe: contract\n"
     ]
    },
    {
     "data": {
      "text/html": [
       "<div>\n",
       "<style scoped>\n",
       "    .dataframe tbody tr th:only-of-type {\n",
       "        vertical-align: middle;\n",
       "    }\n",
       "\n",
       "    .dataframe tbody tr th {\n",
       "        vertical-align: top;\n",
       "    }\n",
       "\n",
       "    .dataframe thead th {\n",
       "        text-align: right;\n",
       "    }\n",
       "</style>\n",
       "<table border=\"1\" class=\"dataframe\">\n",
       "  <thead>\n",
       "    <tr style=\"text-align: right;\">\n",
       "      <th></th>\n",
       "      <th>customerID</th>\n",
       "      <th>BeginDate</th>\n",
       "      <th>EndDate</th>\n",
       "      <th>Type</th>\n",
       "      <th>PaperlessBilling</th>\n",
       "      <th>PaymentMethod</th>\n",
       "      <th>MonthlyCharges</th>\n",
       "      <th>TotalCharges</th>\n",
       "    </tr>\n",
       "  </thead>\n",
       "  <tbody>\n",
       "    <tr>\n",
       "      <th>0</th>\n",
       "      <td>7590-VHVEG</td>\n",
       "      <td>2020-01-01</td>\n",
       "      <td>No</td>\n",
       "      <td>Month-to-month</td>\n",
       "      <td>Yes</td>\n",
       "      <td>Electronic check</td>\n",
       "      <td>29.85</td>\n",
       "      <td>29.85</td>\n",
       "    </tr>\n",
       "    <tr>\n",
       "      <th>1</th>\n",
       "      <td>5575-GNVDE</td>\n",
       "      <td>2017-04-01</td>\n",
       "      <td>No</td>\n",
       "      <td>One year</td>\n",
       "      <td>No</td>\n",
       "      <td>Mailed check</td>\n",
       "      <td>56.95</td>\n",
       "      <td>1889.5</td>\n",
       "    </tr>\n",
       "    <tr>\n",
       "      <th>2</th>\n",
       "      <td>3668-QPYBK</td>\n",
       "      <td>2019-10-01</td>\n",
       "      <td>2019-12-01 00:00:00</td>\n",
       "      <td>Month-to-month</td>\n",
       "      <td>Yes</td>\n",
       "      <td>Mailed check</td>\n",
       "      <td>53.85</td>\n",
       "      <td>108.15</td>\n",
       "    </tr>\n",
       "    <tr>\n",
       "      <th>3</th>\n",
       "      <td>7795-CFOCW</td>\n",
       "      <td>2016-05-01</td>\n",
       "      <td>No</td>\n",
       "      <td>One year</td>\n",
       "      <td>No</td>\n",
       "      <td>Bank transfer (automatic)</td>\n",
       "      <td>42.30</td>\n",
       "      <td>1840.75</td>\n",
       "    </tr>\n",
       "    <tr>\n",
       "      <th>4</th>\n",
       "      <td>9237-HQITU</td>\n",
       "      <td>2019-09-01</td>\n",
       "      <td>2019-11-01 00:00:00</td>\n",
       "      <td>Month-to-month</td>\n",
       "      <td>Yes</td>\n",
       "      <td>Electronic check</td>\n",
       "      <td>70.70</td>\n",
       "      <td>151.65</td>\n",
       "    </tr>\n",
       "  </tbody>\n",
       "</table>\n",
       "</div>"
      ],
      "text/plain": [
       "   customerID   BeginDate              EndDate            Type  \\\n",
       "0  7590-VHVEG  2020-01-01                   No  Month-to-month   \n",
       "1  5575-GNVDE  2017-04-01                   No        One year   \n",
       "2  3668-QPYBK  2019-10-01  2019-12-01 00:00:00  Month-to-month   \n",
       "3  7795-CFOCW  2016-05-01                   No        One year   \n",
       "4  9237-HQITU  2019-09-01  2019-11-01 00:00:00  Month-to-month   \n",
       "\n",
       "  PaperlessBilling              PaymentMethod  MonthlyCharges TotalCharges  \n",
       "0              Yes           Electronic check           29.85        29.85  \n",
       "1               No               Mailed check           56.95       1889.5  \n",
       "2              Yes               Mailed check           53.85       108.15  \n",
       "3               No  Bank transfer (automatic)           42.30      1840.75  \n",
       "4              Yes           Electronic check           70.70       151.65  "
      ]
     },
     "metadata": {},
     "output_type": "display_data"
    },
    {
     "name": "stdout",
     "output_type": "stream",
     "text": [
      "\n",
      "\n",
      "------------------------------------------------------------------------------------------\n",
      "Dataframe: personal\n"
     ]
    },
    {
     "data": {
      "text/html": [
       "<div>\n",
       "<style scoped>\n",
       "    .dataframe tbody tr th:only-of-type {\n",
       "        vertical-align: middle;\n",
       "    }\n",
       "\n",
       "    .dataframe tbody tr th {\n",
       "        vertical-align: top;\n",
       "    }\n",
       "\n",
       "    .dataframe thead th {\n",
       "        text-align: right;\n",
       "    }\n",
       "</style>\n",
       "<table border=\"1\" class=\"dataframe\">\n",
       "  <thead>\n",
       "    <tr style=\"text-align: right;\">\n",
       "      <th></th>\n",
       "      <th>customerID</th>\n",
       "      <th>gender</th>\n",
       "      <th>SeniorCitizen</th>\n",
       "      <th>Partner</th>\n",
       "      <th>Dependents</th>\n",
       "    </tr>\n",
       "  </thead>\n",
       "  <tbody>\n",
       "    <tr>\n",
       "      <th>0</th>\n",
       "      <td>7590-VHVEG</td>\n",
       "      <td>Female</td>\n",
       "      <td>0</td>\n",
       "      <td>Yes</td>\n",
       "      <td>No</td>\n",
       "    </tr>\n",
       "    <tr>\n",
       "      <th>1</th>\n",
       "      <td>5575-GNVDE</td>\n",
       "      <td>Male</td>\n",
       "      <td>0</td>\n",
       "      <td>No</td>\n",
       "      <td>No</td>\n",
       "    </tr>\n",
       "    <tr>\n",
       "      <th>2</th>\n",
       "      <td>3668-QPYBK</td>\n",
       "      <td>Male</td>\n",
       "      <td>0</td>\n",
       "      <td>No</td>\n",
       "      <td>No</td>\n",
       "    </tr>\n",
       "    <tr>\n",
       "      <th>3</th>\n",
       "      <td>7795-CFOCW</td>\n",
       "      <td>Male</td>\n",
       "      <td>0</td>\n",
       "      <td>No</td>\n",
       "      <td>No</td>\n",
       "    </tr>\n",
       "    <tr>\n",
       "      <th>4</th>\n",
       "      <td>9237-HQITU</td>\n",
       "      <td>Female</td>\n",
       "      <td>0</td>\n",
       "      <td>No</td>\n",
       "      <td>No</td>\n",
       "    </tr>\n",
       "  </tbody>\n",
       "</table>\n",
       "</div>"
      ],
      "text/plain": [
       "   customerID  gender  SeniorCitizen Partner Dependents\n",
       "0  7590-VHVEG  Female              0     Yes         No\n",
       "1  5575-GNVDE    Male              0      No         No\n",
       "2  3668-QPYBK    Male              0      No         No\n",
       "3  7795-CFOCW    Male              0      No         No\n",
       "4  9237-HQITU  Female              0      No         No"
      ]
     },
     "metadata": {},
     "output_type": "display_data"
    },
    {
     "name": "stdout",
     "output_type": "stream",
     "text": [
      "\n",
      "\n",
      "------------------------------------------------------------------------------------------\n",
      "Dataframe: internet\n"
     ]
    },
    {
     "data": {
      "text/html": [
       "<div>\n",
       "<style scoped>\n",
       "    .dataframe tbody tr th:only-of-type {\n",
       "        vertical-align: middle;\n",
       "    }\n",
       "\n",
       "    .dataframe tbody tr th {\n",
       "        vertical-align: top;\n",
       "    }\n",
       "\n",
       "    .dataframe thead th {\n",
       "        text-align: right;\n",
       "    }\n",
       "</style>\n",
       "<table border=\"1\" class=\"dataframe\">\n",
       "  <thead>\n",
       "    <tr style=\"text-align: right;\">\n",
       "      <th></th>\n",
       "      <th>customerID</th>\n",
       "      <th>InternetService</th>\n",
       "      <th>OnlineSecurity</th>\n",
       "      <th>OnlineBackup</th>\n",
       "      <th>DeviceProtection</th>\n",
       "      <th>TechSupport</th>\n",
       "      <th>StreamingTV</th>\n",
       "      <th>StreamingMovies</th>\n",
       "    </tr>\n",
       "  </thead>\n",
       "  <tbody>\n",
       "    <tr>\n",
       "      <th>0</th>\n",
       "      <td>7590-VHVEG</td>\n",
       "      <td>DSL</td>\n",
       "      <td>No</td>\n",
       "      <td>Yes</td>\n",
       "      <td>No</td>\n",
       "      <td>No</td>\n",
       "      <td>No</td>\n",
       "      <td>No</td>\n",
       "    </tr>\n",
       "    <tr>\n",
       "      <th>1</th>\n",
       "      <td>5575-GNVDE</td>\n",
       "      <td>DSL</td>\n",
       "      <td>Yes</td>\n",
       "      <td>No</td>\n",
       "      <td>Yes</td>\n",
       "      <td>No</td>\n",
       "      <td>No</td>\n",
       "      <td>No</td>\n",
       "    </tr>\n",
       "    <tr>\n",
       "      <th>2</th>\n",
       "      <td>3668-QPYBK</td>\n",
       "      <td>DSL</td>\n",
       "      <td>Yes</td>\n",
       "      <td>Yes</td>\n",
       "      <td>No</td>\n",
       "      <td>No</td>\n",
       "      <td>No</td>\n",
       "      <td>No</td>\n",
       "    </tr>\n",
       "    <tr>\n",
       "      <th>3</th>\n",
       "      <td>7795-CFOCW</td>\n",
       "      <td>DSL</td>\n",
       "      <td>Yes</td>\n",
       "      <td>No</td>\n",
       "      <td>Yes</td>\n",
       "      <td>Yes</td>\n",
       "      <td>No</td>\n",
       "      <td>No</td>\n",
       "    </tr>\n",
       "    <tr>\n",
       "      <th>4</th>\n",
       "      <td>9237-HQITU</td>\n",
       "      <td>Fiber optic</td>\n",
       "      <td>No</td>\n",
       "      <td>No</td>\n",
       "      <td>No</td>\n",
       "      <td>No</td>\n",
       "      <td>No</td>\n",
       "      <td>No</td>\n",
       "    </tr>\n",
       "  </tbody>\n",
       "</table>\n",
       "</div>"
      ],
      "text/plain": [
       "   customerID InternetService OnlineSecurity OnlineBackup DeviceProtection  \\\n",
       "0  7590-VHVEG             DSL             No          Yes               No   \n",
       "1  5575-GNVDE             DSL            Yes           No              Yes   \n",
       "2  3668-QPYBK             DSL            Yes          Yes               No   \n",
       "3  7795-CFOCW             DSL            Yes           No              Yes   \n",
       "4  9237-HQITU     Fiber optic             No           No               No   \n",
       "\n",
       "  TechSupport StreamingTV StreamingMovies  \n",
       "0          No          No              No  \n",
       "1          No          No              No  \n",
       "2          No          No              No  \n",
       "3         Yes          No              No  \n",
       "4          No          No              No  "
      ]
     },
     "metadata": {},
     "output_type": "display_data"
    },
    {
     "name": "stdout",
     "output_type": "stream",
     "text": [
      "\n",
      "\n",
      "------------------------------------------------------------------------------------------\n",
      "Dataframe: phone\n"
     ]
    },
    {
     "data": {
      "text/html": [
       "<div>\n",
       "<style scoped>\n",
       "    .dataframe tbody tr th:only-of-type {\n",
       "        vertical-align: middle;\n",
       "    }\n",
       "\n",
       "    .dataframe tbody tr th {\n",
       "        vertical-align: top;\n",
       "    }\n",
       "\n",
       "    .dataframe thead th {\n",
       "        text-align: right;\n",
       "    }\n",
       "</style>\n",
       "<table border=\"1\" class=\"dataframe\">\n",
       "  <thead>\n",
       "    <tr style=\"text-align: right;\">\n",
       "      <th></th>\n",
       "      <th>customerID</th>\n",
       "      <th>MultipleLines</th>\n",
       "    </tr>\n",
       "  </thead>\n",
       "  <tbody>\n",
       "    <tr>\n",
       "      <th>0</th>\n",
       "      <td>5575-GNVDE</td>\n",
       "      <td>No</td>\n",
       "    </tr>\n",
       "    <tr>\n",
       "      <th>1</th>\n",
       "      <td>3668-QPYBK</td>\n",
       "      <td>No</td>\n",
       "    </tr>\n",
       "    <tr>\n",
       "      <th>2</th>\n",
       "      <td>9237-HQITU</td>\n",
       "      <td>No</td>\n",
       "    </tr>\n",
       "    <tr>\n",
       "      <th>3</th>\n",
       "      <td>9305-CDSKC</td>\n",
       "      <td>Yes</td>\n",
       "    </tr>\n",
       "    <tr>\n",
       "      <th>4</th>\n",
       "      <td>1452-KIOVK</td>\n",
       "      <td>Yes</td>\n",
       "    </tr>\n",
       "  </tbody>\n",
       "</table>\n",
       "</div>"
      ],
      "text/plain": [
       "   customerID MultipleLines\n",
       "0  5575-GNVDE            No\n",
       "1  3668-QPYBK            No\n",
       "2  9237-HQITU            No\n",
       "3  9305-CDSKC           Yes\n",
       "4  1452-KIOVK           Yes"
      ]
     },
     "metadata": {},
     "output_type": "display_data"
    },
    {
     "name": "stdout",
     "output_type": "stream",
     "text": [
      "\n",
      "\n",
      "------------------------------------------------------------------------------------------\n"
     ]
    }
   ],
   "source": [
    "for name, dataframe in data.items():\n",
    "    print(\"Dataframe:\", name)\n",
    "    display(dataframe.head())\n",
    "    print(\"\\n\")\n",
    "    print(30 * \"---\")"
   ]
  },
  {
   "cell_type": "markdown",
   "id": "85d55b3b",
   "metadata": {},
   "source": [
    "Данные выглядят нормально. Теперь выведем общую информацию о данных в каждой таблице."
   ]
  },
  {
   "cell_type": "code",
   "execution_count": 5,
   "id": "eb32b889",
   "metadata": {},
   "outputs": [
    {
     "name": "stdout",
     "output_type": "stream",
     "text": [
      "Dataframe: contract\n",
      "<class 'pandas.core.frame.DataFrame'>\n",
      "RangeIndex: 7043 entries, 0 to 7042\n",
      "Data columns (total 8 columns):\n",
      " #   Column            Non-Null Count  Dtype  \n",
      "---  ------            --------------  -----  \n",
      " 0   customerID        7043 non-null   object \n",
      " 1   BeginDate         7043 non-null   object \n",
      " 2   EndDate           7043 non-null   object \n",
      " 3   Type              7043 non-null   object \n",
      " 4   PaperlessBilling  7043 non-null   object \n",
      " 5   PaymentMethod     7043 non-null   object \n",
      " 6   MonthlyCharges    7043 non-null   float64\n",
      " 7   TotalCharges      7043 non-null   object \n",
      "dtypes: float64(1), object(7)\n",
      "memory usage: 440.3+ KB\n",
      "\n",
      "\n",
      "------------------------------------------------------------\n",
      "Dataframe: personal\n",
      "<class 'pandas.core.frame.DataFrame'>\n",
      "RangeIndex: 7043 entries, 0 to 7042\n",
      "Data columns (total 5 columns):\n",
      " #   Column         Non-Null Count  Dtype \n",
      "---  ------         --------------  ----- \n",
      " 0   customerID     7043 non-null   object\n",
      " 1   gender         7043 non-null   object\n",
      " 2   SeniorCitizen  7043 non-null   int64 \n",
      " 3   Partner        7043 non-null   object\n",
      " 4   Dependents     7043 non-null   object\n",
      "dtypes: int64(1), object(4)\n",
      "memory usage: 275.2+ KB\n",
      "\n",
      "\n",
      "------------------------------------------------------------\n",
      "Dataframe: internet\n",
      "<class 'pandas.core.frame.DataFrame'>\n",
      "RangeIndex: 5517 entries, 0 to 5516\n",
      "Data columns (total 8 columns):\n",
      " #   Column            Non-Null Count  Dtype \n",
      "---  ------            --------------  ----- \n",
      " 0   customerID        5517 non-null   object\n",
      " 1   InternetService   5517 non-null   object\n",
      " 2   OnlineSecurity    5517 non-null   object\n",
      " 3   OnlineBackup      5517 non-null   object\n",
      " 4   DeviceProtection  5517 non-null   object\n",
      " 5   TechSupport       5517 non-null   object\n",
      " 6   StreamingTV       5517 non-null   object\n",
      " 7   StreamingMovies   5517 non-null   object\n",
      "dtypes: object(8)\n",
      "memory usage: 344.9+ KB\n",
      "\n",
      "\n",
      "------------------------------------------------------------\n",
      "Dataframe: phone\n",
      "<class 'pandas.core.frame.DataFrame'>\n",
      "RangeIndex: 6361 entries, 0 to 6360\n",
      "Data columns (total 2 columns):\n",
      " #   Column         Non-Null Count  Dtype \n",
      "---  ------         --------------  ----- \n",
      " 0   customerID     6361 non-null   object\n",
      " 1   MultipleLines  6361 non-null   object\n",
      "dtypes: object(2)\n",
      "memory usage: 99.5+ KB\n",
      "\n",
      "\n",
      "------------------------------------------------------------\n"
     ]
    }
   ],
   "source": [
    "for name, dataframe in data.items():\n",
    "    print(\"Dataframe:\", name)\n",
    "    dataframe.info()\n",
    "    print(\"\\n\")\n",
    "    print(30 * \"--\")"
   ]
  },
  {
   "cell_type": "markdown",
   "id": "f88d401f",
   "metadata": {},
   "source": [
    "Пропущенных значений нет. Можно заметить, что таблицы разной длины. Это вызвано тем, что не все пользователи используют и интернет, и телефонную связь.\n",
    "\n",
    "Посмотрим на значения столбца `TotalCharges` в таблице `contract`. Это данные о суммарных платежах клиента, но они представлены типом `object`. Посмотрим на значения этого признака. "
   ]
  },
  {
   "cell_type": "code",
   "execution_count": 6,
   "id": "dd516305",
   "metadata": {},
   "outputs": [
    {
     "data": {
      "text/plain": [
       "           11\n",
       "20.2       11\n",
       "19.75       9\n",
       "19.9        8\n",
       "19.65       8\n",
       "           ..\n",
       "7774.05     1\n",
       "155.9       1\n",
       "921.4       1\n",
       "811.65      1\n",
       "2349.8      1\n",
       "Name: TotalCharges, Length: 6531, dtype: int64"
      ]
     },
     "execution_count": 6,
     "metadata": {},
     "output_type": "execute_result"
    }
   ],
   "source": [
    "contract_values = contract[\"TotalCharges\"].value_counts()\n",
    "contract_values"
   ]
  },
  {
   "cell_type": "markdown",
   "id": "2cac5e7d",
   "metadata": {},
   "source": [
    "Видно, что в данных есть некорректное значение — пробел вместо числа. Посмотрим, у каких пользователей вместо суммы платежей указан пробел."
   ]
  },
  {
   "cell_type": "code",
   "execution_count": 7,
   "id": "7e205829",
   "metadata": {},
   "outputs": [
    {
     "data": {
      "text/html": [
       "<div>\n",
       "<style scoped>\n",
       "    .dataframe tbody tr th:only-of-type {\n",
       "        vertical-align: middle;\n",
       "    }\n",
       "\n",
       "    .dataframe tbody tr th {\n",
       "        vertical-align: top;\n",
       "    }\n",
       "\n",
       "    .dataframe thead th {\n",
       "        text-align: right;\n",
       "    }\n",
       "</style>\n",
       "<table border=\"1\" class=\"dataframe\">\n",
       "  <thead>\n",
       "    <tr style=\"text-align: right;\">\n",
       "      <th></th>\n",
       "      <th>customerID</th>\n",
       "      <th>BeginDate</th>\n",
       "      <th>EndDate</th>\n",
       "      <th>Type</th>\n",
       "      <th>PaperlessBilling</th>\n",
       "      <th>PaymentMethod</th>\n",
       "      <th>MonthlyCharges</th>\n",
       "      <th>TotalCharges</th>\n",
       "    </tr>\n",
       "  </thead>\n",
       "  <tbody>\n",
       "    <tr>\n",
       "      <th>488</th>\n",
       "      <td>4472-LVYGI</td>\n",
       "      <td>2020-02-01</td>\n",
       "      <td>No</td>\n",
       "      <td>Two year</td>\n",
       "      <td>Yes</td>\n",
       "      <td>Bank transfer (automatic)</td>\n",
       "      <td>52.55</td>\n",
       "      <td></td>\n",
       "    </tr>\n",
       "    <tr>\n",
       "      <th>753</th>\n",
       "      <td>3115-CZMZD</td>\n",
       "      <td>2020-02-01</td>\n",
       "      <td>No</td>\n",
       "      <td>Two year</td>\n",
       "      <td>No</td>\n",
       "      <td>Mailed check</td>\n",
       "      <td>20.25</td>\n",
       "      <td></td>\n",
       "    </tr>\n",
       "    <tr>\n",
       "      <th>936</th>\n",
       "      <td>5709-LVOEQ</td>\n",
       "      <td>2020-02-01</td>\n",
       "      <td>No</td>\n",
       "      <td>Two year</td>\n",
       "      <td>No</td>\n",
       "      <td>Mailed check</td>\n",
       "      <td>80.85</td>\n",
       "      <td></td>\n",
       "    </tr>\n",
       "    <tr>\n",
       "      <th>1082</th>\n",
       "      <td>4367-NUYAO</td>\n",
       "      <td>2020-02-01</td>\n",
       "      <td>No</td>\n",
       "      <td>Two year</td>\n",
       "      <td>No</td>\n",
       "      <td>Mailed check</td>\n",
       "      <td>25.75</td>\n",
       "      <td></td>\n",
       "    </tr>\n",
       "    <tr>\n",
       "      <th>1340</th>\n",
       "      <td>1371-DWPAZ</td>\n",
       "      <td>2020-02-01</td>\n",
       "      <td>No</td>\n",
       "      <td>Two year</td>\n",
       "      <td>No</td>\n",
       "      <td>Credit card (automatic)</td>\n",
       "      <td>56.05</td>\n",
       "      <td></td>\n",
       "    </tr>\n",
       "    <tr>\n",
       "      <th>3331</th>\n",
       "      <td>7644-OMVMY</td>\n",
       "      <td>2020-02-01</td>\n",
       "      <td>No</td>\n",
       "      <td>Two year</td>\n",
       "      <td>No</td>\n",
       "      <td>Mailed check</td>\n",
       "      <td>19.85</td>\n",
       "      <td></td>\n",
       "    </tr>\n",
       "    <tr>\n",
       "      <th>3826</th>\n",
       "      <td>3213-VVOLG</td>\n",
       "      <td>2020-02-01</td>\n",
       "      <td>No</td>\n",
       "      <td>Two year</td>\n",
       "      <td>No</td>\n",
       "      <td>Mailed check</td>\n",
       "      <td>25.35</td>\n",
       "      <td></td>\n",
       "    </tr>\n",
       "    <tr>\n",
       "      <th>4380</th>\n",
       "      <td>2520-SGTTA</td>\n",
       "      <td>2020-02-01</td>\n",
       "      <td>No</td>\n",
       "      <td>Two year</td>\n",
       "      <td>No</td>\n",
       "      <td>Mailed check</td>\n",
       "      <td>20.00</td>\n",
       "      <td></td>\n",
       "    </tr>\n",
       "    <tr>\n",
       "      <th>5218</th>\n",
       "      <td>2923-ARZLG</td>\n",
       "      <td>2020-02-01</td>\n",
       "      <td>No</td>\n",
       "      <td>One year</td>\n",
       "      <td>Yes</td>\n",
       "      <td>Mailed check</td>\n",
       "      <td>19.70</td>\n",
       "      <td></td>\n",
       "    </tr>\n",
       "    <tr>\n",
       "      <th>6670</th>\n",
       "      <td>4075-WKNIU</td>\n",
       "      <td>2020-02-01</td>\n",
       "      <td>No</td>\n",
       "      <td>Two year</td>\n",
       "      <td>No</td>\n",
       "      <td>Mailed check</td>\n",
       "      <td>73.35</td>\n",
       "      <td></td>\n",
       "    </tr>\n",
       "    <tr>\n",
       "      <th>6754</th>\n",
       "      <td>2775-SEFEE</td>\n",
       "      <td>2020-02-01</td>\n",
       "      <td>No</td>\n",
       "      <td>Two year</td>\n",
       "      <td>Yes</td>\n",
       "      <td>Bank transfer (automatic)</td>\n",
       "      <td>61.90</td>\n",
       "      <td></td>\n",
       "    </tr>\n",
       "  </tbody>\n",
       "</table>\n",
       "</div>"
      ],
      "text/plain": [
       "      customerID   BeginDate EndDate      Type PaperlessBilling  \\\n",
       "488   4472-LVYGI  2020-02-01      No  Two year              Yes   \n",
       "753   3115-CZMZD  2020-02-01      No  Two year               No   \n",
       "936   5709-LVOEQ  2020-02-01      No  Two year               No   \n",
       "1082  4367-NUYAO  2020-02-01      No  Two year               No   \n",
       "1340  1371-DWPAZ  2020-02-01      No  Two year               No   \n",
       "3331  7644-OMVMY  2020-02-01      No  Two year               No   \n",
       "3826  3213-VVOLG  2020-02-01      No  Two year               No   \n",
       "4380  2520-SGTTA  2020-02-01      No  Two year               No   \n",
       "5218  2923-ARZLG  2020-02-01      No  One year              Yes   \n",
       "6670  4075-WKNIU  2020-02-01      No  Two year               No   \n",
       "6754  2775-SEFEE  2020-02-01      No  Two year              Yes   \n",
       "\n",
       "                  PaymentMethod  MonthlyCharges TotalCharges  \n",
       "488   Bank transfer (automatic)           52.55               \n",
       "753                Mailed check           20.25               \n",
       "936                Mailed check           80.85               \n",
       "1082               Mailed check           25.75               \n",
       "1340    Credit card (automatic)           56.05               \n",
       "3331               Mailed check           19.85               \n",
       "3826               Mailed check           25.35               \n",
       "4380               Mailed check           20.00               \n",
       "5218               Mailed check           19.70               \n",
       "6670               Mailed check           73.35               \n",
       "6754  Bank transfer (automatic)           61.90               "
      ]
     },
     "execution_count": 7,
     "metadata": {},
     "output_type": "execute_result"
    }
   ],
   "source": [
    "contract[contract[\"TotalCharges\"] == \" \"]"
   ]
  },
  {
   "cell_type": "markdown",
   "id": "4f0b59ff",
   "metadata": {},
   "source": [
    "Анализ показывает, что пробел вместо суммы платежей указан у новых пользователей, которые ещё не сделали ни одного платежа, потому что только начали пользоваться услугами компании. Исходя из этого, заменим `TotalCharges` нулём. Также приведём этот признак к правильному типу (`float`). "
   ]
  },
  {
   "cell_type": "code",
   "execution_count": 8,
   "id": "69b65a99",
   "metadata": {},
   "outputs": [],
   "source": [
    "to_replace = \" \"\n",
    "contract[\"TotalCharges\"].replace(to_replace=to_replace, \n",
    "                                 value=0, \n",
    "                                 inplace=True)\n",
    "\n",
    "contract[\"TotalCharges\"] = contract[\"TotalCharges\"].astype(float)"
   ]
  },
  {
   "cell_type": "markdown",
   "id": "c8a85252",
   "metadata": {},
   "source": [
    "Посмотрим на статистические параметры числовых признаков."
   ]
  },
  {
   "cell_type": "code",
   "execution_count": 9,
   "id": "d814a332",
   "metadata": {},
   "outputs": [
    {
     "data": {
      "text/html": [
       "<div>\n",
       "<style scoped>\n",
       "    .dataframe tbody tr th:only-of-type {\n",
       "        vertical-align: middle;\n",
       "    }\n",
       "\n",
       "    .dataframe tbody tr th {\n",
       "        vertical-align: top;\n",
       "    }\n",
       "\n",
       "    .dataframe thead th {\n",
       "        text-align: right;\n",
       "    }\n",
       "</style>\n",
       "<table border=\"1\" class=\"dataframe\">\n",
       "  <thead>\n",
       "    <tr style=\"text-align: right;\">\n",
       "      <th></th>\n",
       "      <th>count</th>\n",
       "      <th>mean</th>\n",
       "      <th>std</th>\n",
       "      <th>min</th>\n",
       "      <th>25%</th>\n",
       "      <th>50%</th>\n",
       "      <th>75%</th>\n",
       "      <th>max</th>\n",
       "    </tr>\n",
       "  </thead>\n",
       "  <tbody>\n",
       "    <tr>\n",
       "      <th>MonthlyCharges</th>\n",
       "      <td>7043.0</td>\n",
       "      <td>64.761692</td>\n",
       "      <td>30.090047</td>\n",
       "      <td>18.25</td>\n",
       "      <td>35.50</td>\n",
       "      <td>70.35</td>\n",
       "      <td>89.85</td>\n",
       "      <td>118.75</td>\n",
       "    </tr>\n",
       "    <tr>\n",
       "      <th>TotalCharges</th>\n",
       "      <td>7043.0</td>\n",
       "      <td>2279.734304</td>\n",
       "      <td>2266.794470</td>\n",
       "      <td>0.00</td>\n",
       "      <td>398.55</td>\n",
       "      <td>1394.55</td>\n",
       "      <td>3786.60</td>\n",
       "      <td>8684.80</td>\n",
       "    </tr>\n",
       "  </tbody>\n",
       "</table>\n",
       "</div>"
      ],
      "text/plain": [
       "                 count         mean          std    min     25%      50%  \\\n",
       "MonthlyCharges  7043.0    64.761692    30.090047  18.25   35.50    70.35   \n",
       "TotalCharges    7043.0  2279.734304  2266.794470   0.00  398.55  1394.55   \n",
       "\n",
       "                    75%      max  \n",
       "MonthlyCharges    89.85   118.75  \n",
       "TotalCharges    3786.60  8684.80  "
      ]
     },
     "execution_count": 9,
     "metadata": {},
     "output_type": "execute_result"
    }
   ],
   "source": [
    "contract.describe().T"
   ]
  },
  {
   "cell_type": "markdown",
   "id": "492dc228",
   "metadata": {},
   "source": [
    "Аномалий в признаках не видно, построим гистограммы распределений."
   ]
  },
  {
   "cell_type": "code",
   "execution_count": 10,
   "id": "20c6dc1e",
   "metadata": {},
   "outputs": [
    {
     "data": {
      "image/png": "[encoded data removed]",
      "text/plain": [
       "<Figure size 432x288 with 1 Axes>"
      ]
     },
     "metadata": {
      "needs_background": "light"
     },
     "output_type": "display_data"
    }
   ],
   "source": [
    "contract[\"MonthlyCharges\"].plot(kind=\"hist\", title=\"Monthly Charges\", \n",
    "                                bins=20, grid=True);"
   ]
  },
  {
   "cell_type": "code",
   "execution_count": 11,
   "id": "357472e6",
   "metadata": {},
   "outputs": [
    {
     "data": {
      "image/png": "[encoded data removed]",
      "text/plain": [
       "<Figure size 432x288 with 1 Axes>"
      ]
     },
     "metadata": {
      "needs_background": "light"
     },
     "output_type": "display_data"
    }
   ],
   "source": [
    "contract[\"TotalCharges\"].plot(kind=\"hist\", title=\"Total Charges\", \n",
    "                                bins=20, grid=True);"
   ]
  },
  {
   "cell_type": "markdown",
   "id": "6620a00e",
   "metadata": {},
   "source": [
    "Здесь ничего не бросается в глаза. На этом закончим исследовать данные и перейдём к предобработке.  \n",
    "\n",
    "<a id=\"2\"></a>\n",
    "## 2. Предобработка данных\n",
    "\n",
    "Поскольку `customerID` — это уникальный идентификатор пользователя, будем использовать его в качестве индексов в таблицах."
   ]
  },
  {
   "cell_type": "code",
   "execution_count": 12,
   "id": "739571b0",
   "metadata": {},
   "outputs": [],
   "source": [
    "for dataset in data.values():\n",
    "    dataset.set_index(\"customerID\", inplace=True)    "
   ]
  },
  {
   "cell_type": "code",
   "execution_count": 13,
   "id": "31612b8e",
   "metadata": {},
   "outputs": [
    {
     "data": {
      "text/html": [
       "<div>\n",
       "<style scoped>\n",
       "    .dataframe tbody tr th:only-of-type {\n",
       "        vertical-align: middle;\n",
       "    }\n",
       "\n",
       "    .dataframe tbody tr th {\n",
       "        vertical-align: top;\n",
       "    }\n",
       "\n",
       "    .dataframe thead th {\n",
       "        text-align: right;\n",
       "    }\n",
       "</style>\n",
       "<table border=\"1\" class=\"dataframe\">\n",
       "  <thead>\n",
       "    <tr style=\"text-align: right;\">\n",
       "      <th></th>\n",
       "      <th>BeginDate</th>\n",
       "      <th>EndDate</th>\n",
       "      <th>Type</th>\n",
       "      <th>PaperlessBilling</th>\n",
       "      <th>PaymentMethod</th>\n",
       "      <th>MonthlyCharges</th>\n",
       "      <th>TotalCharges</th>\n",
       "      <th>gender</th>\n",
       "      <th>SeniorCitizen</th>\n",
       "      <th>Partner</th>\n",
       "      <th>Dependents</th>\n",
       "      <th>InternetService</th>\n",
       "      <th>OnlineSecurity</th>\n",
       "      <th>OnlineBackup</th>\n",
       "      <th>DeviceProtection</th>\n",
       "      <th>TechSupport</th>\n",
       "      <th>StreamingTV</th>\n",
       "      <th>StreamingMovies</th>\n",
       "      <th>MultipleLines</th>\n",
       "    </tr>\n",
       "    <tr>\n",
       "      <th>customerID</th>\n",
       "      <th></th>\n",
       "      <th></th>\n",
       "      <th></th>\n",
       "      <th></th>\n",
       "      <th></th>\n",
       "      <th></th>\n",
       "      <th></th>\n",
       "      <th></th>\n",
       "      <th></th>\n",
       "      <th></th>\n",
       "      <th></th>\n",
       "      <th></th>\n",
       "      <th></th>\n",
       "      <th></th>\n",
       "      <th></th>\n",
       "      <th></th>\n",
       "      <th></th>\n",
       "      <th></th>\n",
       "      <th></th>\n",
       "    </tr>\n",
       "  </thead>\n",
       "  <tbody>\n",
       "    <tr>\n",
       "      <th>0002-ORFBO</th>\n",
       "      <td>2019-05-01</td>\n",
       "      <td>No</td>\n",
       "      <td>One year</td>\n",
       "      <td>Yes</td>\n",
       "      <td>Mailed check</td>\n",
       "      <td>65.6</td>\n",
       "      <td>593.30</td>\n",
       "      <td>Female</td>\n",
       "      <td>0</td>\n",
       "      <td>Yes</td>\n",
       "      <td>Yes</td>\n",
       "      <td>DSL</td>\n",
       "      <td>No</td>\n",
       "      <td>Yes</td>\n",
       "      <td>No</td>\n",
       "      <td>Yes</td>\n",
       "      <td>Yes</td>\n",
       "      <td>No</td>\n",
       "      <td>No</td>\n",
       "    </tr>\n",
       "    <tr>\n",
       "      <th>0003-MKNFE</th>\n",
       "      <td>2019-05-01</td>\n",
       "      <td>No</td>\n",
       "      <td>Month-to-month</td>\n",
       "      <td>No</td>\n",
       "      <td>Mailed check</td>\n",
       "      <td>59.9</td>\n",
       "      <td>542.40</td>\n",
       "      <td>Male</td>\n",
       "      <td>0</td>\n",
       "      <td>No</td>\n",
       "      <td>No</td>\n",
       "      <td>DSL</td>\n",
       "      <td>No</td>\n",
       "      <td>No</td>\n",
       "      <td>No</td>\n",
       "      <td>No</td>\n",
       "      <td>No</td>\n",
       "      <td>Yes</td>\n",
       "      <td>Yes</td>\n",
       "    </tr>\n",
       "    <tr>\n",
       "      <th>0004-TLHLJ</th>\n",
       "      <td>2019-09-01</td>\n",
       "      <td>2020-01-01 00:00:00</td>\n",
       "      <td>Month-to-month</td>\n",
       "      <td>Yes</td>\n",
       "      <td>Electronic check</td>\n",
       "      <td>73.9</td>\n",
       "      <td>280.85</td>\n",
       "      <td>Male</td>\n",
       "      <td>0</td>\n",
       "      <td>No</td>\n",
       "      <td>No</td>\n",
       "      <td>Fiber optic</td>\n",
       "      <td>No</td>\n",
       "      <td>No</td>\n",
       "      <td>Yes</td>\n",
       "      <td>No</td>\n",
       "      <td>No</td>\n",
       "      <td>No</td>\n",
       "      <td>No</td>\n",
       "    </tr>\n",
       "    <tr>\n",
       "      <th>0011-IGKFF</th>\n",
       "      <td>2018-12-01</td>\n",
       "      <td>2020-01-01 00:00:00</td>\n",
       "      <td>Month-to-month</td>\n",
       "      <td>Yes</td>\n",
       "      <td>Electronic check</td>\n",
       "      <td>98.0</td>\n",
       "      <td>1237.85</td>\n",
       "      <td>Male</td>\n",
       "      <td>1</td>\n",
       "      <td>Yes</td>\n",
       "      <td>No</td>\n",
       "      <td>Fiber optic</td>\n",
       "      <td>No</td>\n",
       "      <td>Yes</td>\n",
       "      <td>Yes</td>\n",
       "      <td>No</td>\n",
       "      <td>Yes</td>\n",
       "      <td>Yes</td>\n",
       "      <td>No</td>\n",
       "    </tr>\n",
       "    <tr>\n",
       "      <th>0013-EXCHZ</th>\n",
       "      <td>2019-09-01</td>\n",
       "      <td>2019-12-01 00:00:00</td>\n",
       "      <td>Month-to-month</td>\n",
       "      <td>Yes</td>\n",
       "      <td>Mailed check</td>\n",
       "      <td>83.9</td>\n",
       "      <td>267.40</td>\n",
       "      <td>Female</td>\n",
       "      <td>1</td>\n",
       "      <td>Yes</td>\n",
       "      <td>No</td>\n",
       "      <td>Fiber optic</td>\n",
       "      <td>No</td>\n",
       "      <td>No</td>\n",
       "      <td>No</td>\n",
       "      <td>Yes</td>\n",
       "      <td>Yes</td>\n",
       "      <td>No</td>\n",
       "      <td>No</td>\n",
       "    </tr>\n",
       "  </tbody>\n",
       "</table>\n",
       "</div>"
      ],
      "text/plain": [
       "             BeginDate              EndDate            Type PaperlessBilling  \\\n",
       "customerID                                                                     \n",
       "0002-ORFBO  2019-05-01                   No        One year              Yes   \n",
       "0003-MKNFE  2019-05-01                   No  Month-to-month               No   \n",
       "0004-TLHLJ  2019-09-01  2020-01-01 00:00:00  Month-to-month              Yes   \n",
       "0011-IGKFF  2018-12-01  2020-01-01 00:00:00  Month-to-month              Yes   \n",
       "0013-EXCHZ  2019-09-01  2019-12-01 00:00:00  Month-to-month              Yes   \n",
       "\n",
       "               PaymentMethod  MonthlyCharges  TotalCharges  gender  \\\n",
       "customerID                                                           \n",
       "0002-ORFBO      Mailed check            65.6        593.30  Female   \n",
       "0003-MKNFE      Mailed check            59.9        542.40    Male   \n",
       "0004-TLHLJ  Electronic check            73.9        280.85    Male   \n",
       "0011-IGKFF  Electronic check            98.0       1237.85    Male   \n",
       "0013-EXCHZ      Mailed check            83.9        267.40  Female   \n",
       "\n",
       "            SeniorCitizen Partner Dependents InternetService OnlineSecurity  \\\n",
       "customerID                                                                    \n",
       "0002-ORFBO              0     Yes        Yes             DSL             No   \n",
       "0003-MKNFE              0      No         No             DSL             No   \n",
       "0004-TLHLJ              0      No         No     Fiber optic             No   \n",
       "0011-IGKFF              1     Yes         No     Fiber optic             No   \n",
       "0013-EXCHZ              1     Yes         No     Fiber optic             No   \n",
       "\n",
       "           OnlineBackup DeviceProtection TechSupport StreamingTV  \\\n",
       "customerID                                                         \n",
       "0002-ORFBO          Yes               No         Yes         Yes   \n",
       "0003-MKNFE           No               No          No          No   \n",
       "0004-TLHLJ           No              Yes          No          No   \n",
       "0011-IGKFF          Yes              Yes          No         Yes   \n",
       "0013-EXCHZ           No               No         Yes         Yes   \n",
       "\n",
       "           StreamingMovies MultipleLines  \n",
       "customerID                                \n",
       "0002-ORFBO              No            No  \n",
       "0003-MKNFE             Yes           Yes  \n",
       "0004-TLHLJ              No            No  \n",
       "0011-IGKFF             Yes            No  \n",
       "0013-EXCHZ              No            No  "
      ]
     },
     "execution_count": 13,
     "metadata": {},
     "output_type": "execute_result"
    }
   ],
   "source": [
    "final_df = contract.join(personal, how=\"outer\")\n",
    "final_df = final_df.join(internet, how=\"outer\")\n",
    "final_df = final_df.join(phone, how=\"outer\")\n",
    "final_df.head()"
   ]
  },
  {
   "cell_type": "markdown",
   "id": "f05df04c",
   "metadata": {},
   "source": [
    "Убедимся, что не потеряли никакие признаки."
   ]
  },
  {
   "cell_type": "code",
   "execution_count": 14,
   "id": "e5b33e3e",
   "metadata": {},
   "outputs": [
    {
     "name": "stdout",
     "output_type": "stream",
     "text": [
      "Проверка количества признаков:\n",
      "True\n"
     ]
    }
   ],
   "source": [
    "print(\"Проверка количества признаков:\")\n",
    "print(final_df.shape[1] == contract.shape[1] + personal.shape[1] + internet.shape[1] + phone.shape[1])"
   ]
  },
  {
   "cell_type": "markdown",
   "id": "0e0bfa5e",
   "metadata": {},
   "source": [
    "Проверка прошла успешно.\n",
    "\n",
    "Теперь выделим целевую переменную. Назовём её `target` и добавим в итоговую таблицу. Для того, чтобы сконструировать эту переменную, обратимся к столбцу `EndDate`. Если значение этого признака `No`, то это значит, что клиент не ушёл, поэтому в целевой переменной будет стоять значение `0`. Если значение признака `EndDate` не `0`, то это дата ухода клиента, поэтому в целевой переменной будет значение `1`."
   ]
  },
  {
   "cell_type": "code",
   "execution_count": 15,
   "id": "4c2bad81",
   "metadata": {},
   "outputs": [],
   "source": [
    "final_df[\"target\"] = final_df[\"EndDate\"].where(final_df[\"EndDate\"] == \"No\", other=0)\n",
    "final_df[\"target\"].replace(\"No\", 1, inplace=True)"
   ]
  },
  {
   "cell_type": "markdown",
   "id": "d5a7c03a",
   "metadata": {},
   "source": [
    "Поскольку известна дата подключения клиента, то можно посчитать время, в течение которого клиент пользовался услугами компании. Для этого приведём признаки `BeginDate` и `EndDate` к типу `datetime64` и вычтем первый из второго. Если клиент не ушёл (`No` в `EndDate`), то будем вычитать из даты, когда были выгружены данные, `\"2020-02-01\"`. Результат представим в виде количества дней и запишем в столбец `lifetime`. Столбцы `BeginDate` и `EndDate` исключим из итоговой таблицы."
   ]
  },
  {
   "cell_type": "code",
   "execution_count": 16,
   "id": "c7242908",
   "metadata": {},
   "outputs": [],
   "source": [
    "final_df[\"BeginDate\"] = final_df[\"BeginDate\"].astype(\"datetime64\")\n",
    "\n",
    "final_df[\"EndDate\"].replace(\"No\", \"2020-02-01\", inplace=True)\n",
    "final_df[\"EndDate\"] = final_df[\"EndDate\"].astype(\"datetime64\")\n",
    "\n",
    "final_df[\"lifetime\"] = (final_df[\"EndDate\"] - final_df[\"BeginDate\"]).dt.days\n",
    "final_df.drop(columns=[\"BeginDate\", \"EndDate\"], inplace=True)"
   ]
  },
  {
   "cell_type": "code",
   "execution_count": 17,
   "id": "05405316",
   "metadata": {
    "scrolled": true
   },
   "outputs": [
    {
     "data": {
      "text/html": [
       "<div>\n",
       "<style scoped>\n",
       "    .dataframe tbody tr th:only-of-type {\n",
       "        vertical-align: middle;\n",
       "    }\n",
       "\n",
       "    .dataframe tbody tr th {\n",
       "        vertical-align: top;\n",
       "    }\n",
       "\n",
       "    .dataframe thead th {\n",
       "        text-align: right;\n",
       "    }\n",
       "</style>\n",
       "<table border=\"1\" class=\"dataframe\">\n",
       "  <thead>\n",
       "    <tr style=\"text-align: right;\">\n",
       "      <th></th>\n",
       "      <th>Type</th>\n",
       "      <th>PaperlessBilling</th>\n",
       "      <th>PaymentMethod</th>\n",
       "      <th>MonthlyCharges</th>\n",
       "      <th>TotalCharges</th>\n",
       "      <th>gender</th>\n",
       "      <th>SeniorCitizen</th>\n",
       "      <th>Partner</th>\n",
       "      <th>Dependents</th>\n",
       "      <th>InternetService</th>\n",
       "      <th>OnlineSecurity</th>\n",
       "      <th>OnlineBackup</th>\n",
       "      <th>DeviceProtection</th>\n",
       "      <th>TechSupport</th>\n",
       "      <th>StreamingTV</th>\n",
       "      <th>StreamingMovies</th>\n",
       "      <th>MultipleLines</th>\n",
       "      <th>target</th>\n",
       "      <th>lifetime</th>\n",
       "    </tr>\n",
       "    <tr>\n",
       "      <th>customerID</th>\n",
       "      <th></th>\n",
       "      <th></th>\n",
       "      <th></th>\n",
       "      <th></th>\n",
       "      <th></th>\n",
       "      <th></th>\n",
       "      <th></th>\n",
       "      <th></th>\n",
       "      <th></th>\n",
       "      <th></th>\n",
       "      <th></th>\n",
       "      <th></th>\n",
       "      <th></th>\n",
       "      <th></th>\n",
       "      <th></th>\n",
       "      <th></th>\n",
       "      <th></th>\n",
       "      <th></th>\n",
       "      <th></th>\n",
       "    </tr>\n",
       "  </thead>\n",
       "  <tbody>\n",
       "    <tr>\n",
       "      <th>0002-ORFBO</th>\n",
       "      <td>One year</td>\n",
       "      <td>Yes</td>\n",
       "      <td>Mailed check</td>\n",
       "      <td>65.6</td>\n",
       "      <td>593.30</td>\n",
       "      <td>Female</td>\n",
       "      <td>0</td>\n",
       "      <td>Yes</td>\n",
       "      <td>Yes</td>\n",
       "      <td>DSL</td>\n",
       "      <td>No</td>\n",
       "      <td>Yes</td>\n",
       "      <td>No</td>\n",
       "      <td>Yes</td>\n",
       "      <td>Yes</td>\n",
       "      <td>No</td>\n",
       "      <td>No</td>\n",
       "      <td>1</td>\n",
       "      <td>276</td>\n",
       "    </tr>\n",
       "    <tr>\n",
       "      <th>0003-MKNFE</th>\n",
       "      <td>Month-to-month</td>\n",
       "      <td>No</td>\n",
       "      <td>Mailed check</td>\n",
       "      <td>59.9</td>\n",
       "      <td>542.40</td>\n",
       "      <td>Male</td>\n",
       "      <td>0</td>\n",
       "      <td>No</td>\n",
       "      <td>No</td>\n",
       "      <td>DSL</td>\n",
       "      <td>No</td>\n",
       "      <td>No</td>\n",
       "      <td>No</td>\n",
       "      <td>No</td>\n",
       "      <td>No</td>\n",
       "      <td>Yes</td>\n",
       "      <td>Yes</td>\n",
       "      <td>1</td>\n",
       "      <td>276</td>\n",
       "    </tr>\n",
       "    <tr>\n",
       "      <th>0004-TLHLJ</th>\n",
       "      <td>Month-to-month</td>\n",
       "      <td>Yes</td>\n",
       "      <td>Electronic check</td>\n",
       "      <td>73.9</td>\n",
       "      <td>280.85</td>\n",
       "      <td>Male</td>\n",
       "      <td>0</td>\n",
       "      <td>No</td>\n",
       "      <td>No</td>\n",
       "      <td>Fiber optic</td>\n",
       "      <td>No</td>\n",
       "      <td>No</td>\n",
       "      <td>Yes</td>\n",
       "      <td>No</td>\n",
       "      <td>No</td>\n",
       "      <td>No</td>\n",
       "      <td>No</td>\n",
       "      <td>0</td>\n",
       "      <td>122</td>\n",
       "    </tr>\n",
       "    <tr>\n",
       "      <th>0011-IGKFF</th>\n",
       "      <td>Month-to-month</td>\n",
       "      <td>Yes</td>\n",
       "      <td>Electronic check</td>\n",
       "      <td>98.0</td>\n",
       "      <td>1237.85</td>\n",
       "      <td>Male</td>\n",
       "      <td>1</td>\n",
       "      <td>Yes</td>\n",
       "      <td>No</td>\n",
       "      <td>Fiber optic</td>\n",
       "      <td>No</td>\n",
       "      <td>Yes</td>\n",
       "      <td>Yes</td>\n",
       "      <td>No</td>\n",
       "      <td>Yes</td>\n",
       "      <td>Yes</td>\n",
       "      <td>No</td>\n",
       "      <td>0</td>\n",
       "      <td>396</td>\n",
       "    </tr>\n",
       "    <tr>\n",
       "      <th>0013-EXCHZ</th>\n",
       "      <td>Month-to-month</td>\n",
       "      <td>Yes</td>\n",
       "      <td>Mailed check</td>\n",
       "      <td>83.9</td>\n",
       "      <td>267.40</td>\n",
       "      <td>Female</td>\n",
       "      <td>1</td>\n",
       "      <td>Yes</td>\n",
       "      <td>No</td>\n",
       "      <td>Fiber optic</td>\n",
       "      <td>No</td>\n",
       "      <td>No</td>\n",
       "      <td>No</td>\n",
       "      <td>Yes</td>\n",
       "      <td>Yes</td>\n",
       "      <td>No</td>\n",
       "      <td>No</td>\n",
       "      <td>0</td>\n",
       "      <td>91</td>\n",
       "    </tr>\n",
       "  </tbody>\n",
       "</table>\n",
       "</div>"
      ],
      "text/plain": [
       "                      Type PaperlessBilling     PaymentMethod  MonthlyCharges  \\\n",
       "customerID                                                                      \n",
       "0002-ORFBO        One year              Yes      Mailed check            65.6   \n",
       "0003-MKNFE  Month-to-month               No      Mailed check            59.9   \n",
       "0004-TLHLJ  Month-to-month              Yes  Electronic check            73.9   \n",
       "0011-IGKFF  Month-to-month              Yes  Electronic check            98.0   \n",
       "0013-EXCHZ  Month-to-month              Yes      Mailed check            83.9   \n",
       "\n",
       "            TotalCharges  gender  SeniorCitizen Partner Dependents  \\\n",
       "customerID                                                           \n",
       "0002-ORFBO        593.30  Female              0     Yes        Yes   \n",
       "0003-MKNFE        542.40    Male              0      No         No   \n",
       "0004-TLHLJ        280.85    Male              0      No         No   \n",
       "0011-IGKFF       1237.85    Male              1     Yes         No   \n",
       "0013-EXCHZ        267.40  Female              1     Yes         No   \n",
       "\n",
       "           InternetService OnlineSecurity OnlineBackup DeviceProtection  \\\n",
       "customerID                                                                \n",
       "0002-ORFBO             DSL             No          Yes               No   \n",
       "0003-MKNFE             DSL             No           No               No   \n",
       "0004-TLHLJ     Fiber optic             No           No              Yes   \n",
       "0011-IGKFF     Fiber optic             No          Yes              Yes   \n",
       "0013-EXCHZ     Fiber optic             No           No               No   \n",
       "\n",
       "           TechSupport StreamingTV StreamingMovies MultipleLines  target  \\\n",
       "customerID                                                                 \n",
       "0002-ORFBO         Yes         Yes              No            No       1   \n",
       "0003-MKNFE          No          No             Yes           Yes       1   \n",
       "0004-TLHLJ          No          No              No            No       0   \n",
       "0011-IGKFF          No         Yes             Yes            No       0   \n",
       "0013-EXCHZ         Yes         Yes              No            No       0   \n",
       "\n",
       "            lifetime  \n",
       "customerID            \n",
       "0002-ORFBO       276  \n",
       "0003-MKNFE       276  \n",
       "0004-TLHLJ       122  \n",
       "0011-IGKFF       396  \n",
       "0013-EXCHZ        91  "
      ]
     },
     "execution_count": 17,
     "metadata": {},
     "output_type": "execute_result"
    }
   ],
   "source": [
    "final_df.head()"
   ]
  },
  {
   "cell_type": "markdown",
   "id": "f07dcebd",
   "metadata": {},
   "source": [
    "Теперь разделим данные на обучающую и тестовую выборки."
   ]
  },
  {
   "cell_type": "code",
   "execution_count": 18,
   "id": "904a886b",
   "metadata": {},
   "outputs": [],
   "source": [
    "X_train, X_test, y_train, y_test = train_test_split(final_df.drop(columns=\"target\"), \n",
    "                                                    final_df[\"target\"], \n",
    "                                                    test_size=0.25, \n",
    "                                                    random_state=42)"
   ]
  },
  {
   "cell_type": "markdown",
   "id": "119462ff",
   "metadata": {},
   "source": [
    "Данные готовы к использованию в моделях, можно переходить к следующему этапу — обучению моделей.\n",
    "\n",
    "<a id=\"3\"></a>\n",
    "## 3. Обучение моделей\n",
    "Будем производить отбор из четырёх моделей классификации:\n",
    "* метод опорных векторов (`SVC`);\n",
    "* логистической регрессии (`LogisticRegression`);\n",
    "* классификатор на основе случайного леса (`RandomForestClassifier`);\n",
    "* градиентный бустинг из библиотеки `catboost` (`CatBoostClassifier`).\n",
    "\n",
    "Будем производить настройку гиперпараметров, используя поиск по решётке *(Grid Search)* и перекрёсную проверку *(cross-validation)*. Для удобства напишем `pipeline`, в котором будет производиться стандартизация числовых признаков и кодирование категориальных признаков. Укажем сетки гиперпараметров для каждого типа моделей и соберём их в список. \n",
    "\n",
    "После этого запустим обучение. В этой задаче будем ориентироваться на метрику `roc-auc`."
   ]
  },
  {
   "cell_type": "code",
   "execution_count": 19,
   "id": "618606dc",
   "metadata": {},
   "outputs": [],
   "source": [
    "num_features = [\"MonthlyCharges\", \"TotalCharges\", \"lifetime\"]\n",
    "cat_features = X_train.drop(columns=num_features).columns\n",
    "\n",
    "preprocessor = ColumnTransformer([(\"num\", StandardScaler(), num_features),\n",
    "                                  (\"cat\", OneHotEncoder(drop=\"first\"), cat_features)])\n",
    "\n",
    "clf_svc = SVC(class_weight=\"balanced\", \n",
    "              probability=True, \n",
    "              random_state=42)\n",
    "\n",
    "clf_logreg = LogisticRegression(class_weight=\"balanced\", \n",
    "                                random_state=42)\n",
    "\n",
    "clf_rf = RandomForestClassifier(class_weight=\"balanced\", \n",
    "                                random_state=42)\n",
    "\n",
    "clf_catboost = CatBoostClassifier(auto_class_weights=\"Balanced\", \n",
    "                                  silent=True, \n",
    "                                  random_state=42)\n",
    "\n",
    "param_svc = {\n",
    "    \"classifier__C\": [1, 0.1, 0.01],\n",
    "    \"classifier\": [clf_svc]\n",
    "}\n",
    "\n",
    "param_logreg = {\n",
    "    \"classifier__C\": [1, 0.1, 0.01],\n",
    "    \"classifier\": [clf_logreg]\n",
    "}\n",
    "\n",
    "params_rf = {\n",
    "    \"classifier__n_estimators\": [100, 200, 300, 400],\n",
    "    \"classifier__max_depth\": [1, 2],\n",
    "    \"classifier\": [clf_rf]\n",
    "}\n",
    "\n",
    "param_catboost = {\n",
    "    \"classifier__learning_rate\": [0.03, 0.02, 0.01],\n",
    "    \"classifier__depth\": [1, 2],\n",
    "    \"classifier__iterations\": [4000, 5000, 6000, 7000],\n",
    "    \"classifier\": [clf_catboost]\n",
    "}\n",
    "\n",
    "pipeline = Pipeline([(\"preprocessor\", preprocessor), \n",
    "                     (\"classifier\", clf_svc)])\n",
    "\n",
    "params = [param_svc, param_logreg, params_rf, param_catboost]"
   ]
  },
  {
   "cell_type": "code",
   "execution_count": 20,
   "id": "57dcc45e",
   "metadata": {},
   "outputs": [],
   "source": [
    "grid_search = GridSearchCV(pipeline, params, scoring=\"roc_auc\").fit(X_train, y_train)"
   ]
  },
  {
   "cell_type": "markdown",
   "id": "e68ae15c",
   "metadata": {},
   "source": [
    "Посмотрим, какая модель и с какими гиперпараметрами оказалась лучшей по итогам перекрёстной проверки."
   ]
  },
  {
   "cell_type": "code",
   "execution_count": 21,
   "id": "fdf75f8e",
   "metadata": {},
   "outputs": [
    {
     "name": "stdout",
     "output_type": "stream",
     "text": [
      "Лучшая модель и использованные гиперпараметры:\n"
     ]
    },
    {
     "data": {
      "text/plain": [
       "{'classifier': <catboost.core.CatBoostClassifier at 0x7f4bd3e99370>,\n",
       " 'classifier__depth': 2,\n",
       " 'classifier__iterations': 7000,\n",
       " 'classifier__learning_rate': 0.03}"
      ]
     },
     "execution_count": 21,
     "metadata": {},
     "output_type": "execute_result"
    }
   ],
   "source": [
    "print(\"Лучшая модель и использованные гиперпараметры:\")\n",
    "grid_search.best_params_"
   ]
  },
  {
   "cell_type": "markdown",
   "id": "ffba0178",
   "metadata": {},
   "source": [
    "Таким образом, лучшей моделью оказался **градиентный бустинг** (`CatBoostClassifier`). Посмотрим на среднее время обучения моделей с наибольшим значением *AUC ROC* и среднее значение метрики на валидационной выборке при проведении перекрёстной проверки."
   ]
  },
  {
   "cell_type": "code",
   "execution_count": 22,
   "id": "ebdb9e1b",
   "metadata": {},
   "outputs": [],
   "source": [
    "def model_class(name):\n",
    "    if \"SVC\" in str(type(name)):\n",
    "        return \"SVC\"\n",
    "    elif \"Logistic\" in str(type(name)):\n",
    "        return \"LogisticRegression\"\n",
    "    elif \"Random\" in str(type(name)):\n",
    "        return \"RandomForestClassifier\"\n",
    "    else:\n",
    "        return \"CatBoostClassifier\"\n",
    "\n",
    "\n",
    "results = pd.DataFrame(grid_search.cv_results_)\n",
    "results[\"model_class\"] = results[\"param_classifier\"].apply(model_class)\n",
    "\n",
    "results_table = (results.groupby(\"model_class\")\n",
    "                        .max(\"mean_test_score\")[[\"mean_test_score\", \"mean_fit_time\"]]\n",
    "                        .sort_values(by=\"mean_test_score\", ascending=False))\n",
    "\n",
    "results_table.columns = [\"Среднее значение AUC ROC\", \"Среднее время обучения модели, с\"]\n",
    "results_table.index.name = \"Тип модели\""
   ]
  },
  {
   "cell_type": "code",
   "execution_count": 23,
   "id": "3fa6acf9",
   "metadata": {},
   "outputs": [
    {
     "data": {
      "text/html": [
       "<div>\n",
       "<style scoped>\n",
       "    .dataframe tbody tr th:only-of-type {\n",
       "        vertical-align: middle;\n",
       "    }\n",
       "\n",
       "    .dataframe tbody tr th {\n",
       "        vertical-align: top;\n",
       "    }\n",
       "\n",
       "    .dataframe thead th {\n",
       "        text-align: right;\n",
       "    }\n",
       "</style>\n",
       "<table border=\"1\" class=\"dataframe\">\n",
       "  <thead>\n",
       "    <tr style=\"text-align: right;\">\n",
       "      <th></th>\n",
       "      <th>Среднее значение AUC ROC</th>\n",
       "      <th>Среднее время обучения модели, с</th>\n",
       "    </tr>\n",
       "    <tr>\n",
       "      <th>Тип модели</th>\n",
       "      <th></th>\n",
       "      <th></th>\n",
       "    </tr>\n",
       "  </thead>\n",
       "  <tbody>\n",
       "    <tr>\n",
       "      <th>CatBoostClassifier</th>\n",
       "      <td>0.916337</td>\n",
       "      <td>9.368937</td>\n",
       "    </tr>\n",
       "    <tr>\n",
       "      <th>LogisticRegression</th>\n",
       "      <td>0.845885</td>\n",
       "      <td>0.568358</td>\n",
       "    </tr>\n",
       "    <tr>\n",
       "      <th>SVC</th>\n",
       "      <td>0.835512</td>\n",
       "      <td>5.019326</td>\n",
       "    </tr>\n",
       "    <tr>\n",
       "      <th>RandomForestClassifier</th>\n",
       "      <td>0.832546</td>\n",
       "      <td>0.789734</td>\n",
       "    </tr>\n",
       "  </tbody>\n",
       "</table>\n",
       "</div>"
      ],
      "text/plain": [
       "                        Среднее значение AUC ROC  \\\n",
       "Тип модели                                         \n",
       "CatBoostClassifier                      0.916337   \n",
       "LogisticRegression                      0.845885   \n",
       "SVC                                     0.835512   \n",
       "RandomForestClassifier                  0.832546   \n",
       "\n",
       "                        Среднее время обучения модели, с  \n",
       "Тип модели                                                \n",
       "CatBoostClassifier                              9.368937  \n",
       "LogisticRegression                              0.568358  \n",
       "SVC                                             5.019326  \n",
       "RandomForestClassifier                          0.789734  "
      ]
     },
     "execution_count": 23,
     "metadata": {},
     "output_type": "execute_result"
    }
   ],
   "source": [
    "results_table"
   ]
  },
  {
   "cell_type": "markdown",
   "id": "63c39397",
   "metadata": {},
   "source": [
    "Наилучшие результаты на валидационной выборке показал **градиентный бустинг**, время обучения которого тоже максимально. Затем идёт **логистическая регрессия**: качество на валидации значительно хуже, однако обучается она на порядок быстрее. Хуже всех справился классификатор на основе **случайного леса**. Возможно, это связано с не очень удачным подбором сетки гиперпараметров. \n",
    "\n",
    "Теперь проверим лучшую модель на тестовой выборке."
   ]
  },
  {
   "cell_type": "markdown",
   "id": "1c4a4926",
   "metadata": {},
   "source": [
    "<a id=\"4\"></a>\n",
    "## 4. Проверка модели на тестовой выборке\n",
    "Посчитаем значение метрики `roc-auc` на тестовой выборке."
   ]
  },
  {
   "cell_type": "code",
   "execution_count": 24,
   "id": "3623b32e",
   "metadata": {},
   "outputs": [
    {
     "name": "stdout",
     "output_type": "stream",
     "text": [
      "Значение roc-auc на тестовой выборке: 0.928\n"
     ]
    }
   ],
   "source": [
    "print(f\"Значение roc-auc на тестовой выборке: {roc_auc_score(y_test, grid_search.predict_proba(X_test)[:, 1]):.3f}\")"
   ]
  },
  {
   "cell_type": "markdown",
   "id": "e4702f8d",
   "metadata": {},
   "source": [
    "Также посчитаем значение доли правильных ответов на тестовой выборке (`accuracy`)."
   ]
  },
  {
   "cell_type": "code",
   "execution_count": 25,
   "id": "062721c1",
   "metadata": {},
   "outputs": [
    {
     "name": "stdout",
     "output_type": "stream",
     "text": [
      "Значение accuracy на тестовой выборке: 0.863\n"
     ]
    }
   ],
   "source": [
    "print(f\"Значение accuracy на тестовой выборке: {accuracy_score(y_test, grid_search.predict(X_test)):.3f}\")"
   ]
  },
  {
   "cell_type": "markdown",
   "id": "e98a0fb8",
   "metadata": {},
   "source": [
    "<a id=\"5\"></a>\n",
    "## 5. Заключение\n",
    "\n",
    "В проекте были выполнены:\n",
    "* исследовательский анализ данных и их подготовка к использованию в моделях машинного обучения;\n",
    "* создание дополнительного признака для использования в моделях;\n",
    "* обучение различных классов моделей, прогнозирующих отток клиентов, и подбор для них оптимальных гиперпараметров;\n",
    "* анализ полученных моделей и проверка лучшей модели на тестовой выборке.\n",
    "\n",
    "**Целью проекта** было построение модели машинного обучения, прогнощирующей отток клиентов оператора связи. Такая модель была построена. \n",
    "\n",
    "При проведении перекрёстной проверки лучшей оказалась **модель градиентного бустинга** (`CatBoostClassifier`). Модель также показала высокое качество на тестовой выборке: \n",
    "\n",
    "* значение *AUC ROC* составило `0.928`;\n",
    "* значение *accuracy* равно `0.863`."
   ]
  },
  {
   "cell_type": "code",
   "execution_count": null,
   "id": "97f750e2",
   "metadata": {},
   "outputs": [],
   "source": []
  }
 ],
 "metadata": {
  "ExecuteTimeLog": [
   {
    "duration": 424,
    "start_time": "2022-06-28T12:36:56.873Z"
   },
   {
    "duration": 191,
    "start_time": "2022-06-28T12:38:43.985Z"
   },
   {
    "duration": 24,
    "start_time": "2022-06-28T12:38:49.572Z"
   },
   {
    "duration": 184,
    "start_time": "2022-06-28T12:39:18.995Z"
   },
   {
    "duration": 252,
    "start_time": "2022-06-28T12:39:51.559Z"
   },
   {
    "duration": 12,
    "start_time": "2022-06-28T12:39:57.352Z"
   },
   {
    "duration": 14,
    "start_time": "2022-06-28T12:40:02.497Z"
   },
   {
    "duration": 14,
    "start_time": "2022-06-28T12:40:06.346Z"
   },
   {
    "duration": 12,
    "start_time": "2022-06-28T12:44:12.770Z"
   },
   {
    "duration": 22,
    "start_time": "2022-06-28T12:44:18.818Z"
   },
   {
    "duration": 12,
    "start_time": "2022-06-28T12:44:25.219Z"
   },
   {
    "duration": 72,
    "start_time": "2022-06-28T12:44:31.106Z"
   },
   {
    "duration": 12,
    "start_time": "2022-06-28T12:44:34.071Z"
   },
   {
    "duration": 17,
    "start_time": "2022-06-28T12:48:38.554Z"
   },
   {
    "duration": 17,
    "start_time": "2022-06-28T12:48:43.750Z"
   },
   {
    "duration": 11,
    "start_time": "2022-06-28T12:48:52.561Z"
   },
   {
    "duration": 15,
    "start_time": "2022-06-28T12:48:59.254Z"
   },
   {
    "duration": 15,
    "start_time": "2022-06-28T12:49:31.619Z"
   },
   {
    "duration": 21,
    "start_time": "2022-06-28T12:49:41.436Z"
   },
   {
    "duration": 19,
    "start_time": "2022-06-28T12:50:00.052Z"
   },
   {
    "duration": 11,
    "start_time": "2022-06-28T12:50:32.403Z"
   },
   {
    "duration": 12,
    "start_time": "2022-06-28T12:50:37.299Z"
   },
   {
    "duration": 689,
    "start_time": "2022-06-28T12:51:03.283Z"
   },
   {
    "duration": 198,
    "start_time": "2022-06-28T12:51:12.667Z"
   },
   {
    "duration": 157,
    "start_time": "2022-06-28T12:51:17.203Z"
   },
   {
    "duration": 174,
    "start_time": "2022-06-28T12:51:23.379Z"
   },
   {
    "duration": 221,
    "start_time": "2022-06-28T12:51:35.353Z"
   },
   {
    "duration": 149,
    "start_time": "2022-06-28T12:51:43.685Z"
   },
   {
    "duration": 142,
    "start_time": "2022-06-28T12:51:47.683Z"
   },
   {
    "duration": 222,
    "start_time": "2022-06-28T12:51:51.544Z"
   },
   {
    "duration": 426,
    "start_time": "2022-06-28T12:51:57.123Z"
   },
   {
    "duration": 158,
    "start_time": "2022-06-28T12:52:05.177Z"
   },
   {
    "duration": 13,
    "start_time": "2022-06-28T12:52:17.051Z"
   },
   {
    "duration": 17,
    "start_time": "2022-06-28T12:52:24.699Z"
   },
   {
    "duration": 5,
    "start_time": "2022-06-28T12:56:17.165Z"
   },
   {
    "duration": 6,
    "start_time": "2022-06-28T12:56:24.654Z"
   },
   {
    "duration": 10,
    "start_time": "2022-06-28T13:00:21.926Z"
   },
   {
    "duration": 7,
    "start_time": "2022-06-28T13:00:32.085Z"
   },
   {
    "duration": 7,
    "start_time": "2022-06-28T13:00:36.584Z"
   },
   {
    "duration": 5,
    "start_time": "2022-06-28T13:02:42.198Z"
   },
   {
    "duration": 9,
    "start_time": "2022-06-28T13:02:48.311Z"
   },
   {
    "duration": 11,
    "start_time": "2022-06-28T13:06:02.538Z"
   },
   {
    "duration": 6,
    "start_time": "2022-06-28T13:06:06.366Z"
   },
   {
    "duration": 6,
    "start_time": "2022-06-28T13:06:13.565Z"
   },
   {
    "duration": 8,
    "start_time": "2022-06-28T13:06:17.527Z"
   },
   {
    "duration": 5,
    "start_time": "2022-06-28T13:06:19.354Z"
   },
   {
    "duration": 414,
    "start_time": "2022-06-28T13:06:35.449Z"
   },
   {
    "duration": 8,
    "start_time": "2022-06-28T13:06:44.961Z"
   },
   {
    "duration": 12,
    "start_time": "2022-06-28T13:06:49.182Z"
   },
   {
    "duration": 6,
    "start_time": "2022-06-28T13:07:15.259Z"
   },
   {
    "duration": 6,
    "start_time": "2022-06-28T13:07:22.351Z"
   },
   {
    "duration": 9,
    "start_time": "2022-06-28T13:07:49.265Z"
   },
   {
    "duration": 13,
    "start_time": "2022-06-28T13:07:56.120Z"
   },
   {
    "duration": 7,
    "start_time": "2022-06-28T13:08:01.366Z"
   },
   {
    "duration": 5,
    "start_time": "2022-06-28T13:08:06.407Z"
   },
   {
    "duration": 15,
    "start_time": "2022-06-28T13:09:38.051Z"
   },
   {
    "duration": 23,
    "start_time": "2022-06-28T13:09:46.541Z"
   },
   {
    "duration": 15,
    "start_time": "2022-06-28T13:09:54.847Z"
   },
   {
    "duration": 7,
    "start_time": "2022-06-28T13:12:06.344Z"
   },
   {
    "duration": 8,
    "start_time": "2022-06-28T13:12:11.192Z"
   },
   {
    "duration": 11,
    "start_time": "2022-06-28T13:12:34.041Z"
   },
   {
    "duration": 17,
    "start_time": "2022-06-28T13:12:45.000Z"
   },
   {
    "duration": 20,
    "start_time": "2022-06-28T13:12:48.255Z"
   },
   {
    "duration": 150,
    "start_time": "2022-06-28T13:13:05.769Z"
   },
   {
    "duration": 128,
    "start_time": "2022-06-28T13:13:31.363Z"
   },
   {
    "duration": 159,
    "start_time": "2022-06-28T13:13:43.225Z"
   },
   {
    "duration": 411,
    "start_time": "2022-06-28T16:36:22.814Z"
   },
   {
    "duration": 361,
    "start_time": "2022-06-28T16:36:29.349Z"
   },
   {
    "duration": 5,
    "start_time": "2022-06-28T16:36:41.187Z"
   },
   {
    "duration": 6,
    "start_time": "2022-06-28T16:36:41.402Z"
   },
   {
    "duration": 26,
    "start_time": "2022-06-28T16:36:43.648Z"
   },
   {
    "duration": 3,
    "start_time": "2022-06-28T16:37:58.377Z"
   },
   {
    "duration": 5,
    "start_time": "2022-06-28T16:38:06.960Z"
   },
   {
    "duration": 4,
    "start_time": "2022-06-28T16:38:17.327Z"
   },
   {
    "duration": 9,
    "start_time": "2022-06-28T16:38:26.909Z"
   },
   {
    "duration": 16,
    "start_time": "2022-06-29T12:58:24.801Z"
   },
   {
    "duration": 164,
    "start_time": "2022-06-29T12:58:30.246Z"
   },
   {
    "duration": 4,
    "start_time": "2022-06-29T12:58:33.179Z"
   },
   {
    "duration": 8,
    "start_time": "2022-06-29T12:58:46.470Z"
   },
   {
    "duration": 6,
    "start_time": "2022-06-29T12:58:56.639Z"
   },
   {
    "duration": 4,
    "start_time": "2022-06-29T12:58:58.811Z"
   },
   {
    "duration": 5,
    "start_time": "2022-06-29T12:59:01.499Z"
   },
   {
    "duration": 4,
    "start_time": "2022-06-29T12:59:11.973Z"
   },
   {
    "duration": 3,
    "start_time": "2022-06-29T12:59:26.184Z"
   },
   {
    "duration": 1366,
    "start_time": "2022-06-29T13:00:40.613Z"
   },
   {
    "duration": 281,
    "start_time": "2022-06-29T13:00:43.831Z"
   },
   {
    "duration": 7,
    "start_time": "2022-06-29T13:00:44.114Z"
   },
   {
    "duration": 39,
    "start_time": "2022-06-29T13:00:44.123Z"
   },
   {
    "duration": 5,
    "start_time": "2022-06-29T13:00:44.309Z"
   },
   {
    "duration": 8,
    "start_time": "2022-06-29T13:00:44.490Z"
   },
   {
    "duration": 17,
    "start_time": "2022-06-29T13:00:44.667Z"
   },
   {
    "duration": 5,
    "start_time": "2022-06-29T13:00:45.019Z"
   },
   {
    "duration": 5,
    "start_time": "2022-06-29T13:00:45.218Z"
   },
   {
    "duration": 163,
    "start_time": "2022-06-29T13:00:45.599Z"
   },
   {
    "duration": 168,
    "start_time": "2022-06-29T13:00:46.041Z"
   },
   {
    "duration": 27,
    "start_time": "2022-06-29T13:00:46.723Z"
   },
   {
    "duration": 18,
    "start_time": "2022-06-29T13:00:48.499Z"
   },
   {
    "duration": 9,
    "start_time": "2022-06-29T13:00:49.010Z"
   },
   {
    "duration": 10,
    "start_time": "2022-06-29T13:00:49.202Z"
   },
   {
    "duration": 17,
    "start_time": "2022-06-29T13:00:49.848Z"
   },
   {
    "duration": 13,
    "start_time": "2022-06-29T13:00:50.289Z"
   },
   {
    "duration": 22,
    "start_time": "2022-06-29T13:00:50.743Z"
   },
   {
    "duration": 7,
    "start_time": "2022-06-29T13:00:50.918Z"
   },
   {
    "duration": 24,
    "start_time": "2022-06-29T13:00:51.536Z"
   },
   {
    "duration": 4,
    "start_time": "2022-06-29T13:01:10.789Z"
   },
   {
    "duration": 7,
    "start_time": "2022-06-29T13:01:12.934Z"
   },
   {
    "duration": 19,
    "start_time": "2022-06-29T13:01:13.638Z"
   },
   {
    "duration": 171,
    "start_time": "2022-06-29T13:02:01.702Z"
   },
   {
    "duration": 163,
    "start_time": "2022-06-29T13:02:13.025Z"
   },
   {
    "duration": 15,
    "start_time": "2022-06-29T13:08:01.841Z"
   },
   {
    "duration": 8,
    "start_time": "2022-06-29T13:08:10.940Z"
   },
   {
    "duration": 7,
    "start_time": "2022-06-29T13:08:25.342Z"
   },
   {
    "duration": 31,
    "start_time": "2022-06-29T13:10:29.310Z"
   },
   {
    "duration": 28,
    "start_time": "2022-06-29T13:10:41.065Z"
   },
   {
    "duration": 3,
    "start_time": "2022-06-29T13:11:39.677Z"
   },
   {
    "duration": 59,
    "start_time": "2022-06-29T13:12:30.119Z"
   },
   {
    "duration": 32,
    "start_time": "2022-06-29T13:12:51.690Z"
   },
   {
    "duration": 78,
    "start_time": "2022-06-29T13:13:04.453Z"
   },
   {
    "duration": 32,
    "start_time": "2022-06-29T13:13:08.942Z"
   },
   {
    "duration": 35,
    "start_time": "2022-06-29T13:13:23.890Z"
   },
   {
    "duration": 32,
    "start_time": "2022-06-29T13:13:29.882Z"
   },
   {
    "duration": 32,
    "start_time": "2022-06-29T13:13:43.974Z"
   },
   {
    "duration": 40,
    "start_time": "2022-06-29T13:13:50.129Z"
   },
   {
    "duration": 4,
    "start_time": "2022-06-29T13:15:50.492Z"
   },
   {
    "duration": 10,
    "start_time": "2022-06-29T13:26:52.781Z"
   },
   {
    "duration": 61,
    "start_time": "2022-06-29T13:35:17.819Z"
   },
   {
    "duration": 41,
    "start_time": "2022-06-29T13:35:50.680Z"
   },
   {
    "duration": 45,
    "start_time": "2022-06-29T13:36:16.997Z"
   },
   {
    "duration": 36,
    "start_time": "2022-06-29T13:36:22.775Z"
   },
   {
    "duration": 55,
    "start_time": "2022-06-29T13:36:45.061Z"
   },
   {
    "duration": 49,
    "start_time": "2022-06-29T13:36:48.906Z"
   },
   {
    "duration": 47,
    "start_time": "2022-06-29T13:37:14.240Z"
   },
   {
    "duration": 55,
    "start_time": "2022-06-29T13:37:30.002Z"
   },
   {
    "duration": 8,
    "start_time": "2022-06-29T13:42:00.233Z"
   },
   {
    "duration": 16,
    "start_time": "2022-06-29T13:42:05.326Z"
   },
   {
    "duration": 7,
    "start_time": "2022-06-29T13:46:30.908Z"
   },
   {
    "duration": 9,
    "start_time": "2022-06-29T13:46:40.321Z"
   },
   {
    "duration": 5,
    "start_time": "2022-06-29T13:47:18.964Z"
   },
   {
    "duration": 1082,
    "start_time": "2022-06-29T13:47:57.187Z"
   },
   {
    "duration": 6,
    "start_time": "2022-06-29T13:48:06.921Z"
   },
   {
    "duration": 947,
    "start_time": "2022-06-29T13:48:42.619Z"
   },
   {
    "duration": 6,
    "start_time": "2022-06-29T13:48:54.804Z"
   },
   {
    "duration": 5,
    "start_time": "2022-06-29T13:52:22.752Z"
   },
   {
    "duration": 520,
    "start_time": "2022-07-04T07:32:44.293Z"
   },
   {
    "duration": 203,
    "start_time": "2022-07-04T07:32:50.560Z"
   },
   {
    "duration": 3,
    "start_time": "2022-07-04T07:33:00.107Z"
   },
   {
    "duration": 47,
    "start_time": "2022-07-04T07:33:10.763Z"
   },
   {
    "duration": 42,
    "start_time": "2022-07-04T07:33:24.443Z"
   },
   {
    "duration": 12,
    "start_time": "2022-07-04T07:33:41.563Z"
   },
   {
    "duration": 98,
    "start_time": "2022-07-04T07:34:12.524Z"
   },
   {
    "duration": 10,
    "start_time": "2022-07-04T07:34:15.397Z"
   },
   {
    "duration": 6,
    "start_time": "2022-07-04T07:34:23.884Z"
   },
   {
    "duration": 6,
    "start_time": "2022-07-04T07:34:25.511Z"
   },
   {
    "duration": 6,
    "start_time": "2022-07-04T07:34:30.108Z"
   },
   {
    "duration": 944,
    "start_time": "2022-07-04T07:35:36.636Z"
   },
   {
    "duration": 10,
    "start_time": "2022-07-04T07:35:55.376Z"
   },
   {
    "duration": 839,
    "start_time": "2022-07-04T07:36:18.718Z"
   },
   {
    "duration": 7,
    "start_time": "2022-07-04T07:36:21.325Z"
   },
   {
    "duration": 1012,
    "start_time": "2022-07-04T07:36:27.228Z"
   },
   {
    "duration": 12,
    "start_time": "2022-07-04T07:36:30.845Z"
   },
   {
    "duration": 5,
    "start_time": "2022-07-04T07:36:44.221Z"
   },
   {
    "duration": 893,
    "start_time": "2022-07-04T07:37:30.893Z"
   },
   {
    "duration": 177,
    "start_time": "2022-07-04T07:37:42.029Z"
   },
   {
    "duration": 208,
    "start_time": "2022-07-04T07:37:51.793Z"
   },
   {
    "duration": 384,
    "start_time": "2022-07-04T07:38:39.639Z"
   },
   {
    "duration": 257,
    "start_time": "2022-07-04T07:38:59.569Z"
   },
   {
    "duration": 238,
    "start_time": "2022-07-04T07:39:01.903Z"
   },
   {
    "duration": 357,
    "start_time": "2022-07-04T07:46:57.746Z"
   },
   {
    "duration": 173,
    "start_time": "2022-07-04T07:46:58.106Z"
   },
   {
    "duration": 33,
    "start_time": "2022-07-04T07:47:14.016Z"
   },
   {
    "duration": 9,
    "start_time": "2022-07-04T08:05:11.185Z"
   },
   {
    "duration": 6,
    "start_time": "2022-07-04T08:09:27.537Z"
   },
   {
    "duration": 136,
    "start_time": "2022-07-04T08:11:48.044Z"
   },
   {
    "duration": 22,
    "start_time": "2022-07-04T08:11:56.050Z"
   },
   {
    "duration": 12,
    "start_time": "2022-07-04T08:11:58.234Z"
   },
   {
    "duration": 13,
    "start_time": "2022-07-04T08:12:08.243Z"
   },
   {
    "duration": 21,
    "start_time": "2022-07-04T08:12:17.086Z"
   },
   {
    "duration": 10,
    "start_time": "2022-07-04T08:12:28.162Z"
   },
   {
    "duration": 22,
    "start_time": "2022-07-04T08:12:29.391Z"
   },
   {
    "duration": 19,
    "start_time": "2022-07-04T08:21:24.949Z"
   },
   {
    "duration": 8,
    "start_time": "2022-07-04T08:21:29.147Z"
   },
   {
    "duration": 39,
    "start_time": "2022-07-04T08:21:44.998Z"
   },
   {
    "duration": 7,
    "start_time": "2022-07-04T08:22:09.497Z"
   },
   {
    "duration": 13,
    "start_time": "2022-07-04T08:22:19.540Z"
   },
   {
    "duration": 26,
    "start_time": "2022-07-04T08:22:28.058Z"
   },
   {
    "duration": 36,
    "start_time": "2022-07-04T08:23:01.367Z"
   },
   {
    "duration": 49,
    "start_time": "2022-07-04T08:23:19.063Z"
   },
   {
    "duration": 13,
    "start_time": "2022-07-04T08:23:36.640Z"
   },
   {
    "duration": 32,
    "start_time": "2022-07-04T08:23:40.849Z"
   },
   {
    "duration": 23,
    "start_time": "2022-07-04T08:24:17.898Z"
   },
   {
    "duration": 55,
    "start_time": "2022-07-04T08:24:20.984Z"
   },
   {
    "duration": 33,
    "start_time": "2022-07-04T08:24:37.979Z"
   },
   {
    "duration": 21,
    "start_time": "2022-07-04T08:24:47.352Z"
   },
   {
    "duration": 45,
    "start_time": "2022-07-04T08:24:51.514Z"
   },
   {
    "duration": 31,
    "start_time": "2022-07-04T08:25:27.663Z"
   },
   {
    "duration": 6,
    "start_time": "2022-07-04T08:25:32.348Z"
   },
   {
    "duration": 5,
    "start_time": "2022-07-04T08:25:38.588Z"
   },
   {
    "duration": 16,
    "start_time": "2022-07-04T08:26:02.088Z"
   },
   {
    "duration": 14,
    "start_time": "2022-07-04T08:26:05.738Z"
   },
   {
    "duration": 5,
    "start_time": "2022-07-04T08:26:56.009Z"
   },
   {
    "duration": 11,
    "start_time": "2022-07-04T08:27:53.067Z"
   },
   {
    "duration": 12,
    "start_time": "2022-07-04T10:20:36.310Z"
   },
   {
    "duration": 11,
    "start_time": "2022-07-04T10:21:14.644Z"
   },
   {
    "duration": 22,
    "start_time": "2022-07-04T10:21:24.641Z"
   },
   {
    "duration": 13,
    "start_time": "2022-07-04T10:21:30.042Z"
   },
   {
    "duration": 9,
    "start_time": "2022-07-04T10:21:43.758Z"
   },
   {
    "duration": 10,
    "start_time": "2022-07-04T10:23:06.462Z"
   },
   {
    "duration": 7,
    "start_time": "2022-07-04T10:23:22.211Z"
   },
   {
    "duration": 34,
    "start_time": "2022-07-04T10:23:26.607Z"
   },
   {
    "duration": 7,
    "start_time": "2022-07-04T10:23:54.854Z"
   },
   {
    "duration": 28,
    "start_time": "2022-07-04T10:23:55.750Z"
   },
   {
    "duration": 7,
    "start_time": "2022-07-04T10:24:38.415Z"
   },
   {
    "duration": 33,
    "start_time": "2022-07-04T10:24:39.109Z"
   },
   {
    "duration": 12,
    "start_time": "2022-07-04T10:25:01.168Z"
   },
   {
    "duration": 47,
    "start_time": "2022-07-04T10:25:02.211Z"
   },
   {
    "duration": 12,
    "start_time": "2022-07-04T10:25:43.858Z"
   },
   {
    "duration": 34,
    "start_time": "2022-07-04T10:25:45.010Z"
   },
   {
    "duration": 1066,
    "start_time": "2022-07-04T10:26:20.551Z"
   },
   {
    "duration": 256,
    "start_time": "2022-07-04T10:26:37.013Z"
   },
   {
    "duration": 3,
    "start_time": "2022-07-04T10:26:37.511Z"
   },
   {
    "duration": 57,
    "start_time": "2022-07-04T10:26:37.551Z"
   },
   {
    "duration": 54,
    "start_time": "2022-07-04T10:26:37.610Z"
   },
   {
    "duration": 16,
    "start_time": "2022-07-04T10:26:37.666Z"
   },
   {
    "duration": 13,
    "start_time": "2022-07-04T10:26:37.684Z"
   },
   {
    "duration": 33,
    "start_time": "2022-07-04T10:26:37.699Z"
   },
   {
    "duration": 195,
    "start_time": "2022-07-04T10:26:37.734Z"
   },
   {
    "duration": 212,
    "start_time": "2022-07-04T10:26:37.932Z"
   },
   {
    "duration": 4,
    "start_time": "2022-07-04T10:26:38.146Z"
   },
   {
    "duration": 22,
    "start_time": "2022-07-04T10:26:38.153Z"
   },
   {
    "duration": 11,
    "start_time": "2022-07-04T10:26:38.177Z"
   },
   {
    "duration": 17,
    "start_time": "2022-07-04T10:26:38.190Z"
   },
   {
    "duration": 24,
    "start_time": "2022-07-04T10:26:38.209Z"
   },
   {
    "duration": 44,
    "start_time": "2022-07-04T10:26:38.235Z"
   },
   {
    "duration": 7,
    "start_time": "2022-07-04T10:26:38.281Z"
   },
   {
    "duration": 27,
    "start_time": "2022-07-04T10:26:38.290Z"
   },
   {
    "duration": 43,
    "start_time": "2022-07-04T10:26:38.319Z"
   },
   {
    "duration": 27,
    "start_time": "2022-07-04T10:26:43.749Z"
   },
   {
    "duration": 105,
    "start_time": "2022-07-04T10:32:11.582Z"
   },
   {
    "duration": 4,
    "start_time": "2022-07-04T10:32:12.083Z"
   },
   {
    "duration": 63,
    "start_time": "2022-07-04T10:32:12.110Z"
   },
   {
    "duration": 70,
    "start_time": "2022-07-04T10:32:12.177Z"
   },
   {
    "duration": 23,
    "start_time": "2022-07-04T10:32:12.249Z"
   },
   {
    "duration": 8,
    "start_time": "2022-07-04T10:32:12.668Z"
   },
   {
    "duration": 30,
    "start_time": "2022-07-04T10:32:12.914Z"
   },
   {
    "duration": 200,
    "start_time": "2022-07-04T10:32:13.376Z"
   },
   {
    "duration": 208,
    "start_time": "2022-07-04T10:32:13.728Z"
   },
   {
    "duration": 4,
    "start_time": "2022-07-04T10:32:15.053Z"
   },
   {
    "duration": 7,
    "start_time": "2022-07-04T10:32:15.511Z"
   },
   {
    "duration": 9,
    "start_time": "2022-07-04T10:32:15.799Z"
   },
   {
    "duration": 19,
    "start_time": "2022-07-04T10:32:16.174Z"
   },
   {
    "duration": 15,
    "start_time": "2022-07-04T10:32:16.407Z"
   },
   {
    "duration": 28,
    "start_time": "2022-07-04T10:32:17.052Z"
   },
   {
    "duration": 4,
    "start_time": "2022-07-04T10:32:20.587Z"
   },
   {
    "duration": 10,
    "start_time": "2022-07-04T10:32:38.569Z"
   },
   {
    "duration": 8,
    "start_time": "2022-07-04T10:32:42.599Z"
   },
   {
    "duration": 7,
    "start_time": "2022-07-04T10:32:57.205Z"
   },
   {
    "duration": 1654,
    "start_time": "2022-07-04T10:33:11.161Z"
   },
   {
    "duration": 12,
    "start_time": "2022-07-04T10:33:45.545Z"
   },
   {
    "duration": 14,
    "start_time": "2022-07-04T10:33:52.745Z"
   },
   {
    "duration": 139,
    "start_time": "2022-07-04T10:34:30.640Z"
   },
   {
    "duration": 5,
    "start_time": "2022-07-04T10:34:30.940Z"
   },
   {
    "duration": 56,
    "start_time": "2022-07-04T10:34:31.236Z"
   },
   {
    "duration": 48,
    "start_time": "2022-07-04T10:34:31.361Z"
   },
   {
    "duration": 12,
    "start_time": "2022-07-04T10:34:31.499Z"
   },
   {
    "duration": 12,
    "start_time": "2022-07-04T10:34:31.620Z"
   },
   {
    "duration": 32,
    "start_time": "2022-07-04T10:34:31.748Z"
   },
   {
    "duration": 216,
    "start_time": "2022-07-04T10:34:31.959Z"
   },
   {
    "duration": 208,
    "start_time": "2022-07-04T10:34:32.179Z"
   },
   {
    "duration": 4,
    "start_time": "2022-07-04T10:34:32.763Z"
   },
   {
    "duration": 8,
    "start_time": "2022-07-04T10:34:33.391Z"
   },
   {
    "duration": 15,
    "start_time": "2022-07-04T10:34:33.544Z"
   },
   {
    "duration": 14,
    "start_time": "2022-07-04T10:34:33.799Z"
   },
   {
    "duration": 17,
    "start_time": "2022-07-04T10:34:33.996Z"
   },
   {
    "duration": 19,
    "start_time": "2022-07-04T10:34:34.397Z"
   },
   {
    "duration": 6,
    "start_time": "2022-07-04T10:34:34.848Z"
   },
   {
    "duration": 18,
    "start_time": "2022-07-04T10:34:43.966Z"
   },
   {
    "duration": 10,
    "start_time": "2022-07-04T10:34:46.749Z"
   },
   {
    "duration": 7,
    "start_time": "2022-07-04T10:34:56.689Z"
   },
   {
    "duration": 14,
    "start_time": "2022-07-04T10:34:59.318Z"
   },
   {
    "duration": 21,
    "start_time": "2022-07-04T10:35:04.665Z"
   },
   {
    "duration": 8,
    "start_time": "2022-07-04T10:35:18.244Z"
   },
   {
    "duration": 8,
    "start_time": "2022-07-04T10:36:35.097Z"
   },
   {
    "duration": 8,
    "start_time": "2022-07-04T10:36:41.273Z"
   },
   {
    "duration": 4,
    "start_time": "2022-07-04T11:07:39.960Z"
   },
   {
    "duration": 36,
    "start_time": "2022-07-04T11:12:48.815Z"
   },
   {
    "duration": 18,
    "start_time": "2022-07-04T11:13:47.210Z"
   },
   {
    "duration": 4,
    "start_time": "2022-07-04T11:14:33.451Z"
   },
   {
    "duration": 13,
    "start_time": "2022-07-04T11:15:34.336Z"
   },
   {
    "duration": 5,
    "start_time": "2022-07-04T11:16:20.088Z"
   },
   {
    "duration": 16,
    "start_time": "2022-07-04T11:17:08.957Z"
   },
   {
    "duration": 34,
    "start_time": "2022-07-04T11:21:07.511Z"
   },
   {
    "duration": 35,
    "start_time": "2022-07-04T11:21:16.151Z"
   },
   {
    "duration": 10,
    "start_time": "2022-07-04T11:21:44.486Z"
   },
   {
    "duration": 1066,
    "start_time": "2022-07-04T11:21:56.607Z"
   },
   {
    "duration": 7,
    "start_time": "2022-07-04T11:22:14.343Z"
   },
   {
    "duration": 79,
    "start_time": "2022-07-04T11:22:17.096Z"
   },
   {
    "duration": 8,
    "start_time": "2022-07-04T11:23:43.340Z"
   },
   {
    "duration": 1196,
    "start_time": "2022-07-04T11:23:44.848Z"
   },
   {
    "duration": 110,
    "start_time": "2022-07-04T11:23:46.046Z"
   },
   {
    "duration": 85,
    "start_time": "2022-07-04T11:23:56.537Z"
   },
   {
    "duration": 899,
    "start_time": "2022-07-04T11:23:57.847Z"
   },
   {
    "duration": 120,
    "start_time": "2022-07-04T11:23:58.760Z"
   },
   {
    "duration": 10,
    "start_time": "2022-07-04T11:24:08.650Z"
   },
   {
    "duration": 1377,
    "start_time": "2022-07-04T11:24:09.051Z"
   },
   {
    "duration": 135,
    "start_time": "2022-07-04T11:24:10.439Z"
   },
   {
    "duration": 11,
    "start_time": "2022-07-04T11:24:42.847Z"
   },
   {
    "duration": 797,
    "start_time": "2022-07-04T11:24:43.703Z"
   },
   {
    "duration": 95,
    "start_time": "2022-07-04T11:24:44.502Z"
   },
   {
    "duration": 13,
    "start_time": "2022-07-04T11:27:17.698Z"
   },
   {
    "duration": 8,
    "start_time": "2022-07-04T11:33:52.882Z"
   },
   {
    "duration": 145,
    "start_time": "2022-07-04T11:33:53.085Z"
   },
   {
    "duration": 7,
    "start_time": "2022-07-04T11:33:53.240Z"
   },
   {
    "duration": 157,
    "start_time": "2022-07-04T11:34:12.795Z"
   },
   {
    "duration": 6,
    "start_time": "2022-07-04T11:34:20.276Z"
   },
   {
    "duration": 74,
    "start_time": "2022-07-04T11:34:27.051Z"
   },
   {
    "duration": 68,
    "start_time": "2022-07-04T11:34:52.283Z"
   },
   {
    "duration": 199,
    "start_time": "2022-07-04T11:36:10.239Z"
   },
   {
    "duration": 4,
    "start_time": "2022-07-04T11:38:01.519Z"
   },
   {
    "duration": 86,
    "start_time": "2022-07-04T11:38:16.607Z"
   },
   {
    "duration": 122,
    "start_time": "2022-07-04T11:38:29.187Z"
   },
   {
    "duration": 7,
    "start_time": "2022-07-04T11:38:56.582Z"
   },
   {
    "duration": 824,
    "start_time": "2022-07-04T11:39:06.381Z"
   },
   {
    "duration": 112,
    "start_time": "2022-07-04T11:39:19.952Z"
   },
   {
    "duration": 8,
    "start_time": "2022-07-04T11:39:31.454Z"
   },
   {
    "duration": 1507,
    "start_time": "2022-07-04T11:39:32.883Z"
   },
   {
    "duration": 150,
    "start_time": "2022-07-04T11:39:35.284Z"
   },
   {
    "duration": 36,
    "start_time": "2022-07-04T11:39:52.877Z"
   },
   {
    "duration": 6,
    "start_time": "2022-07-04T11:40:24.510Z"
   },
   {
    "duration": 829,
    "start_time": "2022-07-04T11:40:25.199Z"
   },
   {
    "duration": 95,
    "start_time": "2022-07-04T11:40:26.031Z"
   },
   {
    "duration": 7,
    "start_time": "2022-07-04T11:40:30.014Z"
   },
   {
    "duration": 1630,
    "start_time": "2022-07-04T11:40:30.576Z"
   },
   {
    "duration": 130,
    "start_time": "2022-07-04T11:40:32.208Z"
   },
   {
    "duration": 12,
    "start_time": "2022-07-04T11:41:16.719Z"
   },
   {
    "duration": 3052,
    "start_time": "2022-07-04T11:41:18.601Z"
   },
   {
    "duration": 376,
    "start_time": "2022-07-04T11:41:22.891Z"
   },
   {
    "duration": 13,
    "start_time": "2022-07-04T11:41:29.110Z"
   },
   {
    "duration": 1425,
    "start_time": "2022-07-04T11:41:29.314Z"
   },
   {
    "duration": 134,
    "start_time": "2022-07-04T11:41:30.747Z"
   },
   {
    "duration": 22,
    "start_time": "2022-07-04T11:41:37.589Z"
   },
   {
    "duration": 1682,
    "start_time": "2022-07-04T11:41:37.777Z"
   },
   {
    "duration": 185,
    "start_time": "2022-07-04T11:41:39.461Z"
   },
   {
    "duration": 22,
    "start_time": "2022-07-04T11:41:44.836Z"
   },
   {
    "duration": 1661,
    "start_time": "2022-07-04T11:41:45.169Z"
   },
   {
    "duration": 189,
    "start_time": "2022-07-04T11:41:48.417Z"
   },
   {
    "duration": 15,
    "start_time": "2022-07-04T11:42:00.571Z"
   },
   {
    "duration": 1598,
    "start_time": "2022-07-04T11:42:00.771Z"
   },
   {
    "duration": 176,
    "start_time": "2022-07-04T11:42:02.474Z"
   },
   {
    "duration": 8,
    "start_time": "2022-07-04T11:42:10.764Z"
   },
   {
    "duration": 1808,
    "start_time": "2022-07-04T11:42:11.310Z"
   },
   {
    "duration": 185,
    "start_time": "2022-07-04T11:42:14.067Z"
   },
   {
    "duration": 7,
    "start_time": "2022-07-04T11:42:17.614Z"
   },
   {
    "duration": 1750,
    "start_time": "2022-07-04T11:42:17.775Z"
   },
   {
    "duration": 155,
    "start_time": "2022-07-04T11:42:19.527Z"
   },
   {
    "duration": 4,
    "start_time": "2022-07-04T11:43:04.095Z"
   },
   {
    "duration": 2201,
    "start_time": "2022-07-04T11:43:10.894Z"
   },
   {
    "duration": 19,
    "start_time": "2022-07-04T11:43:20.273Z"
   },
   {
    "duration": 4,
    "start_time": "2022-07-04T11:43:40.596Z"
   },
   {
    "duration": 11244,
    "start_time": "2022-07-04T11:43:40.772Z"
   },
   {
    "duration": 567,
    "start_time": "2022-07-04T11:43:52.019Z"
   },
   {
    "duration": 5,
    "start_time": "2022-07-04T11:43:59.391Z"
   },
   {
    "duration": 12928,
    "start_time": "2022-07-04T11:44:00.302Z"
   },
   {
    "duration": 596,
    "start_time": "2022-07-04T11:44:13.232Z"
   },
   {
    "duration": 5,
    "start_time": "2022-07-04T11:44:51.350Z"
   },
   {
    "duration": 14131,
    "start_time": "2022-07-04T11:44:51.546Z"
   },
   {
    "duration": 737,
    "start_time": "2022-07-04T11:45:06.798Z"
   },
   {
    "duration": 5,
    "start_time": "2022-07-04T11:45:15.505Z"
   },
   {
    "duration": 11159,
    "start_time": "2022-07-04T11:45:17.183Z"
   },
   {
    "duration": 463,
    "start_time": "2022-07-04T11:45:29.206Z"
   },
   {
    "duration": 7,
    "start_time": "2022-07-04T11:45:34.389Z"
   },
   {
    "duration": 10866,
    "start_time": "2022-07-04T11:45:34.542Z"
   },
   {
    "duration": 438,
    "start_time": "2022-07-04T11:45:45.410Z"
   },
   {
    "duration": 6,
    "start_time": "2022-07-04T11:45:51.893Z"
   },
   {
    "duration": 9483,
    "start_time": "2022-07-04T11:45:53.308Z"
   },
   {
    "duration": 478,
    "start_time": "2022-07-04T11:46:02.799Z"
   },
   {
    "duration": 6,
    "start_time": "2022-07-04T11:46:08.015Z"
   },
   {
    "duration": 11104,
    "start_time": "2022-07-04T11:46:08.185Z"
   },
   {
    "duration": 458,
    "start_time": "2022-07-04T11:46:19.296Z"
   },
   {
    "duration": 8,
    "start_time": "2022-07-04T11:46:59.472Z"
   },
   {
    "duration": 973,
    "start_time": "2022-07-04T11:46:59.614Z"
   },
   {
    "duration": 197,
    "start_time": "2022-07-04T11:47:01.743Z"
   },
   {
    "duration": 7,
    "start_time": "2022-07-04T11:47:06.365Z"
   },
   {
    "duration": 466,
    "start_time": "2022-07-04T11:47:06.864Z"
   },
   {
    "duration": 53,
    "start_time": "2022-07-04T11:47:08.689Z"
   },
   {
    "duration": 11,
    "start_time": "2022-07-04T11:47:15.268Z"
   },
   {
    "duration": 519,
    "start_time": "2022-07-04T11:47:15.711Z"
   },
   {
    "duration": 56,
    "start_time": "2022-07-04T11:47:17.602Z"
   },
   {
    "duration": 9,
    "start_time": "2022-07-04T11:47:21.088Z"
   },
   {
    "duration": 683,
    "start_time": "2022-07-04T11:47:25.682Z"
   },
   {
    "duration": 74,
    "start_time": "2022-07-04T11:47:26.472Z"
   },
   {
    "duration": 11,
    "start_time": "2022-07-04T11:47:30.016Z"
   },
   {
    "duration": 745,
    "start_time": "2022-07-04T11:47:30.191Z"
   },
   {
    "duration": 147,
    "start_time": "2022-07-04T11:47:30.939Z"
   },
   {
    "duration": 7,
    "start_time": "2022-07-04T11:47:34.383Z"
   },
   {
    "duration": 825,
    "start_time": "2022-07-04T11:47:34.511Z"
   },
   {
    "duration": 129,
    "start_time": "2022-07-04T11:47:35.345Z"
   },
   {
    "duration": 8,
    "start_time": "2022-07-04T11:48:01.078Z"
   },
   {
    "duration": 1868,
    "start_time": "2022-07-04T11:48:01.280Z"
   },
   {
    "duration": 163,
    "start_time": "2022-07-04T11:48:03.150Z"
   },
   {
    "duration": 34,
    "start_time": "2022-07-04T11:49:39.276Z"
   },
   {
    "duration": 5,
    "start_time": "2022-07-04T11:51:03.640Z"
   },
   {
    "duration": 1316,
    "start_time": "2022-07-04T11:51:57.813Z"
   },
   {
    "duration": 55,
    "start_time": "2022-07-04T11:52:12.945Z"
   },
   {
    "duration": 2230,
    "start_time": "2022-07-04T11:52:37.915Z"
   },
   {
    "duration": 38,
    "start_time": "2022-07-04T11:52:41.494Z"
   },
   {
    "duration": 4656,
    "start_time": "2022-07-04T11:52:48.518Z"
   },
   {
    "duration": 56,
    "start_time": "2022-07-04T11:52:53.181Z"
   },
   {
    "duration": 2234,
    "start_time": "2022-07-04T11:53:04.730Z"
   },
   {
    "duration": 41,
    "start_time": "2022-07-04T11:53:06.968Z"
   },
   {
    "duration": 2457,
    "start_time": "2022-07-04T11:53:13.078Z"
   },
   {
    "duration": 58,
    "start_time": "2022-07-04T11:53:15.543Z"
   },
   {
    "duration": 2185,
    "start_time": "2022-07-04T11:53:22.791Z"
   },
   {
    "duration": 37,
    "start_time": "2022-07-04T11:53:24.982Z"
   },
   {
    "duration": 2289,
    "start_time": "2022-07-04T11:53:27.569Z"
   },
   {
    "duration": 38,
    "start_time": "2022-07-04T11:53:33.084Z"
   },
   {
    "duration": 2144,
    "start_time": "2022-07-04T11:53:41.110Z"
   },
   {
    "duration": 51,
    "start_time": "2022-07-04T11:53:43.256Z"
   },
   {
    "duration": 3121,
    "start_time": "2022-07-04T11:53:48.088Z"
   },
   {
    "duration": 41,
    "start_time": "2022-07-04T11:53:51.212Z"
   },
   {
    "duration": 1663,
    "start_time": "2022-07-04T11:53:56.364Z"
   },
   {
    "duration": 47,
    "start_time": "2022-07-04T11:53:58.029Z"
   },
   {
    "duration": 1257,
    "start_time": "2022-07-04T11:54:01.143Z"
   },
   {
    "duration": 39,
    "start_time": "2022-07-04T11:54:03.688Z"
   },
   {
    "duration": 2249,
    "start_time": "2022-07-04T11:54:09.047Z"
   },
   {
    "duration": 51,
    "start_time": "2022-07-04T11:54:11.299Z"
   },
   {
    "duration": 1557,
    "start_time": "2022-07-04T11:54:16.312Z"
   },
   {
    "duration": 43,
    "start_time": "2022-07-04T11:54:19.401Z"
   },
   {
    "duration": 2413,
    "start_time": "2022-07-04T11:54:59.466Z"
   },
   {
    "duration": 49,
    "start_time": "2022-07-04T11:55:01.881Z"
   },
   {
    "duration": 5013,
    "start_time": "2022-07-04T11:55:10.164Z"
   },
   {
    "duration": 49,
    "start_time": "2022-07-04T11:55:15.180Z"
   },
   {
    "duration": 3153,
    "start_time": "2022-07-04T11:55:21.578Z"
   },
   {
    "duration": 37,
    "start_time": "2022-07-04T11:55:24.733Z"
   },
   {
    "duration": 4609,
    "start_time": "2022-07-04T11:55:25.748Z"
   },
   {
    "duration": 39,
    "start_time": "2022-07-04T11:55:30.360Z"
   },
   {
    "duration": 8,
    "start_time": "2022-07-04T11:55:58.176Z"
   },
   {
    "duration": 845,
    "start_time": "2022-07-04T11:55:59.281Z"
   },
   {
    "duration": 171,
    "start_time": "2022-07-04T11:56:00.664Z"
   },
   {
    "duration": 9,
    "start_time": "2022-07-04T11:56:11.881Z"
   },
   {
    "duration": 882,
    "start_time": "2022-07-04T11:56:12.075Z"
   },
   {
    "duration": 71,
    "start_time": "2022-07-04T11:56:13.652Z"
   },
   {
    "duration": 11,
    "start_time": "2022-07-04T11:56:25.242Z"
   },
   {
    "duration": 12546,
    "start_time": "2022-07-04T11:56:25.444Z"
   },
   {
    "duration": 408,
    "start_time": "2022-07-04T11:56:37.993Z"
   },
   {
    "duration": 996,
    "start_time": "2022-07-04T11:56:38.406Z"
   },
   {
    "duration": 60,
    "start_time": "2022-07-04T11:56:39.404Z"
   },
   {
    "duration": 82,
    "start_time": "2022-07-04T11:58:05.420Z"
   },
   {
    "duration": 3,
    "start_time": "2022-07-04T11:58:21.568Z"
   },
   {
    "duration": 2555,
    "start_time": "2022-07-04T11:58:31.019Z"
   },
   {
    "duration": 64,
    "start_time": "2022-07-04T11:58:43.323Z"
   },
   {
    "duration": 18,
    "start_time": "2022-07-04T11:58:52.784Z"
   },
   {
    "duration": 4391,
    "start_time": "2022-07-04T11:58:53.111Z"
   },
   {
    "duration": 52,
    "start_time": "2022-07-04T11:59:00.699Z"
   },
   {
    "duration": 7,
    "start_time": "2022-07-04T11:59:07.256Z"
   },
   {
    "duration": 5619,
    "start_time": "2022-07-04T11:59:07.419Z"
   },
   {
    "duration": 58,
    "start_time": "2022-07-04T11:59:13.043Z"
   },
   {
    "duration": 4,
    "start_time": "2022-07-04T11:59:18.180Z"
   },
   {
    "duration": 3081,
    "start_time": "2022-07-04T11:59:18.299Z"
   },
   {
    "duration": 47,
    "start_time": "2022-07-04T11:59:21.550Z"
   },
   {
    "duration": 4,
    "start_time": "2022-07-04T11:59:30.891Z"
   },
   {
    "duration": 3183,
    "start_time": "2022-07-04T11:59:31.048Z"
   },
   {
    "duration": 51,
    "start_time": "2022-07-04T11:59:34.234Z"
   },
   {
    "duration": 3,
    "start_time": "2022-07-04T11:59:40.893Z"
   },
   {
    "duration": 2431,
    "start_time": "2022-07-04T11:59:41.019Z"
   },
   {
    "duration": 36,
    "start_time": "2022-07-04T11:59:43.453Z"
   },
   {
    "duration": 4,
    "start_time": "2022-07-04T12:00:03.664Z"
   },
   {
    "duration": 2852,
    "start_time": "2022-07-04T12:00:04.548Z"
   },
   {
    "duration": 55,
    "start_time": "2022-07-04T12:00:10.411Z"
   },
   {
    "duration": 4,
    "start_time": "2022-07-04T12:00:15.211Z"
   },
   {
    "duration": 2698,
    "start_time": "2022-07-04T12:00:15.899Z"
   },
   {
    "duration": 59,
    "start_time": "2022-07-04T12:00:18.599Z"
   },
   {
    "duration": 4,
    "start_time": "2022-07-04T12:00:22.776Z"
   },
   {
    "duration": 2743,
    "start_time": "2022-07-04T12:00:22.923Z"
   },
   {
    "duration": 49,
    "start_time": "2022-07-04T12:00:25.671Z"
   },
   {
    "duration": 3,
    "start_time": "2022-07-04T12:00:29.241Z"
   },
   {
    "duration": 2728,
    "start_time": "2022-07-04T12:00:29.380Z"
   },
   {
    "duration": 68,
    "start_time": "2022-07-04T12:00:32.110Z"
   },
   {
    "duration": 10,
    "start_time": "2022-07-04T12:00:35.727Z"
   },
   {
    "duration": 2684,
    "start_time": "2022-07-04T12:00:35.868Z"
   },
   {
    "duration": 55,
    "start_time": "2022-07-04T12:00:38.562Z"
   },
   {
    "duration": 4,
    "start_time": "2022-07-04T12:00:40.781Z"
   },
   {
    "duration": 4865,
    "start_time": "2022-07-04T12:00:41.444Z"
   },
   {
    "duration": 50,
    "start_time": "2022-07-04T12:00:47.252Z"
   },
   {
    "duration": 17,
    "start_time": "2022-07-04T12:01:11.676Z"
   },
   {
    "duration": 2967,
    "start_time": "2022-07-04T12:01:12.107Z"
   },
   {
    "duration": 56,
    "start_time": "2022-07-04T12:01:15.080Z"
   },
   {
    "duration": 16,
    "start_time": "2022-07-04T12:01:18.928Z"
   },
   {
    "duration": 3503,
    "start_time": "2022-07-04T12:01:19.086Z"
   },
   {
    "duration": 63,
    "start_time": "2022-07-04T12:01:22.591Z"
   },
   {
    "duration": 3,
    "start_time": "2022-07-04T12:01:29.586Z"
   },
   {
    "duration": 2930,
    "start_time": "2022-07-04T12:01:29.820Z"
   },
   {
    "duration": 59,
    "start_time": "2022-07-04T12:01:32.759Z"
   },
   {
    "duration": 11,
    "start_time": "2022-07-04T12:01:35.350Z"
   },
   {
    "duration": 2728,
    "start_time": "2022-07-04T12:01:35.484Z"
   },
   {
    "duration": 51,
    "start_time": "2022-07-04T12:01:38.214Z"
   },
   {
    "duration": 12,
    "start_time": "2022-07-04T12:01:43.139Z"
   },
   {
    "duration": 4034,
    "start_time": "2022-07-04T12:01:43.846Z"
   },
   {
    "duration": 69,
    "start_time": "2022-07-04T12:01:47.882Z"
   },
   {
    "duration": 4,
    "start_time": "2022-07-04T12:01:56.395Z"
   },
   {
    "duration": 6638,
    "start_time": "2022-07-04T12:01:56.554Z"
   },
   {
    "duration": 67,
    "start_time": "2022-07-04T12:02:03.196Z"
   },
   {
    "duration": 3,
    "start_time": "2022-07-04T12:02:11.284Z"
   },
   {
    "duration": 9031,
    "start_time": "2022-07-04T12:02:11.404Z"
   },
   {
    "duration": 61,
    "start_time": "2022-07-04T12:02:20.437Z"
   },
   {
    "duration": 4,
    "start_time": "2022-07-04T12:03:43.387Z"
   },
   {
    "duration": 7445,
    "start_time": "2022-07-04T12:03:44.067Z"
   },
   {
    "duration": 37,
    "start_time": "2022-07-04T12:03:52.284Z"
   },
   {
    "duration": 10,
    "start_time": "2022-07-04T12:03:56.744Z"
   },
   {
    "duration": 7420,
    "start_time": "2022-07-04T12:03:56.895Z"
   },
   {
    "duration": 75,
    "start_time": "2022-07-04T12:04:04.317Z"
   },
   {
    "duration": 5,
    "start_time": "2022-07-04T12:04:12.579Z"
   },
   {
    "duration": 7537,
    "start_time": "2022-07-04T12:04:12.741Z"
   },
   {
    "duration": 51,
    "start_time": "2022-07-04T12:04:20.281Z"
   },
   {
    "duration": 3,
    "start_time": "2022-07-04T12:04:28.580Z"
   },
   {
    "duration": 7962,
    "start_time": "2022-07-04T12:04:28.780Z"
   },
   {
    "duration": 55,
    "start_time": "2022-07-04T12:04:36.750Z"
   },
   {
    "duration": 6,
    "start_time": "2022-07-04T12:05:07.543Z"
   },
   {
    "duration": 7821,
    "start_time": "2022-07-04T12:05:08.221Z"
   },
   {
    "duration": 57,
    "start_time": "2022-07-04T12:05:16.049Z"
   },
   {
    "duration": 9,
    "start_time": "2022-07-04T12:05:22.222Z"
   },
   {
    "duration": 7735,
    "start_time": "2022-07-04T12:05:24.129Z"
   },
   {
    "duration": 55,
    "start_time": "2022-07-04T12:05:31.866Z"
   },
   {
    "duration": 23,
    "start_time": "2022-07-04T12:06:39.461Z"
   },
   {
    "duration": 6,
    "start_time": "2022-07-04T12:06:41.792Z"
   },
   {
    "duration": 739,
    "start_time": "2022-07-04T12:06:42.307Z"
   },
   {
    "duration": 70,
    "start_time": "2022-07-04T12:06:43.057Z"
   },
   {
    "duration": 105,
    "start_time": "2022-07-04T12:06:44.720Z"
   },
   {
    "duration": 45,
    "start_time": "2022-07-04T12:06:48.497Z"
   },
   {
    "duration": 23,
    "start_time": "2022-07-04T12:06:54.543Z"
   },
   {
    "duration": 923,
    "start_time": "2022-07-04T12:06:54.675Z"
   },
   {
    "duration": 98,
    "start_time": "2022-07-04T12:06:55.603Z"
   },
   {
    "duration": 11,
    "start_time": "2022-07-04T12:06:55.703Z"
   },
   {
    "duration": 4,
    "start_time": "2022-07-04T12:06:55.901Z"
   },
   {
    "duration": 13522,
    "start_time": "2022-07-04T12:06:56.688Z"
   },
   {
    "duration": 291,
    "start_time": "2022-07-04T12:07:10.213Z"
   },
   {
    "duration": 3,
    "start_time": "2022-07-04T12:07:10.505Z"
   },
   {
    "duration": 7,
    "start_time": "2022-07-04T12:07:10.510Z"
   },
   {
    "duration": 1165,
    "start_time": "2022-07-04T12:07:10.519Z"
   },
   {
    "duration": 26,
    "start_time": "2022-07-04T12:07:11.686Z"
   },
   {
    "duration": 13,
    "start_time": "2022-07-04T12:07:11.714Z"
   },
   {
    "duration": 18,
    "start_time": "2022-07-04T12:07:11.729Z"
   },
   {
    "duration": 8738,
    "start_time": "2022-07-04T12:07:11.749Z"
   },
   {
    "duration": 24,
    "start_time": "2022-07-04T12:07:20.489Z"
   },
   {
    "duration": 4,
    "start_time": "2022-07-04T12:10:05.519Z"
   },
   {
    "duration": 10986,
    "start_time": "2022-07-04T12:10:05.887Z"
   },
   {
    "duration": 25,
    "start_time": "2022-07-04T12:10:16.874Z"
   },
   {
    "duration": 3,
    "start_time": "2022-07-04T12:10:26.780Z"
   },
   {
    "duration": 2530,
    "start_time": "2022-07-04T12:10:26.911Z"
   },
   {
    "duration": 33,
    "start_time": "2022-07-04T12:10:29.443Z"
   },
   {
    "duration": 9,
    "start_time": "2022-07-04T12:12:34.799Z"
   },
   {
    "duration": 6,
    "start_time": "2022-07-04T12:12:38.191Z"
   },
   {
    "duration": 990,
    "start_time": "2022-07-04T12:12:38.372Z"
   },
   {
    "duration": 172,
    "start_time": "2022-07-04T12:12:39.368Z"
   },
   {
    "duration": 186,
    "start_time": "2022-07-04T12:12:39.553Z"
   },
   {
    "duration": 132,
    "start_time": "2022-07-04T12:12:39.754Z"
   },
   {
    "duration": 52,
    "start_time": "2022-07-04T12:12:39.888Z"
   },
   {
    "duration": 122,
    "start_time": "2022-07-04T12:12:39.950Z"
   },
   {
    "duration": 659,
    "start_time": "2022-07-04T12:12:40.074Z"
   },
   {
    "duration": 82,
    "start_time": "2022-07-04T12:12:40.734Z"
   },
   {
    "duration": 16,
    "start_time": "2022-07-04T12:12:40.818Z"
   },
   {
    "duration": 27,
    "start_time": "2022-07-04T12:12:40.838Z"
   },
   {
    "duration": 7614,
    "start_time": "2022-07-04T12:12:40.867Z"
   },
   {
    "duration": 404,
    "start_time": "2022-07-04T12:12:48.483Z"
   },
   {
    "duration": 3,
    "start_time": "2022-07-04T12:12:48.889Z"
   },
   {
    "duration": 8,
    "start_time": "2022-07-04T12:12:48.893Z"
   },
   {
    "duration": 851,
    "start_time": "2022-07-04T12:12:48.903Z"
   },
   {
    "duration": 29,
    "start_time": "2022-07-04T12:12:49.756Z"
   },
   {
    "duration": 5,
    "start_time": "2022-07-04T12:12:49.786Z"
   },
   {
    "duration": 6,
    "start_time": "2022-07-04T12:12:49.792Z"
   },
   {
    "duration": 2388,
    "start_time": "2022-07-04T12:12:49.799Z"
   },
   {
    "duration": 38,
    "start_time": "2022-07-04T12:12:52.190Z"
   },
   {
    "duration": 12,
    "start_time": "2022-07-04T12:13:09.351Z"
   },
   {
    "duration": 4924,
    "start_time": "2022-07-04T12:13:09.572Z"
   },
   {
    "duration": 38,
    "start_time": "2022-07-04T12:13:14.498Z"
   },
   {
    "duration": 3,
    "start_time": "2022-07-04T12:13:24.881Z"
   },
   {
    "duration": 5742,
    "start_time": "2022-07-04T12:13:25.120Z"
   },
   {
    "duration": 39,
    "start_time": "2022-07-04T12:13:30.864Z"
   },
   {
    "duration": 4,
    "start_time": "2022-07-04T12:13:50.480Z"
   },
   {
    "duration": 6450,
    "start_time": "2022-07-04T12:13:50.799Z"
   },
   {
    "duration": 43,
    "start_time": "2022-07-04T12:13:57.252Z"
   },
   {
    "duration": 8,
    "start_time": "2022-07-04T12:14:03.024Z"
   },
   {
    "duration": 6438,
    "start_time": "2022-07-04T12:14:03.447Z"
   },
   {
    "duration": 48,
    "start_time": "2022-07-04T12:14:09.888Z"
   },
   {
    "duration": 3,
    "start_time": "2022-07-04T12:14:13.973Z"
   },
   {
    "duration": 6167,
    "start_time": "2022-07-04T12:14:14.143Z"
   },
   {
    "duration": 68,
    "start_time": "2022-07-04T12:14:20.311Z"
   },
   {
    "duration": 14,
    "start_time": "2022-07-04T12:14:24.816Z"
   },
   {
    "duration": 3,
    "start_time": "2022-07-04T12:15:13.971Z"
   },
   {
    "duration": 6449,
    "start_time": "2022-07-04T12:15:14.147Z"
   },
   {
    "duration": 45,
    "start_time": "2022-07-04T12:15:20.598Z"
   },
   {
    "duration": 5,
    "start_time": "2022-07-04T12:15:28.260Z"
   },
   {
    "duration": 7759,
    "start_time": "2022-07-04T12:15:28.682Z"
   },
   {
    "duration": 45,
    "start_time": "2022-07-04T12:15:36.443Z"
   },
   {
    "duration": 7,
    "start_time": "2022-07-04T12:17:48.183Z"
   },
   {
    "duration": 6,
    "start_time": "2022-07-04T12:18:16.841Z"
   },
   {
    "duration": 74,
    "start_time": "2022-07-04T12:18:17.015Z"
   },
   {
    "duration": 36,
    "start_time": "2022-07-04T12:18:28.720Z"
   },
   {
    "duration": 21,
    "start_time": "2022-07-04T12:18:54.487Z"
   },
   {
    "duration": 74,
    "start_time": "2022-07-04T12:19:04.143Z"
   },
   {
    "duration": 30,
    "start_time": "2022-07-04T12:19:05.372Z"
   },
   {
    "duration": 3,
    "start_time": "2022-07-04T12:19:10.071Z"
   },
   {
    "duration": 707,
    "start_time": "2022-07-04T12:19:10.226Z"
   },
   {
    "duration": 98,
    "start_time": "2022-07-04T12:19:12.138Z"
   },
   {
    "duration": 3,
    "start_time": "2022-07-04T12:19:25.409Z"
   },
   {
    "duration": 240,
    "start_time": "2022-07-04T12:19:25.887Z"
   },
   {
    "duration": 93,
    "start_time": "2022-07-04T12:19:27.066Z"
   },
   {
    "duration": 3,
    "start_time": "2022-07-04T12:19:30.279Z"
   },
   {
    "duration": 605,
    "start_time": "2022-07-04T12:19:30.479Z"
   },
   {
    "duration": 49,
    "start_time": "2022-07-04T12:19:31.845Z"
   },
   {
    "duration": 3,
    "start_time": "2022-07-04T12:19:38.183Z"
   },
   {
    "duration": 560,
    "start_time": "2022-07-04T12:19:38.578Z"
   },
   {
    "duration": 27,
    "start_time": "2022-07-04T12:19:39.380Z"
   },
   {
    "duration": 3,
    "start_time": "2022-07-04T12:19:45.865Z"
   },
   {
    "duration": 681,
    "start_time": "2022-07-04T12:19:46.061Z"
   },
   {
    "duration": 136,
    "start_time": "2022-07-04T12:19:47.505Z"
   },
   {
    "duration": 7,
    "start_time": "2022-07-04T12:20:26.539Z"
   },
   {
    "duration": 7,
    "start_time": "2022-07-04T12:20:37.343Z"
   },
   {
    "duration": 64,
    "start_time": "2022-07-04T12:20:37.493Z"
   },
   {
    "duration": 492,
    "start_time": "2022-07-04T12:20:38.721Z"
   },
   {
    "duration": 3,
    "start_time": "2022-07-04T12:20:46.306Z"
   },
   {
    "duration": 79,
    "start_time": "2022-07-04T12:20:46.497Z"
   },
   {
    "duration": 487,
    "start_time": "2022-07-04T12:20:47.400Z"
   },
   {
    "duration": 3,
    "start_time": "2022-07-04T12:20:51.383Z"
   },
   {
    "duration": 70,
    "start_time": "2022-07-04T12:20:51.578Z"
   },
   {
    "duration": 495,
    "start_time": "2022-07-04T12:20:52.666Z"
   },
   {
    "duration": 7,
    "start_time": "2022-07-04T12:20:56.936Z"
   },
   {
    "duration": 81,
    "start_time": "2022-07-04T12:20:57.121Z"
   },
   {
    "duration": 526,
    "start_time": "2022-07-04T12:20:57.604Z"
   },
   {
    "duration": 7,
    "start_time": "2022-07-04T12:21:00.983Z"
   },
   {
    "duration": 93,
    "start_time": "2022-07-04T12:21:01.202Z"
   },
   {
    "duration": 531,
    "start_time": "2022-07-04T12:21:01.887Z"
   },
   {
    "duration": 4,
    "start_time": "2022-07-04T12:21:08.397Z"
   },
   {
    "duration": 73,
    "start_time": "2022-07-04T12:21:08.653Z"
   },
   {
    "duration": 518,
    "start_time": "2022-07-04T12:21:09.440Z"
   },
   {
    "duration": 45,
    "start_time": "2022-07-04T12:22:01.029Z"
   },
   {
    "duration": 11,
    "start_time": "2022-07-04T12:22:52.818Z"
   },
   {
    "duration": 95828,
    "start_time": "2022-07-04T12:23:02.439Z"
   },
   {
    "duration": 168,
    "start_time": "2022-07-04T12:24:38.279Z"
   },
   {
    "duration": 3,
    "start_time": "2022-07-04T12:25:04.472Z"
   },
   {
    "duration": 2,
    "start_time": "2022-07-04T12:25:17.469Z"
   },
   {
    "duration": 316,
    "start_time": "2022-07-04T12:25:23.394Z"
   },
   {
    "duration": 44,
    "start_time": "2022-07-04T12:25:30.875Z"
   },
   {
    "duration": 3,
    "start_time": "2022-07-04T12:26:04.515Z"
   },
   {
    "duration": 3,
    "start_time": "2022-07-04T12:26:12.250Z"
   },
   {
    "duration": 945,
    "start_time": "2022-07-04T12:26:12.940Z"
   },
   {
    "duration": 99,
    "start_time": "2022-07-04T12:26:14.874Z"
   },
   {
    "duration": 6,
    "start_time": "2022-07-04T12:26:19.010Z"
   },
   {
    "duration": 729,
    "start_time": "2022-07-04T12:26:19.178Z"
   },
   {
    "duration": 75,
    "start_time": "2022-07-04T12:26:20.082Z"
   },
   {
    "duration": 3,
    "start_time": "2022-07-04T12:26:24.082Z"
   },
   {
    "duration": 351,
    "start_time": "2022-07-04T12:26:24.479Z"
   },
   {
    "duration": 50,
    "start_time": "2022-07-04T12:26:25.698Z"
   },
   {
    "duration": 4,
    "start_time": "2022-07-04T12:26:28.663Z"
   },
   {
    "duration": 132,
    "start_time": "2022-07-04T12:26:28.982Z"
   },
   {
    "duration": 30,
    "start_time": "2022-07-04T12:26:32.002Z"
   },
   {
    "duration": 2,
    "start_time": "2022-07-04T12:26:35.411Z"
   },
   {
    "duration": 212,
    "start_time": "2022-07-04T12:26:35.578Z"
   },
   {
    "duration": 56,
    "start_time": "2022-07-04T12:26:36.325Z"
   },
   {
    "duration": 4,
    "start_time": "2022-07-04T12:26:41.241Z"
   },
   {
    "duration": 322,
    "start_time": "2022-07-04T12:26:41.442Z"
   },
   {
    "duration": 65,
    "start_time": "2022-07-04T12:26:42.667Z"
   },
   {
    "duration": 3,
    "start_time": "2022-07-04T12:26:47.942Z"
   },
   {
    "duration": 288,
    "start_time": "2022-07-04T12:26:48.082Z"
   },
   {
    "duration": 71,
    "start_time": "2022-07-04T12:26:49.218Z"
   },
   {
    "duration": 4,
    "start_time": "2022-07-04T12:29:06.516Z"
   },
   {
    "duration": 5550,
    "start_time": "2022-07-04T12:29:08.691Z"
   },
   {
    "duration": 167,
    "start_time": "2022-07-04T12:29:14.253Z"
   },
   {
    "duration": 4,
    "start_time": "2022-07-04T12:29:20.915Z"
   },
   {
    "duration": 6903,
    "start_time": "2022-07-04T12:29:21.151Z"
   },
   {
    "duration": 226,
    "start_time": "2022-07-04T12:29:28.058Z"
   },
   {
    "duration": 6,
    "start_time": "2022-07-04T12:29:32.995Z"
   },
   {
    "duration": 5483,
    "start_time": "2022-07-04T12:29:33.162Z"
   },
   {
    "duration": 171,
    "start_time": "2022-07-04T12:29:38.649Z"
   },
   {
    "duration": 3,
    "start_time": "2022-07-04T12:30:21.177Z"
   },
   {
    "duration": 9993,
    "start_time": "2022-07-04T12:30:22.938Z"
   },
   {
    "duration": 545,
    "start_time": "2022-07-04T12:30:32.942Z"
   },
   {
    "duration": 7,
    "start_time": "2022-07-04T12:30:56.643Z"
   },
   {
    "duration": 9417,
    "start_time": "2022-07-04T12:30:58.495Z"
   },
   {
    "duration": 610,
    "start_time": "2022-07-04T12:31:07.914Z"
   },
   {
    "duration": 2211,
    "start_time": "2022-07-04T12:31:35.204Z"
   },
   {
    "duration": 48,
    "start_time": "2022-07-04T12:31:37.418Z"
   },
   {
    "duration": 2178,
    "start_time": "2022-07-04T12:31:45.884Z"
   },
   {
    "duration": 31,
    "start_time": "2022-07-04T12:31:48.179Z"
   },
   {
    "duration": 995,
    "start_time": "2022-07-04T12:31:58.985Z"
   },
   {
    "duration": 27,
    "start_time": "2022-07-04T12:31:59.982Z"
   },
   {
    "duration": 2575,
    "start_time": "2022-07-04T12:32:04.387Z"
   },
   {
    "duration": 30,
    "start_time": "2022-07-04T12:32:06.964Z"
   },
   {
    "duration": 2488,
    "start_time": "2022-07-04T12:32:25.769Z"
   },
   {
    "duration": 28,
    "start_time": "2022-07-04T12:32:28.259Z"
   },
   {
    "duration": 3080,
    "start_time": "2022-07-04T12:32:35.380Z"
   },
   {
    "duration": 30,
    "start_time": "2022-07-04T12:32:38.462Z"
   },
   {
    "duration": 2856,
    "start_time": "2022-07-04T12:32:42.196Z"
   },
   {
    "duration": 39,
    "start_time": "2022-07-04T12:32:45.057Z"
   },
   {
    "duration": 2839,
    "start_time": "2022-07-04T12:32:52.782Z"
   },
   {
    "duration": 39,
    "start_time": "2022-07-04T12:32:55.626Z"
   },
   {
    "duration": 4,
    "start_time": "2022-07-04T12:34:06.693Z"
   },
   {
    "duration": 7938,
    "start_time": "2022-07-04T12:34:07.205Z"
   },
   {
    "duration": 35,
    "start_time": "2022-07-04T12:34:15.153Z"
   },
   {
    "duration": 14,
    "start_time": "2022-07-04T12:38:14.084Z"
   },
   {
    "duration": 6,
    "start_time": "2022-07-04T12:38:18.388Z"
   },
   {
    "duration": 5,
    "start_time": "2022-07-04T12:38:23.268Z"
   },
   {
    "duration": 5,
    "start_time": "2022-07-04T12:38:34.278Z"
   },
   {
    "duration": 3,
    "start_time": "2022-07-04T12:43:27.880Z"
   },
   {
    "duration": 47,
    "start_time": "2022-07-04T12:43:29.831Z"
   },
   {
    "duration": 3,
    "start_time": "2022-07-04T12:43:43.463Z"
   },
   {
    "duration": 4,
    "start_time": "2022-07-04T12:44:03.847Z"
   },
   {
    "duration": 42,
    "start_time": "2022-07-04T12:44:05.719Z"
   },
   {
    "duration": 10,
    "start_time": "2022-07-04T12:44:36.807Z"
   },
   {
    "duration": 4,
    "start_time": "2022-07-04T12:45:12.487Z"
   },
   {
    "duration": 616231,
    "start_time": "2022-07-04T12:45:13.271Z"
   },
   {
    "duration": 47,
    "start_time": "2022-07-04T12:55:29.509Z"
   },
   {
    "duration": 35,
    "start_time": "2022-07-04T13:07:34.920Z"
   },
   {
    "duration": 9,
    "start_time": "2022-07-04T13:08:27.421Z"
   },
   {
    "duration": 31,
    "start_time": "2022-07-04T13:08:35.290Z"
   },
   {
    "duration": 13,
    "start_time": "2022-07-04T13:08:56.957Z"
   },
   {
    "duration": 1345,
    "start_time": "2022-07-04T13:09:21.395Z"
   },
   {
    "duration": 9,
    "start_time": "2022-07-04T13:09:33.152Z"
   },
   {
    "duration": 1484,
    "start_time": "2022-07-04T13:09:51.437Z"
   },
   {
    "duration": 7,
    "start_time": "2022-07-04T13:09:58.831Z"
   },
   {
    "duration": 7,
    "start_time": "2022-07-04T13:10:04.206Z"
   },
   {
    "duration": 26,
    "start_time": "2022-07-04T13:10:14.110Z"
   },
   {
    "duration": 12,
    "start_time": "2022-07-04T13:10:41.288Z"
   },
   {
    "duration": 7,
    "start_time": "2022-07-04T13:10:44.126Z"
   },
   {
    "duration": 49,
    "start_time": "2022-07-04T13:13:49.009Z"
   },
   {
    "duration": 5,
    "start_time": "2022-07-04T13:13:52.415Z"
   },
   {
    "duration": 7830,
    "start_time": "2022-07-04T13:13:53.405Z"
   },
   {
    "duration": 47,
    "start_time": "2022-07-04T13:14:01.237Z"
   },
   {
    "duration": 12,
    "start_time": "2022-07-04T13:14:12.596Z"
   },
   {
    "duration": 7497,
    "start_time": "2022-07-04T13:14:12.797Z"
   },
   {
    "duration": 44,
    "start_time": "2022-07-04T13:14:20.296Z"
   },
   {
    "duration": 11,
    "start_time": "2022-07-04T13:14:25.991Z"
   },
   {
    "duration": 7470,
    "start_time": "2022-07-04T13:14:26.385Z"
   },
   {
    "duration": 65,
    "start_time": "2022-07-04T13:14:33.857Z"
   },
   {
    "duration": 3,
    "start_time": "2022-07-04T13:15:49.211Z"
   },
   {
    "duration": 7999,
    "start_time": "2022-07-04T13:15:50.209Z"
   },
   {
    "duration": 47,
    "start_time": "2022-07-04T13:15:58.209Z"
   },
   {
    "duration": 9,
    "start_time": "2022-07-04T13:16:03.782Z"
   },
   {
    "duration": 17087,
    "start_time": "2022-07-04T13:16:04.030Z"
   },
   {
    "duration": 38,
    "start_time": "2022-07-04T13:16:21.119Z"
   },
   {
    "duration": 13,
    "start_time": "2022-07-04T13:16:30.193Z"
   },
   {
    "duration": 16603,
    "start_time": "2022-07-04T13:16:30.352Z"
   },
   {
    "duration": 73,
    "start_time": "2022-07-04T13:16:46.958Z"
   },
   {
    "duration": 11,
    "start_time": "2022-07-04T13:16:53.405Z"
   },
   {
    "duration": 23224,
    "start_time": "2022-07-04T13:16:53.805Z"
   },
   {
    "duration": 78,
    "start_time": "2022-07-04T13:17:17.031Z"
   },
   {
    "duration": 9,
    "start_time": "2022-07-04T13:17:27.963Z"
   },
   {
    "duration": 37309,
    "start_time": "2022-07-04T13:17:28.315Z"
   },
   {
    "duration": 77,
    "start_time": "2022-07-04T13:18:05.627Z"
   },
   {
    "duration": 4,
    "start_time": "2022-07-04T13:18:11.851Z"
   },
   {
    "duration": 51495,
    "start_time": "2022-07-04T13:18:12.154Z"
   },
   {
    "duration": 95,
    "start_time": "2022-07-04T13:19:03.652Z"
   },
   {
    "duration": 7,
    "start_time": "2022-07-04T13:19:53.339Z"
   },
   {
    "duration": 1767,
    "start_time": "2022-07-04T13:19:54.807Z"
   },
   {
    "duration": 47,
    "start_time": "2022-07-04T13:19:56.584Z"
   },
   {
    "duration": 16,
    "start_time": "2022-07-04T13:22:21.909Z"
   },
   {
    "duration": 36891,
    "start_time": "2022-07-04T13:22:31.697Z"
   },
   {
    "duration": 190,
    "start_time": "2022-07-04T13:23:08.601Z"
   },
   {
    "duration": 1199,
    "start_time": "2022-07-04T13:24:37.949Z"
   },
   {
    "duration": 7512,
    "start_time": "2022-07-04T13:25:29.662Z"
   },
   {
    "duration": 104,
    "start_time": "2022-07-04T13:25:37.179Z"
   },
   {
    "duration": 22,
    "start_time": "2022-07-04T13:26:50.402Z"
   },
   {
    "duration": 426,
    "start_time": "2022-07-04T16:11:55.908Z"
   },
   {
    "duration": 262,
    "start_time": "2022-07-04T16:11:58.398Z"
   },
   {
    "duration": 6,
    "start_time": "2022-07-04T16:11:59.222Z"
   },
   {
    "duration": 44,
    "start_time": "2022-07-04T16:11:59.981Z"
   },
   {
    "duration": 40,
    "start_time": "2022-07-04T16:12:00.963Z"
   },
   {
    "duration": 11,
    "start_time": "2022-07-04T16:12:01.152Z"
   },
   {
    "duration": 77,
    "start_time": "2022-07-04T16:12:02.761Z"
   },
   {
    "duration": 5,
    "start_time": "2022-07-04T16:12:19.675Z"
   },
   {
    "duration": 7,
    "start_time": "2022-07-04T16:12:37.435Z"
   },
   {
    "duration": 68,
    "start_time": "2022-07-04T16:12:44.054Z"
   },
   {
    "duration": 4,
    "start_time": "2022-07-04T16:12:44.247Z"
   },
   {
    "duration": 40,
    "start_time": "2022-07-04T16:12:44.435Z"
   },
   {
    "duration": 47,
    "start_time": "2022-07-04T16:12:44.623Z"
   },
   {
    "duration": 11,
    "start_time": "2022-07-04T16:12:44.796Z"
   },
   {
    "duration": 7,
    "start_time": "2022-07-04T16:12:57.671Z"
   },
   {
    "duration": 18,
    "start_time": "2022-07-04T16:13:01.786Z"
   },
   {
    "duration": 635,
    "start_time": "2022-07-04T16:13:04.077Z"
   },
   {
    "duration": 157,
    "start_time": "2022-07-04T16:13:04.714Z"
   },
   {
    "duration": 726,
    "start_time": "2022-07-04T16:13:06.936Z"
   },
   {
    "duration": 9,
    "start_time": "2022-07-04T16:13:08.050Z"
   },
   {
    "duration": 10,
    "start_time": "2022-07-04T16:13:08.318Z"
   },
   {
    "duration": 14,
    "start_time": "2022-07-04T16:13:08.995Z"
   },
   {
    "duration": 15,
    "start_time": "2022-07-04T16:13:09.578Z"
   },
   {
    "duration": 19,
    "start_time": "2022-07-04T16:13:10.327Z"
   },
   {
    "duration": 4,
    "start_time": "2022-07-04T16:13:15.947Z"
   },
   {
    "duration": 6,
    "start_time": "2022-07-04T16:13:35.360Z"
   },
   {
    "duration": 8,
    "start_time": "2022-07-04T16:14:22.022Z"
   },
   {
    "duration": 25,
    "start_time": "2022-07-04T16:14:28.047Z"
   },
   {
    "duration": 17,
    "start_time": "2022-07-04T16:14:50.179Z"
   },
   {
    "duration": 52,
    "start_time": "2022-07-04T16:15:21.390Z"
   },
   {
    "duration": 6,
    "start_time": "2022-07-04T16:15:55.071Z"
   },
   {
    "duration": 28,
    "start_time": "2022-07-04T16:16:00.584Z"
   },
   {
    "duration": 8,
    "start_time": "2022-07-04T16:17:10.194Z"
   },
   {
    "duration": 28,
    "start_time": "2022-07-04T16:17:12.229Z"
   },
   {
    "duration": 10,
    "start_time": "2022-07-04T16:17:28.002Z"
   },
   {
    "duration": 7,
    "start_time": "2022-07-04T16:17:51.014Z"
   },
   {
    "duration": 36,
    "start_time": "2022-07-04T16:17:55.366Z"
   },
   {
    "duration": 6,
    "start_time": "2022-07-04T16:18:17.061Z"
   },
   {
    "duration": 33,
    "start_time": "2022-07-04T16:18:18.420Z"
   },
   {
    "duration": 12,
    "start_time": "2022-07-04T16:18:31.189Z"
   },
   {
    "duration": 9,
    "start_time": "2022-07-04T16:18:44.376Z"
   },
   {
    "duration": 37,
    "start_time": "2022-07-04T16:18:44.799Z"
   },
   {
    "duration": 7,
    "start_time": "2022-07-04T16:19:33.538Z"
   },
   {
    "duration": 8,
    "start_time": "2022-07-04T16:19:44.156Z"
   },
   {
    "duration": 35,
    "start_time": "2022-07-04T16:19:47.785Z"
   },
   {
    "duration": 12,
    "start_time": "2022-07-04T16:20:04.421Z"
   },
   {
    "duration": 17,
    "start_time": "2022-07-04T16:20:04.815Z"
   },
   {
    "duration": 9,
    "start_time": "2022-07-04T16:20:46.788Z"
   },
   {
    "duration": 44,
    "start_time": "2022-07-04T16:21:38.355Z"
   },
   {
    "duration": 6,
    "start_time": "2022-07-04T16:21:39.000Z"
   },
   {
    "duration": 890,
    "start_time": "2022-07-04T16:21:43.640Z"
   },
   {
    "duration": 36,
    "start_time": "2022-07-04T16:21:47.396Z"
   },
   {
    "duration": 32,
    "start_time": "2022-07-04T16:22:00.495Z"
   },
   {
    "duration": 3,
    "start_time": "2022-07-04T16:22:37.192Z"
   },
   {
    "duration": 504,
    "start_time": "2022-07-04T16:22:38.850Z"
   },
   {
    "duration": 63,
    "start_time": "2022-07-04T16:22:40.294Z"
   },
   {
    "duration": 3,
    "start_time": "2022-07-04T16:22:44.177Z"
   },
   {
    "duration": 4795,
    "start_time": "2022-07-04T16:22:44.606Z"
   },
   {
    "duration": 165,
    "start_time": "2022-07-04T16:22:49.402Z"
   },
   {
    "duration": 3,
    "start_time": "2022-07-04T16:22:55.991Z"
   },
   {
    "duration": 4,
    "start_time": "2022-07-04T16:22:56.314Z"
   },
   {
    "duration": 2917,
    "start_time": "2022-07-04T16:23:16.599Z"
   },
   {
    "duration": 30,
    "start_time": "2022-07-04T16:23:20.492Z"
   },
   {
    "duration": 70,
    "start_time": "2022-07-04T16:23:23.418Z"
   },
   {
    "duration": 4,
    "start_time": "2022-07-04T16:23:35.171Z"
   },
   {
    "duration": 3142,
    "start_time": "2022-07-04T16:23:40.276Z"
   },
   {
    "duration": 49,
    "start_time": "2022-07-04T16:23:43.420Z"
   },
   {
    "duration": 3,
    "start_time": "2022-07-04T16:23:51.502Z"
   },
   {
    "duration": 4593,
    "start_time": "2022-07-04T16:23:51.828Z"
   },
   {
    "duration": 43,
    "start_time": "2022-07-04T16:23:56.422Z"
   },
   {
    "duration": 3,
    "start_time": "2022-07-04T16:24:01.764Z"
   },
   {
    "duration": 7341,
    "start_time": "2022-07-04T16:24:02.521Z"
   },
   {
    "duration": 38,
    "start_time": "2022-07-04T16:24:09.864Z"
   },
   {
    "duration": 4,
    "start_time": "2022-07-04T16:24:19.737Z"
   },
   {
    "duration": 8090,
    "start_time": "2022-07-04T16:24:20.007Z"
   },
   {
    "duration": 50,
    "start_time": "2022-07-04T16:24:28.100Z"
   },
   {
    "duration": 2,
    "start_time": "2022-07-04T16:24:42.265Z"
   },
   {
    "duration": 9248,
    "start_time": "2022-07-04T16:24:42.426Z"
   },
   {
    "duration": 74,
    "start_time": "2022-07-04T16:24:51.676Z"
   },
   {
    "duration": 4,
    "start_time": "2022-07-04T16:25:00.447Z"
   },
   {
    "duration": 8353,
    "start_time": "2022-07-04T16:25:00.602Z"
   },
   {
    "duration": 47,
    "start_time": "2022-07-04T16:25:10.188Z"
   },
   {
    "duration": 3,
    "start_time": "2022-07-04T16:25:15.772Z"
   },
   {
    "duration": 8175,
    "start_time": "2022-07-04T16:25:16.164Z"
   },
   {
    "duration": 39,
    "start_time": "2022-07-04T16:25:24.341Z"
   },
   {
    "duration": 4,
    "start_time": "2022-07-04T16:29:35.061Z"
   },
   {
    "duration": 2237654,
    "start_time": "2022-07-04T16:29:37.526Z"
   },
   {
    "duration": 48,
    "start_time": "2022-07-04T17:06:55.183Z"
   },
   {
    "duration": 11,
    "start_time": "2022-07-04T17:06:55.233Z"
   },
   {
    "duration": 63,
    "start_time": "2022-07-04T17:11:47.915Z"
   },
   {
    "duration": 37,
    "start_time": "2022-07-04T17:14:27.780Z"
   },
   {
    "duration": 46,
    "start_time": "2022-07-04T17:14:33.210Z"
   },
   {
    "duration": 3,
    "start_time": "2022-07-04T17:22:17.450Z"
   },
   {
    "duration": 11949,
    "start_time": "2022-07-04T17:22:18.535Z"
   },
   {
    "duration": 40,
    "start_time": "2022-07-04T17:22:30.486Z"
   },
   {
    "duration": 4,
    "start_time": "2022-07-04T17:24:41.373Z"
   },
   {
    "duration": 9123,
    "start_time": "2022-07-04T17:24:43.815Z"
   },
   {
    "duration": 541,
    "start_time": "2022-07-04T17:24:52.941Z"
   },
   {
    "duration": 36589,
    "start_time": "2022-07-04T17:26:50.357Z"
   },
   {
    "duration": 198,
    "start_time": "2022-07-04T17:27:26.949Z"
   },
   {
    "duration": 13,
    "start_time": "2022-07-04T17:28:19.731Z"
   },
   {
    "duration": 7,
    "start_time": "2022-07-04T17:29:06.303Z"
   },
   {
    "duration": 3,
    "start_time": "2022-07-04T17:29:31.767Z"
   },
   {
    "duration": 75734,
    "start_time": "2022-07-04T17:29:54.924Z"
   },
   {
    "duration": 5,
    "start_time": "2022-07-04T17:31:18.748Z"
   },
   {
    "duration": 100,
    "start_time": "2022-07-04T17:31:58.627Z"
   },
   {
    "duration": 103,
    "start_time": "2022-07-04T17:32:03.621Z"
   },
   {
    "duration": 107,
    "start_time": "2022-07-04T17:32:12.945Z"
   },
   {
    "duration": 177,
    "start_time": "2022-07-04T17:32:17.149Z"
   },
   {
    "duration": 24,
    "start_time": "2022-07-04T17:32:25.488Z"
   },
   {
    "duration": 8,
    "start_time": "2022-07-04T17:35:49.752Z"
   },
   {
    "duration": 35749,
    "start_time": "2022-07-04T17:35:53.541Z"
   },
   {
    "duration": 0,
    "start_time": "2022-07-04T17:36:29.292Z"
   },
   {
    "duration": 0,
    "start_time": "2022-07-04T17:36:29.293Z"
   },
   {
    "duration": 8,
    "start_time": "2022-07-04T17:36:37.458Z"
   },
   {
    "duration": 124360,
    "start_time": "2022-07-04T17:36:38.175Z"
   },
   {
    "duration": 91,
    "start_time": "2022-07-04T17:38:42.538Z"
   },
   {
    "duration": 26,
    "start_time": "2022-07-04T17:46:01.578Z"
   },
   {
    "duration": 26,
    "start_time": "2022-07-04T17:46:24.900Z"
   },
   {
    "duration": 2,
    "start_time": "2022-07-04T17:47:10.449Z"
   },
   {
    "duration": 3,
    "start_time": "2022-07-04T17:47:13.600Z"
   },
   {
    "duration": 3,
    "start_time": "2022-07-04T17:47:16.824Z"
   },
   {
    "duration": 2,
    "start_time": "2022-07-04T17:48:58.270Z"
   },
   {
    "duration": 2,
    "start_time": "2022-07-04T17:49:01.454Z"
   },
   {
    "duration": 3,
    "start_time": "2022-07-04T17:49:08.017Z"
   },
   {
    "duration": 7,
    "start_time": "2022-07-04T17:49:17.131Z"
   },
   {
    "duration": 3,
    "start_time": "2022-07-04T17:49:20.955Z"
   },
   {
    "duration": 5,
    "start_time": "2022-07-04T17:49:53.920Z"
   },
   {
    "duration": 2,
    "start_time": "2022-07-04T17:49:56.159Z"
   },
   {
    "duration": 3,
    "start_time": "2022-07-04T17:49:57.961Z"
   },
   {
    "duration": 3,
    "start_time": "2022-07-04T17:53:18.174Z"
   },
   {
    "duration": 9,
    "start_time": "2022-07-04T17:55:39.296Z"
   },
   {
    "duration": 327555,
    "start_time": "2022-07-04T17:55:42.678Z"
   },
   {
    "duration": 6,
    "start_time": "2022-07-04T18:01:10.237Z"
   },
   {
    "duration": 37,
    "start_time": "2022-07-04T18:01:10.245Z"
   },
   {
    "duration": 3,
    "start_time": "2022-07-04T18:06:27.083Z"
   },
   {
    "duration": 3,
    "start_time": "2022-07-04T18:06:28.110Z"
   },
   {
    "duration": 250,
    "start_time": "2022-07-04T18:06:29.791Z"
   },
   {
    "duration": 34,
    "start_time": "2022-07-04T18:06:33.581Z"
   },
   {
    "duration": 10,
    "start_time": "2022-07-04T18:06:49.722Z"
   },
   {
    "duration": 3,
    "start_time": "2022-07-04T18:06:50.137Z"
   },
   {
    "duration": 53,
    "start_time": "2022-07-04T18:06:50.806Z"
   },
   {
    "duration": 428,
    "start_time": "2022-07-04T18:06:51.869Z"
   },
   {
    "duration": 3,
    "start_time": "2022-07-04T18:06:58.140Z"
   },
   {
    "duration": 51,
    "start_time": "2022-07-04T18:06:58.383Z"
   },
   {
    "duration": 573,
    "start_time": "2022-07-04T18:06:59.616Z"
   },
   {
    "duration": 3,
    "start_time": "2022-07-04T18:07:03.663Z"
   },
   {
    "duration": 48,
    "start_time": "2022-07-04T18:07:04.035Z"
   },
   {
    "duration": 463,
    "start_time": "2022-07-04T18:07:04.290Z"
   },
   {
    "duration": 3,
    "start_time": "2022-07-04T18:07:16.080Z"
   },
   {
    "duration": 336,
    "start_time": "2022-07-04T18:07:16.657Z"
   },
   {
    "duration": 46,
    "start_time": "2022-07-04T18:07:17.735Z"
   },
   {
    "duration": 3,
    "start_time": "2022-07-04T18:07:21.445Z"
   },
   {
    "duration": 581,
    "start_time": "2022-07-04T18:07:21.634Z"
   },
   {
    "duration": 68,
    "start_time": "2022-07-04T18:07:23.285Z"
   },
   {
    "duration": 3,
    "start_time": "2022-07-04T18:08:12.634Z"
   },
   {
    "duration": 3,
    "start_time": "2022-07-04T18:08:17.824Z"
   },
   {
    "duration": 3,
    "start_time": "2022-07-04T18:08:18.954Z"
   },
   {
    "duration": 3,
    "start_time": "2022-07-04T18:08:27.641Z"
   },
   {
    "duration": 2,
    "start_time": "2022-07-04T18:08:30.314Z"
   },
   {
    "duration": 3,
    "start_time": "2022-07-04T18:08:32.594Z"
   },
   {
    "duration": 2,
    "start_time": "2022-07-04T18:08:37.676Z"
   },
   {
    "duration": 58,
    "start_time": "2022-07-04T18:08:46.967Z"
   },
   {
    "duration": 4,
    "start_time": "2022-07-04T18:08:56.538Z"
   },
   {
    "duration": 4,
    "start_time": "2022-07-04T18:09:09.435Z"
   },
   {
    "duration": 4,
    "start_time": "2022-07-04T18:09:13.835Z"
   },
   {
    "duration": 4,
    "start_time": "2022-07-04T18:09:25.948Z"
   },
   {
    "duration": 9,
    "start_time": "2022-07-04T18:09:29.902Z"
   },
   {
    "duration": 1108514,
    "start_time": "2022-07-04T18:09:30.371Z"
   },
   {
    "duration": 5,
    "start_time": "2022-07-04T18:27:58.887Z"
   },
   {
    "duration": 57,
    "start_time": "2022-07-04T18:27:58.893Z"
   },
   {
    "duration": 20,
    "start_time": "2022-07-04T18:27:58.952Z"
   },
   {
    "duration": 5,
    "start_time": "2022-07-04T18:29:34.352Z"
   },
   {
    "duration": 49,
    "start_time": "2022-07-04T18:46:41.366Z"
   },
   {
    "duration": 22,
    "start_time": "2022-07-04T18:47:21.740Z"
   },
   {
    "duration": 7,
    "start_time": "2022-07-04T18:47:44.212Z"
   },
   {
    "duration": 125,
    "start_time": "2022-07-04T18:47:54.188Z"
   },
   {
    "duration": 75,
    "start_time": "2022-07-04T18:48:08.496Z"
   },
   {
    "duration": 69,
    "start_time": "2022-07-04T18:48:35.268Z"
   },
   {
    "duration": 91,
    "start_time": "2022-07-04T18:48:59.817Z"
   },
   {
    "duration": 81,
    "start_time": "2022-07-04T18:49:26.632Z"
   },
   {
    "duration": 120,
    "start_time": "2022-07-04T18:49:35.922Z"
   },
   {
    "duration": 113,
    "start_time": "2022-07-04T18:49:43.276Z"
   },
   {
    "duration": 2,
    "start_time": "2022-07-04T18:50:13.818Z"
   },
   {
    "duration": 5,
    "start_time": "2022-07-04T18:50:20.163Z"
   },
   {
    "duration": 21,
    "start_time": "2022-07-04T18:50:27.831Z"
   },
   {
    "duration": 5,
    "start_time": "2022-07-04T18:51:58.965Z"
   },
   {
    "duration": 65,
    "start_time": "2022-07-04T18:52:02.596Z"
   },
   {
    "duration": 7,
    "start_time": "2022-07-04T18:53:44.574Z"
   },
   {
    "duration": 297,
    "start_time": "2022-07-04T18:55:19.329Z"
   },
   {
    "duration": 4,
    "start_time": "2022-07-04T18:55:59.952Z"
   },
   {
    "duration": 4,
    "start_time": "2022-07-04T18:56:05.107Z"
   },
   {
    "duration": 4,
    "start_time": "2022-07-04T18:56:11.800Z"
   },
   {
    "duration": 224,
    "start_time": "2022-07-04T18:56:29.197Z"
   },
   {
    "duration": 4,
    "start_time": "2022-07-04T18:56:43.659Z"
   },
   {
    "duration": 4,
    "start_time": "2022-07-04T18:56:49.310Z"
   },
   {
    "duration": 11,
    "start_time": "2022-07-04T18:56:56.122Z"
   },
   {
    "duration": 3,
    "start_time": "2022-07-04T18:56:59.405Z"
   },
   {
    "duration": 5,
    "start_time": "2022-07-04T18:57:04.594Z"
   },
   {
    "duration": 7,
    "start_time": "2022-07-04T18:57:29.061Z"
   },
   {
    "duration": 57,
    "start_time": "2022-07-04T18:57:39.550Z"
   },
   {
    "duration": 15,
    "start_time": "2022-07-04T18:58:20.618Z"
   },
   {
    "duration": 11,
    "start_time": "2022-07-04T18:58:24.979Z"
   },
   {
    "duration": 17,
    "start_time": "2022-07-04T18:58:36.734Z"
   },
   {
    "duration": 10,
    "start_time": "2022-07-04T18:58:44.722Z"
   },
   {
    "duration": 13,
    "start_time": "2022-07-04T18:59:23.472Z"
   },
   {
    "duration": 10,
    "start_time": "2022-07-04T18:59:32.881Z"
   },
   {
    "duration": 9,
    "start_time": "2022-07-04T19:06:45.951Z"
   },
   {
    "duration": 9,
    "start_time": "2022-07-04T19:07:00.981Z"
   },
   {
    "duration": 10,
    "start_time": "2022-07-04T19:07:05.274Z"
   },
   {
    "duration": 1187,
    "start_time": "2022-07-05T07:27:00.624Z"
   },
   {
    "duration": 185,
    "start_time": "2022-07-05T07:27:02.901Z"
   },
   {
    "duration": 3,
    "start_time": "2022-07-05T07:27:03.584Z"
   },
   {
    "duration": 54,
    "start_time": "2022-07-05T07:27:04.529Z"
   },
   {
    "duration": 41,
    "start_time": "2022-07-05T07:27:05.839Z"
   },
   {
    "duration": 13,
    "start_time": "2022-07-05T07:27:07.184Z"
   },
   {
    "duration": 13,
    "start_time": "2022-07-05T07:28:09.425Z"
   },
   {
    "duration": 6,
    "start_time": "2022-07-05T07:29:22.498Z"
   },
   {
    "duration": 20,
    "start_time": "2022-07-05T07:29:23.416Z"
   },
   {
    "duration": 509,
    "start_time": "2022-07-05T07:29:26.673Z"
   },
   {
    "duration": 276,
    "start_time": "2022-07-05T07:29:28.609Z"
   },
   {
    "duration": 7,
    "start_time": "2022-07-05T07:29:34.337Z"
   },
   {
    "duration": 40,
    "start_time": "2022-07-05T07:29:35.409Z"
   },
   {
    "duration": 3,
    "start_time": "2022-07-05T07:29:43.154Z"
   },
   {
    "duration": 20,
    "start_time": "2022-07-05T07:29:49.185Z"
   },
   {
    "duration": 17,
    "start_time": "2022-07-05T07:29:50.498Z"
   },
   {
    "duration": 17,
    "start_time": "2022-07-05T07:29:51.249Z"
   },
   {
    "duration": 9,
    "start_time": "2022-07-05T07:29:55.937Z"
   },
   {
    "duration": 9,
    "start_time": "2022-07-05T07:30:00.321Z"
   },
   {
    "duration": 919434,
    "start_time": "2022-07-05T07:43:25.999Z"
   },
   {
    "duration": 5,
    "start_time": "2022-07-05T08:01:05.796Z"
   },
   {
    "duration": 12,
    "start_time": "2022-07-05T08:01:15.022Z"
   },
   {
    "duration": 118,
    "start_time": "2022-07-05T08:01:30.659Z"
   },
   {
    "duration": 41,
    "start_time": "2022-07-05T08:01:37.646Z"
   },
   {
    "duration": 38,
    "start_time": "2022-07-05T08:01:41.421Z"
   },
   {
    "duration": 55,
    "start_time": "2022-07-05T08:01:53.438Z"
   },
   {
    "duration": 19,
    "start_time": "2022-07-05T08:02:09.246Z"
   },
   {
    "duration": 19,
    "start_time": "2022-07-05T08:02:28.991Z"
   },
   {
    "duration": 56,
    "start_time": "2022-07-05T08:02:48.370Z"
   },
   {
    "duration": 5,
    "start_time": "2022-07-05T08:03:23.379Z"
   },
   {
    "duration": 11,
    "start_time": "2022-07-05T08:03:41.200Z"
   },
   {
    "duration": 6,
    "start_time": "2022-07-05T08:03:42.430Z"
   },
   {
    "duration": 13,
    "start_time": "2022-07-05T08:03:54.266Z"
   },
   {
    "duration": 8,
    "start_time": "2022-07-05T08:03:55.294Z"
   },
   {
    "duration": 209,
    "start_time": "2022-07-05T08:04:41.874Z"
   },
   {
    "duration": 12,
    "start_time": "2022-07-05T08:05:00.319Z"
   },
   {
    "duration": 9,
    "start_time": "2022-07-05T08:05:01.487Z"
   },
   {
    "duration": 5,
    "start_time": "2022-07-05T08:05:33.024Z"
   },
   {
    "duration": 3,
    "start_time": "2022-07-05T08:05:43.174Z"
   },
   {
    "duration": 9,
    "start_time": "2022-07-05T08:05:48.035Z"
   },
   {
    "duration": 12,
    "start_time": "2022-07-05T08:06:06.704Z"
   },
   {
    "duration": 16,
    "start_time": "2022-07-05T08:06:07.535Z"
   },
   {
    "duration": 13,
    "start_time": "2022-07-05T08:06:40.788Z"
   },
   {
    "duration": 9,
    "start_time": "2022-07-05T08:06:41.215Z"
   },
   {
    "duration": 7,
    "start_time": "2022-07-05T08:06:54.815Z"
   },
   {
    "duration": 7,
    "start_time": "2022-07-05T08:07:17.712Z"
   },
   {
    "duration": 13,
    "start_time": "2022-07-05T08:08:11.436Z"
   },
   {
    "duration": 7,
    "start_time": "2022-07-05T08:08:11.567Z"
   },
   {
    "duration": 1186,
    "start_time": "2022-07-05T08:29:53.904Z"
   },
   {
    "duration": 71,
    "start_time": "2022-07-05T08:29:55.092Z"
   },
   {
    "duration": 3,
    "start_time": "2022-07-05T08:29:55.164Z"
   },
   {
    "duration": 46,
    "start_time": "2022-07-05T08:29:55.168Z"
   },
   {
    "duration": 33,
    "start_time": "2022-07-05T08:29:55.217Z"
   },
   {
    "duration": 8,
    "start_time": "2022-07-05T08:29:55.252Z"
   },
   {
    "duration": 13,
    "start_time": "2022-07-05T08:29:55.262Z"
   },
   {
    "duration": 10,
    "start_time": "2022-07-05T08:29:55.276Z"
   },
   {
    "duration": 43,
    "start_time": "2022-07-05T08:29:55.288Z"
   },
   {
    "duration": 396,
    "start_time": "2022-07-05T08:29:55.333Z"
   },
   {
    "duration": 152,
    "start_time": "2022-07-05T08:29:55.731Z"
   },
   {
    "duration": 6,
    "start_time": "2022-07-05T08:29:55.885Z"
   },
   {
    "duration": 54,
    "start_time": "2022-07-05T08:29:55.893Z"
   },
   {
    "duration": 3,
    "start_time": "2022-07-05T08:29:55.950Z"
   },
   {
    "duration": 14,
    "start_time": "2022-07-05T08:29:55.954Z"
   },
   {
    "duration": 18,
    "start_time": "2022-07-05T08:29:55.970Z"
   },
   {
    "duration": 36,
    "start_time": "2022-07-05T08:29:55.989Z"
   },
   {
    "duration": 17,
    "start_time": "2022-07-05T08:29:56.027Z"
   },
   {
    "duration": 11,
    "start_time": "2022-07-05T08:29:56.046Z"
   },
   {
    "duration": 924265,
    "start_time": "2022-07-05T08:29:56.058Z"
   },
   {
    "duration": 5,
    "start_time": "2022-07-05T08:45:20.324Z"
   },
   {
    "duration": 13,
    "start_time": "2022-07-05T08:45:20.330Z"
   },
   {
    "duration": 12,
    "start_time": "2022-07-05T08:45:20.345Z"
   },
   {
    "duration": 55,
    "start_time": "2022-07-05T08:45:20.359Z"
   },
   {
    "duration": 38,
    "start_time": "2022-07-05T08:45:20.415Z"
   },
   {
    "duration": 2016,
    "start_time": "2022-07-19T10:33:54.008Z"
   },
   {
    "duration": 77,
    "start_time": "2022-07-25T08:47:51.719Z"
   },
   {
    "duration": 524,
    "start_time": "2022-07-25T08:48:00.134Z"
   },
   {
    "duration": 9,
    "start_time": "2022-07-25T08:49:43.295Z"
   }
  ],
  "kernelspec": {
   "display_name": "Python 3 (ipykernel)",
   "language": "python",
   "name": "python3"
  },
  "language_info": {
   "codemirror_mode": {
    "name": "ipython",
    "version": 3
   },
   "file_extension": ".py",
   "mimetype": "text/x-python",
   "name": "python",
   "nbconvert_exporter": "python",
   "pygments_lexer": "ipython3",
   "version": "3.9.5"
  },
  "toc": {
   "base_numbering": 1,
   "nav_menu": {
    "height": "46px",
    "width": "184px"
   },
   "number_sections": false,
   "sideBar": true,
   "skip_h1_title": false,
   "title_cell": "Table of Contents",
   "title_sidebar": "Contents",
   "toc_cell": false,
   "toc_position": {},
   "toc_section_display": true,
   "toc_window_display": false
  }
 },
 "nbformat": 4,
 "nbformat_minor": 5
}
